{
  "nbformat": 4,
  "nbformat_minor": 0,
  "metadata": {
    "colab": {
      "provenance": [],
      "toc_visible": true,
      "include_colab_link": true
    },
    "kernelspec": {
      "name": "python3",
      "display_name": "Python 3"
    }
  },
  "cells": [
    {
      "cell_type": "markdown",
      "metadata": {
        "id": "view-in-github",
        "colab_type": "text"
      },
      "source": [
        "<a href=\"https://colab.research.google.com/github/ccwu0918/F0713-CPlusPlus/blob/main/C%2B%2B_Chapter07.ipynb\" target=\"_parent\"><img src=\"https://colab.research.google.com/assets/colab-badge.svg\" alt=\"Open In Colab\"/></a>"
      ]
    },
    {
      "cell_type": "markdown",
      "source": [
        "# 班級: 資工一  學號: 13913001 姓名: 吳佳駿"
      ],
      "metadata": {
        "id": "rog13y74sFA4"
      }
    },
    {
      "cell_type": "code",
      "source": [
        "!pip install nvcc4jupyter"
      ],
      "metadata": {
        "id": "jo8etxlmfJ8W"
      },
      "execution_count": null,
      "outputs": []
    },
    {
      "cell_type": "code",
      "source": [
        "%load_ext nvcc4jupyter"
      ],
      "metadata": {
        "id": "ezALi0PVfRUC"
      },
      "execution_count": null,
      "outputs": []
    },
    {
      "cell_type": "code",
      "metadata": {
        "id": "GaS0D8MY-cF_"
      },
      "source": [
        "!nvcc --version"
      ],
      "execution_count": null,
      "outputs": []
    },
    {
      "cell_type": "markdown",
      "metadata": {
        "id": "3_8odoHmArJr"
      },
      "source": [
        "#**Chapter 7: 再談函數**\n",
        "\n"
      ]
    },
    {
      "cell_type": "markdown",
      "metadata": {
        "id": "oRU_4dlny9_A"
      },
      "source": [
        "#7.1 參照與函數：prog7_1 (Page 7-2)\n",
        "下面是簡單的函數的傳值範例："
      ]
    },
    {
      "cell_type": "code",
      "metadata": {
        "id": "NQXFPNADy9_E"
      },
      "source": [
        "%%cuda\n",
        "// prog7_1, 函數的傳值\n",
        "#include <iostream>\n",
        "#include <cstdlib>\n",
        "using namespace std;\n",
        "void add10(int,int);\n",
        "int main(void)\n",
        "{\n",
        "   int a=20,b=50;\n",
        "   cout << \"before calling add10(): \";\n",
        "   cout << \"a=\" << a << \", b=\" << b << endl;  // 印出a、b的值\n",
        "   add10(a,b);\n",
        "   cout << \"after called add10(): \";\n",
        "   cout << \"a=\" << a << \", b=\" << b << endl;  // 印出a、b的值\n",
        "   // system(\"pause\");\n",
        "   return 0;\n",
        "}\n",
        "\n",
        "void add10(int i,int j)\n",
        "{\n",
        "   i=i+10;\n",
        "   j=j+10;\n",
        "}\n"
      ],
      "execution_count": null,
      "outputs": []
    },
    {
      "cell_type": "markdown",
      "metadata": {
        "id": "ormq1SDZcOU5"
      },
      "source": [
        "#7.1.1 參照的基本認識 ：prog7_2 (Page 7-5)\n",
        "下面的程式是下面的程式碼是參照的使用範例："
      ]
    },
    {
      "cell_type": "code",
      "metadata": {
        "id": "w69oQey-cOU6"
      },
      "source": [
        "%%cuda\n",
        "// prog7_2, 參照的認識\n",
        "#include <iostream>\n",
        "#include <cstdlib>\n",
        "using namespace std;\n",
        "int main(void)\n",
        "{\n",
        "   int num=5;\n",
        "   int &rm=num;\t\t                   // 宣告rm為num的參照\n",
        "\n",
        "   rm=rm+10;\t\t\t               // 參照rm加10\n",
        "   cout << \"num=\" << num << endl;\t   // 印出num的值\n",
        "   cout << \"rm=\" << rm << endl; \t   // 印出rm的值\n",
        "   // system(\"pause\");\n",
        "   return 0;\n",
        "}"
      ],
      "execution_count": null,
      "outputs": []
    },
    {
      "cell_type": "markdown",
      "metadata": {
        "id": "_ggAty2UdEjb"
      },
      "source": [
        "#7.1.2 傳遞參照到函數：prog7_3 (Page 7-7)\n",
        "\n",
        "下面是是以參照的方式傳遞到函數所撰寫而成的範例："
      ]
    },
    {
      "cell_type": "code",
      "metadata": {
        "id": "7aCkiwArdEjb"
      },
      "source": [
        "%%cuda\n",
        "// prog7_3, 傳參照到函數\n",
        "#include <iostream>\n",
        "#include <cstdlib>\n",
        "using namespace std;\n",
        "void add10(int &,int &);\n",
        "int main(void)\n",
        "{\n",
        "   int a=20,b=50;\n",
        "   cout << \"before calling add10(): \";\n",
        "   cout << \"a=\" << a << \", b=\" << b << endl;  // 印出a、b的值\n",
        "   add10(a,b);\n",
        "   cout << \"after called add10(): \";\n",
        "   cout << \"a=\" << a << \", b=\" << b << endl;  // 印出a、b的值\n",
        "   // system(\"pause\");\n",
        "   return 0;\n",
        "}\n",
        "\n",
        "void add10(int &i,int &j)\n",
        "{\n",
        "   i=i+10;\n",
        "   j=j+10;\n",
        "   return;\n",
        "}"
      ],
      "execution_count": null,
      "outputs": []
    },
    {
      "cell_type": "markdown",
      "metadata": {
        "id": "rqmR_jkNdos7"
      },
      "source": [
        "#7.1.2 傳遞參照到函數：prog7_4 (Page 7-8, 7-9)\n",
        "\n",
        "下面是是以參照的方式傳遞到函數所撰寫而成的範例："
      ]
    },
    {
      "cell_type": "code",
      "metadata": {
        "id": "r6Bi4sZgdos8"
      },
      "source": [
        "%%cuda\n",
        "// prog7_4, 參照的傳遞\n",
        "#include <iostream>\n",
        "#include <cstdlib>\n",
        "using namespace std;\n",
        "void print(char,int &);\n",
        "int main(void)\n",
        "{\n",
        "   int i,count=0;\n",
        "   for(i=0;i<3;i++)\n",
        "      print('*',count);\n",
        "   cout << endl;\n",
        "   for(i=0;i<5;i++)\n",
        "      print('$',count);\n",
        "   cout << endl;\n",
        "   cout << \"print() function is called \" << count << \" times.\";\n",
        "   cout << endl;\n",
        "   // system(\"pause\");\n",
        "   return 0;\n",
        "}\n",
        "\n",
        "void print(char ch, int& cnt)\t         // 自訂函數print()\n",
        "{\n",
        "   cout << ch;\n",
        "   cnt++;\n",
        "   return;\n",
        "}"
      ],
      "execution_count": null,
      "outputs": []
    },
    {
      "cell_type": "markdown",
      "metadata": {
        "id": "n1-HDB9Lgtdc"
      },
      "source": [
        "#7.1.3 傳回值為參照的函數：prog6_5 (Page 7-10)\n",
        "\n",
        "下面的程式是傳回值為參照之範例："
      ]
    },
    {
      "cell_type": "code",
      "metadata": {
        "id": "7dE3v3fhgtdc"
      },
      "source": [
        "%%cuda\n",
        "// prog7_5, 傳回值為參照\n",
        "#include <iostream>\n",
        "#include <cstdlib>\n",
        "using namespace std;\n",
        "int &max(int &, int &); // 宣告函數原型，其傳回值為參照\n",
        "int main(void)\n",
        "{\n",
        "   int i = 10, j = 20;\n",
        "   max(i, j) = 100; // 將max()函數傳回的參照值重設為100\n",
        "   cout << \"i=\" << i << \",j=\" << j << endl;\n",
        "   // system(\"pause\");\n",
        "   return 0;\n",
        "}\n",
        "\n",
        "int &max(int &a, int &b)\n",
        "{\n",
        "   if (a > b)\n",
        "      return a;\n",
        "   else\n",
        "      return b;\n",
        "}"
      ],
      "execution_count": null,
      "outputs": []
    },
    {
      "cell_type": "markdown",
      "source": [
        "#7.2 函數的多載：prog7_6 (Page 7-10)\n",
        "\n",
        "下面是引數型態不同的函數多載的使用範例：\n"
      ],
      "metadata": {
        "id": "gPWMs0wWXLKu"
      }
    },
    {
      "cell_type": "code",
      "metadata": {
        "id": "OWBjfmJbhTFg"
      },
      "source": [
        "%%cuda\n",
        "// prog7_6, 引數型態不同的函數多載\n",
        "#include <iostream>\n",
        "#include <cstdlib>\n",
        "using namespace std;\n",
        "int add(int, int); // 以多載的方式宣告函數原型\n",
        "double add(double, double);\n",
        "int main(void)\n",
        "{\n",
        "   int a = 10, b = 20;\n",
        "   double x = 2.3, y = 3.5;\n",
        "   cout << a << \"+\" << b << \"=\" << add(a, b) << endl;\n",
        "   cout << x << \"+\" << y << \"=\" << add(x, y) << endl;\n",
        "   // system(\"pause\");\n",
        "   return 0;\n",
        "}\n",
        "\n",
        "int add(int i, int j) // 自訂函數add()\n",
        "{\n",
        "   return i + j; // 傳回i+j的值\n",
        "}\n",
        "\n",
        "double add(double i, double j) // 自訂函數add()\n",
        "{\n",
        "   return i + j; // 傳回i+j的值\n",
        "}"
      ],
      "execution_count": null,
      "outputs": []
    },
    {
      "cell_type": "markdown",
      "source": [
        "#7.2 函數的多載：prog7_7 (Page 7-13, 7-14)\n",
        "\n",
        "下面是引數型態不同的函數多載的使用範例：\n"
      ],
      "metadata": {
        "id": "PDkI3bOa8jlX"
      }
    },
    {
      "cell_type": "code",
      "metadata": {
        "id": "3GD6c5Wz8jlY"
      },
      "source": [
        "%%cuda\n",
        "// prog7_7, 引數個數不同的函數多載\n",
        "#include <iostream>\n",
        "#include <cstdlib>\n",
        "using namespace std;\n",
        "void print(void); // 以多載的方式宣告函數原型\n",
        "void print(int);\n",
        "void print(char, int);\n",
        "int main(void)\n",
        "{\n",
        "   cout << \"calling print(), \";\n",
        "   print();\n",
        "   cout << \"calling print(8), \";\n",
        "   print(8);\n",
        "   cout << \"calling print('+',3), \";\n",
        "   print('+', 3);\n",
        "   // system(\"pause\");\n",
        "   return 0;\n",
        "}\n",
        "\n",
        "void print(void) // 沒有引數的print()，印出5個*\n",
        "{\n",
        "   print(5); // 呼叫26~33行的print()，並傳入整數5\n",
        "   return;\n",
        "}\n",
        "\n",
        "void print(int a) // 有一個引數的print()，印出a個*\n",
        "{\n",
        "   int i;\n",
        "   for (i = 0; i < a; i++)\n",
        "      cout << \"*\";\n",
        "   cout << endl;\n",
        "   return;\n",
        "}\n",
        "\n",
        "void print(char ch, int a) // 有二個引數的print()，印出a個ch\n",
        "{\n",
        "   int i;\n",
        "   for (i = 0; i < a; i++)\n",
        "      cout << ch;\n",
        "   cout << endl;\n",
        "   return;\n",
        "}"
      ],
      "execution_count": null,
      "outputs": []
    },
    {
      "cell_type": "markdown",
      "source": [
        "#7.3 引數的預設值：prog7_8 (Page 7-16)\n",
        "\n",
        "下面的程式是引數的預設值的使用範例：\n"
      ],
      "metadata": {
        "id": "BZZJj4w4jBOf"
      }
    },
    {
      "cell_type": "code",
      "metadata": {
        "id": "plLDjQnPjBOf"
      },
      "source": [
        "%%cuda\n",
        "// prog7_8, 引數的預設值\n",
        "#include <iostream>\n",
        "#include <cstdlib>\n",
        "using namespace std;\n",
        "double circle(double, double pi = 3.14); // 函數原型,第2個引數預設為3.14\n",
        "int main(void)\n",
        "{\n",
        "   cout << \"circle(2.0,3.14159)=\" << circle(2.0, 3.14159) << endl;\n",
        "   cout << \"circle(2.0)=\" << circle(2.0) << endl;\n",
        "   // system(\"pause\");\n",
        "   return 0;\n",
        "}\n",
        "\n",
        "double circle(double r, double pi) // circle()函數的定義，計算圓面積\n",
        "{\n",
        "   return (pi * r * r);\n",
        "}"
      ],
      "execution_count": null,
      "outputs": []
    },
    {
      "cell_type": "markdown",
      "source": [
        "#7.3 引數的預設值：prog7_9 (Page 7-18)\n",
        "\n",
        "下面的程式是引數的預設值的使用範例："
      ],
      "metadata": {
        "id": "EJoUeWdV9fQo"
      }
    },
    {
      "cell_type": "code",
      "metadata": {
        "id": "rtYkkPbr9fQo"
      },
      "source": [
        "%%cuda\n",
        "// prog7_9, 引數的預設值\n",
        "#include <iostream>\n",
        "#include <cstdlib>\n",
        "using namespace std;\n",
        "int sum(int start=1,int end=10,int di=1);\t// 函數原型\n",
        "int main(void)\n",
        "{\n",
        "   cout << \"sum()=\" << sum() << endl;\n",
        "   cout << \"sum(2)=\" << sum(2) << endl;\n",
        "   cout << \"sum(2,8)=\" << sum(2,8) << endl;\n",
        "   cout << \"sum(1,15,3)=\" << sum(1,15,3) << endl;\n",
        "   // system(\"pause\");\n",
        "   return 0;\n",
        "}\n",
        "\n",
        "int sum(int start,int end,int di)   \t\t// 計算數值的累加\n",
        "{\n",
        "   int i,total=0;\n",
        "   for(i=start;i<=end;i+=di)\n",
        "      total+=i;\n",
        "   return total;\n",
        "}"
      ],
      "execution_count": null,
      "outputs": []
    },
    {
      "cell_type": "markdown",
      "source": [
        "#7.4 前置處理器的指令 #define"
      ],
      "metadata": {
        "id": "7z00mVLd9suH"
      }
    },
    {
      "cell_type": "markdown",
      "source": [
        "#7.4.1 靜態區域變數：prog7_10 (Page 7-20)\n",
        "\n",
        "下面的程式是使用#define的範例："
      ],
      "metadata": {
        "id": "TOFTDbQKkSVT"
      }
    },
    {
      "cell_type": "code",
      "metadata": {
        "id": "1Vm5XfrxkSVT"
      },
      "source": [
        "%%cuda\n",
        "// prog7_10, 使用#define\n",
        "#include <iostream>\n",
        "#include <cstdlib>\n",
        "using namespace std;\n",
        "#define PI 3.14\n",
        "void peri(double),area(double);\n",
        "int main(void)\n",
        "{\n",
        "   double r=1.0;\n",
        "   cout << \"pi=\" << PI << endl;\n",
        "   cout << \"radius=\" << r << endl;\n",
        "   peri(r);\t\t                // 呼叫自訂的函數\n",
        "   area(r);\n",
        "   // system(\"pause\");\n",
        "   return 0;\n",
        "}\n",
        "\n",
        "void peri(double r)\t            // 自訂的函數peri()，印出圓周\n",
        "{\n",
        "   cout << \"peripheral length=\" << 2*PI*r << endl;\n",
        "   return;\n",
        "}\n",
        "\n",
        "void area(double r)\t            // 自訂的函數area()，印出圓面積\n",
        "{\n",
        "   cout << \"area=\" << PI*r*r << endl;\n",
        "   return;\n",
        "}"
      ],
      "execution_count": null,
      "outputs": []
    },
    {
      "cell_type": "markdown",
      "source": [
        "#7.4.1 靜態區域變數：prog7_11 (Page 7-21)\n",
        "\n",
        "下面的程式是使用#define的範例："
      ],
      "metadata": {
        "id": "_0RNwi2Y-VQq"
      }
    },
    {
      "cell_type": "code",
      "metadata": {
        "id": "Q3Hn1fuR-VQq"
      },
      "source": [
        "%%cuda\n",
        "// prog7_11, 使用#define\n",
        "#include <iostream>\n",
        "#include <cstdlib>\n",
        "using namespace std;\n",
        "#define WORD \"Absence diminishes little passions \\\n",
        "and increases great ones.\"\n",
        "int main(void)\n",
        "{\n",
        "   cout << WORD << endl;\n",
        "   // system(\"pause\");\n",
        "   return 0;\n",
        "}"
      ],
      "execution_count": null,
      "outputs": []
    },
    {
      "cell_type": "markdown",
      "source": [
        "#7.4.2 為什麼要使用#define"
      ],
      "metadata": {
        "id": "lMuj_7VD_ObX"
      }
    },
    {
      "cell_type": "markdown",
      "source": [
        "\n",
        "\n",
        "* 可以增加程式的易讀性，即看到識別名稱通常就能夠明白所代表的意義\n",
        "* 需要修改所定義的內容時，只要在相關的 #define指令中更改即可\n",
        "* 在某些場合可增加程式執行的速度\n"
      ],
      "metadata": {
        "id": "7VX8KsY9BnE_"
      }
    },
    {
      "cell_type": "markdown",
      "source": [
        "#7.4.3 const修飾子：prog7_12 (Page 7-23)\n",
        "\n",
        "下面的程式定義const來宣告變數的範例："
      ],
      "metadata": {
        "id": "YBZRgvHclmow"
      }
    },
    {
      "cell_type": "code",
      "metadata": {
        "id": "YnmlOfn9lmow"
      },
      "source": [
        "%%cuda\n",
        "// prog7_12, 使用const\n",
        "#include <iostream>\n",
        "#include <cstdlib>\n",
        "using namespace std;\n",
        "int main(void)\n",
        "{\n",
        "   const short int max=4;\n",
        "   int i;\n",
        "   for(i=1;i<=max;i++)\t\t// 計算i的平方\n",
        "      cout << i << \"*\" << i << \"=\" << i*i << \"\\t\";\n",
        "   system(\"pause\");\n",
        "   return 0;\n",
        "}"
      ],
      "execution_count": null,
      "outputs": []
    },
    {
      "cell_type": "markdown",
      "source": [
        "#7.4.4 const修飾子：prog7_13 (Page 7-24)\n",
        "\n",
        "下面是利用巨集定義函數的範例："
      ],
      "metadata": {
        "id": "aSJ8q7u7_uuu"
      }
    },
    {
      "cell_type": "code",
      "source": [
        "%%cuda\n",
        "// prog7_13, 使用巨集\n",
        "#include <iostream>\n",
        "#include <cstdlib>\n",
        "using namespace std;\n",
        "#define POWER i *i *i\n",
        "int main(void)\n",
        "{\n",
        "   int i;\n",
        "   cout << \"Input an integer:\";\n",
        "   cin >> i;\n",
        "\n",
        "   // 計算並印出i的3次方\n",
        "   cout << i << \"*\" << i << \"*\" << i << \"=\" << POWER << endl;\n",
        "   // system(\"pause\");\n",
        "   return 0;\n",
        "}"
      ],
      "metadata": {
        "id": "d_2_u7Ue_tex"
      },
      "execution_count": null,
      "outputs": []
    },
    {
      "cell_type": "code",
      "source": [
        "%%writefile prog7_13.cpp\n",
        "// prog7_13, 使用巨集\n",
        "#include <iostream>\n",
        "#include <cstdlib>\n",
        "using namespace std;\n",
        "#define POWER i *i *i\n",
        "int main(void)\n",
        "{\n",
        "   int i;\n",
        "   cout << \"Input an integer:\";\n",
        "   cin >> i;\n",
        "\n",
        "   // 計算並印出i的3次方\n",
        "   cout << i << \"*\" << i << \"*\" << i << \"=\" << POWER << endl;\n",
        "   // system(\"pause\");\n",
        "   return 0;\n",
        "}"
      ],
      "metadata": {
        "id": "OvT9z6AUE9KZ"
      },
      "execution_count": null,
      "outputs": []
    },
    {
      "cell_type": "code",
      "source": [
        "!g++ prog7_13.cpp -o prog7_13"
      ],
      "metadata": {
        "id": "i6PFBFZFE9KZ"
      },
      "execution_count": null,
      "outputs": []
    },
    {
      "cell_type": "code",
      "source": [
        "!./prog7_13"
      ],
      "metadata": {
        "id": "QEd5UCxwE9KZ"
      },
      "execution_count": null,
      "outputs": []
    },
    {
      "cell_type": "markdown",
      "source": [
        "#7.4.5 使用有引數的巨集：prog7_14 (Page 7-25)\n",
        "\n",
        "巨集也可以使用引數，如下面的程式所示："
      ],
      "metadata": {
        "id": "9UUjsC5amj5K"
      }
    },
    {
      "cell_type": "code",
      "metadata": {
        "id": "4eL9rdiGmj5K"
      },
      "source": [
        "%%cuda\n",
        "// prog7_14, 使用巨集\n",
        "#include <iostream>\n",
        "#include <cstdlib>\n",
        "using namespace std;\n",
        "#define POWER(X) X*X*X\n",
        "int main(void)\n",
        "{\n",
        "   int i;\n",
        "   cout << \"Input an integer:\";\n",
        "   cin >> i;\n",
        "\n",
        "   // 計算並印出i的3次方\n",
        "   cout << i << \"*\" << i << \"*\" << i << \"=\" << POWER(i) << endl;\n",
        "   // system(\"pause\");\n",
        "   return 0;\n",
        "}"
      ],
      "execution_count": null,
      "outputs": []
    },
    {
      "cell_type": "code",
      "source": [
        "%%writefile prog7_14.cpp\n",
        "// prog7_14, 使用巨集\n",
        "#include <iostream>\n",
        "#include <cstdlib>\n",
        "using namespace std;\n",
        "#define POWER(X) X*X*X\n",
        "int main(void)\n",
        "{\n",
        "   int i;\n",
        "   cout << \"Input an integer:\";\n",
        "   cin >> i;\n",
        "\n",
        "   // 計算並印出i的3次方\n",
        "   cout << i << \"*\" << i << \"*\" << i << \"=\" << POWER(i) << endl;\n",
        "   // system(\"pause\");\n",
        "   return 0;\n",
        "}"
      ],
      "metadata": {
        "id": "wunM-RMHFOM7"
      },
      "execution_count": null,
      "outputs": []
    },
    {
      "cell_type": "code",
      "source": [
        "!g++ prog7_14.cpp -o prog7_14"
      ],
      "metadata": {
        "id": "UlkmS76zFOM8"
      },
      "execution_count": null,
      "outputs": []
    },
    {
      "cell_type": "code",
      "source": [
        "!./prog7_14"
      ],
      "metadata": {
        "id": "JcTfUmU4FOM8"
      },
      "execution_count": null,
      "outputs": []
    },
    {
      "cell_type": "markdown",
      "source": [
        "#7.4.6 巨集括號的使用：prog7_15 (Page 7-26)\n",
        "\n",
        "將前例的POWER(i) 改成POWER(i+1) <錯誤的範例>："
      ],
      "metadata": {
        "id": "mnZ1x2WvAc23"
      }
    },
    {
      "cell_type": "code",
      "metadata": {
        "id": "LpIQ0UFtAc24"
      },
      "source": [
        "%%cuda\n",
        "// prog7_15, 使用巨集\n",
        "#include <iostream>\n",
        "#include <cstdlib>\n",
        "using namespace std;\n",
        "#define POWER(X) X *X *X\n",
        "int main(void)\n",
        "{\n",
        "   int i;\n",
        "   cout << \"Input an integer:\";\n",
        "   cin >> i;\n",
        "\n",
        "   // 計算並印出i+1的3次方\n",
        "   cout << i + 1 << \"*\" << i + 1 << \"*\" << i + 1 << \"=\" << POWER(i + 1) << endl;\n",
        "   // system(\"pause\");\n",
        "   return 0;\n",
        "}"
      ],
      "execution_count": null,
      "outputs": []
    },
    {
      "cell_type": "markdown",
      "source": [
        "#7.4.6 巨集括號的使用：prog7_16 (Page 7-27)\n",
        "\n",
        "將前例的POWER(i) 改成POWER(i+1) <正確的範例>："
      ],
      "metadata": {
        "id": "fawSl3VLAyQx"
      }
    },
    {
      "cell_type": "code",
      "metadata": {
        "id": "5m9eDku8AyQx"
      },
      "source": [
        "%%cuda\n",
        "// prog7_16, 修改 prog7_15\n",
        "#include <iostream>\n",
        "#include <cstdlib>\n",
        "using namespace std;\n",
        "#define POWER(X) (X)*(X)*(X)\n",
        "int main(void)\n",
        "{\n",
        "   int i;\n",
        "   cout << \"Input an integer:\";\n",
        "   cin >> i;\n",
        "\n",
        "   // 計算並印出i+1的3次方\n",
        "   cout << i+1 << \"*\" << i+1 << \"*\" << i+1 << \"=\" << POWER(i+1) << endl;\n",
        "   // system(\"pause\");\n",
        "   return 0;\n",
        "}"
      ],
      "execution_count": null,
      "outputs": []
    },
    {
      "cell_type": "code",
      "source": [
        "%%writefile prog7_16.cpp\n",
        "// prog7_16, 修改 prog7_15\n",
        "#include <iostream>\n",
        "#include <cstdlib>\n",
        "using namespace std;\n",
        "#define POWER(X) (X)*(X)*(X)\n",
        "int main(void)\n",
        "{\n",
        "   int i;\n",
        "   cout << \"Input an integer:\";\n",
        "   cin >> i;\n",
        "\n",
        "   // 計算並印出i+1的3次方\n",
        "   cout << i+1 << \"*\" << i+1 << \"*\" << i+1 << \"=\" << POWER(i+1) << endl;\n",
        "   // system(\"pause\");\n",
        "   return 0;\n",
        "}"
      ],
      "metadata": {
        "id": "Ps1i946mEuNh"
      },
      "execution_count": null,
      "outputs": []
    },
    {
      "cell_type": "code",
      "source": [
        "!g++ prog7_16.cpp -o prog7_16"
      ],
      "metadata": {
        "id": "rDR2py9MEuNi"
      },
      "execution_count": null,
      "outputs": []
    },
    {
      "cell_type": "code",
      "source": [
        "!./prog7_16"
      ],
      "metadata": {
        "id": "G-Wq2PYgEuNj"
      },
      "execution_count": null,
      "outputs": []
    },
    {
      "cell_type": "markdown",
      "source": [
        "#7.4.7 使用函數還是巨集？"
      ],
      "metadata": {
        "id": "7np-9yLIBLZN"
      }
    },
    {
      "cell_type": "markdown",
      "source": [
        "\n",
        "\n",
        "\n",
        "* 使用巨集時可以代替簡單的函數\n",
        "* 程式裡使用到某巨集n次，在編譯時就會產生n段相同的程式碼，因此編譯後的程式碼會稍大\n",
        "* 巨集佔用的記憶體較多，但是程式的控制權不用移轉，執行的速度較快\n",
        "* 在複雜巢狀迴圈裡使用巨集，會比較容易感覺到執行效率的增加"
      ],
      "metadata": {
        "id": "iO2Gl00HBZLo"
      }
    },
    {
      "cell_type": "markdown",
      "source": [
        "#6.3.5 靜態外部變數：prog6_10 (Page 6-28)\n",
        "\n",
        "下面的程式可以認識靜態外部變數的生命週期與活動範圍之範例："
      ],
      "metadata": {
        "id": "JwSKl9mgna8s"
      }
    },
    {
      "cell_type": "code",
      "metadata": {
        "id": "cJ8uhsVyna8s"
      },
      "source": [
        "%%cuda\n",
        "// prog6_11, 暫存器變數 下面的程式是使用暫存器變數的範例\n",
        "#include <iostream>\n",
        "#include <cstdlib>\n",
        "#include <ctime>\n",
        "#include <iomanip>\n",
        "using namespace std;\n",
        "int main(void)\n",
        "{\n",
        "   time_t start, end;\n",
        "   register int i,j;            // 定義暫存器整數變數i與j\n",
        "   start = time(NULL);\t        // 記錄開始時間\n",
        "   for(i = 1; i <= 50; i++)\n",
        "   {\n",
        "      for(j = 1; j <= 50; j++)\n",
        "      {\n",
        "         cout << setw(2) << i << \" * \" << setw(2) << j;\n",
        "         cout << \" = \" << setw(4) << i * j << \"\\t\";\n",
        "      }\n",
        "      cout << endl;\n",
        "   }\n",
        "   end = time(NULL);\t            // 記錄結束時間\n",
        "   cout << \"It spends \" << difftime(end, start) << \" seconds\";\n",
        "   // system(\"pause\");\n",
        "   return 0;\n",
        "}"
      ],
      "execution_count": null,
      "outputs": []
    },
    {
      "cell_type": "markdown",
      "source": [
        "#7.5 前置處理器--#include"
      ],
      "metadata": {
        "id": "DBbyWF90XOi6"
      }
    },
    {
      "cell_type": "markdown",
      "source": [
        "#7.5.1 標準的標頭檔： (Page 7-28)\n",
        "\n",
        "下圖為iostream的一隅：\n"
      ],
      "metadata": {
        "id": "EIMs7iVToGB7"
      }
    },
    {
      "cell_type": "markdown",
      "source": [
        "![image.png](data:image/png;base64,iVBORw0KGgoAAAANSUhEUgAAA6UAAAKaCAYAAADGev+KAAAAAXNSR0IArs4c6QAAAARnQU1BAACxjwv8YQUAAAAJcEhZcwAAFxEAABcRAcom8z8AAP+lSURBVHhe7J0FmFXV+v/PzNBlK4qNiIqKSqd0d3d3SymIASgGFnaLhWI3ISLd3UjHNENM9/f/fvaZDcdxQO918Hfv/e/1PN9nn7Nj7bXe9dZ3rX328ckrXvGKV7ziFa94xSte8YpXvOKV/6Pyp6R0w954DXhhv1rcv0stJv2mFo/uVYuH9qv5pEMOmj1keDgAjxxRs8nhajo1Qk0fj1TTp6LVdHqMH08fM9j22eNq+twJ2xqm22f2PW3b6fb9GfYZns6GJ0+q6RMePHjwkNs4ZYj14MGDh/MA8y9PksNYjuPBgwcPuYUnzK/kmNO4vifrO/wpEOx73DAFWB1TjIM5sM+PAj4bX5tqmGx4xL6zn/MfNTx8wvjeMUO0mk2KUrMHbTvRtnxm38Mxfjxy3HBSzSeeUvP7otTxwcP6ZsnxLHaZc8mRlB6LTdP8tSf0wfwoDXn9qPK22yVfzZ3yNdgjX/O98jU7IF/TQ340PyxfS0Mr+9za0O6IfB3D5escIV+XSPl6RMvXO0a+PscU1MvAtt9xBQ04oaD+hr722Y4H9zmu4L4nzqDPGQSBnicV1OOk1efBgwcPuYlTCu4Z68GDBw+5jqCep+TrecJw3IMHDx5yBUHA8he4UfAf4Pof//FA7sR353NXQycXxtFAR/NTHQzt+HzMeJyBbXv7bvuDOtq57Q1t7Jw2tq+N8btWhhaG5lmf2dfGrmltx1tZW1vZ+U3MB9aIkq/OQSOrR/TO1xH6el6kDhxJyGKdZ8ofSGnkyVS9Oy9GtUbt0dUdtuuK3geUv3+MQoYkquB9KbpofIoum5iqKyal6krDNQ+n6vopqSr5WKpueTxFZZ5M1e3PpOluQ/npBttWeC5dFZ9PU6UX0lR5huHFdFXJAp8rsZ1xdlQyVHyBOjx48OAh95GT3/HgwYOHv4tK5C4ePHjwkNtwuJXfx4DK4LTvyfDvt+MVnk03PmZ4xsBnZ5vhoNz0DN1jxxzY/tOfjb+VywKf2eec+3SGyj6ZoTJPpOvWx9N1WzaUmWbbaWm6aUq6rns03ThihopPylCxsenKPyRZl/SK0tVNd6psq62a8vpR7T6UpMzMzCwGGkBK2Rd+IkVv/BStGqP2K3/jvfI1PGjsOVLBQ+KVd1ymijwoXfKwVHyydNVj0jVPSNc/Kd34jHTz89JtL0h3vCjd9YpU/jWpInhVqmSo/LpUxVDtDan6W4Y3pRoGtlVsH8fdc1xUDthfKQvudw8ePHjILQT6HQ8ePHjILeTkbzx48ODh7wA+BL+qYHC4lqGSgWMOpzK4+8u/LN1j/Owe42nO1lDO9pUzrnb3S8bZzoK7Z/hxF7wua19Zw532Hb53y7PG/Yz/lbbtafDdcKNxw6uNJ5aYanzRcPEjUoFxUlDvROOWkfJVO6Bb2+7Tw29GaKcR0/QMPxc9TUrDY4yQfhelasP3Kl+D3f7HcnvGKHhArIKHxilkVKLyj0lRkXGpKjouRRc8kKKLJ6XpkofSdakx4SumSFfaja983BoxzQirNejaLEBcr3vKjxuelm6aLpXMwvX2/TqOZ8G9BnA+1wYi8LgHDx48ePDgwcN/LJ4wWE50reVGHjx4+D8A9vdPIKd7Z0dO1/0buMZwtaGE1VkC8mfbq83XONzLuNM1hhL2HVxp57GYWJxFxUmZutJw1aMZKjElTVc+mqYrHk7X5Q9l6PJJtnXg/3zFxHQVn+hf6bzCjvth+x9O1WUPpeqSB1N10YRUXfwAME5ony+amGb70nXhWOOKo1IcFLvPuKNt8w1LVfCQVPn6pziPAAdX3afSbX7Tw29Ha+fhdIeLnialc9ecULVBO5Svxhb56v0mX4eDCuobruBBMQoacMyPgUZSB59QyCDDkBPKMzxWeUcmKO+oJOUbnaoCY9OVb1yG8o5LN2TY50wHBcdnKL8hL9v7M1TYUMjA53y2j2sKjs9UgfvtfM6z6/37DGMDYcc9ePDgwYMHDx7+C5B3tGGU5TUjPXjw8H8C7O+fQE73DkRO1/y7uM+4E74ly7/kGW28y3iSn3fZceNReYDxMmc7xjAiTXmGpCjPoGTlHZKofEPjlHdwnEIGxCukn6GvoTdIUEgf2987Tnnsex7297N9hjx9bV+/U/b5pJ3vfwdQSB9Dr+N2Pt9PKrh3rIK72+fOx/zockwhXW3bnXcLHXfeE+TrFCFfnd0KumOjSjXdqZc+978A6TQpnTk/WsWbbZDvnrXyNdspX5d98nU7KF/PI/L1OCpf96xtr3D5+kTK1zfK2O4x+QZa5YNPyTc0XsHDE+UDw9gmGYwNG4JG2HZE8mkE2/cg9/twPzgnaCTXGIYA2wcGZ8H5bPsHefDgwYMHDx48/BdgoGGA5UT9PXjw8I+jr6GPgcdGzye4Rz9DTm0AHMvNtlAP9fU1/9InwbYGI43OvQbYdpBhMNt4Q5wf/WPtXONrvOioW4zxvGj5OhuX62hob7yuraGNobV9b22ksZWBLfsc8D3MtqF+tDZOCFoZP+SFty3YGnjStonxx0b7bWtcsqmhmX1uYWh5wGDfm/8mX/2t8t2wXPluXKSxT+1xuKhDStfvjNWA5w7p8tZb5LvXSGlz23baa7CLO9rFoLNV1sVu0s1u2NOIaW9rIMS0n3WKVdTBxxU85ISRRxenFGQsPGhYfM4YGuvHsECctOsMA+xaE97v0M/Qx465b+P14MGDh1wDs3cePHjw4MGDh/8F+HoZIF+dDR0NHbK2uQnqBNyju/+ef2hLb/8bc31ds12Tva5/FU49vB3XeFgHYJ9BF0PPGOefTfjXk+CeUQ6Cehhn62bcjVVKSGULI5TNDU2N1zU+ZCQyC7xPqL7xv+yoa1ywrnHD7KizR77aRjLvBbvlq75DvmrbDba9d5sdN/JZl6dwbQsRBXU22/H18pVapEKl5qjNgJX6+ie7N6R04NTdyldtrfI0tIsbbTJGaye32SVfO7tZW7tJOwPEtItLTK0TPa1TrJj2sW3fCCOS1uGBJpSBrJ5mYZANwmBj5Kyk/g62b5AJ08XALAwyctvf0Nc+M4gApepl33tYfd2B3cODBw8echXmyzx48ODhvMCSQQ8ePPwz6GboanbXNUL5ekXqksFRunpktK4ZdUzXGq677+/jejD6DC4fGm334r7Gifg7TNrgtqWLcaRuESrcN0rF7bxrrC20I1faMipa14+M0vWjgNU9IloX9o9UMO3oxN9zhiuoc5iCOoUZeTUi2vaIQjodVdGe4bp8oLVncLSKszUOV7w/iNSV/cJ1Zd9wFQe9s9DH/Rz6R/Qy9DT0OGo4ouLdD+lKwyXt9yl/QyOnNTYYAV1rWyOhoPo6+aqska/CCvnuWqzgOxbowrLf68a7v/CT0maDjIRetdB/Ul07udEGBbXYqiCIqUNKjQV3zCKkXYzJdrOOGev29bVkrg9bI6SQyQHGyo1cOrDPvoHnIKV27PR5/SCi0Qarq7eBumH07oDC7G1Qnf8+9eDBg4dcBY7bHLYHDx48nBf4k0MPHjz8A+hoNmcE7MI+Yao9JUoPf35KM5cm6pOVf45Pwao/x2ywOlGfr0nSF4Zp38Sp5iPRKtID4mfomNWWDtaWjqG6bki4usyI0fM/xWlWtntmh9MGF9numxNmr0rQZ9aWLwwzFydq2DsndPNwI6Ptj8jX2tCOx2x5rPaQCrY7pLvHhNk5J/XygmS9tzxN7y0D6X4sTTNZpTp4b4lhsR0DS1xk7T8LZjpI0Yd2/VNfxqnpBCOnjYxjVoCEGiqttu0q+cotM0K6yPCzfGV+lK/4p/LlfSuLlA42Blv8e/nuthOqr5Sv/loFNdukoNY7TLi7/SumsO5eRib7xPmfjR6YKt+QND+GGoalyzc8448YmenHCBe2j+1Q24LBhgEpVi9/8Mrsgt0HEtqdbbaEEaZvg+vBgwcPuYoOHjx48HA+YAmhBw8e/hm0N7Q9ogt7HFGzxyP1ypxYLd6SotU707R2d7pt07VyR7pWbE/X8m3pWrY1XUtdbEnXkiwsDsCvm9K1cFPaGWxM0y8b0jRvXZrmrk3Rok2J+nVjgmZ8d1L1J0foQn7m2MbaYQhpd0TXDwrV4NeP6fOlCXbvVGuHtWVXulZltWW5tWWZtcVtB21y25G9LYs2n2nLr4ZfNqbr5w3pTlvmrUnW4k0J+n5lnMa/F6Nbh4UqX1t+62loekiF2hxUlbFhevrTSG1ZtUexW9YoaetyJW1epqRNS5W0cbGS1i9ykLxuYTb8ouS1YIEfawyr5xvmKXmVwdnOVfLyn5Sy7AelrPhJ4WvWaPYPh9TuwYO6rMEm45hGRu8yjnn3csNi+e74Rb7b5sh30xfGQd+Rr9ALflLaYtBS+a6YbSfbCVXtgnrrFNQUUrrTv0pqxDSk3RYFtVknXysjsC1t22aDHdtosBu1N3QwJvw7sM/Q0T4DzuFcF22z0G6zgjvvUHC3Q87ytn/p24hoVyOgXVwyao4dQsqMAwrnwYMHD7kJCxwePHjwkPuwhNCDBw/nH20OGT85pMJdDqvxlHC9NTfWSF6qvlqapue+SDUylqrHP0rRI++naOI7KRr/VrLGvJ6s0a/5MerVZI14OVnDDcNeTNaQLAx8Pln9nk1y0MfQa3qSuj6RpLZTktT8oVh1nBKp6R9H6LslMXr2q2O698FwFWhj7WlyUNf0P6JBr0bru5WJRl7T9P78NE3/LEVPfpKqKR+maNLMFE1429ryprUhqy33GUZaW2gHGGptGDojWYMNA6wtfa0NoM8zSer5VJI6T0tW60cT1XTicQ16JkLv/RilLxfHaOSbUSo50PKbhgeV10hp+THhenZ2hPav2yH9+pkyP3pMqW9NUOprY5Xy4iilPDdUKdMHKvnJ/kqa1kfJ03obein58R5Kfqy7kqZ2U9Lkrn482llJD7VX4qR2SnywrRIntlLi+GZKuK+h4obWUszQe3XS6js073t9/M1+tRi3T0VrrjcSaoT0TlZJl8hXxjhnqZ/ku+FT+a56Sb4LHs0ipb0WyXfhJ8ZcF8pXfbV8tdcruNFmI6W7jQgaWWy9SQXvfUmF7hisvKX6KaTUMOUpbbhl+BncOuLcCDzXwQiF3DxM+Uv3VeHy9yt/0x8VBCHtfuLMyujpFdKs2UYnefTgwYOH3EZOyaQHDx48/F1YctrWkmUPHjycX7Q6KF+jAyo55Khe+uGk1u5K1bfLM/SYEcCxRkBHvpakgTMS1f3pRLV7LFEtJxuReyhRjR9MUKOJCao/IUF17k9Q7fEJqjUuQfeOTVCNMQmqcl+CKo2IV/nh8bpraJzuGBinm/vG6Zpucbq4/Qld3OqoKg7Yralv7dV3y6L14EfHdU0Xs/26+9VwaoR+WJOgFdvS9d68NE0yQjz6jSQNe8WI5fOJ6vxkotpOtbYYqWzyUILTloaGegFtoR01rR3VRyeo8qgEVbC23DPM2jIkTmX6x6lk73hd2TlWF7SK1lXtDqjtxF166+uDmr34uFpOi1JQ3QO6uHWoRs48pR3bDkpLv1DKe1N1/Llxin5ylKKmDlbkxF4KH9NRYSNaK3RIcx0d2FhH+zcyNNTRvvV0tHdtHelVS0d63qsjPWrqSLfqOty5sg51rKBD7cvpUJs7dajZLTrQ4HrtqXmFtlS6UJsa3aB9U/tp+7yfNWN2pEp1Mk55ixHS2yGmhluMe940V74bjZRe+Zx8RR7IIqXdltqXz4y5/ipftdUKqrVBwQ22KKjVHiOF4QpuuUpFyvTR5ReX0rWXldVNNzbWbaWb6o7bmunO25r/AXcEwP1+J+eWsS2w71xf8roGuubim3XpFXepQLUXFMTvRnsmZBHRAPB4Hc9G5+jwPXjw4MGDBw8e/hPhkVIPHv4RtPS/Nbbc+HAt2JKkzfsy9dxXaZowM1mv/pCiV75P0fTPk/XwB8ka+3ayRryerKGvJGvQi0ka8EKS+j2XpN7PJqnnM0nqYeg+PUldnkpSxycS1f7xRLU28tjsET9prG2EEbJadnCsbugaoQsbbVajEWv149JwfbAoXnf2Ne5Se796v3pMu0PT9dPqDD3yYYoe/yRZb/yYohe/SdG0T5M18b1k3fdGsoa/mqzBL/2xHbSh29NJ6vqUEVjaMS1RbawdLSCxk/zktaYR6Ioj442gntTlrffrmlZrNeqZLVq29aRGvHNS+YwcX9M+Qi/OT1bC4e3KmP2Ujj9/v058NEMnZ7+q4x88p5jXpij62fGKenKkIh8bqsjJgxXxyEBFPNxPEZP6KALSOqGnIib0UMT93RQ+trPCjMSGjmij0KEtFAqJ7VNXR7pX06EO92h301u05J5iWtHyNh345BXNX3VClYYdle/WFfKVMdy+Sr6bjZiWXGCkdLaR0uflK/ZgFintHkhK15ggN8nHG5Osc85bpFquVv6b++iGq6qqftUB6tPjZY0e/qbuH/2uHhjznh4YO1MTxr6fBfs+hv3v2uffY+K49/XgeM6ZqZFD31T3Ts+petl2Kn5ldYVUfMZPRnudjZR68ODBw3lCjsmkBw8ePPxdeKTUg4d/BFmktPz94fpla5LW7M7QY7NS9MA7SXpnXorenpeqGUYGIYYPGlEdZ8R0tBFCHpUd+rKRwheT/aTweVYxk9THyCHEsJtDTv2EEGLa/JFEI6aJqjU+QZVHxurW3hEqVG+9qvVdoTnLw5wXDt0zIFy+WvvU97Vj2mWk9PMl6Rr/TrKemJ2imT+n6o2fUvXMFyl66H1rw5tGkF9L1hBrw4AZyUZKk9X7mWT1PE1I7f5GSDsZMWaFt/UUyDFtSFD9iQmq+4AR07HxqjDslIq32adLGq7QgMc3aN3uU3rgo1MqUOeArm4bqZeNlCbu36TUmY/o2DNjdfLT13Tq63d14pOXdfztJ3TshYmKfvo+RT0xXFGPjzByOkwRU4ycPgo57a/Ih/oqMougRjxg5HR8V4WNbKujg5vp6MBGCmVVtU8dHelWVXvb3KVf7yqqX+tdq8MfPaPlm06q+n0mk9tWy3enEdI7jGuWss83LjF8Kd9VL2QnpZ/LV9YO8r8x/KdM413+pfCOx+Rrtl55bx6iMre20oCez+uN19fo22+3a9683zR37l7NmbPftgfs+wHNn7/PsMfBz/N/s20W5u3NOn7Izt2vL7/crheeX6xOrR7QtSWbKaiCNYjHdLOvlPKiAJJG3mZ1NmRPMP8v0c6QUxvZn9P5/xegLYHtzOmcsyGn/v3VvrnnZa/jr17v4u+0wYOHHHHUgwcPHs4PciSrHjx4yFW0Oixfw0Mqd3+E5mxK1pKt6XoY0vd6krNK+vJ3KXqKldIP/YR01OvJGvYKZNRPRFmd7GEksNuTiQ4J7GwktL2RQB6vbT05wchoghpPOvOYb3UjghVHxOq2PhEq2nC97u2/QnMdUpqkewZFylf7oHq9elxbDqbr41/SdJ+149GPkvU6K6XfGjmeZe14y+5vZLT/C0ZE7f7dHQKapA6P+3+z2urRRLV42Eio+2iv3RsSeq8R4mqjDWMSVMPaUX10vMoPPaWr2u3X5U1WaPC0DVpvpPT+j2JVwNpRok2UXpiTovjdG5TyppFPI54nPnjeiOmrOvH+c4p59VFFTx/tf5T3USOgjwxwiGi4kdBwVknv766IcV38K6T3dVDYqHYKG97KebzXeaS3ew0dZduzpo50qWKk9G4tuudCLW54g47MetZI6SlVHxUl363GMcuuM1K6Vr6bDSVZLf3GSOkM+YqeJqVGRlkpLbvMSOkm+epul68JpNQGuMNx+7xB+W4eqrJ3ttKEMS9r4a97dPjwCUVHxykiIk779p3Qtm0RDvbuPaajoScUajh4MNKOhdu5x+zzcW3bHqXNmyO0a/cx7doVpe+/26CBvSbqhtJN5StvDWJF1CWlgNc68+euDU3ZGgTC2lUf2OdGhpY4frvWJbD/F+DekKMm1hba6LQvC3ynDy0Czs1+/T8Fp53WxmYGV36t7DP7z9Yu91hrO68xfQMBfaMuSOHZrgccQz78Ue/v5GOfqfMvt8GQUxua/oU2ePDgwYMHDx48ePjfAzmq5bTlHojSnI3Jzptq7zfyOXBGkpFRI6Szkx1SCCEdweOyLxoZfN7I4HQjg0ZEHRI6NUmtH01Qy4cT1MxIYCMjgfUfiFf9++NVZ1y8ao6JNzIYryoGHpktP+yUQ0ovarxBdQetckjp56sgpdHy1TlkpPSENhspfX9emkN+x72d5DxC/JgR0keNHD//VYrenpOqN35M1atGml/6JkUzvk7Rc7b/mc9TnTY/+Umyptn5j32crKmGydYHiDWPIfe3vtUaH697hsbrrkEndXX7/bqqxSoNf3KT1u86pXEfxKlArUNGSqP9pHTnOiW/Ok5Rj/RTzBtTdfzdpxTz2mTFvDTJWS099ckrOv7GNEVMMCI6oq3CR3c0dFLYiDYKG9bS+b1p6MAmRkKr60i3aop4oLuin3vAiOxAhfavp8NdKulQh/LOSuni8pdoadNSOvLp81q20UjpyGNGSo1jlt2QRUrXZJHS7/wvOjpDSo2MFvnyDCmtkwMpLTVEd9zWWI888IK2bD2s1NQ0JScnKTEh0cjpKe3efURbtx4wAhqpxMREO5ZohDVcBw4ctOPROnbspLZvP6w1a37Tvv0RiomJ08JfNqtf9zG6tmRDI6Uv+EkopDRrhTTEiGnxfuEqNTBCN/aP0HV9w3VD/0jdOjxGt486oVuHHVMJU4b8KCPklVcw/9OkxL0fxNiI1SXdwlRyYJRuG3FcZayNZUYd1y3W3uut3QUg3c2zCFhO9fyVtrvn/ZVzA8H5kLasdl7YNUw3mUyvNvkV4r9gO0ZknZutbVzXxmDyzdPuqK7sFa5bhh5z5H/byOO60fpalLckt7R+uZMD2a9nS5/teFEb05IDIk0+MY58qOvK3hHKxzlnG0O+Q2g5bqS0eM9w3Tw42pEtcqYNF/O2Zu4PPHLqwYMHDx7+U0BM8uDBw/kFeWaDIypvpHTuJj8pHfNGsrpPT9RDRuAAj9BCSAfNSHYez2VltMvjSeowJVFtHklU80mJagwRHZ+g2qxC3pegqqOMhBoBrTScR2TjVc629wAjgncP8ZPSS5tuVP2hqzRvRZg+M1J69wAjpbUPqXcWKZ05N815c+/QV5JOP7L78Acpzl+7hMdkKswQeixTR6MzdSQLh6MydSgyw8HBiDM4kIXDtv+LpWlqYgT65j5xuq3fSV3b8YCubblaI57e5Dy+O+79OOWHlLaN1gyXlL40WpEPdFX08xMU/eJERU0freNvPq7ElT8rLfSgkresUcyLDytssJHQvg2MhDZT6KCm/sdze9XWEV5u1KKMHW+q2G/eV8q+nUpctUBRjw3W4fZ360DLMtrT6k4trni5lja/VUdmz9DS06R0cwApXW2E1HhnyW+NlL4YSEqNrRb7Ub67Vxop3WiC3GZE9DcjCEY0OkFKNyrvTYN1y011NXHM00ZKD+n4iVht2bJHmzf/pkMHQ/Xbbwe1bt127dy5T7GxpxQXd0K7du3U6jXrbZ+dcyhUW+38FSs2a/uOvTpyJFpffrlS7VsM1ZXX1vOvlLI6ym9KIaetj6pQj3D1sAF94+d4vfNLgl6dm6C3f0nSR8tSNWtlqg18ip75IV51Hj6mghAWVtBQzJyCwvkERKjREV1tpHnsh6f03pJkfbIqTbNWpOqT5SmatTxZb/2SqBbTY1SwQ7iCm9s17fzE27meNkP8AOQre/2B4Lh77r/SV+5lhC/YZHRJ93D1fu2kPlycoKe+NQObcFzB7YyUtuRc60v265ofVf6mR1V+bJQmfxGr2SutTyvT9KmNwbu/JqrzjOO6rEuoghpDCAP65V5vbQ5qckRFO4Wpk507c3GSM36zVhlMNlO/jFP1B6KVlxXXllyfQx02viFWR6lhEXrks1h9sDRFn1gbPrE6kO3Qt06qeI8wu4/V0Tbb9R48ePDgwcP/BYjTgXHbgwcP5wfwgPpGSscbKd2Y7Py/6KjXktVhWqLzYiMw8nX/37zwu02HkE6DkCap9cNGSB80QvpAouqNS1Ct0QlGohJUeXiC89ZdZyVycLzKGu4c4kfZwbzoKE639o3Upc02qcGwVZq/0kjpSiOl/Y2U3muk9BU/KX3XSCn36/tCkka/ZaT4pWTn72A270uHhv3bZeXOdDV/NFHX94zTLX1P6bpOB3Vtq9UaOX2T8/ju70lpquJ3rFXyCyMVMbq9op4a5SByyiCd/PB5pR7a49SZmZqixHVLFf30OB3tWVdHutbQ0T717HMtHelQXgeb3qzQfvV1avZrSgs/4lyTHhOlE+9N1+G2d+pAk5u0p+XtWlzJSGkLSOmLOZBS9zelSw1fZ/tNaQ8johcukK/cOvmqbzFSutMI3l6/I+1yUr6mm5Sn5GBdf01NjRo6RWvW7DGieVDvvvuTXn/jW61csUW/7d6vFcvX2ud1OnL4iA4ePKAFC5Zo9uw5+uqrhVq10n/Ojh27tWnTdi1fvk3PPvuj6tbor0uvqq+gClmklJVSh5SGqqCRp4FvnNTy3Sk6kZip2KRMI8OJWr7yoL76ZpN2bjuo47GJmrU0UXUmRCsfpMaIi/N46vkmJW79Lex+DY/oip4Ruv/jOB2JyVBE5CktW7pX3321QXO/26D1q/foxKkELf4tXV1fTNRVfYzotzESSLCinixS6wCjcvdnvx/jQR85D/LFo6x/tZ8mk6BWR3VdTyOkL57Q0l2mdCmZ2heepI6Tdyl/XVOURgcCVkwNtMPuUcCIZrUxUXr++3gdiEzWnt/C9d33W7V00U5FRpzQwm2J6jXjpEr0MiNsF2Ww8ct236u6GSF95rh+tfseOxGvJcv26qfvN2vn5kPaHxqvN+YlqNr9x5W/s9XRNks2p9tgpNgI9V3DIx0SfeRYmnbvidb8udu09NftOnQwWhv3p2jw27G6uv8xBdEGiGl2gu3BgwcPHjz8kyCGeaTUg4fzj2yk9JcN6Rr2crLzYiBeJAR4oRH/9dlrerK6GiHtaIS0zSNJagEhnZCo+uMT/Suko4yQjoCQJuiuYX4SWmYQSNBtBrZ3GCm9w0jpLX2jdMlZSGkfSOmBdL31U5o6P5Gk7s8kaZi1o4+14f53UrR2998jpUu3pauJEerresbr5n6ndO25SOlcSOkaJT07TOEjWilq6hBF8abdR/or5tXJSlyzWJkJcU69mSnJSlj+syKnDteRbjV1uEMFHWl3jw63LOP8RczJWS8pLTLUf25ampK3rFa0EdzDrW93SOseO29xpcsCSGmskdIY+W4zjnmncc7bjW+W4jely86Q0tMrpT02GSldaKTUtjV2yVd3j5HSff5B7nLKiNAmhRgpveKKKhrQd5KWr9ipLVv26fnnPtcTT32sX35Zrc1GNOfO+cWIwkL9tosV1G366OPv9dT0T/Xo1I/0yexfdfhImBISTmrb1l167/2fNWjoh6pYrq8uuqqRgiq+aKQ0POs3pbbtEK6Q9mEq2S9cD350SoePZzqd373jqHr1/1RVyz+rMff/pF17jin8ZIY+XpqkGqy2tbFr2wMjJa2MvPG4bLMsuISPx2gJEnx39/PdJX6n9xvORXDtWF4756ruYRr9QawOHc9QfGyCPnx/mdq0eEM17nlOtWq9rgEjvtPajeGKS0jVh/MjVWn4PoU0MvlSvxHwIl3DdFWvcF3VO1zFukcopFOk1R9Iqmzbzu5l7b7E7sW5lxsJLtDVzjvbY7eBoP1G1vM1PapWj8cYiUxRSppfnseMVPYc+r0K3vGVfLV32Hib0rBSyXXIorER2f4Reu77eB21/p2MOaVnnv5Z1Ss9p9adPtLKlfuUnJqhRdtT1PrxCAU1NWKLzGk/922OjI6q8ZRjmrcpWSlmfxvXH1CHzu+rZoXn9fTjCxQWdlLRpzL0+tw4XdPPrm100CGip8ejyWEV7xGqR2bHKsLGWhnpeuPN5apXa4Y6tHlLP8zZoYyMTO0Oz1CX56OUt6W1oemhM8TWgwcPHjx4+L8CsciDBw/nFzy+2/DM47sL1qc7j+k2N9I25KVkBwNfMELIC4WeTFKnx5PUbnKSWvEioYmJavhAoury/6S8QGgkLzGK191GSO8YaiTUCOgtAxNUOgu3Qkxt3+1DYlW6T6QubrpJ9Yet1ryV4VmP70Y5vynt89pxbTqQptd/SFX7qfwvaZIGvcibdZM19s0UrdiRrlTLx0/FWz5+KvP3OJmpKBcnMhVp2wjbhhsf4niq5dO/bE5XY2v/tb3iVKrfSV3T6YCuMVI6Yvpmrdsd+0dSun21kqYPUviQZorkjbpThyrqkQGKnNhbx56fqEQjoplJCQ4/yDCCmrB8vvPCo8Nt79bhZrcqtF89/wppdLhzTmZaqpLWL1X0Y4ONtN6pwy1u0aFWZbS31e1aXPFSLW1+S9bju0ZKR52Qr8w2I6WbbWt8s+SGrMd3IaWBj++yUnrBL0ZK7cSaRkjr7T1DSjvFOqQ0yEjphRdXUNcu47R42TYdPBCqr79aqK+/WagVKzfqhx8X6fU3PtGXX/5kpHS3Nm3cpLfe+VJjJ85U596vaPITX2n3nsN2txRt3LRbDzz8qeq1eEW33d5PF17dRMGVXpYPktU7yYiRES3QxohNvSOq+3C0VjpL3BmaN3+nrrtzhnxBT6tYxV/U/4UIrfgtVZGxmc7sRM1HYxTU3q7lEVnIEauQrewzj6bykh2UliARSD45xuoeK7QodiBZdfcHElM+89tHq+96Htl9/5QRonSlJCTqtbdW6C4jzL58D8tX7A35bvxO+WsvUcvJhzT1zR0afN/Xuq3uLOWtuthkfFB5Okep7tRjemluvF6ZF6/Wz57Uhd1NmZ2XIrlt9d/r6gERGvzWCb04J16TjKCVGWcEsrURcNpipPWsxJT2mqEWbHZUg18/odATRuyyysF9kerW/QMVLPmufLW22BiY0gSS0vpHVGZ4pL7fmOKcf+RApFp1+Fg+32TlufsrvftDmLM/KuqURjy2RsEVFsjXwHSoA4TZ2mZkOL/JsddLJ3Q4xn/fz7/cpGLXPm11PKfmA1Zp66FE25uhZWuO6PZ2poeVVvnHqTM6YG1ocFjX9QvXrOWcZxqUlKj+g7+w6x9Rwes/0GMfoFeUDE1+eZMKVf3ZCPZ264NdTxvORdg9ePDgwYMHDx48/Hcj60VH5Sf4SenPG9KdVdHGD1rOaGSUz/2eZZU0SV2NHPKG2zaPJqnFpEQ1YZX0/kTVHpugGkZK+Q1peSOlZY2UljFSeqsR0JuNjN40wA8+O8TUIaURfySlAy2Pr2uk9HU/KX3t+1S1mcxfuiQZKU5W1yeSNc5I6epd6ToUmakvl6bplW9S9cq3vPAoVS/Z5xlfpei5L1M0/YtkPfVZiqYZHv0kRRM/TNYMO2fHkUz9uiVdzaYk6mojpTcZKb06OymdaaT0XiOlbQJI6dMDFT6wkfNW3YjJgxxyGjG6g8KGtlT0k2OUsGy+MhP9xDQzMV7xC79V+PiuCh3QUCc/elHpUf68X5kZSly7SNGP9tXhRtfq4L2X6nDzm3W4DaS0jJHSS7KR0pNGRnfId4cR09u2Gj/KIqU38fbdwBcdnSalxlxr/mZE0Ahp0/1GSoycdI4zgrRFQaWGqPBF5dWo2XDN+nK5tu/Yp18Xr9aCX1dr9tfLNGHyxxow8hW98OoXWrlyvVasWG0E7UsNuO9d1Wz5qjoO+EiffrVS27bv1cdfrFSrnjN1a/UXdU3pfip6dVOFVHlFQZCxPilGSI3QQEjaGqFoFqoW02K09iCkNF2//rJTd9d6W75S1onqh1S813E9832C4pMzlZaWpgffOWiEhN/F7tf1g6LV6KlT6vxynFo/f0rlHohWCCSzUagu7hmh6kZ2mzwRo8qTYnRh72NGhCJVzPZXnRSt5k+y/7gu6WvE7/QjqVmAtBlpDLJ6qk84pkU7/YRt145Q1W3+jnyFJ8t3/UdGyHbauaw8Wt1GsENqLleBm99R/pvfVEg1k3fDQ8rfKUbjP451rqc8/9lRXdPaxuHe3XYvk0EHiJndr0Go7hkd7aw2ZmZKew7HqeVDu2y8NpuMDlv77Dx3hTgQjKGR8gK2rTomSi/9FK+o2ABSeiBKXXvNsnZ9aKTUiFxXU5oOWfVwbYOjumVolBF+/yrn0QMR6tr7M/kufkcXtd+tD5czLtKhvaEaPPwLBUNueVGW9cvX0cax6VHlN9Lf9fmT2hXuv++3323WtWVfl++Gn9T+sWPaFm07M1M1f85m3V79TVPaH/0TCV1MbrShaagu6RGlke/HadXOOH33w2a1Mp3yFXlFF9y7UY/96PYnVZOn/KQipW0Mqq+3+9v1nWzsHIdl9XjwcFag8x48ePDgwYOH/0q0tlhueXn5CdEOKZ2/Pl19jQDWeyBBvZ8xMviMEdKnk9SDv13ht6RTz5BS59FdSOm4BFUfk6DKo+JVzohp2eFGSocl6JYhCSplJPRGI6M3GiktCTG177cOjtXNRkovNFJab+gZUnrPQMs/6x4xUnrCIaUQzRaPJKil3a/7U8nqaOR0/FvJWvdbhtbsytDwl5JUxwhx3XGJqnd/gu61z9XuS1DFkQnOS5XuNGJ8m7Xh2r4JuqR7vKpaW79dna7FWzPU0sj1Vb3idUPfk7rKSGkJI6XDn/aT0vFGSgtAStse04x5WaT0yX4K61fPIZoR/O/og72d/x0NH97GiGdTRU0drsTl852VUkpG7EnFLfhSJz97Q6lHDzr7lJ6u5E0rFD1lgBHSa3So5sU63PR6HW5RSodb3aK9LW/VkgoXaVnz0jo6+4UzpPRW40V3QEyNlN5sXK3UKsMPRkpfNlI6MZCULpTvnixS2uCAfC0PWVJvRMc672u1TUGlh6nAJVV0Z5UBGjbpU70yc4FeeGuOHnrmW3Ua/onKNX9D5Vu8ph6jPtb0V+fY8Z818cmv1ar/LJVp/JHuajlLXUd9rvHTvlGPsV+pbLOPdGWVd3RpqQEqVKKxQqq+ouDu0QrqnWqENNrIhBEaSGmLMLV88rjWHYR4pGvRwp0qX9eIT5mfjLiF6/LusXrim0SdSspUZnK8Hn1qsfLcMksXt9iuSZ8kaYkRxg2/xWnt7nh9vCxJ5e4/rjyNolT5/pP6Zn2KdoWm6oNFcbpzwFH5Kh1UqRHH9PmqZB2IytDsFcmqPt5ITT0jNU1MFi2tTS1t28rQyNrWIFw1Jx7X0t1piFFbNx9SzUZGmK9+3+S4VUHdYo3knTI5HncIryPXOtuMjBog/XXNgFpEa+xH8c71rPQ9/8oyXVXWCOLty41o2nUdjdy1sGvvDVNZa9u8zanOmfv3hKpVr6/ku+4Lq8fqas+5ZgTt7dxAtDHUD9f1/aL1wg8JOnrC/9iuWxxS2vtTFSg9y0ipkdyu1uYOEDm7rq3B+shbjr9YnaJ0u/TI/jB17PGp6ct7Ktp2v95f4a/vwJ6jGjj0MwXfaISwjilcZ1M+2tM0XPlbRKj7C6e0J8JPHr/+ZqOuKvOatX2+2jx2UtuO2c6MVM0xslmmqpFVh5SajKmjvbXF2pGn83FdOfCkyvbboTvrfqTiNz6uvNd/oNI9D+iVxVJyWoaOR8ZoxMjZKlTyDSOlpssd7XrIMeQ+u1w8ePDgwYMHDx48/G+gtT83rzAhxnLlFM1dy8uFElVzbLy6PZXovGiI/wHt9mSSOhuRaz8lUa35H9CHjJQ+6P//0dr8/6gR08pGTMsZKbzTSOFtIxJU2ojpTUMSdePgRN0wyI+Sg23/kDiV7BOlYk02q87QNZrrkNIUI6UnnBy/7+untGl/ul78JsXuEa8mkxKc35a2m5qosW/6SSmrpYNmJKm63a/GfYkOIa1inyvYve8anqDbh8brFrvXTUaCi/dOUJEuRpiNvH61ykjptgy1MIJ9Re94I6ynVLzjIV3Zcq2GuaT0fSOltQ+rhHGEGfPTFL91pRIe66nQnjUVPrqDQ0Yj7u+piPFGSkd3UuigZs5fvkROHqT4X79TxqkYy88zlBF/SunHo53Hdfm9KYT02OS+OtryJh2uc6mONCqhI81v0JEWN+pIy1La16K0lpa7QMubllLop8//npSW3S5feR7j3SLfbevlu2We8SbjBKdXSnvZwYuW+k+qZQSn8WH/MnhHIwTdEo0g7FDwbSOVv/i9uqxMH93e+BnV6PSyanZ9S3e3+0DXNPpMF9b+VpfV/1a3tP5a1Xp8rTr9v1PVXt/rlnY/6MomP+uKRvN0Q/Ov7fjnKtnyW13e4EddXGu2ipUerPxXGymt9opCjJSG9ElVUFcjM12MmEKomkcYKT2pdYcCSGk9Iz4QlzrhurJvnJ75IdlIqRQbc1LjHvhOpSu/pQkv7dGusAxt3hqm995brnnztikmNk2zV2eo4nhTjCcTtTUUQpWpNRtCVaP1AmPqi3T7mGjZJU7ZtD1KrQavMEZvBNHIma+VKZmRSF9Lk0sja1uDSFWfcEKLdvpJ6TYjpfVbzjRZfWNkzAhnr2QjRdaXjnZNB2AEqZPVwcuj2trnOlZP0ygNmxlvrbCSma7pT8/VlTfMkK/UQjvfCG1nO7+5nVcjQncMO67vN6QpLV3aueWAmrY2AnwpJNDILo9Zd4GY2rncD3QytDPUiVSZITH6Zp2fWAaWg/uj1KXXp8pf+hP5au/2T0K4bW5vaMjftxy3a1ONMmeR0q5GYAu/rQta7dP7yzOdth/4LdRI6ZcKLmmEvF4WuTUi6WsWpQImr54vndI+I/rI++uvN+jy0i+bvOeqzZST2sJKqUNKt6hM9bdM3nNt7K0f1EFb6Afksg0y+80U+hcj7T/q9s7r9djsU9pyVNq995imPb1Ad9z9lPLe+LqC6psud4nzyy9QJh485AQmPzx48ODBgwcP/51obXl5owhVmHjcIaU/rU5Tl2mJzqpnR9t2NTLYJQvO70mNlLYyUtocUjopUfUnJqr2hETVMGJaxYhpeSOmdxo5vG1Uom4eYSR0mJHRoYm6zsjpdZBT2940NE7XGSktYqS01pA1mrMikJSGGymN1QYjpfwfaT3+7/SBBLV/LEmtJydq9OvJziopLzsa/kqS6o5PMCSqgbWh9v3WDvtcxQhq+dFGTo2s3m7tuN7ue2mfBFWdlKTv1hkn2p6hZk8kO/tK9IvV5UZKr2ixVkOfyiKlHyaoQL1Qleh0UjN+NlK6ebkSHu2qo10qK3x4a0WM7WLo6sfozgob2c55TPdonzqKeLCXYn+cpfRjEZak+wtv5k1a/bMR0l5GSI2A1rtUR5tcrdAWN+ho8+sM1+uoEdP9zUtq2T1FtKJJSYV+8pyWbjJSOtpy+tuNH9yzQ76KRk7vMnJaZp18pX+S75rX5btwahYp7WsHL13pP6nOIfmahBoBM/DYaTcjVq13Kei24cpXvKoK3NRZ+e96RPnumqr85Z9WvoqvKH/N2SrYeLEKt1inws1WqWCjhSpYf44KNZynIs2XqVjrjSraepMKNF2tfI2W23aFijRbomL1P1fh2/or7zWNjJS+aqQ0xkhput3TyExXSIgli82jjZSeMlIK9QkkpT84sxBXDYjTcz/5SWl0xEmNGPu9GrWZqdVr/a8p3rz5qPM7z59/2eV8p5Zx75jSDtqtZz87rp2h6dq5I0yTH12gJt2X6/6PY7X/uLRnX4xmPDdPNWo8r3vqf6lezx3XoA8y1O+9dA1+P02dX0zTHWOSVW1ysuZs9a8Abt9ySI3afqCQ2781smmkvocReggRpKqzybIrpPGk8nU9qbJjT6nL9HgNfSdFs9ZkOISPldL5Rp4nPLJInR86oHsmZ+ryYcmq+2ic+s1I1NSv0rXJCFi6nRx2JFovv7ZcgyauUftn4nXt2Awj80YoIaHcj0Sb8Wt/TFf3jtGQN+O1bGeS1m8O1w9zd2n3HpYn/aS0WduZ8l35nnz3mrL0sjZ3hjzbtRBpI+HF+8RowkcJ2nIwTXExJ/TpJ2vVa/RqjXonVquyVvL37grVgCFfKfimD+Wrb8SRVWJIcuto5bFxrDHxhD5YlGTjlK79e45o4tQl6j9pj96Yl6pwGztmX35wSKkR7TvmGWk3uVEHcnNIqW3pG06ncbgR6Ag1evSklu3NcMZ0w8bDqlTnTeUpOk1Bd32n4Damx6xSQ4yd6z14OAeYgPHgwYOH3IYzIe3Bg4fzDhYzGkeq4oN+UvrjqjR1eCxR5YfFqe2UBHV8PFGdphkhBayUTk10yGGLhxPV1IhpgwcTVceI6b2Gqg/YdeMSVXZMosqMNlI6KkklRyTp+uGJutbI6bWQU8MNQ+NVwkhpgcabde/gNfppeRYpHXRSvnoR6vuGn5Q++0WKahnBrGVkl9VZXr408tVkrd7pJ6UjX0tyVmrrGyFtbG2pZ22hHdWtHZWMnN5DW8YaMbb7XzHACOujyfp+Q4Z+NVLa5MlkXdw3UVf2i9MlHQ/rsubrNPjJLVavkdKPklSgQYRKdI7VjAVGSjctU8JDnZy/dgkf0lzhozsqfEwnI6R+hN/X3vk/0iNdqypsVBud+vItpWe9ZZfCKmnish8VOa61jjS4TEfqXmiE9FqFtb7R2YY2B9frQLPrtOzuAlrR6HqFznrWv1I6xjjKnXvkK79bvgqGO4xz3rJevpuNlF77pnwXP+WSUjt42erfk1KezebR0R4pRhB2KujWQcpzRTnlv6WL8lR9XkE13lFQzbcVUv0N5a//sQq3W6IiPfaoYM+jyttpt4KbLVJwk/kq0GGDivQ8oCK9j6hg90Mq0P2wCnbbq8LtjZg2fF8Fb+umvNcZKa3xpkJ6nFBQn0w/mWA1sY0RihYxRkrjfkdKK9Y3UnqHdaJWhC7rkaBp3yTrpBGb+FMJGv/wz2rR6SMjo35SGhWdoJVrjmjZykPauTtaO7aHaczEn3TRbbNUrstOvbMoQ+HHErVnV5iWbojS7rB0nUzM1DsfbVCFctNV4urJ6jNmgRZssjbsidXyLce0YVeMvlocrY7TQlV7Urh+2mg3t7Jl4wHVaGCk6sbP5GtkcuxthN5ZvTQ5tja0MGLVIFqF2seoy0vx+mp1ojbuPqVDYfE20vTPyGZErLZsDddXC8PUd0a4yowwwvxZrBZti9dmu/+JU8nOuYmJqQ6xXL0xTLMWRKrG/aHK08LGrJXdg5cV8cgw92wXo64vx2vrkQxFnkjVd3N+04NTF2j+L3ud+0VFntSosd/pmmo/KK9DpG28IXIQU7YdjitP2+MqPfCkxn2YqA37krRvX4TmLTmoX9cdU1iMv++HDkRq+Ggjg5DSeqZ03Uz5GEf+59b6e1GnGN37UKzz36ShUSbLdYc0f8lRbdp9Uoks/WZmaKGN7Z33vmtjO990zvrRPcHkZ31xiGVWe3gkt3W86U+ihr+XoYOnpFgb9/dmrtAlN0yX7wp+y7tPQd0gpHYu19EGDx7OBezFgwcPHnIbOfkbDx485D4s3/U1PaaKk045P3X7flW62hrpvHtwnFo+ygplopHUJLWZnORfHX0wQQ2MCNa9P1G1xieompHGSoZyrJCOTtBt9xkhhZQaIbx5jJHS+5J03chEXT3CYOTwaiOn1xgpLW6kNJ+R0hqDXFKaqnuGxDn5ft834x1SOv2zFOfx3OpWb/OHE9R0kuWwr/yelNabaKTUiChv061n7atl59Sw75WNmN5tbbzTUHJUoi4fnKTqU5L1XRYpbWSk9IJ+ibrMSOkFHQ7rIiOlg55wSWmykdJolegSn0VKlyrhwfbO23RDBzZW+Kh2RkQ7KOK+jooY1V5hg5oqtC+/N+2iU1+8pZT9O5WZlOiQUX5jygJSWuRRxc/9WFGjmymsSXGF1r9IYc2uUnhLI6fNrzZSerUONLlay8rm1YqG1yj04+l+Umqk2lf2gHHNvUZKf5PvduOepTcZfpbvOsv9L7UcHkLRoo+dcJmx1cp2Ql0jU02NlPKCGRL6npDSHUZK+yvP1ZVVqNIIFenwg4r0WmNkc7UKd5xvmGekc4OKDj2iYqOOqdjggyrcaYEKtvnaiOoa+35AxYaHq9iISEOU871Il19VuOHLKnBra+W9voFCjIwE9zqloL4yMmOEprOhTax8zU6q2bR4rTngJ6ULF2xX2Xvfsk78KF/NaF3ZO0XTf0xTXCqkNF5jJ81Vk7bva42RHnjekdBTeu+DDbpv3I8aOuYHDR31jarVeFa+i17WhbW26uGvMxTlf6nr6RKfkKyJD/+kYpdOU76bPlX9h45q6qxoPf/KSk1//FvNmP6DJk78TjVafqG6vRZq7soo57qdWw+qVmMjzDd8IV99CF6qkTojRu1PKqjNSeVvd0r5W8eqcPdE1XwsVRPeCNdLr67UogVbjJP5Xxi01kjmm28s18Tx36pRly90Q7MF6jLtsKa9vlszP1ij/b+FKiM9Q8dOJOmr73bomafma+z4b3Rnoy+Vr8Yqu4+ROVZoOxkpa22Ezu49YXay0tIzlZqcovUbj2jWZ5u0eYv/GeW0lFT9unifej62R5d2t/Fux//E2rVZ7fZ1ggRaPc1O6dqhSc7/kT7+4mY9NOl7Pf/cAu3c6X8t9MH9ERo+6uusx3dNn7oYIe9oRgmJBM1PKKh9nKo9kqSH3gzVlCeW6MFJ3+qLL9br5EkGINPGdofuqMHju5BSu8apw9rC9RBM2tTC5Gjtav1kvL5dn66DEcn66tutatrqbRW66ikFl1/iX93vxW+Ts4gpf2vkwYMHDx48/NMgDhGPPXjwcH7RzvK9pieMlMYbKU3TtyvT1dIIXpkBcWr6UILaTElUuylJav0opDRBTQwNJyUYGeSx3QT/Y7uGCkZQ7xqXoNuNjJYZbzBSePN4I6VjjZSONjJqZPUqI6ZXGim9cki8LusdpZBGW1R10NosUppmpNTy8IYnjJQmOaT0yU9SVGmEkd6R/t+VNrJ78p+p2UlpQ1669KiR0kesTdb2GkZOKz+YqHJ2/p2GkkaSrxhmpPQxI6UbjRMZKW34VLKKGCm92Ehp4faHVazZOg1wSemsVBWwdpTokuQnpRsXK+GBNjrc6nYd7Vdf4SNaO8Q0YmS704Q0ckJPxX7/sdKz/vYlI+GUkjYamV38ne3L+m/ShFgl/vKZYsY0VVjDSxRWt6jCm19ppPQqhRpBPdDoSi2/I1gr65cwUvq0//Hd8cYn7zliXNOIaeV98t1luG27fLcsNFJq3OFS42ZU3qK3nXDZFvmqGJmoZ6S0mZHSduHmUI+fIaVlBhtBa6AiDZ8wUrlZxcYayRx/TEXvO6yiIw+o6OhQ+3xERYfvVtF+K1Wow+cq2PoDFeo6x76vMlL6m4qNsXNG7Xe+F+74hQo1fNJIaRPlva62Qmq9reDesQoeIAX3SFBQNyNH7Y2YNo1Vk8cStfoALU3TgvlbdXOl1+W75kcVaHlcTZ/J1A9bpRNxENZdatryXTVr87Z27zzKBfph/m+qUucNXX7dNDWy9nTqPVtlG3xowpirIi2PqNtrafplJy/KcU5Xelq6lq/Yr+7d3tMFN7winxHXvAMzrT9HVbjSdyp065sqfPu7KnjzO9but3RnEyNnn4fplJHimIhoTZr6s65vutzazaMEJrtWscrTPV7lTAk7vJyqek+n68oxmcrbM10F6+3XxZV/1ISnVyojw/97yxdfW66by7ygghdNN9m8o/yVvleBZntUqOo6Ve0wX/MXHVCatXH3b1Fq12O2Cl3ylApe/6oK3DZTeWstVTArnLwsqqsRwg48/hqnFjNS9dmKRP285KDm/bhJy5fsUmSk/42/mcbct+2M0ujpW3VVq83if0l9nUzuyJ5JgU5WTxfbdmBfioIbRynfnb/oUpNDj4FfaMOmUJ08laxvvlyvxk1fV0ipmfI1OWj3T/MT3Hb+Nji/eW2fZAQ3UXnu3aUCpT/TbVXe1PMvL1N4ZJz2H4jWtMfn6No7npev3AK7n13T2frRDmLLZ7u+bawKWL8aP5WouZvTtf/QKX3zw3aNHPeDGrV4R3XafqIbeuxSUG+7Nyu+3ew6HgF2th48nAPYiwcPHjzkNpx3GxiIpR48eDh/IF80zlDRiN08yxG/Xp7mEMCb+8apgRE+HtHlN6QDZiRp0vvJmvJxsh79KFkPf5SiBz9M1oQPkjXeMNaO3Wfo80aSaj+RpNIPJOmm+5N04zgjpUZMS4xOUvGRSbpiuMFI6UW9LN9vsFWVB6zVj0ZKP1+VbqQ02UhprPq+leyQ0mmzUnTP0ATdMyze/5juAwka/FKSVu5Md0jpcCOldXgD8INJamSEtK4R0lqG6oZK1u57JiXpDjt2g93/suGJqva4kdJNGfplR4bqP52sQkZKLzBSWqDdYRVuuk79pkFK4zT+kzQVaHRKJboma8YvRko3LFL8uJY63Ky0jvaqpbAhLRxiGjaoiUKNpEZO7GWE9ENlnIxxOAJPMSZtXKKYZ0cqalJnJfw8W5mJ/rfy8ncxifM/0rHRjRTe+GKF1y+i8GaXK6xpcR1scIVW3ObTqrpXKezDp7R0c6yqPWC5eXnjl1WNZ1Y/LF8F25bdKd+tkNIPjJS+4JJSIxGXbpWvEm+ENRbb1Ahpu0hL1k4awbFK2u9W8J3Dlf+2FiraaoYuGL1LxR48pmKPxKvYw3H+7UMnVWS0kad+i1SoixHSNkbc2ryjgu0/tO+fqcjgVSo6dr8KD12vQp0/M8L6hgrWn6L8tzZQnmurK6SmEZreJxUyUArplaignonmzBNUuFu8er+eom3O72wztGbVHtVq9YnyV16sxk8maN5vUviJdC1avE9t285UsaIPq3bLj7VuK2/Pkb7/aaeatvtAvQd9paUrDmjJGiOijxspan1AIa1O6Ir+Ser9Zoq2HvX/qvPgwRj1GfyFil89WXlufFdBrU1orN62N3LT2OTES3zq7/b/brLBbhVsdVBlRp/Ui8xAJKTp0JETmjTrhG41pb2wZ6ou75+s6tPS9MWGTB06nqH3Fic4z7v7Wp4wwnvM6jykUe/420r/nn3uF11e8mUboB/ka3bAxsFIIo/h3huuMoOOaO66eGUYkdyzM1RN238k3yVv2QBvtPoOGiGNMLnFKahXkm2N2Hc3mCwvGpmhW++L0p2t5uqeKq+oZ7/PtWKtn7THxiVr6tOLdOvdLyl/qfeVp/EOFRxg7R6eqqtGJqvY4BTlsz4UG5SkS8zIilidhdqFq8XDB7RsfZSOHYvXl99sU6NGr6nYZZMVcufnytMxQhcOz1CJkSm6dFiyCgxMVQGT88VDDFZXSIcTKtHzsKbMPKzd+05o165ITX5snkre+oTyXfWsgmqtUoF+Zngj01V8eLIuGJysPD2SVdB0ouULKVp+INP5e5rFS/Zq9ISf9Nj0Rdq46ai2/HZcvV87oXw8uguJZnKjlwFZePBwNpie+Lp68ODBw3mE5TMePHg4j+hgaB6vig8nad6WDH21NFUNJ8Trxl6xqj0+XnXuZ3U0Uc9+maLN+zN0NDpTh6MsNzccjPTjAFv22bFfd6Rr4MwU3QAZHZesG4yYXmufrxyTpMvvsxx1hGFIgor1sFy+3lZV7LdGPywL0+drjJQOS7X8Pl793k7ReiOljxkBvnNQvCHOaUvt8QkaaOQYUrpqV7oGGEGtOpbVWiOkRqprPpioqoaKhruNjN4+MUm3TEjSVaOTVXRokspPTdbXG9P1y84M1Z1uebaR0sJ945W3zREVaLxOfR7fojW7jJTOMlLaJFYluqdoxq+pRkoXKm5MUx1sfKOOdK+u0EGNFTa4qcIGNFTkhO5GSD9S+qnjDj+gJO/aoJiXxiusdyWFdr5D0RPbK2HRV8pM9j9iyopp0sLPFDO6gSIaX6iIJhcrrNGlOljvYq24xaeVtY2UfvCEkdJTqjYhQ76KEfJVM2Jaw7hNRSOmdxmnKvOrfNd/GEBK+xrxunybkVIjQXXt5MZGSHnJUPc4+fpl2kDvMVI6TPnLNFPRNi/qgnG/GQmNUbHJRkYnGymdYttHY1X0gSMqPHyjCvX9WQU7fWqE9AMV6valCvebryKjtqnYxDAjrrvs+HwV7PyxCjZ+wupsrDzX36vgWm8qpI+R0sFGSvktZrckFeyfqE6vpGj+tkxlLWQq9lS8vpu7Vy9+GaFVh01gtm/J4j3q2uV9FSo2Sb6LXtEVrbdo4NtJziO/+/Yf09Jle/Xb3mNKTEzRrC82q1r775Tv3qX+v3lplaKqk1PtXD8p3bn9iCrVfl2+i40YVl6p4J5GRvsYMWf1sa8JFILa12TS37agW7rJJ1mlTWFfXZih+EzpcLz01Ubp9V+kd5ZKP+92qlbYwVCNf/BHlaz1mYJrrjMiGa/8VsfEb/zHKW+8+quuv+c9u7cRzUFW/wCDKZOvTarKP5KhxUbCKaH7Q9Wh16fylf7K7m9t5Nz+1i7e+Guk9DSQZQ9rI7/PrbBevmvt/k2X6Lvl/hcdxZ2MU8cesxR0wXT5Sv6oAh0iVe2JdL24MFOfWx86vyuVnJipLm+m6ZVfjVQvl95aJW056VyuH+fuVKOGryl/kQflu/o9BTXYpYsGJ2rgRxmavV6a+pNUYZp01+QMPfhVuj62a181mXy2XTph1x8Jj9eUKXNVstRU+Yo+Lt/d842ER+qeKel6am6G3rBze30g3Xh/ppq/kK4V+/z3pTC23/24Uzt3+x+fpkx+0/Sr9kr/xApjxv/eBsrDg4fs6Gno7sGDBw/nCT08ePBw3tHF0DpRlaakaN7WTH25JFV1jQBe293/kh3+f5TfkL4z18hZkv89LucqoScy9MAXqbp2bJKuGZus6x9I1jXjk1V8TLIuHZWsi4cl6UIjmgW7GV+qs1Xl+qzV90uNlK41UjrKeEPzRPV7N9VIaYYmf5isW/vHGfztqGHt6f9ColYa8YWY9n4+SeVGJqji6ARVfyBBlQ3lDXcZyjyQpNKs1I5P0iUjk5RvUJLunJysrzaka+GuDNV5Oll5+yQqf684hbQ6rAIN16nX1C1avTNO939qpLRpnEr0TNWMhdbv9b8oblRDHah/jQ53qaSjvWs7b9qNfKiv/027MZFZvTd+tXujjr86SWEDaym0S1mFdb5d4V3KGDFtq0QjoqdXTBNOKXnxlzoxoaUiG1+ksNoFdahWEa0oZaS05pUKe/9xLd1ipPRB4yiVjcDXMO51b5h8VY1vVtwjX1njYzd8LN8lLintb2y1+HY7mZVAO7FplJEYu5AXzUC8OuxV8O2Dla9UbRVp9KguGL5Gxe4/aCT0sIrct90hnEUfOKSik6JV9KFjKjp2jwr1nquCXT5XkUHLnO/FJkWp2CMnjcweU5Exv6lQ/wUq1HKGCtzZQnlKNlBw3ZkKGnBKwcOk4H5GJHqkqPCwNA35JEPfrorVkqV79Ou8Tfpl/jYt/Hm7fv15m1Yt36Vvv1yjnl3f0QWXGCG94hUF1d9qipmiokbS+n9gSrnylFasPKAlC7bozVcXqmKV55TnUiM/5X+0PkYqqGu6ykzK1LPz0rRobaRef3GO7rjrKQWX+d76HSOfkWSH2PW2NvU1JetrBA/0y0JvQ2c71j5Ftz6YboOeoV/XR2vJrzutvZv164Jt9nmHFtv9x973iUpc/bBCrnpBwXVW23WJyjdQavemNG9LkhYu3qsRA97VVbe8JF/NDWdIqSmTr1OqSj4gPfZTpuatitYHby1UrdrPKei22XbslP/cfkaae0HCIKYu/LJ0fmfZMdFIeLyuHJpgRNj6u/G4vvxkherUelZ5eUFR3UPKPyBTDZ7P0JdrkrVu/WENf3ydbu+3XcPePq7vVp7QMsbB+rJq5U5989U6NW9hhLSoyf7ad4zk/2Y6k27GakT76wyt2n5C787eoTpD16va2IN6aU68Vm2MsOu3a+niHVq2ZIemTv1epW82QlrYUMEIaccT1l+p+tPSh8tSNGfJUY2bvkF39Nmqni8e0y+bYrV42T6nDT/P2az5c7Y6vzNetHCH5ny3Xl07vanCN78tX6N9fnkwRr+ThwcP2eDYtwcPHjycBxCD+RmUE5s9ePBw3tDN0CZFlR5L07xtmfp8Uapqjo5X8c6xzm85Kxnpqz0uQe/OS1Fyyp+T0sjYTD34VZqzOnr1uGRdZ6T06vuTdbmR0otHJuuCoUkqMiBeefkLy1pbdVfvtfpuiZHSdUZKx1j+2SpF/d5P1zojpQ/NTNZNveN0Ux9/O2hPr2cSte63dEWcyNQHC9I0eVaKHvs0RU9+maJphqmGR79I0UNGjCcaHvg8VSM+SVH/91M15Yc07YvK1Mp9mbr3yWSF9ExUSPc4BbUwUlpvnXpMziKlszNUwMhxiV7wEyOl635W3LC6OlC7uA53uMeIaRUd7lpN0c+OV8rBrBU0E03Knq1GSB9SWN97dbRbOdtWU3ifygrvasS03Q2KGd9cSQtnKyOO5SW7xLZxb08yUnqhwqr5dKhGPq240UhpdUjpVD8pnWQ8pepxI6TGMetEGs8xclrVeOfdxodu+PQspLSBkVL+h5O/E+GxNiOlQR0twb99mEKuq6IC1YaocLfPVbj/LyrMiqgRz0Jdv1LhIatUxIhpsYdjHLJaeMBiFez1o4oM22AE1gjrgxGGSCOuhvEHVHjwchVu/64KlO+qPDc3U3CDDxQ0OFZBRmiCBhsJG5CmPEOl0o9INcYdVo0236harddVs9FMNWw9S83afqRGrT5QxZqv64objURe/4a1fZOC7TpfP+t4r0xdMVqqODZMjXrOU51Gb6lMuRnKd+VT1pcv5Wt3wMhlkoL6p6voSOmWCcmq3n+d7qryki4tOV15WUntayTO2hDUN8WQmjP6sRpn6J6qkP6Zuul+M4LBG9W49Ydq2ux1NWn1vhq1eF/VGxjZvPlp+Uq8KF/1pQrqHm3Xpll7M1V8vFT+/mhVbvujbrr1SRUp/YaCmu1yiGbQwAznPqz6FRoulZqQpooDt+qemm+p+I3TFFLJyHV3k5uRW/ryh/Y5sPbbvRyCa+cVtP6WnJiu6sN3qkIda1fJacpX+Sfx1t5gu8dV1p5aj540vVigOyqZPKp8plsH7Ved8fvVrOvXatL0NTVsPlPla7yuC699Ur5S78vXfJe1we5h9ec3md3xSKaaTtirGs0/1jV3vaYrmy5WxfERajpirfO73yYt3lGtRu+p5B3PKv9Vz8pXfq6CedFSFhG/fJwR08nxqt9/mcpWfU2Xlf9IpfrsVq37D6tau+9Ute6bqt34PTVoNUt1mn+kag1nqkLNN3RtqSdU4PaPFNT2iNWVqaABJj/++zZHuXjwYDAb9uDBg4fzAvIDSwg9ePBwnsGTi23TjZRmOKT0MyOlVUfF6+L2sbpnaLzKDfOvUj7/dYr2h2foeFymYox4xrDN9vmYYeOhTI342EjpWCOjRkqvNVJawkjpZUZKLzRSWmRIsgr2S1AIfytXc4vu7LVG32aR0nJjMo2UphspzdRaI6UPvpek63vE6VojjvyulLbwNuA5a9OcduwLy9TWgxnadihD2w/7sc2w1bDZsMn2g/WGtQcytOWotZGnMjdk6p7JKQrukaRg3o/R9LDy112nbo9u9pPSz6UCrVJVom+m//HdtfMVO/he7a9+iQ61vkOHO1XQ4c5VFPlwPyWumK+ME8eMkG5TzCsPKbx/bYV2KafQ3lUV1r+GwvtVUXjPuxXevqQi2lyj4+MaK+nXz5VxPEKp21bo1OM9FNmwiEKrB+lgtRCtuM6nFVWLK3Smn5RWf8jy+2on/T9drGM8s6bJrUqofHdtkO/6z42UPp/t8d0qRkobhov/lvS/eTc+i5QeUNCdIxxSmr98dxVs8pQKNntOBZsamjyjQq3fUOGe36jI4KUqOnyNig5ZoSJ95qpwr+9VpN8vKmoEtOjQlbbfwNbO43iRTh+pUJV+ylu6uYKNVAQPNXJlRDJomJErMFgKtvsHt41SULVVCrpnjoLLL1BIxYXKU2mhQiosVFD5n41p2+cWOxQyIEFBRqqCBxsZMTLHo7ZB7WMUcu9aBZebY8RnvoJqLVNI5zC7l5GVYZl2rikxhK6HEbdGexRU0eqvtVghHQ8peJAFlCFW36D0P0WQgXp8PY1oNtmvkMq/Kk+5uU5bQZC121fpZwU12azgPtbP4XbvIdaGQdZOZMwbemuuU1Cl+QpptFYhvY7bvWlfhv8e1k7k4euVZoT1oIKs/pDqC5Sn3V4jtqaQyMo996yw49zT+uTrbdvmh62eRQqu/otC2vxm9RhJH2ZtsX6EdIlXnjqblKfijwqpu1zBHcLtnHDlqb5SISbLkAoL/LKvbte33auQQSY/R/bWn4HWbpN9SKswhVRdrOAqc6zN2xXc6bhCGv9mdZqM7VrG0lfRxqT+GoX0sDFGJkwC0FcjpyHdkxTS0K6raONea5FC2oX6daHmagWVm2fX/+zINhj5VvjFkXGwowvbTMZxv5efBw8ePHjw8A8jaIDlBvz0p48HDx7OK3oYOmSo0rRMzdsufWqktNKIeBVtHas7BsU7xLTKfQnq83ySpn+Rold+SNXL36fqJdu+mIUZP6bqhZ9S9dxPaXrw8zQ1fi5F1483Qmrg0d0rjaBeMipZxYYnq9CgZOXvk2D5sXGm6lt0R48sUrreSOk4y7PbZqj/h3JI6YR3knR11zgV7xynskP8pJQXHo1/O1lvzUnV+wvS9MFC2/6Sqpm2Be8Z3vk1TW/9mq43FqbrNcMr9vnlhWl6wc5/ck66Or+VphJjUpSnt+XL/OSy8WHlq71WXR+BlMbr/i+NlBpRL2E8Y8ZiI6Vr5il2YHXtr1xMh5qV1uEO5XS4S2WFDmqk6KdG6uQHzynm5YcUNqCBjna8W2E9Kiusb3WF9a6s8F7lFWGkNLJrGUW0LK7INiV0/ME2invjAZ2a1kvHut6iyHqFFFYzjw5WCdaKa4yUVjZS+t4ULd16UtUfMZlUj5WvtvHLehB5I6eVw+QruzEbKeXtu5dssYNGThtGGru3C5zHKBMdwhTS6aAK3DVURa8vqwvvrK8LqvZSsYpdVaxSd11QbaAuqjtWFzV+RBc1e0wXG9ztxc0ft89TdXHTqc7WBd8vbmrHm9g1dzdTkVI1lL/hmwoZcUrBNpDBI4xMOAQl01nt8vVPM4UzgtznlJEy61AgehuMjAYPNTIIKTJSEwwZMUCOfKwQ9rJre9m1EJVBNnDUzWPCWecGGYl1fo/ZJ9k5xzfQ6hti9Rlxdev6U1hbIUG+/hgHjxJYPdwzsK394hU0NNXfTu6fda3TTh4JNuX29bc2Dk7K8d5OOwdY/X2t/r60M972W3127+zn5owsUurUY8pBO3tbPchvsBHbrHs6MufR1942/sh8AJMTqXZPZnyzZOnKHlkNs+B7WvaB9bPCa/X3p44k/6O0zuNMATKxfgQNTs4mE7v36TbYdX25nnpoA7pgcgqsA9CWrL4EDbG+/K7fHjx48ODBwz8P4qHzxBNP7Xjw4OG8wSGmXTJU+alM/bwzU5/8mqJyRgDzNYvVLf3jdZeR0gpGUqvex4ppomqMTXT+O5MXDFUxVB6foEr381vORN31QJJu57echhvG+19wdNWYJF1mhPSiYckqYnkrL/DM29Py+rZR8lXZrNu7rtY3i0L1xUYjpRMsB+6YoYGzpPUHMnT/W4m6vGOcLm4Xp9uNIENKK42KV7Ux8bp3XKLq2D3rGknlr2nunWh4MEHVDVUmJarCpGTd9aD/7bu3TkpSqQlJuv7+JF1xX7IusLYUGphk5Nj/+K6vwWHlrblanR7aqFWslEJK22fo6oHSi0uNlK6eo1P9Kmtfufw62PAGHW5T1lktPcLvS7tV0dEe1XW0e1Ud6VReR7tUUFj3SkZMK9q2nMK7lVVE19sV2fkWRbS7QZEQ0xbgcuex3ci6hRRZp4CflFYO0rISPi2vUFxH33lUS7cZKZ1sMqlpHKKu8csGxjNrGVgpvXudfDfODnh8t+c++S7cLF+lAFLKH9FmkdI8XY8YEZ2oK26tqSvLNtDllTrr8vJtdVmF9s7nK6r2MPTU5VVAdwdXVOulK6r31uV2zN13BravWm8Vr97H6qury+5sosKtPlbwaCMo440EjzSMMBhRcbb3Gcb6ETzGMDoLgZ/tvNOEFJLmArIzypB1bpDV5exzg8bpc22f3fd357A/e31/BVn15NRWHk8OJKSnr+F+3JfzAs8JrNcFfaUuwL1oe07n/Rmy6nGQXX7c39rj3MOVB+e4bQzs29lk79bPubSTOgJlk1WHI5OcxoSVbM7nPLcNgXLKuj4Qv5PJ2eTnwUN2uLrnwYMHD+cDRk49ePBw/uAsLnXPVJVnpV92Z2rWz4m6o59xmfoxuqHXKZUZEKu7hsTqjoGxurVfnEobbjbcBPrHqeSAON0wME7XDopTCSOOVw1J0DUjE3TdfQkqMSpRVwxP0MVDE1VsUKLzFyz5eiUohL8dbBEhX7n1uq3jMn2/+Ii+3ZquCjyq2iVTg2dLGw5maPSrcSrW6rgKtTipm/vG6s5BsSprbaFNtKN03ziVMtxkKGnfb7C2XGsoYe0pPjBelwxM0AWGwgOMZPdNUDCLM3A0Q97eCdaWeAXz94219yuk0jJ1nLhW63+LdV6kWrBDpq4ZIr28IlWJq35UTI97tOv2IO2tfZUONL9VB9uW1cF2d+lA6zt0oIV9b1VGh9rfrcOdy+tI53uMoJY13KmjHcsotENphbUrqbA2Nyi8ZQmF1S+m0BohCq0erLB78ymsVj4drR6ifRV8Wni5T4vuvkKh7zxsBPmkak41mdSydtc/JV8jHuO1salyVL57VstXclbASmmP7KT0WBYptYv7pCukR4wKt5yvixq+qYuavK0LWszShS0+0kVGJC9qxfYDXdTyfT9aGVr/BbSxa1p/qIubv2Hbj1Ww7zYjGanOSqlDQo2onCanbIERkhAjSznBIVGQmGzI+dw/nufizDnnPu9cCLxXTviztvqPn+v+2evL6Zy/ht/fM+djZ46f+Z7TsezXB9YReDzw2pyOByKn44HXnQ2BdXjw8KfIKYn04MGDBw8ePPxXwDfA0DNTlZ+R5mw3Ujo/Vvf0DzPyc0SXtQ3XNZ3DdWP3SN3cM0q39I7UrX0idYvh5t5RRhSjjBRGqaThhn5Ruq5ftK7uH6Pi/Y/psr7HdHGfGBXrdUyFeh5X/m4xytM5RiHtYxTUOspI1gH57l6hCj0WacHKI/p+u5HSh42Adc1Uv0+kVXvTNP71GF3c8qhC6ofqyg4Ruq5rhEr2iFRpawvtAKWtHaX7/L4t11tbrrW2lLB2XGG4tG+MLupzXEV7x6igcbO8XY8rpFOMgtsbb2vJi4O2K1+VX9Vv8hpt3R+nB78zUto5UyWMlL6wJE2nVsxTeO/K2nSbT1sqXqBtta7W9gY3aEfjUtrR9BbtaHabdja9VTub3Gzbm7WrWSntblLScKP2NL5Oextfrb2Nimtv/cu0r+4l2lf7Au2rWVj7qhXQvip5tbdiiHbfE6QtZXyac6kR00qXK+LjaVr72ynVfNxkUsd4ZQMjz42MmNY6kUVKVxkp/Ui+i58+Fym1k3mBDv/z2CtRIb2TlKdfsvIMSFbIwFTlGZSqfENTlX94mh8j7PMow32G0QYjmPnH2P5zIN9oFxnKM8bIxhgjFGC0AWLqklIAIfXgwYOH8wBvtdSDBw8ePHj474Xzs6/embp1ivTqonR9sShWvR4/ostb7FCe2puUv84mFW6wVRc03qaLmm7VxU232HaLLmyyVRc23aYLm21TMUORZttVqPlOFWi+S3kNwU13yddktxEp2zY0NLDPdQ21DNV4H89aXdRoiQY8tla/rI3Uq0vSdcsDRsC6S81fz9RXa1P00hfHVGvYPhWuv00htTapYL3NKtrI7mttoR1OWwLa4balsLWloLUlv7UjD21pZvdsamic1Zb6WW251z5X2WJYobu6LtEzM7dp0dZ49fsw04hrpi7uL435Ml07lm5Q2LRB2lS3hBbdlkcLbs2rX+8spMXlimlx+Yu0qPzFWlTBUO5C+36BllS4QEvLF9PSckW1vFwhrSxXQCvvzqtVZYO1+s4grbzdp5VGcFeV9mn1zfb5Rp+WXuvTghJGSkvn0bp+NXVwzmx9sTJBd0208alvpLRhICkN9a+U3viBfBc9cTZSym9KjxvLPylfjzgF9UxUcJ8MBQ+w5I03wg72gxWpPEYY8xp5zDtKRi4NRirzjTWMM4w/g7z2/Q+w8/LYNgTweK5LRgNXSQ3u70s9ePDg4bwghwDnwYMHDx48ePjvgPt+mItGZ6jLm6n6YFGiPpwTqe4Pb9WNrZfommaLdEOrpbqpzXLd3HaZYalhiUq1WapS9r1Uu+UOSrZdoRvardR17VbpmnardXXbNbqq7VoVb71aV7RapctartbFzY2INlmtCxss0zXNf7V7rNVHcw/r3YVxav96mi4wfuTrzT+IpOuBz5P1xdJYPfPhQdUetFZXNV1k1yxRyTZ2z7a0ZalKWztuzmrHzdYGcJPhRmvL9daOa2mHoUS7NbrS2lO89Spdbm25JKstFzZepWL1Fuvu7kv08Gtb9OWiSD3+TaLunpzmrNjm6yHVejJDb/94THvmzNWeR/pqcYMbNafSpZpbrbh+vvdq/VzrWs2vdb3m1Tbcy+drtaD2tfrFwTX6tdZVWnzvlVpS83ItrXGpllW/REuqXqzFVYzAViqqpZUKG4ktpIV3FdLcu4tqVa8a2v3xq5r7yz71fy1Jl/FOmcZGShv/JVK6yUgpb991f1NqJ3e1i3heumusgnoYMbUKQ/omK7hfkoOQAanKMzhFeYakKu+wdOUbnqF8I1zY95G2HWXCCEBeQx7bH4gQF3bdaVhdzmN1rGTYNmRwuh9DPHjw4CF3wVuwPXjw4OH8wBJmDx48nFc4Lw0dYLxhQIauG5emPm+naNaiWM1ZFqZZP+3XzG/2aOa3+/TBd/uzsE8ffrc3a7tfH37vxwffHdD7hpnfHXTw3neH9K7hnW8P6p1v/Hjrm0N666tDevPL/Xrnqz36/JejentBnDq9mqyrRltO0c/aYihg+UW5ySl65ItEfb/iuL5deFjvfbPXwfvZ2vGhbXNqi78NLqwdblsMb2e15c2vDurNL/bowx/36fNfI/TE13GqOiVRhQakyNc9Xb4uabpkYJqaT0/RzJ+itX/xYsV894bCZj2r8E+fU8RnLxhmKPyzFxX+ucE+8z3y8zOIsnOiDcc+e97wnOFZHfv0WUV/8oyiDMc+eVrHZj2l6I+eUujH07Xnx8/14/y9Gvxagm7on6CQFkZIm8QZKTV+2fC4fPdmvejorKS08gFjr0ZKWx/z/09pF7ugq13cBYJ6QkHdTym4R6yCexl6G/ixrd0oeFCSQ07zQk6H2vY0Uo2opv0OeY1shgzzk85zws7hr0tAyJAsUjooTcEmVA8ePHjIPZjD5gUJHjx48JDb4HduHjx4+OfQ14hpnwxdPSZNPd9O1YcrU/Xr7lQt2JmqeTtSNT8APwdsXczfkeYg8PvPzr6Aa3amaYHto84fNqdqxs+pavNKmq4YlSb+cpE2OPbfJ1P5BxgxfSRVD32Vpm832TW7rA67zq3vd/VmbQPv/ftz/G1zvm+37wa+044F9vmz1amaODtFVScnqVDfJONuyfL1SDUeZ+iYqgv6p6rR9Ay9ZO1dsC1OC7aedPAz2JIF5/uprG2273Z8wWb7vMk+b8661r2O74ZfDPM2nNJbPyep54upur5/ooIgo43i/aS0yUn7bKSUt+9WPRcprWKklP8pbQExDZOv7VEjp3ZBR9vXKVxBnSMN0QrqeswIqpHWXkZWs/5qJbhfnEL6xypkALDPA+KNRCYYWU1UnkEGtoaQwckG/v/zTzA4zf8a9f7pBvveP0VB/BUKf2PiwYMHD7kG/rqIvyvy4MGDh1xGH7YkqvgZDx48nHf0NHQ39EjW5UNTVW1Kulq9kOGg5fP/PlqBrHpA6yw0fSZD9zyUposGWz7RPQu9stoCIeyWqry9klXKSHL9p/zX/J22OO0Az2Xh+Uy1tu+trR11p2So1MgU5e+eYNzNSGAH23Y2ctrJ0B4kqkjPFN0+Pl11Hs9UvWmZqmuoA+x73ccMbJ+070/kADtWx+5RZ7JhqsHZL9tvmGKfJ9u1hjoPZ+juEWm6zO4f1MC4In8DU9/IaEPbQkhZKeXx3arGNU+T0mkBpPQiHt81UlrHiGhDI6KNeZSXH9Hu8P+glh/58uPapnsMe+Vrvl++VocMR4zA2jXtbNvetu3t2g52kw5+IuszIuvrFGXCyUJnI7OdjR2DrgFgVRa4xzpbg/mv1Pa2bW/fQVsPHjx4OB8wX+PBgwcPuY02lsPwk6iWlvt48ODhn0NzQ2NDfUPdnGB2mVvgfzebGloYWuaA5oaGhnqGnK7/V0E9oL75l/rmZ+pC8ux7LetX/Wjrt6GpcS7QhM+2H/C5ge2rGSFfFUNlQ6UsVDRUyNpWMR5XxTgc5wSisu2rYDyvvKGige+cx7acXXO37QNljQ/eZbywgoE37Fa1bTUD2+qGe+38mtZeSGm5tUZKP8xGSi/ebBcb0axmRLO2ob7tq7HFbmwMtpJdUGWdXbw+AEZiOV5zWxa22k1sW8tIrIvahjpGaGsbka1tRBbUsc8u6v3mR11DHRcBxwHX1vofxL0B+LPjgTjXeWfbnxMCz/1Px19p9185x0XguX8FOdXxn45ztT/wWE7H/wzZr8+OnK75T8e95pvOCo67yOn4X0Vu1PGfhnP1yT32V/qc/bzAa3NC4LX/DcipD+Bs52Xfnx1/tY6znfO/ir/SX/ecv4Kcrv8XUMtQ0+qpZrlN1d0ePHj4R2F2V9lQ0T5XyAb2VTTbrGQ2mhuobKhqqHYOcE5O1/67qGLgnlWNr1U2VMy2v5r1rzrbLDifbV8V63t542b3ZOEuQ9lsuGun/9jdfM6Ce76z347fZRyPrXvenfb5DtsHbt9uW0NZ+1zW9rO9i+8GrmERtLIR0spGUCGlJT82HvpUICk1klkBImqEtM4hBTXer3yNt6tQvfUqVH+DCjfcqMKNNmXBPje0bePNfjTKAp+bbLGtge1pbPs9GmehyVY/GhsaZcE95nynroDzPXjw4OE8oJD5Gw8ePHg4Hyjc0HIZD7mPBudATufnhH/1/P9FZJdBbsjjv0CuhRps/u9FwzMo6ML2Ozjb59PYpIL1gX0G9XJCwDnuPj7/oY4AcE1OqJuFehuNU25Q/tpbFVTd+GaFw0ZIjSjftcJI6Sz5Ln0ui5R2t53FNiiPsex8jY8qqPlRXdL1kNo9flRPfhKhx2eF67GPIwyRAbD9AZgGPonUtFmAfeG/A/vcY499ZPX9VTjXu9dyX/++/3a48qBvOR+3/iJPF1kyzX7e49Rjx7PX48gs8HoXZ6nnPxmn+2jbnI4Dt7/nOsfFH2R7NpxjfP7T4eiX9SGn9jv2aHb97/bvXPL7K/L/j8RHYWeBX7f8cjLkeM5fg1uPY385HP+vg/XjtGxyOH6mv38mt0AZ+/e53x1dywb/sf8iGSIn7DGHfmTXPbff/vgXUEc2uOf5zw08dkaWyCjnc/5H8bv+nl1+HM8+Fjnhz+r567A6GGcPuQpnHIljOcQh4IxfDtdlhz8Xy9KbHI7//4BAGbhy/bvy8Ocg/5lypU1TPjyiSW/v0oTXNuuB17dowhv/haDdgcjpnByx1c43sP0H8dDbWzRl5mZ1f2K3SrQPVRCP/7KCWuZn+a59T75Lng0gpYXWqUDlvSrSPkJBncJVathRzVxwSskpGUpMzlB80rmRlCKlW10ZhqRU/eF4ih3MtGOpdkL2Y3+G5DR/vWn/xrX/iUgweaaZMJAHcsl+PNFkSX8DC7JNTM78w7muXJMDZJ6QtT+nkm4nJ6b8sZ7/VLh9OZfuOOeYjpxNnoHg3LOI5g+FMchJl//TQR+xFUcvTC58DzzO+HMMOeSkU+cC52fXzcCCXqPfOV37n430s8AvS0cXzC5zPufP4do89fhtNefz/puAbaBD+BT/mJ85hs5hr+iZ3yZ/f20gErJ0CiRavEmwfWfzX275szr/k4CckEP24u/vmX44vslO5Fy/j/5jXS6wa85DNwNlz72oN9Xkg0+kvpzG538RidZ363KAX8vhHJPDn6jW6XKuev41uD7GQ27iz3wENpLTdYFw/JTVg838We7wvwrX7yBOfIabO/yd3MeNd9TzV8bhnwZ9jk1I1LHjRxQRul2RYTsUGb7rvw9h2ZDTOf9BOH5sp2Jjd+iH5QdUYegxBVWJNlK6Vb7S38pX/DX5Lno6gJQWXKeCRkqLdjRS2iVct4w8qs+WxXL4L5XMDAuq8XGKj4tVRjqh4fclJTlJp06dUFJiQtaev14yMy3Y2nVpaRbB/0dKclKiYo5Fn0UemTp58riOHDmkI4cP6eiRw853ZJy9IBvknr2kpiTreMwxhYUddeoIDT0ScD9c8H9PSUlJMkU+6cjsbIX+xsWeylFGvy+ZOnXyhCMPV7aBQOahR48oOirSdPmv1PefWDKVlJTgyCw1Ndn5nr2cPHHc6d+/XixJi49VVGSEX4boqCEs9KiioyOVmBDvnPO/VNCtf8dvZS+MBePyv1SwyeTknOwy0zmGTSK/Pyuxp07q+PFjysggdpj+JsYrMiL8tD364bfRqMjwXBmPf6oQD7HFSGv3UfpgoG9x+Bfz34GFfmObf1aQE+dllwMxEpkje+SOrf4v2uTZCnlGzvrolgxHHlFR5r9Mp7L7f4Bfw78lJBBX/7ti5f9PBX+Kz4gID3PGDV+BbfGdfCk9zVjVXyjE+ESzu5zy1v8/SqZjEwD7wVedOB6DYLKO/zvF7Mxkii9KS/1PzdtTlJkeprS4HYadSo/f7eE8Q6m7TO47tXTjQVUZcVxBVY/5SenN38h3xavZSGkhPyk9vVI6/Kg+/vWvJ63RUVH6/PPP9PHHH1myfzhr75myZs1qvfXWm1q48Bf7drYAmWnBNt2cQxYgBJmZ2rRpo95/f6bmz59nBCU5x3POWew452VmYGSZ9jXDX0cW+O7u/9O6cqHEG4mcP2+eXnxxhtavW5e190wJDQ3VBx+8r2HDhmrI4MEaMWK4vv76KwuSJBcUf3/SzYki13feeVu7d+9yvtMHZLRu7Vo9/thjGj58mEYMH+5sH3nkYX3//XeWzJzIqienkjUGBj4jD+R2WlZZMnSLK7vzVegTMkJ3Fi36NWtvVqFtWf3dsnmzc86qVSuda5z25zCWqeYgv/n6a90/fryGDPHLNhDDs2Q1YcIDzhiEGtn60xJ4H/t8tnufb1m5JTUlxWS1SG+++Ya2b9/myCOwHI+JcXTmyy+/sKT27Anc6XHPsjPaHxNzTJ9++onGjRurkSNHOLICo0aN1IMTJ+qrr740svvHSZIzJcAWkZHhjFwCbDCn/eetWP1ue7Lu5xbuO2fOT/rkk1kKt2TnzLEz5/7RJrJsKMtHUcepkyc1d+4cffThh9q1a6f/eOA52erIqbjj4crF/e5v95lyfmXllkwdOLBfn82e7Yz5iePHA9oGWU3Sol9/dXRw7do1zr6zFfzRe+++q5kz39MJI1roK3Y8efKj6t+/n4YOHeIAex04YIAee2yqVq9ade5+BuiPK6dA/P5a99zzU/b89pveeON1jR492ukH9oLtvPvuOwozX+8W4sJ3336rV195RWFhZ/bnVLZt26pXXnlZP/74gyMzt+zfv8+R49KlS5y4+dlns/XD999bgvjnJP6MbLL02mQSKLM/ljMyPr/lTEwKxOnxtS1jfPjwIScHmT37U0VHR/kvzVbQ06+++kpjx475g+93gS/jOLrN+X9aTvsNf3HaQ9uydNDfTrecX137Y/mj7ALbSsneXv/xwLbbZ/yT088z5bT/Od/F7uu03Y1DtMXatG7dWk2b9rjGjBntjJtjVyNG6L77Rum5557Vrp07nfPOlDP1+PvFhHeyVqxYrvfee1erV6/63Tnu/X5fRw4FuTiyyZJfoJzs8xmZUgLO+d0x9/M/X1KSkx2/Qz6wedMmJ0698/bbjn8/d/n9uPj74S/kWfPmznXyjN927/7LfXN1ypXL7+Vz5nvgfvuS9flfKxnpyUqIParjUTscnIje5eE8I+nkTmUm7dDcVQdUcViMkdKsldKbc1opzUZKbxp2VB8u/OukdNeuXerTp486dOhgRMmfhMRZcsr+2NhYS/A/UMuWLTV9+nSdOnVKe/futQQ3xjkvxZJovv9qScw333xjxvGlg++++04///yzOZ0xKl26tJo2bWoJ8adGrL53AgvnfG0Eg3O2bNni3C974V6rLIFx61uwYIEZ3VznOvZRzw8//ODU8dNPP2nlypVmUH9thu3fKQkJCUbMF1rQG6uBAwdq2bJlzv5EIwebzCEsWbLEEonPdP/996tVq1Zq0aKF2rRpY0nxJ2asGGyG9u3bp3lGaj+0BLd3794qU6aMU9+sWbMc2SPLt956y5FZ2bJl1bFjR1WvXl033XSTc8/fLEnKqdDvbdu2OTJx5Tp//nx9aw7LlTeff/nlF+cex44ds8CwzrmGfp2Pgm589NFHqlevnp555pmsvXL6QPuWLl3q6BjtrVGjhrp27aqPP/7Y0aOc9CItLc2RW48ePdS8eXNHtoFAf7kXskNf0Z1zlfj4eEfmhw8fdmTAZ2S0du1aZ0yPW1Kz04JjZGSktm7dqvXr11vCFJ119fkpyOy5555TnTp1HJ1Ot6DhlqioKMd+hg0bpvFGzBcvXuzYZ/aCzFasWOHIFX2kHtqPPLt06aLrrrvOkVPbtm0d1KpVSzfccIN69eqlI0eOZNXyx0Idrh6hw+gXbeCasLAwxzbYP2fOHMc2Dh48qEOHDmn58uWKiIjIqiV3S3h4uKPT+AV8EISeNmGL+Az0oFq1anrppZec4+gc5wDaimwOHDigk0Y8t2/f7rSdPrqgj9hms2bNdMsttxihH2dk4kdHtq5dcR/qpa+B40UhGCMH2vfFF184W/wY1/AdHXV1HJuknrPZeG4V2oM9VqpUSbVr13b8DXq1ceNG5/gJI5qPP/64atasacT0TWdfToUxxb47deqkJ5980ukH/UeG2HLFihWdOgD2XblyZXXv3t05ji/MqWBfyAAZ4wNc/xUIfD5y41z6gt8/evToWev8OwVfRNuvueYa3XvvvWrYsKGuvPJKx36wMQr9Ro/wz+3bt3dkhi7kVNj//PPPO3aHHdMX4hwFf4xfmzFjhqMbxGTIMH7oXIW+o0/ooqtfyM/VT/qwf//vk1TGjvZj0+ezYFuMd+D4YTvIC7vlGG2dOnWq7rrrLt19991GMt7L0c/ii/FRxYsXV926df/g/0H9+vVVokQJRyeJLecq+C035pLP4N+Ro6t7bMHq1asdeXE+fo2J5/NdiE3oOP7b9UWff/65oyPEJgp6ga+jjYw7baYvyI4Yhm7h49ji24ifFPSFfdRJ7CN3wOeA3M4F9uzZ44wxbWfc8bvEitdee0233Xabypcv7/hW7IYt++68806nbdgz8ZBxR6e5nv3oDv6dz507d1bJkiU1dOhQp+7A/BLfQUxCD6gne2EcGX/aSJuQH20lR8MmkRlyJX4hU87hvsQE5Irs0W/0gnM4/k8X+jVy5Ej17NnTaTsyuu+++5w8iXiSvaAD+CBsz83X2aLXxFK3PProo2rUqJFznn+i69wFWbrjjMyQD/JEp5Ddhg0bTusj+sp+5MV+5JzT+JyrpKUl69SJo4oK3+EgOmKXh/OMuJidyojfoR+dx3fPAykleSD5QGFQFJw8SQNKTZDFOffr188JEJMmTXKODR48WLNnz3aC7zvvvKOkpCTHWT/99NPO9SS3EDECKw6Gfddff70KFizoJL1NmjRxkkSOcQ6BnUA/ZMgQbd68Oatl/pKcnOw4gBEjRjhJAcQMkOBwH5IptiScJFckQG49tOt8FIgn9yBZIFjg0AkeBIJRo0Y57aFvyOv99993yPzMmTOdpIk2QSCQK9fTDxIdn8+nm2++2SEhU6ZMcZzoU089pSuuuMIhpDgNiP3VV1/tOAk3cQwsOJodO3bosccec+SCnJAZyC4rwHkEYBJJPhPo3ICVmwUnN23aNJUqVcqRDzJAXkxuoBsDBgw47UiRwaWXXqoGDRo4iR/JBeQeh4Uu4PRwpgQCSAJ6iYwBMgbo5hNPPOEEOhIcHDNEDh3PPlmBjpP84sC5FqcM4eDeED6CIMn6hAkTHD184403nM84VtqTm4Xgi1wgvwRQdJ5JCAK3SzrpP8SKyQ7ajG2SeDHRgx0HFhIs5I6tIWeIALpIosL1d9xxh6NryAc88MADjvwbN27s6HL2guxIZLgGe0V3q1at6uhZ3759nWSABJfAiH5VqFDB8RUEJwI47WVihkCf28SBhJFE1fUNtM8F7ShUqJCCg4MdQunag+tD8Bv4IXSQ9tNO2o8OsB8wmYZvueSSS1SsWDFHt1q3bu3YuevHqA/ZvfLKK39I6rABfCUJc5UqVZxzXftky+o+9+Y6fBck5Nlnn3UC9vmwSQr+nvYil8KFCzuyQFdcAso4PfTQQ7r99tv14osvOvsCC2OI78MGmeSAUJDckQRhGxwjIYFYYduARJHv2BXHcyrcl7FAXyEn6Bjycv0X8QK/wHf0GFtEx7Bb/MD5SArxAUwcohP4HSbN0BH8tTtu6D8Tiw8++KAjL2IEtgthdgtjiR96/fXXHV/IxBP+BN9OHziGfJiIRAeYNMB227Vr5/h8/Fh2+yGGY+vYMOPp+nz0Cv1HTmypByKMDbsFX4Cfw/+jo9knU3KrMEYQDtcm3bFkXF17ZFzxSfnz53dyBXIIfG72QpzCHplUQ+fotxtj3S39wXfS55xipVvQU8aTGEMsZwxdvaNdbvvIe2g/yTZtYry4LzLLbV/mFmIB7UGP8Bmu7BhXCAixyp1EY2IDP4cvwy9hZ0w+PvLII85+2o+uvvvuu8412CjtR47UyX58NLqAjpzNNv/dAgEhRmC3+Erug5/jXuQF+I9XX33Vid34T3JExpexhAxBEIlPyIH+cxx94TN+mQmKoKAgZyKC/fTL9d30G32bOHHiH3wDhB5bZvzxT8iUeIrMsE0ma95++22n3fhGZMQkwaBBg5x7I2/yOAgyORuxg/qw079C4v6Vgq5SL/YLyAUAuffu3bsdX8g444/JaR5++GEnVyTPgnBzHjpFwYfg05AN8iKG8Zk+kl8weUXdLJgwQUDsgnjjn8gzcsp9yFvoO3W4Mc6NrcR9ZEk+wj7AmHA+/pP9TIAyzv9KgZTGnjxqZAlCukPHInd5OM+IP26kNGGHflpxnkgpyklCSyAlmWR1CQLpJhkE4Xz58jmGj3PGgfAZRxYSEuIk/RAsAgWz4iRtOARmWDAKnCXOhVnlbt26OYqHc8DBAJwmK15XXXWVE/RJRtzCrAnODIcBAQYYEAGL5Jn2Ethx2rSNYAbBw5BoO7M7Oa0g/d1CgMUh4YBYYeQ+tBNHQDsgmLSFWXCIOokFxA+Z4GQJFpxL0snMHsZL/3G0BBsMlUCKc4DEY9QkORAQAi0klfsGFhwgxg1hwGEiE1YML774Yl1++eVOW0h8IToE+wsuuMAZW5JIVjkghugAyX1uOlPkT6BBJyCbyIeAyawnwZ8gQntpB3LFWeFY0Q1IBvpGQCAYMAtJAkfihywhnsgVhwb4DAgm6Ax6eu211zpBmvoIdoHBFt0nEaROdIskkM9skROBk7ahl+g5Y8wMLMcYN3T1X53ZO1eBrJOEkFDRHpJeZMb4s59kgrFyEzdkSsKeN29exy6Y6QyciCEAoUuMK31CRpAEkhhkT5/QYXQUoDMQEIJyYCJNoZ9MYDBRwnlch1wvvPBCR8fQLfSaSREStosuusghOsgJ3wDwB+gZfSBA5maBxNNP7AX7+1dQoEABR9dI0JEXM/T4LHwXbUbXkHXRokVVrlw5h/zgX9Ap9AVwb+yYflNX4AQBkygvv/yyIwv0CX+Hn8WPMfnCPsAkFjZA8Mb2SXbQZWzlfCS+zE7TJvqKP6UN9Nf1wUzYYGP4OhKY7IV+sZpHf/A7JOiMAxM3yPLfKSTL+AvIMETssssuU5EiRRwyT1vRM/QLHcQ+0D90Ev1inPr37++Q6twmptSJjRG/6DerL8QxCA2z/cRAbAI9wL6QHTIjFpEUuvZEcsjYYt/YAXqCrIiD9I868e/4LXwlSSW6gq3SZ87DZwUmhSRytA/ZED8YR/wmEzGMnSs37olOEY/c5I/JJ+RHOyEItC+3k2kKvpu+MUkFaA8k5Z577nF8GT6f78gQv4v/Zjxz0iP8DCtj6Cx+DfnSB3w/fowtOnLrrbc6epM9VrqFlUaICHLhfsiVhJ78B/nRJmInNo/8sRNsFPtEhlzH5AL6kNuF8XV1irFhDBl/toB99J3243PpNzkEsQC7IV5AIl544QVHl8jVmLCgj5BB2k0co05yKGRO/sGkNz4aPcjNApFjjIjd+Et8BDaB3jIBQ34yefJkRwfRcfwicY6JAgr6Q85JrGHs8Q/Ed/w344PeIxNkgM9Az9E3/BlxijiKf8aXugXbwwbxGYw/+RO6gt9n4pE2cV/yFe5NHfhxfBy+n/sQE7ie/IXFCvqA/CCygZM/uVEYE/JAxgr9dsF3xpHYTf7L5Al9p/158uRxYiJtRK4QZ2I5BJJ+4j+xEfwWpJZ8jPiHjaJfyJZ95IzImLHDvnjaKHACCxLLBBx1ci0ywP7QR2Kn+yQSORi2RbsgpeRU6C8+kfFDR3KaED9b8UjpP4/zTkpJAgi0JP44YYwaR4ziYIQklswachynBpEhUKJQJOvMsmMEkAYcIwktikViA1mD8JI4E0BQfGbnOcb5KCqfcUwQWpQSUuQWkmqMieSDZBESwSwyhoLyo7wYGIk4xsY+iB4zgAR0DJPZntwsrrxYccH546RwkPQBQ2XGCSMm2PIZQ8cpYtQ4B5IEyAMOiySfGSQmAJA3QYL+kdQwI4X8IJbM9lIPsmeLYdOO7IV2IRtIDQSG4I1zh9TgXJGnu5pKYo1DI5EkAOK8uZYAn5uFmT3qJMAwuYEMSHRJInFckFDGDKeGXNBBkjI+I1v6jvwIpqwWI0f6hKNDFnxHLu4MLPtwxpxDcsEkCfrLLCDBPDAokUwQjLgHKywkSiSeOEpkRdIOwaDdTAYQ6CEHzMYzE4jzJfnMrUJd6AN6hRxIRkksce6MLQkISRHtRY8IlARaPmOTBHzkxKoJ40p7SWywMcgotofNMSvONSQgyA35Ijdshn3YYvaZclaCSCRIzhhPAhL1s8KBrAnobsEuqZf2cT8KciMZop2M2fl4XBCbYqKKZAF/g2xoAzrGTDqEET2kn7QbfSfJwT+57UdG9J+kBsKB7JhAwneR3NFX5MdKH7LGj7mTFfgB5EjQDtQLZM89qJN+MzbYOvdHz9E1ki90D0KB7WOT6CuJF0lRbpJS7kcChU+grSSFtIXZcFYK8Dv0GX2DcOLrSEh40gOfgm+hUAf2g05iS6w6kAQTD/BBjD318VQD4LM7QUH96A/yCCRY+CZ8HsCP0z7kgO4wwcVqPbpIXdwbXWKcKNTLd5Jr+pabBYKJP2cygtUy/A9+jHFGDxg7Hh9ET2gHvoOxhbggD66HvKIrjCn2QT2QLmRDQkf8Q784jt9Ch9FXJnTRPWIutor/CVyJRwfRZyZ9SbSRE0kqeu8+ZUGMxBfjU0nqSQJpD/GAGEksIGahx+ejMG60gxgO0EEmDvBrJMFMbvAdokjfALLN/mQLBR2hr+QnrkywO+B+xt/jB4gFnJ9Twc7cn3owhtwPne2X9WQYsmI8aCOTydgAZI6CDXMv/Bl6nJsF2VAn+QxtwX+Q5yA/2shYMilC/IHEYY8AmSBL7Nb1F4wt9oMNEz8p5Bj4fyYB6AeTEPSPeMNEGT4IApEbhXHEFlwfiX8FfMe30gd02318l/HCftF94h5tpn34CfI5iBXkjDHFhzIG9Be9gRgyllwLeWOCj3swscc4Q74DJxDQf3SFMWb83QIxJdcln8CW6QOruLSHuii0h+Pcz41xFFYs8Q0gt30QCxX0mbah38Q2xpF4hs8gb8dv4MvxL8Q/Vnw5B9BeSDj6he4jD2QFkaYPbIkF+BuuI++GD0DQWS0l50GPmJyBlAf6IK7HB+FbkAH3wKfQFnIrbJ5CXgGJ5j7oHOdRyBlcH+Tq6V8pHin953HeSSkJAYkGThAnjLJjpCQaOAmUCsKFcQOMl4QM4NxQfBwzj7Rg5ARMEhmMwn2UiEQXosZnZmVY3ucY13EeSTjJB0mPq6Q4ImZzSBADk1vayXdmUQNXhXDYOCsCL20jCcSpYyC5NfOLoyd5pB8kuBgs/SCZ474QaggSxk8Cj6xITAAJCHLF+eIYcMwECwwfx8CMFQkI8occcZzfKCATnDmGSj30nz5h5IEzVQQtnDbj5T5qx2oUTp5VscDfEhHoXcfuBi+IBtdCTtGJ3JIZbSQouQ6QQMgMKQkICRu6AQkl8DLGONcbb7zxdGLhfiaJJaAgA2RBUEYukC43+HC9S8JIxtyJEwIZEwaMj5tQ0z/3sSfGjCCJ/CB81M1xgC6R6DJOJI8U7osOoufIOLdkRYJIMuA+mozuQwJpF/YIQaYv9NNN6pmMYYtMIKXoFEkqxIIJInSO/qGnAHtDB9E3AirJMjKjz0wmQYYJ4IFJCf0jiLE6QNKDvlOQH/dg/EgI3AI5pA72B04yoc/oI20gYOcm0aLgA5joIHiSSCJHZMPKGzJAv9FzdA1/ha8iAUJGkB4KdoVM8S+MO8eQG/0mySUo851+4B/xYdQNmECDSCE7t29sSZoI8tg1SSI2gZ0RxF35oH/oGEHd/Z0+BIc2u8E7t/QM+yMxYBzQL34iwAw735GHS+ZJZLA/khIIl6sbyJW2ICsSOPSA1QNkhj3hf0jg0S/GAn8J3OQIUBe2RiKEn6cgK/SIhA754vsguviqQF0hgSFe4D+QrSsv4g86R734z9zUL5eU0kcmSBlvJmGZWIQAQpBYcUeeyJE+oj9MuNFW5MHqCb4Jv4S8aac7qUNfiLPoAfcgAaYvJO2QS87F7ogp+G33kW50iThMvONct0DY8Z9McgUW4hS+kZjLkxOQEupgEoFEkdhEgp9bunauQhyiLegI93X79GcFW8XvYBuQa3wXcYHJG3fLfuQGaXFtO7CgG+gRYwpcAoGfc1e6kR1yh4gQP4G74s1x/DNjSTzITV3Dt+PrGU98vfvb0cBCOyFMbgxnDJlodnWf7xRsi/iBnrkTb66+MIHnPrHCJDd6ikzxU8gmNwoxGwKDjmMX+Ev8J1vaBAHCx3AOuRX6jy5AsLElbA29wLfja+gv48CYQGKIdRyjMDb4f+pEDow9uRiyZCIfIulOciAzbJe2YKf4GrdgE9geeQf+mTyTWIHMsGdsgycNWEzgHoyXW5Aj1+L7sPXc1AvGktiEfhOzGWeADJAdMmUCnslR7k3Og16TC+AnORfZ0Sb0h1VPYhr2hz8g98LPE4PQEcYCP0xeymQcdkYegm9issQlmtRHjEU+TLxSN4WnZxhj6nH9CXEMv0msow/ufvwSsYAxx8+hv3/FB3mk9J/HeSelFJSKGQyUiIQV4oAjZxaXYAUIlCgxzoPkFUXDAFF+ZkJwCCgRTohZJUgIjoFVJpdEQnqpC6PFGHCAOBHqw/ghVm6BeJHcuEkO9dJO7keCQz0UnAzGh1G4xIvEj3txLc6LIJMbhf5h4Dgm5ICsSFLdR0xYhcMZMduDDAkGJAcAB8pqG9fgaGkfzoDkhWs4hnPEiFk1JaHgegwYIuL+VolkG+NlP2SPAtHCkdNfjrn7CSxMAOCU3cfZGFfuj0MOLMifRJk6OJ7TSuy/W5hRI6kj2YXYUAjqtAv5oVesuuCkSCToO/2jzySvOEycMasjnEtCja4iF5IP+oLDRgeQEU4Z+RPs0DOCOwEJ/XEdHQGOtjDziBOESODAqZugjH6jWwBiw8y5q18EJFaEIICMY24FcArtIxGHlOLkkRnBBJ0jaWQftkRgwsFzb9rAPuRFn5AlwZtA7OopkyjoFokL5IngQ7BhVpxz0FGSLGbLCUpu8kWBTLorBegfsqTQTvSOx3ywYfwF+oW90pbsv+8jiEGeqYf2EsxzSrj+3cIqEck9s7qsTqHPgPtBKtEH+ohdsR+9IAjipwIfE6RNEC/OQVYQCFZU0SnGgbFHZgRxyAg2xmN2JC6BK8wkMyQM6CzyYPKEfbST60loSSwp6Bv+AN9IgKa4+o7vIKlA3rlRIHEQIPwv/YKIknRg+8y2Q1Lpt0tc0RV8OLaIn6Kfgaub6CC2gCyYqEE/sGUSGOpEP9A7Ek3qZoKSZI6+4WvciSLs2G0HNumS1cDCOciOVUXOCZQJ9UAkGG/ujfxyq0Ao8dPUSxuwB/QI0B62+B3sCZ/GY33IgtUNYhm+CUKJn4E4oUMktazgI1t0DVKAHTJxy6QRdouOMPmJ3Kkbu0GnKPhV6mSckLG7Hz+HvmHvH374obMvsBDDSAqZrHSfHEFWtJ9xwre4ieX5LLQfX4HP5+mDv+oL8N3IjhUbkmA3xtJ2d4utorck1dnjPwkvfooJKnw9epTTo5bIDpvE52WPh+g/40iew/gj08D85e8Uni4jh8DuA1f2shdiBWNNgbiRB6GH6AifsUPiFr4J8u/2EXul78gOv41/pxDfsG1Idm6NP3JD97Fr9Bp9Z1zw09gSuRz+FQKIDtN+xgT95HFUrqWPtIeJfWI+fgNbYQKL/eSE+FZ8L/uIgfQLkCcSh5iwCiz4XcaVe6F7EFG3EPuIH/gr6mZigLwKm8JO8dXkCuQv6Bf5gVvQYXw1Poi+kLfkll7QBzf3xM+5cQL5kE9xT3wPk2Tkc26uwwQsOs74uvuIy/gN/Ao5OCvuxH3iJPuJEegUfcAHMTlP7EIe5GfEB3dRiGNcg55BXLENriUXwwfho9zCNfSBPAbi605EITdkxTXoPfW4ceFcxSOl/zz+EVJKQXFQSB7XxVFAtFBgFBolJDkmocN5kIyhyCQEnEOy6RoeBsLsG8EXBSY44LgJ4iTXOD3q4T4YOYYGiXQV3C0kNdwTo+Ac7oMC4yBIjkhqcFg8TsNnZjtRagrn4qAI4iRVKH9uFWblcAYk1DhHHJf7+wHIALNVzCRBMOk7jp8ECgfGPpwqTgyHyIoABB7ywIweThfnQEDCeVMPToM6ceI4dUgDwRii5s7uEmSQAUkG7XJnA0k4SJgZT+6D7KmH74xHYGH8kB+OifsEPuaaGwVHzXhSP4ka44Pj53FeHD33I8iToCALginEk8SZWVZ0iRUuiAQJCTKCvDPGzHISjNBNEjnGxA0Y1AeZ4/Ew1yFTCPzoBsk0QZlEBbkhA8YM/UYHXb3EQbo6zrmQPvSXhBKdzM1C8EBnmNCh/9gg44fdQaJIjgkUJBYkTiS/rMQRjJADbSaZgWiRkEG8kRePGyJ3kmp0j8eb0RtXTyEnLnELTIbQM3fmmAkPN5BQCG60A/tjggAdQ64km+6qoFvwDRBpzmMyhokHd5UrNwp1od/YDESTfgFWVVilZ1WemXF0g/6iH+zHv7krlm4hYUYGEAqCKLaF/NBjEiD2kTShv3xnzLi/myRS0BkSLerHB7kzy/gP/BqTAiSQ+FqSJ/enD+556CM6iP6jp6wY5kbBDkgW8cv4AhIWkjJsAl0iqaPfJAb4GeyWyT18FvrI+egY/cP2IFgkGfxuDd3BnvCT6Bq+iViALPFN2Av9YXKCfSSVro7gy1294FigLEl0sDnagA9BhwInPNyCbDlGm1kJzK1Cn5EVpIdJBWIfqwXYDEmZ+9gsfoyEDVuFGLiFpMuNHexnzLFXbBDbIWknqcT34t/QTfqJPPGTjIP7VAITQRTqgoCR+JFYu74KvUHvkAEJefaCP+EYOu0SNq7FzrFdfCqyPt8FeaBXyIpJEvcpqT8rkFLkwoqY679cH+ZukSP2jhyz9wU/jlzQWXSN2B3op9xCDCJ+EIeQdWDBhmgvE4LoNISe/uRGwQ6JY+gaPvSvFGwFG0Gv0En8CROb6BIxk/a7fptzsUl8NLqFvfOdQp/oR6CP/zsFH0EcYgyQJ3pHTkKcom/YMzEHuyduYzu0mTjHU07kRBRsHf9LHGNSi4krVn6JN+7kPsSbyUTyCPw0E17YCvlWdpLNuVxD3/FXgb6GSWfsjVjC9eR5xGN8OLEUu6V+cgSeHHHzToqrF/hE9AIyC2HMjULeBIkmP+Le2Hwg2SaW8FQLeRH9YxyRPSQPIhtoB8ie/AUSC6FEVtg9K618d9sMSSTXoI/0jckX/DcycPMp5EOMY3zd6/An2AScAh+FLuLzOcd9yoHJL1fPXLkxVugvekD8+LPikdJ/HuedlGKM7koWAZIfIDN7TvAj4cApsJ9gBXnCiZBMoWwEt5ycuVtI0gh0OBMeFaFOQF0QBcjc2a5HiVnxYDbNDQi0FaMgAWfGnWCMk+J3dxgXM1huoU8YLs49p8D87xaMDcMhYLgzdjh9EiGSExJ3El8SIhwa94Y4YIzMbpEE4PQgpzwCRiIG4YCwImuu43qSQ5IGAi8BmGtxLvz+AtkTDN1Hb5j1JWHC2PnsFpJYgjKrhRB5gjCrGczC4zSzF2YPOR9nGljP3ymML+1Ev9AbZv2RGbO4yI/xQ36QAhwfbeQ8kgsCA30lcJLQ4lSRKYkEs62sRuDwSFIIxpB1nB0EFIdHEMF5oiskkG7SRiHJRDe4d2AyhFMl4LjJDToVuCrkFpw69w4MnH+34JjRW/QL0ui+SAxCDlkhGNAugjd2iixx/AQcCBLB3CUuBGZslUBG8kF9jDkJGaQHmRKAsE30E6CT2CW66L4IheIGIvTSTV7cQrJNYCexpC6SS8YP/aQvORXOob20PXuy93cKdSEDfAHjis0RuNEX9AI/RrJOIsOEFnqILyHxxJflVEjw6TNjDImjfhIR5IfuIqvsKzFuwf/h97hH4GwxhIZkhVVJJp5I1LB3bARSE5gQYhOsGuADcoso4EdZhYQEMa74YVbZsBX8D4/islqAvmAjJG+snmAXTIgwoYVc3Ed2IczoDraLfNifU8EPIDv6mpN/QcexJybmsif4JLckSMibdgWu5AcW2oV+occkV7lV8BeMA4mc6w+QFwmxu7IEMYXMk7gyKUKCTDsBpB+7QzYQBggn8sI3o0foFrGCxA1dw38RA7FLviN7dBY/58qORJ3kDd2GyLgFGz8XKcW/MI5cGzj5iB+lP9njyPkqjDFjje9A9wP98LkKk7+0ER8CYWRs0GHq4DNb9uM7Ia38PCmwMH7kMqVLl3bufzY/hf8gbjJhkNOqPYV7MX6QBXQ0NwpjTzxHfwMnB/9KcZ82Ij+h/dg3PiiQdLmFCSP6jy9zyXluF0gT8mOCCx9DTMVHuD6TccNfM1GI3aLH5ETEfiYM8dXkEOgG+RXXE/fxE+Ra5Afkf7y4ETuA8NIfF3zHHolhgbkmvp86yNuyk0bkwkQRpBQbxM7Ji8gFuD9tI76SX1K/+4RCYIEUEl+xQ3eS8e8WfAi5AD4BX8i4QiYp+FZiHi+Fg+Sj//QZHaL9TJziL1wiiT6TN5AboWvkFMQpCC05NzLhXHJOjjPxjt2whYDi890CmeVa/JNbOJdYwgQCebw7GYkPZbKIcUOebnvcwqQ35zKp5D6Zdq7ikdJ/HuedlBJIcRgksAQpDAlnzcwQSSbKwaodCsV3jIFzSIhJagIdPo4Pwyf5ZzaYFRSSU2ZDCQ4QIhJWHCZOkIQGo8IZkohxvaukBGcCAisKrrOkbhwAQQyHAtEgyYGgkDwFJn4YFcYIcQ00lr9TaBszTwREZqS4J8kFwQ8Hxf1xWJBu+ojDI4GCFCAD+oxTITEhkUeOrrHiDEi4cKw4RBIRHDTn4PggWjhJki3GKXCGjASC2SUS18DHEDmH8cNJ0WacGPWxuoPTzF6YhECetCO3EmASD8gh9eKg3FlxZsFI2ggO6AjkiZVQAioOjiQNh4qDxAnTFyY4kCf7GH/0EqdJkoKzJDmgfoIggQ2ZMwkCGYFAkrC6Bb1D9iQT2YMGDpXEADnj6AmG2YM6RIUElcSSpDQ3CgSPQIJuYFvUTWJJooF90l4CLWNJMOE7NoYM0AsCC0kxhcQXOUIg0D+STWZYsR/OQU9J6tBT5ERygsxJEDgvMCAwIYAekQS49buF8WUMaSf3YawYA1YSz7YKyiQM44w/yc3HxF0SSDLDhA79oh34LPwOj4lhp9gS+s+kCHJDNu5virBx/Az+iCQAUksd6JM7icLLJLAR2o+c6T8ywudwrasrkE9m9BknkhiXbNJOng5wf8dJQoavCJwIcAv6AMGh3dll/+8W2kXCyjgxkYPvINFgsooxpk+QZvrLvV1yA5g1R6cgPrQX+eCnmNBC9uim+3h39kL7kRu658o7sCAD9AL9z647+At8Ocg+geCOGYXYw9gypiRmuVUgO5BzfBIJMvfjcTV8Cz6GCRZkhr8gHjC2yILzAfbLk0L4fnSJa5koYmICnULHSBqZVOI4dk28AHzGttChQHtBP93V7n+FlOJ3GW8S7EA/zxtS2U9cPdtES26Wf5eU0jZiHXaO70NfXHnxmS37SYbPtlKK3uIfOfdsfuqvklISbWwl+0TKv1uIl/h+9OavrBYFFiYv0AdyK/Ie7Bm7PBthJrdC9yCKyA6bzk4U/k5hNRP5QAzJ6dA5fDE+BpkSC8g3iWv4U3wAtsLTYeQt6C/jRcG/MiYQGuRD/kVOwbn4JcgOtoSd4ss4hxhHrkAscOuhYE/4GvQPfxhYsEEmYPG55GHEefIXPtN+/DWECjshV8Ousxd8EPd3CV5uF3IeZEfOCSElLyKWIVt8EDJEf8h7ciLN+A5iP36K/BKSie0zSQpZdWXi5jju5LxLSsmt3cI5+BqXIFPww4wxY8gEGJPptIsJSfwjyP5bbD7zMwLyYWR8tonHwOKR0n8e552U4oRw3Dj5Dy2hRDlRCIIcSk3ij/FipDhxCA3BAOV1HxMgQJPwQxwIeKzqUSczWjgNiCWKiyISiN1ZM5IhDAlnxHcIruvYCcAkFlzr/uaBe6DIODmCMQ6VgEPQgLCRGLqFenKblGI0kBUINs6OhIJVZQIXM3qs9nEMwoqx4xyRGY8TYtgk/CRlGDbAUJEtcsSJ4jzdAEfShpFzDNINUeA+yB9nGZjAIjdkSWAJJKUEb+4HoWA/AY7kivsSvLKX80FKWb1yV0BY9SWBhwSSoHMPnCrAsZPU0VeSOcYMMkgiS7LC5AnJMH1BFjgukn30lZl/ziMRYT+yJtlmjHCgBDxWGAJLTqQUJ+gGZZwqEwgEIRJIHnkNTDrOBykluBAoWEFnJp8kgXFF55AH/UZP0C0mQ1hF44VaJF8EIwIRgR57RM7oEjZNXeghYwAZwrZIEggY1IUNIitsHV0loQl83OlcpJRVBmaT0SmCEEGewEN7z5aknS9S6q6AEGRJVGgv9sh3ZIoPI0Diu+g78uE8ZO4+JkeCymwtOon8SZiwZ/fFNugSsiJwYy8kO+5vWJE1SZhL6ElGkDMBO5CUMs74VmSAnEgQkFX2iQ/K+SCl+FP0AHmQ4Lm/I4Uc4J/xme4jsq5vZQvBRo/oJ/aBP6bd6AC2jI7gP85GaFiVc0mp+9KVwHI2Uor9Y2PEFOw1+8oXcYckjTYxsQOpy21SyooOcmGCA12BwKETTFBgPzzBwmf0iuSYlRvsjWSZ62g7daAb+GJ8DZNNEAhkQv/wlSSX+Hz8CnrLdUxcME7cL/Ax83+XlOIvuYZJrMCx+m8hpfhoJs2RN+1F77Bz7N39jM2wCo0eZ09u/9NJKWMJucJH/KurlyT12CuTJMiWVSzibyAxor9MjqA/FAgrxBRZYTvYk+ur/m5Bp7AB9JGcA93CPtB5+kn+iH2wD72n3+Q4jB2xj8WNwEk+yCT1IXfqQ/+xc4g3+5mcIAagU/QfP4eOsGqHf3DLuUgp9k1MoG6O4+uph9yW+tlPDMMXkXO47wUILOeblFKoFwKNnuIb8DlMxjKpQZvpN2Qyp7FkBZ6Jb/wAMkYGjAc+Azti4g+/jhywE3zVv0JKsWVyd/ww7UOPySmIYbSN8aGdgW3zSOl/B847KUWpme0hkUTxcIQYG8qMIyEY4qggkig8SRrOi0SdZIxEmCSe5JKkAkfCahxJDv8hxR8akwS6SS+ElvuheCRDPHpBnTgUDMB99IskDmMgCXAdMwpMuzAAAoVbOE6iEpjgEiBwyBgdSXNuFPqJUZGkM2tGAGSmHCOD2HCMftFv+glhcmd0CRQkfDhCHkGFIJKckDQw0w4Z43wIPckbToMVRIg8jo/klKQfmWRPJlgp5b6QUsiTW5AliQ0O25Uh7SSB5DvyDJwVJYCQXDOGPMqVGwVHxu9HSGghTvSJwr1x3BBQ7sf4Q9pJNNgybhAdJitwVoDEkyQekMTxSAoOlUQPp4o8IRPI0X0DH6uyODr0nITVLUwiMGlAu9xkiEDFte7kBudDjCEEtAUS4q7IMD44Y5wrupobhZUSl1ijF7QdEsUMMwkrgRhbIdjRFmQCKUJ3sB30D7kSTAie9J9AwWf0gJlKdIj+MA7oJPYN8UZ3kDv9p2+BwYJgTBIBeLQpsNAG2k2CgIxIFvEjJDyurLIX/Amz3LQl+299/t1COwjS6C0THBB5gh6yY4u+oCv0mzEj8UFm2BV6w6QHdWAD+D8STfwbb1TFntFL/BqyRrdIVkl+SaL4GwX8HcchEe7jrQB5Uhf3d+XhPjpFMub+LvxshfZxHrJ1fePfLfgAbALbIqHDN+OX0DlkR+JB0o5tkNxCQtFLZMAkBr4v+9jif/Hr5yKltP9cpBRChl6QIDMeFHdyiKcWmGjhiYpA8kICySQKpICJImwWO2GMeaQ4twp1kvgRd2g7sYX3IjCxhYyY3ECG6A62hC4QG5EVuggRpP/YLZNvxDF8C3XiF9mHHpLIEVOQN7EAW0Iu+AHO4zq3YHeMEf6Ac92C3uGb8KmMXfbCGJNYZn98l/vTHxLC3PL/5yqMFTkDtkTiGuifsxdsEzKJb0P+xF4mA9yfaiBn4gJb4NaLvhF/8A3IhUI9jCdjxASIq2vZC7LDdiE0Z/uZAT6a+7Ai5U5u/t1Cf4hN5F/ErZwK8iC2gsAYThvw1+Rn5BX4WvedCW7hOMQKe3LJNroE0cKn0V93IeDvFmTvTvyho9gNk6vYEfEI28Xe6S9xD7KDPmNL+MxAmRIriGWMCXENXeDpKuTE+dgS94BckccQl+kTeRcToIGkFLKJr8G2so8/+oHckQN6Rhvxb5B3iBLtxYexH3vOiXS6E6+5OVlBTMZGGHMKY8ekdD8j+sRSJhmRKf3GJ2HL+JicCuOL3PAR7kQXsQbZ4uMhrNgZ7cf34IO5L/4nOylFl7guMM9G1uTuxC5yMrdgg9gcY4yeB+olOo08yVvIcbP/VCin4pHSfx7nnZQya4YyoWysvJCokgBBQiGoECoCLU4E42YlBaXEWEnaSIpxihgeyR/BEMeDQmLwzDAxA0Zix8op10Iq+VNdjJbkDOPACJjhch9XYWWLmWZmmgITV9qIouMQAp1M9oKy0w4cT06zxf9OwSmQzNEGZhPpO0k9DhCiR8KOQdFXEgsSNBwF/UdeGCJOADmxGsOqJfJCJqwoM0OFPHAqJHYEPBw6jhcZcAyCzwRCYDJBXTh1CF5gMgG5IElmMoHPgYU6aUegbCF9nI98s69G/J2CIyJRp43uZAKyJHlAT5ANJAHQN/SK30zSH5I5ggRjTTLFuKNTJHEEVRwcM8EkgNRN8CFgIE9m6UjuCC4ERfSLVSoKSRCPSpPUuUGdz+go1wc+Ioh+0jba6yY2JCkkIiT0yDE3CsGNPjJpgZ7RL5w9xIpC0kjgZaLDLQQjJi5om1sInlyLLpJYIReIJwEM4o0eYl98J0EgQUM2TA6wL3shWLFaw3F3RTF7Qf9JaNDXPwsmrBghNwLn2ZK9f7WQ8JOwkNRDRtAHdAMb5bOrLwRQklnGk8CHnLiGtiBzZr1JdAm6+CTki8w4l9/4YtvYM3KDoEJMsC+CN34SG4XUuQkEcmciKTAwk2jRRuws8OmOnAptYrwYc2ScGwWbx+djK7Qdn46vRc+RB74F+8ff02+IOpMO9BvynZO+MzGGTM5FSpk0ORcpZdUKvUD+JEDEFPQaG2YMA58OofCd5JKJEEiIOykJoWaMsfncKtgINsC44W+5L/JCp/BH+AJsjWP4KPqJD8F20Ac38UVP0Ul0y42hJOPEAsYXPWW1lYlf7sUYsdqODkB+8NtuwRYhlvix7GOCTpNMZt9P0oc8mSyBxAWuEvHYNffB7/4Tvyml4G+4ZyCpzqnQTs7BzohR/HwIOfEdvcHHIS83BrDftXPIGeODzqP7JL+QNSbhGMez5RHoHpOj+JGzEQviCBNT2H5ukVLyCOwQ38G9IYzZC6SJ/IDEPvsKM3YAOSH+ubEjsDDRQV6EbLArt93EF2SGfHMr/geSUnIA/Cp2QxvwL9gBNsLEOUQamZO34XeyP3KMDRGnSpcu7eRMbh4A6Afjjt7jg8n5kCMEkpwLebpkjsJ3fB5+42zjj24wtkzcBU7S4l+IucSbs405Y8M59DW39AL/SU6Nf6HPyAt54neYmMeu0XXGnHjDd84hhmQv6DP18EQZ+St5GBPX2BRklvFClug1E7nUT07NREF2Usp4EeMCcxAKciPGQWjdwkQC9kouGLjfLUw6wg/QQfeJo3MVj5T+8zjvpJSEHEVhS0AlScFBoHw4dh6rgFgRJFE8kn2IGIQSwuomEBS2OEgUHnJEMCb5JXCi7FyH88BouA8rNgRZnCjXkcS5BIGAzjkYB0kRDgpHjCExk0ObmOnP7rgoOAH6gkEx64vTy41C+whukEeSNAIqzp1EikQDR0tfSdxYPaHPkFN+fI7skBeJAudBPggcJBokhTx6QT0YMe3G+SAfSCjOgaQIUkAgYdIAB+UWkjOcO/sZN+QJ+cIxk/TQRpw5s2aAgAzZIYl0V76YdcOpkODhyP7KoxN/tTCmzF7i7AgkbnFnv5mpI+kmSWC8ScLYBq76olM4ekgZySGBDqfP75SRNX95wjECOYkEqzo4XBwc5+IEIZ1uf5EDBBiSQhJN0sNxVvZZkSDBwWkyWUN7aB/OHceMzkGWcfrYyp+tdv3VgpwIkOgZ44euE1DRFVYeCT6swtAedJqVP2yUBJgA6U5UYIcEBHSOZBebw5YYd2wSXSHZYcKHsWYCCuJFPawg0wZszU3gSFA4D3lhc+x37dQt2BvyR95nW9GjXgINCQGBkIQutwI2yTZ9xH5I8kl08V2samJz2CxBF7+BXaI3JBwkRugLbUdHGVvkxwQB/WRVAR1APgRjfA9y4lx8H9cjSwgF1wSuyODTSGxIFBgHZqfRM8YOW6Yuxhhbdq9xC3oG6WCCgushx7m1esHEHySctrNahCzwWcgOQkJfsTXkiY4wyUCMwAdBpOgTuoaeugUSg1xo69lIKRMQjDvIyWaIC1yPvlIHekdyil8kkSFWMCGI/NBZ7ACijE/Bf+FLaFegfuVWYfzwXyS8+Ff0lgTKJfbYDfJAd/AdyIJ20gY3sXMfi0THsGVWc3kcH71ExxgXSBV6i04iC+pmnPDj+Gxs3i1MKLurNqzMQF5I3CECXIP/w9Zdv889SJLxkTxl4sZO2sS1EFjuie/4KwnhXynoDbqB32D83LYAxpB4Q04BSSYuBh7nfK5zJ3yRDXaD/8fGkQnyI0YyAccxbB1ixX4mkIgLkDNiANe7E2b4QXSd5J44E7jahR7hw9Av2sZ5yD3wHOyVuvC76BrxNdAe/m5B/tg8cYdcAFkEAnsgFmCL2X0oT0GR95Bv4T+yF+SMjHhKjRyAVUdiDH3AT+KTciv+M/mE3mIDkFIIDHGW/A7ZYU/0gVwIgkj+Qt7DefhK+kJbiB3kAORc5EvkCtgN+RZ+CZm4E1jEKuIBsQu7wK8xeeTmqRR0nXFFJ7I/feEWJrMhwLQRPXYLciKXw06IEYEF3WHsuB96QXtzSy9YNGDM0e3g4GAnB8fvuIUFDuyC8UVXyVFYRcUH4FuROfJErsQ1xt6dZCU/wufgS/Cn9J14j+4F9pGciPHkmEvUGTfXBqgfH8S44wOJcRBeYhz+hjYwec2kEjkefp56ANcyUQbXwC7dx8vPVTxS+s/jvJPSwIJxolwYKwZOwk5CQJBnltJdxUKpcBwk7xgfRocDwBBQYBIEgjGBACMiwcGwcQ44AZwogQCCRwDnviQsKK2r6Cg2gQmjQnkhLhBBSByrWSRRzNbk9JgR9XEdzo9AfLbfjPyrBceEcyXw4WCRCwESB0qSxz1JPiCHBElWnZETpJCgixPA8AkCJP0kWMy6kQi4CQRyhkxyLQ4RB+T+FpAgRdKPTANnsnG2kAISDpw0jsN9xAmyS2IOQSGphuQQrCDKOHV3FpbxxhmwOk5dgQ787xT0grGFtEMC6AeOmzFBTzhGX2g7v8uif8gV/eAY56AL6Bbn0U4CCk6WAERwQh8g/ySIBCfGCPLO44QEBVaecXYkFtRFwTG7iS33Rr9whMgInSTgEKDRWZwqEyNu8Ee2jCvjTeJ5tln0v1NoHzqFvqNrBF7shUAOCSL4kNQiT/qIftF+VjuQFfLmHJIS9kPGCDCsmGNH2DJ6i0xIlpEdukGyg3xJEghuJAMAEoFc0BES2uwFm2OVDJ0624oe40kdJFok5SR16EduFAIYs8NMgjHeJOsQU+wKOZLskIgiA4KqO9mDDkAwWXEgcJKcoCO0lYBJgoMOuBND9B87xjehD/QDWSFnZAthcSf5IJbsg+TRZ2ydxIL28FMG9BabgPC4BMEtyIX74Y8Zc3Qfu8mNgr4ynvSdfuEP0DP8NP4SH8B9kSErx4w/hf6iG4wz1wVOPjD+EHtsJtAnu5M4TLLgV/CXnJMTKSV2sJrFRA/E1H3MkAkm/AI6jF/FRhlDxpafgCA/CjqAPTBG2EROK0z/bkE22Bv64CawJIT4W5IxdJ6xZ5zw/7QX/44OkeAhM5I3ZIF+ISOSf/yX+/guPgj7IOHFt6FT2Cq2jGyJI4GrC8gWnWVyBHumjYwJEwlMvPBbaPQcuwboMTERO8G/uAV9pS+MOffCh7hj/ncLRJv2EPe4v9sWxhAZ0VfGl3by3Y1RgEkArsMnQUoh29g2Oog/J0aS9EJsaT/+itiKzqAbxDj0BD0mXrAS6NoZuoauQ/qRdaDOMj74CXIdZAgJIn9xJzQp6ADxmFwJ4gMRyS1fRmFsGQd8B+Piys+VCTrOMfyJmzO5Bb0nBnIu8TJ7QU5MWrAahWyIZeQH6Cg+Cp3NrfjPmDFZgL8gjuEHARNO5EDoBkSIvjAGxFO+I1f8NddhP/hR/Bbjgs7gI/DZTLSiB+SkjCV2hA1B0CDafEde+JNAnWb80SFyKfxdThOp2BUxhHEOJJb4ZSY60MtAwkbBR3JP1wflZoyjbvQbX01+w33QO9qAfLgn5BKfQcGuiVPoAr6L8Wbs8dXoM7/bhZAS+9ET4jr5J/mO+/QJ7UcX8Rf4cHwSNkru7RJ17o3fQP7YAvrDGDChQ4xDVrTb9Xnsx67Ia/GdjAv2RN6LrpP/4df+ig/ySOk/j3+UlJI0kFRi4CR3BDBmNEheSdIhYyRTGAWOBhKBQmN0OAySHJwMST4EC8eBU8EBETTcGTOcKNdgIJxHUodjwNhRcLeQGOKgcK4YGkGbxJx24YgwBAJF9lUbZlcJ9hhObs34UkgKaTN9wXnSZhIl2g3ZJsHE0eEICJ7Ik0BIUuk+NkgCgvFh0NSHo0G2GCgGz35mjCD19BN5sYVsQSAIJsxAUW9gYeYW2dAGnCkrBjhiZEsixZbgQxKF7KgXR8F1yA8HR2LA+OVW8kuhfzg6dIcVAPQFh0MQInCgK0w64CT5DElEZ5AJ+5AxSSfJDXqDowIETZwcv0slqaAu+gBhQze5F9ejT5zLNfQrUFdoB7JAZiR7JMoEOnSKWUauR24kLzhmt9AfHpkjcEKaz0fBnnDsrGJBLmknfYUQM75MytAG2s2KGsGZVSVkRyLATDE6BLlnH4EZ2aA3JCIQagiVq4NMLjEJQnKCfZPscT83ASdRY0abYMj9s9ucu6pH4uE+Ip29sNIHKSH5hOxkr+PvFPwJfXF1gzZANrEddIkEj33IAD3HF5G0uLrBljHGbgiUrk4x/gRb+kYd+CuuJcmlQISQJ77GnRjA/wTaEEk0to9u4xPQH9cG2YffzD6xQX9oO2OCnebmKgxyx+7pM/4MwoMuQ6hoO21D9xmj7L4A+ZDgMI6BxBI9I2nG9qjHLfhw2o8PQo6QSPwXOppTYT91cw5PJnAPZMQ4EIfwYS7YBwlFphT8AfcnMQt8XDo3CskWY8iYuWPFOOL7uS/+2X0iAULICjRtx2chR/wd56ND6Be6hX3js9E1yAC2yZMPyIjkjOMkaOgV9REjSNQDCzrrTtZChnlqhrqoE11Fh/D5AHkx3tnHFPvHR9Bu4n52kvN3CjaH7GgbbQgcP/SMsaWtyJXvgcc5n+vwYyTFtBtZk+wjJ64j7iJf7IPjbEmKkZtrX5AHZMuxQJ+D7eJbyS+I525hfNFZ93rkiH8NzE1oD5NTkBbGJDd9mVsYWyYM8busfCIP/DaEgclv4lROY0X7yT/w34G26Bb24afRWVYh0Uf0jRhAH3OLRFHw+egj90L/mShmEp74ROzCb0KCaBP9Jb6xmEFuiV8i34QsQxqJRciCnBRihN9FpyE5+fPnd146yXjiA7iOiQ1iOwsr+H383f9j7zvAqrqytu8kk14mmfTek0kzJsYaNfbee++9d+wVEUQFFewKKFU6UkV6k94EBEUpAnZU7CXvv959vQlhrgq25PuH/TzruXDvOWevs/Zq767lC/0Gr2FHFzvAKhb6H8qZ+Vz5mSzMQ/k98zFdfNQVdkyxfsZbvvPD1gv6U9oocyJ2SHD5B301dYMxm36A+Yqu0CYINmlH9Dl8T8qS+sx7CDyZw1A27CSgn6KO0ZdR98g/81FdTKS86bPoR8rLk7FW54PYQcfORV5L/8P8jrGWz6fe0Y/TrujXGBspW/JAH8QOIOYllZVbNSh9/HRnUOr18EEpk3Q6CPbk6wySikZAQfDFpIP/0+CYWDJ5oIGwsLeGDoNOgd/TITI4MEhSeem4qey8RhcU2WtJ58mEiIFBN5VSVxhE2LNCJ0UwQ8fFnhs6ToJNGkv5ZI3PpcHRWZEPgtaKPVkPUmgodPgM4qybBkwgxQSISSsDBx0Vr9EFQDp4ypUOgSMS7M1iD7rO6Pipu7d8YCTffEfdu9L50dhZH52Qvp49Oio6RN30Fd7HoMNnMICRDxL/Jsij/CkzBnUGB95LwPwwC50NQbkuYWUCxcSTSQeTRya47Hhg4qHjUzcywB426gWdmr73ZSFYYlvwfenkqKu66VqUa3n9qFiYMDFhYV3sgaUT1l3PzgHqGr9je+sK+SDw4PMr9qA+zMJ2oXPmFB3KiPpPfhj02EYM7Owc0fHG3yg3BhqOCpIvyoZ6wwDEIMDAwd8YXJgg8FksrIvBgSNY1FEGcdowg5vOVgnc2JvKNqQuM8mrOJ2N9TFZq5go0Qaob6yDYIO6xgD1qAvtkCCL+kMbJSAg79QpyoO2ULFwRJzJMYEnpznSJumTmAxQl5ncUHdp57pCG2P7MFFipxHXzJbXCyYxuqmYBLN89/K2zXbQyYz+gLMIOM2JPoG92+ThYSaK5QvBJBN8JqTsQacdUL/paysmcSxsRyYV9EOUp65QlkzeKevyaz95PTsFqMfsRGGSSCBZ/pryhXrMtmHnqK6TkkQ71PkvEv+n7GjD1E22D+2FOkwb0JeMP0hhnGLCxQ4ZXSLKESnqBHWebU6QwvcjgOS1BPAstCHySaKvpV6xc5IypG5QfwiQ+CwCLvpF+kvGXOoTk2Z+x9FQHQAvX+j7qFuMo9RzypZyJ1FGlBf9FmVGmyhfqHtMuqnzlJ2+5PxBCt+dHVasv3z76dqQ7U3gQj4rtjGJ91E2uk5B8kdeCSaop7xXF0vLF+oD5cpOYsZDnU8sXxj/mGATKLFdGXv4LNbFtiBPlCGfw7amnvF3/sZEn533bGe26aMqtHu+P3WpvEyoS/rem4X38N3YtuS5YqEcqLM6++bzCfYZR+/0zPstjAusizZDn0b/y7jJ/JKxl76BdeviDHWA17ADiMtzdEtpyCOvoR3SLuhP2G6M97Q32h2JdsL8lPfzfz6DgJv3VYxLbFt2PPA5BF0Vl0eQZ8qQca68XJgb6L7X+WX+Th4J1mhHjBEEjY+isH7WzXjLvInxjLMo+M6MrRV9BK+l3lC/eQ/vpz7TT7BtdIW+iIMA7Ohhrql7N/5NgMmcn76V/oJ+pLxM2AHHEXD6IHay0nZI9N20H9ZDvaPe6uyK9TPP5W/EB7Rr+n3mx5Ut1aD08dN/g9LTt0GpBzRvWf43KH1eQOlL9wlKqWhMNEhMjKg0NDL2ejDgM6Gic+doEsEoe4LoyFio6AQbDAK8jkpXvvB/JnxMyHQBhoVJNZWcSTI/aey6QidCg2DCxIDMXpa7FfLMBJwBmlOZ6Mj1OeWHUcgbHSiTOjozBlcm6jS6ioXGzR4typHGy3fUGTSdNuVM2VCWFR1n+ULjZQBkwlUxuWCh8TM5Yk8qe7rKg4Y7FTonJonsMCDY4TMeZmCiY6dc6KiYyNNxs04mT+yNZp3UKdarKwQBlBVBFz85anmvKdh0eHwmgblOl/jMu8mT9zAgMiBxVJ/83O16BkX2+lO/CE6oX+V1+WEWtgEdOoEhwSATERbWRxvSjQ6UL9RBOvSKgI//E3DQBhmceE35zhrqJxNHJny0axJlzuRLpwuUC/mhbTMRY2cRg0tlCvnkezAZZ4JB3nXT6B51YRDmu1CnyD99FvWNdqvPhigHnW7yvvL6QF9CfaE+V+zsolwJutlWtM/y99FuOSrAXmMS2+JOhW3B3wnwmDCRF9qMLkF42IW+iPzSz9L/MHG8WzJFmTHpYYwo31nD78k3n6UDbSz8nj6Pdk6ZUvZsC8YLfYXf0xfSJ9EmeX1lCjsfqF/sbWe7PWz9omzY7vT5FX0E/QJlwrZnR5iu402ffhEsEdAwTtEOywN/2hpjARM0diDxWfSBlBuTaspF33tRF6nXuhFHtmVlC+2A4JgdDXwG49ej0rUHLTrfR1lQn9ge9yqMNdQN2m3FThbaM2dxEdwyv2COowNHdyqUDf0kk3Odrt0rNlUXbaGvoY9g3KSfpa+p2HlE30H/QxuiDTD/5PXMk2gf9IW0G8Z46gA/6SPoJxlj6INJ/E73N+vhfRXzGl3OqvM1utkv91PoE9h5yNjIQR3WWR7wPYqi8zv0Dzq/Q3u+X9+nyx9oK+UL240jnbpcrLzf1xVeQ79FX8LBAdpVZQvfgR1HBKX0jcw7KluqQenjpz+D0rP4xy9noKmZBs0XrtC8ue6/QekLDwBK/66FjosjrHRA+nrvdYUJKK/hSCkT0P/FQoBMYMpRbiZA9yp01hzx5RQb/v2/WAiuCDIZBPUlkrpC3WMAoC6WHyX6XyqUD0ewCOQrdjzdqRCUMpHj2iD2kP8vFuoOkwbOGrhbMs2kl6CCowhMqJiM/S8WAllOwSw/Fe1uhR1eHK3mZ0XQ+L9Q+M7s+KAMmPhXFljSj9GfMan9u4LRR104ZZR2SbB7t/yChcCYnQPs9GUC/6g6JavL4yu6UVuCqvsttD/6LOoFY93/oi0xzlOGHESqyuwBAljO0LnXzDZ9pRqUPn66Myh1FlC69n8DlNLxc9SPvWgVe7vKFzoCXsPE+W7X/f9c+N7sAWRvVmUCJq/htXcaufhfKdQZ6s7dggllSz0k/S8nIzobq2zyT7lxVIJ69r8KslgoA8rtXokvZURZPapZHv8XCmVAWVXWL1Xrl3bkhDK412hf+cJrqyLn/x9LeV27V95Q7cv+/yu69q8qICpfyuvF/2KnmK7ofNC9Ylz58iA+qBqUPn6qBqXVpbpUl+pSXapLdaku1aW6VJfqcrtUg9LHT9WgtLpUl+pSXapLdaku1aW6VJfqUl1ul2pQ+vipGpRWl+pSXapLdaku1aW6VJfqUl2qy+1SDUofP1WD0upSXapLdaku1aW6VJfqUl2qS3W5XW7cuILzpQU4UXwAJ4VOlQg4raZHSmVnMnDz4gH4RB25P1BqG3Ln3USrS3WpLtWlulSX6lJdqkt1qS7V5f9SuXnzKsrOc6Q0A6eFzpzIqqZHTJdKM2+D0sMCSs9UFpSW4B+9i/HFxCI4RvxxZlx1qS7VpbpUl+pSXapLdaku1aW6/N8uv+Hm9fO4fLFI0ZVLxdX0SKkEt64WAzfyERBbiDoTOFJ6Gpof7gJKn9eB0t9HSjl99xZ+u3UD3Kq6mqqpmqrpUdJN0s2bWqrwWzU9XLp5Uydr/b9XUzX9L9IfdlFtG9X096dqP36/dB03rl/B1atl/9/TtasXcf36JaGL6u+/im5K/cBFhKVfRL1JZXii/kloaqQKKHW5Myh9udcJPDXwND4clYv5G2MQGeKLfQHu8PNxh6+PRzVVUzVV0yMjf19PBO71RWCgL/z9vPReU00Ph/YGeGOfyDnAf4/4d/3XVFM1/a8R/Q59EG2j2gdV09+Z6LcD/L3+8OMSP/VdV036ifLy8/X6/572BvggaJ+/6Im/6IkPAvweL/n7esPb2wPB+3xxouQworJuofGMG3iywSkBpcl3AaV1D+FffU7hueHn8cbAdHQcbYHli6Zg3aqFWG++AuvMTfSQ8W3S91s1VVM1VVNlSHzIWhOYrzGC8fL5MFo+D6tXLdN+f6frq33P/ZHImXJbabwIRoZzYLpyMdbe0b+TquVcTf8rZAwz+iCj+VixfC7WKB90r9yn2jaq6a8gY/HbxlhlulT5cZMVCyR+Llff3+n6al2tQBIL169d+f8xmWL9OlOsNjXECsN5MBG/tmbVEpitWqo+HwexrlUrJddYPgebLAxxKCMCkZk30dTgNzzJ6bv3AqWv9D2NF0aU4V+9E9G4jyFWm8xFVIg3EhP2IzExTj5jtX/fpiT5jpSYyO+rqZqqqZruj5KS4hEVGQK7nRtga7MBwUF+Wr9yV7+j+62aKkuUc0L8frg674T19rXw9XZGfHyMVp7qmj/kTPlXy7ma/idIdDxBdD4yIgh2uzZil40lwkL3KlvRZxvVPqia/lIS30y/HeDnAatta+DuZovo6DDRyfLX6fRV68f/0ONq+l8g1eYS73183LBj6xrY71qPkH3OCA/xQGiQ62Oj4EAXBPo7IjbKHedOHURE5g00+n2kNOXeoPS54RfwUs94NO2/AnY2FrhYehzXr13DteuXce3aBaHzuHb1nPrUzlO+Ir9flP/Lqqmaqqma7oPoR67i3NliRId7IzY6CKdOit+5Tr/D38XvXKXfKVWff/idSxWeU033Isrt6pXzSEkMQ1iwF/KOZMv3V+X72/5dyVn8u5Iz16KInEXe+p5VTdX0/w0pHb+Es2eKEBXhg/3R+3D+nPgbyX3UWqzyuY+yjcta26j2QdX0V5DoH9cL5h05gJBAV2QfTMGVK9TJq/I7dZW+nLpaKjqq9ftaH1+dq/+vEH0T2/1QTiqC9zojYb8fSk9l4+L5oyg9fegxUo6q90rZYfx26ywis26i/pQrt9eU3hOUcvouQWkCWgxaCSf7zbh66bRcdRVXLh3HxQsFuHL5OK5dOYWrl0+h9Ew+Tp/MxYVz+bd3sTqGS2XVVE3VVE2VJ+7Odu3yCZw+kS2g1BNJ8REoK+NGa1fV7zq/c/3aabn2pPI7Z5TfKVB+p+Lzqkk/0T9fFTlTnskJexEV7ovjxYUi5xsi1xMoO08/Lm1x27/zcHH693Nnj6p7L+t5ZjVV0/8PpNsh8tRx8UERXkiMD5Mk/yLw2xXlY5QPkhzo2tXTt3Ofgtu5T7UPqqbHT1clHlLvjuTEISzIHUdyD0rCfw03b5xD2YV8XJLf6OuvXzuDi2XHJV4eEXBwFJcuMA5U6+v/Al0Wn0YdOHQwFqGBLkhNDELZuaPyXaH6fHx0RNHNK/mSa5x7MFBqv3MDzp0pxK0bZ3DmRCZOFKWJEy6SBPGcJCrHkZoUhrjoPcg/HKfOoeGZPydLDjwYFafjxF2Iv+u973HSQ+OH92rvp+xOyefvz/3TdQ9AD4XPR0A6nv4OvN3m4eG06d+LTpWIXh3n33y3tP/6/YGpnNzuV3anxbeUnj6I/CNxCN7rhJjoIJw9exLXJKDqnnvhvATZK+fVSEZqcjjio72RdzgWZ08dlGc8BL/zP0D0MZQX9SAmwgMh+zxQmH8EN66XSdKSjZJjKZJs5yn/XnbhFHIOJiAmag+yDoSpNqqSf1eHkv9ZN0hKP0j67nkUdPtw9EdG+urUQxXl8Afxt/K/6/4vT9rfHqrcbj/vj3rL1UHSd4+Oyl2vj+55/9+QqN9nTmYhLzcOIYG7ER25D+dKT+Ha5dPKhzL3Oc/cR3zQ+XMnlA+Ki/YRH7Rf3afvmfdF0t66NviTPEn6rv8rqRyPD8Rn+Xv1kN469Px/V9JX7+/E39NV/qXzcb/X96fr/j5EP87zNQ+kBGOvrxOyMlMlPp5TnSclx5JFn3MEjJ7C1asXUFSYI7rqh7SkfSgpTH24+qqjSsv6MdAj5EWrI/yb+sF86gHrKM/rQ+aZPo16kpYUhAAfe8Tv9xfesyTGH1Kfj4tOlmQKZeBiabYgzjMKlDaYevX+Qen5s8cElJbKy2XLS2bj+tUy3iYO+yQiQr0R6O+Ao4fiBLwelmty5BoxlgcgJkd8jn4iD/rve9yk5VMrE32/V46ytCTP4jA3n6drSP3XV5108nwwPh8NkTeSvt8eN5XXu78LTw+Dzp7STp+gnp06nvlfvz8oPQy58d7zZw+jMC9JrXnYfxuUXr92VsuzPJdLBFjOnC5BRJgP9vk74khOLC6UHvn/qr0eJVFO9NOU6f7IPQgN8rwNSi+KjhxWgePSxVNKzleuXEByUgT8vG2RIkHtfvx7ed3Q0f9qW505ST2nPHSfur8rQ1o56nvug9D9to+++8rT/8U2Jt+MwQVHkxC6zwUxUZy+exrXrrBDntdk49rt3Of8+VOS+9AHOSE3Z7/4rtyH+s7UFT6vIum79q8kHZ/l2/1++dQ+Sx/9txwq0t3v11/fn0mbh+l0gN/RRz7MPOxhk/LH8u6ZaWEI9NuNg1kEpRfUSCiBzfmzhbh16wbw2y0cyc1AgK8j9kd543jRAaWv+p75oKRri78DPSpetDpSPp96cB2pqMsPi8gr9SQ9JRR7fR0UKOX35yTXqnjtoyQtpsnEpXM54j0fMig9czIHXF/BaQIninOU8w7auxtHD8c/BFCqbVwmmVcvFQgV/hddupB3u46/0llkKeXhcDT50SZ5+q6rPLEnoSg/TRwGe2spR61jfBh0oTRX+MwXPnMVnw/K68MincFowfjDT7gqT9r21OpdIa5cLPzdaf+dg9K9SevgSo6lo7iQvW+UOZ3Rw3V8lNXlMtrrMbVWQetYqyY3tv/dQKnyOwqU3pD3yUZYkCuCAsTvHIqvBqVVIMpJ66/uBkq5XOMmLpwvliDmB38BpekpIVX270wGeQ99z1WxKZ1tPe72+gPUkXT/PwzSPk9fneVJ52/LJCBfuXhY5MDPQ+rvKxf598HblH2b+HeWUKaiq+p/rQ9/mHFB+Tyxuctl0j6346u2fe4MsHTv8ofN/zk+k8inLrF/uPRofTF1+26gVOeDfvvtOk6UHBI/JbmP+KAjh+KUPB6WTtNumPTSHzLHoE+lzZx7JDJ9MDp3Jud2HpSviHzeT9trZa+ftHI4quTwuyzEr1BPWTd/v9P9525/Erzpq7ciEbAVFXD0izwdUm2u77q/Ayl/LO+lH5QeEPlI3n6LZ3GWIetAtPhxO8RF+0renqH0Vd8z75eo+2yDqsaIR0HkhTr4qHgpOVZeRw4/sI4o3RVeye/D5lnXJv+fg9JDCpTeunlFGidTnLczQgKdBZQmPJBAVcOIIt0PPaxgUBmiDH6vW0DeuTNaB/kg731WnGZ+boI4DH8czEjAhXPHcamsWDXig4IinVJq6a8Gf1pie+lIvb/Q42zD8sS62ZY6+ZB07ft3kNX9EuXJd+DfBwRQJMQG4VihJMKXTsv37Jx4OL3AOvmVJ50MdZ+VaVs+516glKMU7AwrKsxAmFzDhfv0O9WgtPJEOVHX7wxKJXAoUHpDEvJCxMX4IMDHVnQoVN1XFZvQ+Up2hp2TJEh9yjN0evK42qz8iMmjIH11ViRex+npF0pz9BA7xPhbecoqR/z/kEokH6bM2JZav/dH2+jah7/dqS5l83J9qcS+inRebJF8VkVP7kVVkfODkHovefe7g1LxQTevqtwnZN9uBAcSlMY/lLbhO2o7Ov7sU8vHJX33PS7i+xEE8VPxKp+KR+qM6ANlwP/vp+3Vs9W7a+v4U55Vgfh87fV/yOn3e+9A99IfPuO0xMODByLE5+1FYUE2LpedlHfKUz7xrx0E0U/KH4sc7gpKb14T/S1FZnq48uPsZHxUoFTXJvzUd83jIB0fOl7uRxf1EZ9HHeFnhsg7fn+g5CoHcVliJTEAp/dTf/Tdey8qz6tWfvqvux/i86gn/wdBaS40zyXguTo5eOX2OaX3BqVXcbwoS4HS4AcApTR4NsK1K0XCyUVp5GPY47kLBjPHY8b0serTYOYEzJg2BgazxmP71jXKqHgtF8zi5kkxwjz10lrnob+ee5FWaFrS/702iWevMlCGi2VF8PX1wPZtW5B1YD/wGx0Yk70/nqOj8s+rSJQXnfqhg9GiNI5ISojGxYvnRB6n5d77Aw5KDnIfexVvXitBeIgXtm0xQ1L8PknsiwXw5j+QrO6HdO9BHbl4Xju6zAX6yfGBSEsKRp6Acl5DA61478Mm1qPTu6uXj0l7XsDN68fFaTtgtujb0kUzEBbiKQCOaxiL7qsN9NG9Rql1v9/tmsoS5UgZM5gSfATtdUd+Xq7Y8SXR06Py/lxnev/vRfldKiuQJO04EuICYbJiHqZMGgFHu80ok/aljQCl+O3GcdWbzevvpnO0g0qB0t+uoVgSwrAgl2pQeh+k04vKgtL4/b5VAqWnhEpPcxZJrvydg7j9odi6ZT2WLDLAogUzsGypAXz22KP0lMSRK8Xaex6SfZUnpQ9CxUUZOHI4FYdyUnBYKPfQH3S4kqTvHj7vUHYy8o+mSQKo9Vv6kgl+d+nCYdW77u8ThtWrAmG0PAYrjUOEAoTihQ4JZQsl36YcoTyhYqEzMDbKgamJG3bZbEBWRoiyJ4KUinVVlnhvmdjM8eKDiAzfiw2Wa7Bo0Sxpn+lYYTQPwUFuqo5r4hvZNlrStpOawSQxJDwqEMtXrsSUWXMxc+5CzJyzEDPkc8GiebDesQ7pySHKLh+ET238E9s/dVjA7jGUni2SNhUdle/ov/Td8yCkYrEknvcEpbck9zn2R+7zoKBUp/9lpbki8wLh4xAOZsaJDwyGt9duaffN8PJwQEb6fsl9OMVUv649CtK1O+m82P8lySmuXMxTdEb4TE+JgaebHXZsNYPtTgv4+zojLTkCxYUZIsu7AxT+xnc5LjaakxWP1ORopCRHIjUlWt41TuwrBTkHk1U7uLnYwmq7JWysLODmug3BIvsAAWLeXo7q98wDccgQSk2JQprcT+JzUpKiBJDF4lh+mra+O/DD2HNa9Co5fi/2ynOPHNG29cXzAvDuATh08qlIlb1G3/flqfxzypPyx/I+9wKl1wWUZqVHiB+3Q3zMwwWl2jbMUTOxMqWOJMnnCICL8pOVjt6vTdwPcXCH71WUnyo6GILkhEA1g5OxRpsL6b+vMsT30IFSdtQG+rtIXDkocfMSuMlrVUGpTm6Mt4ez96sNiJIlP0+Rz5ysaIkXaco29N1bFWIdfPf/u6C0dlVB6cH7BqU6g2Nie7EsT5xPDCIi/ODibI0J40fg51o/oZaiH1HrJyH5u179Ohg4sA/cXW1E+fciLnw3kqPcUJKfiMuXOO2IyXblwRbr5/VUtutXBJzcOokb8sl34OYSdKrXLhfit5snhE7hlgA8JjjRMXHw8HTDuLH90bZ1bUkcDJCdFSOyoRJki1MgGCxWgJBTWqiArEefg9EpDUFpgChNogKl53H96hnViPruKU+6oHGyJAsnpA7Wf+USndEZVX9qUggmThiB5s0bCZ8LkZW1X/Vmc3tmfc97mKTjnfLl9BsurqZDLC5IU/oSGeqB3fYb4O1hI4YYpwIAnQrvexjArDzxmaybf7Nj4eaNM6oDJFeAMddFe7pZY/Toofi6xvdo3PRXLFs2D8lJodpeYGmjB3GunOZB3bhcdhDXLkkAPKP9Ttt22r85inLtcg5uXT8susjeX+qM9nd9z7wXkV+tI85CTKQX9gW4SQJNUHpZZHz/oFR3D3XsuiSnqeLsDJfOQYsWTZSNDh82AC67dyA0RIBwoAuiBfgwYN28LrYlwJ/JrrZ9/1w37aDyoDTrfxqUaqem3d9Io04vKNN7g9JjVQalJLbj+bNHkJYajdWrTdCsaWN88tHb+PzTt/HtNx+KPxosYDVAkv1iSW6ZhOfc1gmtflXUjfshFdDlXY8eTVfntcXERGP//hjExcUiIYFnS8ar89sqQ7w2MUFLSQkJ4lOTcSBZnhufgPS0BBQVHpCESNs7X5EP2v1vN48IIE7D9Kme+PDD7XjjDXu8/Za10GYhV6F4vP32AaFkoQyh40JlQjfw1lsQysX7781DmzbNxKascONqkepwrFhXZYn2Unr6COLjwrB06UI0aFAHH3/0Fj7/7G38+MPnmDdnAg6khuPm1RLlK/lebBvGDPrDtNQwGC2chFZ1/4Nan72Fet++i0Y/vYvmP7+LT959A7Xr1BMgtUnFVG2HsX4+FFFmEhfOELzK87UxT+xd7qHsqJMlxbkoyM/DyZOnJDaW4sqV05I3cIkFp85RZ7T3aEezdKSnrnsQ9ZB2VSlQqnIf8UEPAEp1uQp9IjuK+a4FeakIDfbGBst1WLx4IcaNH43evXtg3LixcHK0RVFBOi5zyZDw+TDsRB/p2ks7NZfTtPPUtGx+n5ebIv5c5H3iMA4IcLSx2ozpEwehV6d66NyhISZOHANHB1vJk1JU+9wtseZv7LQoOJqK8NC98PBwh6+PN/btC4S3tzdsbW1haWmJ+fPnYeTI4ZL79Rc5DIOR0Szs2L4Ky5fPxZTJE7Bu3Tp47/FGgL8fPD094OWlJU8PD7i6uGJvgI8C+Vq/qd9/6UBpUlyA5GFOf4BSAjw9gEMr+yzVdjckDnJw5LcbJ8Rtaony4vtRLznNmLnY79fwU2IhfR/rpY3p7uVn+b/ZMUSd1Jc/Kn8sOndPUHr1nIDSyEcGSskHbWCvnyOc7DZgn/9u5Ocm44LkGTrffr82WRkiD8wtz4ucOf06MTYAni474Oq0WeWYtGe+L+Wo7/7KkKrjdsyNjfbGXn9n5B4iKL2sdt+uKiilXCg3Lq2KidgDd+etkgtvFJ63YH+Un/jFQ+J3SpSvrmzc1Ue6ev7vgdJBjxeUkkE2Lg36lhje4cPxMF25CD16dEC7tq2UA161ajXWrl2nPo2NTdTflpYbsHDRQnHS3dGjQ1N0at4Ag3t3hv2uDTgrdf8mxq6cy+06KtZbnrQ80BkdUg1/6kQuioro6LlW4aga7Tkvn/z/+HH5/dQxST6ysXGjObp27SUOuBn6dv03enXUoHuXr7F+rZmSx3UJ5Ow5OX1CFPgUwYVWHtpG+W+etEpzCIcFlO8LEJCdFCMgvfSeI6W659FQmKAw+HMb8DL+LQH7XGmhJE+hmG0wER06tETr1k3Qrl1zGK9YgLwjycInj9/47+c+LNIZMd+PRKdwQgw3LTlITfemgdAQrbauhOvubQJKk3H18lkle7UL8R3eu6qkew7rZ5uqNcDSJmdO54kTj8dGS1PRp65o064lug8aAANDIyxZYYLBgwdh5tSxSBAHR1nxXe6XJ12QZ1J3/my26Id8CjDl96RzZ2gL/I26wHVeObgoxsvP8vdXhSh/2iODAZ0od1nNzzss4PD+R0p5PZ/LjpZbN04iJSkYc2ZPlGShH5YsXQYLy42YPccAXTq3Uwl082aNMHSwthOp9Cz1s0ABfH3P1urIXw9K+Rzy8rCe96jojOjS/fDJ66kXlOnDBqXKn4ovY2dKfGwYNm0yx8gRvdGmeU20bPI1Oretie6dfkbfXs1huGwm4mL3Kt+lS+jpBy/I36TyfrNiPZUhbaw6iNzcNAVGw8IiEBERiajo/UIxiIyqGkVFRiMyMkooWv1NCg+PRHJynJpOfjdQChxG9sEMjBweiBdfsMbTz2zGM8/vxD+FnnzOCk8+7Yl//nM/nnwyQygPT/6zVP6/LnQDTz11C088kQONZgy++/Y/8Pa0lGS1WPmxinXdi3RtXyL2ExW5D+Zrxc8N6oKWTb9Hq6bfoHO7n9C9c10M7NcGq1ctEvAZrgAJ24W2ef3qcSSn7Mf0aVMwpMWnMOyhgeUIDTaM08BqhnwO0qD+exp88vFXWL9hvVxfpBLuu/ov0bkz5yR5JYl/5udp+mdp9wtnj6jlBtkHMxEUFIL0dPnuAs/euyg+lEm/NuHSJpy0Be07anW06vbL++jnHwcoZV3avR7yxAbyBIymIyTYH1s2W2LmjOkYMGAA+vbriRGj+mP4iH7oP6Avli5dhIz0KFzjul3KSc9zH4R0tvaHXLXrNulf6RfCw32xc+d2ODjYCfhzh5XVJiycMwoThv6CPh0+R7NGX6Ffv97YYbVDZJKi7mXnasV6dEQbZf6VJwCGwNHe3gnOzq7YvdsFZmZrMX78BPTs1Ru9+/TA6DFDsGDBdKxfvwKurtsQEGAnOeEyAatDMX36TMnLNv9+r6OjkyIHByfhV8srR5krA0pTEgIlD3PBUQGl165ekLYpVLFSH6iivlEuJQKEigVc6PZu4CdHf3Xy/K9rjh2QT+7uq71GddTLfbp7f3+O3HOi+M6DLMofi849TlCqsy9dbkceqL8ckfRy34Ftm4zh7+2I48V5uHGtVOphbJa2Frnz+qrYSGVI59P4PgSkHKza424NO5t12GW1Fm67t6jjnQrzktU15Pt+eOA9unsZE4MC3bQjpdcuiZyrPlKqs3/yHBbsBlvrtdixxRQ7d5ghMsxXnTDAo6doI7rrdTKvCv+6NqoGpXqY0pGWuSylILeuH8fh7FisNTMUJ9wH3bp3x5Ahw8SxOOPSJR5IfQ0XL17EmTNncOXKFVy5fAmerrvx2Wef44mn38U/3m2PF7/uhQ69hsPFcSvOn85SzyQPOodwJ6KjYM/KzWtFwnuymoY7c9YCCQobJSgdkOT3Eo4cyYDVjm1YvHg5VqwwxZIlS9G/b0M0rPMP9GyrgflCDRw2Posl85vKfVa4cP4kboqcwkMDsGa1CczNjBHov1s5gTslzlqlqTooJbE9mNRdvyztc70E+O2sOLQM+O6xh9nqZZg+dQz69e0iwH4RTE0XoX79n9GzeyekpkRKq5ep++8lp6oS31FnwBwd5d/cCOJAaqgCeNw0hQa4c8caOOxaL/q1Du4uVmIsoThWKLojgZ/blT/MnjXKmL2St26dUtOPOCJtYb4cixcZYNjoEWjbsyc69O0HM2trnBJ9yzl0GH369Eetmt/Bw3WHyEqSIHZc3NZdfXXcieiQuSaMtuLtlQMHuxwczMzBrWsMyNo2vHn1EI7lZ2O3Y4LYQjjsd0WLzDJw44o2qOvAq77n34kod9rjwwKlvJbPJCC9cbUEKYnBmD9vGnr16oFVq9cgv6AAN27cQHR0JEaMGIZmzZuhceOmaN++PSaOH6X0ccdWc2nnQKUbBB7ln882+juAUvKhc/76fv+rSGdTbAfaE6f4MKDxO5K+e/SRTi8eBSilLnN658HMWBivMETPHu0xdGAzmCzpB6sNE2G3dQZ2bZmOaRM7o2uXJpg/f5ok/togSbu8dP6IAkEkBmw+r2IdlSXeS9s7eiQNcXH7FaCMiopERHgY9voHSBzxgouTp8SN28S/y1O57z1d9sDLwxN7vD3h5uWKLQ5bYLRjBazdbcSXxksCSJ3R1leRD35342oO8o8cFBuIQbu2bmjWzAqt2rujaXtvNGm7E81b26Fly71o3ixefktH8+aH5P98tGp1BB07nkTDhtF4//2hqFunFny9t4mvvz9QSj2hH0xODMfChfPQvVsbjBrWEquNBsJ60yTYbZuJHRunYtyo9ujWrQWWL58vSV6w3JejZv4Al+Hl548aPzRA3zpPIH2zBjcjhfZpcN5LA18DDSa0ex+Txd6DQ/fi0u121MfL73RMYlxOMk5mJuB8SS4uXzuD85eKcPrUQYmDhZJrXML+2Hhs2rQF7u6u2umZSYGICneX9wiReMcYyBkYAlLVOleC6AKRO/W0anFEZ/uPA5TS11GmtJcDqZHYsW2jgP0ZGDhoIAYO7IsxY4ZJG02HtfVqAWvrME987aRJ4+HuZv/HaKnkDfqe/SDE92dOwTzvUHYiEhPCERbiDXvbTTA0nI9x48dh2IhRGD9uFGZNHYA5k1pi1rh6GD+8McaM6gkTE0OECrhmHkL+7iYT2ihBKUdKQ0P2ws7OXg0+zJw5S/LAQRg0qA9Gjx6IZcumiwzWIiLCDZmZESgsTMGxY4kSa7wEvC7DhAljRD5zYWOzE15eXgJaXeHi4iog1QX2Do7w8fZCVkblRkorC0oZc+gPY6J8sX6tERbMn46liw2waOFMLJS/HWy1eWTZ+WLJewJhvmYZ5s+dqq7h75xd5Lp7B9JTw1S+tmTRLCyWe/m7eg6XOiyZDWur9SpHJvCr6HuVPxb5Pm5QSh1h3XwGczxueEab8fGygc321WITHjhXekb8xXXhO19sUu4RXeB9+nzkgxDBLgFWcWGaGiH1ctsBh50WcLLbqEYeHXZZiA/fLP7CS3hMvK0DVQemuvfm54OCUuZybEsOyjHeRoV7wtF2gwLSHGmm/LIyk8X+kpCaFCT+IUxtgkqdI1UlN+G1bKtqUKqHKR2pxr0tKPZerDM3RPeuncTxGCIhIRG5uRyxFGd99SrKyspw7tw5BUpLS89JI2XBzGgx3nnnPWi+HA7N6MPQ9A/H81/3QOsm9eEmjouBo7J8cFSuWJynk/0GdO9cD5999Bo6tv1ZHPA2pKUdgJ39dvTq0Qg/fPsGvvv6Dfz43b8xasA/4WCpQbTHy8gK/QwlWV1wvNBTeCxVSfmB9CTMmTUO3379Hr74/APMnDFB3jMVXD9Fpa7Ih1ZpKg9KtY1LUM9dLfMEzKSK09uLeDHIzLRIaa9NaN2yKd588w388svP2LhxBYqLU8WhewtYGIghg/vCx8dRjFm7sU9VjfNupDMAfjJhJjGBZk+Qq9MmONpZiPFZiLPYJEmhNdx2b7vtOCzh7rwdMZHiMEs4akgHTL4qn1BUJJ3cdAf3cpfWpLi9amrJlKnj0bR5U7Rs0wrDJozHovUWMLWyQlRqKs0Bx0+ewtjJ01C7fl1YrDOS53Bks+qbd9D5cFru9SsHJZE4iHFjc1C/3kEBnvxewOi1HGlDrfwd7RPxaxMfvPXWTkk+7bHRMgQFR9LVdXdKeO9GbFe2xcMApbyOz6O+MYnKzozG7FkT0K59W1hYbpAkgevBteXy5TJkHUxHcPA+7NsXJEmVtQD83vjog/fFJr5Ua5vZJlclOeYzdTxQtn81KKV9kh8GOPZWn5KAoe+6x0l8L51dMTHhd1y3w10/2dFzStqXyUFldVOnF48ClPJ3TjnbHxWArl074LtvPsSkUa3g4TAbgV6G8HNfBm+XJVi1Yig6daiD5i0awdR0GfKPJkuSXShtn47MAzHIEOI0Rvon7WiLNpmsShuXB6Xx8bECSKMREhoEN3cnbNm4CauWr8Hy+SYwnHub5q2E4fzbxL9vf79c/l61zAzmq82weasFzDetwdCFw1Br7M+Ysm4aUgSUnjtxVI0Q38lGy85pR4/DwyKw3mKXgHETGM8zwcZ5pti6wARWa7dh105PWO/yxfbtXrCy8sGuXQGSpAeIr46HpaWTgNQu+KVBHfjs2aWWmdB+KBOtn9Rfb0WiLDmN0N/PBS1bNMGPNT7CnGmd4L17HvZ6LYOf2zJ4Oi2C4aL+aN2qlprtsGnDGqUrN6+dQOGxI1hvuQlNGtSAQT8NinwkfUjQoMxeg30LnsTELh9h8dxJEsfDJRnndNQ768oZglWx6ZLofTiywQLZK01RuHs3zmemo+yM3Cu/X7xcjMuSZO8NDMLixUuwZo0h7GyXY+umKVhlOgnbtpshOMQHWVlpOF4iPuB0AU6eKMTxYs62kTpO6Kb06uehIlG36QMeJSjVXcORtEKJ3bH7A7DW3BgDB/RDly6dMHbsEHnPhQKotiAy0gs5OZE4cGAfdu5ch+nTJ2HBgnnw9XERH0XQ8XA74whGr3C6tvyfEBssOmmN1atNpc45GDlyoJo6O2LUEHTs2AKd2/6IycPrYsHEBhg39FeMGd0f69ebqXWwJ4o4g0s7cq2vLh3pQGlRwQGxjUC530IA+WDUrVsXrVr9Km0+BZ6eW5GY6I2DB0OQn78fJ04kS1zIxAWJm/wMCXHF7NkTBLwOw6pVq+Duzqm7XnBzc1fAlKOlvj4PH5Syc5ZxzM3VBn37dEOdn39Eo4b1UK9uLfxY83sYzBivjmG5efOKPM9V8siOqPXTD2jUqD7q1P4JDX+po4BneKin5BgrJFerK7lBbfUMEjugfmlQW3KGoUhOCJIcokjLYzkelD+W9n8soFTakrp2sjhT5e35RxIl9+RUbp4YcQAHM6Lg42kDW2tzBPq7oqhQfOK54xJHD4g9Jcj1CSq2Hy9Kv6deVJbID2cMkY+4GF81KrrLykwNdrg4blZTYQny+J2TvSXCRVeOHIpV/oy7pleFD9ZF38DPBwWlfAbbjvEtT+QSGuSqcmIuZSPfbs7b4OVuIzmyFVzlnXw8d6q1pnxPypo5Cu2Vz9H3/PLE61hXNSjVwxSJjPEaBtTCvBSYGM1H507tsXDhImRkZJEVVU4JCD1y9KgCqEeOHBFQVSwgMR3GK4xQq8bXeO65l6BptgoaU0Az+yw0Xw3Es888j5aNfhLl26J4uHS7Z0mX9FYkrhU9VpCJ9evWol/P+pg5+p9Yt1CDGaP+ia4da6Nduy7o0/NnzJ7wNFbN0WDJZA0Mp2ngvkWD4tTPcKt0Dm5edJEEYb9wfE3xnZOTh1mzpqJPt/fwaz0NPvnwCfTv31+tr7h57bhS6op8aJWmaqCUn1yzcFGcorPTdnTv1hFtWjdFl05tUPunmnjhhRfw6acfY+lSA3Hm4QIUcnH8eCr8/R0ksI3B8GH9sMdjlwIYBGxU7qqOxOkjvh+dHRPb1MR9Kmjv9bUXZ7FVjY6yF40OIyx4jwCbFESG+YkRboH1NlP1e1iwF86eKcbVyydv83T/oIBy4jPYGUBHarnOGG1aNZZg1ww9hw7D0jVrsX7TJkycMhUtO3dCux494CBJ0c3r13HxylVYe3ijw8AhaNOhLWy2rUGpJCTsEWRQu5NOVSQdKL157aA474MYNiQTzz6bgp9/ToLdrgO4cfUQbl3PgZNDHJo13YOnnrKBRmMhZC4BbDs2We6TAMLNtbRrTKvSRjrH96CglDbPd+YIC9fOHMyIxNzZk9CiZVMsXLRY7POo0v3ffvtNwMxFSdquyn831QjH9euXBbDmw9x8Df7z9Vd46aUXsGL5PBXMObqvbWMtD7SDvxKUauvPRW5OrArcGWnh6nvKkHU/rEBaWeL7kMgXAy9ti3LjbzwE3dlhE/z22CLrQMTvvDNxqPiciqTTC8r0UYBS3DqFiLA9aNHiF3z12euYPqE9PB3nYc/uhfAU8nZZiq2WE9GvV2NJumph3rxZyDmYgKO5B7DbyQ7Lli7CsmWL4OlhL/ElU/lp+kfqoJKFaufKBOM/QCnXgsbE7Ie7pxtWmhljlsFMzJw8A9PGTsHU0UJjpqi/p4+bJiR/j5ks35H49xTMnDhD+JwHs3WrsdpyFXrO7In3er+PYSuGCyiNw4VT+XcFpVz/R9mkpkXAzMIEPTq3wtR6P8BFwF1I218RajhX2sEdwdG+CNzrhH37dqtkm5SREQ4f8aG9enVGg/q14eWxUwtKL2nXmlEuldV9glKuZfP0sJWktwa+/+ZtLDboDp/dC+BFEkC6x3kJNqwZIzGwviTHdbHSxFB13GZnp2Lp8pXo1/VXrBz/byQ7/AOX0zS4GKzB7ika9Pv1LUydMgWR+6Nw88Zp3Lyi3SSJex38iQ/au/BbSvsX/g9vW4/I+vUR8NkXCKpVG2ljx6HEyxUXjmXj8tUTOFd2WgCGJ6ZMmSx5ggDRHfOwdYcBDE0nwGDxKMxZMhor1y5GcFiAgJajyMrMkPaOUUc2VLUzj/pFmT4qUMrftfExS0CYL1asWCL5QS/07tUJkyYPFz+5WEDVFtFVdwHaoSgoiMfJk2kCxFIEmAVgnYCXoUMHqlHusBA/eabW7ivb/ncj6hHzMna+hgvQNzJcInUNU/VNnjxSbNIAGzauFJ4NMHZEa4zs+x2mj6iJiYMaYvzIATAzN8f+/WHSttwMiWuW782TVh7ssMlGSHAAZsyYKeCsEZo0aSLtPQa7dpkjNdVPYki8UJK0b7zIJFbRiROpuHQpF3l5sbC1XQcDg4mYP38OduzYIUDWU4FTglJHAaU+jwCUUu606cS4fbDesR5rTJdgrdlymK1ZhjWrlsDDzRoF+QdwvrQIKUmh2LHNXM0W2mC5EuvMjRQQ9fG2R+aBSATvc4O53Gsuv6+TTxKvXWu+XOV3R3Lile+vyLvyxyLDxwFKdTGo4EgSYqO0Z4TzSKSwIDeEB7uLzJzgLmDKyc4SXvLuzPGiInxFl9zVci1ezzNSCU75nAfVWd7P9ycoToj1h5cAOHvJLR1tLVVsZF6ppc1wst2gZuQRtEaGeahNNbncgqOs+p6tj1ifju8HBaXkm0Q+yI+Hy47bPG/W8itA2mHnetjZrP199JSxnkdvRkfswaGDnIqujSl/xET9dfF3XlcNSvUwRWLCQ+MiU+xpadPqV9T4/gd47fEmG6qcOn0ajq6uWL95M9LS01EigPTUqVMICw2SRKYnNM+8Cc27LaBpuhyarlbQtF0jLzUMmpd/wPMvvAaDaaMlgGThugTtu20GIDXhYGYSunbth68+1sBpnYjimAb+dhoM7aVBy180mDpcg1BHDU4lChBNeBqnDzXDuYIBuHxypSQG2mT88tUb8PULgfHKbeJUZ6C/JCurF2uwUABsgzovY9CgYWrXRk55pCJV5EOrNJUHpXRMBJLHClLV9I++vbvjw48+wfvvf4iaNWugRfOG6NOnE0xM5iE9PUQ578LCOAGmIotTqViwYDJ++ukHbLCQd8BZBTb43P9KHqpAbHcaRp7oAJP5xLi98Ha3wo5NK2BrxZ4zF8TFhiA+NlR+C0dhwRFx+FdRkHdQHT6+y2q1AqV7/VwkQU0RXh58WhJ3CuQmDVni9LduNsPA4cPQpnsvdB84GP1Gj8O85cYwMjHBsFGj0bpzZ3To2lUC4RS4OTujqKQEh46fwpSlK/COyHXCKGnz83mSp59UbUU91ldnRSKIZI/cpQva/50dM9G+XRJefz0Kv/4aAw/XVNHVbEkAwvHiizsFjFoKrcaTT5pKArodVtuCVbtcuvD4Qan2N+0OztxFl5SaFKx2wm7U6BfMmDkTB3PoYMQUbtwQnb0k9Z0VPs/iXOlZXLhwCmVlZyRxOI/o6DD0698Tb731upqmxOT4xpUixaOOB9rBXwVKdQ6ePcCse4+7jTjxaEn8mfwXKX656Yfit0Jy8iiI9XBpAdeHUz6cqkvZcyt6BpfQfa7awLXLQpIRB2RnRGnvqWRizHd9FKCU7Yff6Ku90LDhz3j79ecwvH8TOO6YBR/nxdjnuRwhvsbYtG4sOrb7GXXrCiidPx8x0SHw8nTEbINJGNCvEwYO7ISlS2cgwN9VAnCK2iSIO90SpOoAqr76y1N5UJqUmCAJcyzsHGwxb/EczJo7DSuMl2ClgALj5YtgIn+bmhpi1arlAsLkO6NFWGG0UH2qv+W6lWYrYGO7A/bOOzHReBy+HvQ1Rq4YLaA0VkBp3l1BKX87KzoWnxAB0zVm6NuxJwwaNIPHry0R1aUXIlesQljgPgRFhcPf3xt+/nsEmPrL3z5ISNgPb29P9O3bW60pNTFejMNq198skUmqGmVS+qsntlQk2glHsj3cd6JGja/w0XsvYcqYdnDdNQf+LosQ5GmEIG8jmJkMR8tmNdG4UQOYrjJFeESoxDcTdGv7HVaM+gdKOEKaL1SgwZUwDdyWaDCk8xtqGuW+kFBJ1LgpYJFK0u4GSs+Kvh7eboHQb7+Fi0YDWyH3F1/EfvHH+ds343xOuiRPpxAYEoQVkuiv27AYXr6b4Rdsja2OJpixfCh6j22O/qM6YtM2S/Ez+7FP5OjvJ8lvHnMNnutaeb9A3aYsHxUo5bM5EsnZTebmJmjwS2N88+13GDKklwAwM6Sl+ePo0Wih/QK2SDEKgJ0+nS6x+wCCgpwxa9Z4jB49HNZWm9UGW9xMivZwN19+J+I7ae0kW3KURDVN11raY67Yx6hRQzF+wigBozNhZWWKwEAHAXpbsX71ZCyY1gKj+32DLq2/RI/OLWBqYozkhCjhg7M5KgdISVqfxRwtB4F7fTFsODdkbIFFixbAzc0BNjbrBWDuQFycn8gmDKGhHrC3t4SFxTJs3Ggk/OxAbKyPAHZ/sZGdAtoN5d65MDMzU1N3PT294LTb5ZGBUt6zP9oPlutNsHjhDCxZPAvr164QEBqCxPh92LRhperA5TKX5YZzFcgk2VitR2pyGMoulKhY5upshaVLDLBMaPmyORIjZ6opwVER3ioGMAaXr1tHyh+LDB8LKKXNiv5ytC5e3pmjeASAjEGcesoZb7rRSRcBWASnnBXHQQj+7uvlILlthNg+11BrY//pKs5kKE/l+WFs5DE+3Gn5QCo3rvRRgJT8BQa4im5GIj01FsmJUchIT8DJ40dx4bz4H7m/snajq4+fDwJKz4m+kwhII0SfObWYMwVdHP8ApQSoWtr4+9+ULwEqP9kRwA062f4cseenVp7/XZ8WX1SDUr1MkSg4AioaEnuHunRph549e4ljiScbuHj5Mnx8fTGwd290b9sWTvZ2OHz4MM5fuIDQQG90bdsamjcaQdNxN55sshT/+Pen0HzYAJp6BtB8NQYvvvENDKYMxZnjGfcEpTdvlCD3cBqmTp2JJg0+g/nCp5EVqkG8nwb77DXYu1P+3vMPFMS9hdKs/+BSYSfhcJ8QE/RLZFeCxUW4uvugR7f2+OiD19C00auwNNYgXQK1hZEGdX76FwYPHnEblD749F3+Tflx11OORvTo1gE/1vwRvXv3E3DdHdOnj4OHxzYkJflKshSA3NxoNeWFVFYmdZ09AGsBf3379oDh0rlqVIi7u3G3YDqHyhpoRWK7EpBGBHuo3jJ3l23wcrOB++5tAjpdxcELMLtUhitXLkrCe07054pylmXnS8ShRsDfe5dKsp3E4Py9HXAoi0CDO9MdkedXnScm1lcuHhMAdlKcpw2aNWuEBi1aY4GZJYwsNqD30KGo06gxGrVqhakLFsA/KgqBkZHo3aePJMttJRmJwi1p3917/FC/aQsBVL0kWAUpfWIgupMDuBMxWeX60fNikDutU/H118F44glvNP01SJKAOEyetBcvvLBFAOlKPPecqQRm9vqF3U7COVpWtfpI5JH2SPlVBZTyOxLv5Ug6ZzRkpEcgRBwhj4z4tXEj9O8/EK5ubigR8E5AKlma6OQVlJ09g9PyXUnxMRw/UYAzZ0+goPAonJzsMGBAT7Rr2wzOTtvEFopwTexTVx8/aQePG5TqZMRkioCUvZAMos5OW8WJx8pvJSKnbLUWRbtFu9iqBHN9dvwwiPywDn5ymg57gbPZky5+gXbl4bpd7MpK/c1ApWzGbqOajZCRGorjxzg1SruBm77nk3Tv/ChAKf3YzeslKiEb0L8HPv7gLTT75VssndcPDjtmIsBVgKnXEiya0wN1an2Kn36sgTGjx8DYeAUMZo3D5PHdsGxBXxgu7ofx43tg5KjhMDIyxk4bKzg52slzwyWhEP6VDernQUflQWmigNIYAaX29rZYLiBz9brlcHC3grOn+B0PG9i57sC2nZYCbFZhu4057F22wsnTBo5yjaPI28Fth7rGP9AdQSE+WLJpHn4cXhMjjUYjOTkW5+8FSiUJOS16FLc/DJtttmDWSgPMXj4JJiYzsXbtfKzbsgKrN67BanMz7Ni+A74SA4OCguEfEKDA9J493ujXrx9ee/01AfuN5B0ksRWZONjtUke68PiNyiSZvIado6HBnujUsTU++eBNtG/5I1YuHQwXm1nY67YUfm6LMGNSR9T8/kOpqy6mTpuG8ZNm49vvfkSbnzVwWKhBsqMGmR4aFOzRjpSeDdEgyOIJjO72NmZMHoGwMH9po9vHwdxBJmfO5Yp9H0ZJzD4cXLwAkY1/hffb78DlH0/A49lnEV6/Pg6vNceJQweRLgBzb7Qn9sW4IizBG/7B9rC1McTKJUMwZXw7jBzTBQuWzsZ6Cwts2rgFnl57cOxYAS6VcX8J+oXKxRDqNm37UYBSnU/lyD+XtEyfOh716zdE/wGDBEyZwsvLCunpgQJE4wSUJqCwMAHHjyfhzJl0NdPp5s0CFBUlCljbhjlzJmP58gVqJIoyZqcZOz/11Xs34vvyGBr+7evtjLFjRqNFi+bo07er6tT29LRGTMwexMV7wcd7E4yWjsDEYY0xcXBtDOheC82a1JKY2VsAtRVKCjOrvM6V8qLPJyjlRkfDR45Ct27dsHWrgIlALwHuywV8Gov+2wjZYv16Y0yZMlpyqh4STzqLjxgisjNCZKSnAvJhYbsFlE7DhAlj5fv1atMjZxc3+Pp5P4Lpu3kqF/PeY49RIwehZYtf0bp1M4wcMVB85l7RHT9MmjgCjRvVQ8uWv6JVqyao8cN3eOe9d1G3QR3hzUb52LILJ9QStrZyb6uWTdG0aUM0aFBbbRDo7+vILFPle+zcqRivlT8WGT6uNaW0DQ4qHT92ADECmAmQ7HdqRyfLg1JtbNKCUlsrMzjbbxLAuB8Xys5LrnATVy6dUm3PDS3vJ78jkRfGfcax/NxEFORJPnNScuyzp5CWsl/xwtHR6IgAFBflqe9PnSzB2TMnpV0vCpWCp1BUtn7yyzr5eT+glPexvUicshsRIoBUeCwvu7sRr+G1lDf/V8A0O1bFfC410urof9erchapsxqU3oEp7sRH4/f1tlOGPHHieHF2PqIwpbh05QoCgoMxaugQ9Pu5Jkbz+JeunbFxyxYUSqKbHBOK/j274ZkvuuIfA0LxdMOZeOJfH0BTcxg07bYpUPrvt77CQoPRCpQy6aUSVTRkHdGR8/yzmKhglWx3bf8+lkzTIC1Qg+MJGpxIfBJnsr5BWfEcXDnrjltXogRUnUHZxau4ePEaikrOYofVbvTp3R59ur6ASUM1WDpLgrOrBoUpGliu0ODnmg8flHJdGc/U9Nljp6ZztWjRCps3b8O0aTOwcOE0REW5orQ0FQUFccjJicKRI/slmCWoUdLS0iy10/HOXRswbGg/LJw/A4ez49SoFXvjtIpTeSdB3kkMspzCQcPhBkbspUqKj0D+0RwJrMfEAVwVMHFTAvoFcUgncPniCdVbVnZeu66QIz0BPvZq7j8NTrsT7xm1i3FFGVSG+EzuFHlJ6tmxdS0+/fh9vPDKq2jcph069uiJYRMnYsqypVi4bh28ROeu//YbTl24gF79+qNmzZrwEMDFDpKUnHyMXWiCn5u3xuSJIyVg7RO+CsUxa8/F1Vd3ReLoJokH5AOHELQvBc2bBQgodcJTTzmjTm031PjeDk8/vRb/+pcJOrS3gsvucKUTN689/o2OtOdMHlL2Q11zdNiCgQN7onWrZujVq7uaxrh163ZJRHapLfcPZnJHzPMoKzsrusAeUAniJ4/hxIljKDleLMnEHgwZMhhdurTFts1rcDQ34bYf0AZFHQ/Uo8cNSrVJymHkH0lCdLiXAnsc2XcW/eW5rjGRAQgP8ZS/nZAYJ8GtMF1kys1UtH7ufuq8G1Hu5Ef1Rsf4q6R3r9gFe55trdaq2QTsLWVw0gUrh13a3mgmHJm3pxxr/Yx+3nR6QZk+bFDKZ7MtCKj9fJ0wYdww/FL/B7RvWxuzpveAmckIrF8lSWWfJmhY50t0bvcLBvXvhDZtmqJblyYKvO7ZPQdezgaYOK4jfvzpezRp2gjjx/TDPIOJ2GW9RZ1lyLWIHLnWx4OO9IFSBwd7mK5chg1bVsMz0Am+oe7wDnaDncs2rDSZjXnTh2Hliplwct8O3zAPeIkeekrbk1z97BAc5o2IqAAYbV+En0YSlI6qNCgtLT6M5NgomDuao/PWLqiz7hfUN2uB+ubNUX9ZY9TtXxdNWzbB7BmzJT76IjQ0FPv27UN8fDx8fHwkCe+P559/Di+99JJaizt6ZB/MmjYKm9avlhgWhJJiruO7uz6y7dg+x/LT4OZig2FDeqNBve/QpXN9kW8frDUdBXPjEejdpYFqn97dm6Jfn474/MtvxFc9h8/ffRJdGz+FHq2eRufG/8TUnv9AvJWkENkaXI3XIGCdBqO6vinP7Q8f3z3qmBMd6PkvIlgkcZfSjHgUCXA4uGABQn+oKcD0H4qCGzZEmoM1soszcfB4OjKOJSB4vzd2bViBHWN7Y2f3RrDs0RCzR3XAwFE90WtgP8ycORtee3wk7oj/Lzuhkva/GyjluYRTJo1Gnz591Jp8V1dnWFtbIijIEVlZESpGE5xyhtPx41xDmSHA9LDkH7kKfG3fvlqA10gYLrsNTMVvcoSyKv6I/PBd6YuPC0gxX7MCDX9pLPbWHAYGXMtppaYQFxWlCKDwxcb1UzG8fz30aF8DE0Z0gOGSSTBcbgCDOdMEAK4Rfx0ivkML7irLB6/j9Sdvj5SOHCmguGULzJ49FTY2G7Bhg4nYrCTjjhsEoC7B4sUGApaXCFA1xdq1iyTfmSi8jlc78sbF+aqRZYL7OcLTzJkz5Z51sLWzR4C/Lw4+9JFSLcBIuD19d7XpEu1mftvWgsfwcSNAbg610XKl2qxoxYoF+LHmd3hCo8G7b7+JVauNUHJCcsLSEgHku7F+nbEaceX03rUCUjndl5sosY2Yq2pzgD/zoPyxyPBxgVK2F3MC8sTz5XVrNglCdfHoz7QJ9jbmcHPahuyDaWqfmBvXLgrfDzYIQtLmC7mq45brLaPCfRG3nyPU4ZI/eApP2mmw/j5Oopv7pJ3C1O88V/dESa466ocdzJXlge/O9+ZnVUEp72Fbkd88AdCc0kzZMXZXBpCWJx04Za4S6OcoeRBHggNFDpLf3+avfN2UE+uuBqV3YIqbLDDZXmdmiG+//RqLFi3FpUuX1U67vv4BmDB+HIa0aIId/bpiTZdW+OT1V1G/cWPsFMdyMD0J27duxi9dx+OpX6bhH+/UgebDX6FpswmaJvIy/6qN115+FYvmTRIes+4JSpWAygoFYJ4WB2iPL7+qge6tNDgSqcH5jCckUNbE+SJD4TkL+O06Ll+5DmcXfxitsIDpKissXroGQwa3E0f9MqzWahDrp0H4Hg3iBdRmx2iwZsmjAqU8A7VEAfumTX5Bv/4DsH9/HJycdouTniUBYpH876qmAR06FIP8/Di1OcDJkyk4fz4bN26ckO9SxEly98X2MFo2F1kHotS0Lk4FoMMqz9/diO9DSksKUvP1rbaaqp4xrlflFN1bt26KnlxXgZwAsfQ0HSHfR+uQqC9qA6hTh9RZTezZ4oLvuJgQFBVQj0iVcxokJSuhayLra1dLEB7qhcH9u+O5Z5/GS6+9gcYt22DgkKGwcnRASn4+Dp05gxOlHPkWMzl3DotWrkKz9p0wfdYs2Du7wTV4PyYYW+K1L2qg5g/fIjzITXThjADroirJiXTuzEEBtDki6wwsWxKBGjXcodFY48knN+Kpf5rj9dfNBfzZwmdPpIB1nlfKkYa7J953I50jpPwqC0r5P9tT2al8Ou/ehuFDB6ClJAq9e/eFqekqpKSkIC0tDfb2dmqa1ObNW9Tfnp7OkhhEoLjoqOjZKdG3YgkCMVg4fwEaN2yENq1bqPWkWzavgreXnSR+ySrYUv9ZrzbIPB5QymtZH0HE4ZxYNY2G657L91py6gyDGnt72TvJnQXjuNY0NUxNndFuMFT1UfM7EfkhUS6sx9N1hxZwcm2JtbnqsNlltUaAKTdysBAetdOk7G3WKj5DBFweOZyOC+eKRR53Dvo6vXgUoFSXOHEU4aIku5Hh3pg/byr6D+iBUWP6Y9KkARg2uDM6tamPoX2awXjRYBgtHIiRgyQRntIFjtYzER+xBnFhprA0G4khA5sqmju9K+ZN64tFsydht4CU/KMpUod2Z299fJD0gVJHBUqXwlJ00CPAUUCnCxz37MK2bYZYMasnJvZtihmTBmGTJJEee13g4e8ENz97uPs5wNl7F/aFeCMswh+G2xbixxGVHymlHZeWHMaBpDhs9tiMAbsGos22duiwsQvaWHZE21Xt0XFSR/Qf3B8rl69E0L4g8eH7ER0djYMHs9So6cBBQ/DmG6/g51ofY8zI1phv0F3k0kuA9Ehs27QWmen7VWy4e/todeLyxQJlM3v9d2PG9HHSPt0xZuwATJo4AEMGdEDH1vUwZnArrDYcikWzeqNz25/Rujk7FwSUdGuCjh2a4u13vsAnbz+DXRLncEioUIPLAk4n99Pgy4+/wAoTMzXCw+UhejvU+B31U+R2TvzpRZ7LnZ6MhAULsfvL/2CHJO+7n3oKQYN7IznEDTnHkpFyIBTelsbY0bE1dn3yPtw/eQu7mn6PhcNbon2vJmjStjlmzJiF4JAgnDp5TPxo4e02qVwMoezo/x4lKL1ysRA5B/dj5vQJap2st483fAXAm5gsVZsZxcb6IikpGIHyXDu79diyxRhWYvd+fnYSz6MExGSIn/UR4DUJvXp1w5o1xuLDktR+B/fioTyRH74r26dIEvulS+agTZu2mDVrtgDkLfChzR/YJ7lDmuQkfthoMRNzRN8Wzh2JXdZrkZAQgNTUQGzfYYbp06dI3mGmNim7cjFf+XX6EX31lifyqmYRnGBnrb9aw/rtt9+qGXQWFhwh3YXwcA9s3bpSwOc4iTfLERkZIHKIl/r9BbCux9y53ORokFyzSq09LSlJgbPzdsybN1PeZbqAP8YbT7WTKfOsO3XcVBWU8h0p75hI7r5rrDr4ly2erabhLl40U21iZMjR+7VG2L59neRbC9Gl6c+o9doTaPzJ6xjRrxuMTY1gZrEaK1cbYtWa5QJeLSVXjFe77VptX6t247USkMs1hPR3FQG18sciw0cNSmkXp0qyJNbG4+CBSKQlB0su5KqA1b1AlaPEKlenrRJrApGTlSLvEocjOTGKP7Z/ZfWVxGvp19npSZlkpEUgQUCWn+gJYzc3LNVNedXVz7//iOWWarYRc830lBBkZ0apGVL0EXfzmyTWTXvhZ1VAKa9nO5E4ohsZwl3dOYpbdUCqI74T72Vewk7qsGB3adMcBbS1U5L/sD2+F+uuBqV3YIqb/dAxmK1egv/85ytxxKtYPQqKizFszFjU/OpLmA/ug+NbVsNu1EB89tJLeOKZp9G0VSvsdnZCdnY2rHbZo/6vLfCPf/wDmpe/h+bnWXj555F4/a1P8f6br2L+3ClSX7YCpXebvquSL0mcrl87LUHBD63bdETvDi+oNaR5+5/B+WNzJRgJALwFnDxVisB9e9GnT2t89+0nqPHtV6hf+xOMHfoC3K01OBglFK1Bwj4tKE0N0cBorgY/ff8vDBkyQoLWwwel/j4OaNasoYDS/sjLE6M4dUoc+Vr078+pN7MlsPnh8OFI5ahPn07DmTMHcO6cALZrBbh58wSOHIlXU3Q6dWqt1jsczIgRIHRcJZS6unT13on4PqSs9HDlGAgqmST77LHHiRLtjqwM6GdPacGR1lj+2JmPzoXTUrh4nocc03Fwfr2bBJW46L1yPXcEzFeL7CvDD5/JZ1MPeQbizFkTUbPWj/jki6/Qf/R42O/xQ3xiIo6fOI4rN27imjTu5dtHDZWeO4/QtAyMmDkHn339Deo0bYkxy1Zj4DxjfPhDPXxX43vYSKDgVvcXBbxXxZnqiPyVXchFVmYWZs0IxPPPb1VrSDUaQ3z6qRnWmnuLPLjeuRBXLx4WR8P21/+se5HOGVLelQWlvIdHtXDXWXYs9OnTTfSpH2ysbSSxT0JBQaE6muncuVIFTF1cXbHC2FitpeYB55s2bYC39x5ER0UgIjwYa1eboF+PHmjbqrUA25b4/vtv8NWXn2HkiAFq7TFtQpfA0A4eJyilbPjclKQgeLlbiXNfr8CeWhMjjt9enD035tq5g7QGDrbr1W8Matzg4ZDYqzYI3VsvK0N8B8ogLTlEAVIGHN1Ogp5uNvDzdlS9vvz0ct8JZwlKDlxjIjYTLmCJnUCXL18UezsvcuRIvv4ZBuXf/VGBUvqzK5c4o+AIDkji4OJsK7phiZUrV2DU6FHo26sj5s/oA3e72YjwXY5A1wUI9VmKhCgzHEjYgLS49dgfugJBvovh77EAu22mw3jhAAGvXUWnjKTNk5QP5LvcyS/cCZSuvA1K3QOc4OLviO325tiyZjQ2zGqNRePaYfZsSX43mcPBwxZuEsRdJZEj7d6zE4HBIq9wPyzbuqBKoJQJ5fFCHtXliiVGSzFhwWRMXjIF05ZOE5qKWctnYaHRYiwzNIKR0UpJvtdh46at2LBhC+zsHSWxXodff22Jzz99G8sX9UZMiDH83RfAfMVQjBnaCYvmTENyfChu3e701ccDibIiMSHlsg1eyyNfHB1spK71UvcyDB82FAP6dMTyBQPgs3sewr2XwX/3XAS4z4ef13LRPROsM5uBVq0bokmD5+GxUVKIYqECDY5JDJwx/EUBsM2ww8pGdIBLQ+5wdI0OlEo7nRN/evHGKeSfKECwuztsh4+E9fffwvGt1+FV93uEzhmL/TvXYp/pQri2agqHV1+B87NPww7l4b0AAP/0SURBVPmrd7G5Wz3MGt0Knfr8ih6S6K81N1fH9BDo6OKM3vr1EHWb8ezRg9JYzJwxEePHj4Gziz08PBxF9vOxefNKBT7d3KxharoEEycOx6BB3TB4cHfMnDkGNmLv6enBauaTi8tmjJIcafy4sXDZbS8Jcoqy38pu3kJ++K4cKS0qSIXJikUYN2682q3W1XU3tmxdI8DYVo0+xsZ6Yds2Y+FpNrZuMUVwsBsKChPVWtewcFdMmzZOgOEo+Po4Kz/G0WDan756yxPlpUDpycPYF+iHfv0G4OOPP0LXrm2xe/dWeddQsa99IpvZGDNmEJyctqsp32flnrS0UPj728lvBujduyMWL56Go0djxG+dRm5ulPibFRgwoJv4m+Gi33bIO5Ku4svDAqUcMWTnn5/kYRPGD0fHDq3VcqpuXdujbZvm6CT/t2zZBD/WqomaP9ZAi5+/xvj6H2L5L29idt230Pnbt1H3iw9Q64uPUffrL1BT9L1hw/rYuMUcnp72mDF9Ajp3aqNOb+DIK+1V8ViOB+WPRYaPGpSyHsYFnl7g7W6tdoTlSJ0OIJUHTBVJ97uHy3Z4SF7n7WGtRlk54MBZR3ezmYqky5UJJDkzj890k5jMOhgvVf4pxKnDrFMLmplTym9iO9w4iCCZI7iu8js3ZzqcTdvVHu+jr04dkU/aCz8rC0p5LXlmjsulcuSZfJHX+wWkOiLQtrMxV5uEhgbtQWnpCdHXs2L/bKs/Bky0MqsGpXdkikkor9loaYJaYqyLFi3BpcuXkSAJbvO27fDNu+/A1WAyrnvZw3fqZHT/8Gu8pPkH/vncM2jXoYMkwW6SHCVio7kR6tb6Ds888yre/48Eo8Hj0bdff3z3zX/UNEsm8/cCpSQq2QVJnI7mpsLOdiuGDGiIEb002Gv3DK6VrhHJXMWZs9ckMdiNQQObY0ifJzFxuAYThmgwb7wGDhu060cPx2iQtFeDGF8N4vw1SAnSwNBAgx+/e7SgtMmvDdC3bx81KsVibW2F1q1bqJ7DgAB7AfGcfpOggkdpaaYiTgW6erVAri5Va1eMBZgyCPDcrKO5icBvp1EmgaU8j3ciGh2J4JIjSL5eO1Ui7eW+SyW6t24QAHE6X6oyFJ1hc4c/GmqaOFtOZQgS58Btr+lcCAwIAsIkWT5zWsDZlZMKlJY3tDvRhVIG/Xx17Mvw4QPQrkcvSQCXwmy7NULi4lF2gytFIbp7A2Xnz4thajflOX/+HK5eu4qyW7/B0non3nz/Qzz3zodoM3YGRphsQLsRk1Hr1+bo2KktdlmvV72G3P1YHw93Iibs3EmXG2RdOHcYK4334sUX1wkgXSa0EK+/thi9emyAm4skQqIPt65zAbvWlu4HmFLWWkdbeVDKkXK2j7PjVvTs0RmdOnXC1q3bRD7nldxYeOwRzw++LHabn5+P8PBwCaKe6ow5E5OVmDl9BhbOnYflhksxesQwdGjTBp07dkLTZs3w7HPPy7tq1E7RnN6EGycUcPkrQCnrY8LKqec8w4xBlrrHjhFO/eE6GAYOflIvuXbT1poHcpur70MDXVSPNpPAqia/+ojvwPbgKCl7dFkPg6iftwMyDyTimIDOomN5yDt6CPujAuEkvDLQEpCWFBfi1q1bkizzXLgSnJWAz2dVbF+STi8eBSjVka5uAhIm4SeKD0oinoz9MeGS3G7HjGnjsWBWH3g5zkJuyiYUZ+1AfsZW5KRtRGaSJTKSLHAkcxNKjlojX37zc12MudN6onfXNjA1XirJQKIkA8XqXfS9I+lOoJQbGlluNcNuCdB27tths2MBdhj2hsW09jBdOAKm6w2xQWKenZuVAqVuvvYPBErJI88VzTuShBWS+Ddu0Bi/1GyIVr+0RpvGbdC2cVu0bdIOHdt0QocOndCsWXPUq1df7UL6S8NGym5+rl0P77zzPn7+6XN47Z6NiyedkRhhBuNFg9Cne0vMmjFJwGUIbqr4emdQqiO2MXklILl8oQDFhZk4mJmAyPAgbLDcgGmTR2PZ/P4CROchL30Ljh+0wamjNrh8ZjfioywxZ0ZfjB36KXZuewqFHCU9KzEwQIMFIzUYNbgRbKw3SyxJU5t13R0ksZMyU3T/KC5fPImkjDTYubrCdusmuK1cDIeRPeHUpCa8a/0HfvV/gsd3/4H9y/+CzSv/gnXdr7F5WEsYzuiEMRPboOeglpg4dYyAmd3IPaz1F2flHatil9Rt+r9HCUoZNw4fjMPUKWOlvdup2U1WVuvUSN9uSfbt7CywcuV8+d5APpeAm/esWDELs2aNwpw5E+W61QqYEnjZSvI9dcok+X6O3GuPQ9nc2VT7Dvp4KE/kh9fpQOmaVYaYOnWaAD9n2NrulLoXqbNBIyN53udGGK2YjekzxgofE8SGFgpw3o4DB4Jx+HCUAtMjRw7BKtMVSEoIl/imPYZNX73lifLSAq1DCpQOHjwMP/74owLjUVF71Lra1FQeBzRDHUnj5LRNvkuW7/bB29tGTe1dsmSG5C+tYWAwFllZIeK3Tqkpz9y5t1OnZujerTN27bRCQV6mquthgVK2N9tzv/jrDRYmagM/blJkZDgXK4wWYMN6Y0yeOg4fffoZnpSY1+AFDYzqvILdnT7FxhZvY9SX/0TLVzX49XkN6j+jwTtyDWPjl199gRGSu6w0Xix5sikc7bfg0EGeU8pZEH9uV+WPRYaPGpTyWvqM/ZHe4Bmg1tvXqDipDyzdiRxt18Nqy0qJsZZIToiQHPekGtnT2ue9R9VJ1G22EzdJDfC2lzzRTC1pYXwmANXRf9f/598ICq22mGKPhy3yciUfvnxafNVR1f766iVRV2kv/KwsKOX19CnMMXgsohZIanfT/W8eq0rMSTiTah1iIvehrOy8+KYL1aD0fkApk6+tm1fjm2++UtNFLDZuhMmqVWr96KT2rRBoOB/FDtsQMnMWDL5sgAZPvo5XNU/iuaeeQuNff8XmLdwyPQYbNmyQxLkbJo8fDTfn3eK810vwriNgpJ8CSZUBpVrHTCGdxrHCQxg0eDQ+fleDHSYaXCzoJABtL47m5YpzWYZvvngK6w01yN2vwRGh3CgNskI0iPXRYL+3AFEBpSn7BKQGa5ATqcHqBRrUqsHpu8MfyfRdvz32aNakIQYPGYi8/BwcPHgAxsbLMXBgH3UUzL59HFkOR3GxtkeTgJQjpfw8f/6gtCGB6VkUl6So3sZ+/bqpNRFHDyWoHnfd8ROVIV7Lxdac305Q6iqgJjE+Qr7j+2oTdp1Bc9exrPQIcf5B4iTtVQJOJ6HrUWPCz+941lVOTipOnbgd7O/SjiRewySYidnaVUvw9nvvoVnPgdibmYsL8qYXr14SuV5QAItn35aWlipSO8XKd7duXKcpIDo+GZ0HDMP7NWqjUd/hmGixC+PNrfBD8/Z44V+vYLIEzMKjyQIuT6l6KwsYmSBdKD0kMsmC8+5IdGi/E08+aSSBaI7QLKFJ+OeT49C86TLY7dqj9OLWNW7RTx3W/8y7EeVBe6wMKOUnr+dh7gw+c+dMxkcffYjx4ycgOjpGbWjENVqU28WLF9XakOvXryuAyk8CohMnT8Jrzx4YGxnBxNAQ5mvWqHU9HTp0QMOGDVG/QQN8/PHHeOLJJ9G1SzvV+8vjKdgBwg4Kvu/jAqU60jlsruGMjfZRPa8McrsFlAYFuEoAD0ZibLjSZR6T4LZ7uwoq1HFu4pWRFi3J9HFJwvKkfj7z7jp6JyIflDunE9GXqg0irM3h7bFLAGkSLl/SbqxGoHj5cilSkyPh5rRVrvVAcVG+yOQ3dR5e2Tntjqd3O19VpxePEpT+TlIX/St3wea0oowDcXB22gXDRVNhsnQwvJ1nIzPBAjnJm3EwaQNSY9ciMWoN0uLMkZ1KYLoFBwW0ejjMw8yJPTCwT3ssnD8NgXt5Dh7P8JWgf4d21wdKnRzt1Q675parsd1uC7ZsXg57s7HYMb8nFo/riQWS9K/ZYAzr3eKH9lgrQPowQCnPGCzIS1bJK0dT2rdpjq6d26JDu9ZoKHbx1eef47OP38HPP36C5r9+hxZNvkfLZkLNa6BJo2/QoN4XaCH/T5nQASH+y1Cca4PwAGMsnTsAA/q0wdTJI+Huaq3AOt+b54BX5EM/URe0a9bop1OTomG/azuWzp+E1cuHYa/nAmQlWqr2yRVwerJgJzZZGCh+B/fUIP8o0wdtp+yC0RrU+OolDBwwGOGhAQqUnJO2v5tdUgeZkDI55RFS8XGJsLLZhV0eTnAOcsSmNVNgLTLweP4p7JGEnTv0Wjz3ApbW/gHLJnfHctOhmLqwJ/qNao4e/Vpixswp8HD3QIHoM3c2pZ/TV++diLpNnXq0a0qPqX0cxo8djh9qfC9xtwd27DCXeO2sjgBau3aJAL9x2L59vehWBPLEH8bGesv/Jpg+fZT45GHqDFPGdK475dTQKVMmYO7c2Qjwd1N8Uvb38ofkh+9KkExQumzJXNUJuWDBAmzatF6BX1vbtbCxWSMAdS4MDWdg0aLpCpROmTJCrpsioHADMjKCERe3B2ZmhsLfVFhYrEOiAFPVKSDy1GcTOiKP9PnHi7IQHOQvz1yE/v0HYP78Gdi710kAb7TkABHqyJclS6YrgM6/169fJDnOVAHu0zFsWH+JL3XQt28XtTNvWlqIxCx/4XujgNtRmDx5orL7I7lpKhF/aKBU2pLtmRgfqD0SZtVSdSSMInMjbN20GubrjDFuwih0aPQzun/2Ihb99DKs27wPi5ZvY0KN59H1gyfQ/q1/oNXrT6L+K0/i2xeewJfPadCxwQ8wWTYbdrab1U7ZXC7CNq3oe5U/Fhk+LlDKe5mjMV/7M0C6NxGQMaa5OkncTE/ENbH3SxI7udROu+GR/rrLU3lQylMbmCeS9NV3N2KOyWVme31dJJfIx80blwWU5ukFljqirupy2MqCUrYXSe25EuKmRpgddt3/tN3ypHsGNxLNPZSlNhG9cpn7ejCXqAallQelV4rVaIzVjnV479138MQTT+Dtt95C0x9qYGW/nog1WojD4mSzd1rAf9Z0zP+qIYY+9wXqal7BMxKQXvzXy+g/YIAkJfsQHRWDXdY2cNi5Ez6eXjBaboT2HdpimQAyGh23XqcSsV59/JD4G/nlesqSosOYM2cB6v38JlbNeQIZgc/gVtloFB6LxbRZlvj+Py9is5EGJ5I1KEnS4KgA00MRGiT7axDppQWn6QJKcwWQnknXYJuxgNLvn0efPoNwOCdFwNKDHwnDv38fKfV2wK+NG6Bd+3ZwdnGAuflqzJgxUYLDYglu4qAOhkrQ0m1ylPY7KC0ry8GlS9w04Ygks5xie1IAR5oAiLGoXftH1eNXIgkf13oy2S/P652I17EjIC7aV/VG8VwoLm6PjQ4Qnnm+Z6E48Vzkq3OZPFXyr5v+wV4j7ejUn9cBcCfeAB8HZGfFyfMl6ZM67taWdBaUDYO+nfV61GtQF02798F2vyDkXxRAek2S9jIBpASjZwlGBWBdEAd+sQylAkpPyncnTp1DbGYeppluxMc/1ccn39fC8MWrMNfaDXU69sKzL7+CCWMHq+nGHFFmvXfjqTxdOEtjzJNEJwldutjiqX9yhHQxXnllGV54Ybb8PVpoAJ5+uh8aNTIQYOoheiGB8ZK8+304EMqD9lgVUMqOEwafefOm4NNPP8GECRPh4+OLsDAJeoGBSEriWXH5OHOGR71c+hMwJVg9KcC0sLAQeUePSqISh1WrV6NN27Zq86g6derg66+/xvPPv4Bukphz2/y/GpSSaJOUExMznr/mJIDQhbvvpsaJblyQOi9LoL+EYwWHxc+5KcBovW216Dmv2Y8L50+ogEY5a5Ns/fXcibTvnSvvEa/Oc6MtMNB6e+5SR1ZduXJZkuAbwkcpLpUdwylJ8pIT90mQ26NGTm/euKkA6QUBkCoo3oMHnV6Q10cOSoU4PY/tmpkRC9tdO7BkwTSsXDoK7g5zEB/B6bqWyEzcgOTodQgToBXguQihArySolcLMN2I7LRNiAg0wXbLKQLC+mHMiM6SgE9CUJCHPFfAxx18VEVQyl1snZzs1WjlCk6VXLcUW40nYcucnjAe1xFjh3THiBGDMG/xTAGsFnDjNMrbgPRBp+8ymaKNcQoXO2N4hMGB1DCEBvvAbPUqjB4+EBNGdsKG1aOwx2UB/D2XIHDPYvi5L4STzUzs2Dge9laTsc97sQD2tcjN2KxkZ79jFowWDsLEMZ0xbYqAld1WypYunrv72tLyxLbhxl3JSVHYvnUTFs+bBLMVY7DHeSESo9YiQ0BpVjI7DCylHUwxZ2Z/1Kv9LhbO0ogdanCqUAOT+U+gcf230aFNA4wQOa5etVgA5j6VSN/Ndyn/I3pI/3750llJqjPh5uGF9bbbYLxpMYzGtoPVZ6/DVWL/bqGdmn9gxZtvYVLLBpg0qxemLeuHoZPaoVOfX9Cu068YO2YU7O0clI+6ceOqPPPE7XoqZ5eUGf3BowKllAU7KDjDYuSIgfj6P18pUOXv7yjgLlL8rIcAsikSx8eJfrtLXBb9FV4ixU4JuDi1vGfP9gLOlqCkRGIQjon+BYpOz8WgQb2wZfNqZb8c/eS76Py7PuJvtGfGS24WYzBzEr795mvJV7pj2zYzBAQ4YvfuTQJI58DYeDa8vHaKTw9ERIQndu40E4A6RUDhNLXbf35+NOLj/WBqukxA4CRYWnCNc4xqf+q+vvpJtFH6h8K8NISG7JXn7gJ32zYw4N4YJgLGfVX+kpMTCl9fG/lukchgFMaO7SO22lvJjjPDPvroA3z22UdqKRLXkm7ZskltHsWNzaysrLFnDzfki1e83IkfpaeiJ5UFpZQxO+M9PXZh8ODeErPro0XzxmjRrDEaNayHn2v9gIEDesLWTnIcx+3o37EpunzyHObVegnzGr6FHj9/hEY1v0K9ml+j7vdfoeGX76PLxy9h2GfPo+3Hr+Drj95F3Xq1RRaTxFeEq84D6mZ5HpQ/Fp17nKCU+R2BlS5Xqywxp+PMHzd25qYn4JqAuQcBpUGSK+tyR3313Y20vJirIwgfJSjV3cdPDsZEhXv+194V90O8lx0DPA8252Cq+DrmYVclny1RdVWD0iqAUjpkLsjfaW2Bt956Q5JwDd5+9llMql8PodMnocByFfJsNiBbfvefoQWlY5/5Cg00L+KVp55C/caNsGnzZkRFRmOt2Tr07N4D7dq0Q4d2HdC/bx9YiCPjGibycbdgWJGY1JYKaIqRRHjh/Eno2eEtrDIQAHq0E06cDobBvM34+Yd/SRKjQVGiBjlcPxqgHR1ND9T+HSfEKbwHgjU4LsB1u1xbu8bz6N178EMFpXSEXPvJw9YbiyN86aWX0bx5U4wbNxwbN65Qu+8ePRqFY8filUNn8Dp5kjvvZipAyu3lCUhJ165pz4zlVF5O13nzzdfxxRefwXy1oQKZujPQyvOrj/gOND4eC8NF5OwV27l9jQBQX5SdPylAqBTH8lIQyV3Hdm9RBkXHdmfD3ARb6zUCXLeL0SWLoz2rNqVShn+X0SjyyrY8eigW27esQbfePdB+4HBYuO1BLkGoJPhlAkQ5bff8uXO4evmSmoZ6qPgEXCITYG7vAaPtThg8Zxk+/OYHfPjxxxhrsADGTr5oNngCXn3nfUwePwyF4hSrNFIq11wopTHmI8A/TgCahej+DHz4gTGmTnYSPV4nYG2kfNdDqLMA084S2MaLnTiKbuRIQOKOd0wy9Dz7DsT2oB1UFZTy70ULp6uEadIk7sLopXb/dHJyUjvpcrpuVlaWGjnlqHNZWdnvo6e6wvXNDg4OGDJ0KOrXr4+ff/4ZDRo0QI0aNfDiiy+ha5f2avru3wGU8j7aJYkjpmHBLvD1spMAn357SuxlqfeM1FGInMwY5di5bsXBdoMKaunJUSg5duC2b9Rfx91I+965ant3rrch4PX2tJX6U0TvL4s0f8OVy2eEP26qJHIvTpMkeD/yj6YLX7qjlYrkWeL072EfJJ1ePA5QykRee27hIUlyPWEwazqmTuiPbesmIjrIVADpJhwQQMo1pOF7TQSozofd9mlwsJqOvV7LkB6/AYcPbFEjp/tDVsLPbT7Gj2qF9u0bY+tWc2mTo7gi8URf3eVBqfac0jh1Tul8AV1LZw6As9k4+FmOw+qJHdCvxY9o3oAjkw0wauxgbNixGu63Nzh60JFSks6+6LsZA3HzpMj3tLRxgsSx1Zg9fTQ2mYlMBHwfTt+GvINWyM/ergB7mL8xvHfPF5A4FyF+ywUcWiAnbbP8th7x4asR5L0Ui+f0QtvW9bB48SwBGAdw9WIhzklb6uz7TkSeOLvkpPgVdzdHAbYTMWtKf+zaMhWxoaulbTYhM3mjAqVBPiaYPnkAOrX/EoZLnkNinAZpEueWztege8fPsWTBUOzaZoCxI9uiV682av0fY732uDH99euI+sF10CXHjsIvJAhzTRZh1IBWWF7vE+x69VlsfPopGL7yEla98i+Yv/4aFtf8HOMG/or+k9ujy6AmaNnuZzRs+CM6d+qIVavWCMDLkkTzurJbHknzdwGltB/dSCnjdYMGddVoX0pKkAC7RAGl7gJIx2Lq1DHyt6fE8BQFOrnp0E6JmbNmjUXnzi3kHeep2M4O5ZycSAGls9Gmza8wNponfGVIvLj7Jo8kLT+6kdI0zJo5ET/88B0mTBiqZlklJflj1661olNTsGHDCuEjXPhJV1N2PTy2qGmzHLVdv94Qhw6Fq7yCU25nzhyH8eNGqPMhOXX/bnLRgdL8I+J3Q/fJc70EUG4XIDYbc+fOkNhjrfbEuHw5Rz7jRCbOcHRchx07TLBpkzGWL5+DHj064N1338ITT/wD//rXv/Drr78KYF4Md3cP1ZHq4eGpNpLKPBArMnl4oJTXU8aJ8UHYZWOJdeZGavdcy/XGMF9jKG0xX763kNwvHqclt7S13YzW9X/AR89o0ODT1zB17EBY22yCm5cDbOS3GZNHofFnb6HjW0/gx2c1eO2559Ghc3t4edkqEPl3GSl9eKCUxwNyX4C/EpQ6Sy7Bjl3JiR4RKCXxPhL5jgrz+l2G5EMff3cn7TpZ5iBqQ9H8XJUj8LQK7t2i9XV/8EGdoZ5Ug1I9TJG4OJzEXRlHjBiAjz/5CB+JI+n11VeY3aQRNg/ph0wLY1xx3oHEuXOw4MsG+FXzCj5/5nl0bNsauyTRjY9NwJrVZqjfpB5e++IVvPbVK3jj83/jhzpfq1G+Q1lxKuhfvpCv6rxXYNYKi2sECyQxk2Ta3h6ffvoRerbVIDuhhgCtaRg7ZgBq1XhOgdLDAkiTBXju99GC0owgCc77hDhtV37LidDAZZMGo/o+g17dG2PLJktR/EzFjz7ZaJWmsqBU64jUupScOHVg8+sSpHlUwOw542/vlpeEvLxoCSBxAkgTFSg9cSJFjZIycFy9KoncbVDKLeZv3iyURL9EnUc2cmQ/vP/Bu/j66y+xcN501atPZ8jpXXcLuCQ6LhpeRmq4OhDYRkDpvgA34TNddCNNrUfgDr0EpHQkd+8p4trSdXL9djGiUBQVchqEOIQTBCd3a09t8vfbrTPIyYrBoP7d8NHXNTBtzUYcKruCq5KoXOEI38UynD57BpkFJQg9kIutfuEYbLgWLcbMQI+Zi9F71mI06NgdP9Sug3ZduqL9gBH4uU1XdOvTU/jaiNPigKgv+nn4MzFR5ShpqYDLxIQUTJ++G+++twgffrgQcwx2S7BIETmFoFMnQzz3bHcBpc2FGuOf/2yE2j/3l6R1E7KzYiXQaHf7u5c+64hyoK5QJlUFpUsWz1S7Y0+ZOh3+/gHqeAp3d3e4urpKkNcGe06hT0hIUKOnPEv4goD9mzdvqpFSe7Ghvn37KhBKaty4EZo1a4bvv68h7/YP1aOcEBcouOevWVNakXgvdZfyOpwdI4A5ROznqASrayJ3rl3UJnBnTmTjYEYUgvZKQJTAwKm8QZLAFBWIb5NEgKCusu2jI+1756qNkzxctmH75pXqOJrSUgJDqA4ZBhtte9EfaIMOR5euXj57u3dUt+b63nXr9ILPeeSgVHT/chmnNufAyXEnBg/uj2mTesLNzgDpcRYCeLYgXUBpevx6RASuhPPOudiybjy2WU6Er/sSpMZZ4lDqZuQkbUB+1lYcSrHEtAmtUevHzyURny8yOKp8ob66daA0j6A0KRExAkqtdu7AnJnDYTavF2J2TsKB3VNhvag3ejX9Dt9/9Aq++/I99O7bGes2rYSHvwM8AxzUJ0dNnX12IihsD3gkzPIdPBLmR4yqIiil/MoEpBOYsGMxMiJAAMhEjB/bSwDdNKTFrlOgNDtN3vXAJiTHrBMgvlSBRJvNk7HHZSESo9chm9OdEy3VOlzKZd3Kwahd6xOMHj1Q2jJVPV/bxnfXB/LE3VdLijKxbesGDOjfE3Nn9YGP6zxkCCDOkHqyUsR3pm3CXi9jtG3ZAk0bPS06o0FWlgbLlz2JTm2+xJK5o5GZuE1dN2pYY9Su/TU2blwtbXNMjSjpq5vEeKY9gkr8R2kBCsXmnLw9MXncEEz+/iNY/vtZrH/1JYz98B10++ZzjP36K6x/401se+0lzKz7KTr0qIemHWrj12Y/CSithdatWgpwm43g4FC1VOO6gFK2idZm9PNQnqjb9AOPApSS+GzO4OIRVMbGS9CjZzcsWDBVfKmXWmbDabrz5k0VYDhCbfSTmOiLiAhnuLhsEfBnhLFjB0mcaAELi2U4ciQG2dkRAuJMMHBgL/m+veQaZjgpbc6OGtWJqYcHHVE3dPwUCyhdbjgf7Tu0Fr7mITV1r+QSQQL+VgvAm6w+U1MjBADHIjLS/fZ02hmYPHmE8LJU+AjDpUuHEBTkgKFDe6B3r87Y42knelh0V7mUB6WhIYEKSDo6OgnoXqWm3S5bZqCmBl+7xp38j6lOdcopOTlAYtE2xevYsUPQsWM7tWvvc889h9dee03+7wTuFO/i4gI3N0+JYT4PHZQyJ6KNRUf6Yp3ZcsybO0XtNL7SeCGiJL89daoQR3IzFHBYt9YIS5fNxYhRQ/DlN9/hBcl5W7dtCcPlC2BpuQorVy3DbMm3+vbqhLqfvqnWl34ioHRQj45qJLb42IFqUCr0fxWU8h62FUkB03AvtZkhc+Cqj5j+AUq9PWyRf/SQtPEVXDynHbSp6OuoM6y3GpTqYUpL2nPszglFCUjh7mT/ev4F/PT112hWpw56NKyPDUN6I2T2eGzp0gndX/kAnzz/Ipq3aAJrWxtJLpIl2G1Eo+YN8UPzb9B2fDN0mtEKTYbXw/ctvkLdX3+CoRj/wcxo1VNMfu6UKOhIKyxx5BfzFZgJDPSXBLqlBNtXscf2JQR7vIf+Pd5Are+ewFYTDQ4K6EwRAJoSqAWkB0M0KNyvwblM7bReX2sNBnd/Dp07NIa11WYcL9E6jzs75qqBUn7SODgNOjszBrNmTEDNmt9h+oxRSEnZi4sXcwSIJoPnmR07lqCcOBf+c6RUB0p55hn/vnHjmLT+OaGLOHMmE+vWLcUnn30owEGDhg3qKoeqNsMQuhP/OqLjIh0+uF+cn70Y/ka1i66Pp63QLrg7b60EGP2DeB2Tfn5Ghu5RIwB0zHfjQycr4LzaWr139/Z49e33MHDaXERmC/i5UKZGlzjCF5acgVXO/pi93RUzLGzQb+YiNB84Eh0mzcYw000YtHAl6rXpiPc+FB385GMMGNQP/uL46Zx59t695EFie5WePojrAv6PF2dhzix3vP3WInzw/jzMmmmLnMwU4LcCCRp5EsT90bbNLLz0UguR//dCnwr9iO7dJiAidK8keHnSDtqzZPXVVZF0jrAqoJTTwulY586ehHfeeQf9BwwUgOmAgIAAeHt7w8/PT42aenmJU/X0lIDvpigkJAQZGRnqTMX169ejc+fO+Prrb/DZZ5+hVq1aCpA2bvwrvvjiK7z55psYOZy770bcXmOuDXi0g78KlOqIdsW6TojNXrhwQmzwvHyXK0E8XX7nRhk8woa7TUfAkwBykzH8fZ0k+SuSNiwVeRNgVy7A6kjXTpzes9fPXq27CdrrqaaaA7ckWEpbSYKhbS/tPbpAUypglfez/aqqF3zPxwFKOaWe9wT4uWHO7KmYMWMAVpsMw+5dBogMNFWjoRkCOgnAAjyWwWH7dLjZzpbfTJCZsAHZiRuRHGGOsAAjuNkbYNzIVujepZk6+4/tfifQowOl3HCHoDQuPhmO9tZYs3wS3LfMRH6IOYqCDBFnNxkrJrbEL9+8jk/feRUd27aBhZkZ/Hw8Rd85yuIuOu8mOu+MqOAg7A8PgeHGhfhq0JcYtHSwAqUXTuffFZSWJx4lVCrXcoptTHQgli6dj0mT+mP50kGw3T4VQd5GSIlZLyDPUo2KBvksh5PVDKGZCPYxRHrseiWT1Ki1iN63Et6uC7DAoDs6dWwAo+VzxU+mK6Cp1eW76wR1gSOlJ0qy4OZqJ20zHgaz+sN89Qi4OcxBdPBqHEzehLys7dgfug6d2jfHd99qsHaNRq55GgP6/AcLZ45GZMBaxIWvgavDLAwZ8Ct69WwDNxdraZtC9Z766iap+CbyOH8uX0DNWaSkpclzV2Fmm6ZY8c6/Yf7Mkxj1zuv45aevUbtJPXRo0hCzP/8Cli89jyXvvoyutT5DnQbfom5jAaRtmouv7IqJEyfDebcLzpw+Jf6FowfaevTVX5Gop5TbowKl1MmLEsM4s2L37l0YO26s0AgBT1slVserJTebNpmo0dLly2dh82ZDoaVqTee0aWPRtWt7tGjRCEZGcyRP2Y2dO9cKgB2GYUMHSdsvQ2SEv9oUsEz8qALjenjQEXVD5RFin8eFn82b1gqgHAweFRcT46k2DXJ13QJDw5kCEheo6btc90qAvGbNItHZEQokb9iwTICjJ8LDXQVEzhJw3E6+H4nwMG+lh/QZd5KLDpTmCSgNDPRVO/+6uLjBxmangNKp6Nmzq8pJcg6FS95yRHxytgDjKOzxtlWzAri50uzZBjAzM5fPOahdpy6efPKfePnll9VGYfPnL4K1ta3YMEHpwz2nlH6N/sffxxGTJowQ+2utdsvlniYh+9zEfwIXzp9SI6ddOrfB0CF94SEgYpvVBjRu9it+qPm9yn97dOuIfn27i+zmwl1+5yZPtT5+H/95/hn89OkHapp3UkLw77GyPA/KH4tsq0Gp/jrvRI8blJJ4H2fKXBR/S/7pO5jbVo1/bta0VeXWzBPcnHfgcE6Git1lt3mo6Ot0uUI1KNXDFIm74nJtINfjHS9Kx6ABPfHuBx+g37DhMF27DrOmTUPvpo3R/vsvUf+dt/HZ8y+jVfPmsLLbicSkJKw1X4t6jevi68ZfYIbZRLhE22J7sAXm7pqKLrPa4vNGH+ObWl9K8jMZB5LDVS8ggUxlEjYqHHvej+Qmw3bnZvTp3QQThj6NDYYajOqnQb2aGmxbqR0NPRAmgFSAaa4A1EPyNz8JTIPsNRg74Gl079wE6y22SKAREHDzhMjlkDJqfXxolaZyoJSkbdwslYz9duO4ANP9WLVyiTi2ruLYZqqd6c6dO6TOFyM4/TMoPSxANF94KpL2K5Z2LMT5C0WS/B9DUJCbBKWeeP/9t/HN119h8YKZSEsOVc63Mg6MRsd3KZF2ZQJLB8idwbgpDJ0R59FXdroCjZXX0vBsdqxGSKC7BNgCXLt8StVzt/bk77/dOolDWTEYOrg3Xvn3v/FVzZ8xe816ROYcwXEBpsm5hTDa6Y4eBoYYsXQVLB3d4OjuBaNVqzFusRFmbN2NyRvtUbtDTzz13POoU/MbOO60wAXR799unFSOkbqsr/7ypAWl2bh17QiKCjLQv68V3nh9gQSarTiQloRb1/PknTgiVyDJSi7cXfdIUJ+AV175Ac8++wVq/dQDFuabcehgggQars+q/KZHlAPtsSqglIGPQW6pBPw33ngDNWrWxJgxYyUJWaNGP319fRVxxNTOzk4CvrUiR0dH2NraShIwH83FXj///HN8+eWXCpBy2m7t2nXVKGmdOrUlgI/CXn9nFRjppKkzrJ+ffzUoJTGZo77zjEOO3tDfkT8SfQRnenCaOrfG57m8IUF7xN7OSGAoE3kTlB7Q+9y7kU6nD6Rq7SYo0FPst1gCHkFxtiQY6er3P98nPOkJQvcinV7wvsexppQyI3ETHj/f3TBcZiDJdQv079UUNhsmIyt+Iw6lb0VWyiYkRpoj0s8YsQJWM2IscDRlixol9XNfhEXz+qFPzyYYObyHAFJzZGftV/zQd+qrVwdK848eQHJKMqJj4uFsuxU7181B3B4LlGXtwYWUbTgRaYTg7SMwpuv3+Pr9V1G31k9qTdsO623YbrMV26w3Y6vVZmzethGOovMODraYZDge/xn4FUYYjUJKchwu3GOktCKRN/JeVHAAEWE+MDdfhn79O6Frp4ZYbTgMKWHmOJS6BdlpW5AasxYxe00QE2CCtMh1OCSAlDsWR+5dgVXGw8WnNMeAfu0kNi6R5DXo9/atLC9sG3a05GTHwVOS4vnzJ4sPaoKhA1spIJwrfBTn7kRm0maMG90Z77zzNH6p/wxGDPwOlqYTEB9qiYi9Rpg3pw96dm+C8WP6wclhs7R3grIjPl9fvSSt7mZJ8l6IskvnERYcitVTpsK40S8w/fJTjHrjFdR+/3V8/uNX+KFpPTRo3hDtfvweo995E3Nffg7D3n4V9b75BLUa1EbXnt0xbuxYAStL4Om5B6dOnRTfelrJurI2Qt0mv48KlPL3C+LjuFwhNNgf8+YvwPARI7Bl8xq1qQ9jdXi4CywtlwnIGiMApb8AvN4YNao/+vbtiYYNfxG/+hk6dmyJWbMmYumSuViz2kjazQFpKVHiFzOU/+amevrqL0+MI3xfdrCSHw93B0ydOgUzZ06Eu/s28Jzz5GQ/tSSI61xXrpwHCwtDrF+/DHPmTEBnAVotWjRWmx5xcyYT4/mSd83EnLnzsWPHVmRm7Bf/rj2HWl/9JB0o5bnD+/b5qVFSzsRxc3MXMGyEAQMGqPcMCXERf8hdd/fCXpL4FSsWCBgfgxnTZ2Db1u2qs5THk82dNw9169bFq6++gvfee1/A+jAB+VsQ4O+ndpd+mKCUAJH37I/yg8U6YyyYP0OdK7p61RJER/jgnMSOgvwMuDhtV+eVmq9ZpmaRFealwFm+W2myCIsXzcLCBTPUrr2erjaqEyE2PgQGU0bhP2+/hn9qNKj1Yw2JMR6SM59UuWx5HpQ/lvZ+XKCUe4YwP+MZmxVztnvRwwal+/wdVU75fwWUkmgLPCOaHXFc5kbeOeJZmbxYB2C1R9xYqLzag5vb5WZLTndZjZRSfyv6OtZJPakGpXqYIpExXnNVGuZYQQrWmi1D126dxJHNQ3hkFIKCQzBVHE0TSWx/adwYbTq2h8WGDQKuSpAYn4juXbrh+defR4vhjWAXug3xuRFwi7aHkctCjNswFE2G18cL7z0nyfwPCPR1Btfv8Ly8/07o/pt4DXm/JSDyeHE2+g8Yhbo/voD5EzSYNkqDX2oJKDXR7jR4IFyDbAGix5M0SPHXfs/rCEj7dP8FmzZukgBDsHFC9VxWdGjlSas0lQel5YmAkZs0EZjOmzNVAkVrGC6fhczMCDH6AtWzyPWk3OiIf7O3Ubu50Tn5PIvsnHBs37FGJUXsne3Tu4skOD3UTnL5Epg5DYyGWFkgxHfhMQBcjxoe7CbGw7OjtDvrVsbweI3OULmIOzTIC9GRe3H4UCa44Qudq+oBVoZ3Z+fBtSwlRRnYtsUMDer+hH8+9RR+bNsBlv7B2Jd5BG4xqZhuvhXdJkzDgjVmSDyQJgDoNBJiY7DFeidWWO/GzC2OaNBzKJ595TXU+7kGbMURc5oTOwOow/rq1ke0mStlh1XCsNbMEwYz7RESHC26wansBAe0KY5SFoqjyIWjvROGDRmPHt1HYOsmK3E0B9UoKR1yZfRYR3ymls97g1Ld9Ty3l07f032X2iH3/Q/ex1df/Qd9+vTBkiVLsW7dOklA1kqCslKSBkP5bon6XLFihdppt1WrVgqQkn74oYYCpD/8UBPvvvcBvvvuW7VuKTkhWOkVdZf16nhQuiN1/9WglKR7Vnn58G/Kk3UdyopWoNTLbSeyMlLUObfXRDcrbsdeFeKzWUdmeoQkOgESuONRXMjfyMOdkurK64OOdHpBmT4OUMp3ou7SbmiTtrus0bJ1e9T5+TusXjoE2QkbcOQAQelGZArgyojdgIz9G5ATuxH5yVuRkyiJx66ZGCwgqYGAj3nzZuHQoQTcvHlS8VK+jcoTR8hoe8dEhgmJCZLo7sYaIwNsNBqPRP/NuF4QhBu5TjgXvxoZblOwdnJT/PLta3jvPwJMB9RH9yU9hLqj26Ju6LqwG7os7Ipei3qhz+Le6DCnPbrP6w4za3MBA4k4e1zAsbxjZYGgjji1mQmfv5+ngNLBqFHjO0wf3xlJoatxRIB6joDSg0kbkRW3AZkik4Mim9xEAXypmxHotRhTJnYWmfyE4cMGSzvtu90BqtWjO8mlIvE63sNRLYKDTRst0ejXZmj8S01sXjMGR4WHY4et1C7IG8zHol2bumjdogFWLholvGxFSc4O2Gybgl49m6Jx4/owNTFEkfi6mze4icmfbei/iZ1hUr8khKfPnkDU3kA4LVoCp1GjsKp3d7SpWwOffv4+Pv3Pp/j2p+8VfVnjK9T/7AMM/fdLGP/Cs+jw7lv49edaGDhsGFabr1Vr4FNTUnD2TLECFNT3ysqC+vRoQanY+W1QlJG+H5s3b8CkyZOxytQQCfF+OH0qXfKGBLUvBHfbXbp0sgDAMTAwGI/Ro4fil1/q4YUXXsDLL7+ImjVrYMzYMQJId+Pk8UPCY9Hvm35V9n21vkCbaKckhWPd2tUCMsernXe5BOj06RQEBzurqcPc/Xb+/AnyORXTpo1E06a/4P3338P333+LNm2aY/KksXBy3IX4uEhkZSaKT0lX9qevXh2xXvqGooJ0JCVEIix0LyIjgoSCscfLBdu3bcCO7RbyzL0oKU5RMrKz3SBA1Bw7bbYgMGAPUpJjVM4UHxeB4H2+asR3yqTRGD1yMFatNBT5OCM+Nhx5R1JVXXfi6X5AKRN7LkOx2r5O6lqsAOm2LWuQFL9PfW9jbYHVposVICWtWrkI7i7WAgrF9i+fxIG0KNjsWCc2swiuAlQJSn/7rQxOTjvwzddfqhlr9evVQkTYHuAWl7r8hSOlxYwX3goc8Uxvlc9VIqfTEe/T7r679YFAKd9ZzSrytVe5ZVUGO0i8VsuLmYDS3Y8clPJ6EmXOje64oSLzSHW8zm1wyZxX+w7634O/cYNF5sWUIe/hLsbMkTgj5OaNK2L7BdWg9P6m795u3NvOnw20eeMq9O3TQ5KN+XBz94STqxtsHZywx88PAUGBSElLxYXzFySxjkW3zl3x8jsvosO4FrD0NoVTpDU2+KzGvJ3TMHr9IDQf1RAvffACfvrxe+z12a0cdeVBqbYBudbnzMlczJo1H62bfYqxg55Ev+4a1OVIqYBPHgVDYFoQL58CTHeaa9C1zcv49OM3JVjXxy7rTQJqDwnIOKEAmrYx9NdJ0ipN1UEpv2eQ4/Qrrt3JOhCF2QaT0b59S6xZsxgFhQlql12C0bKybNy4oV07eu5cNo4cSUZKahgsLA3RqGFtAfHfY+KE4WoE6+hhCSh5yQo0cCRLV1fF+vUR34XvzMSWO5m6ccqu/b17smh0NEyCWBL/jxODO3WyWBzXBQHTlyVpviqgibspapX7bgk5dezi+XzttCQLE9SuXRPfNWyIMaZrsdw5ANt8Q7HUYiNGGMyByQ4rZJeU4PL16zh08CBsbXdhobEpRi42RfPB4/BFjZr44tMPMXJ4fzHovSp5o2wqKxMS7YbX5+akSh2pKvhcunB7ipXoBn9jj/HF87lqmnKGBKvUpAgck8B++QJHqrUOpCp1Uga0R8qpMqBU3SPtx8SGIyeclsTpSO+9x8SjBlq3aYN27dqrI166du2K7t0lYe/WDb17cxfEYRg8eDBatGihdtrlWXM//fSTANHv8Oabb+Gtt97CgAE9xYn648bVotudHX9e86R0528CSkmUTXn58Pk81oQbiajExd9J7dB7VW02dENs9rjaGfd+Qekf7XUQOZnRiArfI4EkTP7XBhUt4Kl8+9+JdPVQpo8DlJKo/7SZM6dyERIShMlTpqJ3r1ZYv2oE4sJWIjZ8JfaHrkJStAVSBXilxFgiMdQc8ftMEelrhF1bp2D6pB6iZ70lYV6PIrGRG1eZ0NwZcHCEmTHmSG4qAvfugeU6Q8ybPgBrlgxDbIA5ruS54oqA4Xy/uQiz7AezCQ3Rrc3n+LL1u/hg5If4dM5n+Gz2Z/jU4A/6aPrH+GLGl2hv0h5bXLciOiJGbDUFJccyRTe0yYc+Xu5EnB1Rdi4PyYkxWLrMUGyqLRbP64OIACOtXMJWITFqHdL2b0SKgNLE8LWI3bcKMYEr4W43Gwtn9cGQgV2wYsViAQKxkiBpN9Orip/gtbyHAPnk8Rz4+Xpj9JjRGNCvNbZZjENixGrERZgKL6vVdGsfN0O4OxoiyMsEqRHm2L/PGFstJmDSmG4CBAbCwW6HALhDaqd9rc7ejYRPSUrPnjkitlOE7NgEpO/xRZq3N5xtdmDEhJFo1KKJ8iXffvMNPvvic3zwxSf48suP0PrjdzDmjX9j/Guvo3/NHzF7xgzsDQ1DyYnjAnKPS3voRpUqLwvqNmXxqEApic9hHfSxkeF+MDJaojb1cXberKbwcv3kmTPp4FEocXFeCAy0B8/jNDScLfrRHl98/gmef/5ZvPDii6jf4BfVKRgVGYwS4YfTwpVNVKjzbqSAstxH2w4J3oNFi+bB2HghYmI8JHeQOHuau1f7ClCyhJnZQvltluRq49GlSxsBpe/jn/98Gm+//a7Y5mDsC/QUfSLw046+6quvImljYJaa0kxwSmIHLuMgNwmK3x8o8StA7CwMuYfiBAjEq2VLSfHB6rcDqRECOJPVkouiQvHNSaEKVHKn9LTkMGlLsU/x2eTnbvpYVVDK5VM8436Ppy1GSG7A4/maNPkFvXp2VhvVeXvtwuhRA9GsaUO0adUUrVo2UTvyTp40AvlH08S//obY/UEYN3awOm/eYOYE7TnxuAk3N1uJnd/gtdf/jUEDe4p/0E7f1eUBOlL+WNr7UYNS1sO4kBS/F15uOwQTWChAVRlAWD63s9m+SgDhJhU3taC0arvv6nJl2icHPfjs3zfNlDr01V+eCEbJs+Jlm6k6A/xY4ZFHCkp1PoWbKEaEuqsRUs6I4t+cjsuRYxL5IvDk1FwdvzrZkW93l+1Krzii7uW+E7Exkh+dOan28bh6VbvMSB8PWpn9Hwalzwoo/dcjBqU6unD2iJp+WnAkURKGFejRowvatG2HgQMHq63BC/ILUFQkgSo7W23xHrQ3CD269cAr772MJkPqY+b2CVjiMBuzrSZj4sYRGLqyNxr3r4OX3n0B9ev+rBzL9csCSjlcfgdFq0hUOJ4/xeCzPzoQK1dMRpuWH+GDdzWo+Y0GDus1OCZg9ESKBplBGqxdrEG/bm+rM8dWrDCDjbWNGEyaANJiXJREmYasr57ypDO0+xkp1RGnFN66XoI0Ubz5c6cJaGiLBQunICkpQG1odOsWR0dLBZgeR0CAA8aOG4y27Zpj8JDeaoR1lckiBPg6qeSe6zGvXS5UbV1ZuemI8lNBUe47KoE6OtxLC0x/7wn6s5Pgd1qis7BQUyqc5Xsa3JnT3KGS5RquXD6tjrw4K4anrevufLF+vgv160TRAVhvM0f7zu3wc7suGGhogYXbHTF+3mJ0HToSUwSo+qUfREbBMWzZsgWdOrRX01a/rFkbzTp1wcIl87BB9NNq+1pkCvDXTdvRV++dSNcpwRHT69Ie3Im3YkeFTtbcrfTmtWPCe5EEF3YKVL0dSGwH2iNlVVlQyk0ySiVZ4lmvBBF+Pg7o07sr3n33XbVrLolrQmvXroO2bdsqIkAlKB01apT6m2eS1qlTFzVq/IBXX30Nr732b/Tv3wPB+9zUegrqlk5HytdNO/g7gdKKRFkymKclhUhAdFW7B184T/AGteGQbue7+2krHel8wfHCdGRlRKrpXxcvnJT346ZaWqeu776qkE4v+KzHCUrZ6XK8+CAiIkKw3GgRpkzuBbOVQ2G1eRJWrxyGrZYTELjHEMnR6xEfaQ4XuzlYtXwYTBYPwRrDoVhk0A+zZ43Crl2bJHlLxmXRpbu1OZeJMBlg59jWjSuwc/tK+LqsQ4yfGQ5HrcHxWFMcdJ+OANNuWDL0Wwzo8gUmTumJpRsXYIHtAkzbOQ3Td03H9J1/0BSrKZhhPQPm7uaIiIlAakKamoZPkHw/oFQ75feQ8vkWlmsxefIALF/aHzZbJ8PcdBg2mI/Rbm4UuU5tcOTjvhhrTUfBeMlQmC0fjmVz+mHWtEGwsDBGeloULkkcqPwZpX8QO4g4rbSoMFPtqbBwkQGmiywsVg/H9o0TsdpkKKy3TEZM8CoczbTCweTNAkznwVTaxWTJEKxeNgQLZvbF3Nnj4OJsI8DigNrY717y4DQ20lmRQdmpYpQdK8bl4yflPc7jUN4ROHu6Y+ny5WoaZpvWrVG3bh18V+MbfPfjN2j+y88YVetHzPv0U8wSf7RZQH2W5ArXJcG8XFYkddOn/jeYuBtRt6kzjxKUkmgPqsNXrvf3c4bBrMkwmD0BEZGukltxR3wurcnH8eOpiIz0wNq1hpg2bRwWLJiJlSaL0adPN7zx5ht47vkXUK9+A8ydMwc+3u7IPZys3uGstOe9OwT+IL4zN+47lJ2oRsqnTJ0A87VL1a665OXqVR5NEyW8aEdwZ88ejxEjhggw7YzPPvtC4sLL+OmnH4WPGfDxckZGeqwCgtozQe8tE/JKHaSP4G7z7CDh/gacAr7KdAm6d+2IaVNGS14QKLIvxTEBrmarlqJTxzaYMmmU2mzo2tVTEt/SYLZ6qYpZ8yQPio8JUPGG73avtqkqKGV70x/G7Q/Ats1rsGL5PCw3nKd24WXiz9FS7srLjY9MSZJjGS6do0Z68wVEc4O6NAHU27eZYYXhXDjabRb/mIHfbpZi8yYz1Pj+G3Ts2ErArZ3yyYxxFX2v8sfyXo8alOpkx8EK3u/pqj2vm0CKIJP5mzaPK5/Xab8joCJgdBTguHP7avl/s4CyeIUhqgpKyQdlQHkcOrhfYpcrnOX59tx75HaOSdKbY8p1HCBxtNOB0lWS3ziKz+OMxkcLStlOBKVBAU5qM8M9Hlbw9rBRsfdAGs8w9Rb58Lx+7qFCcK19B92GRq67tyIhNhR5R7ORJ3qZn3dIAVIWHmdzTupX9d2l/mpQqoepisTGZQKGmyfUiOk6c0M1fbRD+1Zqwb2BwRzMn78QM2caYO7ceRgxfCQ+/1Q7peHN719D+4ktMHLVAIw0G4Bhpr3RfUZbfNPoC2ie0uC7b/+jhubZW8vdGauSKJ4q0R67QhC3x8sB3333g6rz5xoaBNhpEOUuYHShBjNHatCz0/uYOH4MIiPCBRSekkCs3QKdcqKCVKZerdI8GCglESxxikemOJ+Z08erXrtZBhNw5Mh+eZcLKClJg53dJjUi2qVTa7Rr2xxGy+erQ93ZC8eEhnyQGCCqEtQqks4QMtLC4XHbgdE5uTr94SxIylHtWA0ncW4B4iCiIvyRnBiFM2dOUS2Vnl1Qc+VFlgRRVUgwKDf2ZHKqcp4kDf16dcKzr76J1qOnY9IGW/SaMg/fN2yGGk1ao9vYSZg8Zz6GDx+Kbl3aCTBtKdRKkqzJCujz+BfqhEp0mEjdZeT7bqQdvbkN3Cv8pvufusM2YICurC3pI619VQ2Ukge+G+vlaCaPlvBws8Hwof3Qvn0LdOvaDm3bNFcjoZ9++rnYxvcSODti6tSpYq8GAj77i941Qc2aPwp4fRuvv/46+vbpirAQD6Vj7CAiX+Xr1BHr/LuD0pJj6ZK07JOEI0gA/BFJkK78sRW7HnneL6kE+NQhNfp6+dIZqVsCpvIF/zdBqbbOHLWhTnJSJKysN2LhgvGYIcB01NAO6NmzOSZP7Ax7q2nISLBQu9CarhiCVi1ro2P7xpg2sTfmTB+I1abzsHevK4qOMeG6e5sTlPL3eNH93XbmiIvegwtnsvFbaTyOx61DyNZ+sDRoCPOZ7TBvckeMndIHm2w2ICExURKFDHnvOMTHxlcgfqf9nueeRkVHI1USrOJCbQJeVR3kjtzUa56h6OJqh2XLZmDW1L6YOLoLeveU+Da8LTauG4Ok6DXIStooYHUKunZpIDb4C8aP6g6Daf2wfNkUuLtaSYKUpJ3lUEUeSMr2xOdwF97Y/SHYvNkcC+aOxoyJPTB8cDv06t0Cs2b0gIfTHOSqda7mWDK/L5o3q6U2nZo5qQ/mzhiM9eZLEB66R7VzZWxSB0q5q/XFUwW4fv4UboqN37x5GZculaKgIBexsfvh6LhbnV85ceJEDBzUHwOHDMDocWMwZdAgzGzRHIadu8B7nQWKsrMkIS8WYC5toWJF1eyRcngcoJREP//bzePIy00UMLMQPbipz3pDddTLb7+xQz4RoaFuMDMzlNxnMKZPm4wAP1dJbtPgsnsXWrdug6effkZt7FOr1s9YunQp4uPCcE74ZwdDVeI3+db6hBwE7fPB9BlTMGr0YHh7W+PGjTzxDUfUyO2ePTZYvnyu+PsJMDVdAUcHa5iYLBWf3wivvPoKPvjgQ/Tr2x/2djZqKrh2TWnlZEIedPLjXiBclhQT5YcGDeqo/OvDj94TPbASv3QZqcnhaPhLXfX9WwLO7XZtET4vISU5Gs2b/qK+//e/X4XNjvUKlHKQoGJ9Fel+QSlnT20VUGpiNF/aZbuanXXp4jG1vnvbZjMFSkkbLVciLnav+PRjYh8ZKq5yuu8Ko3kKSPP/3Jx48cfuAvbb4aWXXkRTyeFcnHeIrv21u++SdDpSKLaRFLcXUeG+Etc5G24HbG/vG0Lwx42QtEBxLXZJbucqeV7oPi/sF1viUqz42DDx3zxH+IrIoljZaWVBqY5oo8xRc7KiJLfxE178EOjvqs7H37ljjRo5ZX5JXjggYrtD+BMeuXFnTNRexMUES64ZgPQ0wSylp5XunDtz9JGAUt19bPO0pGA10mxrvRb+3rsFYGbjytVLOJp7ADERvgJOfdSOuo7yHgSj9jvXKkCqHRVlTvyb+J5rit8bNy6KX7ogcY745s44gTrDdqsGpXqYuhNxRIaAivfzjFFOIZ00caRaX/ODUI0a3+OHH75XR1R8+vEn+PCD9/DRZ+/jmwafo07XH9BwQG3U6/0Tvqz3CZ556Wk8+8wzaN+upRiAjzgkjjaJwlQlWZRrGVB/u3VWAqyvJOPt8Oyzz+HLjzUwnavBspnPolHdt9Cw3peYMX0s4vaHCvA9jlvi+OhMqYDaBqhcnVqleTBQymuo/JzKSwecmhiCOQaTBTC0xqaNxhLYfSSILECbNk0xavhAMU5bceBhyM6KUfcQMLAdFOiqJN93I8qATo/HXAT42qseNfZOOdpqp+fS4PgdzyF1c96mHMqh7HSUXTiPK5clKbkhjlR0jD1AJykDMegqg1JJrinbmzdPqR0pDaaNwdvvv4fvmrZC5+kL0bDPcLz63id48eV/4bP/fIV69euqI4ViIn3VtJ8EMd5MAdXqGddK1Jo4NeW0Cm37V5IuiFQFlJJ078d71TpAAWJpySGSCIQiMyMaft6O6NO7Gz7++AN8/tkn6gzSzl26oFev3mqHXa5Bfe+9D/DW22+hb99uCpBeF4DLdb5a2/hzfTqinP/OoJTPJ2BjjyfXcF29UiokgFT8odZOHxww6oh2yKnC585ytI/Jg27t5IPrnU4vyO/jAqUk9U5S9/HiTPFxEdhlswXzZ03GGPFHI0YMxKhRXbFwHo9GmQDb7RMxVUBq27ZNMVQACHf1XLN6MYL2uuBYQaoKqPdqb93vRfnJOJITq0Yhys7n4WJ+BLI8FmD7nEaYOKIuTFfPgZeXK7z9fBEcFobE+GRJTNOQtD9ZS7H/TfExCYiMjEZYeDiSk+PUdMP7AaW8XifPg5lxcBVgarjIQEDpYIwcMRjDh/fAzBndsW3DaDhaT8GSeX3Rof2v6N+vF+bPnwZTk/lwdxNAKqDo3BkBAPI8gqeK9dyLyIeWl2x5lwMSL0Kwfct6zJ42DqPZPiMHYMyYrli2qA8cdkyG9aZxGDOinbRPc2m3YQKMZ2Od+TI15ZzT27Wzjaomi7Ni3+dE18+JbzpXelR1Kpw/m48zp4txJPcwoqOj1TnJPC/ZyWk3dtrZw3ztOiyfPx/bjZYj3t0DZwWUlp2kL7g/W2Fb0Ec9DlBKeyBg4rRSgrsJ48cJ2Bsv77ZRwKiT2lmXG/rMEIA422AmnJ1s1LVcqnMgNVbiuanaYZbnlH/00adq1+HIiL2iB4fU5kVVlT+vZ65UcDRVcoa1AkpHYIXxfASHSH4X7IbNArzmzZshOc9UrFm1EqEhvjgt8qA9rl9novYOePa5F/Djj7WxcqUJcg4mqJyCMVNffXci+jned/1qkQJ83brxHNK31RpWbuh0/fo5NcLYXb5/55238Ev92nBz3SV5A7+PwcABPdT3zB2dHLaoUVftwIT++nRUVVDK2MidpT1cbdTIbN06P2HenCkqXnJAw8fbAX37dEP9erUVsCbQ9BJQxAGC4qJ0dXxMo0b1UKvWD2jerJHa8Igg3EQALPdEefvtNyX3/QbTp42V9g5XncTaeP4HD8ofS7s9LlBK+2BexXONzwkmKCo8jLBgHm9iDXcXKwUEHXauVyN8nG7q6WqlzqovLiqQnPa80Dltbnv1spq+y9FJfesg70U6Oz0h73jm1GGUni0S/5kE/z0OKqd0F6CsmzJMnjg91oc5b2K02PNZXL50QXJN7ed1AZVX1EwnieNsZz05EYnvzzr5WRVQqruXPDO2xsf4Sr7rjKwDySKHq4Izb4ocOAswD6dOFgpoD4GLgGkO1vBoxf0EpGcZj3/TdtYJkOeO/CTtEgXOOqsGpQ8VlJJ4D0dRbt06rYS9188JK5bPVbuSGRnOE5qrDobmeU/btq6F6YpFaN6yEV555yW8/N6LeOntF/H0c0/jqaeeQqvmTeDsuB08EFrrFO+8+9+diPzQ4RDM2NluQqtWzfGvF59CjS+flCDdGMuXL8WmTZsRFuqvEp0bVzhdqOpJCUmrNFpQGujvpNYX3c9IKYnX0gFzgyfunLvSZKE4xs749dd6aNiwjlr74O1ljwvn80XWZ9SGUzpD0/e8+yWdLNjDR2Pw87ZVvVc6YMpeNS54pwEeyjmgnNblSxcFcNwUJ3FeDO+4GM3tc2b1BITKEnm4IO1IGUeEeKrOjs+++Qbvfl0D/3r/U7z873+jeZMGMDacraboxkR64+rlIkk6ziggSvloA8H9te1fSeRXy3sW9kftERt1rxQo1ZHuN/bQXr/C6cQnpX0kOZPncm3Dpg2mWCCBlZtvsIecU3z//e/X8cwzz+D1N17HkMF9ERzkrvRRu/5PB6z018c2+juDUh3RB144ly9BrQil7F2too1WhbSj8g/3+Tq94HMfJyglUXZs45Ml2UhPjZb281A9xm4uNliyeDp69myGFk2/QesW32L0yO7YsmmNBH9PhIf5ICbaXxLmFNXW9Jf3konud/q3sgsF8i4FKDoUiYO+KxFj0R8uxn1guX4BXHy8kZB0AKkpBxAXm4Co6BhERUUjOirmjhQlgDQiIgrhERFISYlTa9nuB5SSeA9nRTCu5mQlSJLnIzJxEhtzVCMpAwd1QIvm36Fls28wqF8rrDFdBH9fFyWTqAg/Sf5jFQgkEHlQPdHZYElRFpITwrHPz014cVYbr8yZOx5duzRC86Zfo22rGpg4vh+sd1ggJNhb8RIrAILrATmjhKN1VeXlD13XEjf3Um13jhvAsXMyDydPFOHEiZPqLOSU1HSERkQiKCwUibHhKMqSeH8sDxdOSqJ7+3kV67gX8f1Z5+MApSTqMTufeA41Rz/nzp2N0aMHYfjw3hgxYhBmzZoJS4t12OvvgbzcJAWwKN+TJQdFD4MEtBqJzfRG9x69JScx0vpMeQftSGnVdZHLRWjjYaECjkyMMXHSeIwbPxxjxw3H9OmTYWZmIsDKEQlxIWoK7c1rRYqiIwMwfcYMtGrdVvjpAwvhOTszTnIodqpV3V+wDShP+naCPov1xnCw24SM9Cjle+kHOLK41twItpKfcjDjvACDgrx0eLrvVFNobawsVecyZawAp556ypMOlCbHByrQUKmNjkRWseKXLNebYOliAzjab8Gx/FRcuXRMbXS0wWIlli2Zo6btmpsZqoGSKxIP2UHmJiDOZMVCLFlkIJ8L1I68GQIcuUaV/K82XQLzNYaw27VRTVVlu1f0vcofSzs/DlBanpijX7nEHK1AdD9RwFmqWifKUT5O0eWax/TUWOQdFSB2olite/zttxsC4M5JfnVKcr1T8oxjag8LrVzvz2+xY+fShUJcvnhc2igHudkJOJyThriYEOy22wg7a3ME7/NAVkYSCvJz1dnfzDFvCbi7fuWs5CanJNcskfcQn6Hs5c580J6ol/xkTNy317XSoJTEtmN7FRxJEL1OEr9ySnLwGyLHM9IWR+QdigUci2/LF78muQ0Ha6IjA3HmDPOuWxKfy5SOsw41QPO7n7y77HT1VoNSPUzdiXTBi0IigFBBTRwJha19Ed013KXvqAC2Yqk3AxZrV6BLp3Zo16aFUEt0aNsS/ft2V0Z8QQyOo5bkparBkaS7h+CO9dtYWUhA7oyWLdpig6UZCgqkoc8dF2WUIFjK8wLvfwSNPHKDgpysaAR42yMxPhoXL56X4HdGnle1hFR3LddQcMOmrIwoGMyaiF8a1MGwIX3VHHoCUm6IQVnrHNP98n4v4vPZVqlJQYgI9UJ0xF41FYFTJ5ITotS60Rs3bojTEscpwZ7OqvSMJFeSkCiDU3T/fGl1R7vmlj3M0eE+GDd6sOhLc7XxwOCBPbHLxkK9Ox0TAxP1T42ocARf+KcTYg/1o5DPoyTyTXuk/KIjPLHP31VAaa7Y7RV5z8qBUhKTCgIBJRdFR0SHeGZciehXNAyXzUHXzm3VZg4d2rdEm9ZNMWRIH0mkdksAOiZJy/Hbdqi/Hh3xGsr/7w5KWY+uLq38Hp1eqOffpY3uh3R6QZk+blBKYgxhcGfPNIMxR2fYeeXr7Yh5c6eiezdJbHu0k0RvBfLyknH1aomALu3RIuSvqvXzesaNUqmrMDMIB/aYINlxDtICNkvSGoUDWZnIyjqArMw0ZBxIQlpaPNJShfh5N5JrUgWQ5mQnC/+clUG90M/DvYhtwvcjmOOIJ/0V13ZHib8yloS1d59O6NKlNRYvmi7JRRiuSFxS14g8eA9t9H7rrkhKXnym1M8j0i4JoC+URNvFxVqAyTiJg63Rr29n2FivQ7G897WrkpyKXij+H1A/tMD0D6Jt8XgT7qR84Vye+IJSsf+ralTsRLHwVXgEJ08VSttKHJYE+cKZYzh36uhtQFp1uyHvfI/HBUr5jsx1GGu4Tpoj5fPnTcf4cUOxaOFs7Ny5HQmxYXKddqMwBWKlDtbFzbX2S/Lt5sqRY1sE+HvhYEaseu79AEESdwZmHUcOp6hpvOvXr1E7ps+cMUHynjUSu/cpGSnwynxNgBlj5JFDyQgM9IatrRXsbK0RHOQjIDpFPevB9FLbicX3PS95Fm2MMqOc+T13q+dv/J7trfNt/E7FhCroog6UJsYGqNlAR3LZ1hdxkQDvDoBD+25ZKj/glPXfdVe+I6nvi3nudabyq1qd/iO26u5Ts8HK3av0UNmStnNHS3+um6TsTd75cYNSypVE2yQP166ellxOgHhskMRkVwGk8ZIfnBfQdUvtDEubuSjgT3uutjyDdiLvpO/ZVSE+i7KiDEgXzxdIznFWcogsRIZ4IiJE9FCA8VVuRigAkDHu6uVS0aUCdd8fs0ruzcv/Y+874LMq0u7d7/vv7rducXfV1dW1u3Z67x0RAZGmIL13BBXpvffee++EEpLQIdQAgRRSSO8kIQXSC5z/nOflxpcYqqCIz9Hze9/cd+7cuTNzL3PmeeYZ6x3NT3qecTuZIIpSc3/XksPvKkpJnkt3Zf67l5F2xQhRM941dcLzWB7258SES/D3cRX3bwZhunHjhs2QQOFr+olt3HazL91DHUq+po2ecFFqHlbTuBwcxscGmIbfhkM/0VJKstAMO83vdCmlqLqVMaZxLhtBFWf+kYhCWJC7ecD24fQxZ7gZ0tWD1kEOcLLSuLbTVunSeHbXuRfaKtC2tpT7CtHqetbtII4e2YuggAvm+jGmHJdlYCAvpQe4hkV5qExnZ7joowe2wfPCaaRcSzAPT1xeOQo673bky4+dn+4lFBB0u+TM3zm3ffJ7BiOfmn8s4syL6UHq5n7Ih5h9hnvSxkabfzCSYsUKfPVqghn48qVlBGlOuu2FZQZjLDdf0NzrkR24oDzvhzZRaosuSffRZPOS9z5/CCeP7MTJozslaA0DMrAtc7O5D5gtqq71D8ijrp9HTd43P8+ddsKxw7vN4DLQ/ANxzbyQuHfvvbW/VYesE6tvcbY3Jyve/IMdJrO4p80/dCdcd8snZ449TB3zHx6ms4ROQXnbk8/BvYhSiqXYGFq+f3jv/JyilJR/FG72kYJ+f5zJeuJ7mvdwZ1GaK8+l+xkX84/Z2ocmSkkOJjhg5TsqMz1CBtxREV5mMOOKY0f34LirIwL83SQwFj0X+LstKrRtcuP+6930Db5bIi4g6tJRRAW4Ij7SwwzCzXMQa9uuidE+Y8wn3wdcW2n7vAMjfeQ8237Fd47seTdaA06uu+WAn94F/DeQ/x76eZ/ECfPvm6sRqLQIySDQ/Ptnvd8pIG15PLy+yMEmrW1W+/A64aEe8HA/gmO0Wh93MiLK3fQPDgK5vRODt1nt8zDfmyYf/jtgyH9HKJJTzMCTbn+M8ErX9hSZGDb1YMrLLZn4nig4r7uT5b8XUYob2SZ9gEQA/ami1HZftu1FKP757zWD53hdOCrWUbru898lazxDUnRy0oD9mtuL3NoXTZqf0Bct0cBngFb4c2e4hn6/fJd3f2oY0szzaN/WJKPf8hwG/eKzRMH1oM+ElSevQQ86ei3Z3FdtSyVuf5zlsz/O99y99Uem5SDfy/2geSc6SFCZzPRk6W8FrXm05cmlXkGg8eJ6TqzEYGAd8R3K/iDHb45fuUSK/dT6t5DPFsvJ8zi2ZbmtdyLTcqzL3/kuYJ8s6D7kfWyudztRSmvk9evZZoyVgku+J817fJ0ZJ/90UWoT3LbnkmXmOIDvUr4/42KCZGxn83q7JvXH8S3Po6Di2M4SVvnzfRBKvZj8KPZYvxSmbAM+ExTKdBW+YeqAsR84GW9bbsPysxz3Vxa2A/N2P7MXRw/tREiwn8mf6zrvHCTJnjyf7cZ3l0yaSLtyLMEy2N4HbLs482wznkSOCFL2QaZhP7z7NezJZ4XX+02I0uucLTQvRFpKD+zd9JNFqT1tnaYg2gbGTMOHGDfifyDMQOp6nHkgOaNgS5s/3/ullQfztK7BlzI7hq0z318HKYjspGR0hKdYS8O4n1YC94tkcJN7e6Hmp3X/bAtuwcFOwEi0fIGyYzyMurkX2spus7bRzSIrkw9ZsjA7M8kI/rib9+ljXpSe8llQPj+VVn3Qze2GedlLXyFzY2/pLw9S148z2a/4GRLoZsTjaVyOugQGjrKfgc1/zr3QVl8XpX8xwrXtGWSd3nwOTb3yHwirXgvKIz+ZV0GiNOsWUcrJsGyxlMp7x2XjLyJKf820/lFknRYsSi+aQUWCacdc01eizAB5D5x3rzb/qB16aO93i/Z90OYmHi1Bxfge5/udZbWeSyvdT2GCub8k0/+T6HptBhJ8L9EKZwUgexDa/k0s+HoPQuteSb6v5Pky9cFnjMtEODB6mHVyO1rin2Q7cGIgNzMmr304eOYeyj9HWWy0vXOsCUuuG5W1o+a77fp8z5APXg72bdbv3S2l2ebfK3+ZFOPY50FFqUWWn/2IdUxBIiImI1K2AxNBcjON/Tm255hW1mAjEunJcu9Bhe5G5sOxAj2uGImd4ojtbbPA/rit+RzQY4wTKuSDug8XRF6LY7/817Qd//G/2bc7fjfKe82cExZ8TgRcTCStp1zeZBO2BZ1D8reCrvnDZO4P5b/19x/Os7+/2x0viPI+NvV8N1HKJVEMgOm0azXcHoKl1J68TxkLG7I8dOvNykiU7fu4W4JN+D26sZ09eQ2Whe8BertlZsSb8jBIZZQ5xgkcL5t4fMB3BPs0GRJ4xvSRU2YcQg+OH8ZT9yJKSWlj6S8F1wnblGvqU69GmnayvWcfRJCS7NdslydalLKj0bqVlpoEb49j2LltKfY5b5CHmR39YQ5a7kR2DpkxzMeH9TK0p/21HkX+JPNl3T3s/G1lt0VyfVRlvyvNoI3X5uDNnj88ZPy8/wfuQch6sO8vP1d//SX5Q9/i3w+vnq187evT4v32NeZzO1FqW18WaIRTOtLTrpoXrKtEsdvntF6iV6oovXeynu4kSnk8KyMZOTlZCA32gvOeNdi1fZnsE/iwRak9WS4O+q3+9Ejak3maa9j4+PcX1oH982Wr+1+m3PnL8kja5xem7f5uL0r5fHD7CFqCvD2O295BZuzDzfx/iii1aNWxxXvJj2lsLPj3B+X9lOWHf9NvlqWANL8WWvd9yz085Lp9WLyjKDViMPVqtLjvXomNwNFDDrIdCUUpBcLDEqW3MK8P8G/7ccbPM7azp9UffxhbWiw4/f0wr4/86D4fEm/pbz8tf5bzCROlE7F+9XzTuS8DN+j2FyBrO3JzUhEnHX0nHDYvxvEjOyUoEN1MrIGL8v7Ifwz5ouDsZ0G//6p5c0AlkxrxfFD4aX2/+XteGuXDJp9J9i3bwNb2Qn3cyDKmXA1GVPh5sYIyWAHdvHNzr5nfba57DFAQHxsp753t5h/Y40d25L13rIkX5Z3JerKJeD9ZG3P44C5ERYaK54tE9DN1nSPBxpLhfuaoDGS4ppTLC3ievt+VTyrZt2khZIRtitLTJw4i5VoScrK5OT3X1pt3kBn7xMdFwfXQLmzfvATHDu+Q5T36DnoyaP1bmXfsMR6b2N7HAfD1Oiqi9JKfN7Kz05GRFmPe775iteRkY6C/Jxx3rMZuhxUSSZ/nsr/mz+8n8ZZ6ssZ31t+/JG+OMR8iH/l46pb+9tPyt73TgsGdJPY5bbCJ0su/UlH6t2ZnUKPVBKxfNQ9pFKVIyXsIuBcYt0Xw9XaFp/sBCbnPC9saioEXfg4W3Ag8XnD6n8KHnb+Vjz3v9vuD89ayP458NPddEK26sGdB6Z4sPrr6Lag+yYLS3ol8d8jaQjtReu1aIm5cT5Hf+XJNT4kxLza+d45J8KzgAOu9Eyjvpfx5Kn9M1qNtQHJTlB6gKA0DA8hwwpHrCRncI/lKOAL9zsDj3AH4mfc81+rb6pnrYQrO+2HwQfvPk0r7Z+qXrpfHpRyPinwH0Y3cXpRyG4vrOdek3+eNfWID895BnKzhgIuDvIfxjn2c6vhxKsvPx0f3b+XDJt/jfCfbi9KcnHRkZTC4IPdpZ8DGKESEeskemd4eh833C+Zcbjf2aN/jt/JxqM+H2a6/nj5ie6eF4KLHUZulVCzlNwN72YnGR82fLEqf7phiROlZVGw2CjOnDIHnuYOysa/XhYNwd3PG+bN7cf6Mi9Dj3D7hBZLHlQ/GM3Ys6PdfM+92T0/qfT8utOr3Ma5jj3P74XX+gBkI7sLObUvgvHsDPM6fgL+vm3m3MI2L7f3C94755PtG3jv8fpP581T+mNyHz9PUM+vRaddKU9crwM3EL/mdM8cPmuPm/S59xdSzG+vcVs/2dV1Qvkrlr518B3me34/Tx/kOWmqejw1mzHMK/j6njQBlwB+7sY/5tH8H2Y7/kJfyV8r8/07m//sxIt/j7H+H92/C9k2LZV9934tnZf2o7T3OMTrTsr/a3uWP7P39GNfTQ6d1r4/qfh9ivuwf7Cf7nTdg++bF5t22W9bdJl0xQpHr838mcj0v48akJvoYxRl/n6L0izj8qf1VPPuVJxp0m48Fc8Zgn9NauB7aiUP7t5ub2yw8uHeLRCk7cnCHOb4N+114fJPyrjT15LIFB1y2KpVKi3u3Sjj5/c5bsGfXOtmr8cDe7bLPGH87cPP9coDvnYMOOHpoh3n/bJffbM+TPlP3StYz68t593oz8F6Pfc5bzTuc9bxNjvMdxfo+bN73rOcjpr4P7uM7XutZ+QTzlnfQenkHHTTvIOvZYP/nO0jGPvneQfpcKH9uynvckPv6O5l/M7lNycF9fFebPml+t8bqHJ8fkff4DnmP2/qq9tffBM27iv3EcedaOO/ZKHv9Jidwaz8GLrNFMP85yGjpifGByLgaahTnVRz3u3GPorT0Jfyt6WX8vlU8XukchOGL3HD+3HGZfbnk54lL/t7y6S/0kk8urvb1uaC8J56Hn4+HqUMvU5cX8+pQqVTayHdMUIAPAgPM82HeLXxe9Dl5NGQdBwVy6wfzHjfvp4LSKJW/Nd7yDvIz7yDzHrK9g/Q9pHz8GHDJ9FfzHg/w9zJ99YIhj9/aV38Ytyt/i/QzDAnxR2JCjGxjk519DZkZV39epicj11wXyMZxXyNK+2TcXZT+qXQA/tIkBr/7MgZv94zAqgNXxEc9JycV3EhYmG0j9wxkePSc7Czk5uYo74U51me2qdNMU49pP9SrUqkUcm+unCzbs8FtYPL/rnw4lHq++Q7SelYqf6D9s5Gtz4byMWdOjl1f1f6qzEd5nxktl23GVfy3PsscyzL67edlqhGlqcCNFBz2TEXZXin4XXkjSot43EWUNr2M3zW/jLe6h2OpUxhyM6INIyXMdMrVCEN+hsv39NRYXM/NZBaKewTFaOKVCCTEByM9JQoZqTFINXXJPYmUSiWfBYv2x+zTKB8O89ezUqn84bmwfzb0WVE+rrxdf7VPo/xN86Z+u5YUhqSEECHdeH9ehiL9ajBuZATB+XQESvdIwu8qXDGi1NOI0s13EaUtYvFmt1DM3e6L1ISLSE+6iITLFxEbYxhtW7RK/+D0lHhkZiQjMz0JGemJ8qksmNmZV3HjejpCQ3zguGs9uBfj5UhP02GCwQ19Sdvm4EqlUqlUKpVKpVL5cPhL64yUK97ITfWC47EglOqRaERpwn2I0u6hmOfgh9REXyNKfZEQ64tYCevri8QrwUhL5abSKUhNuWxbyHqFIaaDlbfhteQwCdXt7XkcixZMwdzZY3HsyA7ZaoEh17lZsy1sslKpVCqVSqVSqVQ+GUxJ8DGi9CIcjwc/uChNS/JDerKf7F8XG+ODhLhApKcmIic73QjSeBGjVy774Eqs4WW/HzNvnxpLdNkdt77/BkjheS05BCGBZ7F10xKMGfUdZs8cg3Nn9iMlyQhX87tVV0qlUqlUKpVKpVL5JJBGzutpPthzIuQhidJob7H6cSF1bk4Wrl2NkgtxU1SbKPW9LRPM+Ynx/vJZ0O9POhPi/HE1IRDRER7Y67Qeo4Z/g5GGrod3Iu1qKJKvBIi1NH8jKpVKpVKpVCqVSuWvlY9AlF4U193szGtGlGYixYhSiq0rsUZ4CX9ciDyzbXIIcjKjkXYtLO94/rT3xZtir8DfHkPSUno1MciIUk8RpaNHfIvRI/vj2JFdSL0aoqJUqVQqlUqlUqlUPnF8ZKI0K+OqEaUZRpRGG1FKt9Pbi1KKVjI0yB0+nq4IunQGV8zfeVbTAs65EylmmV/q1VAjcEORZMScJXwLSv+40BKlUeEecHZcizEjv8O4MYNwwtVRRalSqVQqlUqlUql8IvlYiNJrScFiJd2xfRUGft8HK1fMEUFKIfbTRGmw5JF05dKvWJQOVFGqVCqVSqVSqVQqn1g+FqI01QhSWjTXrV2ITh1bYc6cCSJK01PCRFzas6DzSdvvNmGXnBCImChvWYu532ULgi65yTH+Zp/21vN/sNje7jp3S3O7326XPj9VlCqVSqVSqVQqlcrfGh8LUUoxRgb6u0mkWT+f4+a4r7jdUqRRkFnk3/kFHgUnf0tJpmU0FJlpEQg0QrR3r874qkVjHD64AzlZMbJWlWnTroXgWpKVj6+5tr/8nXcdI5IpAO2vkRgfcGsaw+QEprHdE7/b/8Zy8p54D7QC29IH3pJnfqooVSqVSqVSqVQqlb81Phai1HKtpZgEEpCTEZXnakuRyb9zMm1MTwm/ZY0ohSUj02abNDw/Kz0SuVnR8L14HA3q10GZ0sXhtGcjcIN7pvL8MPN7jEkbLiKQeVw1gpJ/W9dgXhSmzNu6Dq+Zkco00UJJY4SizXrKctqCNDFvfrKcFKEUylnpEXKM5bRd88d1QKooVSqVSqVSqVQqlb81PjaWUoq+i16uOLBvKzzcD4mApPA7engn5s2ZiGlTR2HO7PHYs3udnJOTHStCLyM1Qtx055nfliycavI4YUqbhshwL3z5xed45T8vY+CA3vD0OIzwEHfsdd5k8puEDesWIijgrCljohGBF7FtyzJMmzJKOH/eJJxz22+uH4kscw0KRZZt3ZqFN9OMxHxTpnOn95lyxpl7jMSZU3uxfs0CyXvKpBHY5bAG0ZFe8PI4guVLZ2LWzHE4dcJJ7inTlJmCNy7m1vpQUapUKpVKpVKpVCp/a3w81pReDRUL5tLFM9Do87qYakRfijkWFnwOgwd+jXJlSqB48Y9QrmwJdOvSxrZFSkoEko2Acz97AMOHfouaNaqiVs0qmDRxJEJCvBEe6oHOnVvjT08/jWrVKhoRugguThvFnfeV/7yEdm2+xLkzB5CUFA1np+3o2rkVqlerhGpVK6LuJzVERIYEnhVRmmXE6bGju9Cta1tUrFAaVSqVxScfV8es6WMRFuZvBHCAEaLDUbxYIXzw/jsoXOh9k19r7N65FgvmTcandWuhZImiGDXyeyOE3ZCaHGzE549deVWUKpVKpVKpVCqVyt8aHwtRSldXut2OGzPYCLoP0PfrLjhuhNikCcPQqUNL9OndBQO+74fvvuuNzp1am++9xeLpaoTiwAF90NGkGTR4AL77th86dWyJGdPHiHDt1q0dXnvtP+azAw4ecMKqFfPw0Ufv4fXXX8GcWePh43UMG9YvN/l3Re9eHTB61ACMGN7f5NMT7du1wGgjIr09jiI3Ow7+vqdEqH7brzuGDOqH/iYNyzJnzjQjdrejb58ueO65Z1G3Tg30/+5rfGPSUcT27NER3/f/xvzeAx3bmzxHfY+zbvvErZeka7BVDypKlUqlUqlUKpVK5W+Nj4koDRM33MkTh6NqlfL4/rteYmGsVLEsBvTvhZCgC0hKSkR0dDBmTh8n1spBRow67l6HLp1boaMRojt3boXH+ZOYO2cCBg/6GjsdVotYrVG9Anbv2oKEhHgsXzYfxYoVErF47VoI4mJ8JM2HH7yD7t3aikvv2jULMG3KaBQp/CEKf/Qutm1ZjdzcFMTFBmDb1uVGzE7AiuVzMGPaaFOOMrJudf7cyaacvVG2bElsXL9Yyrpxw3KULl0cbdu0gKfnBURHBqBn97YoUbwI1q6eL9ZhCnEVpUqlUqlUKpVKpfK3zMdGlHKd5dTJI1G7VlVx2Z01cyxKliiCYUO+kai5NiRj0YJp4h7bq2dHREd44JjrLvneu1cXuOzZjPCQ8/DzPYXzZw+Kq26tGpVw9IgLMjPTsXLFQiMUi2Lg971NXolGAAagfbvm+Mc/nsF77/0XdT+piU8+roEqRhj/6/nnULlSGex13m5EZrzJY48I4EoVy6DOx9VRqVJZ/P3vz5jyVjFlmiLW0+rVK2Kf82Yp6R7HTUYAFxZRGhMTjtzsZPTp1RHvv/+OEcezRJTmZESrKFUqlUqlUqlUKpW/aT52orRmjcpiBZ0/dxIqGgE4ZFBfsWgC6UhPj5RAQsWKFhIX3xvZl83xFOx12oQ2rZuiXetmEvQIyDHl8MEXTRuKVXWvyw6kpl7FqpWLRJR+3aczstIizLV90blTK7z11uto+FkdDBvaD99/1xPffdMDQwd/A4dtK+HtcQxr1yw3wrczunZpg8GD+mDEsG/Qq0cHFProA3zW4BMsXjhVhHSlSuWwbcsKc/007Ny+GuXKlESH9i0REsItY8LRu2cHlCxZ1M5S+kOUYVJFqVKpVCqVSqVSqfyt8bG1lM6cPkZcbWkpzUiLZBEMUowAnCHrTrt1bYcL7odw3HU3gi+5wcV5qxGKXdDv664iTBnBt9Hn9VC+XAkcOeSM7OxMrF61GKVKFUWf3kaUpkcgOsITTRrVQ8kShbF503KTfyau5yYhJTlM8j153Emi/7Zs0RjFixXGpg1LTZosSZdgBGS3Lu1ElM6cPtaI1b6oXLm8EaXMJxU7tq8y1y6FDh0pSn2RlBBmRGlHlC5VTEWpUqlUKpVKpVKpVN7k4yNK0yIwcfxQsY72/7Ynli2ZIa6xtFp6ebgiIiIEAQHnMXniSNSoXkkCEm3dvMyI0zaYN3sizp45jlWrlorL7td9umDP7vXo2aODuO9u2bQaMTFRWLpkLooW/VAELYMrxZmydunUStadLl+2AFFRkYZh8Pdzw1gjBkeaa2wz1+jVsz2qVCqHpUtnm9+NmI2OhK/vabQw1/qkTnVMnzoa/b/rKXuibtlI4ZqO7VtXSDTe1q2+QHCwD5ISwyRycOHC72P1yrkqSpVKpVKpVCqVSqXS8DERpbbou+PHDUHhIh+gX79uYgVdsmiGBCJq+VUTtGvbwrA52rb5EhPGDsGpE844d2a/CNm2rb9Ap47t0aVLR3Tv1g4L50+Ft+dR7HPZLNbJnj06Y9PGNZg7Z7JYSjt2+EoEYPq1MLjs2SjRfNu2aY727VqhXTtzvZZN5VoL50+Bt8cRHNq/Tdx5W7VshlatvjTnt0azZg3x8ssvyTY0dDX+xpTZZk1dYmorQyymXPvaonkTBAUZUZoQhk7muu+//1+sXD4baddCZc9SFaVKpVKpVCqVSqXyt8zHQpSmJIeISFu3dgHat2+B+fMmIz01QtaSjh0zCNWqVpA9Squaz359u+Lc2f3Izrps0oTB3+eEWDTp9tu4cX0sXTwd0RFeYnlNN6Q1lcKUQnXzxqUieKdMHiHlzDGiMD09Gvv3bUeXTq1RoVxJVChfUiyxM6aNQWjQOWRlxiAjPQpHD++S7WZKlyoiAZAqlC9tylRKou7SKstowd27tsNBI2BxPQGHDzpInuPGDEF4mK/UybQpI0UQOztuwLWkIAngpKJUqVQqlUqlUqlU/pb5WIjSpCuXRJBd8juFk8f3wMf7mBGc4cjOiMSFcweNsFyO9WsXiqg8cczR5H8JmRnRIjxJrh/dunkpdmxfiUu+J5GTGSXHszOjERFyHkcOOeCs216T/0m4G0HreeGICF4Kw6zMy7gc7YMjRkRuWLdISNdbPyN2ab2lIM004jXWpD9ycLuUY9OGxVIWx13r4H7mAEICz8HX6xjOnHJBWPA5I7KDjKB1x+mTLvA4f9hcy0/qwMvjKE6fcDLpz8rfvGf7elBRqlQqlUqlUqlUKn9rfCxEKUmLYWpyiBGU0WJBpGhkeopLXI8zjJdPurxSnPH3uBhfk7e/LU1uHG7kxIrFlXnxN37SCkuRmp4Sar6bclFoGsHLa1p5XE0MRG5W9M1rGOYynzBJwyi+TJecEChlw40rN8tjK1NWWiSuJQaLKzB/p9BlHVBc8m+WLcHUC/PidW1pgk3ZbPds3T+polSpVCqVSqVSqVT+1vjYiFKSoizJCC97CyL/plCzyL8pRO3P+yFN4I+sj0ybnBCQZ41lWvLHaQJ/dJ38aX64zq3prN+Yh1U265h9PvnT5KeKUqVSqVQqlUqlUvlb42MlSn/rVFGqVCqVSqVSqVQqf2tUUfoYUUWpUqlUKpVKpVKp/K3xvkXp00aU/lVF6SOhilKlUqlUKpVKpVL5W6MlSh2PB/8gSotSlG4xonSWitKfk7cTpceP7pKIvknx/rhy2QfxSqVSqVQqlUqlUvmEMCXhIpDhh71uESjTK0lF6S9Je1HqtHsNRg3/BmNHfY9jIkqDkayiVKlUKpVKpVKpVD5R9BVLKbIuYd+ZSBGl/1Phyk33XRWlPzspSrldTGTYBezesQrDBvU2wvQ7nDy+z9RnPNKuReNqUoRSqVQqlUqlUqlUPgEMN3oxEtlpkbgadx4rd5xBoQ5R+F2lRDxV3BtPva2i9GenJUpt7rvrMH7Ud5gycQQ8Pc4CN3JxPTcTOdkZSqVSqVQqlUqlUvnrptGKZG5uBjLTE3DmuAN6DV2Ifzf0wlNVr+KpUr5GlG7GU8+rKP1Zyf1LKUwvR3nD8/xBuOxZi4P7tiEyPMA0XDqys1KRlZWiVCqVSqVSqVQqlb9KZt9kbk66GN3SUhMQ5HcWq5eMx+fthuEfdc7iqeopeKq0n4rSX4r0qbY+6WPN70mmPq8mhSE5UalUKpVKpVKpVCp//Uy9Gon01BhER3jjoNMazJjQG407jMDz9T0evSi1rIHK2zPpSoC48aZdCxVeTQw0x8xx+U2pVCqVSqVSqVQqfx0UjZP3d4DowfjLfkbbBBidE4ywoLNw2bEU08f1RLNOo/GvBp6PTpTS6pdgfmdBGGFWeWdSlKYkh0jU3WtJgeaYUqlUKpVKpVKpVP56SS1IQ2VctLdoQx4LCzqDfbtXYOaE3mjW+RGLUrqhxhlhGhF6HiGBZ8zF3RFpvvNvZX66IzzkB/JvpVKpVCqVSqVSqfy1MTLsvNF97kYDuiHA7ySiwjyRGE9DXDCuJlCUnsV+x5WYNbHPoxelVMWXI71xzm0vXPasw56dq+FkuNthJXYp787tKwyX3/z75nelUqlUKpVKpVKp/KmkvsinMXY+TG5bJty/dxOCA72QnpYo60mvXvk5RWn8JaOEgxAT6QXXQw5YunAyJo4bgNEjv8Wo4f0Mv8HoEco7cdQwU0/D+kpdSZ2Z7yP5t1KpVCqVSqVSqVQ+APP0hGiym3oj79gPHP0AtM4dNrgXhg7uiRlTh+HAvq2IjY1CTk4WMtJikXwlwCZK9/xsojRQfjtxdCfmzhyD/t90xeCBvTBx/GBMnjAEkyYMVhbE8YMMh2DKpOGYOnkkJk8casjvozBtyhilUqlUKpVKpVKpfGBSV0yZNAKTjMaYYvTG9KljhDOm2TgzH2dNz0ceK+A40/L8ieOHYdzYQVi1YjYC/N2NIM00OjELqVejjCi99POK0uSEQMTF+IgonTFlOAZ+3xMrl8+C+9n98HA/hHNn9uGs215lfp5yxjm3/fD2dIOvjwc8zrvC88JJ+Pl6ITDAHwEBfkqlUqlUKpVKpVJ536Se8PO7CC/Ps7hw4RR8jN6w/WZ0xqUfeOlH9LvDdxuZh5W/p8cZo2XOGl0YKnuT5mRn/LKi9PiRHZg2eSiGDfkaLk4bkXYtDFnpkRJplhFnlbfyakKAabAQ5GRdw43rOchMjzffk02LXGezKBQKhUKhUCgUCsVPAnVbNvXGjRz5O+sGkJwJXEkF4q8Bl438iEmyMSoRiDSMSLAx/IphPBB2k8GxQGic7VxLsWRnZSIpKQZXkyKNIE1FtuFjIUqHD+17U5SGIjNNRentSFHKurGJ0mwjSuPMd9MbkMtmUSgUCoVCoVAoFIqfgBvIzU5HblaKEaXXkW50afRVIMgIS79owDsc8Ai+AfegGzgXeANnLt3Aaf8bOOV7Ayf8buCY73W4XryOo943cMTrBvZfuG6YC7eAXMQm30COUabpGemIuRyJhCvhRqCmPA6idCemTx6G4UP6Ys/utbKJKsUXN1HltjFPAuMv+xbIe017y+8xF6Vu0lOvmAZMw7XkSKReu2zqNlO6UH5kG+F6NfMqUrNSkXvDJlzTc9KRnJmMrNws0+VuyDGFQqFQKBQKhUKhyM3NNlojSfRGZlYWYpKBixHXDXNxMfy6EaQ5OHsp2wjRbJzyy8GJi9k45pUNV89sHDY85JGFAxeysP98Nvaey8YetyzsOJGB3SfT4BmUhaSUHMQnJuBScBBiY8NEkOZkp6kofdTkvXALHIuJ5v55zF5wWt/5261pb62H+xWlYclhWOu5Fg5+DohPj5djJyJOYIn7Enhe9hTRWhCu37iOnOs58nmvYPps04nJ+z33XkABTWGdez0XN248fDHNvFkfj6r89wNe32JB98uy8Tg/5bsp+93qROrPnMN7tD/Xug6/W7DyzJ9Gzr05uXEnWNcpKG9C8rcvv/nO8st3u+ve9vvNc3nOLfncTPMgsPqXfZlJ628po/mvINinI+8E+3R3KiuvZZ+vVR6Wg39bdWal5d/W/dvfB5m/3FJvJk1eenOu9P2bbcZjt7tXq87l+rdLY/7LS2PS/+j65j/ruizD7fJRKBQKhULx88NelGZkZiE8/gYuhOTCP+o6gi7fkE/vMCNOQ67jAi2mgdfhHnDdCNXrOO13Had8c3HSJ9eI1Vy4eufisEcu9p7JgeOJdJzzz0R8cjYiYxPg4R+ImMth4r6rovQR0hKadLfNzohCzk1mpobL/ecXpbz3jBTTMFbazCjTOKF2Atb3vkXp0bCj+Hj1x2ixtQV84n3k2PST01FiUQksv7AcqaYTFITghGCcjjiNiKsRMnC8G5IzkuEa5gpHP0fs8d+DY2HHEJ0SLQPOh4XM3Ex4xXrhSMARuEe4Iy4t7qENZpMyknAm6gz2+u+Fs58zDgUfQmhS6M1ff16w3vYH74fzJWe4BLrgQOABuEW4IfJqpAzkiaDEIBwNOYpjIcdwNPgozkSewZX0K/Lb7XAt8xrORp+F0yUnHAg6gOPhx6XN9gXsw77AffC74pdXn6HJoTgRdgKuIa5wDTdpgvfBOdAZjv6Ocq2UrBRJVxBiUmLkXCd/Jyn//sD9cA11RUhSSJ5girwWiZNhJ3Ek6Ijcx8mIk9KePPdc5DkcDToq1z4ZeRKXUy/L8dORp+EabMoT5Aq3SDc5FpcaJ+cyLc85FX4KEdci8sTa/YAeBL7xvlIXewP2Sh8+Fn5Myr/30l6cjzkvdZgf7Dvnos5Jv3H2d8bh4MNSroIQfjUcewP3wsnPSdL6xvkiIzdD2s7/in9e/teyrsE71lvqhun3Bu+VZ/l4xHEcCDkAlyBbvbpHuSM2NdZWhuhzcm2W+2DoQUnDa0hfNu8ReyRkJOB89HkcCT6C42HHcTDElp7k9dinvC97i5dFfvBaF6Iu4EjgEVy4fAFXs36chvfB+mI/Y19ge7HNeV98rvhuOR5qrht8EBfjL0odKBQKhUKheDwgojSNojQBmZmZCI29jnOB2fAOz8Wl6OvwjciFpxGp540YPXdTjJ4PgkkDceE95pUrdDU87JmLgxcoSrPhdCodFwKzcMWI0uCoeJzyuoSIqFARpbk5KkofOi2xmWTuk/ux8ntUuCciQs8jMvQCLkd5ixWU2+JY5/B7ckIAYqMuSjpJG+5h8rL9xnqhKI2L9r4vUUohUWl5JbTY1kIGvRQFo46MQuH5hbHs/LLbitItF7egn0s/OF5ylMH6nZBh2pUD2a+2foVqS6qh6uKq6OzQWQa6dBF+WOCAdvLxyagxrwa+WPkFdvjveGiil8Kmx+4eqLO0DmotroXmm5pjq+/Wm7/+fEhIT8BS96Wovao2qiyugmrLq6Hc/HKou7wu5p+ZL8KcWOe1Dg3WNEDF+RVRdUFVKTsF550QaJ65b/Z+g4qLzTlLq6LaCtNWK6qiyqIq+HjFx5h3Zl6e6N3ssxlfrP8CFReYtCZN9ZXVpSxlFpRBx+0dRcyy3fODfWWj90Y0X98clRdWRtXlVVFpcSWUXVQW413HIykzSfrEnkt78NXGr1BydkmUW1gOnXZ2gluUmwjg3rt6o+ycsig/vzzabG8jwvBI2BF02NYB5eeWR4W5FdBtZzdJezrqtJxbaWEllJpVCi03tZQ+a93H/YCTAbNOzkLt5bWljni/rCOWv+aSmhh6YCgCzDNqD1oWOYHQdUdXVJpfSe65wdoGWOe57hbhTpF8Je0KFpxdgOrLq6PCggqotKASxh4ei8OhhzHPbR76OPURIUq4X3ZHR4eOkqbSkkq2+jdlyePKaig7ryyarm0qfYFeD9/v/x4VFldAlaWm35jfmY5tW29VPSxyX3TLs+4R64H+zv1RdZFpn6W2/GutroWP13yMqsvMMXMvrO8TkSdunvEDfK/4YqjLUFSdWxUtNrcosN+xngYfGIxyi8rJvfKeV3qshFe8F6afmC7viPILysu1pp2chvg0mxeHQqFQKBSKXx6WKM1ISxBLafDlXJz2y4J7cI6473qFXYd7YC7O+OfCzZ9rSgE3v1ycvJhjhOgNHPK4YYTodRw4fx37Dfe5X4fL2Ww4u6XDKzhLLKWXwuJw1N0XoZEhRseoKH0kpChl+WkRzTDcs2sdvu3XA507tUL3ru0wbcpI+PucBK7HiTglkRuH0KBzmDdnIrp2aS1pe/XsiO1bV5o6C0FOpqk3k2dslNc9i1LPWE+Mcx2HIQeHwDHAEcGmXunGO/DAQMw5PQfecd7iqlcQaJXiAJqWKksIFQSuTd3muw2DDgwSwfO98/fo69gXU49NFUsJB+0PE+u91qPkzJJ4aexLGHt0rLja/lQcCT0iQr2fcz/0d+yP7x2/x5jDY8Qy9XMiPDlc2qX9jvbouKMjuu/sjh6OPVBqXin8ecSf0WpbqzzLFcvccG1D/N+w/8OrE17FgL0DxHp6J9BKRyt5j1098PHKj/G38X/Df6b+B43WNsI3e77B5oub8yyMFEoUpX8d+Ve8NOUltN7eGn2d+qL7ru7ourMrBuwfgG0+20REW6DoWXVhFbru7oq2W9qiu0N3dNnZBXVX1cXvhv0OddbUQWBioPQ5TgK03tIa/zPkf/Dn0X/GwP0D5bdLCZekLE8Pfxq/H/Z7uX+KIFr5ed0/DP0D/jLiL+i3p5+kZ59m3/vrqL/ifwb/D1ptbiV5P4illMJoo9dG9NjZA002NMGLk1/EPyb+Q+qq2/ZuWHRmkdShPXb57xIx2WZrG3Td1hVdtndBB4cOIpSXnl+KxPRESUcL7By3Oei5p6fUSTeHbsJB+wah07ZOeGfSO3hn5jviWk9s99uOV6a+gpcmvIRmG5uhrUNbvDXzLfx57J/xydpP0N2xO0rMLYFnxz6LHnt6iAfBrNOz8NrU16Q+KUhZhh4OPdBxW0f0ce4jk1BhSWFiDadb/+hDo/Hfaf/FH0b9ATVW1sC3Lt+KkGy9tTVeHv8y/jPlP1jluUrKYw9armcem4kPpnyAFya9IJND+UGr/szTM/HRnI/w1NdP4al+T2HwvsE4HH4YbTa1wVM9zLH+T6HK8irY4L2hQIusQqFQKBSKXwb5RWlAdC6O+2QZ8ZktLrvng68bMUpBarOQnrl0HRudA7Fsmy8cT16Dqw+MGAVczuVir5CiNMeI0gx4B2eLKL0YfBkH3HwQGh78cETpn4wo/YuK0ltIkcl7iI7wxD6XLejTqxMqViiDsmWKo3zZkmjc6FMsXTwdIabCaUll2vCQ81i7aj6af/k5ypQphlIli6BM6eL4uk8XHD60A3HRPlJnV2J97ipK07PTcS7mHNpub4ti84rh+33fy8Bx7pm5YhWpsaKGCAq6S1qwXCopxMRdMGCvuNjRNTC/1SkjOwMXYy+K+93MkzPFylJpWSXMdZsrg3QO7F0CXGQAz3MzTdmY/kDwAbEEZd/IFgFzLuIcDl46KBbcgkBL09mos5IXXSppSaNbJIVV2cVlMfTgUMnbgqSPPCvurvuC9mF/0H6h5bZsgRY+Wg0PhxwWq179tfVRZnEZEaabvTdju/d27PbfLQLp5wCFO91ll5xbgpZbW4pFkaKBgiYxI1HEYpttbaR89oP3DV4bUGpRKbTc0lJcN+8GikG6XrKetvhsQbml5dBsUzNx96S7pb1lj2kpFiovq4xmm5uJ+LPAuqXo4bkelz3kGK2AbHuKVwpMumvyWmwv9iOK7O/2fZeXD62lFGAdd3bEp2s/lckGTnDwHE6G1F1bV0QVxZaFM9FnbOnXfIrFZxdLedmPWM56a+uhw44O4ib8oBMVdFNnQDCW+fzl82iwvgGqrKgi93U55TJSMlPyJnFY1lMRp0Q0d3Pshr1Be5FgXtysB/bnEUdGSF1s990ukw2rPVaj/NLy6Ovc1xZ0zFyL5XSLdkOfHX1QZnoZEemWJfZQyCG03NZS2pyCln2R915iYQmZWKK7L/sFr8H+Qvd51h3roOSiklh5fiWirkUhKT1Jnr2+Ln2lzegSbnkXeF32Qvfd3VF6UWls9dkq6X3ifKTtRh4aKZMgtDrnB+udz3LvPb1looHvFZ5rX+987rmGfczRMXhqoBGgvZ/CyH0jcTL6JDps7ICnujyF58c9L6KX1nVdU6pQKBQKxeODW0VpJi5FXcdRr2yc8s3Jc9mlEL0QQpfdG9h+MBzfjt2ITgOWY9Zad+xzz8QRbzNmPH8dzkaMUpg6n8mB0+kfRKln4GXsPemD4HsRpfUtUepvROkWPPUvFaV3Ja2k3GuVPHzQAR06tEC7dl9iyaLp5v42Y6fDOowdPQifN/wEY0YNRGK8bd/RWTPHoWnjBhg04Gts27JSuGLZLHRs/xXatP4STrvXm3ShhsFynfTU+NuKUq7Z+nbft2JF+cOwP4irbu3VtVF0YVH8YcQf8NfRf0XbHW3F7c4SnBSyFK4ciJdeUFrcIXvu6inCIb81lW6Oww8Nx8fLPsZ7M97D02Ofxt/H/x3VV1RH442NxbJEKx8FLs+lsKVVpvDcwvI718RxjWLHTR3FBXD4weGyDtC6Dq1cHLhzoE8LVOm5pVF2QVlxD6Yr5+Jzi8XNcPjh4SJKOaClNZcunp12dELtpbVRc0VN1FpeSzj00FCEXQ3LGzTT0jP39FzUXF4TxeYXw9/H/R1/HftXlFlSBvXX1cdnqz4TgeDg6yDpHzVooaPQpsibcGwCghN/EIAE3ZZpLaRguW63Hy3FYc3VNdHbqTdCEs1b4T7AuqKg6LKry23FN9up4YaGUu8UWhTEJF3Ca66siS83fymikfXPiQj+zX7Btbn2btvsY5wYoGXe3oU050aOiFqKKoomXo+Ci99HHx0tln5792yKd062jHUdi69dvsauS7vkHAq9Cccn4GzM2YdmmaegauPQRp6H/O6pvF+KxnYO7cRKyn5qL+gJ1ikFJdOsvLBS+izdoJmeApKiluTkA9dvOvk44UL0BXkOCU4Y8V45scPr0SLdf19/EZaWNZWu0BdiL8Av3k+eGdbzt3u/lT7BtZwW2H947vtz3sfWi1vznjMKyVGHR4mrOPs6PR7oWXEi/IRYodk2XLebH2xftvOAAwMw+/RsdN3VFVNPTJXnKj8Wuy/GH0f+EX/8/o8Yc2AMXKNc0W1rN/yh7x/w5vQ35T2gUCgUCoXi8UJuzq2W0kuRuTjikYWTPmYsFpArotTDDD0vhNzATtcYDJy0HfXajEb1ZoPQ4fulmLfJ0wjSLBy6CLgYYepyzghSrik9nY6LITb3XY+Ay3A67oOgMBWlj4QUpQxsRAvoiWOOGDniOyMuZ+Jy9CXkZGciMzMN27auQaGP3kX9eh+bc/yNqAxFp46tUKTw+1i4YIZJk4osw4T4QPTo1s6kfQ+L5k9BWkoYMtPCEW+ucydRyoEkXecKzS6E58c/L2vF6FLZaGMjvDT5JXHx4/qzi3EXZcBLUNxRRH639zu029oOH8z8AB/O/hArzq/IGyhboIjiILvPrj6ou7ouXpnxCl6f8bpYbegC22VHF4w5NEasdxQVtOAsPbcUxRcUF0H86fJP8b3L9/hm1zfouLGjWJumn5ou6+IIWoE2XdwkZWRedIns6tAVXzt9LW6j9ZbVE6E65cQUGWBTkNKiM/LISPTf2x+DnQdj8P7BGLJvCAa6DJR8ppycIoNtpqUY4JpZiu4vN32Jt2e+jf9M+w8+3/i5uFf23tkbg/YOkjWxN6vnkYLChFawskvKiuX2XkFRSis1XTnzC9m7ge6/nKigZe12lmpOADRc1xAfzvoQnXd0xvd7v8fXjl+LGy9FCa2AV81zzSA1o4+MRqF5hWTd4O3WIFM0Wf3NAsWUe4w7Rh4eKX2vl1MvEaRsq/xpCYpOupTTAkeBx3N4LoXjw1pfTFCw0VJJCyyvZw/exyqPVSg0v5AIT3uPAwssO+uCEx2DDw7GodBDYgGmqy2fkX5O/fCNyzfiqjzr+CypA2uCiOD59n9HpUSJ+Ka7K4MDWXVjn47ikxMUfN6ZxgIFM70l3p39rvR7S5RysogilM953ZV1xaui9OLS2OG3Q+qZeRfkBs125+QN658TFJy4aLW91Y/cx9kPZpyagTdnvIkGKxtg1KFRmHN2jjyXtRbVQtH5RbHFd8vN1AqFQqFQKB4X2IvS9Iws+IXn4OD5TNn25eylXHiHAR6hwK6jkRgybRc+6zAelRv1R4XP+qF2i6HoPGgF5m/2hjOFqQ+w98IN7DGidI9YSnMQn5SN85cuw/GYEaWhN0VprorSh06r7AxuFOh/Wu4zKuIijrkewB5HB0ydMhrNmtTH6FEDZL1o0pVAfPnl53j3nTexauUi6Qw2XMWA/r1QuJARq/Mmi/X1XkQpLYK0ZtJqQvdLCki6ANKiQ1fJ5luaiyUkLTvt5hm2gTbFI61xdPfr7dgbH839SNY45rcCccDKQfsl044M6PLpuk9Rd01dCfjCCK500Q1KCBKrGge2HAQz/aTjk/D3sX/Hf8b+B4NcBolrLqN4MngR3X/pvkpQLIsgWFcPm7w3wT/eX8g1qlw/+Pb4t2UN3iy3WZI/XVy77O6CckvKSTAaui6u8VyDNR5rsNx9OTps7yAie6LrRBG8FC900WSeXDtL91SKO7qB8tq+sb64ZPqh/XrJRwlLlFZYWkEEgQWWk/XJiKqMdMpItYyUyvslGNmW1rfOuzqLO/L9gJa+mqtqiiWPfaMg0CLHoD3PjXsOJeaXEEs4gxI1Wt9IBBZdPdlv2I8oSovML4K1XmuRdf3+gluJ0Iw4KW3w2YbPpB8VFETJAkWwlG19A4ksTYvewwyoRdCdmhGr2a8ZUMlenPGeaf0svKCwiDqrPfKDEwx0paXbMvOj9ZWTRezr5ReXl89Kiyqh6bqmcpyW4dsJelr6Kdh5Dt3ZCxLgnGyhcC0+vziG7R8mVuf9AfslGjbXkdPyy/5jnRubZhOlr0x5Ba9MfAW/G/o7vDL9FSm3JVwLAoUt3av5fmG7fbnlS3le8/dB1sv4o+Ol3/A5ZBn4rE0+MVkmlBgEa9mFZTdTKxQKhUKheFyQ31LqG5aD/ecycNw7B15GjHqFXjeCMgqDp+7EJ61HoWrTAWjcZQq+7DkDtZoPRjXzd6eByzFvqy+cL2TjsBlqOp835xhR6hWUjTiKUv/L2O2qovSRktZS8lpSEHCDUSWTcPzobnTr0hq1alZCo4Z1MXvmWPhePCYBjOJifNGjRweUKV0MM6aPR0x0iGEw/H1OoWvn1ihbpgRWLJuN9JQwZKSG3VWUivtrdqq4rdLdj+v1aM05FXkKDTY0QJsdbRBvzr/TVi8cJFdYVkEisuYXpfagNZSDdwrdgtz37EGBSWvaV5u+kq0uCIpKRpulFYeilXCPdhf3XFry8q+VpEWMQXSKzimKiccn5onpppub4m9j/ybRf5tvbY6W21viq21fSbkKzymMZ8c9K6KUW2HYgyKALqyfrf/sntZlPgpQlFJYcr2vvcswxRotck3WNkGVuVVQa0kt9HLsBf8Em2XTEqUsv70goKCgUKSws6xo+XEvopSWYk5iMKIrI6ZyXeSyc8sw+dhksSgzcA/XWvJ6DDpVbEExmQh4kO096AbM9ZsUmpZ76u3A/s0JClrrGKAngIHCHjLYJpYopcU4vyhd7bkaxRYWk/u+3VY8nOSgKGUAMOvZ4GQQ65EijcJ2xbkVEhSs065OYnmki3NBoBsvraAUpVzzXZAo5TPPSZuXJr2EQjMLybNffXF1eSboLcAJGHo58JkjuIZ8xOERsk6V0Yw/X/+59Ce68dqvD80PeiXweWHfYXtToLL/MriRPTipw/r5ZPUnEm2ZFvBmW5phwbkFsh1VjVU15NlXKBQKhULxeCG/KPUxonTfuUwc887FWf9M7DgUgoGTt+OTViNR/rNv8FnHCRgz/wCmrTyJdt8tQKWG/VDji0HowDWmm7yw+0wqnNxz4eiWCc/gbMSqKP15yXtISTb3nh4Jt5N7MXzoN2jb5ku0bf0lxo4eCNfDO5Fi7pV1sW3LCvTp3dkI17YYOrgfhg35Bt/27YaihT9E8aKFsHb1AtMxIu5JlDLYCgfNFZZUwL8n/VusT3QhZOAYruNilE+6P3LdmzVAzQ9aUBiYZdG5W7eSyA9uDcJ1oo03Nb4lGE5+UGBx2wtaMzkgtYQL9zik1Y1ugxTABLeroKsxLaUMJpMf3N6i8srK4jpJYc01eoxOSovPp6s+FZdUDvJpfWSAHW6twcE6xU7+wTZdnbntyCdrPsHR0KO3rY9HCVrRWOZyi8tJACoLXHPJIDt1V9TFHwb9AS+NfwmD9g8SwURQlHLrj267u4ll2gKt5NzShcFobmftZZCnWqtqyXVpjS0IzgHOqLuurkQDthfzdK2lGyndNi2Xa1pKP5r3kQiu+7Va0n2YaxIlMq0R2PxOq+HtwN+mnpwqLuk9HXtiyvEpPwpm9VPB/Xlp/aMoZ7+x7xdiKfVYKe67vO/b1TG9CCjUuUaW7re3A/dvpaW/6IKisk9oQaCA/Nr5a1ReXlmCdxU02cAJFkbPfWP6G7KWmoGKys4viz+P+rNYWfOD/Y7pa6+pLWs7uW8t14BS8BfktmuBrt/cjuijWR+hweoG4p7Ltss/4UPLLddIs6/Q+sr+uslnk1jCuYaaW1UxWrNCoVAoFIrHCwWJ0oMeuTh0IQsbnQPQf/xm1PlqOMo36IuGHSZg2Iw92HUiHgcupGDGmlP4qs8sVG30Hao3HYB2/Zdg2ppz2HLsKpzOZcMzNFdF6c9Fy1LKKLzpKaFIuxoie5NejvZGTNRFrF45FzWrV5btYcKC3ZGbFYPsjCgcOrBdAhuVKFYIZUqXQPlypfHM3/6K99/7L9atWYhMI27T70GUcrDJtZcvTngR/zP0f/Da9NdQcVlFsYj8ZdRf8P+G/T+xmNItsSCLC2G51C4/v/yO7pgUjXTJI+mieycscV8iQnfFhRV57pkUvLSWMBIsfycuxFwQKxiFIvehtAfFArcDKbWwlKwTJWgFpoilZUj2RjXlpfi0SEve7QbZVsRSig+6Iv4S4No+WpQ+W/cZZp2aJZMK9qDQY0Amin+uHbUEyf6Q/WLt7LWnV55QJRjwh2KSlrfbrhcNO4Y6q+vYXH8TC3b9pXig5bK9Q/tbXFQp0ig0aC2zou/S6se0DFqU3/JKQccJEJbFfn0yj/PaXE/MtZa7/HZhrcdaEVBsW/bj/KB7OQUpRRAtkTv9d8qa5JmnZoq4fliTCnmBjtb9ONAR658Ci4GpLBfW/O6utIxSLLNNZ5ycIcIzPCkcbhFuP3JzZWAyEaXzby9K6W5ON2BaMjkRVBA4GcDy0OIsEXpNP6LrbpONTWRyJv+6VT6vww4Nkzy55tUC65AWVa4Rtba0sUChuePSDnGJLzOnDErMLiF7kfJ9w71V7d2uaa2nm275ZeVlz19ORPF9w7w58UBPDLahQqFQKBSKxwu3iNKMTPiEG0HqeQN7z2Zg5uqT+Kr3TFRp/D3qtx0jLry7XGPhZoY3Z83Qzdn9GiYsc0XT7tNQvdlA1G83Dv2nOWLNgVg4uXOP0xuITcwyojTGiNKLKkp/HlKccgsXP5srL5INM7DDYR2KG+HZ6PNPEXTJDdezGeHyCq5c9sPBfVuxetVcbFy3CIsXTkONahVRvGhhEbL3aimluy2tflz7998Z/xXRwg32abUoOq+obKfCv2NSY/IG8fy0/uMAm259pRaXku0eOBC10uR93hz7UwRSjFCgWAKI1kvSXghysErhQMsRP63BLkUhI3haxwkKHQowCiv7ATgtUryH/47/L94c/6YEUWFZKQAY+ZXluHD5ws3Ut4eUy/zPATq366CbJsUdRZhlSc1f/kcJ3gPXslK8fLXlK1nHy6A1Fii8WD6KL3tXau49y8kGCg57ayeFTZEFRST4DNcHW+D9WJMQtLZRjNCaZm27kt/6RjdNWlObb25+y/6cdP2V41ua551L6+xaz7ViXaT1kGtyCdYjBSlFC9037cUzrZsMwPPFli/ExZx9gkJq4dmFMsnBNYj216Wb7oB9A/DF5i/Eose+w3XLFDZsfwa54jYnDwzpFrbAQRSRLANdyGkZpKXfHrw23WjpfUALJrcrskAByUkd1i0ndRgdl5MA3bd3FxFnTRZY/YttTwsx21KCaxUA1hvbn8GwaMHOL4IJ1h+tx7SmWuKW/Zl5MkgYha+9gOY9fufynWwJw31RLbBO6bVA4W8fHZeil21Dz4JxR8bB0dcRu3x3YYfvDmlH1gUDH1nClBMZjO5bfGFxmVix6pDuzvRy4HFOSP1cz5lCoVAoFIp7gyVKM83YOz0zC96hOXA5l40DF3KwwzUaI2btQYves/Dt+K3YfiQapy/dgFsAcMLwmBGn204lYviCQ2jeeza6Dl+P+TsCsPVUGna6Zcsep7GJtJSqKH2ktEXfDZbou24nnTFl8ghs27JcLJwWdu3YgCJFPkCD+nUkEFJOZpQRplxzRgsZB3TZuBJ3CQsXmIFty6YYMqif5GWL6su9SilKC96nlINqWt4YIZPbQHBwzAEz15PRZY7r27hmLCX71nWijErLNHTrZWTQEgtKyFYvtJb23dUXs0/OzlvvRmFEETFi/wg0Xt8YL055ES9OflHcZYcdHCbnc50cBSJFECO00p2YFpU/DvsjKi6uKPsi0iVxu892VFlSBX8c+kf5nW6ntLRxMM8N//s49sFA54ESDXfIgSHo59IPVRdUxYvDXkTl+ZXF6sp8uK8ot8HhtQe7DMaQ/UMw5KCh+WTUWN4X91+k4KDLsKO/I4buHyquvbQkPzvpWTTZ3ESEzSDnQRI9mNGILSH+c4DCkuteaZn81uVbiRzMsjDoFC1gDIIkrrGmSBTrLTa3EMv3WzPfEkHAiLh0x6R1jlvcdHDocItVji6ktEYP3jcYTdY3wTMTnsHr01+XNbqjDo6SOrEEAq2hPP7MmGfwyrRXJMIv23bA3gHos6ePiJzVF1aLALNACxj3qqX1tefOnhi0ZxAGOA2QSREeW3p+qQgSiiIGueq2qxueGf4Mnh/zvJSdIons79wfz4x4Bv8c+U8M3DdQBJzvFV984/QNnhn5DJ4Z9YxEb2bwH4pWRt99bsxzeGbYMxKlmWuDH0TocNJjp99OiQ7LuuN9PzfpOTTZ0ETaYZ3HulvccCm+KMS7OnZF151dMdBpoPRV9sEOOzvIJAufRd4vRdlbU97CC+NfkOeE7cR+OmDPAHy9+2sRgExvL9oJ9j9aLCccnYA3p76Jp0c8jaabmsoEir3VmfVAC/Kb097En0f8GV9u+FKiM1MIUpg6BThJH2Fb8DgtzgvcFuCjmR/hT6P+JK7y3PeX2yx139Udb019C69OfVX2ESUoMClI35v+Hv404E9otKaRrFHnhBVdzkvMLYE/DvgjPln5iYhmPpNcD11kbhF55uusqiPH6enAdagl55WU49WXV5d3FffJVSgUCoVC8XiAojTDEqUZWfAMzsGuU5nYf+E6Tl26DofD0Zi99hzW7AkyfwOnKUZ9ruPwxVwcMX8fMFx3NA4TV5/BXCNId5zPgYN7LradzMDZwBxcFvddFaWPlBSlDEiUagbMh/ZvQ5s2X6Bzp1ZYv3Yh9u7dDWfnbRg3Zgg+/bQmhg7ph5hIL7F+el44DGfH9XBx2YH9+/dg2ZJZaNv2S4wc0R8XvY6Z/EKQFB9g6uwiEsx1bidKKbroUkvXV66z5DpPCoGJxybKGq7ZbrN/ZPUh6GpHawmDlhSfVxwlF5SUfU0pTsvPKy/BiQ6HHpa0HLxzAFt1UVUZXNLiQXK9aMWlFVF8bnG02NTCZnk012IwHFpeaaUtNKMQSs8rLfuEXoy/iPmn58sepIWmF0LRuUVFYHBAyzLTQth8Y3OxLpWaVwqNNjQSQc29Fr9a/RVKTi8pIlIsvkaE7L60G803NUf5+eVF4NI9kEF6GDmWUVo5+KXljq6ZdJOtuqSq/FZyoe0eaIUqv8ScO68c6q2qh3Xe635WUcq2o8sqJw+qLKsi9VRmbhl03dFV6tKykl6/fl1ETs1lNVFkVhHZaodu0ZxAkPqfX1z2mp15cuYtopEWSwr9MgvKCBmohy7dZeaVQfUl1THr9Kw8aynXAHIbD7YX64b5V1xi8jZ9o+WWlmIRYz/IL/5iU2JlHXLD1Q1RemZpqUta7DnZQIHG+qSwZts2XNsQ7056F0VmFBEhTldtupR3ceiCDyZ/gEJTC8mWPTxGayX71AdTPsCHUz9Ex+0dJQARz+Ga16Izi+K9Ce+h8ZrGkrd1H/cDCs5px6ehyuIqKDm/pPQL1g/7eOWFlTFwr00g24MWU7qmtt7cWtxZWZe1VtaSYD7R16IlDSdm6E5Ly+mYI2PEwk2BWHFBRZSYWQINVjXA/LPzxdqcvz5ZX9wXtMvOLvhwxof4aMZH0s5c00qLpgWus+U6am4DxfqpuaSmTEBYbtd8vikKOTnAIEvc5mbkgZEoMaeE7B9cZnEZif7Md0TphaXx0fSP8Pnaz/PcehnEiJMRrOcPxn+A+ivqS5tyf2FOfPG+P5jwAaotqibbSHECixNBLA/7EKM2L3NfBq84L0xynYRSc0vJcb5nGOCMExoKhUKhUCgeD9iL0gwjSj2MKHU4kQmnszlGfN7AcSNAj3hkwtU7G8f9AFdz7Ih3Dg4a7r94Hft8b8D54g0jRjOw40I2dnoAW9xysPl4mhGlWSpKfw5SlCYnBIi1NCTwLDZuWIwunVqjds0qqGVYu1YVNGvaADOmjRYhmpEaLmtP6arbsMEnqFKpHGrWqIT69WpjxPD+OHt2v0TozUwzQu2yqc8ob6mbO4lSuu7SJY/RMekGSpdI7udIl05aIAsCrTm0UHJLj0VnFmG953oZbNOqsezsMhGCIckhkpYWGroELj+3HCvdV8rgdIvPFrFa0h1vkdsiSW+tf6SYoqigkNrkuUksTrSU0e2WVq0NHhvkOC1vDMCTmmULrMS1olxnuOD0Aix0WyhbUVCspuWk4UToCaw9txb7AvflBWJi0CKmZ3m5vQy3m+BAeNHZRXIfvD+WhwN0WoVXuJvynluKzRdt5Wf5WP4lZ5ZIGS3X1J8bXGfJNZqL3RYLDwYdvGVNJ0Upg9Fs8tqELV5bREBSpNASyfulKKAFmm6jtIBboIikmGT7MsAMrdXcD5YRYEkKvOvmP4L3vs17GzZ5bLKlYduauqJ1jRZV+/LkR0hiCBwuOmDRqUVYemapRBS2Fx3saxR3Dj4OUs8bPDeIFZiWz6CkIDhdcsKGCxuw2XOzHGe/Y1/a7bfbVh5DRz9HOUbLIgUf62LD+Q3Y6bNT7vtBRCmflZPhJ6Uu7PsF+wmP7Q/cL/0vP7i1yt6AvdJWS9xM3/FcJ/digWWhJZP1S+HJ/s01qeynC0+Zfm3aML/YtUBRyrWfrJM159fYnh+vdbgQe+GW9Zt8ljgpwzW5fJ42e22WNaT21lRel8GvuGab5TsWesyW1twnt1Bi37f60MYLGyVCttVuDCbGMm/03Cht4+DtIPlzooHPLN8XGz02YqvXVnG/Z3nossxnmmVe77FePCd4nJNmcl3TvnwuGWCJz6RCoVAoFIrHA5YozbopSs8H5mDrsUzsOpWN/eevizA9fQlGkN7AIS+uNzU0gvSAoYv528nQmfuTGsHq6HUD287mYuPJLGx0TcOZS0aUJuia0p+FFKaJ5h4zUiOMaAzBpvWL0b5dczRu9Cm+aPYZhg35Fp7nD5nKj0d2RqSpB1+sWT0PnY14bdTwUxGt3/fvCfezB5CTfVksr1yXynzjaSm9gyjlIJaDdVoC6VpIwUZywMqgI3S5ux04eKarHy1ZFA608PCTx2jxtAb6vEbecUNrDal1Lpk/PX+XPK1PkzetQtY1rOOkPfi3fZ4WeK6Vnvlb4N/25cg71xzLXx6r/DxH/jb5F5T+5wbLZ38PLFt+5K+3W8puvvP4j6xuN+vMPo1VXyTztPCj/O3Kw7/vBKt/3Ck965bH7clj9seta9sf57F7Of4gyN8vrDytv5l3/jq1wHTW/dr3UwvMm/9ZsE9/p3wJ6x6t+5RPu7Yi7J8H+zT21yT4G48zz7x05jN/3+dx+3pkPj/K33wWVDYeY3ns08kny1PQcfOZv5wKhUKhUCh+OdiLUrrvngvIxuaj6dh+PBsu7tdxwCMXBz0YkTfHiNRcwxzsM99dzPE9F3Kx2xzbdSEHO91zsP2sEbRuOdh4PAsbjqbCzTfrh0BHR1WUPlJSPPKT6z/TroWKi66P1zF4GCHqdeGwBDeiaE25GipWUqYPCTonbroe5w+LBTXA/5TUBd12E+P98/K8myglOKikJYvrvawBKK0ktJTdbnN+hUKhUCgUCoVCobACHWUZPZGVnS2BjhyOpWGrazp2ncrCHrcsOLll3kLHM5nYfSYLO9yysf10NraezsSWkxnYdCITG45nYp0RtZuPpcIjKBsJ13LgERCLXUd1S5ifhZaQpDC9kRMLXI8zrRwn7ri8/3hz/7ekYbCj6/F5aShq42Ns28vk5XkPolTxy4GTAHSr5CQAXRLTTBsVSPMb0zCtvUVK8dPAuqS1j3UrbVBQ3ZM324burbTWqaVOoVAoFAqFwgaK0jQjStPSEowozUJ0Qi5OXUyHi1sqnE+nYd+ZNOw/m34L951Ng4v5dDqTgT0iUDMMjYh1S4fDyTQ4nEjFIY80hMfl4mp6LjwDY7HvlC9Cw0NUlP5c5L3QMmqxoHujey4tondKQ6oofXxBYcNIqVybxwi3Iw+NlMBNBfLgSAzaN0jW+HJbGsXDgQTI8tuJ0QdHY9iBYQXXPWnahtGXGaTHPdq9QJdbhUKhUCgUit8iblzPEVEae+UyouKvIuFaNq4k5yI0OhtBkVkIico233NsjLExJCYbwebvIGEuAoU5wksR2QiMzEaMEbdXruUiKCYVZ/2i4OkXgNi4cBGlOTTYqCj99VBF6eMLWukYQInbzBSeUxhlFpaRiL4FkdFvC80pJPtTMvDMndYUKu4dDHw07ug4VFhgi7pcUN0LF5ZFsbnFJCozAyVl6vOjUCgUCoVCYcONXKSnJSMsOgpewbEINiIyNikL0VcyEBGXjvDYdIQZhl5OM7R9htyJMWkIM5/hcRnwDU/FCZ8EXLgUhbi4MKMNI40gTTW6JlVF6a+JKkofX9BSym1AGCl12bllEnmUEX0L5PnVEuGV23RYW6Uofjq4TQqjuzJSLSNDF1j3pGkbRtVlZGFulcNgOwqFQqFQKBQKm6WUojTuymUER8XjfMAVHLoQC0e3KDgcj8SWoxHYeDgM6w6GYs1B83kgBGsPhN6W60269SbdpiMRcD4biwtBSYiOu2J0TIQRohHIyUpRUfpro4rSxxsUN9aaUivycYG8ueaRabkOVfFwkH9NaYF1b9H8zrWlXFOqUCgUCoVCobDheq5NlF5NjkVC4hX4h8Xh6IUIuJwOw+6TodhxLATbXIOx9WgwNh8JMZ9kqGFYHre5/kCHY+GGEdh9Kgpu/omIS0pDenoykpMijO6LMJpGRemvjipKFQqFQqFQKBQKxaPC9dxcpKUaUZp02Wi3eCQZYRobG4doMi7efNoYFZ9gmIjoK0mGyYbXDFMMUxGd8ANjEtIM03E5KQNX07KRk5ONzIxkJCZEmGuoKP1VUkWpQqFQKBQKhUKheFSwRGlSYozRGnHITElATnoirmclAzlXbcxNAW6kmdTcbjLDkFqE3mf0AOTOEva0lqnZPm/csAVSeqii9GkjSv+qovRno4pShUKhUCgUCoVC8ahgL0qvJsUZsXjF6I0EpKYkGg2SZGNaMjLSryEzwwjKTAYqSkN2dgZysjONLsnK4/XcLNzgLgdGiAqNSL1u/n4wUepnROlmI0pnqij9pXm/ojQ9Jx0R1yIQkxIja+2IxPREiVLKoDAa9VWhUCgUCoVCoVBYuJMoTTOCVGhEaboRpRlGlGYZUZpldEmWEaXZRpTmGDFqMdfoD4pQWkdJFaWPCbkHadKVACG/2//GvUp5/9bvBaW5X1HqFeeFoQeHYuqJqYi4GiHHtvpsRV+XvjgQfEC3wlA8XtA5EoVCoVAoFIpfFCpKn2BRGn/ZVz7TU8KB3DjTHleQkRohx1gPZHJCAHIzo03tXrHxBtOE56W5Eut736L0SNgRlFxUEnXW1IFXrJcc4z6Or057FXPd5iLFdILbgVuVbPbajOmHpmON+xqEJoXe/OWnI8AI7sVuizHUZSiG7x+OaSemweOyx81fbwUjqrpHu2PJuSU4GXFSrL9PMs7HnMf4o+Mx/MBwjDw0EuMPj8dSt6U4G3U2L1Kva7grZpyYgRmuMzD96HSsPL8SQYlB8tvtQGs5t0MZemAoxh8Zj9mnZ2PGyRkYc3AMxh4ai71Be/Ms5ycjT2L+qfmYfmy6Lc3RMVKWwfsGY7n7csnrdvCJ98GC0wswfN9wjDo0CuMOj5M8joYfFWs9o926x7hjodtCTD4yGVNcp2DhmYXwv+IvfXSV+ypMOTwFM4/NxKKzi+Ab74uLcRdlm52ZrjPlfvmdaf2u+GHhuYVSzilHpmDxmcU4F31O+sz9IjEjUbbzYV2w3CzzLLdZGHNkjNTRRq+NBd531LUorD2/FsP3Dpe+PPX4VClzQWC9jj4yGsP2m3eeSet8yRlXMq7A94ov9gTsycs/JjUG2322S/uyLCzD9JPTpc0muE7AyMMjMfbgWNn6xjvOG+FXw7HWcy0muU7CrBOzMPH4RIw6PAoj9o/AZNfJOB11WvK1EJIcgg2eGzD16FTMPDlT0o88MhIjDo+Q86a7Tsf2i9sReS3y5hk/gJ4XGy5swJSDUySPgtLwPjZ6b8S4I+OkPAvPLpR2uZx6Ga5hrtI/Zh6fiQlHJ8DxkiNSMm//HrpXcGufnX474RFT8HtEoVAoFArFvUFF6RMoSilGydRrYUgzgjTQ3w3HjuzC8aOOCPA7nSdGM9IiTb0EwP3MATjv2QAnxw3Y57IFl3yNCDPCNO1aqOQXF+19z6KUgpMDw6abm4q1lANRDqA5KG60sREc/B3uKPA4MB7gMgDvjXsPpeaWgoOfw81ffhpYhhUXVqDN5jaovbg26iyvg1bbWonl9nY4HnEc37h8I1Zeuh0/ieD2MBSkQw8NRYUlFVBmQRmUX1web0x5A69NfA0D9g0AtzIh1nqtRYXFFfDimBfxxoQ30GZrG5yLOSe/3Q7+Cf7otaeX5Ft4TmG8Mu0VvDHjDRSbVQzVl1THzFMz88TcxosbUWtZLbw47kW8Pv11lFpcChWXVETxucXRdENTrPdej9Dk0DyXcAt+8X4Yf2y8tGnZeWVRdlFZfDTrIzw75ll02dlF+lS2eRHturQLdVbUwV+H/RX/HvdvtN7eGm5RbjgRcQIdtnbA8yOfx7OjnkXD9Q1FgB8NO4pG6xrhHyP/gRfGvIC2W9vKBMWZqDNo49AG/x7/b/xl6F/wyYpPsNN/5wOJUoorCsrKiypL/bwx/Q28Ov1VfDD7A1ScXxED9g6QOrQHJ2ooipusa4LSs0uj9JzSqLKsCsa5jhNxbpUjOTNZJl0o+souLouSc0ui9NzS6OfUDwvcFsg911pVC26RbpL+QMgBlFtcDi+PexlF5xVFmSVl8Past/HK1FdQdH5RlF9aHq9Neg3vT39f6vts9Fn0de6LV6a8gpcmvYSP5n+EMovLoNy8cqiypIpMKlC0cRscwjPOEz139sRbk9/CC5NewEfzPkK1ldXw8ZqPUXphablu2YVlsfvSbklvj0uJlzDQaSD+O+6/KD6/uEx85ccl8x7n8/rG1Dfw4sgX8dqE1zDt+DScjDqJAc4D8OqoV/H86OfxwZwPMPn4ZFxJ40Tc/YP9yS3CDU7+Tui3px9qrqyJpe5Lb/6qUCgUCoXiQaCi9AkVpVcMM9OjEHfZH8uXzESTxvVRp051zJszETFR3sjOiDINEYszbvvR/7teqFmjEqpXrYg6H1fHnFnjTR16I8ucn2hEa5ypz7uJUlrTOAhe77kenXZ2kgEpB/UcwFOQdt3dFZsvbhbriv3gnedxvSktpLEpsWLV2Om7E/VX1Mcb097A/LPzb6a0geIiKSNJ0selxuUxPftWocu9O69lXZOBZ4AR4GNdx6LTrk4YcXCEWOPmnZqHVRdW3TLgv2H+y8zNlPIwT1rEdvnvgnestxy3B++B+SekJSDN1IkFilfex52swfnLH58aLwN3Xv/nBAXpqchT+G7vd1I3tF7NPz0fC84sQIvNLfDK5FfQ1qGtlJegdayXYy88P+55FJtTDHNPz5X2uhPi0+Kxw2+HWCW77+qOl6a+hMLzCmPQ3kFYdnYZjoUf42tC0tLtm4P8lye9jI/mfoQJxyZgmfsyOZeWOwpBHuPaZILWz5CkEAw/NBwdd3bE6IOjxRo2x20O+rv0x5uT3xThRmHEumV70vL6+qTXRRjRKsnysy1oFfzPxP/g9cmviwWdljkKRlrVXp38Kv4z6T9igWN/4j1RTL825TU5hxZIWlwfBOwvR0OPSrlHHhwpgomilPU878Q8sWrGpcVJWj4rvDatl+13tBcLMtPMPTFXysw64EQQxRnb9lDoIZkQ6La7G+a5zcPC0wux6PQizDw9E602tMLLI19GoTmF5Bkltvttxzuz35EJBFoup5ycgrJLyoqA7O3UGwvOLkDzTc3x5rQ30WNPDwQmBoqALLWwFJ6f+LyUadbpWVhwagGmHJuCXk690H9ff5n0YP3Hp8dj+bnlqLCoAp6d+Cy6OXaTiQ5ONkw8NhFlF5TFO7PewWrP1VIee/DdstFjI6otqobXpr+GDRc3yDNpvz6dbbPDfwc+W/sZnur7FJ7q+RSG7R2GQxGH0G59OzzV+Sn876D/Rfud7cVyav/c3g/2Be9DZ4fOqLmopghp9te5Z+be/FWhUCgUCsWDQEXpEyhKuSY05WoIggLOYP3ahfi6TxdUqFAaz/7zH+jQrgUuR11EblYMTp90wdjRg9Dyq6Zo2qQBmjSqh88bfoLOHVuKkPX3OSn1khRvq5c7idIr6VewzmudWFr+PfHfYoWkNaKHYw+8OtVm+eHAzRIUFigYOJAdcWAEhu0bhm0Xt4nQmHt2LiqvqIzZbrNvprTBJ85HxAzdHelSOOHIBBELB4MPikixkJCeIANUpvl6z9d4c+abeH/u++jt3FvEFN34lp5beovLIwf9dNmkCBp5YCSmH5+ODd4bEJQUlOfCaoHWQw7Ixx8aj43uGxGVEiUCZ935dRi6d6gM8PNb9AgKDFpsRx8aLYKHZac76S6/XQ9suXkQ0FrNSYPhB4ejvUN7ccNMy04TMUPSgjjlxBQpqzV4p9CnSK+6vKpMMvhe8b2rdZC/sx6Yp3OgM2qsqiHXowWPxzjJYIH57/bfjU/XfipWzODE4LzyuAS6iKWOv9GtmrgYe9Em0Ex+7FvsN0zLe6NlfNapWZjvNl++E8yfllaKso47Oop7J3/jsemnpqPdjnaYcWoGolOipdwk85x2clreb5FXI8VNlC6+HXZ2wNSTU0Wc5e8f9wqKquzcbGSYFypF8Fdbv0LdtXVxPPy4TLSw7qw6DksKk/YQAX5ktNQh05CcBFl+YTk67OgggplCk9bUIguKoOeentK2Vlq224yjM9B+XXuMPTw2r37o6jr26Fhs8t4kkyXsz7SEVlpWSYQz6/V05GlMOj4JqzxWyd8Uhl87f43KyyuLGyufC7YB6/Dbvd+KhdXB10GeTd4r23TQ/kGovrI69gXtk0kqTozQwrvBawPGu47HifATUh57cOKA+QzcP1Dun5NMtGbbT/6wnlgeTmT9z9D/wVN9nsKY/WNw6vIpdNrYCU91ewqvTHoFjoGO0u8edBLocOhh9Hbsjc9Wfob3pr6H92a9h8Xui2/+qlAoFAqF4kGgovQJEqU2t10/uZcb1xOxe+da1Pu0Fjp2+AojR3yHyhXLomWLpnKfadfCMHhQX1SpXA6TJgyHj48bfC6ewanjTiJKa9WoLIKW6dJSQhFv8k9Pjb+tKKVwo+D725i/4f8N/X94d/a7qLi0It6f8z5+P/z3+NOoP+HLLV/iVNQpGQxykMrBPIUBB6hFZhdB4VmF0W5bOxmc0mpUbUU1GVhboPVq8fnFaL6hOaovri5uczWX1US1ZdUw5OAQcSdMzki2pb0agWGHh6HEghL4YNYH+OOYP+JvE/6GEotKoNbKWqixpIZYfTgwtsCB6t7Avfhy45coNKMQ3p3+rgihTT6bZDBvD4reccfG4e2pb6PcrHKYcWyGiPLWG1vjg+kfoOOujiIsLCsjBRFFB4Vyy20txb2x9oraqL6sOuosrSPCeX/wflzLvPbAg+X7QfS1aHHNpfsmRbhVTnskZSb96PihkEOotbqWWM7Ck8NvHr03sD64zrjrrq4INn20IFAof77hc3y27jMcCj4kkxa0QnJyoOmmpujn3E/6DQXIvNPzUHVFVRGmFDf5wbJT6FP02YMTKBR33fd0l/WuXOfcx7kPFrkvkrWW+UF3zaXnl6KnU08RPCsvrJTJlpUeK0V8PSwkZCSIZfqz9Z/J+ld78H63+25H7dW18f3+78WqnF8Is09y/We9tfVESK/xWIMvt34p1lKueaSIp7X7dMRpuAa7wiPaQ8SnNZlD4cpJk7Qc2yQE17v239tfnsPjYcflGMvB+uO1CIrAb/Z+g49Xf4yjIUflGEHB+v2+7/HurHex2Xtz3jUup1wW4cs8Z52cJZbrDg4dZFKJ/Y2WYMtd3B78vcuuLvhu33eyPIDPEEVv2NVbJ7n47Cw6twjPjHtGXK45+eMU7ITeO3rjX0P/hfdmvgfnIOebqR8MfMfQ+4IuvN86f4syi8pIvSsUCoVCoXhwqCh9QkSptY6UVlIGM8KNRCxdMgPFihVCzx4dsHbVPHzZ7DO0b9tC0vB+27Ztjo8+fBerV9L1zCaEcjKj0cukf/+9tzFv7iRZk5qZFn5XUUoBsCdwD+qurou3pr8lLrzzz8zH4AODUWhuIXHxW3xusYhFDhxp8aSLYKcdncSiuvTMUiw5s0RcKjtu74hik4uJSF3nvU7yp7igFaXz7s4Yc3gMlrgtEWvVIrdFsj6u957eInYYwISWGrrWco3c4rOLxWWXFqPii4rLoHbJ2SXiLinuu0bwWOCAm4NNDqJnHJ+Bhmsb4sUpL0r5OEC3B6/BADKttrTCsyOeRaGJhdDFoQtmnpgpLpKDDgxCl91dsMN3hwzcaV2jW6lYecygnOVadGaRfM47OQ/fuXwn7o/rvdY/sNXtfsB1iW23t5U1gKwze1BA24PlsdwkabGkEKRACDTP0/2Agrbmqppo59DutkF5uI63wdoGeHnCy6ixogYab2iMT1d9ipZbWoqFk4GXWJ+cJBh2cBg+mPuBTGLYu3HeC9gPad1qva01Wm5tKUKGVtHbgRZ+pqcYoheA1ZcfJmixbb61OT5Z84m4NdvfE/vmsgvL5H65dpT9uyBs89mGkgtLiks2Lalce9lvbz8RqvVX10eDdQ1Qf1V99N3VF4fDDt88q2Dwnjn5QEupS4BLgf2SzwUtsVWWVxFLpjV5Q/FJUVp6UWmxoOaJ0lSbKKVr/vsz3sffx/wd78x8R565O4G/cwKFLsGHQw7j842fyyQXn1d70B2arsBF5hdBH8c+GHFoBIYcGiLitP3W9lKeNZ5rbqb+6aAY5cQV3acVCoVCoVA8OFSUPiGilPfF7V0oILPTo3D86G706dMJHdq3xJrVS7F2zULU+bga2rdrgSRTF3Tv7WHEZ6mSRbF08XSjSRl5N0HyoYgtVaIIli2eYURpmBG5YXcVpRYo4Bi8hFE9CbrrcQBJgZZ1/Qd3VkYcrbHSiI6NjW+JLkpLCV1yi0wuIoNWrh0jKKJojSkyp4gEaqGIoOgVus1HpSWV8OKkF8XllNZGe3Bw3XhTY7Ea0Zp6r6CLIoPtTD4xWdbDFYRtftvw/sz38eHEDzHu0Li8dHSBLDy/sEQs5UCZUWopxhjI5munr0XUzDszT+6DrqOfr/kcz45/Vlwh84vCRwFaObvv7o7KyyqLBc4Cr02LJicJFp5YiIWnFmKd57q8NnrUopRirP7a+nh10qv4ZPUnaLGlhQQbarutrbjKMigRhQ/dXSnOGOWZlkta+e4XvKdqy6uJUKP76N3ANqy/rr70b1qaHzbYT1tsbYG6a+oWKEq5/pL9cfTR0eLOWhAo0DnRQGuqtRZ1i+8WfLH5C6nHphubyjrb5uubi2ikOzYtnwWB1mdLlNKDoCBRSnHMiR66sLbe0hoTXSfKem1GaaarLdfq0jrL8hOWKH1z+pvyLL8w4QVZR8v15gW5u1ug4G24oSG+3fetiGnWEydx8kd/prWZrr20yPMcTg7VW1dPXK85qUD3cUZyfhjge4YCuNyScmKtVygUCoVC8eBQUfqEiFIK0quJgXIvF9wPYuD3fdC+/Zdwcd5mGjMJjrs3o2qVcujSuQ0yUyOQkRaBXr06onSpYliyaJpRI9wyJh6XI71FlJYxx7muNP0eRSkHlBzE9tjdAyUWlpA9SukyuNnHXNeIGLoknok+A8s1j+Km9qra4pJprWmzwLVzXHfGwfUS9yVyjK6vHFw+N+Y5FJ5dGDVX1xS3X5KugG9Pe1uEKcUgXQftIaLUiF9aobhW8l6xynOVRCBlwJfbDdxpdWE56X7LKLAWKA6KLiiKUUdGSZAW1g0tuc+MeQYfzv5QxBnLTmFOK1PRmUVRdE5RWUN7v1a/BwHrhFbb8kvKS+RYC3RhZp1XXFgRL4x6AW9NegtttrWRdYjE7UQpLccUeXTrtF8nao97EaUUPxRldN89FnZMrJEU0FsvbpW+wr1u6b7LOqLgoUWMYu1217wdKGyPhB4RkdlkYxOxFltRYgsC+y1dvTm50WB9AxwJOfIjl+6fClpK7yRK6S5ceEFhEeP5LfcWKO6KLywu9RSdahPOFJPsf9wSiZbFkMQQuZfOuzrLc0mhXxDuRZSyXgYfHIwXJ7yIt6e8Le7y70x7B69OeVWEMfuD/X3Q3Zau9uzzXPNLSybX0bL+7zQZw37Htvp8/eeYcnyKlInlp8i1B+uFopf9jFZjXoPrYld4rJAJLL4rlp1fdjP1TwMnmxh4i5GNKXoVCoVCoVA8OFSUPgGiVLZ/uRoqPOHqiF49O+Kr5o2xZuUcJCWESsNt3rgKFSqUQof2X4l45VrR3r06oUzp4jdFaaxpr7gHFqUUD7QKMjLnX0f/VQKcMCgNA6DQAviPcf9Am+0/bCHC9ZN0U6QFJ78o5UB28snJqLi8Yp4opYiiCyIjgw7ZN0TWAjKwCweYJK0ftL6yHJZVxoJYazd8ji+2fCGBWu4VXHdoDTgpLAsC1xqynBNPTpQ1cRbohkuxyqAwFDu06NClmRalQfsG2cp//ofyrzq3Slx987sjPiqwPjmor7C0ggh5+zrjXpw9d/XEv8b9S7ZjoZszB+AExQwthYzoynq1wMi2ww8PFwtw/va0QBHI9agMxnO7aLUUH+w3bXe0zbP0EYyWWmVFFWlHz1hPOUZ3bvYzCcZUgKWULqMS0CafyOe9MoLq1y5fS5+lxfBbl28lyFJBwouC2ynASax0Aw4MkHModJgHf3tYYL3RPZj9/FTEqZtHbWCZGZW22MJisrdnfjFGMA3XkZZaVErcdzmRw2Osh/z3RWHPiQVOnLDOCwLLw/vkM3ww6KC43ecH653iky76fff0lSBiHbZ3wH+m/Eei61puuxYodGm9pGjkO4DXOBl+UgJIsaxkQZMyXGtMd/qXx7+Mj2Z+JBGBuQ44/2SRCEXXCSJaKdDZV+jGfP7yeVlnW3FZRay+8OPovg8CPtd8vmkpZbA2hUKhUCgUDw4VpU+CKI3xlS1eMtMisWXjMrzzzlt41/D773pizswJGD92OFoYkfrqq/9B8WKFsWTxNHh5HEHfvl1RqWIZLF5IUfrTLKV0J+SaSQYS+d9h/4tiC4rJ2jtaYv4+9u/408g/ScRTj1jbJvMc5DOKK0UG159ZSMlOwUavjfh02aeyH+Emn01ynAFvONCksGRkUYoBWkRprSJpqS1oMEvQ1bLZpmYS0ZXbU9wrNl3cJMGa6GJ7O/FBoVB1ZVVMPz39lnV+XEdXaXklcdHlwJwujM02N5MtNiiMM03dWWXnfWSZB4gD8p8LDNZCt1e6QHI9K/fftIclqmlFpIC1cDDkoOwr2depLyKSf1hTyUE/oyUzIi3XCxcEugVTcNJt2F7Q2oPWVO5nSyuuvTWQ1jwKaEamtYIAUSAzrz5OfeAU6HSLMGV/4FY0dOGkS7gFtuPB0IMYdmiYbFvE/sBor9zLc+DBgTgQeuCWwEiWhXTwocEYcWQETkedFpFDaxzz2Bu8V/rswwD7DwV7ow2N4HnZJrwtUBDS9ZwCkJMJtNDbi3aCwo2BoGiR50QDXZJ3XtyJCYcnYIvPFuTk/iAQabFkBGWuUeWzWBBY/5aAtPYyLQgD9g8Qd1nWK/sV65TncQsfimQrKBLBoFH0HqCXgH2UXU4e8N2wO2C3POv2oLBkECru2dp5a2e02tgK3XZ2kzaj6znztMAlArSO8tnjvrSWBZ1lmHF6hhzf5rtNjv1UZORmiBil1ZdWWIVCoVAoFA8OFaVPiChlcKMMI0r3Om9GzRqV8fbbb6BC+dKoUqkcqlcrj2JFP8I//vF3/PvfL6Jf3244cmgHundti3JlimPZ0jmmdmlJuW5EaAR69+yIjz54FwvmTZY1pfcS6IgDcwobCk9Gt+VgjQKD+yPWWV1HXDZp/bEsbhQZjDRKSynFAweoJ8JOiCtpV4eueG3ka3hxzIuy7yItPrQ0UvBwj8EtF7fgbORZEacWmTcH8uIuaP6j6OMepMyXIpdrDxmQhINHHjsWekwG2vYDe9NdZc9QbjnCYCocbHPPSAofR39HnI86n7e2kgKSgXFokXpt2muy5pFlouihiGMQnlemvoLOOzrjQswFXLh8QfZs5PpaWnAYsMcqO12KGcnTPcpd8i/IIvWwwfLzWqxLtg3LxvZilNXT4acx5/QcNN3cVASEJchpnWNAl3dnvitWbkbEpcBmfbK9X576sgSfsRelFHUU5Gyf6SemiwiiyzKtr6x/icJ783Y5OcGIrIXnFhbxQMHBSLG0pNEC23B9QxGglmih9ZpurhRpDIDDYDgnQk/ANdRVzqWwpXsorXMEJ04o1hj1uOzCsmKhpnWbQoprIIsvKI6aK2qKKykFIkkX0ForaqHkgpKy1Qr7uWy/cn65BO+qsbwG1nms+5FAvFewbinQWe8Ofg5ilaT1l+uk2UfpEm6JXopuWrEZdZaTCdzD9XjoceGBoAPissu6YKRati1FWa3FteQ5+mrbV2IJ5nVYR5u8NsnetJwoKcilnc8p+wPX23L9JwP6UMjaW1xZP+y/nGh4b/Z78mxZz0dIcogIdz7fbGu6JrPeuLXMF5u+wOvTX5f1mNwOht4TrPP229qj+orq4vJPcDKHzw2j8xabXwzfOX+Hk2En4X3ZWyYKGGSs5PySmOQ6Sd4PrEsKW/bnV6a8Im3PZ5HClM808+EzyeBrtBTfr8u3BfYjvgu4hyzfd2/MeEMmAuhuzvpgX+C7RKFQKBQKxb1DRekT4r7Le0s2A7PAS27YunkZpk0ZhTGjB2Li+GGYMnkkWrdshpdeehFFinyEFcvm4KKnq4jPsqWLY87syUhOjsPV5HhEhnmhe5c2KF60EJYsmn7PgY44sKZ73Dd7v5HBNQehHDjSNZIWKctCaoECh9at4YeGy1rBz9Z8hgarG0g03lEHR6HdhnZ4Y+wbKDKriIgHbl3B/QHpIsotYT5f/blYlGhV42fdVXXRc3dP2buQg1lax+h2SyFTfXl1PDfpOfxr8r9k0M+Irjy/k0MncSm1wPPoJvr17q9RZ2UdFJ5XGH8e+2cZcNdeVhu9dvbKc3Wk6F1ybgmKzSuG3w/9PT6c/qEIG4qs9d7rZRD9h2F/wH+n/hdjj4yV+6doZ0AUBu/hBv+N1tvKT2vx56s+R7ut7WTLmJ9DlFpgvVJcMhAV66rhmoZSNxTZXEtLyyDrhSJ256WdItD+OvKvIkC5PQlFKK2ppReWxrMTnpUgTlwTbIHCnRatxusbo/yi8vj7hL/jpSkvofqS6mi5uaWIO8tCzOBY9VbVw99G/k2iHot798YvpG9QgFDEsL2siQ2CwoKChgGiGq817briczRc3VDKxEkF5knRyXuguyiD/fxu4O/wzKhnxP3TO94b3rHe0rZPD3sa/zv4f8XCT8sv9+1kGf/f4P+Hvwz/C3rs6iH72HI9LM+lm/pTA56SIFW0ID9Iu/E5YD9qtr6ZBF16YfIL+OfEf6LsorJosqaJCC4R7nZgHXAdJ+vm85Wm7/BZMH2JUXA5qUNxxrJwHWWhmYVQdl5ZDDo4SNzHm641z9qKz+R6tLpyr10+K/lB8Utr+AvjX8Afh/8xzx3Wft0tXbb7ufTDCxNfkL5ebUk1CYplbSnDyRhOKjHCMbdxocVz3OFxeGPyG3h69NMStInPPvtQ7ZW18dzo5/DG1DfyIm6zXLRGPz/ueTz17VOos6yO3DvFOa38/532Xzleem5pWcPNbakYDIuTRL8f9nuZSLD2GeZkx3vT35Ny8rlecG7Bbdfl3g1s6+47u6Peinqy5c2fx/1Z9mFmP6VLNC3W7G8KhUKhUCjuHSpKn5BAR9aWMElXApB2LdQIyXDkZsWIW6/72QPo3aMjnn32nyhqROmaVfMQdOkM1qxejE6d2qJvny6YOWMsZk4fi7FjBqFj+6/wbb/uOHpop2moEFM3gXcUpXSbZeAXuuw239JcrJXkNy7f4N057952Y3laXTjI5NYkdVbUEeHH9ZYcENNFc5DjIBn4MfiPFbyI1hsKCB6niBJBt/5zEZEUDRSVliilSKa75+frPpdyMdARA9VQEH62+jOxnFDoWrBEae9dvaU8HDAz8Aw/66+oj27bu8E5wLbHIUUpLUO0+jRe0xitNrSSv/0S/GQg3GxjMxEATdbahIW13QjXUtLaV2dVHVkjR8sp74Mb8bfd2hYO/g6S7ucE75uWRbo4f7ryU3y64lPZJ9Y+Im2ueVFQlLCMX67/0hbN1RLUpv65jUvrra3FWkkRaIGCivvFfrr6UzRe11jqkyKEQqrp+qYy4WCJUgryrtu7Sr0xDfNvuK6hWDa5HyTdZm8HBuLpvqM7Pl36KRqsbCABtyw3X4LbyOwN2oueO3tKXVPAUsgy+Bbdige5DEKjVY3QbG0z9NnTRyx4PP6N0zdouqYpmq5uiv7O/eUYz+G5FHYUweyPzNu6j/sBXU+5NRAj4tZfU1/6KeuIfZT9ipGo84tSgvc20GUg6i2vh/or66PV1la3rA2VZyvsCCYdmySinUJ66IGhIqDrLKmDTts6SX0XtIaWgpYWysH7BovAZ10139xcLJj2ka2ZJ4U/n69Gqxuh7Za2WO+5/pa9bdnfuQaXrvCsN26Z1GxdM3lu+FxJ/zFkYCvW/bD9w/LWDHO9KSc0vlj3BRquaIiu27pKH+S6a07usP80XNUQ7bfYvCdYHi4hkLozZaZoZ3r2Y24f9eW6L+V5ZNAz7jdr71Z8P+BWU9y2itfm5EeLbeYdsbGpbF1EyymtwSpKFQqFQqG4P6gofUJEqUXuQZqSHGKEKV0Wk0RULlsyE9WrVsRLL72AN994Da1bNsUJ1z1IToyEi/N2+btokQ9RqND7KF68EAYO6A3PC4elTpLNAPDKZW43429E6ZXbilK6ANJiSUspLVl0i6Rli6KQ69luB67LolWVg1f/eH9EmY5x/brpOOY/utIGJQSJu5y1XpTilGsZL5k2C0gMEDc8kn/TQkcXQQ6qOSikOyhdPenaF3EtQsgBPge1jETK69oPsnkezw9PCpf8+DsHxsxX0ieF5lnpWB666TENy8NzaHVMz00XCwzT8nhYYpi4NFrbXVC4MKgL75flsMrP/BkV1T5Y0s8J3jfrifdNsu7sB9a838T0RHGHlPtNDpf0VhvwO+uKLp324oxikMeZJ63pvHe607JdGb2X+89aoJhhPTJvScP8TR1Z/eJOA32uzeV5l0z/Z10y4JX92lCWiW0nbWLak9dhGroX896jzTvCujaPW266LDvPIVn2lMwUOYdppJzmHB63t97eD2jp5QQK64JkvqTUz5VARKdESx3mB8+LuRYj9Sp9J8k88/mCPfFv1inPp/hkeubpb55ltuOd1sLyXNY5+y/vnf2Z/dpexNIiy3tnfUaYlzvrgn3EPoou07Mv8VzmyWdEng1zj3TxZf+x+hDrk3VhPSv8jEqJyqtnloNbvvAdQDEvfZHXNb/zPnmc+bMu8spsysPjzFfKefM40z2ocGRb8xqsSz7/XF7AT3lnmLzZRx7Eaq5QKBQKxW8ZKkqfMFFK8j5IRuOl9fTAvq1YMH8yZs0cJ9ZQBjDy9T6O69lXcDnKF5s3LsX4cUMwbsxgTJk0HIcPbDedIARZ6WYQaPKJi/a+oyglKC7o1mYF8eFAmBZPuvBaVkKFQqFQKBQKhUKhyA8VpU+gKLVoufReMXVCi2dKcjCuJQaZOjKi1fxOV9+r5m/+JscMk0w9XTX1xOO0ul6J9b0nUUrQOmBZNAXm6y1/KxQKhUKhUCgUCkU+qCh9wkUpP+nOm50eiZzMaORw65jUcFP5AeZ3HyM8/ZGREibHhZlRpnFC7M43wjbm4j2JUsUvA0ahvRh7UaLgMsotrdUFkb8xDaPj0s1W8XBgRdC1IgUXVPfCm78zgBJd0h9kDapCoVAoFArFkwgVpU+wKL0f8t5t/PFvKkofX9ASzQBADBDFQCtc18tgTgWREVrrrq6LIQeGSPAXXff2cMB1j9zCpek6WxTpgupeuKEx6q+uL4G96NZe0FpRhUKhUCgUit8iVJT+RkQpo+fa3Hlv87s5bvFHv6kofWxBaxu33hiwd4BEIGYU04YbGhZIRiX9eOXHGLR/kFhL1bX64YCBbuaenotGaxuh3up6Bda9cF1D2bqo1fZWEi2Ya68VCoVCoVAoFCpK1VJ6D1RR+viC1k5GEGY037NRZ+Ee7S7bhRRI8xs392eUUEaWVTwcUFwyEuz56PM4F3Wu4LonTf2zjbjlCQODqfuuQqFQKBQKhQ0qSlWU3pUqShUKhUKhUCgUCsWjgopSFaV3pYpShUKhUCgUCoVC8aigolRF6V2polShUCgUCoVCoVA8KqgoVVF6V6ooVSgUCoVCoVAoFI8KKkp/I6LUFnnXtm/p7X677e8qShUKhUKhUCgUCsUjgorSJ1iU2kSmL1KSQ5CTGWUYbSo+NO831kVyQgAy0yKQmxWDrPRIUxcBPxKoKkoVCoVCoVAoFArFo4KK0idUlFJUJpp7vpoYmEeK02tJQT+ku7knKdPx/vl7YnxA3vlWOhWlCoVCoVAoFAqF4lFBRekTLEozUsORdjUMp084Y9mSmViycBqOH92FuMs+RoAGm4YOhd/FE9i8YSkWzJuMrZuWwd/3JJKNgKXFNC8vFaUKhUKhUCgUCoXiEUFF6RMoSnkftH7SVTfA7zQmjBuKsmVL4u233sDQQf0QHemF69kxuJEbh5PHnNCubQu89ebrqF6tAhx3rRN33tSrIbb86MqrolShUCgUCoVCoVA8IqgofQJFKe8zMy0SbqdcMHrk9+jRvT2aNqmP1197BS1bNEFYiLsRpZdN/UQiPOQ85syagOJFC+GN11/FqhVzZG1pekq45CXrS1WUKhQKhUKhUCgUikcEFaVPkCgVAXnZx4jGYFNb6di+ZSXKlCmOdm2/NMJzHOp/WltEaUjAWWRnROFaYiBys+Lg73cGPbt3QOFCH2D5klni9quiVKFQKBQKhUKhUPwcUFH6hIhSKzARAxnlZkYjPj4EUyaPRIUKZTB4UD+sXT0fTRrVQ5tWXyD40hmxhjLyLq4nIjLcBwO+741SJYti5bLZKkoVCoVCoVAoFArFzwYVpU+QKOU60kwjKK8lBmPdmgVo3645Ro4YhCNHDmDLphWoXauKHIsIvSDbwzAiL3LjEBJ4Dn37dEHJEkWwcrmKUoVCoVAoFAqFQvHzQUXpEyJKGS2X9xAW5I5tm5ejW9e2GDSwN3y8T5vGS8WunZtQtUp5dO7UStLfyImV+uBncOBZfN27s4pShUKhUCgUCoVC8bNDRekTIEopHC0h6bR7A2rXroqPP66G1SvmIiTwPIICPDBn9iSUKFEYjRvVkwBItJJeSwwCbsQjOEBFqUKhUCgUCoVCofhloKL0CRGl2RmRyE6PwpZNS/Hqqy/jxRf/hRbNG6NLp9Zo07opqlQph3/961m89uor4qp7zm0/MlMjTK2mIyToPPp93VXWlK5ZOQ+5mTHIMnmxPhg4SUWpQqFQKBQKhUKheFT4dYnSVjZR+qcyAfiLitI8UpRyT9L0lDCcOuGEbl3aonKlcqheraKsI61frzbKlSuF5577J15++SX06NYeZ07uBXJiWa2Ii72EAf17o2zp4ti6aZk5kmqYJNZU1ldctLeKUoVCoVAoFAqFQvFI8HiK0lQjSv1VlN4PGeSI9xEV7gEP90M4engXDuzbjqPmXve5bMH33/XC66+/igrlS2PzhqWIDPPA5UhvxF72wwlXR7Rt/QXee/dtTJ08EkGX3BAecgHREZ62/C/7qChVKBQKhUKhUCgUjwQqSp8QUSprPw0Z8CgjNQK5mVGmURJNQ0bBcdd6NKxfB3/4wx/w8kv/xrCh3+K8+0Gxivb9ugvqfFwdb7z2Cv70p/9DiZJF8VmDOkbE9jT1tBtpV0NN3QTJNdJT41WUKhQKhUKhUCgUiocKFaVPmCilxTQlOURceXE9AcmJIVi7egFaNG+EKlXKo2aNKvju21447uqINavm4avmTVC5YllzvLK4+taoUQnly5VCp44tceSAg+STkhws11BRqlAoFAqFQqFQKB42VJQ+IaLUnpZATU4IkLo4f/Yg9u/bioP7t2H/3i04eminuOh6exzFPpfN2L1jNQ6Y348e3oG9ThvhsG0lDh3YhuCAM0gyeSSYOmW+KkoVCoVCoVAoFArFw4aK0idQlFqkMOUnt3dBbpypwSuyBUxOpmnsxCCkXQszxxnsKF6O59Gku5EdI267zCPO1KeuKVUoFAqFQqFQKBSPAipKn2BRapEuvbx3RtMl+Z33+sPxINtveWmC5Dh/5/m6JYxCoVAoFAqFQqF4VFBR+hsQpT+VKkoVCoVCoVAoFArFo4KKUhWld6WKUoVCoVAoFAqFQvGooKJUReldqaJUoVAoFAqFQqFQPCqoKFVReleqKFUoFAqFQqFQKBSPCipKVZTelSpKFQqFQqFQKBQKxaOCilIVpXelilKFQqFQKBQKhULxqKCiVEXpXXm/ojTbNPrVzKtIMY2dez1XjqVnpyM5IxmZuZm4Yf5TKBQKhUKhUCgUCkJF6W9AlPK+kq4ECAu6R+5Hav1eUJr7FaVBiUFYeHYh1nqtRWxqrBw7FHIIM07OwJmoM8gyHUWhUCgUCoVCoVAoCBWlT7Aojb/sK5+pV0OQkxmN3KwY8z007zeSIjQjNUJ+s2ifRj7vU5QeCz+GSssrodHGRvCN95Vjk45Pwvuz38fic4uRmp0qxxSPDgEJAdjttxsbPTdiy8UtcPBxwP6g/QhNCs2zXtsjNDkU2322Y5PXJmy+uBnbL27HoaBDCE4MRu6NH6cPSwqDk78TNnhukPy3XtyKfUH7JL1OOvzyoDdCTEqMtKHDRQecjT6LlOyUm78+XkhIT8DRkKPYc3EPToedRkJGws1fFAqFQqFQ/FagovQJFqXJRphcTQzC5ShvhASeRWjQOcREeovY5L1eSw4WURoRegGXfE/C3zDQ/5RJ42UaK0jqi/ncjyilgHEKcEKt1bXQcWdHXEq4hAzTBqOPjEa5JeWwxmMN0rLTbqZWPGxQjNA6PfnEZNRaWgul55ZGmUVlUHROURSfXxxz3OYg1TyAFq7fuI7LKZcx6/QsVFpaCaXnl0a5xeVQeGZhVJhfAVNOTLllEuHGjRuIuhaFeafnoe7yuig+tzjKLymPwnMLo8jcIphyfApiU2zW8ScFdDknf01gu54IP4G2m9rirSlvoY1DG/jE+9z89fFCQGIAeu7siZJTSqLZmmZwDXe9+YtCoVAoFIrfClSUPqGilMIzOzMG166GYduWFejRvT06dWiFDWsXGZF6EZlpEaZxrsDP9xQmjh+KL5o1RNMmDdDqqyZYu2a+CNYccz5de2Ojve9ZlHJAOejAIIw6PEpcdi8lXsLyC8vx7d5v5fOSqeuc6+wcikcBWkLHHh2Lzrs6o59jP4zYPwID9g5AvdX18H+j/w/ddndDfFr8zdSAX7wfJrhOQIcdHfD9vu8xbL95Lg4OR61ltfDPsf9Eq22tkJieeDM1EGieoXGu49BxR0d84/gNhh8YjuGHhuPzdZ/j6dFPo822NtLGTwqiU6PFDZ2MvBZ58+ivA7SWjz04Fq9NeQ0lFpbA8fDjN395vJCYkYi5p+ai6PSieH/G+9h4cePNXxQKhUKhUPxW8OsSpa1tovTp0gH4q4rS25JC8qoZkEZHemH//u0YOKAPSpcqhuefe9aI0w6mfnzETdfd/TAmThiGJo3qoXq1iqhapRwqVyqLnj06YI/jekSGe+BqYqCpF5sb751EKYMY7Q3ci0brG+HdWe+il2MvrPJYhTFHx6DY/GJifVvtuVpcCgm66B0OOoyN5zfieNhxsbBSLG3z2oZ1Z9fhfPR5CZhk4VrWNRwKPoSN7hvFxS8jNwNJGUlw8HPAkjNLhHQ/DTbtaO9uStfAbT7bsOzsMix3X46l55Zi7YW1OBVxqkA31itpV7DHfw8Wuy3G0rNLsd13uwyaM69n4mzkWay/sB4rzq/AyvMrsdl7M4KSgpB1PQtel73EMsW0BMtGd9mQpBD52wKtlLsv7cbiM4uxwn2FlGeV+yqpA3sL5v2C9UFL2Pwz80VIzj09FxfjLiL6WjTCksOkbWi5nnVqFlIyzUNo6tY7zhszT81E622tMf3kdClrlHkwaQnddnEbuu/uLm7XrHuCrrlW/hSyF2IuSP5MfzjkMDrv7IzJxyfL9R4UtKqfCj+F5eeWY5n7Mqnr5eeXY9X5VXD0cxR3cMs92D/BH1t9tmKb9zZs9tiMA0EHEJ4cLsJ8h98ObPHegk2em7DLf5e4J1twi3LDknNLsOzcD/mvOb8Gu313wyvWK6/fUYROPzEdpReURulFpTHi8Ais9Vgrbbbp4iZZO02LZH64x7hL/2D+vAf2PfZNq17YP09EnJC+fCz4GJKzkqXfcBLHKicts1x/TSFpPylwP8g0z+f5y+fRcltL1FpVC+eiz0mdbbqwCVsubBHRmh+0hPtd8ZN64zPF+llydglWe6yWZ6sgMJ/1nuvlPq37pVv37SyzvMeNXhsl/4VnFso9si4H7B+AMkvKyDXtEWjeQXQnX3pmqbQV65X1y/5tDz7rB4MOYvX51TgZcVLqOTYtVvrNUrelWHFuBRx8HaSPKBQKhUKheLzweIrSFCNK/VSU3i+tdaJ02b2ek4BDB7ajdetmaN++uRGa7VG40Ado0byxSeMnltJZM8ehaeN6GDb0W+zYsRE7HLZg+7bV6Nj+KzSoXwdbNi8znSEUaddC5Jw7iVIKmn4u/fDX0X/F/wz9HxSeVxgfr/kYhecXxu+G/Q5Pj3oa7Xa0EyFDUMwNcRmCcrPKiZVth/8OWcvYZHUT1JpXC2MOjcHF+It5AoRidsgBk35GObRe01oG+Tyn2eZmKDO/DErOLYmWW1pif/B+EYkUFhQVFJWttrZC3RV1UW9NPXyy8hN8vuZzEcv+V/xl4E5wME5RvNN/J1pubilur+UWlEOTTU3g4O8gg9n2W9rL8YpLK6LS4kriDjv4wGC4BLhg0rFJYiGmcI5IjsAWny1ifVx2fpmUnfdBt1qXQBcRh7VX1LaVZ9Un+GzlZxh6YKiIJUYpfpDoxJdTL4uA/GzdZ5jrNlfWfOYHB/cRVyPkO8X3eNfxaLCugXyGJN4qnlkOul7zHFq2Wf7Zp2ej4YaGmHhs4o8EAUExw/QP6p4tawvDjmLI/iH4dOWnqLvGtNm6evhsw2eotKQSys0rhxEHR+RZLHcH7Ea9tfVQYnYJFJ1RFD139RSxR3HXeGNjFJlVBEVmFkHLrbZ+wfr3vuwt4vLjVR+j7qq6qL+uPupvqI8qS6qg7Pyy0ocpZAiujf545cf4f0P+H/53+P/io3kfoebymiizsAw+3/g5nAOd8/on+w/rjGWj6zQt03VX1pV7YN9rs7WNCGimocineK84uyKarWyGVRdWYZvvNvR26i3iL9I8XyfCTkjf6ufcT+7H6qf3i7j0OBF7tVfVxgavDeKmXW9JPdRfVF+CkUWnROcJa7Yzheeic4vQfH1zfLz8Y+mj7Kufb/hcJpU4AWHdM++Fz/28M/PQZH0Tuc9P15h2W14XTdc3xcJzC6XOrfR8Jtn/KCzZ7/nclppfCt/s/UYmNUYeHiniea3nWknPcsWnx2OV5yq03tQanyz/RNqb7cZy8bqcFLHqhn1vgPMAfDTzIzTZ2AROl5zE6tp6c2uUnV0WFRdUlHcB21WhUCgUCsXjBRWlT5goTYz3R0ZquBklX8OK5XNQuPAH6Nq1NVavnIsvmzVEm9ZfIDrCC2kpYVi/ZgEmTxyGM277TO3eHPTmJqBn93Z47dX/YOaMsaYDhCMzPeKmKI2/rSiNSY2RQS4H7C9PelkGj72de4uV5s3pb+Kdme+Im6cV+IjpF7ktQoW5FfB/I/5P1iVSEAxyHoSvt32N7ru6Y4zrGLH0ELQ8cjDL9P8e9m/UWlQL37h8Iy6nfXb3Qfcd3TH+6HixUnFwTSFIQciB/rcu32KQyyARO0P2DUF/p/7o69JX3FxpPSIo0mjZ/dr5a/TY1QN9dvXB145fS/68Ts1FNfGfMf8Rofq1ky3NK9NewYsTXkSrDa0waP8gDDwwEN/v+R79dvdDjz09hKyDdV7rxCpJqy7vsa9zXwzeN1hEB8s00Hkg+uzpgyEHh4iotbf03itCkkNk3WDphaXFCmwPDu7zW/QoQts6tEWZxWXEqng3UEh12tkJJReWFMsjRdjDBMvneMlR2qXbzm557cU64gRC4/WN8dzY59BoQyP4xNkscBTx7R3a4+kRT+Nf4/6FofuHwveKr0x89HTsib+O+iueHfustCHrhGudB+8fLC7M/GQbcKJjxJERaLKhibRltRXVxGpHeMZ6ordjb7w99W28NeMtNN/aHN86f4ueu3uKsKUl07Kq0rJ5NuosJhybIO07wGUABu811+B1XAajr1NfuTcKw/Br4WJprb20Nv494t+oNK8S+jj1wYADA/D9/u/xneN3+HrH1+i9pze6O3bH0INDRaw/CCiSmffLU15GgzUN8J3LdxjoOBA9tvZArz29ZAKDwpSgqJt6Yqqk77+nvzwrUn5DlqunU0/53bKA0kI67cQ09NzTE/2d+8v9sj55v6wn3u9st9kyAWWlp6WebdPHsY88t6xf3nf3nd1FpFdYWEGeE4KTAxTIzOebPd9gyF7z/DJ/0250SWf5abE/H3NevB74zC84vQBF5hTBH0b8AbWX17bd796B6O3QG1/v+lrSe8V5Sf4KhUKhUCgeH6gofUJEKQUpPxlpNystEpd8T2HE8O/QpEkDIy4nGlE6H/Xr1RZRyoBH2RmR5n79jED1NPduBo3X48254Ti4byvatvkSXzRtiF071iDtWpjkGW/yvpMopXWPYpDWjsrLKmO913pcy7yG01GnUW99PbTe3lqsJpaYoQi5kn4FU49PxXPjn8PzE5/H+GPjxVUx5lqMLTDS0nJibSGYPwf+tDC9Pu51vDX2LYw+PFrELS02tM7R9dNyybXWPnbd3RWLzy7GVq+t4pJKSyhdQTs5dBJrLqMBExQgzTY1EzF9KPSQ5EmyzBSvb417S65LKxivFZcah5bbW+L3Q3+P+svqY7f/brH0lp9XHi+MfQGjjowSt0RaRds5tBMRsuLCCnRz7CYWR0bDZcRaCkIKFYrcIvOKYMShEQ+05jbsapjca4WlFXAk9MjNozZ3WFqE9wbsxcHAgyLM6KJ6MfaiiJ6qy6tiu9/2m6lvD+45S4HPyQO6Qz9IGe8E5rfk/BK02NoCg/YNkvaSOvLZKlGEuZ0QBShFn2UFZlvT6kXXWrade7S7HGcf87jsgaorqqLu2rpicaeoXu+9XiZJKLBoaWd/YP47fHaImy7bihMntL4RzP9U5Ck0XNdQrLWs14L6GsH6YfsWXVBULLPs/7R+0lLPz8nHJqPEghKosbKGrOOl9ZBrrD+Y8gHeHPumrOM9G3MWvZx64W+j/oYGyxrI/S+7sEyChg07NOxHEwv3Ago1Toz8YeQfUGxuMXE/Zvm9Y73RZVcXqSPeI7EncI/0n/qr62OB2wJxM2f9cBKC1tyKSypKXfN+CD4z3+39TiZa+Ext9TbPmPmNXgV0+W2wtgHKLy0vll6Cz17NVTXleQg37xrrGaNI7LajG14b9RpKzCkhFnCCbcj6qrWiFmYcnyHPCvMn+czUWV0HH8z5QCaTaC1l/SRnJmPC8Qn465i/4s3Jb2Kq61S5Fu+Z15J2e4BJH4VCoVAoFI8WKkqfIEspI+mmXQtFeMh5TBg7GM2/bIiVK+YjIiwADtvXolrV8mjXtgUiwzyQmxUtLry0ql7Pviz37+K0Ea1aNkWnjq2w12mT1JWsKY21Reu9W6Cj7NxsserQvXWN5xoZqNOdki6MHKhbbpcWuEUFo8HSxZcWSq5ZJLg+ctyxcTLAn3l6phyzMO3UNJScXxLdHbrDP97/5tEfgyKEVlNacrjOtfay2qizso4I5Nora+Pd6e/ixckv5olSWlsoSOusqSPbZ9iDa+B67+4t1516cqoco6josLMDSi4oibXn10oEWw6Ui80rhi83filujglpCSKCPln7ibga01LE69HluMayGlKeT9d9Kr9/OONDvDDxBQw7/GDig+sV80RpyA+ilC6xXD9ZdUlVFJpZCB/O/lCsukdDj+L7vd+Lu6QlMu4EtiUFE0UphQrb+mGCkw602DHvHrt7oM7yOuJySuHBuqJr9tLzS8VKarmDEqxTutIysJNnnOfNoxD3Ym5J1GlXpzyXZbo4OwY4iriusaKGuOYyf0Ypbr6huVgNaQW0F9zM54vNX+CLLV/gwmWb63lBoOBZ6bESL097GS9OelHKzna1WG5hOTw37jn5bq0zpltq2cVl0XZLW7kO15XSev3B7A+w8txKiWJMK3vpxaXx3b7v+DqV8+4H7Lvd93THR3M/wsyTM2UyhbAmMUotKoVjYTZ3VucgZ5kYeWncSyJA+azweWAfrb6iOv419l+ovKQynAKdJD3XwtKCO/jgYHFX/niZrT7pck03539P+Dc+nPshDocelvR0aWf/ab+jvfQnC+zvdFdmG3Dt+SafTXKcwpkRu58f+zzKLiiLuuvq5tUn3a//NfFf4lK9xXdLXn+k6z7fGbwuLaRPUtAthUKhUCieZKgofQJEKa2ktHamJIfA8/whTBg3FO3btcD8uRPNvdsG5Hudt6FypTLo3Km1nEMhSsF5PTtGxOlOh9ViRW3Vqhm2b1mOtJt7m7JO4qLuHn2XFhmuVys6tyhemPACaqyqIYFvKAxenfIqXp/6Or7d9624sVqiKy4tDhOPT0TZpWWxyds2ECU4OKfrLoOeMLCOBZ5HC2TF5RUx58ycm0cLBgUIxdawg8PQ36W/uMjSDXH4keEYuG8gPlv7Gd6b/R6WuC+R9J6XPWUdIgfUFNL5scxzGSqvrCyWYIoWWnm/2vqV3J/PFR+x4i52Xyxl5ppLgpZiKw1dEjk4H+s6VqxLg/YOEnE4/PBwDD00FI3XNZbyMP8HEaUUOrRAUWQwyIsFWoa49rHxhsbiJv3WjLdEGNP1lG6UlZZVEovY3UCRT+FXclFJ7PLbdfPowwfrcYfvDnHfpdst64jumv339sfIIyPFWmYf+Id9ZYP3BnGZ5fY1nFCgW++4o+PkHE4G5A8URGFKt84B+wbY8qe76Z5vxRpJK/DVzKs3U0Ksr2w/9o3TkadvHv0xuG0OLXbvz31fhBcFP8Ua1xmTdG0ddXAUtvra1pUSnJDhfr5jj42VNqeLOi3FXOfK54RCi9ZXCle6dj9Iv6ArMsUnra10L7bA9b90Y668vHKeuzdFadlFZWV9drdd3aS+rfLTej1833AJaMTJJQpkCl5ae7lmlfXJNqO7Nfs077/i4oriHm6JUrZd9ZXVxSJtHwGa4ETDyKMjUXlFZZnQIlgH1ZZXQ5HZRdBheweZsLHqlNfhc8wJF7odWx4YSZlJ4iFBCy09AB5kfbZCoVAoFIqfHypKnxBRmpUeacRlJLZtXo5CH72PEsWLYNqUkXDctQGbN61Gv77d8e47b6FSpbJYu2q+WEuv5ySKaHXYthJtjBht/sVn5vsKU2+MkHsVGSnhkve9bAnDgeroo6PxyqRX8NSQp/DWrLfw8eqPZdDNIEe/G/o7NNncBCcjT+YNrikcOYCssKwC9gTskWMErR20lBaaV0iiwtpj0olJqLG6hgjAO4HCpP76+uJ2GZQQhAzTYSnQrmZdxYHAA2i1qRU+nPMhNvtslvS0lNLKU3t1bbGw2oNuih23dRTBzaBABMvYfmd7WWcYejVUBtVcU8t7oXsuQXHDwCoUixQsDOhCcXAy/KQIjvScdLEWM2pvl21dxEJmWWLvF7SAMZIuxdP0U9Pz1kUSHJhTnL0z6x0RybTqWukZyIltwIG9PRhNmW6drAuWlWKR6/uabmqKMUfGiAuwPSjUKeZZjxSw9wv2CZaZlkpOVlC4Ueixjugmuy94n1h1abGkW6c9GE2YopTWSQrupe5LRZzz/ng+BQvLR7df5k+Xb7pzikun+Z1tRxdTBnGiu6/vFdu6Z4JClC6ntKJb65stULBS0FFM8p4pMt+b8564eNMSyP7G/EnLvdQeLGvN1TUx5eQU+ZsCm+1DSzrXCPO+uY6aIvdBLehsZ/Y7WjvpNmyBllJOEjEYmRW0iu7nReYXQQ/HHratm8xLnGVPy0mT58feXZlraemyzkkY1j2vw7T0cmBwok1em1BtWTWZ9LAszMyfIpXPA+veAvNyvuSMz1d/Lnvl0o2YcIt0kzXMbbe1lUkjPnNWfZL2Fm0LzIuW0iorqkifUSgUCoVC8euAitInRJRSkFKY7t65FiVLFMGLL/4LlSqWRa0alVG9WgUUKfwB/vH3v+P5559D+7bN4XbKBSkpV3Bg/x507dIGXTq1gYvTVmSmR5lGjkUsxWiU9838fe4qSjkI5xpKujrSBZBBf7i2jIFROBCttbKWWAspOCyIpfTYRBl4UsjRfZcWPwaqoSWEVhwKDILrwGiNpZsv3X1pLaGIYcAense87AepFKW0elJkcEDLbSDCk8Il0NL0Y9Px4ZQPJQgOBRyDHFF8tdjSQs7hOkDmSdJaQyvV2+PfxnuT35PALRRMHLRzoM8yHgg+INfn+tei84tKICRaUim6v9j0hQhXiguKA67hYwReutuyPLRYLXRbKFGF/zHyH7KfK+/zft1jmZ51x+BOX237CtNOTpN6ZP2QFKUUV7Q0UyBRqAVcCcCCswvEtZprNa36JLndDcUJrY+WqyXFLO+DLslc++oW4ZZX/1yHS4scr2u5y94P2HZcN8rtaVaeXyn1w3yk3Qy3XNyCKsuriGDLL0oJ3hddTXkf7HMUN3R9tUDRSKsaJwkWnVlky/uqLW+SfZNtT9dQe1FKQcU+TcHK/mzVDwWpBOYy/ZBrdimSWDcUYfQYkPa9mTdJQcxPulNTBFOAjjw0UiZeGOSK7t5sd16L7u/cTig+LV6EK/cY5TrY+xWlLBMtx823NJc8aKlkPXCCgWKaArj4guJynBMAXPPJNZz99vaT7Y9uKb+5H94D11jzfEuUUvzT4s6JH/ZnkhMTDCb2z9H/xLsz35V8OcnBOqYrf5vtbSTAmNSl6bOuEa7otL0TXhr+Et6f+r54L3BtKOuY7UH3Y1r/JX+7MnHrH9YZxT/BMlHM0xOBE050x2YEafbP0MRQec51PalCoVAoFI8nVJQ+Qe67DEjk7XkUM6ePQe+eHdG1a1v0Mp/ffdMDjT7/FC/9+0V88MG7mDplFC56HcOunUZ4dO+Cnt3bwnH3JtPoSaZxk7B7x2pMmTQSRw/tkDrjnqe8zp1EKQfV6zzXydo3btXgEeshFsGJrhNlQM11aBQe9u50HHhS5NGqWmVZFdnblOsJuzl0E0HELU5opSTolscBevG5xfGnUX9CycUlZR9NbgPSdVdXsURSCFrg+kQGtmF5mFePHT3QfXt3cSvkWrN6y+pJdFYK4jUea0Ss0g2UrogMOtRrZy/03tVbBrg89vHij1FxfkUpL62EXDv7rwn/kqA0LDMFOd0OuW7zvenvybYWLDsFKa21tBLRckNXXbpNMsIs18UyqihdSL9c/SVeHPUi3pvxHmacmpEXEfV+wXagdZmuthzo99hm7ttchxFSKdy49QbFCsG2oBBlRFS6VNJlk1GMyfbb2ssaUpbbGvQTFBEU8p133Mx/u2kvcy+8HqO2MqATxdT9gn2DUY7/PubvKDa7mEQuZn4UPGwPRmOmOy+3+KAlLj9Y/7Ric9KCwp4Cl2sSLdBqzft/YdwLKDyrsEwccG2p5G/6RtcdXWXSYK3XWhGMFjjZwLZknkzDPsT6YZCgLru7iHWcApeCkZMArBsGFmJ5e+7sKfVOMroso82yjzD6rriyLq2O3w/+PUrNLSWTCbTitt3RVuqg67ausu6XAo3WSF7fvE5vluruYNsywBP71n8m/Qd/GfkXNN/cXKzZbPNxh8fhtcmv4emRT4sQpgcD9zCltZf1zj7Des8rv3nWujp0xeyTs/Os6syHkxqsS6ZlX+i1o5e4+n7j9I3c159H/RmN1jWSAFsUq3yGGYnY6mvsO7TYfr3na1SbWw0vjXhJ1hPTcyIqJUrW3VIk853Qc8cP9cl267ijo0Tc5jpjTrJQMNM6znXTfxn9F5kA6ry7swRR+mb3N7Lm234tq0KhUCgUiscHKkqfoEBHjKbLz9hoH0SGXkCoYVjYBZw4tgd9enfBv55/FiVKFMX2rSsReOkM+vTpgjfffB2tWzWFw7ZVpi62YNWK+ahRvSI++vA9LF860zReODJSw4zwpSgtOPouB4QUoAyGQisIB+m0SjA6LtfDzT0zV6wr+UFxxOA1r898HR/M+gB1V9eV/T/rLKuDSa6TxMphBbWhRYQRSqstqib7SdItmJazyosro8KSChK5l2ks0NWQA1BaJbmesuLCiig3pxw6O3SWrUe4zrLRhkYSvZNr5yjmKJJp8WNQI+61yL0yKWjpxjr71GwJrkJhw4iv3B6l1LxSKDarGFptboW9QXtFGHXd2hXFZxeXdHT3pCsnLa10A+X98rPVtlYSuIV7njK4C4P7UCxyUF94ZmERBfndae8HvBcGhKq3sh7KzS6HqouqStRfWv1o5bW3uPE7B/MUVzVX1kSFBRVQYX4FERkU0XRNtdbrEUxPCyPFRcPVDVF2blmUX1ReXDJdw1xF0BXkVnk3MF9OLHAvypJzSsraQooKTlZwm5v229vL2kSKS/vyW6Cl+EDIAbGkNt3cVFxSrb5DUFgz0M5nqz9DsTnFJOqwlT/vt+3mttjpt1Msifb507LGNamMQNtqSyuUmVtGtgWi5ZQWdYpWy6rN69GazGjNDCxVeVFlcSMl2a9rLq0pllzfK76yVvrTFZ+i+IziqLWklqyBpYjks1JmXhm0WNMir59SLC9yXyRC817Be6DQ7LKjC0rMLSEC8dO1n8p6WlopuaaZbcc+SLd1TibQ0si+s+DMAjRY2UCCM+WVf2kllF9QXiZRLDdmtjOfGQrnOqvqoPzc8qi2sJqs4XYNd5XJHgZMqrKoCpa7L0dCRoJMKDACMJ91PselFpSSyYGj4UexwXMDmi5vKlvkUOwyf7bHCo8VaLy2sfRNqzxst1ILS0m/4DPFduIaV4pw5ll+cXl5R7AfcZsZ9ita8VlehUKhUCgUjx9UlD4hopTWUpIReLPTo8xomm6y6bhhPrdtWY46H1fH3/72F7z62ivo37+XCNUBA3rjzTdewwfvv4NP6tRA1SrlUKpkETz9pz/hvXf/i3VrFiIzPfLuotT8xwiejJRJ6wVdATmQZyCZ4guL522Gnx90v+MWHK/PeF3WjdFllEFunP2dxT3WfhDONWgcTHNbk8PBh8W9ke6DO313ipiwBFd+UMRw70+mc/B2EPHMgW72jWycizknFiu6OFrWQLpXugS4YPm55VjlvkqEQeTVSMw/Ox8fr/1YxAPXz1KA7g/cj/0B++Ea6moTtRnJ8IrxkvIzT+YVbPoV1/JZg2G6zlLUWluSHAk+IulyzX+MJrzHb49Ys+yD7TwI6Ma4L2Cf3DO3VKE7853EIi2ztE5xexTyXNS5PItqQWB6tsV27+3SZnSvvF+XY3uwrSnozkScgcslFxGBFhl8iOtu2a/ywxJGDCrFctCdmlFa7ScoCIo0CkjeF9cv2ufP+z0eevxHAZHswd+OhZp2u7hdtmo5GHzwtm1El2zW+S7fH67B745+jtJPKfRp3WPbHwww/TnosFhZeR8U/IeCDuFo0FGZ3GGZacXnGtD7AeuTkw2sN9kOKOiguJkzf+bpHuUufZfX4rPEKMYW6BrL33ifeeX3s9XTqfBTP7JUR1yLkGdmx8Ud2O27W+6FApfrpWntdfJ3kmfAsvSybZjeegYYdIvrRZn+XLhpHz/nvHWuBJ8tlpPXzyuPIScFGGma98P75XPNYE7Mm8c5UcQgXuwXLAM9F+wnKhQKhUKhUDw+UFH6BFlK85PbvcTFXMTmjUvEhbdH93bo0aMDxo8dImtK9+/dgnFjBqNLp9YSrZfs2L4lOndqhWmTR8L97AGkJAfbue/eXpRyAE1LF0UeB5cUiLT+cU2oFejEHlxvOefUHLFa/d/I/8Onqz+VQfMvCVpXuYZ0vtt8DNk/RCy9XPf3ndN34m444sgIsQYqHh9QkND1daDLQNRdVlcCbTXe1PhH2w8pFAqFQqFQKB5fqCh9gkWpzZ3XFzGRXogK95DP6AhP+c564G+xURfN356yt2mEId1+o0yauGjz+2Xb+fFG2LJu7rSmlJYoWspouRJ3T/M/RR6PFRRchMFhhu4finLzyom7ZqUllSTYEa1IvxQsF9B229qJSyrdkSsvrYxKiyqJ6zDdLhWPF2ilG7h/IKourooSM0qg+uLqsrbUfl2oQqFQKBQKheLxhorSJ1iU0p2XnwyCxL1IczKjkJ0RifSUMHHz5XFaU7PTbZF7LTJdekq4aaAAyYPW1ruJ0vsFXRXp5mfvjss1ddxS4pcChTXdUummSddg5wBn7Lm0B06XnOAb56uuf48h6NbNKK10yXXycxI3XAbgofvokwL2S7qX0z1caJ6d29L8TldmruG2d39XKBQKhUKheJyhovQJFqUWE2/eu0UKUt5rYry/fLf/jbxql4bn34ul9H7BATMtqLSmctBNCyv//qUH0lZZaDW1p32wH8XjA7aLZZFnu7H9njRQbDIQEaM2MwIwoz1LROn8NMc7bu8orsyc5LHfC1ShUCgUCoXicYaK0t+AKCWtQEgWb3fcnnlpHoEoVSgU9wZGsp55eiYqL7O5klddZosc/CMur4oyC8qg0dpGsr0RA/8oFAqFQqFQ/BqgovQ3Ikp/ClWUKhS/HBg0jJGnuQ/wOo91WO+5Huu9Cubq86vhcNFBIvaqu7lCoVAoFIpfC1SUqii9K1WUKhQKhUKhUCgUikcFFaUqSu9KFaUKhUKhUCgUCoXiUUFFqYrSu1JFqUKhUCgUCoVCoXhU+HWJ0lY2UfqnMgH4i4rSn40qShUKhUKhUCgUCsWjgorS34AovV1U3R/9HlNwGhWlCoVCoVAoFAqF4lFBRekTLEotccn7TrsWKryaGJj3G8l7TjH3np4SZuO1MJMm6JbzVZQqFAqFQqFQKBSKRwUVpU+4pTTR3DfFaHZGFHIyY8z3MDkeF2MTnBSgGSnh8nt2RrR8Mj3rxJYHLagqShUKhUKhUCgUCsWjgYrSJ1SU0sppWT99vY/D2Wmj4SZ4e7qa33xMXQQZkRotaY8fdcSWTUuxeeNSbN+6El4Xjtw8N9zUiRGw0d4qShUKhUKhUCgUCsUjgYrSJ9hSmpUeictR3pg/dzI+qVMDFcqXxtQpI+UYLaKZaRE4cnAHenRrj/LlSqNsmRKoXKkcpkwcgciwC+b8CLG0iiiNVVGqUCgUCoVCoVAoHj5UlD6BojTpSoC46fpdPIHFC6ehZ48OqFalPJ795z/QpvUXiDV1QCup0+4N6NOzE1p82QidOrQybInWLZuhQ7sWmDl9DDzPH5Z6YUNdUVGqUCgUCoVCoVAoHgFUlD6BopT3AlyFw7aVqFGzMjp3aoWpk0egdq1qIjoZZZeidfKkESJIV62YK+dkp8cgOtIb3bq0RfHihbF08QykpYQhIzUc8Sbf9NR4FaUKhUKhUCgUCoXioUJF6RMmSm2BjcJMY8SLqCxdpjh69+6MFctno3Gjemjd6gtEhJ43QjMCJ47tgePOtQj0d8ONnDjToKah4gPRq3sHFC3yIRYvmCqiNDNNRalCoVAoFAqFQqF4NFBR+oSIUgY2Soz3l3WkXC/qtGcTOnb4Cl27tMPWreuxYf0S1KlTTdx3QwLP5kXZzUiPMXUVCCfHDRjwfV907dwW3bu1w4xpo3Hh3EGpl6sJtki86r6rUCgUCoVCoVAoHjZUlD4BotQmSC/J9i6x0T444eqI77/rhb59OuPUif1ISbmKPY5bUL16BXTp3EbS4nqcBDq6cT0B8bH+WDB3EqpWKYePPnoP3bq2xT7nzYiJ9JZ9TRNibdvHqChVKBQKhUKhUCgUDxsqSp8QUUqXXfLwAQe0bNEY9erVxrIlMxAd6YPoqBAsWzoXZcoUR/PmjeDjdUy2fOFa0ez0KFNn/uLKu2LFPMycMQ49u7XHN3274/DB7abugk3dBMp1VJQqFAqFQqFQKBSKhw0VpU+IKLVt8RKJzRuW4LXXXsHbb7+O777pjokThmHEsO/QtMlneOWVl8USOmHcEPh6n5AIvDzvWmIQMtMjTQ2bxk2PRu8eHfH+e//F/LmTdE2pQqFQKBQKhUKheKRQUfqEiFKb5TNCrJufNfgY7737NkqXKo7y5UuicqWyRoy+j2ee+Ruee+5ZtGvbHMeO7oafzwm4n9mP8GB3U7uJhqYhMy8bUdoB777zFubNmaiiVKFQKBQKhUKhUDxSqCh9QgIdcW9S3l9o8Dnsc9mE1SvnSfTd1SvnYO2a+ejTuzPefPN1I1LLYOvm5QgKcMPMmeNk/ajDlhXIzog0gjQG0RGe6N61HUqWKGLbEuaabgmjUCgUCoVCoVAoHh1UlD4hopTWUpLiND01DFlprOxY8z0SRw/vRKuWzfD003/CW2+9jpkzxsLX+zg2bFiBLp3boX3b5hg0sA8Gfd8bfXp1EkvqqOHf4/RJF6Qkh0iwI5so1TWlCoVCoVAoFAqF4uFCRekTJkoZWTf1aigyU8OBG0mm0kOxYtlsfFKnOt7575uyppQi9ISrk2n0CLg4b0fb1l+gZPEiKFq0EEqXKoaRw/sjwO+UbBlDkRsfc1GuoaJUoVAoFAqFQqFQPGyoKH1CRGlBpJUzLsYXx47swtrV87FqxRwRqJvWL4a/z0nkZMcj9rK/qYN1sn50zuyJWLRgKk6dcMpbo8o6iYv2lk8VpQqFQqFQKBQKheJhQ0XpEyxKr9zcX5T3TatnRlqEEZYRIlZpUeX9cm/T1Kshhv+fvbeAs+LK1rfv/7tz7507c0cycU8mLhAkuAQJhDgEd3cJJFggJMHd3d0dGnfpphu6aTfa3d2N99vv6i5yaLpDyIQk01lPfvt36Dp1qmrv2ueknlpr7wo1Jz5U1uP7qUkBJe3hK5FSlVJFURRFURRFUe4HKqUVWEqZzptk2iMjNRi5RkjzsiOlcOIipuWyLfiMUopovlnOZ5byfa5vfV5eVUoVRVEURVEURblPqJRW6EhpcbHGmyaYukspkc3b3o8pfp/pvne8r1KqKIqiKIqiKMp9QqX0dyCl/2pRKVUURVEURVEU5X7x7yWl3Yql9E81A/AXldJfrKiUKoqiKIqiKIpyv/jNSmktI6UvUUoXqZT+2kWlVFEURVEURVGU+4VKqUrpXYtKqaIoiqIoiqIo9wuVUpXSuxaVUkVRFEVRFEVR7hcqpb8TKbVm4C3rPduSEGuta7PsHqW0sKgQOabdcwtzUXSzSJblmc6RXZCNgiJ2DEX57WD1zXzzY6UoiqIoiqL88qiU/g6klPVKNvVnuVsduQ7bo3jd4mX3KqXR6dGw87fDmeAzSM5JlmWuMa7Y67MX/kn+5YrpzZL/lIrLb/H8sm/u99sPt1g388Ol/e/nwPou3+18/5h1FEVRFEWp+KiUVmAptSKj6clByM4IQ05mODJMPW3fs/7NQhHNSg9FblaEvLJduDz+HqXUPtweLbe3RO+DveGf6C/LFl9djAbrGmCrx1Zk5WfJstLEpMfAL9EcT2bCrQjrrwEjvCEpIXCJdpHjT8tLu2+ywihdZFokvE2f9TdtnJKTUvLOb4fM/Ew5L9ejryMsJQzZ+dkl79wb6bnpuJF0A6EpoRJJ/62wwHEBmm5qivlX5msk/18kKTsJnrGeuBpxFc5RzvBN9EWG+dEvi8KbhdL32beSs5N/8e88o+NB5rfRK9oLweb/F+Udp6IoiqIo9x+V0gospYx0sm4piYFS9/SUIPMagMQSCb19XX9zQgKK1zMXalyXkpoYd+9Sejb4LGqvqY1WO1vJRSmZdH4SXlr8ElY5r0Km6QBlscd7D0YNJDAlAAD/9ElEQVSdHIVjAcd+VWmJzYzFXIe5qL+mPjru7igRX8rj/SAxO1HapO26tuiwtQMO+h1k+Og3A6NYlIbhx4ej7qq6GHV0FDxiPX6SQHjGeWLC2QkigRFpESVLf32+O/8dXl3yKiaen6hS+i/A7+xur93otrMb3l39LlpsbIEvTnwBn3ifkjVuh+nSG902YsypMbgQegH5hb9s+nRYWhgmnZ2ElqtbYuDegbCPtC95R1EURVGUXxqV0goqpZTOgtwo5GZF4tyZA5g5fQKmTx2Pkyd2I860QVpycX3ZVqx7UX4soiI8sGrFXHw1ZhjWr10Ib49LIqdsH24zOzPhrlLKSBgjTqNPjcYenz0ITwvHmZAz+Prs15h5eaZE28obu+cQ4YCFTgtxKfySRCt/LSiKy64tw4sLX8SDMx7EYqfFEi29H1D6tntsR73F9fCPSf/AN+e+MV+aXy9KbBGZHinp1kcDjsI7zluE7YGpD6DSoko45HeoZK17IyYzBqtcVkm0PCYjpmTp7STlJOFsyFmJtt9vUnNScTzguIjTiOMj5ObDzxmtY/SP2zweeLzc+trCSB3XZ5vL+v9GWa1puWnyfR9/ZjyGHRqGYQeHYcjhIZjnMA/BScEla90JfxsWOS6SqOovfUMgLjMO0y9Mx+uzXsfzs5/HWre1Je+UTVxGHHZ67pSbZozyKoqiKIry86FSWgGllPVgnVhfD9cLmDxxLGq8XQVPP/UERo0cYuTTE3nZkfJ+klmf4hkT6YVDB7fgs88+wj8e+DsavVMPB/dvQk5WBLIzQpFg1vshKWVKJyMiw44OQ51VdfD1ma/lYnyD2wa8t/k9fLjlQ4kCJmQllHyiOH2PUcmrUVdxKfQSzoech2Oko8iL6TolaxXDKIxfgh+cw50Rlhwm73MZJfdcyDmEpYaVrHk7TNHjmEH7MHtcCrkEnzgfSR8uMB00Kj1K0g1Lp+byPUoZI2ivLH4Fsy7PkvVsYVQnIDlA0hT9TNsw7ZaCyQvrYCP8VyKuwCvOS8bU2ooOhZwRQ9b3YshFSXVkCuHSq0tRbUU1ESTbqCyP3zfeV479cthlqQejShyb+3OnFPP4fRN84RDigMVXFqPb/m6YbT9b6s7IZqc9nVB3bV0cCTgi59E92v3WcXnHe8sEV6Vh6i/fs+rL9ZkSXVYknCK2xmUN3tv0HtruaosjN47AMcJRPuse4y6SV1adA5MDcSXsiqxHmWVxDHeEW4ybbLM82eH5535a7mgpfbWsY2KbhKeGy3nmsfN4rCgvBZrbKC/yz7bsc7APOu3tJP36bvAGTt/DfdFudztZvzxB5j6vRV6T43EKd5L+RtLz0hGRHoGM/NvTUClf7I/sO7zxw/PlGu1623eRpOamSn90jXC9JdE895fDL+NK+JU7vgPcH/uyQ7gDljotRcP1DSU7YtnVZTjocxA7PXaKZNvuh+eCx+8U6STHw+/81cirsk55/Zk3iXi8rC/PM9uVvx3clp/5vXeJcEFIcsg938jiueUNl4GHB6LaymrY4L5B+gAF2T7UXlKLbQk0v5fM5Ohv118iwk6hTnesoyiKoijKT0OltIJJKSOkrGd+TiwcLh/FqC8HY0C/bujapS1efumf6NSxNcKCr0sUlevlZUchLsYXG9cvRs8eHTFkUG/UrlUdlSq9LtHS7MwIGYt6NynlhTujoY9OfxT/8+3/oNbqWmi9qzXqrK2D/5n4PxJlG3x0MNzj3G9dfPICkFGhjns6oum6pvh408f4+vTXcIlxETG0haI65cIUfLT6I4yxGwPHKEe5uO62txvqra0n0dn4rPhbAsJ95Jrj4wV1j/090GJ9CzRb3Qwjj4zE6eDTUsaeGouD/gfLlZYdXjskDXmOwxwkZiWWLC2GErrAaQGarW2G3rt6S8SNMkkJW+K0BO+sfQcddna4LRWZF82cTGeg3UCpb5PVTTD40GCcDz2PfX778MHWD8BURiuNkdtzinLC16e+xqcbP0Wrba3w2bbP0GJzC0y6OElkluvw4vpfhbLsFe+FEcdG4P1V76PtlrayD7afdb4mnJuA97e+j90+u+UGQ/99/dF0VVM039Acnx/7XG5KyPHYyEVQShDGnRmHZhua4YN1H6D/3uIL+pTc28fOsg6H/A+h+brm+MPXf8Bfp/8VTTY2QavtraSthtgNEVErfX5DU0Mx7dI0tNvWDp9u+VT63Gc7P0PLLS3x4aYPJQrHfmEL98Xt+CT4oOG6hvh0x6dwjnYuefd7KNnc/nyH+Wi9uTWarWqGVltbyfho91h36XOM/lPMyoLLP976sdTjYtjFkqXlE5URhZY7W+Kd9e+UGSmmpPImx4prK9B2W1u8u+pdfLblM0y/OF36FYWeafLWd4zixgjmRveNclOI6bQfbv0Qzdc3R4/dPbDTa6e8b50vz3hPfG73OT5b8xlmnp8p7bPXd6/0N34393jtkfUtWaYcfnnyS3yw6QO8teQt/Nfk/8LT858Wye+1rxc67uyIb89+e2tcOaHIMqLabmc7+e58suUTTDo3Cd4J3ndIOP/mDSSu32NPD2n/jzd8jFEnRuF6zHWcCj6F7ru6o+36tljptPKO8/xjoIjPtJ+JZpubYaXzSsnS6LynM1qsa4FljsvknFh9jjdFTgSewJgzY/DBhg/Qck1LzL88X25OlXVDRlEURVGUH49KaQWSUgopS2ZaqGmtLOzcvgbVq1dB716dsGL5bLT8tAW6dG6D4ABnI6PmhCQHmiv0NISEeOPzIX1R6Y3XsGzJTEnfbdigDtauno+sdE6QFHZXKWXEYNrlaXhp/ksioPXX1RfZbL65OR6e8TAen/U4hhwbIhfP1sUnZY1y2O9wP7Tc2hL/nPtPvLnkTWx233xH1CohO0HGeVaZVwUvTnkRXXd0lfGJPff3RKsdrUT01lxfIxe3vIikNPICktHOLnu7oN32dmi3pR0GHxyMMSfG4P317+OhGQ+JcJYlpTxGRnkp13OvzJVojS28OOf+Xp//Op6Z/oxEU5niSylb7bIary16DQ9NM9u3nyMT/PDimmmpFKju+82F9Pa2In799vfDN2e+Qa9dvVBtaTVMvjhZpIn7Z0R0+uXpGGY3DIMPDMbgw8VlgN0AGeO50HGhyEt5E0f9WCgljA6xrXjOPtvwGaaenirnyoo+sV5MLa68uDJ67+6NcafHoe++vlKHtjvaoseBHphlP0vki/W1oNRNuThFBKXu8rp4etbTcq6CzffNFtaZYt9qSyv8Y8o/8NS8p/Dp9k/RdW9X6Rs8ZxRHK20yz/zgMNrGfQ45MgQDDwzEkENDMPTYUAw+Mljk8YFJD6DNtjbwS/KTz1hwGxQuRqfZ9yiujFKWxj/BH8uvLZdIWodtHdBuczt03d1VotmsA+tC2b4YXrZwUvLZnpTeH5OOTOFkdPqjbR/JJFulYTYAU595A6DD9pLj2dlV/ma9X5z7IuquqCs3OdinQ1JDZH32lfa72qP9jvbosLsD2m9vj047OmHkyZHY7b37lszdSL6BEUdH4LUZr6HS7EoYeHAgxp0dJ3XosKMDRh4fie1e22+1VUBSgHwHud36q+vjgZkP4KVFL0m0tOe+nui0s9MdUsoUZd586L2/t4juM7OfQfUV1eUmR+kxpYyeHvA7gNGnR8u2WN/OOzpjkN0gOa5mG5vhoUkPoemKpljvsv7WTN/3Ao9n3pV5qLW8FlpuaonxZ8fLbwrPN79rTDdnpN/6TvJ36WzoWbmZ1G5DO/TY2wNzrsyRdRRFURRF+emolFYQKbUmLmI9CnKjERPlhxnTv0ajxg3w3XdjsXXrCrT+7EN079YeQTeuIT8nCoX5MaaNYnD29EF079oeH3/YHAf2bsDEb0ehcaN6WLdmwY+WUkatOGPt8GPDUWdNHRkbSongozYopm12tpHIkURmzH+EF3mMQDLN1SXKBf0P9cfrS14XWSidEslIHkWGUZLHJz6O5yY/hy9PfIkrkVckPffbc9+i2aZmWO+6Xj7LC2HO/tt6Z2ucDDwp6X9uUW6STjjq2Ci8OutVEcetnltFykrDi/rV11ej5qqaZUop32caJyO73M43Z7+RdVg3XrQzqvvSwpcw+cJkqTOPnXLAaOh+3/3FxxPtJtFeSumbM9/EY1MeE0kmTIdmFKrR+kb46uRX2Ou9VyaCokQwuss06WrLqkma9I8Zr1gaHj9vJDD18WTASRHHgUcGyjhSl0gXmWXXVtZzzBeeUvrglAdRdW5VqR/TNlkH1oVR5fe2vCeR3qCkoJJPFacfM72W6bfLnJahyvIqks5KKSwNJWTd9XVSZwopI2GMSLJvMHWbUS2r71DEKVxMv/3qzFfYfH0z9nqZNvLZI2mjc+3nSqR01PFREq21hf1unes6ieKzvdlvKd2l4U2Hdze9K/W+HHpZ+g/rscVjC95Z9w6emPqEiDlvhBCm8zKdnGmpfN3muU1S11kfyg1Fk3LKV/Z7Rt6YPsqUVKbXMl2ZkcwG6xtg7fW1kmrL9Fzuk+eYMsf+w/oy7VWOJ9pdopmMYP918l/l5guPh/XZ51scfae08jvCc8WUZr7a+dlJqjBnyeZ3iLBNeRzddnXDg18/iNfmviZ9n+eA6cK9DvSS9e1u2N1a/4b57eT5Z/puzdU15QYQ3+cy67zZzmrLPsV0YqYJX4u6Jn2h8rLK2OK+5Y4bUbxRwu9vn0N9cNjvsNSXx86J1Lof7I4/fPMHPDvrWSx2XCwzOpc3Vv2H4LEtuLIAL898GU9OfRJjz4yV+nI/lHaeP95ksm6GkKyCLKmXY5ijfJbHx2g6vw88t+zHZf2mKIqiKIpSPiqlFUhKWQ+m2rIea1bNQ4/u7TF3zlRcu+aIPbs24t2m9dGrZydEhrrjZmE8cDMBVx1PYPSXgzB4YC8cO7YTIcEuGD1yMOrXq4lNG5YiOyuqOH3XbP/HTHTESGCTTU1ERnkBShFl5IQXwExt/SEWOS2SVFxGp2wvZG1Z4rwEVZZUkXTKi6HfR6gYNXx96esyBpISyAt5SiovymMzYkvWMhfFpmNSAtZfXY/9PvvLjJARHjulpDwptdjlvUskghMB8WLU4lTgKdRfXx/TL02XyCEjKW12t5ExmbygtYXjFPvt6YdX5r+CqRenyjK2FaNmj0x7BA1WNUA/u34S1WM7DjoyCNWXVcffJ/8dXxz/AtEZ0fKZe4FR3W0e29B1S1c0X9Mc/Y/0l6hU6bRpCwrIV6e/wssLXsbnBz8X4bCF6ZQ1VtdA131dRbTK4lr0NZEnRlXLklLC9En2F47FZKpneTCqRsGiMFD2e+/tjT77+qDPgT7ovae3REs5WRVlrHRfYl3YT19c9KLIn61828JzwT7FGyy2UsJx0BTiTc6bcC38mpwrpm9SIvsd6of3Nr4n0ePGGxvjiblP4LHZj8njkNrsaCOprrxZcinskoyl/vrk15KS+sm2T6S/MkL8yJxHUG9dPXy87WN8uulTiQBzzCtnqq26sqpEzylGFswK4M2K5VeXy3eC9aOUUoTfXPampKmXhjdUGHF/a8VbOBF0omSp2VZuikhv5YWVJauAKboWPCcce7nJbVPJku9hVJ8CP/rk6HtKo2WKONuGfbG0lFK8q66oir4H+972PeVNhWOBx9BoXSO5AXY08GjJO/cOfyuYgv3mgjcle4Hp8hbMWqi0rBKmXZxWbh9hNJq/V932dEOz9c3QbV83aYvy1lcURVEUpWxUSiuIlLJurEOgv5OMD+3dqzO+++ZLhIcWj3c7fnQvGjashX59u5uGDxIpvXrlBMaN/Ry9jaju2bXOrMUL3RSMMlJat87b2L51JQry42Wyo/i7SCmjPozMNN3QFM/OfRZd9nWRKBRnNX110auovLSyPAqE6ZxWtKs0vPiru6aujO0qS0p5McqLWMrekmtLSpYWwzTZWmtqYcnVJSKBjL4yrZcRN0Zz7hVKBoWFUsr0vtKTvFisdVmL2mtrY9KFSbdJKdMR666rixmXZ4hcUUS7H+gu4wsZdSrNAf8DeGfjOzIul1A6GLlkemPt5bUlhbLj3o5ov7s92u1qh9bbWmPY4WE4euPoXWW/LCilOzx3oOfWnvho/UeS/kkpLT1JjgXPB88lxeN0yOmSpd/DtF1OdEPRKS3dFpyQ6t3N70rEzVZ2bKF8vb/lfek/0el3l232JUbWmdbZZnsbaRuOt6QcsP9R/Gz7EvspxzFzdmhGonnc5U2Qw5ljKdq8KXG358cySscoI1NLP9z8oaQri2TOfQqPz3kcjTY0kjHGHEPJiXIYMWWk8LvT36HV5lb4bMdnIuwck/nYnMckusrxtK23tJZxnkxFZzSabTz10lQR4x+CUsr0c0obo9elZ3TmY36Ygsw0e6aVW3BsOPtdsy3NbpNVii7P7Tsb3sEur10lS7+HY6c5Fnbo0aF3pGaXB6PoPLb6a+tLXywtpRzPzPpS9MvqLzwv9dbXk3ry+H4KTPnlDSXeLFrnxt/A72E2AKPpjIaWJ5mcbZy/V0xH5phd9m3ecCjv5o6iKIqiKGWjUloBpJRRzByZkCgCdge3oEGDWmjerBG2bFwGP28H+Ho7Yt7cKXjrrTfQ8tMP4OpyTtrhKyOkVatUwudD++KK/TEE+DnC4dIRdOrwGd54/RVMmzoeIYHOyEgNMu0ZYDpD+VLK9Dle6D8y4xH854T/xDPzjUytqS2RmD9N+hP+85v/lMgPI2G2USdbZl+ejQZrG0gKbnkXgRy3Snlb7ry8ZEkxHBfIC2ym3PLilhFaRkm5z7Jm5qVExJo68LEg5UkyUwp5UU/RLe+ilzONMnpFWbYie0xPZDosozw8LtaFF9Wd93WWi2yPGA9ZzyLBtOvcy3Px9sq3JbJKmIJMMeP+2R4UXkagOOETUzn5eApGefKKftrzU3kOeEHOmYwpydxvr4O9ZMwg0yRj0mNuS4fk+nzcR61VtSQiV1rSGSXkhT2jgJwtuCwoGUzxZcTXmjG2NEz9pLhTwm0ln23IGZGZcmzJC1OcGcFme/N4WeIz4yVyzGgVJzzivmzHNLJf8DzwZgWFtbQI2cJxwlVWVMF8x/llnn+KKvfNbbAP8Zyxr/EmCI+Fosb+13RjU5lUiMs4DpM3ZijKWea7xJlome7MSav43fhk+ycSYWXkU9ZNDpU6c1+bPDahysoqEsEtS5J5M4bHQyFlYYry26veFvErDVOaKaUcM81x3RY8Ht6geH/b+zgZdLJkaXFkmss5IRDTz0vDVGseN29c8Dz9GNhm7FOU2bK2eSHsgvyGMDuAKeC2RJn/gVjHzzHo7Au28HjZFuxnvLlhG1m2hd9ZRs0bbmgocmsLbyhxOb/jtrAvML39WsQ1+c3iGHF+J7gvnn+e2/J+UxRFURRFKRuV0goipXzEC8eJ7t+7AS+++Lw81qXFe03QpvVH+OSj5qhe7S088MDf8MQTj2Hkl4Nhf8kOI4b3x+OPP4rXjYC2bfMJPv2kBZq/2wjPP/cs/vznP6Fe3ZpYtnQWoiPcZdvZWYnINx2gLCnlxd2poFMS5XpqzlOSornCeYWMx3tt8WuotLSS/M00vNIXbBx/xcJIKS9CmXZY1oUdxYgRScoPRYGRU8L1OIaw9urakrLJY/GI9RAh4KQxvOi39sHCyCIjTxyTynF6pQWY2+O2KYM1VtWQWVblcSTmv9JwJtTqK6vLrKdJWUkiA7xAfW7+czLBE8facftM36VkUkqZ+modC8Vw9bXVqLWgFh6d9ihmO8yW/VA4Od6OEkC5uZ9wf0yn5YQtHPv77sp3Me7YOJnoyKoz68CJkB6a8hDqL62PDa4bJNXTqgcjjowMc3xd6agWt8F1OBaQgtbzQE8RV/lsyfYtOK7y3Y3vosOeDiJj1vbZfhw3zPNs3WQ44HtApKasmXP5yJwmG5pI9JGz0VpwciRGe1tsaSGPT/khOIkSbzgw4irnv+RYWDgmdMalGdJny5vkhm3Kx+hwHCal/W5QwpmyzX5buk7cJ+WLNzr4HaBw2R4P+wufp8uxzWx/ivIm900S6eVjTG4Wfb8uC9dhxJbfN1sppTAzIsrzxLHLFvzOUAItYbYwW5Pt8bwxDXfokaEiZ7f2Ver8WvA9jkPnjSx+nyntltxbUNLlRseh3jKzs7VN/oZwRucHpz2IKourSIZG6Wg3xZjfyU/WfoIvDn5Rbvvz+8f2ZESUN7qs/Zv/dcl4cO5/4ZWFt34j+D4j/hx3+8GqD9Bzb0/5veK4ZEVRFEVRfjoqpRVCSv1Mg4YgKz0UV51O4ssvBqHlJ+/js1Yfon3bT9CjW3u0aN5YhPSVl1/AlElfwc31HHbvXIOB/bvLrLyU104dWqFbl3ao8tabeOjBf+Djj96TFN64KC/kZIUjO9NIaTmRUkbORPROfikpqJwBlOmJTK3kGEhGbRjVsn10AqMZHIvI9LiJZydKGt9fpv8FzTc1xzenvsEa5zWSZkgYCeEkPJzl8/+++T8Zm8dIDi/OOWtrk3VN8Odv/oz3N7wvE94wfZfjDblvXqhPPTcV0y5Mk8KUSc7YOuToELkgt46J0kvBoCRy8qGPtnyEv039m8jN2BNjserqKpnAhhfGFhwPygtrPrJk4vGJmHNpjkws88bSNyQ6zPGauz12wzXWVdqA6Z0UqSnnp2DK2Sny8P4vj3+Jxssa4y8T/iLPeOU4VV5Ur3dbL4/RGX18NKafmy7RTEZvWCafm4zFDovl+ZFMg/xX4cW2b6Ivxp8ej3ab2qH91vb45vw3EnGkBHDSnmrLq0kbU1o54dT089Mx5Yyph6nL2NNjJe2TIsRzYsE0U36W9eS4u4dmPYSXFr+EIYeHSHSY59BWKChyrCcjnJTQKeemyLnj/noe7CnjjrlN3jRgeiXFRB4rYgSEEjnj4gxpK36WETZGuXk8jPp6xHnI2GNum9Gvu6XkckwjZ9plSir7zNQLpg8ZCZ16fqr0KT5qiOeCEc2y4I0RPoqFqbtsx7vBKCUjpYz4M6pcGk6iw+/WsGPD8O3pbzHtvOnPJcfDWW4Z6WYqKiO1lCg+/5Pyxu8Ao6vS/7m+ac/xJ8eLZHLcpBWF5ONPmLL8+sLX8bdJf5PxuRyTy+WMIr6x+A38beLf0Htfb/lus49SJnluO+7qiAdmPCBjMNlmPA/so7yxYzselH2Vac7z7OeBk4Txhs7fp/9dxH3S6UnYdH3TrYmpKMgUf/YrTvY1+fRkTDs3Tc47Jzp6bu5zMmtuWVLKGxGcVOs/uv4HXv7mZax3X1/yzvdQSDe7bUaDlQ3w52//jI+3fIxzoeekv9j526HR2kbyW/PRpo8klZn1YCT/i5NfyOOHumzuIo+iCUsr+xnJiqIoiqL8eFRKK4iU8tiTE/wRawTyhq8jnJ1O4eKFo3C4dALHj+zEsMF98OijD6NqlTdlzGlYiKuME/X1sYeD/XGz7jFcvmiHDesWo369WnjwHw+gb5+usL90RE5URmpwuVJKR+NMmXzov0Q1En0k6kMhYKSKY0kZySkNRZPjGBldrbqsqkRTX178MiotqYRaS2uh8+7OcpFIUrJT5IK86uKqeHbqs6i/or4IBkWKMlJlaRU8N+051FhcQy6GmQ7JY2BU56OtH6HWslqos7oOaq2ohYYrG8pEOIx4WDPmEooLo72dd3WW5y5WWVZFxsPyQrvqkqryKA1eAFsRWsJUPucYZ0w4PQGNFzfGJxs/wRrXNXIR33hdY7w5502MOTZGngFJmeJ4xja72qD68uqotqgaPtv6mYxL3e62Ha02tpLZRDlxD8flMV2XaY3dd3dH7aW1JRLMyA3H3fLxMR9t/Eguqjk+9OeA9aLQXA2/iuVOy0WIGd3mc2N5TE/NekrGOO7y3IWV11ai5eaWUocay2tIui1vSvCC3jbyzDF3lCi2O4/5lcWv4LWlr6H6kupyI4ERb9uZlhktoyTxhgJvTlRfWl0KJwlipJDb43niDQTO1EtRenney6i5sqaMNabU115WGy23tZSZeHk8rBf7H6PQjIgxAmaJ6g/B4+LMtJy8p9HKRqi5oibqrq4r9eWsrGwbSnR5qd1MG2Y/Y0ozJe5uUPLYVswy4Pq2/YxQ6HiThsLdZE0TETIeT+0VtWUsN8c+86aKlWXAV67PiZHYZ7geX2suq4kP138oGQBsa+tRLBQ5jol8fd7reG76c2ixoYW0IWWex/XmwjfxzNRn8OGGD0VGuf6IEyOKz+2yavLdfX3p65JSW29VPdkPRZkRdwvOoMy0+OYbm8t3lo+AYp/gmPM6S+ug7/6+8jxawvPDMa6MRHbZ1QXvrX5Pvl+c3IuSyJs/lFre7Cl9Dhgp5zjdl8a+hPcXvy/PAS4NI+5jT45F1YVV5bejzso6MladvymU+BrLashvDX8v+BvG7wHT8vldOOR3SCa5Ykq29fuhKIqiKMpPR6W0gkx0xBReltSkABTm8REhHPOXbU5wEk4e2y1R0//785/xzDNPykRGbi5G9jgDLxgt4ljIbCO0Ppg+dTxeeuF5Sd99r3ljbN283LSnF3KzIkqk9M703SJjpYwqVV5eWVJUeTHM9EZevL265FWsdV0r65WGqa58/AKjqYzgMO2VkwvxEQ9zLs7BOpd1IiGEgnDY/7BEJpY7mPWurcW54HMyfpDRNn52xZUVWOm4UiKnVhSM4y/XuKzBrIuzZIzgzAszsch+kYyBKy0lFB2mNfKZh4wqLXFaIsfD45t1YRbWXFsjkSPbSClhlMY+zB6LLyzGaqfVEjnhMqY0Lrq8CAe8DyAuqzh6yJRXyhW3P/XsVNkXx6dxzNu5oHOYfXG2jOvk40UI5Wmf1z7MOj9Lxq8xlZSTOjE6xYf7Mx31h8ZF/lQ4OysFmrO58uKdcjL70mxcCL6AnKIckf51zuukDjMuzJBjtn0+qQWPn5FfHu9Ch4VyLjgxzLzL8zDffr5MssNnjpaGssRZTRkFZLR0u8f222Z15TkISA7Ads/tWOSwSNqE6cc8x2xDphfbTgbE9FtGcylOjLb+WCiC7GfsM4z+zblc3PYUpbuNnWQf5LhIpi2zHe4GU2Q5SQ4fW8T1y5MdTpK09MpS6cvsE6wvI7/lRWwZYWXaM78DnJ2a52vN1TUSybWF/ZbtzO8Qv0vsm0wjZl9glsIqp1VY5rAMm1w23Vq+22e3tMeiK4tktmqKOmV31iXzXbs4UwSUadgWbE/OcMux1mxPpr/zO8YbTPzOb3HbcsdESRTtDS4b5DuwwH6B3Kjhc4utmwy8OVFaSnkT4kzQGay7tg6HfQ5L1LU03Abl0qrvqmurpD/yN4UTbq2+ulrqy21wObfBicV4M4u/FYqiKIqi/HyolFYQKbVKkikpiQFS+LxSLmNktGuXtvjwg3fx0QfNMGRwbzhcskN2Bp9BGi6vHJPqbkR19Mgh+PjDZvjIlA7tW2HpkpkIC3b5wTGlvHimPDK6wIt1Ru4okbxgZZojxxuWB6NBTJ9ldI3/lr/NBR//5nJbAbTety3cN1/5GdtXW6ztWaX0dm3hcut4bLdpfa70ti2sz7FY8Nhkmfm8LbbHY7s+sda3FRLu01rftnDd8o7n54DbZpG6mWMq61itYym3XdgGpdqPxfpseZ8jP2r7JcdmrWcVLrOF0sIxqBPOTpBo+L1g2yfK2355sP625/Ju/Jj1yzwe83d5cHu265a3vtWWt85Ryb/5edvlVrGWW9uzltseG98vXR+uY71/6zM22+Fx2MLJqba5bZMbUpzIbLXzahmrzZteo0+Plmf9WtFeW7hfs/U79m8h75fs3zoGvpZebhUel/WqKIqiKMrPi0ppBZNSqzBqynTehFgf3PC9AlfnM3BzOYvr107D7fpZRIS6SX2LC9vNH5Fh7vBwPV+8Dtc1n+HsvbGRntJ2PzSmlBeFnOiH0SHr4o4TDjGFtvTMmIryS0ORYASf/dE2XVj5bcPfET4Kh4/54dhPPiqHz+2tvaq2pDHzZhijr+WJp6IoiqIo/x6olFZQKWVhXfmamRaKwtwY3CyIxc38WORnm8ZPCriV8ssSH+Mr0VVGTLkO1y3Kj0FWehgSzHa4zg9JqaIoys8NZZNjOdc7r8dC+4UywzDTtfnKceyKoiiKolQMVEorsJRSJPlK2UxLDjIlUF7ZDqyrJaTWulzG92zX5WcppVxHpVRRlF8aRkuZ2ssx4FbaL4uiKIqiKBUHldIKLKU/V0mI8Za2USlVFEVRFEVRFOXnRqVUpfSuRaVUURRFURRFUZT7hUqpSuldi0qpoiiKoiiKoij3C5VSldK7FpVSRVEURVEURVHuFyqlKqV3LSqliqIoiqIoiqLcL1RKVUrvWlRKFUVRFEVRFEW5X6iUqpTetdyrlOaZjpCSnYLU3FQU3iyUZZnmpCdnJ+uD7hVFURRFURRFuQ2V0t+BlLJeyab+LKXraPte6WKtc69S6pfgh1n2s7DceTmiM6Jlmd0NO3x37jtcDr+M3EKNsCqKoiiKoiiKUoxKaQWWUtY1Mc4X2Rlh5lwkADcTkZsZIe8lxPrK+2nJgSjINeJo3gOSSkoyivLjzHvBZh2zXrTXPUnphdALqL2mNj7Y9gE84zxl2YzLM/D8guex/NpyZJhOUBpGTx0jHLHdczvc49yRX5hf8s4vT1puGk4EnsB8h/nY7rEdwaYdrIjvz01GfgYuhFzAuivrsO36Nvgl+pW8oyiKoiiKoii/D1RKK6CUUjhZMtJCkGWENDzEFa7OZ+F+/RzCQq4jwaxjRUPZVkE3rsLN5Syu2B+Dw6UjsL94BNfN+uEhbrJOUpzPj5ZSRkH3eO/Bx9s+xogTIxBs2jUhKwGTL0xGs03NsMtrF7Lys0rWvp0Dvgfw5YkvJaqanZ9dsvSXJyYzBpMuTMJz857D28vfxk6vnZJ2fD9Iz0/HUselqDu/Lt5a8BZWXl/5m0hvzjHfG8p4aEooCor4Zf5loPwnZiciKZs3Ryo2sZmxuJF0Q+qrKIqiKIrye0altIJKaaIpeTlRpuEDsX3rSvTs3hEd2rfE+rULEWvaJyc7Qt6njE6d9BXatfkELT95Hy0/fR8ftGiKEcMH4PJFO2SlhyIjJVC2+0NSevPmTZFNO387jDg2ApPOT8LZYCPCse5Y5LgIw44Ow2b3zbdFHSlfjIgycsroJCOlFECPWI87IqVFN4tEVLPM/m0liWNVOXY133S08sjMz5Ttp5n+YCu7PI6yIqBcd7/vfjRa1wgPT38Yc+znICUnpeTdYlhfihv3n2c6P4/PdjnrlGvax1puC4+B+0jNSUVyTjJOBZ5Cu83t8PC0hzHq1Kjb6ifbM182HrvUoeRz3Mf9QI49NwOXwy5j2qVpWHt9rdTRgueM66Tnpt86HpYfkna2g+26LGwfbse2/Vlvtxg3LHZcjNUuqxGZbvpZybnjMZSWY45dlu2Y9rFgv5FjM+3FV+6j9Dng59hnbh2PWZd9t6xzRbg+t2V9hu1v2yb8HPcjfcGsS6x2sq0f+yjbwoLReH5P2OeTspLkGH4LNyQURVEURVF+aVRKK6CUMrrJ+kSEuuPwwa348ouBqFGjKv7xwN/Rt3dXRIS5m3OTYFo0BUcObUP9erXw8EP/QIP6tfC+EVL+3bdPF5w/e9BIaRgyUoMkupqdmVCulPKC/eiNo3hv43sSYRxgNwBrXNdg/NnxeHXRq6i+ojo2uW9CTEZMySeKL9J9E3yxxWMLVlxdgc3XN+Nc0DnEmm2brlOyVjGUgtOBp7H56mZcCLyA1LxUiTTt8NyBhU4LcSXySplSwf3t8t6FVVdXYcWVFTjid0RkJz4rXsa3BiQF3PE5S5YpZNVXVsdsh9lIzLo9mkWxvBh2Eeuc18HOxw4hySGyHUaK7cPtRar2eu+V5QXyZSiGE0Ad9D0o9V3muAyHfA5JNHm372403tgYo06OuiU2JC4zDidvnMSaq2uw1mWtFKZAnwk5U27E+afCc3jsxjGsu7oOXx3/Ct32d8NSp6W3pVuLRAedwvpr67HKeRXWuKzBymsrJbqdnpdestb3sD14c2KNc/Hxr3NdJ2WDywbs9twtqdoWTF0ef3I8Xp7/Mt5e9TbmOszFFvctWH51OfZ770dYatitc8VXnwQfbHLbhB1uOxCUHCRi7BzpjLXX1mKl00qsdl4tcs0UaQuKrUOEgxy71Z6rr67GYd/DiEiLKFnreyiavFnCvsntrbu+DquurZI+FZsRK+tQVC+FXsJml83SDok5iXKsp4NP44b5baGYsj9dibgibWGJKr8v/Q73w8DDA7H8ynLpyyEpIfKeoiiKoijK7wmV0gokpQmxxSXNXKDfLErEsSPb0bbtJ+jfryvGjxuOunXeRueOrRES5FIipanYuX21CGuL5o1w+sRu+Ho7wOHSUTg5HEeoWS85wd+0i+9d03eDUoIw7Pgw/HXKX/GHb/6AV5a8gnrr6+G1pa/hv777L/zvxP9F+z3t4RjpeEssKHb7fPfhvc3vodKiSnht/mtos70NTgaevCPyGZURhTEnx6DSrEpoubYltnlsk1TgDzZ/gJcWvSQRRp94H4lOEV74U6B2e+/GB1s+QPUl1VFlfhV0391d5JiiwxRjClJ5UdZtnttQZ00dzL0y944US6aXTrk0BS/PfRkNljbAZrfNIkWUmBmXZuDZec/iraVvyXJLHjn78LGAY2i9szXeWvIWKi2ohDbb2sh+Vl9fjeabmmPcmXG3pIUydSTwCPrt74eGKxrinXXvoNHaRqi1uhYGHx0M+wh7EaKfA0bwTgafRPvd7VFtXjW039IeWz23Ijo9Wo6Hok6huxh+Eb0P9EbtJbVRfXl11FxZE1WXVUXHvR1xJviMRBEJI7xsf4r/ILtBaLC6gRx7k41N0GhDI9RYUgOvL3gdX5/9GnlFxRLOiGHdFXXx/8b9P/xp6p9QZUUV1FtTD28uehOdd3fGhbALt6KlfN3ru1fef3nOy5h0epJEnCednYTay2qjyuIqciOE0d64rDj5DPsbI/dfnfkKdVbXwTtrTXuua4T6K+qj686u2Om9E0k536cN8+bA1cirGHd6HN5b+x4arGmAxusbo+6qumi5o6XsnxF03lSYcm4Kqs2vhtora8vNmPWu6zHwyECsdFkJf/PduRZ5TVLTebPmWtQ16Sv87Pmw8/jiyBeotagW6q+pL5OD8UaEoiiKoijK7wmV0gompYlx/pJyC6Rjy6ZlqFLlTQzo3w2bNixGu7afoluXdggJdDbWFm/WSZHU3nr1aqJ/367I4YRIQoZMfmS1V3zM3Sc6oqTxop4X+c/OeRYd93TEtMvTMOToELy88GVUWlJJ5I4X8FaKIi/6JV3TaTEmn52MWitq4cWFL2Kl88o7ooAUNArs+2vfx2PfPIY6i+pg6NGhIoCz7WeLEI85PQbnQ85LdC4mPUYiioOPDMY3Z77BjPNmvfOzMePiDAw8NBCvznkVf5z0RzkmSwJtofSsub4GNVfVLFNKKTingk+h+frmeGrmU5KGSQmj4FI8KZj/mPEPTL04VSKIHFdLUWF7UDxnXZqF2ReKj+fLY1+i8bLGeHHOi5h+ebpsn21DeWa9vj79NZY4LMESJ1Mcl2Dp1aUYd3Ychh0bJiJnieBPhftiunI/u34Yfmw4Jp2chL0eeyWabEFpZYR3xPERGHl8JKadnYbZl2ZLPXgOvjr9lZyPrR5b5XiYAsybBpSwsWfGSkouj53nZJHTIvTe1xuPzHgErXe1lnYjbrFuGH5kOF6Y9wKqLK+C8WfGY6HDQkw6N0kilBx/aRsp9Y73lsjy4zMex3NTn0PnbZ0x8dxEzLwwEzMuzMD0C9PlXLAv8WbF8YDjGH1qtBQeixTTpoxYf3fmOww5NgSLry6WmweEfYltzHT0uRfnYpnTsuL2d1wqE3d9fuxzLLu2DNdjruOY/zG039oef/ruT3hhwQsipOz/vJHSZ0cf9NzVEyNOjhAx5Q0U3gBgH2Pfcwh1kL459uRY9DzYE3Mc5iAi/c6oraIoiqIoSkVFpbSCSCnHkSaZumdnhItQujqfkbTd9u0/w6qVi7B18wp8+MG76Na1PYIDrpVIaSp271yHalUro9Kbr2HalHHYuGEJnK+ekm3k50TLtuPuYfbd6Zemo/GGxiI5xCveS6JKfQ73uS0NlFBOC4sKRYo4LnDi+YmStknpKr0uoWzygv2fM/6J12e9LmM9rQlxZjnMQvVV1UV4KIFecV74dPunEg31jfeVcZ/cF6V4weUF+GDNB+iws4OkwZbF3aTUgpLF/X577lsRT8L6bHTbiKorq2LqpWIp5WNyuu/vLlFCpnHyWBhNZBSPUdtaC2rhsWmPST0Ix1L2PtQbbyx+A/0P9JfoG4+HEdXNHpslcvjEzCdEBKPSo+Qz90JOYQ5colyw1XmrCNfIUyNlMiqO52W015I/C56Pz49+jrpr6kqaKdOpCwoLRFZZ37MhZ1FvbT30P9xfxg1z7C8FtceBHhKZZLosC9OamVo7+fxkDD02FOvc1t0W7WVK6wdbP0DnvZ0lldUao8tzX/qYCMWUE2g99N1D6LS1k6RUsy9Zfcoam5yWlyZ9540lb+Cz7Z9JhNxqzw1uGzD0yFD8c/4/JZLL4yecRfrLk1+KLC62XywpyDx+3lyg/L65+E202tEKzjHOcjOC9X1u7nMi2+zD16KvyQ2QZyY/g1abWuFc2Dm50VBnbR3MsJ9xq78QtiNTzZkO/fnxzzHl/BSsvrIapwNO60RIiqIoiqJUeFRKK1CkNDUpQFJ3/X0cMPHb0ejVowMO7NuG+Lgo2B3eiSaN66FP767SPnz0S1FhIk6d2INPPm6Bp558HG+++Spq1qiGCeO/gI/XZdNuIaZtApD4I55TSmngmLwvjn8hKa+8KPeM9cQh/0NotrkZ2u1uB+8E79smiCkNpaHu2ro/+NgYju+ssbKGRNQseSAUx8rLK2PelXkiOZQrys1H2z6S8X0WlM2I1Ai4RroiKCmo3HGZXI/CQimdc2VOuWLAyZvqrasnQm0rGZzEhunL0y5Ok+NhanGnvZ3QcH3D28ZRErYbI47VlleTZ7kSHlefQ33w0NSHJK35va3vFZfN70m93lj4Bl6b95rcBEjI/n6/P5aU3BQZG9lieQtUXVgVA48OxMXQiyXv3gnFmtE/pg7zhgOl2haO6aVs9TrY69ZjbShZTOnl55qsa4JmG5vh3Y3votmaZiLVG903Slo229qCNwl4E6PngZ4yZvhucEwwbzy8v/F97PPah6yCss8n+9MCxwUSxX9y5pN4f8v7xe255T202NoC1ZdVxz9n/xNd93VFZFqkfIbnc7/ffgy2G4z3172Pd9e/K5/5ZNsnaLK+Cf4+9e/yb484DxHmHV47ZAwybxTw2HlslOvaK2pjk+smEVdGtpmWPPni5Nsi0RYcgzzdfjoarWmEOvPrYNTRUfBP8i95V1EURVEUpWKiUloBpFQe/5IabBo1BM5OJzHuq8/RpXNrrFk5F4nxgeYEpGHP7s1o0KAWevXshOhwD9MuccjPiUKA/1Xs2LYKUyePw7ffjMLY0cNknfHjRsDh8lGz3RCkJ1uz75Y/0RGjdbPsZ+H1ha/jgWkPiKBwnCEF6rFZj+GxmY9h0NFBcI1xLTPiRZgGymgbo1FlySKllBfzDTc0xJJrS0qWFkMZ5bNRmU7JVF8+H5WR0k+2f4LgpO/l1YLbYhSttFxZMEK33m29SBhlhhJXFjzWmqtryiNkrKgtUzL3+OyRNmCbMGrom+grEwdxMiOXaBdZz4KRwF0+uySKOuHsBFnGSGnfQ33x2sLX0GV3F8y0nymFaaMUUaamckIftidvCNwrlDc+H3XeuXkYe3SspAlT7Bmd5PHYiiKh1DGVlTcN9vnsuyPlmWNH66+vL5FS1pXwPHNbB/wOYOr5qZh+0Rw3j/3cdEw4PUHSmJmSbXuj4njgcRHvLvu63DG2ksfEc2bbfzziPWTMcH+7/jLxUXkwUsqJkxh5brGxhaR832rPy9Ml3XfZlWUi0VbfY0R74oWJGHt6LKacnSKp1oxwLnRciHGnxuHNJW+i3a52kg3AY9vouhF119WV6C9hFJfvt9rVSsaREk7cVGNVDdmO1V9YH0ZKec45gdLwE8Mx8thITDk5Bbs8dskjihRFURRFUSoyKqUVQUpjfJGXHYncrAjs3b0Or7/2MipXfh1TJn+FbVtXYtXKBejfrwdeeOF51KpVHatXzkNwoDOKjJgWFiSIzCYlBCA+LgShwW4Y0L873q5eGWvXLJDnnOZkht119l1OiEMBe37e8/j/Jvx/eG3Ja2i5syXe3fyuTH70x2//KFGjq1FXy5VSSsM7G96RCBov0suCAtFkcxMsd1lesqSYJVeXyGeZlslJZDg+keM6KcVlpbdyGWdKpbwWFZV9PBwjS0nmGFcKQ1kwXfjNZW+KlHL2WsI6dt7TGS8velkmuqEAe8Z7SrSY22MU14Jyx8l0Bu0fhDcWvYGZDjNlOSWq7e62Elnl2EwKDAsjtpwJmOMeKU/lSfXd4DlgnRIzEyVyzLTSfof6SaR28aXFOOl/UmaRtWCklML59sq3cdDv4B3n8Gr0VZHzHvt7SKSUksaUZacoJ4kE85illBz/iYATkirbdlfb22ZkPuR3CPXX1Zfl1uy2hFFLzvrL2Wv5+BSLgOQAufEw6MggiUyWB9uLwl9peSW5+XFbe5rC9ynHlF6eL8L13lrxlkTK+bxWa32mgLOvvrnwTTnPfkl+0h5Ma26wvoFEzwlTyFmPtnvawjXWVZbxPUbf+V3h2FvuyzXaFaudVmPW5Vki11MuTpH+G58RL4+rKX2DQFEURVEUpaKhUlpBpJRCSjE9arcdtWu9jaeefAL16tZEo3fqmlIHlSu9hr///W94+OGH0LNHR9hfskNkuDsiwjxEOgFrBtpUDBvSB88/9zQWLZgmUpqXHXFXKeUFPSNL3fZ1A2c25QQ/nGSG0sZZY1tvby2PyOBFvXXRzwt5zkBKmWBUiWmPry55Fd+c+wYukS4ISwkTGbIITw2XmVxfWfwKRp8cLTJDKaO8jDwxEq8segUTzkyQ7XGW1V4HeuGzHZ+JyHBcKR8/w0d0XI+6LuMbOd5xt8/uW7Pv8riYastoIVOPp1yYghcXvSj7uhJ+BaHJobcm5bHg42yabmoq0TSncCd4xHjI+NIHpz+IP0/8s0QEedxM2eUYyhZbWsiEQTyOgIQAiaBxIp/XZ7yOv3zzFww/PhzxmfHSTpwU6dMdn8pMw9xGeFq4pCKz8Bi5jCJcnuTfC2xLSlWr7a3w9vy30X1nd+zz23crWknR//bstzJ+k5LOevon+EubUj7ZjkzT5sRDTH/leaW4fbj1QxFeiimPn4WCt8d7D5pubCrjbG3TdHmu2uxqgw57Osj40IDEAASa7y1FmFL87flvb6Vts2/YBdjJOGRGSxnB9U80x2TONT9j23d4Xnk87256t3giIR6PaT+rPXlM7G+UX6s951+Zj7dXvy3Rea9YL0SlRslnjgUekyg8z1fzdc1x5MYR6W+USc4EPebUGDl/FMvWO1rLrLq7vXbLTQRO2PTWsrckYsy2YOov+0jdJXVRd3VdcHIkpnpb3xFFURRFUZTfAyqlFSR9Ny3ZXISbOvh5O2D92kUyLnTUl4Pw1ZjP8e2EkejQriWefPIxmdBoyaIZ8PK4iE0blmDSt6Nx5uRe007xKCpINtvzx6ABPSXSunrFXJHS3Kzwu0opL/L5XE9KCSd84XMj7cPsZfKc7y58J8JaGkZDz4WcExntsKuDTELz52l/lrGVnbZ3kot152hnWZdRPUZDKy+qjP8c/5+ot7JesayZC3tGVqssrYL/+vq/UGtZLZklldE6SjAFsef+nui2qxt67OuBHnt7yOM/KKyMunL7VioqI1J8ZA1nu223o51EBf936v+i8rLKaL21NcadGCfpnaZby/qEEsRoKCfK6b61u0Q8R58eLRPgPDjtQVRbUE0mVqKUngs9J2NMOe6y255u6LazGwYeHCiPHOm5oyeenfosXpz3oqSHUpTOh54X0emzvw967O4h4yyt0mlXJwyzGyZCZPsczn8FbofP/Zx4YiIGHBiAvof7SmSPkyIxmuwU6SRjevse7CvSyrZkm7IunJSJkzpxciDOTMwJnNgX/jDxD6i8tLI8Rob15rnovqs7eu/vLXWT9Y3wWlBomcJKsWPUlY/wYem2t5vM/MsxmZY4Ulr5CJu/Tfkbnpj9BD7c9iF67e8lbcUbCZxoyIIRUM6Sy9l1B9oNlJsnPHarPbvu6op++/rJzQorVds7zhtLry2VGyE85h47e6Dvgb4y+REjs+yLL85+ER9v/ljSjWusriGPPmJaLx/zw/3zeJ6Z+oz0uStRV2QCLI65pvAyVZnpwWyLcUfHYa793FvjcRVFURRFUX5PqJRWkImOKKbFM/D6i6BywqOMtFBTQuDqchZfDB+ARx55CNWrvYXdO9YgJNAFy5bNR4f2rWWW3s0bl2LLhqVYumg6+vTqjIH9u8tzSzO5jdTgH5RSjr+8FHZJ0jc77ekk0sBI2dhTY/Hm0jdlwqCyoIwwhZbP7eQzIN/f/L6IRfONzfHumnflYp1jFQnTKykxH2/8GE1WNkG7be1kQiRexC9wWoAPN3+Ipqua4pONn2DO5Tm3UkL5+S57u6DpmqZ4d8O7aLy2MT7c8KFEqkpPNENxoThSAuuvrl88qdC2D9Bicws0Wt1IZIcTN5UeT8m0Tj4q5JNVn6Dzjs44GXJS0jWHHBmC5qua49uT3yIwJVDWZeouZa/h6oaov7w+eu7pKWmpjLR9ffxr1FleByNPjhTZJhSpL498iSarm8gkQUxJZuHn2QacXIepvj83PJ8UQwqybcSRj2UZe2IsWqxtUTx50YZm0qZ89A7HVlpwDOpen70SqebzQOW4NzdH0w1NZaKjoYeH3rrhUBrerDjifwRtdraR55vWX1kfAw4NkBsGVroybyCw73DMZov1LaTvcNIiTkbEvsMI7KXwS7KuLewXPPcN1zZE0/VNbx1X4zWN8dHGjzDz8szbJo5ipJizPH+04SM0XN4QH276UKL/bAeOJ26/rT2arGki22A/4YRL7GeLHBdJ39xwfQParW8nQnss6Jg8a5UiysfTMPrLmyaMJHN2aEVRFEVRlN8rKqUVTEpZFz6nlOm8fA5pZnoYNq5fgsbv1MUDD/wNTz31BHp0bw+HS8cQHu6PbVvXoW2bT1CtaiVUqfwmqhlppaQ6ORyT9mCbJcT6ICmu/Nl3KaUUBqamMuWUKaVMc+U4y0brG2G753ZZrzSMdlEMOVmPU4QT3GPcRWz497WIazLe00qXpTBytlzPGE94RntKOiXFjRHU0NRQkT15zxSmtlqT/zCtmNu5GnEV1yKvySvTdxmJLJ32ynpQMLltHg+foeqV4CVpmPwcU1YZASydWsm/OabWNcJV1qEkUpp4XG5RbpKCyughySvKkwl5HCMcJXrMcYeUPh5LlPlSOEc6SzosJwgiFHd+nvvn2FOm+7IwVdgt2k0kq0C+bD8vjJqyvVkH2zGNlCcu53HK8bBNzSsjxrbrsT68kcC6cGInOe7o4nV5bpn6W9ZkVhZMt2X7W+1k2yaEbc6+c+u8x3qKwFvb5/LSqdYW7Dfsr7fak8dl2pcp40wNZl+zYD2YBcA+4xjuKI/RYTSXfYXbZ6ow24DbYL/l+eQr243njjdofM33kn2K/2bfiEyPlPGkTNNmRkFZs/AqiqIoiqL8nlAprSBSahXWIdnUlXXKziweC3ri6E7MmfktJn03RsqSRdPh6XYBhfmJCAvxwPq1C2XW3dGjhmHC+C9x7Mh2iY5yjCq3F/8jnlNKOeIsq0zHpTywcJKbvd57RSgURVEURVEURVHKQqW0gkkpS0JsceQ0Sf7ti9gob1O8RFBZ/5gITySY1/TkIKk3I6GRYe4y8VF0hIdILaWU7ZUY54uEHyGlTGmliDL1klEk/pdnOkSO6Si2ETRFURRFURRFURRbVEoroJRahULKiYuy0sNQlB+Dm4VxuMnHwORGI03awrRTgr9ERGHeQ5Ep5jU7I8zm80ZKzXp3k1JFURRFURRFUZSfgkppBZbSn6uolCqKoiiKoiiKcr9QKf0dSWlxWu8Pv1fW+yqliqIoiqIoiqLcL1RKNVJ616JSqiiKoiiKoijK/UKlVKX0rkWlVFEURVEURVGU+4VKqUrpXYtKqaIoiqIoiqIo9wuVUpXSuxaVUkVRFEVRFEVR7helpTQjNcE4XCIySsRUiohpmohprhHTXBFTldLfTfkpUirPKjXFwvqb/ymKoiiKoiiKoljYSmlqSpxIaWaaKRlJZjmjpaYYqczOTkNOTjrycjOMkGYaIc02IppjRDT3VikqysNNI6FQKa1Y5V6lNCk7CVcjr8I91h2Z5mSTQNP29uH2iEyPROHNQlmmKIqiKIqiKIpSVFggKbqpKbHIyEhEjpFPuly+kc8C4xOF+ZkoKjClMNsIZ46RTRbjIjeNfILiaVvoGixFJeWmkVKz/axUldJfoyTE+sprekoQcjLDkZsVIfW0fa/0OnnZkVKyM8JMuwTI+/H3KKXOUc7oc6gPRp0chaDkIFm2wXUD2uxsg/2++5Gdny3LSpOcnYzItEik5aah6CY70K9Dgem08ZnxCEkJQWxmLHJMH7pfEV7uKzErERHmyxGbEYvsgrLb5rdIVn4WojKipK1+zfOlKIqiKIqi/HtTWCKl6WnxyDUiSonksvyCQuTnm9d8m1cuMyWvoOiOkpvPchM58lpkrrWLr+Fv3ixEdlaaSumvVSiWGaZulExKaUZqiCynbFpCKuuY5VlpochKD5N1+XeyaRdZ7x6l9EzwGby96m18vP1j+Cb4yrJJFybh2fnPYvm15cgwnaAsTgWdwjyHebgcfhm5v+J41cTsRGx024he+3vh6zNf41rUNeQzBeA+kJqbij1eezD64GiMOz4OF8Mvlrzz24aSznO75NoSbPPchizTL5R7Q1PZFUVRFEVRirGkNDM9EQXGA4xXIi0biEkBIhKKEB5XhJDoAgSbElRSAqMKEBBZgBuR+abkwd8Uv4h8+ITlwys0D15heQiNz0dmDiOlRcgxUpqUqFL6i5Z4I5PZGeEimG4uZ7F31zrs2bkWzldPy3sU0cQ4rhMq63i4XsC2zSuwbvUCKQf3bYKfj4O0WUoC2+XHSWlKTgo2um+USOkCxwUITQkVefnu/HcYdGSQCGtuYdnCedj/MMacGoNjAcd+1Ygho6NTL07FIzMfwaOzHsVKl5XlivS/SlZBFpZfXY4qc6rgkSmPYNrlacx6L3n314Mp2I4RjnCNcUVeUV7J0tvxjvfGxAsTsfjqYqTnppcs/dfIzM+ET6IPAkz/rOgwi4A3YILNb4+iKIqiKMrvmcLCfJHSrAxKaR5Sc4CQ+JvwiSiCe3ABXG7kw8knFw7eubD3zpNy2SsXFz3ycME9F+fdc3DOlDOuuTjpnAs7xxwcupKN8x7ZCI0tQE5eIdLSUxEVHWY8MVyEVKX0Fyo5mRGICHXDgnmT8U7Duqhc+XVMmfwVoiM9JWqamRaKgtxohAVfx9zZE1G/bk1UevNVvP7ay+jYoRVOn9xTEjUNRoLZXnZmQrlSyvRNRv0WXFmAlttbYsblGbgadRVnQ86i/+H+6LqvK44HHEdCVsJtESIKampOqkiQV5yXiFCU6Rylx51y+xyfmmbOqSW1lDem+jL9tTyJ5Xa4DlODk7OSkcF0gJJU07zCPORLHvrtcLlXvBeGHBmC5xc8j9kOs5GUk1TybjHcBtNXeexMRy4sKj5eHhPFinLO19L1YN3T89KlvjwmHhvlbvyp8Xhl4SsYdWrUbVFZrs9689ilDqYwkst93w9YF7bRQd+DGHB4AGbZz0JaXlrJu8XpxhR0HkdIcoicL58EHxQUMn+/bHisVn2twnbjdmzryn8zWt7vUD9J/eY4ZLYh12c7lZZjRtO5HbaPdU7ZN27tJydZPs87Y7bk5OfcdjxJWUnF/aLUehY5hTlIyU659Rm+sq9b+7ytL5T0Q/YHLrOtH9PAbc/bXu+9cvNmoeNCxJrvE9+z+pGiKIqiKMrvCUpptpFSBsHycvMQnQx4hxeJlPqa4hFaCJeAAly7UYCrNwqlOPkXwNG3EI4+BbjinW+ENR+XPAtwzq3AiGm+EdNcHHHMhkdQHlLS8xGdkATvG0GIjQ2VMaqFBVkqpfezMAqaUxIhnT93MoYN6YOPP34PTz31OLp1bYvQYBfcLIgzLZoGf18nTJsyHp07foZhQ3tjzKghGDq4N2bNmADnq6dESNOSGFWllJYfKY3OiMa8K/Pw0vyX8Lcpf0Pzzc0x8MhAfLT9Izww7QE8NespjD8zHr6JvrBm5aVUXAi9gOHHhqPr7q4YdGAQljktg3+C/x0yF58Vj6VOSzFw90Ass1+GkLQQ2dboE6PRemdrbHbfXGbKL+Vy7Kmx6LGnB7ru6IpZF2bJBEx+iX5Yc30NLoVfEtEqDY9xs8dm1FhVA7PtZ4v42kJJWu+2Hn329sHkk5PhGO4oAkIJ4rF029cNY0+OFWmj5FqEpoZi4vmJ6LK7Czrt6IRJZyZJNNIu0A7vb3kfI0+OvE2+biTfwLxL89BzV0/03t9bSqc9nbDYabG0yc8Jx4bOujwLfXb2QZcdXfDFiS8kem0b2Q5KCZL26LunL/rv7Y/vzn4nNx5s5csWyvmSq0vQfV939N7XG30O9pHSf39/jDw2EnY37ErWLE77brutLf468a94fM7j6LCnAwYcGoDOuzvLflxjXW9JG1/Php7FYLvB+PzQ57gUegkJ2QmSCt13b19029UNPff3xAa3DSKRFhRhpmbzJkmvfb3Q+0BvdN/VHVPOTJHtl4bneav7Vgw5MATd93ZHnwN90G1PN4w+NVr6FuGNlg0uGzBo3yBMPj9ZIqDXY67LOWL/Zl+mcLJfLLu2TISWXI++jikXp6Dnvp7osbMHhh8dLjdyFEVRFEVRfm8UFhgpzUpBTlYScoyUBkYXwcEnX0TU0wipWzCltBDOplwLKJJy9UYRHP2K4GSKo28RrphyybsI5zyKcMqtEEev5ePwlWy43shDfEoefEPjcd7ZD6ERIWZ/KqX3rRRPSuQrdQGycPDAZtSvXws9erTD3Dnf4b3mjYx8tkZ4qLm4z4uBn+9VLJg/Ff37dcXSJbMQHuaPlOQ4REX6IyzEFdGRXsXbjvW565hSytaY02PwyIxH8Mfv/ojKyyujxZYWqL6qOv406U8iqt33d4dztPOtCBOjcpQSSmW9lfXw7KxnUXdVXezx3nOHYDKl9ttz3+LVma+iyuwqGHNsjMgRo7J119bF4CODYedvh7DUMJEAyiFljynEn2z7BI1XN0ajFY3Qc09PEYfee3rjn/P/KSJdnlBt9dyK2mtqY+6VuXdIKWVrvuN8PD/rebw08yWJdlF4KHBc/vScp/HozEdFTHgsjLZ5xHlglcsqqe87a97BOyvfQYcdHTD78mx8dfwr1FtVD9+e/1aOn23kGeeJ1ddXY8ihIeiwtQM67e6Ejrs7yoRRnx//HDu9d0pqtK00/lRuJN3AIqdF0p4NlzTE5wc+x7mQcyJltlg3ApqtbobK8yvjhfkvYOyZsXekNzNiyPZf67JWbk6039kenXZ1Qpd9XdBxb0c533+d/FeRQ7YPOeB3AE3XNMV/f/3feGD6A2iwvgHe3/y+9Il+B/vBPsL+Nik9EnAEjdY3woOTHkS7Te2w0H4hRh0fhWZrm6HRqkZotK6RnDtGudmmlEXug/207c626LCrg7Rn+23t0f9Afyy+thguMS63+h7bZL3repHFzjs6o8PO4nPQbkc79DzQEyucV4h8eid4Y+6luagyrwqemPmERJiZrt7frj9mXJqB3W67sfbaWomK8nN7fPdIWjtF1T/JXz7bfFVzOd7Rp0fjUljZN0oURVEURVEqKpaU5mYXS6l3WAFOXsvBBfc8I54FRjxN8S004lkIByOfUnyKcNlIqFUumHLGqwjH3Y2QuhbgkJHSQ47ZcAvKQ1xyHq77x+LwRS8EhAaLlBYVqpT+7MWauCgtOVBSclNTIkU4a9aoilGjhmL71hVo1+Zj9Oze0bSPj8y0O2/uZDRt0hDDhvbBubOHcOOGOUk3/JCeHm1aO0XGpLK94qI87yqllBI+BoaS8dayt2SCIArAMudlqLe2HpptaoYTgSckumel7/LCmzPccgwpI1yfbf8MLy18CUuvLr31KBkLpj46RTqh195eeOSbR/DS9Jcw7Mgw7PbZjUP+hyRy1X5Xe+zy3iWyy4geU0A77+2Mja4bccD7AA55H8I2j20YengoXpjxAh6d8ahIoiXJtvDYKIQ1V9UsltLs26WU0U+PWA+JXP5z7j8x4dyEWxE5t1g3DDo8CE/OeVImeOJ4y4j0CBGVNrvayGRPTI895HMIOz13YvTx0SLaT057ErMcZsk2KEaTL04WSRx3chw2u27GJrdNEuXb7rkdI06MkDalmDPCea9Q0ijagQmBcI12lWhm38N9RaL3uO+BS4TLLVm0hSmxV8Kv4IDXARHpFxe+iM77Ot8WjSTc9hqXNWi3qx2+OvOVnINNrpsk+syZmCmPVZdXldRubpOEpIZg9qXZqLG8BppsaCJRziM3jshNinPB5yQab0XZ+RqeFi7n6NWFr+Jv4/+Gj9d9LMd/0OegnO/9Pvsl+smbDhRAtl3rHa0lLXuL+5Zb7bnNfRu+OfMNPtj6gdzciJb+D5wIOiEiOfLESKx0Woktbltkfb5yQq7PdnwmfYzRTbdoN4w+Nhr/N+n/8H9T/w/Djg2TsdUU2oaLG+Kj9R/JueVYZUaAuX+rfYOSgnDY+7BEUnmz4avTX+Fs8Fn4x/lLKvvPcdNBURRFURTlt0xpKfUKLcAxpxycuc7xowW4Iim6BfLvy96FxcWrEJdMuWjKBVPOmXLSsxBH3Apgd70AB42UHjRS6h5cLKUufjE4eMELgSql969QSJPjb4hsZqWF4MD+TRjQvxu+GjsCx44a+dm+Fs2bNUSfXl2krlxvyODeePzxR9Gs6TsY+eUg9O3TFb17dcaO7auQZqQuPydK2iQu2uuuUkooclMvTRVZOuB7QC66PeM90WZ3G/Sz6ydj+X5oxlFGLeusrSMpjqUjbxZLnJfgzQVv4p3l74jQWVHOuQ5z8cbSNzDHYY5E9yiGzTY3w4dbP5QLe4uU3BTs89qHMXZjMPPSTDm+smBdmN5bnpRaUCTqrasnwsk0ToujN45KBHfapWkipRw32m53OxF0yqwFZdvOzw6t1rfCc3Oew/TL02U5pbzr/q6S9vzplk9l+4yifnPuG2njd9e/i79N/huGHhmKqPTv6/djycjPkP2OPjRaUl0HHR2EddfXSQT4x0JxYjS816Fed7QPz8HRgKOYcHaCpAGPPz1exG/CmQn4+sTXGH9yPOZcmYOLYRdve0QQU4Fb7WglqbdxmUwx/2HC0sLw6fZP8dLslzD6yGgZ31oWPAcc58w2rr+qPiadnySRd7Yn5b/t9rZ4ZPojEnm1HmPENG+OqWVkeNyJcXL835w37W/EcojdEDw5+0l8sPkDuES7yPoH/A/g9SWvo8ryKnKjxD/RX9J9n5n2DAYeGChRUd5E4fu8WVFW+vXpoNMyrrjn3p4YvHuwyDBvaCiKoiiKolRkbklpSfouI6UnnHNxzj1fxo0yUsqxow6m2PsUFpcSMbWk9Lwpp4yUHnUzYnq9EIeNlNpRSoPyEG+k1NU/BnaXvBFUIqWFKqU/f0k29Us3F9PREZ44eXy3COfnQ/vgmtM5ZGWlw+7QLrzTsDb69+uO3MxIiaaOGT0UTxgpfenF59GkcX00qF8L9eq8bT7bCyeO7TTb8pDIa1Jc8aNjfkhKGYlyjHREx10d8cbiN8BZdPlMUqa11lhZA++sewcH/Q7+4DjImZdnisgxLbI8KaW0cZ3pF6fLPi0opXwMDVNQOZEQU18/2f6JpO4GJ98+uymjkJQUppiWFSUlP1ZKOa6UIk3JsJXSI/5HRFanX5ou+2KaLSWz0YZGkvJpCwWUUUGu/83Zb2QZZ+UdYDcAj09/HG8sfEPk770t78lYXb7WXVkXH274UCKQ1hjFe4GfYWrtx6s/Ru2ltTH02FBJ172XiXZOBp2UGxCMJpaOlDKSyQgf06nHnRmHxusao9mGZsVldTN03tUZa1zXSNp3fuH36dOng0/jo60fodv+bj8qAsxxnbzxwIj4lYgr5Z5PSvgix0V4cd6LeGb2M5IW/N7m79uz4eqGaLK6iUiqtV++7vPdJwLaYl0LNF3fVNalBL+74V08PONhSaXmDQf2F96gYLo3RZZ157jl9rvbyz5YL7YJI/XVVlaTmxXx2XfWj+I6w34Gmq9vjkaLG4kMc1yxoiiKoihKRcZ2TGl2Th58wwtw+nouLnoW4KpfEa76F0oa7xUjow7eRVLsvYpwybPIrGOklBMceRTglHshjhshPeZixNRI6VGnHHgGFyA+JR/XVUrvb2GU1Hr8y+kTe9D6s4/Q8tP3sX3LClNff6QkhWHj+qWSytu5UxuZkZey+eUXg1C58hsYMby/fO7sqT3Ys2MN+vTqjA7tW+Lwwc3mRIVK5PVus+9SPjhW7/GZj+O/v/1vvLDwBTRY10AuwP8y+S/43+/+VyJgHBdYnjgwklV/bX2RQVvhtOBFPaNaDTc2xAqXFSVLi+Gsv5Q66/Ett6TUFKZHlgWPg7PGWimhpWH6JSWDolteBJECzXGzfDSKJWY89hXXVogkU2gpv5RSilbjDY1lghtbGC3l2EVGUTkJEqFEcfxh9RXVMfXCVDhEOEjheEMWptD6xPlImixTce8VRpj5KJLLQZexx3OPiOPw48NlYh7OBMvoZXntQhjxPh54XKLRlOfS6dYWBTcLJHp5MeSiTEZkH24v/17tvBo9DvQQabfSdwnTdd/d+C467ul4K42WUJZ5s4GFAmjBcbpMu+W4VY4BLQ9KOMd3vrX0LZFMh3DTnqZY7ekQ5gD3aHdEpkfe2v4enz1yziZfmIwTN07gcthleYQL24gp5rzZQunkMTCd27qxwH5DKMyMjrfZ00Yi92ST+ybUXF0TM+1n3uov/GxSZhL8EvzkkUCMWq9xXoPT/qfhGespdVYURVEURanIqJRWECllqm1+TiR2G6nkLLtMy+3VoxNGGvEcPLAnmjdrhEcfeRgvvfhPTJ0yHlcdj2P45/3R+J262LKJgscL8QJ5jMyQQb3w2qsvYfmyWcgyopubFX5XKWUkkRMD1VpZSyT03U3vSrSUUbQnZj+Bx2Y+JuJDOStPSpl622Btg1sX9WXBi/kGGxtg6bWlJUuKWeK0BPXX18c613USeePFPCNUFBbb9F2L67HXZX9MF7WVHFtYnzpr6sgY0PImQ+JYzErLK4ks5xYVtwfHQFJYnprzlIxZJRQzCgzFk8dmUWT+2++9H++teg9Pz3oaC50WynJKKcefNtrYSET+fkPRGnlqpExG1WtnLyy1XyqpsT8EI6tsYz5/tvQ5pQTy8S5rXdfKrLil4YRXtVbXkmhlZEZkyVJI2itvZrCt+IgVC44n5Q0ARqYpjhYU0Y+2fYQ+h/sgIKn8Z5tSAL8++7WcK0Y0fwzfnv0Wzy98Xp7Daguj/ezbnJiLmQFBqcU3PTjWl1F8jnMljKC23dUWrXa1gltMsZSyb/NmBfsxb16wX3Fs8ZB9Q9B1b1f0O9xPxq2WjjwriqIoiqJUZFRKK4iUZqWHGqEMw6ULh9Gp42eoXu0tScdt3KguWrzXWKKkDz74Dzz91JMYM3qYrNe/f3fUqVXNSGmxOAlFCfIImRdfeB5LFk8vltLsiLtKKaM5nIjoi+NfSISPqbu8EKckMrWSEUCmatqmh/LfnIWUEyDJREc7PpNHgTCCtt19Oy6GXhQZIYwmcfutt7fGYzMek0eMMELFsYsco8mZVLmcY/HsQ+3lmafcJyWLE+5w8ptDfodkhl5um4LCKBhTii0ppVhReM6HnJfxqnx0yWOzHpOo3YbrG3A++LxMzGQ7LpbPXu1+oLvUe9v1bSKYnKyG9fjDt39A993dJQrHY2UkuNO+4se5HPY7jMO+h2U/MunPnKr489d/RpsdbWTinLisOEln5sRRcy7PkfGfjCJa5ZDvIZwOPC1RYNv0158Ko6JXo6+i76G+aLCkAVpvao0FTgukHW2lnc/pdIpwkomEONbyuQXPiYhx8iIeF6N9XJ/nbdzpcXh5wcuyHt/jGFO2P+sy32G+TPjDR6LYPgPWOcpZIrbsQ5RHaSdTmAbOmXsZtWRUnnCiIy7nLMoUPT5PlmnTlDyOzbT6DmEkl9vjpEwcS8pH3XBdac+AI7KP4/7Hpc9as+/u9t4tcjz29FiJJtv52OHYjWMy5rn5pub4y7d/Qc2lNbHwykKZYIttx/7CGXoppJx9mLP8VlpYCQvsF0jfoqRzZmqmofvE++BwgPkeHuyPd5a9g/c3vY8dXjvKjToriqIoiqJUVH6UlPreu5QeESnNVyn9pQrHlLIeEaGucLhsLrIPbsHuXetxcP8m7N+7ASM+74dnn3kKderUwKH9WxB44xpGjhwi4rpg3jRERgZI8fV2wIB+3VHXrLdxwxKR0mwjuz8kpZQ0pioOOzpMnhvJsX1MvdzstllEguM9bQXBgiminKGXYwirL6+OFxa8gAdnPYgXF7yIOsvqoOuerjgfel7WZfosJ815ed7L+PuEv6P6kuqSVstxe5yBlvLz92//jjfnv4nJ5yZLBC08NRwrnVfigy0foM6KOqi3pp6MxWy4siF6H+wt4sxUVStNlVGrU8Gn5Jmp1ZZWw6uLXsXDMx+WGWarLa6Gjjs6Yr/f/tvSZSnFZ0LO4IujX8gYwE82foK5jnNFtl5f9DpenPkixh4bC7c4N5lAh7PPttzREjWX10SNJTXQaksrzL8yH/MuzkPdJXXxyLRHZGZdptZSvpgSyv3WXVZXjr/+uvqS4vz20rdlX5zFtfRjW34qTDOmFJ7wO4EZF2agy/7ic2c7vpey9fnRz9FgRQO8tug1PDL7ETw992lUW15Nxo2yvTnBVXJuMqZdnIanpz8tsxPzmPmIl7prTD2W15PHqjDqGZEWcZv0Usg4cRDPKcersp1qLquJT7d9KgLK1GeO12SfY1S18frGeHDKgxKNr7aqGuqvro96K+rJTQqr7xDecOCEULyJMNBuIGqurIl6q017muNihL3WilpourqpTIBkjQ1mWvGxwGMYenSoPGKm5qKaaLy2Mb48+aVEwDk50qtzX0XVJVVFzF9d8ioemvbQrUcN8fEyI4+PxEtTX8KH6z6UbfExPozsMs2c0ksB50RQ+732y82QHxpzrSiKoiiKUlGxlVJOdOQTZgTTJQcXPPLlUTCc6Ehm4KWU+hQ/DsbeiKk1+y7F9Lwppz2MkLoW4Oj1AthxoiOnbHgEFz+nVKX0FyiMlrKkJAVIum1+bhRycxORkRGFM6f2o0O7lvjjH/+I5557GjOmTYCXx2WcOHEA4776Er16dMSA/j1N6YGePTuid69OmDd7Itxczkm7pJptch/lTXTEC35eUL+1/C2JKlIgOdaRF9uvLHlF0i7LgtFPjjFk1HLw4cEYe2qsPFpl1IlRGHF4BKZfmA73OHdZl5MFUdDGnxgvM+dOOjNJBJHixijVV6e+wtijY2Vm1+0e229NVsMZUPlc0s8Pfy6P5+DjYMYcHYNtntsk6mc7bpJyROmhkA06NEhSNDnxEF+HHRqGqWenypjCO1JV81Ilcjn28FhMOj1JBJRSvvLaSoyyG4V1zusQnh4uIhWZFilpw9z+wP0DMe38NBlvSGnfen0rhh4aKuMV+VxWEpgciOWOyzHs4DCRwRHHR2DEsREYfHAwvjn1Dc4Enbn1aJGfA9aN7cDo82qX1SJOtuN7Ge1e6rQUXxz+Al8e/1LOF2fW5eN5+DefO8v1uQ2O2Zx6fqq0O4+Zxy51MOeWkw5xUp+yYASdYsqbEIMOmnY6MBDz7efLjQZLYHljgNtnii37xLhT4zDy5Eh8fsSc58PDMeXCFDkPpWFEn9FI3jzhunJcJ0Zg2OFhGHVklERTbSeOSsxJlHRs9q1B+wdh1LFRcjOD0V2mfrNPDLcz9TPbYD/5+vTX8ggZthtnzeX5mXZyGqafnQ7HKEe5ebPda7v0M45RXX99vUwYxRs09zLJlKIoiqIoSkWiXCnlc0p9i59T+kNSeqkMKeXsu4dVSn/ZYkkpI6aZaSHyyBc+azTdSNvmjcvR6tMPULVqJdSqWR39+3WFo8MJZGYkwP7yaQwZ1BN1alc371VD/fq1MXP6BIQFX5dtJCcEIN60J9umPCmlbPHxGf0P9ZfoGCNrjN5xLGaPgz0kbbMsKISUBEY0OUMuhY0yxuhZSHKI/G0JES/YGUXi+NBocz4pfRx3x6gZx7MyNZLL+D6F+Ja8mM9xO9weU2+5n7CUsDInLuLxMFLH9bkejyM2I/bW5yNSI5CWV3ZUkvUNSw5DpGkba/wpx0TyM3y0CQWcsK1iMmIkasrUWx6vtT7Fm8fG961llC8KdnBSsBy/Vfg32437KC3JPwdsP0YM2ba2kWG2N4+P7cH9x2TGSLvzmJiKzeiitT4ncOKxcz3bY+dn2SZWHcuC7cX2Zxux8DzY1pPtyPbiuYlJLz4G3qCQ88xzZT5bnqzz3PP8yro8ntTiz4Qmh0ofKy2HbGOeFx4H62hFpvOK8hCXESfLuA3uk23DV/ZB1o/9Ny49Tvos+zrbj59n2/D42cY/500FRVEURVGUf0dUSiuIlNoWyml8jK9EOOOivHHF/ij279kgabx7d6/H4QObcMPPybSPkY74QJw/sw+bNizBxvWLsW3zCri5nEVuVoRIaWKcv9nG3Z9Tygtsznh7w7QlhYJSQ0lgFJBCoSiKoiiKoiiKUhYqpRVQSq3CuvKVkyAV5hkxLIyTUpATLcKaEOtjXo1EZkfeeu9mfpw8WibJtCPllp9PiPnhSKmiKIqiKIqiKMpPRaW0AkupVVISA5CWHIT0kpKaFFRSV1+RT7aL9R7X4/q2n1cpVRRFURRFURTlfqFS+juQ0n+1qJQqiqIoiqIoinK/UClVKb1rUSlVFEVRFEVRFOV+YUlpbomUehspPemci/Nu+SKiTkZMHY2UOphib/6W4l2Iy6ZcMoViet6UU0ZMj7oV4ohrIQ4ZKT3kmA33ICOlyXlwVSn99y4qpYqiKIqiKIqi3C9uSWl2sZR6hRbg2LVcnP2xUmrKeVNOGTE96l4IOyOlB42UHriSDbfAPMSplP77F5VSRVEURVEURVHuF3eTUqbwOngXGAktkJRdSdv1LMSFkrTdc6acNeWkKbZSetBIqatKacUoKqWKoiiKoiiKotwvyk3fdc83QloipYySipiWREiNgH4vpgVGTAtwimNKmb57vbB4TKmm71acolKqKIqiKIqiKMr9wnaio+ycPPiGF+D09Vxc9MiHk28RnAOK4B5cCK+QIlNuSvEMvmmE05Tg4veu3igeV3rcCOkxFyOmRkqPOuWY9QoQn5KvEx39uxeVUkVRFEVRFEVR7hflSekFI6WORko9jISGxN1EZFIRwuJvIizBFPMaakp4QpEU74jiVN4j14ql9KhK6W+vsG5Sylteqtiuo1KqKIqiKIqiKMr9otxIqScfB1METyOlvuFFuBpYgJPuBTjhVvx6ypTTHqaYV862u+1iPnbbFxgpLcIx5wIcvapS+quXhFhfec1MC0FhXgyK8mOQlRZ6672M1BAU5Eab5bG4WVLk3wWxyMuOkPbievEqpYqiKIqiKIqi3CfKjZR65sPJn+m5xSm6Z42k7nbIx077fOwyr/z3npKy1QjpujP52HGZUspoqSWl+Sqlv1oxMpmcGIC05CD5OzrCE7FRXkjge6aNitfzl/aICvdAeKirlIhQN8REehoZ9THtUbxe8b9VShVFURRFURRF+fmxlVJOdOQTVoBTLjk4756HK76F8AgpREBMEXwji+ASWIhrpjiXlOtBxeWiTwEOXi3APkcjo0ZIjzjn44hTNjyC84yU5qmU/tKF0c0EU8+8nGhkpIfh+JEd+HrcCIwZNRSHDmyRdmB9TxzbhSmTvsKwIX0xaEBPKYMH9cKwoX2xeNF0uF8/J+ulJgXIdrMzE1RKFUVRFEVRFEX5WSlXSt0opQVwCyqAT3ixhJ4tSdc9Y15ZOOvuOfNKCd1xOR97rph/Xy+AnfnbTqX01yusBxuXUdErDscx4esvUePtKnj8sUfw5YiBkrabkxluJHUIHnv0YTz99JOoX6+WKTXNelXxyMMPoV7dGti3d4MR0QhkZ4TKtlRKFUVRFEVRFEX5ufkhKeXjYCilTN+95F2AA0752OeYL68sB6+aYl53GiHdeC5PUnuPXi8USVUp/ZVKQqyf1LMgPx6Xzh/CoIE90Kd3Z/Tu1QmvvPICOndqLe9nZ4Rj4IAeePrJx9GtS1ts377alHVYu2YR6taugWefeQorl88xnSMCuVnhKqWKoiiKoiiKotwX7ialFNIbUUXwCivEFf8COJjCVxbHG8XljGcB9hk53WuElVJqd02l9FcpxRMb+SMrPcy0Vga2bl6OKlXexIB+XbFpwyK0a/sJenRrL+NLuc72bSsxe+Y3uHrluFk/k93BlCSMHjkEb77xKpYvnYWsjDCVUkVRFEVRFEVR7huWlOaWSKm3kdITzjk4x/Rdn2Ip9YsshHtIIS6Zvzl+lK8sl420snA2Xqbu7nUsTt/lbLyHjJS6B6mU/mJFxpGakpFq6p0dKRMWTZ82Hh999B5mzvgOmzcuxaefvCdSGhrkIuvwc1Hh7qb+AfI303pdXc7KGNM2rT/G/r0bjLyGSFEpVRRFURRFURTlfnBLSrOLpdQrtADHr+XirFu+kdJCuAYUwDWwAGeMeDJNd/ul4nTdXSz2xbPxbr6Qj7VnzHv2BbBzLcQh53wcdMw2n8tDXHIeXFVK73+hkLIe2Rlhpv4+WDBvMjq0b4nFi2fD18cd+/ZsQZPG9dGzR0eEh7iiMC8auVlGLtPCkJ8Thez0UDhcOoIBA3qgV89OZv0NiDDCmp4ShKS44giszr6rKIqiKIqiKMrPTXlSesY1Hw5ehXAPKkRgTBFuRBlBDS7EdVP4ysLoKYu9XwEOuhRgz1UjpNcLcfCaSukvWiikfPQLo6Q+npexZMkM9OvbDYsWTEFiQrCc6OPH9qPxO3XRv193JCcEAEXxUmd+nlHSnMwwiYxWq1oJ3bq2RXCQC4qKEiWKGhflKW2jUqooiqIoiqIoys9N6TGlTN896ZyL824FcPQpgkdwkaTvUkLPeRXI80rPm1cWpvJe8C7AsesF2MlnmF4pgJ1LEeycC3DYKccIbT7i9Dml978kxPiWiGUEDu7biBo1qqB2repYvHAazp87jCN2+zDuqy/wxusvo2nThjiwd5M8i5R1ptDmZEUaSU3EieO78PprL6FVyw8QGHDNtHiSaZtAlVJFURRFURRFUe4bpaXUN7wAp6/n4qJHAa76FcE1sAhOfkY2r+Vj49l8rDudjw3mlf9m2XAmD2tOsfCxMEZQjZQeM1J65GoOPIMLVEp/iWJJKcvBfZtQ6c3X8Pjjj6JZs0b45OP38OH7TfB29bfwj388IMv79ekmkxsxOpqZGmwE07ymh8Pu8FZ5LAxn4/X1dkBRfmxxm0V7qZQqiqIoiqIoinJfsJXS7BwbKfU0UupfhGumXPYysmlEc599AfYY8dxryp5LBdhtCseW7ryUj93mvYNOBTheIqVHS6Q0XqX0/hdGO3n8mWkhcHM5i8mTxqJL57bo2L6VvPbp1QXvvdcYjz76MF544TmMGzscHq7nZPxpQW40EmP9cPLEbnz11TD079cVG9cvRlS4h7yfbNot3rSnSqmiKIqiKIqiKPeDH5RSvyIjpoVw9CuAo6959S2ScsW7CPZelNXi55deZFqvRyFOuBbimEshjlzLx1EnldJfpbB+nHk3wM8J/j5XEOjvhCuXj8ljXp586gnUrFkd27asRGSYm0gsbiYjONAFw4f1Q5W33sCKZbOknfjImCTTlhTehBiVUkVRFEVRFEVR7g//qpReLkdKj6iU/rJF5NGU1KQA5OdEmjMba1osCyiIlzGkLZo3wZ/+9L94/PHHMGhgL1xzPIFseZ5pJgL8r0o09dWXX8CObSvNsiRJBba2qVKqKIqiKIqiKMr9ovSYUp+wApxyycEFj3w4GRHleNIrvqb4FMLByCiLvSmXjJBeZPEsxHkjpKdNOeZagKPXi8ef2jllwyM4X59T+ssXfyQn+Eud8nKiZNmOrasw2Iho185tTGmLMWOGwdH+GDJTQ5CfGy+R1S0bl2Hyd6Nx8fwhiaCyPfhZlVJFURRFURRFUe4n5Uqpex4cjYyKlPqUSKmPkVJTbKX0EqXUFFspPWyk9LBIaZ5K6a9ZWB9KZVjwdQT4OUoqL19ZoiOKZ9Rl3bkOx5Dy+aWxUcWTGtm2hUqpoiiKoiiKoij3i/shpYeMlB5SKf31C2WTrxmMiOZEyWy6RXkxyM2KkLbg+2wP1jszLVSWpyUXL7c+K9tRKVUURVEURVEU5T5hSWluiZTyOaUnnHNxzi1fRNTJiKmjkVIHU+zN31K8OZaUkxwVi+l5U04ZMT3qVogjroU4aKT0oGM23IOMlCbnwVWl9NctrF9actCtwnaw6mrJJ9fhcqb+2n5W1lEpVRRFURRFURTlPnFLSrOLpdQrtADHr+Xi7I+VUlPOm3LKiOlR90LYWVJ6JRuugXmIUyn99YsV+bQt5a1Term8p1KqKIqiKIqiKMp9QqX0dyCl/2pRKVUURVEURVEU5X6hUqpSeteiUqooiqIoiqIoyv2i9JhSTnR00iUX520eCcMJj+6QUiOh1mRHnOjolEx0ZMT0emHx7LsypjRfx5RWhKJSqiiKoiiKoijK/cKSUs6+m52TB9/wApy+nouLngW46leEq/6FcJQZeG2eU+pVhEueRfKM0gtmvXMeBTjlXojjRkiPuRTiiJHSo0458AwuQHxKvs6+++9eVEoVRVEURVEURblfqJSqlN61qJQqiqIoiqIoinK/sJVSK31XnlNqk757xbf855RSTEs/p9TOSOkReU5pvj6n9LdQbGfdLWuGXWt5fDnrqJQqiqIoiqIoinK/KFdK3fNkLKlIqU/5UnqpDCmVMaUipXkqpb9mseSS9c5MC0WWKWnm39Z7LKwz656VHopsU/hqu468qpQqvyJZWVlISkpCWloacnNzcfPmzZJ3FEVRFEVRlIqASmkFj5QmJ/ibxg5BfnYUCnOjjZiGyPJi4fRFWnIgcjLD5f0CU/JzokRek017FW/DyKtKqfIr4uzsjIULF2L58uW4fPkyMjMzS95RFEVRFEVRKgIqpRVUSimdGanBIqRBN67hiv0xKQH+TpKmy7agjCaZdd2un8XZU/tw5uRenD97ADf8HOVzLNxWfLSXSqnyk2BUMzrafP+SkkqW3Dt2dnaoW7cuXnrpJYwcORKhoaEl7yiKoiiKoigVAUtKrUfCePORMM45OH8vUmpeT5vXY24FOGKk9JCR0kPySJhiKdVHwvwKhVJakBslEc/1axaidauP0OK9xli2ZBZiorwkIoqiBLg6n8XILwej0Tt10bBBbTR79x0sWTRd2onrJMXfuKuUFhUVmZNaKP+24LKCgoI7lpeG0sL1rFLW+tyWLWX9XXpZaazjYfkxcP38/Pwy1+cxl1cvvvdD6aWl68vyQ+tblP7cvdT3x2z/XuD2WH/b4ymrPbjM19cX3377rUQ54+LiZJl1bD90XLbbjYiIwPjx4/HPf/4Tbdq0gZeXV8laiqIoiqIoSkXglpRmF0upV2gBTlzLxTm3fCOlhbhqpNTRSOkdzyk15RKLEdLz5vWUeT3qXogjroUipQevZMM1MA9xycWR0sNGSgNVSn+ZQhFllDToxlVs37YSIz7vj/p1a+LBfzyA3j07Ida0T0FuNK46nsDUyePQtUtbdGj/Kdq3+xitPv0Afft0wTojsn4+DqZdgpCSYNqltJRmxOFmUQHy8vJw7do1LF68WFIsV69ejRUrVmDevHmYMWMGZs2ahZUrV+L69evS4Wyh9Lm6usrnJk+eLOtPnz4d69evh7e3t6Rpnjt3DnPmzJFtcNvcz9y5c7FkyRL5m8u5r5kzZ2LPnj2IiYkp2XoxFKEdO3bcOh4Wfsbe3r5kjdvh+vv378fs2bMxbdo02e7SpUuxbNkyHDhwAEFBQQgODsaGDRuwYMECOQ4uj42NlbJz506p89mzZ+8QNcoYP8/jnjJlitSVx8Ntc/3s7OySNb+HEcZjx45h/vz5t46fhfvYtGkTPDw85BxYcPwlI4tsU2tdthm3kZOTU7LWTyc9PR379u271T62x8N2ZaqtJfNOTk4YMmQIHnvsMbz11lsYNWqU1Jnrsv3YFqXJyMjA0aNHZT22Edf19/eHu7u7CGnHjh3h5uZWsraiKIqiKIpSEbCV0uwSKT1upPS8e4E8EuaafyGcOPuuEVQH36Li4l0SLTXlohFSS0qPuRXhqGuRpO8eupJjpDRfpNTFSOkhldJfpjBCSpEEUnDk8FZ8+OG76NOnM6ZMGivRUApoUsk40xHD+6N2zWpYMG8qoqP8EWOKn9cV9O/XDXVqv40N6xcjKyMMOZlhSDDbzs5MuE1KgZtGgrJF+urXr4+HH34Yjz/+OJ555hm8+eabqFGjBipXriwRrt69e4tAUZosKGGHDx/GZ599Jp9v0aIFatasiWrVqmH06NEiJxMmTMALL7yARx55RLb98ssvyzZffPFF+fuJJ57A66+/jueeew61a9eWiBzTRTkhTnx8PBYtWoSqVavKNps2bSppoJUqVUKnTp3g6Oh4a3wiBTIqKkqEul69erLN999/H40aNcJTTz2F//3f/0WdOnVEBK9cuSKf577//ve/yzFTGtkOnTt3Fgn74IMPcObMGZmcx4oIch8UtV69eqFBgwZ47733pN48HrYBZZLrE34mMTFR9tesWTNpw7fffluOgYVtQtHjfq3UWL7u2rULDRs2lDZq3Lgx3nnnHfk3t3Hw4EGkpKT8YISyPCjUbFeer759+6J58+bSnnxlPapUqSL1/uqrr0TsKcpbt25F9erV8Z//+Z944IEHpJ6sQ61atdCjR4/bbgzwmJKTk3Hq1CkMGDBA+g7PGc8XBZg3Kj7++GNpO09Pz5JPKYqiKIqiKBUBS0rzcpLl34FRRjBdcnD6eh4uehTgkmc+LnjkGUnNx3m3AilnXQtwxpTTrvk45ZqHEy55OOJsRPRqPg465mOfQy4OX8mGjxHclPQCuAXEaqT0lygUUk5sxLGiBQXJWL92kZGCtzB4cE9s3LAYbVp/hB7dO0gkNT01GD17dELlSq9i5YpFyMpMNyVDhHPYkN547dUXsWzpbCNt4cjJCjfbLiWl6bHGJJhiWSjplIxqPfnkk/iP//gPkTWKBSOA33zzjYwF/L//+z8REUZVrdRTK3LI6CKjh9u2bcPXX38tQkvp6tatm0hXly5dZLssFKAvvvhCxIt///GPfxRJ4joUVwrbmjVrEBAQINukvHLf3bt3l+WTJk0S2fnrX/+KTz/9VCbOIRRYRlMpUVy/Q4cOOHTokEguhYtS+sorr0jUMTw8XI6VUshjoHRRfBkJZGSPwvlf//Vf+PDDD3HixAkRZAsKG7fLY6O0MRJrCT0F7/jx47IeI40UMUrZQw89JPWmYK9bt06ijJRitvfw4cNvRYd5TJS5//mf/8FHH30kEV62H+WRy9g2lNafEjHlZzZu3IiePXvKOVq1apUcB4+Ry4cNGybnneeC55SSyegm0255DtgmjH5S+hlR3bt3L8LCwkq2Xizs27dvR79+/WTcKNfjPthOTP+lXHM77Fc8t4qiKIqiKErFocCIaFZmivGNJOTn5yE2+Sau+eXirEsWTpty9no2zrlmy+tZI6ssZyitLtny/ilTTjpn49i1XNhdzZG03YMOWTjnloWIhAJkZhfAKzgOZ5x8EBoRbPZnpLRApfRnLxRSHn+uEUim5l48fxiDB/UyEtoJWzavxfZtq/HB+01FSmMiPM16ETiwdxO+GD7AlEGYOuUbTJn8DSZ+NwZDBvfGJPPq6HBM5DUtKUD2UXpMaVFhsWwxKkYxZVSRkkZZo3gxKseoFuWMy5999llJjWV6pwWjb5QRpuhSuiiclD9L9Bjd4/uMSHIb48aNk0jl0KFD5W9GMZk+y3Wef/55kU2mjF66dOnWOhRESib3we2/9tprt5ZTeghTRFu1aiX75Xvt27cXWaZ4TZw4EWPGjBHhZHSPwpiamipRO67LwugfRcrHxwcjRoyQZTwWpvda0U/C9FS2DQWYKbaUNkZ4//CHP+BPf/qTRAUJJXDQoEGynMLKY0hISJD0WW6Dx812oqRFRkZKm44dOxb/3//3/8m+KbFMr+VNAUZ+rePkOjz2e4ViTaHt37+/tCFTdplGzTblMTOizej27t27JcJL2C8o/e+++64cJ2WVbcHCCDXb0YLrUuop1WwXrsO68vX06dP45JNPpP9Qem/cuFHyKUVRFEVRFKUicPNmIbKzUhERHQPfsCQjknlISClCSHQBAiLyERRZgGDz7+Coskr+rX8zwnrDFL/wfPibz0UmFiAhzbwXk4nr/tHw8jc+GB+OwnxzLWqKSunPXHjsrB+joO7Xz+Hr8SMwoH83nDpxAAnxsTh8aBeaNK4nqbkpZh3cTEBEmLuMHW3X9hPUfPstvF29MqqbQpk9c2ofYqN95JExSXHFzyv9odl3OSMq010pPow2nj9/XpZzkprWrVvL8kcffVTGfTIqZkVJGc1j1JNixsglI2qUMK7PCCXHQjKtlZ/lMkZkKcAUoP/3//6fRM+YJnvkyBGRNEY0KUDcP1/5GYomRZnpwRQkHh9TSblfCiJh1I7Cxv0zdZfRWkZUGcVkNJNiRMFmRJVQ0gYPHizbZxoxJY0RVErUl19+KcspvRQsSiRhRJP1Z2ov01gZzWzSpInIFtfnsXM7hKnNFEAuZ90psbZQuiloHNdKCeT6jDByfRa2hZVaS2Fmfaz05p/ySBWeLx4/zwejs7zRwO3znDM1uGvXrpK+zPG2tmNcOZaY7c4bBZaslgU/Q5lnm1s3Cix4vIwC86YHI+KavqsoiqIoilLRKEROdir8gsJx0jkCzjdSEJ2Yg7C4bITEZJliXmNti1nGwuW3Cv/OMgJa/Bpm3o+Mz4FveCbsvRONlEaJkGYYEaWU5ueplP7sJTMtVIr9pSMYNKAHWrX6AKtXzEFC7A1kpMdj+9a1qFvnbXTv1gFRER5GMCOwd896fD60H0aPHIIF86di/vwpmDZ1vJGt3vh2wkg4XD6KjNQQpBsx5T5+SEr9/PxEUihEFECKJCNhjBxakVKO+2Q6K6GsTp06VQSQMsaoI1NjGTmkjDJCSJliOitFjqm53AYjpYxWMgpKKWV0lJFSChFTfhmdZMSNE+4wpZSfYQSS22cqKyWY0U9G/XiMVgopx7pyAh0u43FwPCa3z7RXyisFkKm/lmxz/KMVKWW9uE2KFaN7lqyyXtwfBZayunbtWhFDbpdtwsgw24Dptf/93/+Nf/zjHxJZJYyUUuQotqw7o7S2EWaOf+XkSEyR5X65fYo698toKceo8jPcHvfLNuQERZxAyjZCea9QsHkTgPWyor1sV6bmUiq3bNkiKcqEIsuJqij2HFPMc24L28Wa3Il143njOWd6b2kYcaXEM6VbZ99VFEVRFEWpWDBSSimNiomCi380zlyPwRHHSOy7HI69l8Kx+2JESeG/bcqFkmKzbI8p+y5H4IAph+yjcNIl3khuMiJi45GWEmGcKVKipCqlP3Nh6m5ediRysyKxa8caI2rPGNl7GRO/HYVVK+cY4ZwiabvPPfc0atSoik0blsLL4xIGGHmtaf5ev3axaV2OM8wVCR0yqDcqvfkaVhqplYmOOKbU7Kf0mFJbKWWErDwppUxwOSOCFCly9epViVpyOSdGcnBwkOWURKbaUgYZ0WSEkim8lpRSWm2llEJoSSknA6KUUs44q68lhw8++OCtiKgFo36MrlqCw2gcRZbpxRRMpr4yTZXiyX1wO5ysh6JnrU9R5XKOQWW6Lyfp4Qy8lhxSKCmeFC7Wy5JYSiPHYVrbYZ143NwOhZhQSjm+kuszcsw0WdvZfCl4jFpyjK4lvYxgcn1GhimN1thdQvnj8TH12RLBe4HnkueMQlpW+i/bm+nWnB3XalPun+ebE0Gx7rYzIzMVmZMmnTx5UtZj3Xj83EZpKQ0JCRFh5Q0Ma8yqoiiKoiiKUnEoLCwwzpFqHCMeySlJ8kzRfReDsPXUDWw5FYDNJ1kCsflUcdl6yrx3Ovj7cibkVtl2NgQ7zodi1/kw7LsUgSs+SYhLzTbSm4KU5AgR0/y8jB+W0k9KpLSmP/7jxT34j4dVSu9aKKWc3IjjRE+f2I2mTRsY0XtSUnFr1a6GOnXexmuvvoy//OUvePihBzF4YC+cOb1P0ntr1ayCDeuWmtYtnpE1PycaQwf3xquvcKKjmT8opUWFeTKhDceOUvo4yyul6I033pC/KTIUFKZvcjmljpMfUUgYleTERxQ3SiNFhGLFyKg1NpWRT0od02c5oRGXMcX24sWLGDhwoPzNGV85aQ4nDaLcMuJIqWVk8PPPP5fP/e1vf5Nxjxw3SmlktJApon369BGhJZRGrk9x5sRM3333nRwjhdgak8mxqBRWwoihJY2UQKbLcuZZrs9UVi5nFJeRQwoX98soL88B36OIcjwtZ+Nl9I/HTVmlCLM9GXFlZJapwYygMmpK8aOQsfA4KHpMx2XUluLL1N8///nPEmXmdpg6y/1yYiDKNoWO7c/17xVGknnMjCCz7Tiuk9FathvTltnevClBebQmImLfYP14PrhvCirPAW9U8CYCzz/Tsa10X54jpgPzfPMccTt8zimPmbLKdmAqOKOvtinCiqIoiqIoyr83ReZ6OSszFWmpMcbdjJgmJSA6Lg5RsfHmNcG8mmJeo+OTEJOQjLjEFMQlpSIuOd2UDMSnZN4qCamZSEzLQlJ6NpJNyczJR0FRvkhpcpJK6X0trFtachAC/Z0kLXfJoumYN2eSvK5cPheDBvTCP59/DnXr1MDe3evh73MFgwb1RI23q2LtqgWmddNNyTRtESDS+lbl17F65VxklyelfCTMzSKJulFAOXaRgknhopQyCkYppVxYUsrCsZScVZWR1QsXLsisuBQ1RsHatm0rqbKUD65LoaSMWLLLQvHjeEpOAsS/KW1MS+WYQ0qstYxjDxl1ZLSU4soxlRQejlvlo0U4iyzlisdBKEvW2FcWRnspUlzGWWWtCXisdF+KnRUp5ZhPSjIFmqLI2XIpthzvye1TzihRjMQyisr3GX1t2bKlRIuffvrpW/tlHSij3A/bjvXlY3C4PtuYx89Xa+ImSh8jpYSyx/W5PW6H2+b6jFQzgsn1KbY/ZfZdnmdGMpkKTTlnW/L42ZYcI8vts31YR9vH/vAxNZRICjmPheuy8Fxz8iY+lseKADMFnJNFsQ2t9TjBEevEzzP1me3Ac8uoraIoiqIoilIxsKQ0JTnGeFk8cjOSkJedjILcFBTmpRaX/DQUFWTgZmGm+UC2cRFe0zJQwSFuHJ5mW3h9yaxBlpvmerzAXKOqlN73wmgpXznRUUZqMDJMfVKSw0y9g3Hx3GH06tEJf/7zn/DyS//EiqWzccPHEdu2rkW/fj2NhPbErBkTMGP6BEwY/4Wk+o4eORiXLhxG5g+MKeVJpqzweaIUCaawMurHR3jwmaRMy2Q0kHJG+eQzPFn4GBHKCqWVabuMAnLmW4oKZYvboDTyM3z0CYWH0UfugwLKCBojo1yHkTlGBCkpnAGWn+X6jOq5uLjIcTC6ymXcPsdaUmp4TIz0WTCiSFlm9JPv8zi5T75aj5OxXZ/Hbs3uyygpI5FMqWXkknXgeEtrUiQLyhfFi8dG2W3Xrp20GffHqCH3w78ZPbT2xUgzU4m5TR4/P0MRnDx5srRD6YhhYGCgSC2Pm+tzP9wmZ+Fl1NE2pfdeYH0ZVWZ0mcfAbVuF547iyOMpa/usN/sIJZ7tz89QMnnOSq/PVF2eG2u7PG+c0ZfRYZ4Djk3l2FXKuKIoiqIoilIxsJXSNCOl2elJyMlMRg6fXZqdarzOlNw0kUmOBy0qyDKfyTbXkrmmMHsz/7byvZiy3DTr5KuU/hKFUsrCSCdTeQvzok2LZSArIwrbNq3A+y2a4Jmnn8TLL7+APr26wNHhBBITI3D0yF5079YO1atVRtUqlSRyOu6r4XB3PY+05GBzkgKQEOMt+ygtpTfNybVSU5nqSoGidDHKZ0XLKE0ULC5nJI/r8X1Lpph2SuGgQFJS+Mr1mB7Kz3B9Fv6b0sMZXBnpo/BxHUoMx2UynZZppFyPs7My8klhZpSS++M2OP6SMkOJpUDyPQseByfoodRxG5xAiFE8HhPrZZvySqFmlNcaE8vIJ4WYacWMCjKSW1pIbeG+reNhZNE6Xhbul69WNJMySLHnch4LC8eFWhHesmB7c5tWffnKenFbPxUrTZvnwDp263i4Dx7zDwkv24914Lr8DM9dWWNb2Z/YPlyH7c/9WLP2st3ZNxhB/ikpyIqiKIqiKMpvk9JSmpmWaHwjCZkZyfL8UilZqeb6Md1cJ2cYQc00PpGFvPwccx2fa65z826VwsI8kVBGR1kYSFMp/RULZ+ONN0J56vguLFk8AwvnTcW8uZOwesVceHtcMictBTGRfti1YzUmTxyLSRPHYMa0r3HuzH7kZIQjPyfKtIlpzyhPaZsfmn339wKlicLEyCYnIGI6K8esMqWV6amMylIaFUVRFEVRFEX5caiUVmApTYwrjp4ypZf1y0oPMw0fIu3AuiYl8NmmAea9IBmPysL1+MoIaXF7mG0YsVUpLYbRRkbw+AxUjndk6i1TjJmWSill+i9nlFUURVEURVEU5cehUlqBpdQaZ8oxppyZl4+NYWF6L+ucEOsjdc5KD5WoKEtedpSsb/t5ldLvYRorZwlmGitTVpk+zFRapvwyzZfjNq10U0VRFEVRFEVR7o5KaYWOlP48RaVUURRFURRFUZT7hUqpSuldi0qpoiiKoiiKoij3C5VSldK7FpVSRVEURVEURVHuFyqlKqV3LSqliqIoiqIoiqLcL1RKVUrvWlRKFUVRFEVRFEW5X6iUqpTetaiUKoqiKIqiKIpyv1ApVSm9a1EpVRRFURRFURTlfqFS+juQUtbLttzt/dLrqJQqiqIoiqIoinK/UCn9HUgp652VHmpKGNKSA297LznBX+rO94pL6B3r/FQpzczMRGxsLNLT00uWKIqiKIqiKIqi3I5KaQWW0oRYX6kT65aTGYHcrAhkpAbfeo+vKYkB5mSEmvfDb5UMs36yaa9b2/kJUpqbm4sDBw5gwoQJOHv2bMlSRVEURVEURVGU21EpraBSSunMzY5ETlYkrtgfw4pls7F86UxcNnWPM22QkRZiTn4ioqO8sWfXWkydMg5TJn+FWTO/xYVzB0Vg83OipE3ior3uSUoTExNx+PBhDB8+HAMHDsTFixdL3lEURVEURVEURbmd35yUfmxJqZ+R0t34j0dUSu+5sB6SlpsaDD8fR8yY8Q3q1a2Bl176JyaM/wIxUV4oyIsxJyUEdoe3o2ePDnj77cqoVq0Sataoiq/HfQEv94vSJoykJpg2uxcpvXr1Kjp37oyOHTti3759SElJKXlHURRFURRFURTldlRKK5iUMkLKeuZmR8Pl6mlM/HYUBvTvjs9afYCnn34CXTq1NW3gi/zcaOzasQb9+nbFoIE9MXnyeEyeNB7jvxqBnt07YuzoYbh80Q4ZqSFILxlj+mOl9OTJk6hVqxbatm0Lb2/vkqWKoiiKoiiKoih3olJagaSUQspCkQQysHvnWiOH1dCnTycsWzoDn3zcHN27tTdtFCDpuwMH9kC1qm9i+bK5yDAnPd2UmCgfDDaSWq1KJaxZNR9ZGWHIyQxDgtl+dmbCj5LSM2fOoH79+mjdujW8vLxKliqKoiiKoiiKotyJSmkFkVJLSCVKmhVpTmgIFsyfggYN6mDcuBHYunm5kcSP0KtnJyQnBJiTEYSuXdvh9ddewqaNy9m8ws2CBHw5YiAqvfmqjEPljLy5WeE/WkqzsrKwZ88efPbZZxgxYgQCAgJK3lEURVEURVEURbkTldIKJKWcMVdm2DV1oYR269YW3333FS5fPoPdu9ajadMG6N2rC9KSgyRS2rdPF7xV+XWsW73QtG6mlBTTRl8MH4CaNath3ZoFIqU/NlJaVFQkM+4OGjQIEydOxIULF0RSFUVRFEVRFEVRykOltIJIKSckYh3CQ65j/571GDSgJ74aMwyBN66z6XDq5AE0bFgbA/r3QE5GOArzY7F29Xx06dQaI78YJAK6bvUCzJszyaxXB2+/XQVbNy0veUzMj5PSQtOZtm/fjp49e2L69Oky4REfDaMoiqIoiqIoilIeKqUVQEoZJaU8ZhvZPGa3HS3ea4IPP3hXpDI40BVBgd5YumQOqlerjM9afQhnp1PISgtFQvwN7N29Hp06foZqVSuhxttVUbv22/jrX/+CN157Bdu3rpRUYG73x0jpzZs3kZSUhC1btqB9+/YYN24cgoODS95VFEVRFEVRFEW5E5XSCiKledlRUiiZfPTLY489gjatP0bvXp2NdLZBg/q18fDDD+Lpp57E0CF94Op81rRoJmKi/LFpw1JMGP8lpk0Zh0nfjTGCWtlI6cvYuH6xEdEIEd57nejonXfeQZs2beDp6VmyVFEURVEURVEU5U5USiuIlGamhSI7IwwOl4+hf/8eaNqkgURMP/qwmZHTj/BOwzp49JGH8eyzT2P4sP647nzatGiqKVnISE9AfHwMYiK9sHXTMnRo3xJ9e3fBmVN7ZbsZKUGynx/7SJhTp06hRo0aIqU+Pj4lSxVFURRFURRFUe5EpbSCjClNTvCXekRFeMLt+jmcPb0PR4/swMnju3Fw/2YMHdwHTzzxGKpVewubNixBWPB1RIa5w9PDHr4+1xFww8tI6D4MG9IHo0cOwcXzhyQ6yjZLjPORtvmxUurg4IBWrVqhQ4cOOH78ODIzOYmSoiiKoiiKoijKnaiUVhApZbSUhXUszIs2rZVgCme+TcbFc4fQscNn+L+//BkvvPA8Zk7/Bl7uF7F/zwYMGdwLHdu3RPeubdGu7acYPKgXjtntkFl8C3JNu5k2iYv2uicpjYmJwebNm2UW3i+//FImPFIURVEURVEURSkLldIKIqW2hY+G4Wy8RfmxUifOqvtZyw9Rr15NNGpYF58P7SuRUEZM2xshrVWzGhrWr40e3TrgwtkDyM/m5EZhJe1hZDfG+56klKSnp8uER8OHD5doqaIoiqIoiqIoSlmolFZAKbVKalKARE+9PS7hkpFQRkwvnjsIR4fjCAl0ga+XPS6ZtjhxdCdOHd8NR/tjiDVtl2OENDmBny3ezk+RUpKYmAg/Pz/Ex8eXLFEURVEURVEURbkdldIKLKUUUr6ybkzHLcyNRkFOlERBGUlNSw5CTqY5KTmRyMuOlH9zme1n5d8/UUoVRVEURVEURVHuhkrp70BKWe/MtBBkpYdKyUgNlhRfLs9IDTGSevtyfk6lVFEURVEURVGUXwKV0gospbbFEs3iUt7y70XUtqiUKoqiKIqiKIpyv1Ap/Z1I6b9SVEoVRVEURVEURblfqJSqlN61qJQqiqIoiqIoinK/UClVKb1rUSlVFEVRFEVRFOV+oVKqUnrXolKqKIqiKIqiKMr9QqVUpfSuRaVUURRFURRFUZT7xb+llP6vkdL/Uym9ayk9s265s+veZR2VUkVRFEVRFEVR7hcqpRVUSlmX5ASWG7eVsupYvG7566iUKoqiKIqiKIpyv1AprWBSakU6szPCcLMgzpyDhO9LYTxyMsPl/fgYX9NOPqbuAcjPiSp+/2aivFrrFG/L999GSjNzCuEenAbnG6ZDZ+SXLFUURVEURVEU5beMSmkFk1KrDrFRXggJdIGfjwO8PC7Cy/0ifDwvIyTIBfFGNhkRzUoPRVpyEELNMk+3C/B0vwBvz0uIjvQ0nSBU2oRSGh/t9ZuX0sLCm/AITse8vcFYcigUYXHZJe+UTX7BTcSl5CItk521ZOEPkJNXhPjUPJHdH7G6oiiKoiiKoig/EpXSCiSlFM2MtBCRzn17NuDL4QPRu1dndO/WHt27tkP/ft2waeMSxBhhzc2KAG4m4IbvFcyZ9R26dWmLLp3aoHfPTti+dSVSTFvl5USZbfr/W0ipd1gmFuwLxbebA7DnUqwIZHkUFt2Ej1l/27kouAam/SgpdQ9Kx47zMXDwSUHRj/mAoiiKoiiKoig/CpXSCiKlTLVl/ZiKyyjpFyMG4rFHH8ErL7+IBvVrol69mmjSuD7mzZ0k6+ZlRyIo4BpWr5yHDu1aon69WqhXpwbq1a2BwQN74diR7YgK90BaciCS4pjG+9uW0s1notB2qhvWnohEaobpgCXLS0Of9I3IwDqz3rQdQbjmn1ryTvmExGZjzbFITNkWhLNuST9KYhVFURRFURRF+XGolFY0KTWyGRnujl49O+Gll/6JCeO/xMXzh3D+7AEcPbQNrs5nkZ0Rbtb3w7RpX+OTj9/DpG9H48K5g7hoyoG9G9GvT1e0b/sJDu7fZE5UKLLSQpBg9pGdmfCblNLc/CIsswtH5xnu2H0x1nTOopJ3iqFEMv2W63mFZmDOnhB8sdIXB6/EITwhB1m5haajlqxs4L+t9SPiczB3bwi+XOWHLUZ8A2OyzfpFKqaKoiiKoiiK8jOhUlrBpJQR0IhQV/Ts0Qn169fE0cO72HSGQhTkRhnBDDWv0YgMc0e3bu3xVuXXsW71IvN+jpT01BAMGdQLb7zxClYsn42sjDDkZBmJNfv4LUppthHKffaxkra79ngkfMMzJT3XlrTsAuw368zYGYThy3zw0QRnNB17FaNW+0v0c9/lWCSmfT8xUkpGAQ47xkkk9esNN9Bi3DW8Z8rAxd6Ysj0Quy7GINmsoyiKoiiKoijKv45KaQWS0jRTPxHOcHd079YBzz7zBAYN7IOtWzbi4oVjpv4BphVTZFbeiFB39OzZEdWqVca6NZTSTFOyzDpBGDq4N6pUfgOrV879zUopJzaKSc7FWddEI6SBWHkkAuHxOSgwy0uTkVOAnRei0WbydTzV8RwebnsGdUc4YvASHww1krrmeARiU74fg5qaWSCi2n6qK57vdh4PfHYa9b9wRO/5nhi23AfL7cIQn6qz+yqKoiiKoijKz4FKaQWMlEZHeWHMqKFGSp+SFF6OE+3ZowOOHdmB9LQw3CyMQ0ykFwYM6IFataphzap5xvL4+Jh4xEZ4YYiR0lo1qmL9moXyaJmczLDfnJQytfaESwKGLvXBwv1hCIzKLnccaX5BEVyD0vDNphuo3P+yEc0L6DHHA9vPR+OSV7JEVxlxtWDqrkdIOqZuD8TbQ+zxz+4X0GWmu4xDPeOWBK+wDLP+7SnCiqIoiqIoiqL8NFRKK4iUssjsu6khUtfjR3fgm69H4vNh/TBsaF/06d3Z/Lsv9u/ZgNzMcFl3MOWzZmkp9fy3kNLUzHwjiRH4YLyLjCP9IdKyCnD0WjwWHwrFzJ1BpgRj4YFQbDoTJZMYlR4fmpieL8K79FCYKaGYvzcEs3YFY72RUvfgdNOpS1ZUFEVRFEVRFOVfRqW0AkVKrWgpH/fCCYriorwQG+OHiPAbWL9uGerWqYE+vTojpURehxpZrWnks1hK4835SkBs5G8/UppXUASXwDTM2ROMUWv8Ye+dXPJO2cSm5GLlkXCsPR4B/8hMJBvpvOCRJJ+/7J1yR4Q1IjEHa43wrrALQ0xynkjtCedEkdOTzgl3SKyiKIqiKIqiKD8dldIKFClliYn0RFjwdakrkGhKcVqq3eGdMqlRy5YfICnOH1npYZK+W61qJaw18glkmJIpzyflmNKqb3FM6TxkZYT/psaUUgi9QzMwf18oJm0NhJOf6byZPzy+MzuvUFJ0g2Ozbz1jlKLJFN3IxFyzTBbdIjOnEP4RmQiIyipZApnYiPsNj8u5Y31FURRFURRFUX46KqUVQEoZIWXkMy05GFcuH8WUSWOxddNyU19ObERxzML+vZtEQNu3aympu4yk9u7dGZXefA3r1y0uWS/PnPwwmX339ddfxoplnH33tyOldEG3oHQs3B+KiUZIj15LQIEaoqIoiqIoiqL8W6NSWkGkNDsjVKKffB5pr14d0atHR6xdPV/Glh4+uAWTJ47FZ60+xPSp4019A43EhmLB/KlobZZ9PW4EDh/aCjuz3uaNSyXFt2uXtjh6eJvIa2Zq8G8mUsrHvnSY5oYVR4wsl3oeqaIoiqIoiqIo/36olFaQ9N3iOgQhOsIDp07swrChfeQ5pbVrVUfd2jWMkH6EVSvmIujGVYmopqeEIDTIBZs3LEHH9p+hVs3qqPF2FZn4iBMjnTu9X9oxLTkISXG+so/szMRfTUr57FGm3M7dG4LOM91l5lxFURRFURRFUf79USmtQBMdJSf4y8REGanBOHRgM74YMQB9e3fFwP49MGfWd/D1uoybBbESKU1JDEBRQRwCA65iyaLp6N+3G/r07oIhg3pj7671Iq75OZHSJvHRXvL6a0ppYlo+dhgR5WNdltuFwyecz1VVFEVRFEVRFOXfHZXSCiSlfGUds9JD5e+gG9fg7+uIG6aEh7oa0Qw0DR966zMZaSHmpAQhIszdrHNF1g30v2raz0fW4/qJcb6/CSnlhESLD4Rh9dEI+EWYTligY0kVRVEURVEUpSKgUlpBpNQq8THFj4bhGFM+dxRIAm4mojAv5lb9LYHlvxkxzc+JknWsdXMyw2+9TylNiPH+1aU0PbsQ1wPTERiVhYJCHUuqKIqiKIqiKBUFldIKJqVWSTLtUNbyn1J+C1KqKIqiKIqiKErFRKW0gkrpz1lUShVFURRFURRFuV/8NqU000ipf4mULlQp/bWLSqmiKIqiKIqiKPcLlVKV0rsWlVJFURRFURRFUe4XKqUqpXctKqWKoiiKoiiKotwvVEpVSu9aVEoVRVEURVEURblfqJSqlN61qJQqiqIoiqIoinK/UClVKb1rUSlVFEVRFEVRFOV+oVJawaQ0IZav/qauAchIDTYNHXKr8G+2QfF6vlKSE/xN3YPkfb4mm3biNoq3U7JNlVJFUZQKTV7BTWTlFiInv8j8D7xkoaIoiqL8QqiUVjgp9TWv/shKD0VhbjQK86JRwNfcGHnNTAu9tR7bgnXPyQpHYX4M8nOikJbMNioW1lvbVClVFEWp0HiFZmD3xRhc8ko2/4MvKlmqKIqiKL8MKqUVSEp5/Ix08t++3vY4d2Y/7A5twf69G3Bg70bz761wvnoK8UY4KZ+MjIYEOuPCuYM4emQ7HC4fQViIq2m7G6Ydv2+Liiil6dmF8IvIQExy7q8WFcjNK4RveCau+KbA0S8V1/xTcdUU5xup5tgykZKRj6LfacgiLasAbkHpuOJT3C7XTJvw9XpAGoJisiSiU5qs3CJEJuQgOikX+QW/rXZjFCo0Nlvq4GvObWomfyRL3vwVYPtEJOSavpYGTyMjyen84S558yeQX1iEgKgs6cfSl0vO1zWzfZ/wDCSZ7RcV3b6DIuM9cSl5CIvLlvOt0bk7yc0rgndYBhx8UuDgnQKPkAz57bIlJTMfHsHpcDHfjfD4bPM/55/WkBc9kzFteyB2XohBtvlt+qXh+c/MKUCYqUNssrmgKNVfFEVRlIqNSmkFkVJGNlMSA5CdESaRziWLZ6DZu++gdq3qqFP7bVOqo0nj+pg7ZxKiIz1RkBuFmwWxcLQ/hkEDeqJmjWro0KEVzpzeh5zMcGSmhhRv22y3oklpZk4hznskY9buYLkQ+zUuhvMLb5qLyFRM2HgDXWa6o+98TwxZ4o3+C73QbZY7hiz1xkmXhF/l4vDXhNehGeb8nHVLxOfLfNFphjt6zfVAvwWe6D7HA+2muGLMWj+5AC/NjcgsLDschlVHw5GawR+g3w7JGfnYcDISbc3xD1zsjQseSb+qOKcZKd51IRadTfv2MO167Gq8OZ6fFh2jPPhHZmL6jmBzvtzQbbbpz+Z89ZrniY7m757zPLD3cqyIpy3m/z3YZ5bP2hUsNxtUSm+HQnrVCP7Ytf7oMM3N9B03fLHSD+fdk+U3zGovNyOko1f54bOJ1zF3T7CRupziN+6R+NQ8uAelIygm+1cRwpumQrwZN2d3iIhx1u/st09RFOX3jkppBZJSRj8LcqIQHeGJAf174OGHH0TDBnXQt3dXU7qgb9+u2LRhCWKjvEQ8ma7r7+OA7yaMwosvPI8X/vkctm5ejvzsKHnf2m5FktKM7AIjPMmYvz8Ua49HIjTup13A/atc8k7G7D0h+HbzDUzZFoTFh8KwwsjUkoNhIi1NxlzFiiPhIjO/JxjltHOMw/y9IZhq2mXy1kBMMYXi8tU6f7xr2qXRKCeRnNJQVD9f7ouR5gKdEbjfEhk5BThk6kUpbfilEzafjhL5/rXINsJz0iVRhLT251ewyPQ7RqnuFYosI/trTN/lufp6ww15nb4jCFO3B6LHXA9UHWSPSVsDEJ1453dt8YEwI7Ee5juZJJFTpRjeNDh9PREzdwbjuy2BpgTgm00B+G5zIObvC8VRp3iRSBJsJHKGWY/nsedcT1wPvPOGzY+FovtrBShvmv9czXe4p+mTs42Yso8qiqIovx9USiuQlLJ+FM2IUDd079YeVau+iRUr5uPGDR8EBPjCx+sKQgKuybqc4CjFtEl2RhScrpxBty7t8PqrL2H96oXIzYqoUFKam18En7AMXPFJkcjMFyv90WWWO9Yci5CIFdMLs8tIB/25YSSAqXau5qKRUdp5RrwoUu7B6Th6LQGHrsThlGsipu4IROPRTlhsRCEoOkveZ0Q3MqG4vSlcZ8x6FzySEf8D8sWUSWez/RNGPk67JsmF/2WvZISYi1imvzLV1ck39Vb68GmzzUtmP0zlLDLN4ROeiePOCXKRW9YYM0Z7mVp4wqzDcs49SaTyX8HeyPrARV74cqUfPEMyEJWYi7C4HITH58A7NEOioKNW++GUuWC3JTopTyKRrSe7SvRvz8VYaR//yCw5/2UhqZGh6dKW3B7b56Jnktlv+q2oXo5Zh32HdWNdmU7NZY5+KVJnpqyWlWLNzzuadj3pnIgbEeYH08hbQloe1p+IRKvvrssNEabw2kLB84/IxFlzrqzjYf9kGjPPpS0Jqflm+6m4aM6n1eZ8ZT9h6iyFxVYumF7LvsbzyXbk37zhsedyDFpPYoQtREToXknPLhABpUgw2hoal40Ic654zpiufN6020hzvtYcj0Bs8vd9gzeHmDo8dKk3Ppzggrnmu3DMHJuL6WtJZdyIYXvye8Pt8TtB+F3id5qprezLBaY/libBtAPPA79flPBr/mnIKudmAE8j25DfEbb/GXMeeN6ZghyTnCfRSZ4f7o9p9vZeKfKd4feDvx/MauC++H3jMf5Ut2Pa/lmz3WmmXdm2TINmu4aY9rxs9jlqtb98B9yCiuWT/ZvjQfst8MLwFb7ye8FhCcw2uGi+A2Xd2GJ/DDDHyPpZvw3sO9wO1y+jSwvs+x7BGXKu2P/5GfbF8qBYepjvE79jLDx/Dj7J8r2x/c0tNOcuOCZLfpM/+NpZskYOmt9DfoeDTb15vKVhHe292d4JOGu2y+8K+ziXm+6tKIqi/JuhUlpBpbRH9w6oWaMKtmxaifj4SGSbk2Aud4CCOKkn2yjeFHO5h9joG/j6qxGoVaMqNqxbJEKanVFxpJQXtFvPRmHQIm80/+oa3hrogLojHDHIXPgMX+GDtSfMBXPK/a8L0zUpDBO3BGD6ziC5eKSY8OJx/IYbkq46Zq2/pDx+/K2LTDrCsWIzdwWh3VQ3LNwfagQpE4cd4yUi0tdchB4xIsCL2LKuIRlBodj2W+htLv59MHSZj/mcB5YdCkeguSjkRfcIcxFLieu30EvSY4eZdXiBx/cX7g9DGyN5E7cESlqd7UV/oblq5faZLsuLYR4Lt2XnlIBEI1A/Nf2PF6G9Td2+MNvi2FGKgC2JafkiVTGl5JeCNticz+pDHFDPnNtO09wwwNRpy5mocqPN3Db7xbBl3hhg+sYQ00Z95nviq/X+IkyEMrjaXCh3NNujXFHgKSRj1/mjw3Q3LLcLF2GmoFtQEjhZzIiVvmg3xZy3faFyI4DwIrrrTN4QiTTHdbsEFpgr6YMOcRLtZbSc56v3PE8j6L4iDbZ4m37w7aYAtDfHxZRNtsnBK/HoOssD3Wd7SB+xIk28oUCxnbAxQFJAp20PknRbniKOJ+09z0NSJlN+gpSmZRXiu80Bpg+54fT1BLmhYdtPKDfsOxQO21T0CCORC0x/5s0XnrOPv3FGZ9MuFDHKf2nCE3Kx6ECYpLGO32DOj5GP80ZCBpl24ndjw8moO8Sd43jPm3Zjijz7dn/zPWDd+Z3ie2V1UbYT25X9YdhyH+nXQ833ctfFWJHC7eei0WeBp3z/+phzw/ZmFJhi6mokcTS/v9PdsfpoBCITzf8gyxDlu8F6jTd9cNqOQDj5pd72XeI4YGYCsF+wL1pwPxRYpvpSqHnzjVHwgaYeFE/ehLKNRPM3kb8vrF/PuV5GAn2lLhw2cORqXJkSyH34mnMzb28oepvvSV/z/Rq9xl9+R7i90t95iqZrYDqmmjZnn+xl2ozt1sm0zyTzmxIQlVmyppFXc3yUS75fZZA9mph+0d6cV57fA+Y7we1bsE+xPlyf30MOeeBveTf2fVPn7Reif9UsBEVRFOWnoVJawdJ3KaVM3+3Xtxsee/QRfNCiCcZ/NRyrVs6VVF0UxJp2CCiWTVNQlIDgAGcMH9YPb1d/CxvXL65wUsoLHjuneLlwfrT9GTzU5ozI6VfrbsgF5Z5LMUak7n+6J6MMPI52U12x4VQEohJzcMT8XZyaesNInR9ajHNG7WFX5MLYNzwD4XE5Rg5D0OALR9Q3ZZy5CGOq5ddGML40F6czdwfLRRsnBikNo0e8iJ64OdBIcDAmmrq+O/aaXCAy2kNBovhU6n8Z75n9jlvPVOJALD4UipUl6ZiMvFA6GKGkqPHClBeb7sFpIvOUiKnmM5PMurz4nLMnRC7grWjWvcII287zMSLic/cGY8mhMLn4LriL5HqFZEjqaN0RV0R0KNffbroh0efyIoBZJeeDosJjZz15IdzUtBH7BC9+eTHM8W2tJl6XNFRejC86GCqfGbXGT87TxlOR8CoRKV6YM5rFyN8oc8E+eIkPxptzu+lUlLQJxwlz3CUjh6Wl9Kb57Dm3RMxgm5rtTzGFgsN0ZcqvLRw3yLamgNcc5iB1X34kHG2muKLaYAeJfCabenNyIUbaKIBchzcOGGXjuXM1AsbJcygvs00f/ClSmmvk7oJnMhYfCMX07YFy7Afs4+6aPs33ecPg429cUHPoFXSZWSz97HeBZfSdhLR8bDTi+f54Z1Tub48h5vyuMuLXd74Xqgy0F1GjNFrwhgNliSJrpb7K98AcH9vysql3uo3oWDASyhR69uc55rvFmwNNx1zFGHMu/SKyJNLMNn5rgL288js4bWeg2WaY3OzhDRz2C+6LKdq8iVRe1LE81p2MQIfprlh1LFy+a7bwRhDFk/37/2fvL8DtupI7bzjvN/Mlb2aSSWbSge4kPYHudpO73W4ztJkZZGaWJUuyLMu2GGyhxRZYspiZmXV1mZmZmRnqrd/ad0tHR0dkS7buyar71HPOPZsW1KpV/6paa5M27VJDc6cZr7QnQHH6pmzziYNlmuoPgGqZR0STSPWe8HJtlzTjEJuwJss4oG4cEKxylXVaNBlHS2hKtcxXGUNHACrH6ifOtan6LJwpOBpcInsAQIpTjPtTlhGqs/rPS5JbPgo10VCyItzacX90Eu15rcoD/Uwdx2jfEWGt99jciYwDovIzVOboW8pD3QG9V/fVsbA0zZxjyZIlS5Z6FllQ6mcbHQEoS7WOkyeOkuuv/aNc+dtfyvXX/UGeevIhWfzNdMnJjDTnUWeuk84yvwelpCqSggnAeXRkpNw+KFSNpBQDEEg1xIA9B+a5KESklBRCIpOL9xXI9pBSE53DCCZtEGAJyMHjT1otAAeDlh01+f0XbxyTh4ZHyBYFWkQKMFAxgol2kEbnSRigpEKSLkdaW6AafAcV8LylRjzRJgBpc2uH7I8ul14KklmvSTtg/GFoAlQ2q6HZ0NJuojVEZiaty5YKNfZS8hoMwHmctE8FX6EKGkmj3BdVbkDYyxPjFGyXd5fkwoh+IHoMWKQMj4+KMuVxUyTPRERQiQ4BTgD5mUVNpj5NLZ0K9rpP8qAGrSfpwbTb4ZhKk3aJ4Q4wfVDbeOWhIgPozLn63FX6Pwb773sfN8Yw6ZxE/pZqP2IM059EZIlYYiSTnk3Ej1TCnSHlxmhetLfAOAmGKFDYEVpqgIFLvBuSdiXCSnloT8oGOCW9FUeEJ7gBUGHUj1AD/N4h4WbtJu1PSuVIrQPlZxdTykMkdYyWiSgg11FPQDXgDPA9XPtyjZaL9vo2hKOCVO+hi9PkfgUTRKzpf6KmZyJAD2mglGPwglSzfpI0UNrUV3SRqG9sZr0BW4+NjJInxkQbZ8FxbSPuMUfHdr7WF6IeRNGIyCHvRMMBPIwFUrxxCiG/7vkQqfXoAtqdyKJJBU2r1T7Ll2fGRpk0Y1LJGZMLdxfIowr+iIaSJp2cX2+i2X1V9pE76kBfM44X7y08JYp+PrRMwbq7vMC7LXyBUs6hbUh7v+KNoyYde6fKF5FjZIBI8YcKBtnEyNVzyBJtWqPyQBo0DpM52/OMPgJMN3uMNeqMQ2rA3CR5StsCPUpmAm1FWjSR47dUBwXEO5FbIvPIMssTAI3IaaWOT/qFVNw5KneAZdKx3dR3noFDiugtz/lawS//I68tbSc3dYJwpjDmiAJTVsYum5wBgnGSfbMnT+tuQaklS5Ys9TSyoNRPQKnDqaaOgM7YqCOyecMSWbN6vqxZNV9Gj/hYnun1mEwcP0IKcuPMLr2cJx3+D0rLa1tMZAgAtTmwxHjel+0vMBEBX7u4XioCeOxT0MBOu8vV8FynBhhgD4MagEgkFQObtFOiMi4RJcLAA1BjrPE/BHgjIsPuvZ7pnYDfTYGlBhyY9M/5ySYC0UcNa6KIpLhFqQEHkYpK6i4bC7nELqovqUF9sPueAHoAImCP9WHTN+XIzR8Gy2/fO24ALqDikwUpxnAnmvuUAgbA93chAAogAuAOwButoC5IjU9faYUY2vv1eWwYBRjA8D0bEZHEkP1Y24T2wcBnR19SBUmbfnhEhFnP5mkI8z+RpIF6DetUXQJkknJIhA/jmw1n6CtSs93LSa/GAYKBTvSWtvF85QWfADQA5utfankUGOA06a/GOX1+n4LOpfsLzbkuhaZWG4CG7HA/QBdygbPCXX8IqKVNeM0Hcu4+j3NI0R63OsukiZLqW1J9sjzfhppbAUZ1JjI9d3uuDFOAuuZIsZFpbwLss6YQcDNN64DTA+fB2YhXJwGip2/ONtFK1j4DIgFARI2pb7OCF+oQkFBpdvz9zdsBcuvAUOO0IS1+oAJHdnO+vl+wqbfn+mfSwYkCkt7OuAFkEh19fnyM3PFxqHEkuOnBG4+XymuT42RbUKn5v6CiWYFUskmRdyN6Kw4Wmag7m5VdKCjFAcJ4I23cez00aeCUi7HG7t0QqdxEv6/7IEgeHRUpKxSE4zyC0CtE6ilvWCog0Px8Gm06Xmx0z4aAEinQ9vRcJ01fkUVxdZ9A+UPvQNU3caYMg/WZRJJvVF3wyuRYs1Mw16Evxuu9cM4wJjzTtiHW+aYVNBhA7D4Fhw6yw+ZYlMUzqutN8TkNxuFws/YtIJmy7AorM1kNpNIjC770hCVLlixZurzJglI/ipTC1LGjpci87qVFwWVHe6m0tVTIhnVL5JprrjLAFBBKmm9tVaZaxKWSlRF+EpQuApTmGtB64r49HJSSmsturaTKst4RYnMjvOwY6742qrnYVNPQZtIcv9qWI/N25Bpwx1q75QcKZOLaTAO8WPNH2hpREoxwCICBcc9ulIBYF5CyXm39sRKTdkf0x02dw9AmygjgHrYk9cROqH3UeAQwPqYgZ5UCKQw3jEjAFLt5kuJZqkBpb0SFAZ9LFLTzTkQilIv3FMisrTkm0kaElegT6XdEbAAJALEJWgeiFKTdErF0N2X6rkTfEKWhfb5UsEcUyzsdF5BDtJm1mkTPzkYAC9bwkoJLCiLreydq2wLc7/40zKxlI7JIRAoiioQTgzZi/SyRR4ioLaAPAAp4YOOjjWpMvzgxxjgcvEWqTEECz2L9G9E0l6rr2819AHKkQ1Im+hrQhCyQtk2ky5UHl9YdK5JXFQiwe603cIGInm0OLDXpvwA/X+WZqnUC/BBhuljEc2g70pORPdI6kUl2VnUJ4IhTgGcTBWdsnItYZwm4JDXTe+2oJxH9I2pNyi1ADFBOmvNElWlS2EmJnrklRwKTqky7sbkU62qX6ThknACkkGXOJaPhhv5BJipHBJqUYyLZpAQTxSTSh/NhhYJI+owINGDQlQueQzTzTEDwTHQ2UEq0FmcKa5/DVOYgQDrjEaC2LaTMbD7lEg6IoYtS5RUdG4B/X2XBuQXoxikTknQyJdglxtyTY6JNajARZsbCBG1Pd8xP1rGJbgVYIneHYyu0LM5a58aWU8fqmYilBtyHpQVsunY2IlUZ8ExfUh5SfLmWDAYyBNisifXZlixZsmSpZ5EFpX4CSol6Vmkd05JD5MiBzZLG+lE5mdK5a8d6+d3vfiUPPnC3ZKSGmveUtit4VfNVykozZcin/eWmG68x0VU1ZZRrDGilvcqKEno0KCVSgbGI8eUaZa36G6l3eNdJ3bvUlKYAFNCJMYkhC9jisURo1irYfP+rJJOq+uSYKDW2Mk5EcXifKus6WZvl+dL84OQa6Tc3WQFu3ikRH84ncjp1Y5ak5tebKB31JD0SQ3GqGuhEr2gL0vW4N6/IgaIUoPedlWRAM2uyKNtXCt4AtGzQBBG9JP0RI5b1dxi9AGXYTWVkI5kLfSULbUG0DnDtC2QRGSNFkI1NSNXzJEApQJq0xfUeoJSNkjjXMwoH0P5gbpKpN2sXkQvWUh6NrxQ2PGKjl/SCkwAwt7RJRi9PN2AoNvskeENueFUHaxUBjKT4rlSw/7Aa7t7AmDYiUgrQ4LmkMrrEmkPWCRM9J2Wbdab0Dc6AQV+nyHszE4wjwJuIKvEe0Lnah76ovb1L1h4pUZmKNODIk4guAsyJcuFgcDdhuhCiv0g/xmniuQmNS4Be0r0BdrStZxTWRDO1P42sK2h0nULIDFE25MibALFsZkNq8pl2z4UoC+tnHx4eaSLAOBUAva6MsrMvMoBDiOeSHjp3Z65Zb754f76RBTNm9FzAF2Np5cEiU2ZAF88nZZ5IN/1Eqi2bIrl9XlbVYmSU8xJydJx71Pt8iWg/UVaAryexeQ8ZAZ98k2LAM9FGCKDMO0qJrAOUXSJKGpRYJZ8t1PNXOpuVdTf1KQTIJzL/ro4v1hh7E1kCj6kcAdpxZlEOzzFPmjpAsFblwVmiUK7nR5l+8EWl1S3mGhwyLpGqi9OGbATScyH0ADrGRMFVZ9GUyEhheYs5Rl+Tts/afLIFGF83DQg2GTHn4+iwZMmSJUuXF1lQ6geglGhmY12O1Ndky6H9m6T3u6/JuM8/k8T4QCkpKZTCwhxZsmiO3HjDH+XVV54z60rbmvPNa2FKS/MlPOy4vPfOK/Lb31wh8+d8qeenS2kJbZXs3L+HR0ovBwK4kGZGJIDIjCexnovoJpFQ1mjxShKMLtZgmdecjIk2G69gBGLkYqBhBD+mhiiGIq/ecA17Xu/Qa2yUSccFlLGuD6MTYMOzZ6qhSLSY8rgv5cd4J2KEQYpxS7onr+8oVIDIJkaPj44061EpE6/LeHt6vIlwcQ/uj7EOY6BuDy2VBWZTpLNHO7wJo59oNimEbMACKMbgdD+PxFYZEDZQgRrGtSfRJl/vzDdG6RI16AG3rKX7anuuLNL2Y12nS9EKmN9RoEfKLmmXtA1lD0qqlkELks3GT9SLiA/MJku87oQIJ8CI33BysHvta1/Gy7sKSADzGOSbgkpNaiOggraAS5V5BQYpoWwoRao06+1c4E3klSgtUc+IVAWlWh5AEcD+M+0friPCzjPpI4AQ9yX9/OVJsSZaBZCnjfgdQ522pJw7QhQIa5+zYQ/HSJvkE8ALCGHjJnbvJa3TpNleAH7iGZQR+SNdFMcIAB/mOfzPLq29FGSQBk55XOJaovQ4aIgOEyXLVnCLTBPVJGrvnkd9kAEicURK6SOACvUFoABsPFM16YcFuwuMrDMWOM/0sTLfkYXlCjLX6bMYX9yfLIBen0dpv7H5lCMPXIMjiJ1plx8oMtcm5DaYNmftKA4b49jZkWcAGKnFpOcXVbSY3aOJOuLIYZffCyUyGUixp1xkHNCeMCn6gF2i/EQ9AeekC9M2pHgT6Z+zI1eyShrN+CV1FvCKUyI6ve6UCKonUV+i8Tif2KTLm4gSEy0mG4FduWkbd9zQB4xbxlmKjgn6DB1BSjvvYaZvPWWP9Nq1R4tM1gMOCBckEwEmok+/UU/am/HGhl1rj+j8rc9jzGwMKDEyDwjmN8YK5cgoajJg9LZBoWbzprIaOzdZsmTJUk8jC0r9BJQ21GZLY22ORITuk6FDBshLLz4tA/q9KyOGD5ZhQz+S9997Xd7v/bqsWvm1iaoCYHduXyUTxo+Q9959XX535a/lr/7qf8qD998lHw3sIzNnjJPIsAN6XpbUVjqbIllQ+u0JQLktuOxEui0pjgBJjErWdRK5ct+1qHadMe4AiUSzfv/ecRMFJDqGscb6Q9aIXvX+cRNdZSMXDDSIqMJiNa5Jd8UoxLCdrcYku1/+6aNQs0aO34gssqPs9f2DzaYjACUMXSI0pAKSBkeUEcOcHV6J8MXqczO13MsOFDrptOudFEXSWlkfSCopRvBs/Z9o8IUQ9caoNK9zGR8rs/V+RIF5PumSpCPzTHYapg28iY1XOBcQDVCarOcDeDaowYxB7BJgic19qD+bB5Hyx3OIYrMj852D1bDflmeAXn5Zi4n23KJlgknJzON3BbPstooBTGSGnWtxJJCSvVAB6SRtF6JsACw+aQ92ZKX92XmUVFJerYE9Tl3oV+qGUU7fsG4YcM4GR6Tvss6Odkc+AACUGUDH83lVDdfRXoBAHAwAMGQIcL1wT74x4nmdEGWBAVLsiHqXgpgbtP+pO/3lvdPr2Qj5JE314eERBhDR5qQgIws8Y4oyKZW8qoWyUx6XACJs3oXcGjnSdkJuHMCVa8AKBNhgzPAb0W12RWbNL303d3u+uW71kWIDaN37A1xCFWQ77ZFt2sSMAf2fNbj8RlmRI0AagBaHBO1Dv9BXzk66uQYg0cY4JLieTafu/CRM7vg4zGx2RPYDAJIdrVmrCtDOLGwyr3a67aMQ40jyjuqfD/FqGdqR1NgpWn7akz4nqmw2FtPn8I5d6kpqLWDymr6BJvLM7seMSdqT8gLqws0She6b+yCiyYBSXpnlblbkSQDRhbtVp2j7MObZaZl2YszTN2O1XLziiPN4DNFzlkbQt+zMS7sDaBlL/EYmyHy9H04zF5TSF9SF9eqUmfoyBqjHju6UZJwIPB+dRdSccjBW6Bujf/QZtBXr9s8EwC1ZsmTJ0uVLFpT6SfouZad+vBYmJTFIxo75TP506w3yx6uvNLvvvvjCU7Jz20qpUTBK2i7XfDVzvNx/3x1y1e9/I1cqKP31r64w33/721+a8w/u22g2PGqozZJyPb+podyC0m9JGPFEdQAgAAl2ecUYxoBi7RWGs2caZYsay2yiwzpJNid6amy0MZyJqu4KKzcb9NzzWZhZ50XUkvdAQoA7NgliXeMbU+LMayswrklD5J2ZvFuT/1+bHC/PKQB9eFiked8gL/wnAgkwAJwB7gA1O/VZpOuypmxTYIlZs0d0xH3HIfdnkxMirtyXKCFpsRiQF0K8QxHABWhmLSX3IkJJZIqUPjaqIdpb0+j7Haik6CbnNigAyzLvvOw9K8FE6IgKe240Q/uQssnrQthplHdcEt1kp1R2dGVjIQA8aZCsN+a5Dyjouk/bhO8Y+LwOh++ce7eCFNImWfNIpIxIIZvb8M5N1u+SMs3/RM3m7siXB7S9ifiy7o5doYnykpYdpKCa6GUvbU/qTP1p2weHhSvIUZ2ldWdDG1JHaWvahCgna0ZP9m+0MejZ+AcCtBAZZNOdV/QcIu7IEeAAAMVrap4YFWXkcVdomUnrPV+iRUnBZEOg+7V9nlUZIVLtlvu1KfHC2khknpROb6LugCFkCkDHNbzihU113F2WAeEAoefGxZpyU19XzninJpvcAK5jFMS5MgHIQUYBPIBMzodf0mcgx7wSBweQ+y5d5/wOAzBpl2e1v17QtnxV70/f0aYv6icR55eVec/rg9qH7DTMWlz6heg3DoSVOuayippM1BQZZozy6hkXeJ0vEbWmHZCb57XcyCXOIgBdYl69E9VWIlJLdJedgOn/7apb2I0YOXpQy8PmYEQU3aj8mYjUc9LxiYay87M3EaFnUyk222IjKGSUMU9/vDU1QfVUsUm/dcvFeCOCye/IAe3uyufr2iboJtKfGS8u4aBDZ5BajZOENHjGIenHOFnoK+5PhBtZYOxxT3QcTiz6irGBw477fJu0aUuWLFmy9MOSBaV+tNERn4BI1otGhR+UhQumy8zp42T2rImyZdNSKcyLlc72UpPqy/kBR7bJIj1njh5ng6OVy+fpNdNkxvQvZM3KryU54bhZV1pdoe1i03cvCvEaBV7rQoQKQ4r1aKzzPKygxo12QryXk82Y2GSHjUwO6CcgiTVxRCRIcWPtFseItBJV8iSiR6TdsdvwzrAys+aKdXxcB9DcHV5uvrPWlAgFQJLoAu/bZCdL3kkIoACAHo2rMvdI9kibJU3RvKRf78/rTdjQhnNIm/22xGtWWCsL6CadmbRE7s0zMP4931Xoi5z3p9aZSCi7y57tfOqGAU7EDEcBbWnaQ9v5WEK1KQtRVdIZcRzQlpShUH8jPThAf6ftaEdeH0IE1SVSe7dr2TdqOQAKqflORIgdRVkTyLNy1Ij3fPcqhvRxNcDpr20hpaZfqQPPcHeaJdoOyGGNH8eJVDr9WWZ2KaYPiKKxq6knEbniHDY+ggEqjpPE2eF4t7Z3RmGTT7B/NqLMRIipzw59Ps+g32hTysd63HMRbUxbUefskpNtCCGPrLOlvsjkMW1nyrsr3Knv5qASs16VNYq+gB8bc3Ffrjfto5+klvpymPDaINqF1y1tpS5aJsbeMZV9ZIK67dY68XzGErJAOiprgGlzjtMWODzIguAc+s7z3Z0XQtQnTcc5bYP806aUz5OaFNSxzplIIqmugDbWkSJHbARExNVtF/oW8E3dSftlnTPsOi4ApbxiBZk6E5GFQb8iQ4xLt5+LK32vH+cdy4wPzqP9+eRVPcjymQhAS3uSyo2u9ATU1AF54fVWvKfU6Aj9ZPwi+zj5XGBsyZIlS5Z6HllQ6ieg1JNZK0o6b2tTgXKh+WxWsEr9K/V4eYlzXr3WuaUx35zDbrxtzUXOp54PuOV8wGtZcc/e6OhyIXYgZf3nN7vzzHtBibCRSsjusr6MakuWLFm6GMRazjVHi0xaLOmu83flmYguG2WRdk+GARs6ATwtWbJkyZKlH4IsKPVDUFqpbVBTmW6AaUNtjmHqx+68nufRHqwtdc/xZPd8B5TajY4uFrV3OLuWkuZJhIJP+049S5YsXUriHbKknLPulLTb1ybHmhTzp8dGmfXJW4PLTKaGdY5ZsmTJkqUfiiwo9UNQ6jL18eRzHfdm9zy7+64lS5Ys9Vwi1ZhUZDeV2U1/3RpUIvsjy42DzJIlS5YsWfohyYJSPwalF4stKLVkyZKlnkts/MP6TDaBYm0pay/N9+51pTZAasmSJUuWfmiyoNSC0nOyBaWWLFmyZMmSJUuWLFm6VGRBqQWl52QLSi1ZsmTJkiVLlixZsnSpyIJSC0rPyRaUWrJkyZIlS5YsWbJk6VKRBaUWlJ6TLSi1ZMmSJUuWLFmyZMnSpSILSi0oPSdbUGrJkiVLlixZsmTJkqVLRRaU+jEo5R2j3vxtzrOg1JIlS5YsWbJkyZIlS5eKLCj1M1DqAsqG2hzpaCmSrrYS6WovNdyp35vqc0+cV1aUZOre0ph/yjlce/JeClItKLVkyZIlS5YsWbJkydIlIgtK/TRSSp2qK9KlQoFlaWGi4TJtlzL9H7BJXWuqMrRTMvW7tpkeL9HjpQpUq0x7ZDrXKygt80NQ2tHZJfVNzvv67Dv6LFmyZMmSJUuWLFn64ciCUj8CpVVaR+pRrkDy8IFNMn3qFzJ65GAZ+tkAGTpkgIwd/Yls3bxMSgoTpLE+RzunTHKyomTZkq9kiJ7z6Sf9ZOTwQbJ391pprM2W1qYCvW+qtmeCX4HSLkWhOaVNsjO0TBJz66WTHyxZsmTJkiVLlixZsvSDkAWlfgJKiX5SP4Ak0c4RwwbJz3/+H3LFFT+Tq6/+neGbb75eJk0cadqgvblQCvJjZfmSOfLsM0/IH//4e/nDVb+Va665SgYP6ivhoftMu9RUZOi9k8wz/AWUFla2yIaAEhm/JlNCUmq6f7VkyZIlS5YsWbJkydIPQRaU+hkobW8plKK8OHnjteflJz/+R3nt1edk/rwpMm/uZJkx7QvZv3e9NNRka+Ony9dzv5Tnn3tS+vV9xxyfP3eKTJ8y1lz73juvygHOrc2R+ppMKddnNDWU90hQSiC0vaPLfBaUN8vS/YUydEmarDpcJLllzc6x7nMtWbJkyZIlS5YsWbL0/ZIFpX4YKc3PjpY333hBbrn5Otmzc43pCJEWaW3MV4CZJU11uVJcEC+zZoyXwR/3lUP7NurxanNOV1up9H3/DfmPf/tXPf6FAtE8aWnM69GgtLGlQ44nVMnao8UyaV2WPPtFtDw6MkqmbcqRlYeKJCC+SmobEVhLlixZsmTJkiVLlix932RBqZ+B0rbmAinIjZU3Xn9efv2rX8jE8SMkKT5A8hSo1msd21uKT7RDekqopCQEmmtFKqWrs0IS448roH1R7rrzFlmz8msDYJvqc3o0KK1pbJNFe/PlyTGR8pu3A+Rnrx+VG/uHyEsTYuXVyXEyZ3ueFFf1zFRkS5YsWbJkyZIlS5Z6Ol2eoLRe/uz6FPmzn1tQet7smb5bXJAgH/R9S370o78zwPTB+++SgR++J6HBe6SzvcScxzWA1Ob6PPMaGK6LCD8g/fq9Iy+/3EuWLpklWenhUleVKVXlzjN66prSto5Oic6olU8Xpcp/vHpEftTroDzzRYxJ490RUirhqTVS32QjpZYsWbJkyZIlS5Ys/RBkQamfgFKYV7g01uVIWUmSrFg2R15/7Xl5+smH5dlej8pLLzxlduI9cniLAbC1CjZrKtMVpJZpG5VKYMAO+bD/u/KUnv/13MmmnUgFrixL0/bs2bvvNjS3y6HYSpm6MVsGzEuSvrOT5PNVGSZ1N7OoUVraVFDtolJLlixZsmTJkiVLln4QsqDUjyKlfFIPUnj5PyH2qISHHZLgwEMyfeo4ufvOW6V/v3ckNytKzynUziyW5qZCOR6wU/p98JY88tA98vWcyVJanK6trZ2toLSsmPecxvdoUFpa3Srzd+fLvB15EppSI2mFjbIrvFy+3JBloqSWLFmyZMmSJUuWLFn64ciCUj+KlFaUpEhZUZKUK5AEUIqcBFw7t6+X3135K3nowXskMy1MpKNMO79CIsMOmFfAvPjC07JwwUy9jwLSrjqprc0z9wTclhcn9mhQWtPYLodjKw0gbWpl0yfntTB7Isolyb6n1JIlS5YsWbJkyZKlH5QsKPUTUFpXnakNmiExkYdk0YIZsm/3Om3kLG01gGOTbNqwQq7+w5Xy9FOPSEFOjHS0FktE2H4ZNmSgvP7q87J82VxpaylTQForwcd3yepVX0tUxAGTElxd4bSLv7yn1JIlS5YsWbJkyZIlS5cPWVDqB6CUaGZTfa5ZT3pw3wZ56cWnpV/ft833tNRwSYwLlNmzJso9d98mgwa+rw2frh2QLZ992k/+cNVvZUC/dyU0eK9kpodLSNAe827TP916g6xcPlfv2fN337VkyZIlS5YsWbJkydLlSxaU+kmklLrV12RLRmqoLFk8U954/QV58IG75ZGH7zX8TK/HZNznQyQ8ZK+JklLXd99+Rf72b/+XXHnlr+W5Z5+QJx9/UO6561b5y7/8S/npv/6LLF38lbQ0FkhzQ89+T6klS5YsWbJkyZIlS5YuX7Kg1I82OiLVlohphdZj8cKZBojed+8dZh0pEVIAaVd7qdnkqLwkRZYsmiWvvvqsPPLI/fLoo/fLIw/dKw8/dI/ce8/tJnp6/OgOaazNManBDii16buWLFmyZMmSJUuWLFm6uGRBqR+BUj6pR1N9ntlhNzRojxw7sk2OH9sh8TFHTf2IegJeOTc3O8rs0Mt5Ace2m/OCju+U8NC9kpIUJMUFzq67FSVJ5nwLSi1ZsmTJkiVLlixZsnSxyYJSPwGlLgNOqQfrSzvbiqWrvcQw0VHeTcpxXvPCuU16TkdrkXR1lOi5DpvzO5xoKudzblkPf0+pJUuWLFmyZMmSJUuWLl+yoNTPQKnLTp0yTb3Mzrxad+oHKCV11z2ntiqj+7xT2T2f83r6K2EsWbJkyZIlS5YsWbJ0+ZIFpX4KSh3weSqfzzmefOI8C0otWbJkyZIlS5YsWbJ0iciCUj8FpReTLSi1ZMmSJUuWLFmyZMnSpSILSi0oPSdbUGrJkiVLlixZsmTJkqVLRRaUWlB6Trag1JIlS5YsWbJkyZIlS5eKLCi1oPScbEGpJUuWLFmyZMmSJUuWLhVZUGpB6TnZglJLlixZsmTJkiVLlixdKvIEpTXVpVJfU64YTrkbmBo2wLTWANMWBaYtBpg2KShtVjAKMHXYgtLLiHnti68ddeHTzz37ORaUWrJkyZIlS5YsWbJk6VLRKZFSBaRNCkKbG6ukpanGYLrWFuXWOmlvq1cM0qDnNyk3K9hsUeDZqtwm4rIARDs82AGlTU3Ven8LSr9Xrq5IN3Wqr8n24CzTBhx3wSd1rq3KPOW8msr0E+eYTwtKLfkxtbV3SXNrp7R1dHX/YsmSJUuWLF0c6uxy5piWNjWK7TRjydIZqbOj3aTo1taUSlNjrbQrhgNrdLS36jEnJbejkwioAlAFmJ1d7d3c0c0AT8ZZ92f39y79M/fXc5oU4FpQ+j2xCyQbarOlrblQ2luKzCfc2lRgQKfneQDQ5oa8E+fAjXU5UqXt5Zyj4NWCUkt+TKn5DXIkrkrSChtEbQdLlixZsmTpolFVfZscT6yS8NRaqWkkemPJkiVf1NENSuvryk06LrGCplbRcSNSWd8lFTWdUl7dYbhMuQSuapfiqg6HK9ulqKLDcGF5u+QrF1a0S2Vdh7Tq0AOgkvpbXp5ngOn5g9JUBaUbFJTOtKD0Qpg6lOtnfm6MpCQGSVzMUYmOPCTREYckLuqwZKaFSZmCzeqKdANcq8pTJT0lVKIiDhqO1XPysqO0PTKltoqoarKUaXv6Gyhtbe9U4W6V+uaObv/J90NE46rrddBUtuhgaZFC/SytbpUyLUtRVfdvFS1SUddmytjapgNQjxVWNJvJrKOHRvPqm1EULZJX3mzqXt3Qrm3R2X3UN7VrXWsbO6S+qUM6LqF7eXtwmYxekS67wsou6XPORTy7TutLnam7pe9OjS0dZtw0t5G68/0TTo4mLUNxlY5vlfs6leXOyzRU0tzaIaWUU8cpbXa5lvNMhL50dGWLAQHn0i8Xmxpb1DDSPjY6rrsMlMnSSSJi2KBjAB3Xdoa2QepqVf7cuZHx09OdhZlFjTJpfZbM2ZEnuWXN3b9+S9K2QK8Vq70AMz+e71jlrGa1KWp0/m3S8d5lvbDfmdpVzyCvyPXlZp+RBVZZ2+bYlPr5Q+sjbJzqBqc8ZTVtJnPAmzo62pzNjOorzGZFDQpICyq7JLWoSxJyOiQ2s02i0lolIrVVwlJaJSSxVYITmiVQOSChRY7FN8vRuBY5Etsqh6NbZF9Ek+yPbJLw1GYFrwBT7a+6aikoypaKijwFvg3S3tZoQenFZqKaRDcBmoDOFcvnyuuvPi+PP/aAPPTQPfLQg/dIr6cfkXlzJktxYby0NRdoi1ZIQuwxGTFskDz4wN1y/313mvMXzp9mQGtHa5EBraWFCX4FStHfURl1Mmd7rgQmVZuJ8vsgJoAMnZxmb82VD+cly8CvU+TThakyfEmaDF+aJp8tSpWP9LcBemziuiyJy6qTjMJG+UrPf39Wgizak28m6Z5GNO+x+CoZoXXsPTNB+s9NMpNzurbF2QggvuJAkWwJKjVA/lJRUm6D7IusMJ8/pB3OxLbxeImsOlxoDNvv1Vvih8R4OxJbKYv35euEVNP96/dLOBfQNaNXZEjf2Ymy7lixgpXLM1KSlNcgE9dmqa5JlMV7C4yjrCdRgRo687bnSe8ZiTJTdSa69vs0usNSamTMinTpre33wewkmbE5R3VKffdRS1CjAqGdoaWybH+hArUmn3MvY2Z3RLkM+DpZ58c0OaxjuFWN655MlXVtRhcFJlYZZ8V3Im2KqIxaGbksXfrpXLoxoOS879muExz6aMHufAlRefUFCixdGOWWNcmyAwWyPbRMymsvL51ZUtUqS/YVSp+vkmT8mkxJ/oH1UZ3aOBt0DvxA58KRyzIkMq22+8hJApQ2KSg1eKOtVcr0lJSCTknM65R4BaXRme06n7ep/LZJUHKbgtE2OR7XKkdj21RXtMnBmFY5oGB0f1Sb7I1olR2hrbI1qFl2hzVJYnab1Da0S0VVlWTkZElZea4CUgtKLwkDSqkfKbrFCiL7ffC2/MPf/0iu/O0vFXDeIQ/cf4c8/PC9MmfWRAM0WxrzJDhwt4waOViefvIRA1wffOBOufee2+S9d16V9WsXSk5mpNRVZZk29RdQiqcmNlOV8q58mbklR1Lyv79B2q4TKxPTU2Oi5O5PwtRITZJ3ZiTIPZ+Fya0fhcgrk+IUlCbLE6Mj5b4h4bL2SJEkqhL5fFWm/LFPoLw8Mdb8f7lRvgKo9apoVh0uMm3L2hlP6tJ/D8dUytDFafLihBj500eh0uvzaFUeld1n+KbskkZjyBPFxLPr79TQ3CHDl6VJ/3lJ5wTs/kQYRqS2LVVDdVdY+UV1vCzYky9vTouTLYEl3b98v4S+idCJt9+cJPl97+PGiMwqaeo+enlRan6jDF6QKle/HySvTo7rcYAK7/u0TTlyfb9geXx0lAEzRDG+LwpOqpYRChRemRQrtw0KkUdHRsn2kNLuo5YgMoUmrc+Ud3Xei830LV+Mmd3h5fLoqCi5pm+QTNmQbXSjpZOUkt8gfeckyu/eO26c2zhgzpf2aNu+pLYEDtDvixJyGuRoXJUB598HldW0yN7IcgVkBcYhfikzj7DJ3puZoKAv67ILGuBYnLM9T24fFCp3qc254wfWR4zjVYcK5Z5Pw+TmD0Nk+YHC7iMnyROUtrS0qn0pCkY7DTDNKOmSlEIHnMZkA1A7JTK9QyJSOyQspVOBaqcEJ3dIYFK72hQdcjS+Qw7FdMiesDbZEdQkkamtUlHTJkXllRKfninFpbnSYUHppWFAKem2rAktyI01UdJf//oXMn7cCAkLOSwhwYflyKGtkhh3TJrqcs35EyeMMNHTyRNHSXjYMYmODJTjAbvlnbdelrvuvEVWrZin4DNXGutzzDOaGsp7JChFIZFWlVXcJEGJ1QbkEQ1YfaTYKBRSYL6PtIYWBWvbgkvlgWHhJkIaowCOCB2e9We+iJaVOlhT8hpk/s48ue+zcAOaSekNUmPnvZmJ8vqXaijqcQY26yDTCxtN+vGZiHqTRoZxCZvzmy7e5A74LFWlR/TnuXEx0kvrsFqBqTeAxBmOcmQiPRRdIR8vSJFnPo9Rg62s+4xTCe95dX2b7IuqkGf1vn2/SpSAhCpJK2gwSv9sEwzPclObAMuUBSPHk/gPj11WcaMka5mY0LkvaU3noiqdVKlHsvYDn6RZ+yKAVm5pk+kvzkvTts/R/6mXr/KQ3hyt8vD29AR5SY3a7aGlpmyksPnyZtOP2QpuiDbUNzntTaSVuuSXNRsZ8RUk4vnIQUJOvZE1Ukp9nQdRTjy/qdrubn3TChqN8U8b0/9EsxlXuaXNJqrPOSXdEzPpYZyPrNLe3sRzKXtkRq0MW5omDw6NUNlINWU7E3FPyp+UV3+KnFFf6k45SVOiLwu1/0cuTzdOnumbc8yxHG2zcxm41JvIA9Fq0m6bvJwsF0pE+Q9EV8rz42Nl4Pxk016uHJHWR53ORMg6cpSY22DaBUB7tvLQnsgFUX/uT99l6/MwBr3HDe2XrO1Ie3JPUr0ORlXK29MSVQbjJCq9rvvMk0Tb0P+JWhaewbW+2pMIJam0qdr/BSojbnoh45Jr0Ac877sQY4BxhXyxHID6Ud+P5qfI02OjTTp+iw+9ThloG9ozXctHX5yNGAOMFUf+tc9Ub6AvvMclbcw56KqhS1LlyTHRsuZwcfdR38S8wxjkOuSTuiDHlNHbucf4ZrwjP00tzjHGM+OOPjHpmObXU4nxwDg0Y17vfybDmf7IU93BnOjUVXWWyhLtczade76EzkAf4nRjrlh/rMQ8Cz3tPQaQnVlbc3XsRikozTLRjRJtE+pAXc+ksyB0DeOKc2nTgvKW03TudyHknT7g/tSHNvN1f/qWsiI7yCX1pGznSrVFrjL1/rSNJ4gjvZ7fGbPcC9D17Bcx8umiVCOXZGDwLOSTZT/ehEMAfT1XQcrDwyNl2uZsE3GlLuiCs7XptyHkBnk+nlAtMzbnmuwvnuVNtB31QZ/QpvQdsgJRpgodf9SJOQbdhmzyyRjgOHOkkQv9dIn5YeiSNHlA55RPvklRoFLtcw7yJs5h/NH29Bm6qkDLhl71zrrgX8YfmVxPfx4tA+Ymq56vMNcgv2fqZvqXeyKbZsyjU/SZnjqFsYjsoD/LdfxCyBPthy13psg4/c69PM+hLmNWZMijIyJlrdq83sQ16CDK4uo56oAO8p5rnLHlpYMaHJvC6KDu31winRm7h/7BVoQYL0RtH9HykK3oTQaUNgJKKxWUtuj1XRKV2S6J+Tr3FysoVXAan90pMVmdKr+dEpHWKeGpnRIKKE3uVHu5Q2WuQ/VwNyiN7ZB94W2yM6RJotMdUJpTVCFhielSUJyjOKZB2YLSi86ekdK87GgFpc/JzTddI+vXLZOamkppbtaGbyvT4/nSUJMtxQXxsmHdIlnw9RQFo0e18+uloaFOamuLpV/ft+Tn//lvMnvWeP0tT5ob8/T+PReUMpA2BBTLMFVSr02Ok9s/DjU8UI2XEcvSZM3Rou8l7YKJFyD2rE7Ii/eRPu0o1M9XZUgfBV6hKU6KYYgq0OcVjJH+xYAnBWOafu8/J0nC02qM0UOa7+BvUiUgvkoV+OkTEAoTxb1wT75JByZdmIgj3nwMDC/9+q0IxURqyLjVmQqgc2XujjxTh7MZ2SjxeQq635gSf0ZQipIM0XIO0v65cUCw3DskXA3lePlkYYpsNqm8ZzYiSfMiVXPMygxT502BJVLTeGp5AL1RabUyTtudyBURa8ofl31mMOROQJuOl8jAeSnmGtp1Q0CJTkDsANd9ohJGB5PC9E3ZaiAna7lTjawBxlcfKpRKL1mjPETsUdS3DQo1/OqXceb+RA+ZMLwJwDppfbb0m5Msa44UGfB0KLbSGOREpJELb6OZdt2nhgxADafMYJ2sSdPkWl8TKG1JZJ+060Fa9s8WO/WYrM8NTak2k81ila/BeoxnUj/afNmBIlPmyPRap+5fJ8shBWUY2Z5yxzMp55QNOTJBDZbJ67PMOCUN0xdhlAWpXJDmTvoPoINJEwOG34doGQZof2KsMUGuO1psjNrr+wUZo4G0cQxcjJ+zUZWOuZWHC6W/9vEE7ZO47NPB2YUSQJ02IuUuLqveOKeQPdL2aSdfhipthYGEHqBdibZO1DbCeUHf+ugyYwSSuvohqY/aTrQVDrDVCo48wQhttiO0TPppO3I8JLnG6AWMw0nrsuWNqfEmwutJlAfDcMHuAqOLHJ2SYdIAkS3PvmW94P6oim4dm27GJPf+RuWFKBnGCMbJtyUMNCKhyCX9Sl0aug3ZhXsKTLSS37zHAIYa3nl0yfuqc0csTZfdYeXO3gJeDcq4RPeu0DGLXA3SscyY4Xn0CYaWLwK0LNFx+/qX8ecEpcxNpF9SHu5NfzGOpqnu8NZHsVl1MrZbr6E7kamdOgaQC/RdpM4N3kAfXbwtpNTMfYx5ZALDFEPfs770PSB0zrY8+VCNa2QC/UvmznIdz4yn70I8CycgOpEsoVsGhsrLk+JM2efvyjNzlTchP7T1rK05Rq6Jer07XWVHywi48jVmADjH4irlc20P+pc6fL0z38itr1ThCyXknDkOvYCzFP3+1TZHlnm25xMwwpfuLzDtyXwxbImzbwEA+0zUov0XpfqAMcOSHaKZrKlFjvkd3f3BnETZHV5mwAfyO2FtltEhyARp46P0HGTTuzzIPvr1uXGxcn3/YJOt5ET4Mk2dfAHrCyXugcwhX1sCS7X/kuXdmYmqU7JkV3i5cZB4El1C2wGUB3brOOwh9AV1xrbZq9cN0bkH2QVoUscvVmWqvNcZuZy/K984c7ErcHYhF8w/m3Xun7oxW75UnTlW77k3otyA/DM5wxp13B6LrzwxxhgDfLK86oDKorfzjedgq6HHb9D2vG9IhNGbjDVH9/h+Dm2w8mCR0V2f6rh3xnyqzNY2YAxC2BrYiL1VxrCrckqazXIuwCVywfzR0sZOs+Z0QzgdojPqjE1rZEf7Gj1PubFbyLQjaOBNVXXt5jj6BwDPPIodgSOXwInnuInXuZC2xzZB3rAddqks0m/MBc5c5pyLTgHojl+dJe9o/yxVveusfxYtf5nRj4xtbzoBShvVZlBQml3cKWGpbRKTDTB10njjFJRGpvN7h8ouYLRDAhPbdex36Lygc0NMl352qU3UJQeikaE2k74bl9VqQH5aXpkERKdIXmG2BaWXit1IaXt3pPSN11+Qn/7rT+T1116Qr+dOl53b10qJtot0lZt24PzSoiSpVYBaVZ4uIUH7ZOGCr2TqlM+lz/tvyEcf9pYjhzZr2+Vo2zivkemp6bsMSpTxM6qEf/L8Ifn7XgflT4NC5ANVmEQulujE4XpxLiVh5DNoMWgOdaeuEgllEnlTlVlwkgNK8ZwRJSWFiehqmRofpKX1GhttvI1Mgu9OT1RgF2fOO64g1TNqxEyEMQtgGrMy3XjwUPgYxaQtA0wB4d91jg7TiaO3TjgjdWIEmFEGb+DhTXj7WU/6xtQ4o7h9EZMGoBQw84c+gSbNA5DOuoi1CjTOlgLExLLiYKH84o2j8lcP7TX96w3qKB/rvwAEr2s5bv0oVB4dGWmMwzMZLnjbtyogxih4d4a2vfbXW9MSzAS2U+uBwQ1htABISWXmXIwWjMwXdEK4pm+g9nOc8Sp6Eo/E6ALc3zggRM8Llqe0r7k/BhXP9ibuwf2v+yBI7u2Oqs/Tcx8YFmFSvfnf05tKv4Sl1MpslZ2PdeIhLZr2xbhicsnWSc/XK3EAe0zK1AGDoNcXMfLw8AhjAFBmwAWpQTf0B/hFmXYhE2G9jjccIvQZBsPUjTk6YVQZWfYkjJFXdXLapmUANOGR9hWVYeMdACzA9e3p8Yb5vu5oiZHzr7U8786I18kPZ0epyRAggv/IiAi58t3jcv/QcFM2+iv+LM4HiDVCnPtX9+2R698LkC3BJT4B4IUQXmfa78UJsTJD++ZLBcc4HkjfX7Q33wAQNzoAtapBw4QOmGSyBxxgIBFRxljBiGQseZNZg659PGBekjGqMArvGBxmxmlyNxivqGtVA63MtAXtxTGMNwwQ0sa/1O+vTI41z3CJtWjpRQ1mjBijTctDmTC05+/OV4PA0SkukTZ7VMHBSxPj5Pe9A82YwUDHYLv6/UAz3jzvfyHEGAtMqJYp67WcCj5ZEjBO5ZgdtNH1gNIXx8d0G24nQSkG6x41TCeszTRlBygg1xhGR7SsbkQCYkzidEPfYBAjWzgOATo34CjTMXcmfcFYo49e0/71FZnwJPqZSAsGIQYqxiltwxhDrj2J6PTHaiz+Udvv8ZFRZgziTLtzcKhx3rFO082agBr0Ow5M5A0D2Ix5vf7LDdmmHQB2EFkFsZm1xmDF6AXIAZLR0X/QZ72m49PbQXGhRDMRsZ+msvUn1RdX9wkykeTXp8TLTG1/oi/eRNrluwqaGCOMb8DKm3o+cs18TkTHs3/RX2a9pIJcyk99GTNf6HUbFaAg28jOtyXAIe3wjcr7Z1oGDHEcFZ+vVH2nuoaIFPOPSxjs87QsZDk9PipKgXiIjFKweaaNjnCM4OChvwCLb2n7AxiRQcAp+hT5Yw5B9ojyYzugq2hXo1N03FJvnMU40zwzqcgmoN0Ao6T9kpnyos5LzIMsn7gYoBQdQ1tgU9HupAl/MCfZZIQxNj2fgZ7HTiFiTt8OQscpwGO8fbO7wNhDeWUtZn59Qccz8ydlfkl1KHPXIh3nzDO0wetqC3EdTmiAHboUAMQcSDQbnUZbspaW9GU2lPQcuuhSxgpj6hMFiY5DJsU4NdFXzM3ocE8ClGIDoUf+0DtIbh0YKs/o/IjMAfLOBEop1xrVCwA/ysyziOiS3cG4hJjvkPnbPg41+hsgiFzjpKGuE9dlqg1ZYeY5XA+Mg7DUWuOQ7KP9j+4ZtiTVgGkybVi+8ry24TIf6bKUh/kXuwAdNFR1+iMjouSRkRGyRnWCZxYhY44yM34fUx0EYMbWuPvTMLNsYsWhIjMO4Rgdi/P0eF+1Acjy4zpsPuwx+vQ1Hcs437zpVFDaKhnFOJ1bJTy9TeJyOiUhT8GxcnQmTgEdM8ntEpbULkEJ7SZVd39kpxyMETkSL3I4DudWp/Z5m+xRUBoPKFVbNSm7RA6FJ0l2Xpa0t1tQeknYjZS2NOZLSWGiDB/2kfzsZ/8uP//Zf8j1114tL77wpGzetMSsJ62uSDebIjXWETqvNd/nzp4gt95yvfzqlz+T3u+9Jgf3bzIglneYVpY6r4/pqaCUXRjxMn2xOsMY8b9665jx1qPoAYlEfDwnt0tFKEEUAKkbACsMmoScOhm1wgEvkd3pckwkgBzSX7iGVBA8jVfqRPKQGisoFsptol46yQ1akGw8iy7hPWTDEoAugx4PIeeimEzUVA3V7+oZZZdYJhMUKUbq+RIeQJTYixNj1BjzvaaFdqGNmNxQrkSE9+ukRqoR7eKpJL0JwwFj7iY10v7tpSMGuPlKV6Nt8SZHpNXIp4vS5GEFLyh9X21SWt1mZAWPJgYJbY9xApNi9qECALyylBuv43idwJAvjHWiMESh8Pqj8DE+vUEphDyQ4kk04/1ZSWZy5f4Ya94pNFBtQ5tpEwwe1l29oIb5eq03XmPajMnA9UqzKyDPJ00cxwRGzoHochNBwQDCqCEKgWy6RDtgxFNXV36YtD/XugF8AUrIJWlVRM3uGxqm9c0zaVK0FYYRm77QZ9SD85msiZi6RJYAG5mQgkbU60yEkW+erYYLxgHebMq1UidM0ruJpBMZYQLmdyY9DO3EvHozPgAuX23LMVkGOAxOceD4ICK1A+alyL8+d0juUYN/jwK470q01Scqx796K8AYB/QBXnbalT4ZruVED7mEcU3ZcUww3jFAWJcN8GCzMCZ4QIonYXRigNGWGF4HoytMX+DMwkseo31BKjFp8UP1+tnaJrQXuoBoyyyVBYwGPOQYSp6ROmQWow6dgswTlef+OGqIFKC/6HuXkJ+S6hYDRJEXIjMYv3jIMSLJfCDafiEbEXEqxiabYwCeANKU4bC2DcbRF1o+1qnP25HvyJr+7kZFMN4Yu4AgHHzU86DKIv0AUAaYA4JcQoaWHywyY5460E5EIZBnIhGsuTWg1Ie+wPjG+KWfibKeiTDc0Gc4foh8uf1GJsY9CnqJKnsSBjbtB/BgzL+lfQGgBdTh4GD5h+uoqNF+pm/e0nZm7CEHpBZuVp07QUE5/YjhDAGe+I0+oW9pF3QWjgYMVfQvY/i7Uo3qLByo9M3bKtcA9lCdt5At2sybglSeyHD4zTvHzbyF/NMPZIbgIMAhVlzp6Haic8e1vETRcDSwWdz+qHLTz5yHjmNtHfPPtyHklH7CyYO+YxziWGb8km1C5g/y6Bn9R2+hHxnLq9RYf3x0pF6bbJxN3sSchqMUpzNRb+SauiJj7DWB0Y+cAlqYs5CbEpVR6vqbt4+b5TM44QBJOO/QNaO030n3dQkbB+A8RcuJc4y+pj+YB5krLmAoniCAJddST3TPIm0LACTjg3ZhTKFHvB1oPAv9ZXSKtt0CnTsYr8wPq7V/6cdB81MlVOUQMLhS2481kR+pHByNrTIZPONUZpkvmStduSBCSOTd00HGs2gHHEU4e9mvAx2QoOViDmJ+ZVwDdFmfS0QPJxUyvz241DhVmSdPd25T91YT9XxF6/uZ2hHsiYBzz4nkd5/oQcgEep6UZoIOOO6InhNNfkj1JNk9ELoBp9ho1ZW/evOYicTiTEIGqeucbbkG7O1VG4BsOhwQ2Hyfq43LvMKrh3BAM18yzmk/AC2OOk9CJvLLmkyggvIgd8gP7cC8CjD2tI1xemEPYGP8oXeg0UHYW9gbyCnlJ/uDeXaGtjFZVtyXtgTgIpNku+G0/0jt1qXaJ97kgtLm7khpWqHO//FtEpbWroCUVF6iopQZ+4QAQ6eEJLZLQByg1AGk+xSY7ghp1PFCBplomRWYhjafAKXxmSWyLyRJshSU2kjpJWJAKeWnHoDOo4e3ytQvx8rokYNl1IiPpe/7b8g7b78sSxbNkuKCBO2AHKntBrG89mXPrjUydvQn8mH/d+X93q/LpAkjJSLsgHmvaW1lunlGTwWlpOMxEIggMMiY7PGIoUBJgfmhKKWgQb5Sg8L1XHt66j2JtTTjVQGzGRLGK8oKYiLHwCNCtV8nRwggMXd7voku/v7d4/KegqPpm7MNOAUkkLaM9y8grsqnQXU+hMHJZEP6xXUfBJuIFamV50M1gFKtMyDqTKCUHRqZXJlciHqcK7LlSZSNVDAMshU6WTCBY7CcjdaoIn1ZgQtGqzcoZXIjggBAQHZYY+VJKPte2v6AHq4F8BAdvK5fkInmEcEBLKGoicChnL1BERMQhgqGDoYT657PBrwh1hWt1mdjjGMAM5Ez2QE6mJCY8JkAibRjtDOJ/FInNzZfIY2b6BAyhZGOh9NsJuIBSvO0rABc0m8BLFNVfpjkiFwwqU9cl22cPZBj9MWZyRKijhhJOARcwuh9ckzUiegPnmAmMrzLgCYmQl/iyG9HSalSQIp3mAnXJQyzkcvTTJSIiJ3n+GGtL2MeBwgOA8bQ+RIpY3jplx0sMMCdNbrflXCMEOW6TccwEQ03HZLt+jGGGA/phY6xSvSA9D2yBHCiAQqoB31GZIaxTX9GqyHlEvKCAU57jFTQxHgHXALkMXZIP43QMYWeGbc6S2bqsbT8k8YxfYaRipzzLAxEd60lxhgGN+1M1JNoDWXBUEOWyDphTTwGlkvIXmBSlTEEGccAYMYBsk+/HU+oNMbmhYBS0nMxRnH6EHmnzC7hwUevj1aDHqObtFZjGOrtkQsMZAx7DHiAPq/nYD4YvjRdHh4RaUAgad8QfQUQpQ+I+LgRRZcYxwA25g5f5Ud+2GDrOUDpQd+glM3fAAiUg3S5ieszTZsyFxC9okyMaU8ifRcHxdwduWbfgQ3HSsxeCYCCYDXeiRCRjcO8gCyQGXSFjnkiY0RaqC/ywNi8sX+IiTRBxgmjMojOQg9Sht3hFSdAFePal2PvQgjdSHsBztAjRLU9MwN80TEFTM+Mi5b7h0YYAOu+QiYivcbUCWcOabn0AAAWp9sv3www+gnHAe0JyCPSep3qOAx8z+yR8yW6mA38cFT95p0AuUPnUJxCtCfjAqfMtTpOcTr6SkOGAKv95iQaEOlr+UBISrWZK8YpqAAQucR8TvopYw8w76mLMK6J1jKnU083koceB7AAlOI9HFfcC9A0S8fixuPFp0X+vg3hCCNNl7K5KZ/0Lyny3nOlJ3GMeeUG7RcikTgdHB2Xa8bDn1RPEnUkYwpirAB0v9Y5A8JxDwBDDkgphZDTp8ZGGR3I/OVN2To/IjNXvRdonNY4or5QXRKh1zHn4uC8U4Gv6/CIyVT8oHMzyy0A7t6OE3Qu9gV2waJ9+WZ8ni2lBgDP+QBFsmawm+gLPqkH8+OOkFMdoDga2BSIuqNzXEKvPDXG2cMDhy2yzn0950fmEfTX2JWZZqkPDiyipp4Ur2VGhpFdykH/8bYHdBBrPnmO56ubsDsA4e5GoThN2DMAJxgyjG2K7cY9CVbsCS8z9g2EYxbQSjnHrcnQshearEBvOg2UFnSanXXD0zolIbdTdgYUyMwVIbJyV5pEZYhEZ+n4T+yUQ9E6P8Q7EdI1+0tkwjfBMm9DigLUdtkf3SV7wpoloRuUxqaXyJ6gJMm0oPTSMaAUBpC2NhYo2CyQuqpMaWkq0HYolnVrF8oN110tL7zwlGSlhwsbIrU1FUpzQ55J+62t0uv0N14n0/f9N+WaP14lC7+ZbqKpnMO7T3vqmlI89nji3PV5GCp4ghk4RF3OlLJ5qYm0SdJbmNzO5MElgoaxhFGPwnYnPTyPR2KrjKeRdXKkUkIoWKNcB4cZwxWDl1Q+vGSsgcGTiBJlMv82OYl4ylA6pF2SvoHHHgO4sq7VKGU8ZJ4RN09CqbMlPkYjExJK3xdhRFJGDCS8ct+dfFcUDyBKdrZOQEQAjxpgdOq5bJiA0cGk6WvNKaCUNcLcwyVSivqogUSazTsz4k0aE55Bojgp+Y2nbaiEEUsE5CUFJov35vtMX/WmDWpUACiZjM62QVOFGpOTFczd/KGzhohUI1IvkQm+Y8jhgXd3KGQCYtMMdn4mTQ6Djo1JiHySYvTHPkEmFWdPRIXpJzIQGEdMUHhr0wubzDo6DHq8sqSzcQ6GFZMe0TQmRsARUWMMEiKleGpzVCbdaLhLlIn7vzI51oBLb6J/iPp8rMAtrRvUQRgRlB2nzQ/peMIYxxvPKy6YpEnBcz3ugAm8yKQ741io0jEEAYQfGRkptw8ONZEAvNaASvqM/mIs43ABKCApgEcME0A7jhAcUR+osYpc4nAgdZmIYEwmO3lnyAdqsGKEeRN94kZ8PB053BvZwfhF5oiKntApKhc4YQCERqd0E04HxtRb0xOMMeXt7Pk2hLzhHCHKA6jxVttEashQGL0SB8VJEBWtegZZwLAnYsZYpvxkODiZCYlGhwHAICId3AfD0VdWw9mIdiNrZbqOB9raNao9CYOa9YHIAmOR/uKTSCXpejcMCDEGPuXwJIAyEdElagCf6R2fEACIXbyp74vjYxW4UF/Sv5kDHBkavTzjBKhHD24KKjF6jnWeGOvIKgYk+hcHV2PzmZ93PsQz9kdVmqwFIvJn01noYEAL2RuMXyJhAFi6m7GDE5ElI4ByQBGRLkAEQAaHax90XHcfMw6oL7qMbBGcdBdK6CCco3d8HGYyapAX59VtOga4v86rpEfjCPCVUg8Y3BFaapzCy7QPiUx7E05y5HqlggBv/Y++pA5ED9GlkKs7cArxyqv8bscJhj+p+WQSkALr6VAB2BH5pp9zSy+OTkT34BwFNDG2mAcAh+dyeJPOS5YVqdyk9pNW7uo4QCF7BjA+GH8AzLVHi0w2DNfh0GP8Exkk4gkQQi7WHSsyzgjkxbMfkD3svc0KnrnnMAWm7C1CmdGtRB9ZO86x99Q+wu4A7OPMZykIzjZ0m3e/4CQDxGFnHYwpP+24J9Wq3RSqcx9ySjqzU+dk02Y4ZkntZh52o+g4hLClcODjrGDepE2d3wlm5Mp0rTv2FK8KZM0m/eBNOOtwalJPTycB98Feo85E/5k3aHuiwsg5y3HQQegyT5uIaDRZN+ygi6PdF2ETAWpxmHs7nqpUblkORP+GpZ6uG6GOdk9Q2qr2iLNpUVBSu+w6rjph+jZ5ts80GfjFWtlypEAiMrokNFXkWKICUuWNxypk5Kz9es4MeXfoMvlagen24EbZF9EmSTkdUl7dJjFpJXovBaW5FpReMqbscEFujKQmBQkpvJ1tGHEopTbZumW1/OGqK+WJxx+U7IxIA0rzc5xzS7VNpBPjv1XaW4vlgz5vyRVX/EzmzJ4ojfW55vUxPRmU4tEy6S6qeNyXGwOQUDSAvrOrz0tHeC1fmhRjJqQzATmAEimOrEP1jPYQDSNFh0nA03AiKobHjYgHxhgGMakrKG5SQQEOANj6MyiUcxHRGQAHhgVAC6MBYBSgypHd/PDu4733RShcUvjwlJ0t+omxTb3wepJO4hKKnU0izqT80Z3065na0ptY34jHjvRpUgl93ZcUHwzUD3TC9E67wiONx5AJAc8wCpj0YWQKeWMNFW3NRgAYFXd/Em4iFi4ocYnr8DhiUGFwukRdcFb4WgfFxIuByuR0NgOgoKzFTAK0JcAImWdNEzIB8xoQDB23TLQJOyUyKVMm6sEutBimTKLPjnPAIYYgkyOeZyJmGFrcgzWwTGY7VbZZh8jESgrkDIx+BYd4VQFUeMPx1jPpslkHkS28whgZGBAu4WXF8cK6QZw4nkS1GQcYoJzjOeli0OPwoe5udIFUTiIlTMhnIvecc0Wqz5cwiEiXxTm0XA1ON0oOSMOoJE124d6CU4yopQcK5Akdw3jxGbeF5S2S0d1fOAwYw4xl6oHBcFDv73r32QSJ/kJWWatKyiCRLxwfrBtmzeI70xKMseFJlBMQ8IIaxjjJPN8LSd+w/o+xSwor49uVH/qUSAJROlL6XQJ0ALaJoIen+TY+LpTKFGgS3e/1eYyJDHoS5Sf9lYjzBD3HM6pBiiJjBTCBYY4MsosxbcsaXBwYyKnbBzj2MDSdSNzpERdkBB3DM72J88cqKCZl1jOS60lEr8giACAQ4WOpAmPngII2HD7sF4CTyHtU41TFYOadiGcjdA5jgjTKQK07a9Jx+NBfGSo3OOIoA2AJOUePOTpL5UyPw+hd9iJgUyLG54WCc2+irZjvSJ9k7nAJEI+Oa2472V/oDZw0RBXdzcwgdAFrJQepDAOW3ff9orOInj8+KtLoJvSbq+PoY2QTHYcuOxtwOBNR9ikbs+QxvT99YPSYtpXn/WP0/uhWX3qDCBVOB5ZX0Oa+CB1KZNt7YyzmNJb4DF6YYiKAbjYFWQf0MSCBNeIQ5dyn7fLh10kKDApN+3g6g3CqOo7IhBNr+2lT2p/1xx7Y47yJ19yVqu5nDPHOd4ASTi3sBH73XNPqSThukQXWyDMHIf8ndVyjsQ8YS/QjegwHJiDGjPOYKvPqKuYpHDCAQ5xiLGMipbpO5Zm6MJ6x+ZhPBn/DEp1IYVdsnGw8kzGPk5hnY1dU1rea5xFhRE/QhugT9iVA7rwznHjueAXGOP88s0R4LvfzBHMsHWEdMsCTNG1kkf1EdoaWm3HKWMPZ7xLH2Q+EOQDw6N6J+vIb65gJUDBu0fvsueG9fp2+RyfikEPXeG5WxlyJHcfGRqSg8zzaGwciznRsHtrJW55xVNEm644WnXF9NvMIOhpbwHO80RzYETjs2UTQRJZ9kCcobWpmZ/IOOZ6kdYlplq9WBMtL/WbKn54cLA++PFoGT9wom44USkiqAtMMka3BNTJm7mF56t3JcvvTn8ojr38hn07ZKasPlpkNj5LzuqSsqk2iU0tkR4CC0pxuUNphQelFZSKkjXVsSJQlxw5vlcEf95Vvvp6q9UnTViMC1ySbNiyXq6++Unr1elRKChKkqT5P5us5nwzuK4cPbdFzEBAd4HW5JlL661/9QubNmewXoPRyJYxSjB9A6ZnSijYFlsqrk9nIIOcUQ5GohhtlddPsILzBpNKRGukr+nosodJ4sjBcvk36LsqXtQNMPCgythBHKZJKQzQaY9fTIPQkJgciLXiMPdfeeBMTN1Fh0pJdUMr5rPUg4nOmtCMmFIAyfD5pWhgWbCiBF90zyuZJTLbGS60gzU0TgogA8kohwP/y/U6KMR5i0uuY6DyJfsDTTqSJPnOj2i4BSjcdLzXvr0WhQ5SftSBLFLBgOHsTxhfrOWins6VO025MhEw0vt59WlrdYlKA3I23SOX7ZGGaTpSxJ36DiDBg7NMOeJYh0kGJxMzY4kSJ6TfWjLAxClF8yE3lxaOMXOBwYH00xjWTMBE1UpbYcInfAds4UlzCaCICSLuRJuZJTppQjtm1kMifu/sqxIRHdJW6M9kyORKNJcLv64XdEKmYrK9Enin3xQCmGGVrFWwTDfaM9ALaAKlER0ix8iSMsOd14gesekcYSc9m3SFp0C7YZu01a825j+uZpr6kAQIKV+uYgTCaB32datbz0RYuuQD5sVFRZudnnu8JuHAG0Ie0i6eugbj2QEyFGZfoApe4nv7EA09KmXcGwrchop+ku9KWnqlsGMb8j5efFFQ2ffGM9JIN85rK/wgFgq5T0iV0Kg4M0tQwUiGi9a9ru+E4wUD1Jgw9UtsZB97puwmqIzDocMSwEY0voj3enOZEtEkFdgngx07WgH8iHN7ELrhv6HxBxNRNnfdFZA8AWHBUeEaMIYpLGiPGJbLOekecQaSnuutvIaIgrAFjkxXWxnrKy7ch5AEZI+KOwxEC2JNNAaBAz7rEuaOWZxg5ZQMel3DC4NRj2Ygn4MdJgqOTDXDcSKInkYEACOL55+uw9CQA8+QNWcYxdlj1mveYBAQxHomU+gKdZP08P87J+nFTGb0Jx+6z46JNaqTn/akP7YWO5T2f6FA2tmG8sewB559L1A1dzvy/xWvtIIQjAv2Nc8YtJzJA+ZhnzyZT50PoHF7vRfouywzY7wAQzxzjTUQ+AWPU2/s1ImRjsa6Z/grXfma5A2ujsTcg9CjzDgAYZxt6miULRD9dOQJoOstNEh0nus6TMPf0tA0YD6xVXqNzufsqM4jfWQ5DxgC7t3MP7zR+5puJ67N1fESbZQXUn/mWZTjoZE87iPXc6HoctpTNJewGIuDMf557CmCPoIOYTz3BJOmuRFlZrsImacz92IDoZ/rek3BQ0tfX9w+SIQrGPSP06DoixWROeNo1zC84AKgvDgJvou2Zu3GG8Bo7X0T9cV4TKfXUwzgCcULQntTZ28nv0qmgtFX1WbuOO3bWbZUN+zNlyOTNCkjHyE2PDpSHFXR+9uVW2XKsRMdXrUxcdFyeeX+agtaP5a5nh8pbny2WGWti1a6ok71R7QqKO6Ss2oLSS84OKM02wDTw2A6zfvTVl5+RCeNGyLx5M2XO7KkyeFBfeeH5J2TWjHGmHeprcmT+vCny/HNPyID+78rcuVNl9uwpMmXyaHn9tefk/d6vycF9G7WjsqW+OtM8p6euKb1cCAOGzQn2RlSoAik26/VYn8JCf0DkVp1IXEOGczGsSQsixZEJFyOTdCXezUd61h/7BnZHkEpPePEwZog2ARoBOCgPJkwmASYyJleUGErJ10L8cxFGwhNqvGJckDbkbKaRYBQNUSnS0phUUdCAM4AVkTE22mC9DCmJbF4BSCESh0fVe6JmUiJNZ4wqZCKBbBZCRG3YUmeNF+nY3oTXkDVSRI8xqr0BOWXilQS0FVFN2oT1m6zXwAOOsUv6Dyk2zR7ghgkEo4mI8JwduSa9CtCL4kVxsw7VfS8oOxuyLTwKl3bfdNzZNXGDTlBM/ENVITNReu+my6SKkUVKM2s7aS8AAICXSZtyQ3h9MWx4Pt7wu7QtSbfEoMbI5DoiLJ51x5NKmhubZ9B2TFwYoTDru77Zk2fAJt5SZA6QuEplk0mPNkdmqAPXkZLD+i7Wd3I9huBNA0KM0cpzid6x2QzABlkgioBXmKgffc6OexjepEoC0Jnwmcyp8x16DbuOUhdPowEZJVJHmhopwBzHGUDZMXqI7NEm3o4QwDVjis3N6GfWNU5WkDRhjfP6BG/C64vhTcSVtsJY+66glDKRZsbEb9ZNzU02kUbGKvcn9fUq/R0Qw4YernOB6BblQCZJk6Jv6UPafPHeQpmg7U4kCZAJEdmjTxjzyw8UmPPpN2SWvmBjJNZ3Zpc0GqMXg59dGpFl+pUIDuCedxf+9t3jxnFExMXNpsBwwjCkPKzNxCPP+KE8GHOk0SHftCuecOSF9foYYXfp+KJsZFCwMRXXcc4ZbPOzUp3qBbIOWBvI+GCnR4xe6oBOQxZ++06AiTixXh0jE+OS6BLjjgiDU2bKQRs517O+liwPygVh/JKOT6QChyHjjfakrjD3QY6QXRxGgHbkEn325casEzoFXctmcDhPPKPzjBPKzxhhTHJvjD3q8Ij2wUPKOLEAW+gfMhyQdwxM5gsiDURxSLHnd1L7PCNSXMMmTYwvzjN9rPWm7pSTviLzhv5iziGzBhmkz7ZquyFrOIcAv4BrxqsvkHwhxHwAwGKpCesfcYxSDmQUuXUdAjg9iI6yNIR1oBPWZRrHAK/RwuFKWZlrGB+ALO5LpBe9Tn1JZXR1HHWm71gSQYSdHUY9dyc+XwKs7dVnu7rE1bfcH1nCuUSklrmOdmLDJZ7ryg3z480fhpodgRk/6Cui4550MEbnOy0/YwnHJjoOJkX+GQUcRFsBvzgHmYNZ183OyIAcV6cgB+y8elXvQHMdutdzN2AyBOhT2pxnMA9SbnQr8+13BaUQaeWsmwQkElGjfDyH/vUc8jivjT7WfqE9aSej4/ST/5E5osfYCc8p6CO9FR2epzpvZ1ipykeksUEoN/YAfc+SJT6XHywwtgC2E+noZIoQfcVBA3D3LAeOGJaVkBGAXkG3MRYZtzD2B3Ya5SNl2pNwnrC0ijT9mVtyTdYUZaZ90XeeqasAMJYekF7M5j44KkknJthw32cR8tToKCNLrHcE2M7VsXHTh8HyIJsf6bk4c/mdMXOztgWbx3E9dg9lYIkQr2pD9tGzlJfyEPRgp2XOR9e5WWw49tFx9BPgEb2G/kI+mYcfGhGpuqnQyCn6hGfQL0T8SblmfTSyxPNgnMJufQk+OOtGM41+Q0+ja7GZ0GHILc4uMiZ8rcF2QWlLd/puYq7agxEtwrtHw1NbZdvRfBk2dbs89NrncvNjA+XRN76Q0V/tlUkLA+TVgXPkFv3tnueHyXvDlsvcjSmyK7JJdkd1yI6wZonNbJUytaOiU4sVlCZaUHqpGFDKDrp1Ch7ZMffo4S3y4YfvyS03Xy/XX3eV3HD91dLrqYdl+dLZkp8Xa+rKrrrpaWHyzYIZ8szTj8l11/1Brvnj7+S6a/8ggz56X0KCdpv2YL1phd6/Up9jQel3I6IFLCwnLezZL2JNZOL+IeFqiETIk6qUGLBMvBAefRQbBhYG7QNDw43Cw9BnR1ciR0QFUMQYSe7gxvjB8EfRkLKG15TIJp40FBTGEJEBT+ByIURaC6mdbAhAxIL1R2yeg6FAmTDQmDhR2ER0iAZQByJ1pJigHB/U+j6u9cX4xajy3l0WAMkEAFAjDe5RNfAwmlDOeAo91yMBaDEiWRsx6GveSZdnzvH0+kMADKK8rK0iIkmaHIAepU+UCUWMB5DrPduGSRYPJpFM6k0/0aYAIgwr+gOizBiP3OdPH4Wae/PKHjaboO1J08QowutJ23gShjORCV6UjVecVEkAIJFn0sJcw4K0TTbYwKPOmkPWCmK88QzKTjszAXt6XDHaSKMiuvPxgmR5Vs8BLGDA8x2vKP2EFxhQSvQc8Et6GAYpdUWOeAYbH7CJCC++R5ZYu3z3J+FGBgEtTLxMrPcPCTOpyBgMeK5JXWWCxfjhf3aB5jgg6H1tRzy2t2qb8WoZHBHekWFAKkYMhgoecyLXtD/rW9mghoiudySOCBiTOO8bRS55cTjeaKJU3p5ygDu7IZJuShmJgGEcaFN8JyLdHlDz0LBIubF/sAEbGLCMVSZ4DOyr+waa13/M1XFJOSBkAdnHWHf6KsaMYfqCaCAGFw4rF4jjsafteQfkSxNjTDoZUQM2wrj94zADktAdrM1C/lgPjDzyfO6JgbvuaIlJHUQuMABZv1XUbTiTkk6/oTvoK8a9kevxyLjjUMPbTqYCmR0Y4Tyb/sWJgVHtlp9jGNheQ+C8CJ2IXsDoGbEk3cgfKXm0CY4jIunoI2SN1M/4HN6x5+hE2pzx+qaey3WsbaSdGGcT1TBGLlzHHrIDcAS0o3cwfqkvbcMrbjCmKQMG2xHVKQAAsjrQKZxjdIoyrwF5VeuN48rzXcmMf947iFEJiGA8cy2OR141w4Z2GPOARgAH72dEh1BXxh9jh/IgG8/ptTjLMFpdQteRbbAr1Hl/IO3OGMB5xLPYERNdSH2JvuEwulX7HP3B+KKvaBfW+dFX6BNPA/vbEOMMQMDY/lqNZXQI/TB7OxtW1RiZhziOMw6QcHWfQBNR3h9VLumq0wEP7MDKXENdAIGMAYYpaymJlrOrNHqNfqAO5hUdqn9wniKf7d/C0UTZcQZzf9KukRtHFhwZYk0eYB4ZM+NQgRSRoufHxxrdyVzHOMBRwZhDr1JnT8IZyHIbxtg7rAtXOWatNrtWAwJwzCHL6C50BfPojSrnrHFdfai4W74LzWs8APPMsege2sUl5A6ZJaLbe2aSmTuQBZb8oBe8VOi3JpxrpByzWRrOM5zJAD3P++McQIfhLGIsIt/IHe1J3dGP1JnIGg5MdBLrL9HTbHSFzuJdtzg4cNKv1DZg7mXuYX7HxsIBxgZ6Z3OoEKXFVmI98r2fhZk+ZY+CFyYwp8YZwAnYZ3x52xTMOdgKyAU77z6oev69mQmyQeWS/vCMeLt2GX30rvYvG3hh/5CRxBx6m85/OLkTcxqMg5I2QA+w6y6/M/ezkRBrMdmkifbgtVZEkol6845ik0qs7Yi+eln1FOmzOGuIWt/yYYhJ43UdstgFZGngnCOjgmuQVeQam/QmPZ85gnkXHUTGEWuAsVnRQcgx/YZNRx0A7+5GgzhPyEZiHHC/J/U6xiLzGX3KZp2OjRQrR9Uu8SZfoHR3uOra2HaJyhKJyRHZqeNt+PQd8vBrY+X2pwfL429PkKff+1Lufnao3PXst/EPHwAA//RJREFUEHl3+HL5emua7IvvkMPJen5kh2wJbtK6WFD6vTHAlPK3NhVIW0uRHNi3QYYNHSj9P3hbBipAnT1rgtngqKuzXOvrvBKms6NM8nJiZeH86TKg/zvm3I8H9ZGd21cpAM2Vdr0P9ywtSjCfFpR+N8LoJ5UQIPbl+myjDPFYYrQwYAFEbp49Co2cfo4RLcNLSOoJni4MVjxaTGB4u7YG8xLjU/sC5fO1XkN0CaBDJIRJivVE34UwnPepkcC9SCmavS3PlPEbBVCUkWgTChilhzJjl0jW41AG6oe3DI880VwicQHx7DTrezZkEgAwMTGgzH29S5a1MdyTiZ7n+0q3g3hvIpEQdgPFuKFN56kxt3RfoYkoo0CJHgCkvKNuEACHfhu/hg17so2X0DOdhwmKcwBcRDzwnM5WRU29eR7PYBOgcxETIBMt7ZtedOpkinFIpAtZcWUHMM7ETtmJOBL58JVCxjoXIlikNrJVO+0PyGPS8pXSRj9jyFF2AA3PoN/wtiJXTEL0pyuHbOQBCMMjzWYeGMrIIN5pUrEoH0YkxjKRXzy53JffuQ/3JrWW6IMbAXQJY4Y1OkSm2OWYuhOxwJBhcmRcnCmqiYOCfmYc8G5LT0MBwlDDQMfDTqSCMXexCAOStC3KCnCjT0klpZ1Y54jBhqxQf9LxPdeVUi7GEnKEhx15JVKJHJEGdRpptQDT6APqSn8xHoi4Of1TZgxrCPnAYCMyjywTXUJ2SbVi/SsbkSErnpEB1vlhaFAPdBfl4TzK7qbtEm0GrPFs9A3gmbFJOZAXHCb0HVFiVQ/fmtAvO0PKjQzjkKMdAc2ks7HWlLEMAGW8eHY3gGfB7gJTNsal0cHaNmRH+FrKwPpd2tvoC5W7qfo8ZDaMV9noceQSJx2AGKcM96R9jE5ReUa2YVIjSTP0JpxprB8moupea8aByisRI4xY1qUT9eTZvIeY9uR5yI07hpEdF1B7ErqRdkAvUA70Bp/s1I6jAcIBhc5gd2Sjs/S+lIVreI6vFL7vSqQVIgvUgdc20Y4uAY7QAfN2OuUgykZqMb+jY2gbxhNzjokEeoBlAAabhKHjaBvSO/kk6lvd7fD5LsSaaRyPyJeRBf2kndYeZcMl5/7oO8YaMjZNj9OetCP1YPwjJ/Sn9+ZrtAHpkIxhxiuMPGD4A7aoA3JPtgCvAuO+6GHGE1Eq5n/AEc/gN5i5zFOnuFSscoHeJtoMcETXXCpiHTv2CfOaZz9D2AjoFHQWugSd4s6VjN0qlWnaGzuDXXcZG4A29NcelWHklfmLuuPQRdaRcdqYV7mws/m5iPmAMUyWEc+HaVvkxtGDxabNz0a0MWMI24CooWcasDcxppmzqSfyfXLuyzW7xeOsSstvNPYFx6gjvwNymVvJGkP+aTPHKe7IEc5zHM+UGZ2ObJKaz+8u+P9G9bG7Jtkl1pZiWzG3UHfGF7LB/XFUUl4c79QLfcmyBWOzah2Q0akq/4wH5mDv+QtH3ywt/wS1Z2hPZ41ql+kr5gSe5Zk67NIJUNrkgNL4nHbZFdYi+6Pa5HiiAl4FplHZItuOF8mImbvkCQWkpOve/NiHct+LI+S9ESsNJtwV1y4HUhSQRnfK5rBW2aSgNCqjTUrNmlILSr83pg4GdCpXalvwuhd+5/2kNd1g1D23mjYx5/Eb5znn0h41lfzutEd5caL5bkHpdydsH6J7GNGALpQiytn5v/MU44hjnMtxl1Hs7jWwe9xb4Zvn6P25r8v8733etyHKyDPd+54oS3d9XDLl93q+e677m+f5vojjKDiu8UWk86C4mcgA/Gcjyu3ZJp7lccvJ9zOVyJRby2Ku9VEet2/c/j3Bes35tj3g9sT53b+5RFO55feUC89nmfKf4Tne58Jna39f94bd+rnt5ymDsPlNj3Fv7m7a3esc007UpbuuHHPZs0h8Je0Uwx6Dk/c5kgZMRB7DFsOKdx3Sf76IZ7l96wt4YNTuDCuVSesyzaTu65xvSyfq2V0vPk2bdP/u1tezbTyJsni2v2krPe9M5Mj3yfM9n2vu330exP8nZFnb3yW9xYn+OK083cdOlMdc23nKedTLPcY93Od7XsM535Xc56AbKJNbBj55Huz9GHPMR/m9o+wuufdy28llz/OdNj95T7ftTL27fzNt2X2+N3m2jee1MM+hDu79Odc95l4D8/8ZqnDaubB3+/O/ZzkMe7XrxSQezzO8ZQfif7eOLtPG3r9TXsrtXTyOnVIPZX67WOTK3Znu75bT+7hnG9Ou3jLHEhD0z3YF3qQvE+Xerkz2A05ZDHoyhLiK+7mycqId9ID7DPd3Pr0ec4KMTOn9Lqa+OxO59fdF/OzZVt46ztTJo65uec240//dOp6of/d9vNeOn41OXvvtZYfzKPu5zudZbttzf7duLlM9ZMO7H93fPc817cENu4k6mHJ335trXDLn67O85Q7i2MnyOHVwmfO5D88yx/WT5zj3c66B+d/71lxrjrvl8SiQc73e27OQ3eQJSpsUlMZls+9Ei+yLZJd53uDQKeHpIhEKTrcFlsnQadvlsTfHmZTdd4YtkXlbk2WPgte9ySLbYztka1S7bAxtlY1BzRKZ0W5B6ffNREz5pD6tTfnS1lwgbU0F0lSfa8Cqe9w9F2DKWlRznjKR1vqarFPuZUGppcuV8PjjRSSK6kPfWurhxJyFkcZW/awtIp2StCc20Fmwy0nVNil837LvmWDxvOOZ/zaboFiyZMnSdyUilh/McVK52c2dVFVSl9mchywAdp73Yb9bsuR3BChtdkFpc6vEZrbL1qAW2RPeJkfjOiQgnnXVXRKqwDQ4rUs2HS2SQRM2ynvDl8vsDbGyL7FNDqaJ7Ijvki3R7bIpsl3WhbTK+sAmBaVtJpJtQekPwNSF6KjLZ6vbuc61oNSSJUs/BGGHxWbVmg0TSC8ifWjODlLF84VNsixZsmSppxMbAbFBDzqOtYCk35KKSzq8BaOW/iuRC0pbSd9VUBqjoHRzIOn77XI4huU2HYaPJXRKUKpIQFKXrNyTLd9sT5dtkQ1yWMHqnsRO2R7T4YDSCAWlwa2y7nijRKS3miUL0WkWlPZotqDUkiVLPxSRJsRmPkQy2WWUTTL4JMppyZIlSz2dSGc8oeMMq45T5ndLlv4rkScoJVIamd4m6wOaZGtwu3nX6OHYDmVeE8NnpxyJ75IjCkIPJXbJvkQFpPGdsiOmXbYrIN0SqaA0XEFpUKusPdYoYSmtUlzZHSk9dhFB6f9QUPrXFpR+b2xBqSVLlixZsmTJkiVLli4VuaC0rblKWtvaTPruhmMNsjGgWXaEtcnuiDaTyrsnvFV2hynr534FqPviOmV7ZIds1nM26u8bQltkXXCLrA1qkVVHm2TNUd4l3yoVNe0Sk1Yi248lSUb2eYDSRwGlDfJn1yko/dl6+bO/n2FB6Q/NFpRasmTJkiVLlixZsmTpUtHJjY6qpE2/55Z2yJHoJtkR1CA7ghsViDbLHji0ST9hfoObZLsC0a0hLbI5pNnstrsxqEnWH2+UdQpqd4c3SGZRu9lFOy6jVHYHJUlWrgWlPZItKLVkyZIlS5YsWbJkydKloq7OdmlUUFpZVSblNfVSWdchBaXtkpTVIrHpzZKgn4nZrZKY1SpJ+gkn6Pf4zFaJy3Qiq3CMfo/R3yLTWiU6vVUyC9ukorbDvMovKrVYwuPTpag4R9oVlLa3XXagNFVBaaYCL0CY+2oUyy6XF/OeUm3fxgppN6C00IJSS5YsWbJkyZIlS5YsXRzq6pCmphrJKy6SpJwyyVcQWdPQqQC1TYorXW6VohPf28z3ogqHC/msbO9m5//iKgBpu+SW8p7/aolMKZLColyprSlQQNogba0NlysoBYQlXWT2BHi+jl/+DCglYtrYWN4dKbWg1JIlS5YsWbJkyZIlSxeHuhSUNjfVSnFZsaTmlklsZrWEp1bL8aQKORJbLgeiSmVfZInsiSiW3eGlsjtMP5V3dX/Ce8L1uB5zeV9EqeyPKpfDsVUSpvfKKSx3Mj4ViLa31l9uoHS1gtJMBaU5CkrTFHyRwnsxOV0qypT59Hn88ufyYiLI6VJXWyJNjVVSU5VvgGlzc520tTVLa+uZuc2y5cuQfclqT2df9bTcM9hXf/oL+6qv5cufffWlP7Cvuvobn6ir2mddHa3S1dkqHfqd/y1bvnBuOfV/Lzk7X/aUUV/crs9paVGAWF8uNdWFUlZRIrFpRbIrOFPWH0mTlftTZMnuJFm0K1EW7kyQBdsTZcE2/VSe78Hmd0/ekShLd6fIvvA8yS5SQFpbqngwR2qr8/W5lwUo3aqgdLiMHP6h7N61QQFWsTTWlynYKpTqygKHq1zW3y6Yu++hXFWRf4Ld+9bA1QXaICeZ/y9fzjefdbXFUl9XKrU1Rfq9SL+XSUNd+Vm50bLly5B9yWpPZ1/1tNwz2Fd/+gv7qq/ly5999aU/sK+6+hu7da2tLZPKylKpqipVmw17rcz8VlvT/WnZ8vkw8qKMDDlcrvb/mdlzvHnyKXKqwBPmd67hnnBtTYlipRypKk9X3JYhBYXpkpaVIsnpyZKYmiTxKXCi4bhkOKH78yys5ybodZk5qVJWminVFRkmCFlbnaeAtNHwDw5Kp04aJqOGD5SDB3ZIa0ujtLe3SltLk/luWAvZ2qr/XwC3dTPfW5obpbmpXju0QgFdiSL/Kv3NQeTkMMMd7Y3Syc5Plz03dnO9lrvO/Nbept9b6yz7I2sf+z37qrfly5d99aE/sa86W7682Vc/+hP7qrPly5s9+g7bsqq6WiKS8yUsKU+KykqlqaFcaqqKpdqy5QvgmqoiIzd1NaXS2FCpWKZWcVKtYqZuVnlz+TSZ9GYPHdPR/dnaUictTXUKTqv0eYVOdmlJklSWJik4TVIQmayAMUVqy5OlVr+7XOfxeTau5Vr9rNbruWdFaaKy/ladq2W+bEDpUBk94iM5emS/dHU5Lyju6OiQtrZWaTWhaoc9Q88tLbACzhPc2M1N0gwIbW4wYBSAyz27ujqlvr5aQWmZXq8AVH9rae+SuqYuqazrlNLqjhNcXns5c6fDNR1SVtPe/alc3X5OLq1us9zjmH7zb/Ylqz2dffelv/DpfehP7Ks//YV996e/8Ol96S/sqy/9gX33o/9wSZXWUbmuqVMqa1slPLVS9kcWS0x6qZRXlqvxXSYNNeVST+TLsuXz4epS5TLz/tCOjhbp6OyQ5tYOqW3skOr6Dqmq61BZazfvAIXLYTPe2swGRXx39Aoy6nwvqWIDIj2/rl2a9F7gJbBUlQLgspI0KVdQWlGSrJjOAaQGlHpz5Xly9/kuKDX3NqD0soqUAkoHybGjhwwgFekywLKhoVqBZJXU1VU6UU4dvDXaKdXaIdXaMSe5RCori0wDVlYWS0WFNmRZvpSX5+t15QpMm7WRO/Q+FcbTYKKnbSKltSLpxV0SndkugQmtEhDfJoGJbRKc7J8clNRquYcx8njcjzkoybes9nT21Zc9kYN9fEcm/VUu/VUeXXb70t84MLHVZ3/6A1ubpIeyyqRrU8ZktEt+aYfZqTQ0pUp2BOdLTGqhNKtt26I2bqN+NtRatnxurq+pMNzWUm/AY2OrSFG1SIZimeSCLknI7pDYjDaJTm+XyPQ2iUzrUIwjyl0SkdYmIWbcKScjo458HotvlSOxLRKS0io5ZR0GH7W0tEhpeZEUFqYqcGRzWK/XU35Hdu7jbjx7OYLSkYDSg3rnTkX/rQaQAiIBlYDOKgWTAM+KikIFm4X6WaD/w4Xms7w8T4FonpSW5klJSa4UF2dJUVG6/p9jQC3RVQBpVUWeNDU3SEV9l3Zip8TldKix1SZ7wptlZ2ir7I1olf1RLf7Hka2yL6JFudlyD+K94a2yW3mXH/IeHWv7VC59ymsP532Rvvuzx7HqRcMe3/eGt8juMO1DmL70/N6DmXG210/l0WW/kUsv3qNzm68+7elsZNJfbRJlf5VHeK/qSvTkHu3DfeFNEpfRIvWNnRKfXSMr9mfKofAcaVZA2tqooLReAQfA1LLlc3B9rYJS5baWBmlr75SS6i5JKVS5yu2QOAWkEWntEpLkBjT47FAQ2iWBygEJ7XIoxtEn+6JURlVvIp87QltkS2CTbA9uVDzULBW1nVLf0CR5RQWSnasgUkFp5QkgeTH5MgelRxWUdna2m/TaxsYa5VrD3tFSwCqf5eUFCkQLTPS0rg7wyiJyoqYOgC0tzVWAmm1+I7W3UoFsRVmWNDTWSWFVlyTld0lyvgNMAxPbJSCeTwWpyX7ISQhmu+UexscTOvyWHWXpQ1b9gH31ZU9jdOJxncQClYPc73wqH9P+O6b6MqD70/3uq597EvurPLrsq5/9gR1Z9d2nPZ391iZR9tWXfsEqj+jNwMROw/sVpAbHN0lpJZGrKlm8N0MOAEobq6W1qVoaG6rMXieWLZ+L6wGn9ZXS0dYgLa2dklvWJQm5nZJa2CWZJWCaLgNOo7M6JSFPTLR0f2iF7Akqk7CUNv1dJCSl08ipO5cfjuuQfZFtsjOkWQ5FN0lhOSnAjZKWky9pmQ4oBc+dDiq/K1/GoHRMd6S0o6NdmpvrpUEHqQNK605J44X5H+CZkZEkqanxCjzzTgBVN6oKEzktKckxoJR04LKyXCktSZO6+lopKKfjtNMUkOJhCE3Bu9Auoaoow1M7/Y7DUrSOqVo/yz2KQ5K75dIPOYyxpsrRl7z2dPaX8RamHN79ab6nOWz+V9kMU715Cutvvvq6R7Afy6PLfjsP9GS5Ows7Nglj0Hd/9nT2W3lUXUi/Ub+w5E45GNWioLRZiiv4rVoW7s5UUJorLU010t5SI00KThvVrrVs+ZysWKhJ8VFne6O0tHVIZjHpue2SlN+p3zslOa9T4nM6JTZbJFFB6Z7gQhk/b7+MmblLdgYUm98j0kSCkzolUAEpwbgjCkoPRLXL7rAWORzTLEUVHVJa1SCxabmSkJpsQGlNuS9Q+V35sgalH5s1pR0dbdLUVGtAJkCUzYncKCnMb2ypnZmZLBERgRIaekwSE6OluNgBn+6aUtJ8nXTeHBNJZeOjouJMKSxMktq6Gskr7ZLI9HaJymiXmKwOY/wHJ3ZPAihKP+MQVZIG4FjuedxtnPgbG0PSh6z6B2sdvfuxp7D2TbByZHqHTnAdkqSMjkzO75CE3A6Jz9bf9BOOzeyQFD2erN+j0rTe9G23Hu1p7N/y6LLW1bu//YF99Kc/se++9AfW+vnqTz9ho1OSOxSUNktoYouUVAJKqxSUEinNdezi1lppVnDa1GjZ8nmwAlMi7F0dTdLS2iHphTiK2yTWzNFOoC0uu0tiFHzuCS6VUTN2yONvTZAn3pqo33fLjsAKCVVQGpQkCkA75VB0pxxU3hfZLnvCmuVYXJPKaYcUltdLWGK2xCQmOKC0wheo/K7cQ0BpQ1O1AZKAUCc6yieAtNIAz6ysFANIAwIOSGDgIYmNDZO8vHSTsuuuO/UFSnnHTn5eglTX1khOcZcqxDYJ086MylDQporfBaXBqkj8jY2S9JjkLPcMBhz4LXvJqD9xTx5vJvVMOU4nudyyTuOBDUntkIwSPLAdBqymFnSaCZCIKd7ZFP3/aFy7HInV+qNHaQe9V49ij/7zV/bnecBnn/oLe/Wjv7Df2yXUUz99gtKIPLWL6xSU1ikorVXAYdny+XCNcWK4oDQ1n7HUaoJs8blESDslJouNjUQ2HcqTQV+slXtfGCE3P/6RPP7GBBk9a79sOVYpAYkixxJE9kcpII04CUoDukFpfmmdHI/JkIi4+P/aoLSdTY4aq0waLum4AFGXHUCaLJGRJwFpdHSIZGenKADNV0DqgFE2QYJNum5prrkPoDS/IFVyc+OkuqZashWUsgsVqRaRGZ3aqd3riczaS/9j6mW557GvvrR8+bOvvuwpzBq248oJOZ2SV666UQHp1jAmPP1dj++NQmd2SLiC0+0RbWZNfpj+v+Z4m2wLY2c/MjN8t4vlH5Z99be/sK/6Wr682Vc/+hsHqS49GNkioUkKSqtOgtKDkflmB9XOtnppUXDa3GTZ8vlwrXk3qXQ2S3Mr6brtEpDQahzELEmMyuyUiPQuCU/tksD4Rlm1M0kGjF0t9ygwveXxQfL4m+Nl+Iy9svFIhRxVYHo4HmDaJXvCO0z6LqC0tKpDckvq5EhEhoTGOKCU17mcDiq/K/cUUNoAKC02EU6+k7JLWi6ANCoqSI4fPyhBQYdNhDQ3N9UAUNaQ8slrYM4ESvPyUiQnO0bvXSlZCkqNp64blAYld0qgUSD63V85yXJPY2TS39mnrPZ09tGXPYWPa/nhxJwuyS7tkkNx7bLyWJsBovtj2mVTcJsEJndIQFK7rFYgCjg9pt+/OdAqG4IcUEpqnq++7gnssz/9hX30t7+wr770F/bZl/7APvrR35iNjg5EeILSSrOm9FBUgbS3NUhXR4O0tiowVYBq2fK5uU7lpU6kq0WaW5in2+VoXKvBMzGZ7L7bnRqvc3RsNssU22T1nkwZ8PkGue+l0QpMP5In35lsgOnaQ6VyJKFTDsWKAtJ22eUBSrOLa+VgeLoERf9XBqXHFJS2tygIrVCQWWReB0OElFfAZGQkmpRdoqMhIUclISFS8vMzTHSUc11AelZQmpssOVlRUl1TaXapYvep4JR2iUhX5dENSs1uadpJfsfUCwVpuYfx6QaK33CiMrtL+pLXns49eLwFaNkDtA4J3aD0cHy7rApQUKoT3v5YBaUhJ0Ep0dFwBauA0oUKSjcqYO2xoNSf5dFlv54HPPrS39hXX/oD+7ldYkCp1nP/aaA0Q0FpoXS0NYl0NBlDvLXFsuXz4QaVlwZFYa0mUpqQ3SaHY3j1S7tEpbNRa4fKmMPhaZ0SnS0SpN9X7c2TwZO2yhNvT5S7nh0ij781UT6dslOW78mRvZEtsjeq07zCyAWlWUW1sj80XQKj4qXsvyQoHeWA0ra2FuH1LoBN5xUwZZKTkyqRkU6EFI6JCTVrSImO1tSUdgPSvBOg1GXWk3qC0tzcJANKq2qqDCilE3mJLB13XEEpKWvHVYEExPsha72Oq4K03LPYGMr+ygoAjvMqEV/y2sMZPeKrP3sCH1ND8ajWIb4blB5JcMBnVFaHHIhrly2hCjx1kjue3C7rAtskQsFqgH5ffLBVNhEp1b7FS+uzzy9n9mN5dLkny+VZGXDjq0/9hH31pT+w38ojbGTSqee+cAWliS1SataUupHSIgWlzQpKW9QQb1KwYdny+THyItImTQpK47Jaze7OAfHtEqFYJizlJDMXByq2Cc8SCU4VWbUnW/qNXiV3PzdUbn18kALUSTJq9gHZdLxKDsaLeTfy0bhmBaWdkllYJ/tC0uV4pAWlBkQCNAGkcH5+psTHR0hIyBETKQWgEjktLc0za0+dzY1ORkpPBaUnNzo6BZQWd6lCVFCa0GY6D0PsmHYg7+w5qoaJ37HW65hOAJZ7FgdgkPgrI5O+ZNUP2Fdf9hQ+okbU4Tid7LK7JKfswkDpRgWlOPdYo++zzy9n9mN5dNlXf/sDm+i+rz71E/bVl/7AvvrSX9iRSRx8HbLHByg9HF0knQpIpatV2tU2blOAatnyubnFyItIuwGlMZmtsi+ixWwyGKpYhle9uAwoDVEwCig9EFMvs1aFyxsfzzeR0nueGyZvDF4gU5aHybaQOtkf2yk7ul8JU6ygNENB6Z6eCEr/UkHpX11UUNpsQCSgkkgo0dLq6lIpKsqRhIQo8woYgGlYWICkpsZJSUmuOc9zTaknKC0pydL7lSoorZe8PAWl2ZFSVV0pGUVdEhDfJoEuKAWMGm5XJeKf7L7k3nIPYgxlVSx+ySdAgG957cl8Wj/2IOadZYdjOyQuq1Nyy9WoSmqXtQpKo3M65KDWbZuCUnbjDUppl/UKQgGrgfp9kYJS1pRiRAcpKPXZ55cz+7E8uuzd137D/qwnlX31pT+wz770F+6WSeq5J7xZQhKbze67ockOKD0SUyRdna1qTbdJh4JTlq5Ztnw+jLwYUNrSKdEZrbI7vEUOxrQZZ7BnhkVYmkikAtJ9kTUyZWmgPP/BDLnj6c/kvhdHyltDlshX6xNkZ1ST7IvvMpsWbgltlgPRTVJU2aGgtFZBaZoERMZdPqD0EUBpvYLSFAeU/sPM7wuUlpj1oERAAaisLeUTYJqYGCXBwYdNGi/ANDk5RoqLs026L0CU18C4DCAtLs4yoNbZ6MiCUss9jP3Z2KJuWkdfstrT+bR+7EHsgtJYBaWZJZ1mTelqjzWlmz3WlAJWT6wptaD0smfvvvYb9mc9qeyrL/2Bffalv3C3TFJP36C0WEFpmwEXHR1ESy1bPj9GXkQ6pFFBaWR6q+wMa5H9Uc5+Du46dPbJCUvndS9VMmnhUXm2zzS5o9encuezQw0gnb05WbZHt8i+JJFdsZ2yObxNNgbr/1EtUlhJ+q4FpQaUtioora4pltKyHOH1LrwGBpBaW1vWHTHNlqQkgOkR81oYIqdJSdFSUJDpESF1NjgqLs7U8zN9gtL0wi45Ftdu8rCDtfMOqRI56LIaZf7Ihyz3PFZ5PKSTm18yddM6+pLVns6n9WMPYlN+BaXBbJSQ3iFbQomCtp3Y5GjlMZ0Eo9plR2S7LDnUKvv0920R7fL13lYTOT2CIa2Tos8+v9y5u/7+yt597Tfsz3pS2Vdf+gP77Et/4W6ZpJ6kRQYmtEpxJRvQVMqiPRaUWv727AlKI1JbZVtIi+yJcJbOOMtnuiQ0TWRbYIl8Pnef9Oo9VW594mMFpEPknWFLZe6WZNkV3yYHUkV2xnfKluh22RjWpvN3s+yJalZQ2mFB6amgtKQblPKql5IT6bmk4brAlN13AabOxkchCjjTTqTvAkhLSnL0vAwpLHRB6anpu6kKSg+rMXUYYKqduFe/71FDbE+Mfo/2U45pt9zTWGVyr05qfsnUzV/Hm6++7EEM0GT96F6drNYEtMviQ20KSJ21pcuPKvjU7+uCO2TJ4TbZoKB1TaACVz1nQ2ib7FNjbL8aYz77/HJmLbffyqPLPvraL1jl1Wef+gOjJ331pT+wr770F+6WSWzKLQoajvkApWJBqeVvwZ6gNFxB6ZagFtkZRvZBp9kbIShJzFrStQfzpP/Y1XL3c8PkzmeGyFtDFsv8rSlyIFmxT4bInsRO2aryuTmq3czd6wwobbKg9BRQ2tqkoLFYSkqzTwGlpPI6wLREQWaJiYwCTKOjQyQjI8EAUc4vKzsJSgsLM/Q8Z5fepiYPUFpVKUl5XbI3Ug2oqDY5rMbILjW+dqiS3Km8O8o/mTpa7lmMPO5UpeGXrHXb5afjzVdf9iTe3f25PUInrNAO2aTAc2uYGlc68fF9U7j+prxBf+NzI6zft0Z2yA76Vg1pn31+mbO/yqPL3v3sT+yrP/2CrU3SY9n0n9Zzk4KGw3EtUljhgNIle7PkaGyJSJcDSjs7HaBh2fL5MPICKG1o7pSQ5BbZeLxZtod0mA0Kj8Z1mLdtBCR2yf6oevlqTYS8M2SJvK2AdM6GeDmQpOBVAenepC7ZEavzuuqXzSqjgNK1ep/d4U1SUK6gtMCC0hOgtLKqUIqKM826UFJ4AZvOp/MdkFleXiC5uWmSnZ0sxcU5Zk2ps440x6wxhQsK0pRTzTFAaW5usuR2g9KEnE7ZEdqq3CL7tFNIRdumvEONql1qiPkj7zT1s9yTeLsycumvjEz6ktWezn4x1iJgrQ8GpOrInehGDMkolctu3qmG1w5SeTHAur/76ueewtTbV3/6C/vrHODPepL6+epLf2B/tkmQye2qM3HsbQholkMxzVJY3i4RqVWydF+2HIsrNYAUcNGl4LSz07Ll82PkRaTTgNLgpGZZd7RRNge2KQjtkAM6Dx9U5jMwpUv2RtTL1xtT5Kt18bIjvF6OpIjsjOmUbTpXb41sk00RbbIhrE3WBbfKmmNNsius0YDSrMJa2aug9FjEf1VQOvJjCQg4bELT1dXFJvWW9aDua118cUlJdjc73501pKTsphvOz0/RT31WTam0tDRKXl6KeSVMdU2lpBV2yp6IFtkWRCe0yjblrQpQt+vnTmV+8yemTtTNcs/irWEtskXl0i9Z68ZaG1/y2tN5h7Kv/uypfGp9VG8qoy99sc++7gnsx/IIMwf4m1y6vFXZZ5/6AW9X9lebxF/lEXZsStb7qWweb5SghGYpr+6Q6PRqWXEgWwLjAaUdBlx0dbVbtnze7DgzuqSltUti0nXePd4gGwMaZafqit06h+3p5r0RrcptOt6cuW13pI65cHRlq2xW3hjSYtaRrgtsltUBTbI2oF4BbaOU13RKTnGd7AvNkIDL6ZUw3ycoHT3iYzl69JB0dnaa9Z+sDQVkAjZPBaNsYuR8Z4de2Pmf8wCozo67xcUOOOU+TU21BpTm56dKTk681DfUSHldl0Slt8rByEbZF94k+yKbtPP0u34eiGqSg37I1Mtyz+J9Kp97VC79krVu+6MafcpqT2dffekvTJ/t9Ue59GN5dNlXf/Z03q+8V+dtn33qB7xPmXr66s+ezt596U+MLblbbcu9ykdjGiW9oFVqG3mvZI1sOFYgkakVBpA6oJRoqWXL52bHkeFE2FvbOyW/rF1CE1XewhoMH9B57FA3g28ORTbL0dg2ORpHBFX1pMrj7ohmwzsjmmRnWJNsD2mSrUF6fUS9xGcrTmvqkpySOjkcmSlhsQlSrqC0psIXqPyufFmC0m0ybfIwGTHsQ9m9e7NJs4Va25qksbHWcHNznQGq58NNTc65XOeA0SYDSCsriyU3N8lEVdlMqb1LpKpOJK+kXXKK2yWvtENylfnML7Ns+fJgZDLHjznPR50tX95Mn/mrXFp57Hnsz/IIUzdf9bZ8eTO2ZE6J9p9yWU2XVDd0SlZJkwQmVUlQUqUUVzWppeuAUsuWL5Trmtglt1EqalulsqZDChWc5pW0SYF+Fqr88T/p4oXl+r28U4rMp4N18so6uz+75bS4Q7IVB5VUdkityml+eYtEZ5RLVHK2ZOekGuAInjsdVH5XvsxAKeg76Nh2+XLCEBk86D3ZuGG5AY+AyIaGGqmp4f2kDldXO6+EOTdzXplUVfGdayuksqpE2IWXTY84xrrV9vY2aWltlZp63h3VqEqkQTuowXxatmzZsmXLli1btvytuVTtSuVSBaD5pfUSnlImoUmleqzGBF7a25X1s82y5fPkdsVRcEllnSTmVklGUb3KU5PkKmcWNer/jZJe2CBphY2SVgDrd+VUl/O7WY+d4HznM7O42XBYaq2Ep5ZJXmGBgsNMqSxLVryW5AEiLxZzT/gyAaVESo8f2SxTJg6VkcM/lN27NpmNjEjbzciIkZSUMElJDpWkxGBJSAiUhPjjF8hBen2Y5OQkSFlprtnBt7qqWGprygyXVZZIem6BBMdny/6wDJM/zadly5YtW7Zs2bJly9+FsStJgwyNy5b4tBzH0K8tkYZ6tUNrS9UWtWz5Alhlpk65sqpMsosqDHjcF1koW4PzZMOxXFlzOFtWHcqUFQeyZNk+OEOWGs40vMzl/XrMi1cdypWtgYUSlFQhOcVVUsMbTyoyDHC8dKA00XyvqcpRQNrww4HS2qpMKcyLlSMH1suyRdNl04bFCiAjFTTmS2FBkmSkh0lqSpCkJgdKclKAAtNjkph49AL5mLlHfm6CVrhAO7JEqirztTw5UqlcVJwtqZkZEhaXIkciEg0ftWzZsmXLli1btmz5O7BrVx6LTJSYpFQpKsqS+uo8qa/JNXaoZcvflutqCqSyskSSsvPlaHSm7A1NlZ1BKbLteIpsOZYkm44myYYjLid6fPfNG5U3H0uRA2EZkpZbpOC3TOW0UJ+VZTBbZXn6JWC9b5nDNVW50vrDRkrTpDA3ViLDDkpE6GEpKsyQluYqaWqskPq6Em1wbZQTrAWsvlAuMJ9cz/0aG8rNvfFOuVxf53geeO8pKb6w815Uy5YtW7Zs2bJly5a/HXvalbwFoqmhTJoby8xnQ91JW9Sy5QtjR5aaFNfUqRxVVpdKhcpYhYLUcrjC4bILZK6prCrV+5dLS1OFub/v519s1vooPuvoaJO2tuYfAJQqKq4oSZKyomQpK8nSRq3SOzpbY3NOZ0erfm0TYevjE6zHvxW3S1dnq5OH3dZk7u9yZ0eLPkdZYF5Ga9myZcuWLVu2bNnyReSuVmNztrPRprKnLWrZ8oWyI0NNimGaVb5cHHMx8Ixe36lYifWr5hkt3wM7z+nq6pSW1gapr2Et6/cEShvqiqWqPF3KixOlujzNeI3a2uqltaVWmpuqpaW5ppv5frHYvadly5YtW7Zs2bJly5YtW758uMrJlK3OldrKDMnLiry0oJQIKCC0tipLqhUF11am68OzlLOlRn+rqVTm07Jly5YtW7Zs2bJly5Yt+z9XZpqNleprsqWhNlcKcqIvDSitVlDa3togXV1t0lhfov9nSFV5quFKPaey1LJly5YtW7Zs2bJly5Yt/1dl3s5CsDI/O0oO7V4msyYNuHigtKQw3uw2xppR8pOzMmIkNuqgxEUdkoSYwxIfbdmyZcuWLVu2bNmyZcuW/ytzYuxRSYoPkJiI/bJ/52KZO3WQPPfuF+cHSv+HgtK/PhMoLVfUW5YsVRWZkp+fIYHHD8vSxV/JnJlj5evZ42X+3AnKEy1btmzZsmXLli1btmzZ8n9lnqM8b5Is/HqyzJ89WsaNeFueeG2E/OjhGPmzuxo8QOmMCwel5AYX5cfLnt3rZfLEUTLk0w/ks8Hvy9BP+8qwzz5Q5tOyZcuWLVu2bNmyZcuWLf9XZfDhUMWHI4b2lzEj+sroz96Q5977Qv7p8QQnUnrttwSl1eWpJi+4IDdG9u9dJwsXfCmLF06T5UtnWbZs2bJly5YtW7Zs2bJly6fx2hUzZOvaaTJmxkb5xSs58v/cViN/dnWi/NnPv02ktCxFKspSpbwkWQrzYiUvO8oAVL5btmzZsmXLli1btmzZsmXLnlygXFEUI01V0bLtWLpc06dC/p+bK+XPfh/37UFpWWmyVCowra3KlMa6HOXc7k/Lli1btmzZsmXLli1btmz5VO5szhbpypYDEYVy/QfV3x2UlpemSAXb/CowrSpPs2zZsmXLli1btmzZsmXLls/ITTWp0tWcIruDc+TaPlUXD5RatmzZsmXLli1btmzZsmXL5+KGqmTpbEySXUHZFpRatmzZsmXLli1btmzZsuXvly0otWzZsmXLli1btmzZsmXLPxhfMlBaXpIk5cWJli2fziob3oLoyEyyHrdyc1mw6aPk0/qowvaR5bOxysdpMnNCbnycb9l/+Qyy4Oh5H+db7rlckuizry1btmz5QvgSgFImIpdTz8G+CuXrPMt+wSV8qpyUp0l1Rbr5dPpcjRQMGGPEeF3zndjK1bdjZ6Oymsp07Sf6yPnN6SMFqyW2PS17s8qMclU5MpOu8uOMbQNAToxtKzf+z46+RRaqT8gCr4k7KQsns6l8XX8hfLHuY/nbc3d/d88XzpzePeZP9I9ly5Ytnx9fdFBaVux4zGqr8qSxvlwaGyqU+exm85vLHPPmcmk45RzLfsP0a32ZcrHU1+QYgwVZcaPqVeUZUl9brOdWnn7tudjc2/neZLjCsCtX/OZ5juUz8Ik+KpHGujwdxxnG4KCfGNuVOsbragr0XGesWrZsWGWmqXts19VkG2cGwMRE1UsS9f8s1euleu63GNsuu+PXjuHLmFUG9LOhTvu6vkj1vCMLOLLKjCwkSXVlttRz/LRrz8Ie/e7q95O63UMXWdn4ftmMeVj7s5b5gjndglLLli1/O76ooLSylEknWWqqcqWlqVo62lulo6NNmc9ubm8xnyId3PY06upqk/Y25xzL/sVdXe3a/81SWVEoGWmR5mW5xnhVoENkBUDa3toknR16no/rz8rImnJXZ5tKEbLVZeTpJHU4smdk0vKZuKuz3bRhY0OV5GbFKUeY/qmucIBpbXWetLbUSaee4+t6y/81GblhbJeV5kpmepiUFMZJjcqMGz3FcG3X8dfJeT6uPzczdpu7x7CdHy5n7urqkLa2JikpyZas9HApKYiT2krHAVlVnmnATLse93XtGfmEfm83ulyk02h1h7qM3eCcZ2Xj+2TmAcZ0fV2FZGfESH5OpPZxitRUZpxiaFq2bNny+fBFAaUNVQpMq5IMKK2pypOW5lpjuDY1VnRzpeFmuKlSj1fr8RppU25trtH/HTbfW6oNoD3lmu7vlnswN1RKV0eDNGn/R0cel9Urv5bg49ulqizZRE0xWlua61Q+avT8kzLjsrcMIEfNTVV6TZXKjcqTkSmVHfNdf+/+7h7nu7nG6z6WPbihQtpa69RgrJP8vFTZtGGp7Ni2XPLU0KiryVLDo0jb0RnbzWcY2xeHq05wSze7x04pr+XLgumnzo56adAxHBS4X8f2XIkK328yZxpq8wwIaW2p1/N0DHrJzSn38eJTfkcG3GuJjnkcP3GOF3ufY/n7YfR8vcrCsaO7Zc3qryUibK/UVWdKbVWO9kuFoz+0P5say0+71mXP/jP9qeejx43N0KpsbAd0PTYD9oOjI3xdb/nScVtrrZkzMtLjZN2ahbJv9xopLogzL8F3M2wsW7Zs+Xz5ooDS+spkEymtr8kzhgeTTkNdsUnHrK6AM42HtKYqS5rq800kNTYmVJYu+UbGjBkmI0YMlpEjP5EN65dKWUmqTmoVUlOZLZXm+kzLfsJN9YVSU52tYHS3zJw+VhbMmyQRIfultrpIOtqbjDMC2XDWpfm+R5X5zFIjJ9uklzY35Etbc7F0tZepgVIiRQWpEhMdogbRXtm8aZXK2NeyZdNqSU0K0+fnqVzmedzHsic76dOk3edLRlq4LFk0Q6Z9OVL2qqFRWJimxmCDGiBqcNYUSrXH2DRtWamgtSZHQUiu9mf2aUxK50nOMcz59bWnMtc31ClrXzVq39K/pt/0d/SHZ3ktXx5co33f3FBo5ODQgU1GZpaq7MRGHdW+LJf29mYDRtDpnnJzLkYeK9EFqhPqa0ulrrZM5SzPZFWc1BFWJi43bm4oMHP3vj3rZarKwpJF0yUxPkhloUz1fOMJWXDsA9/3gJEnuLYq29yzvaVEykszJCkxUo4HHJQtW9bK8mXfyL692yUzPVaqKvVc1TXIo6/7Wb74zHzRUJcviQnHZcHXX8qs6Z/LwX3rpCA3VvshQ/vY3TfCsmXLls/NFwmUJkpLXYa0tdRKe1uziXqhjMwOnmYXT3ctSbpOMFmSkhQuc+fMkPvvu0f+499/rPwP8ouf/0ReffkJOaAKrbE+V1oa83VCYoME51pnx0/nu7PZSvfmGd+Jve/r+zhr6WBnl7mT5znlco45x52yef9+JnbP9/Usz3PM/Xzc05TH3MN3eU6cY57h3P9M5Tq1LGdj9z7ne/5JZpIiXTc+5rAs/maKDPusr6xc/o2UlRWLdLYp8ChUo0PvzU5+Xtc6bZCsxk6q1Og9youTdeKLU2MkQuUpSJLiAyQq7JDs3L5B5s2bK+PGfSEfffShvPTyi9Knz7uyYd1iKcqP714jqfdjIy6vZ5yNvdv2ZLt2Hz/PNnHu45578jfPvjgbe/bnyft63vP057vHPMvrizlere1bW50hedlRsmPrUhk9YoBMnTJW4uNjpaOjXVqbqhwPuOe9tC1LtVwYIvlZsVKSp/1XqL8rl8NFKYbLCpUL9H9Yfy8tSJTSQmX9LCtIktL8JCnhN+Ui7dvczGjJyYyS3KwYKcyLk9Ii1qvzvLPXw+FztEn38dPbtfu4udaz3Z37ONed/P1MfOpzT32W9zm+7uldHl/38X3O+bJzL8On3MP5//Tfz8LaH4yrKpWdqLD9Mu+rcTJ8aH/ZtGm1VFVVSVdXq4mSOf3mdc8ynYhIDa/UMa3jsqw4QZ+trOeZtH4Fn0WF6ZKTkymlpaXS0FAjLU2sYXPXO9NXtIPTFs7nhbWLU18f7d/dPyfP7W6X034/nZ17Up5Tz/P8/dRzzn6/k9x9jVd5PdmVixP3Vz7z/Z3jvu5zNj7bPVlXSN9FhO6Rr2aMVVkYoABynfYdaf+NUl+Te6J8vq7n9zId69yjvjZL54Uc/S1V0lJCZduWNTJlymT59NPB8tbbr8kzzzytev4j2bNrszm/sS7LfDrlO/3e58fn325nP8dhtx98taMnu/3m6x6wex/nmd7Hz7887rm+yuDJ5yoPzHxeo+MwKz1UNq1fIKOGfyjTpoySqPADpt9sGq9ly5YvhC8CKE1WUJqgoDRTOtoazbqh+toivbkqLdd41O8oLyYWUjcXLpoj7/d+WR687xq5945fy+MP/kGefvQ6efap2+SzT3vLwf0bjTKrrcrUCSbVXIsBUqcMIKnU+5mF9N+BXcXOPeurs9QYp3wnj7EpQ5U+m2NNdTmGG2uzzdoYzoP5zm/ucc7lmpqKdGmoIZKn13Rf5/nd3EvZPZ/nUc/66swT9zLnqFIn7Qljjzbgnqcepzyq9LvLzHM9y+N5Ds+p0/Y0ZYFPOSfHnGM2JuluA08GALptwoTPfWAECOOBY+fTH2xsxA596SlBsn7VXBn80bvy9bxZUlJcLF2drVpXjBUAqY+JUPucdqhTwMSzoiMDZMf2zbJyxRKZM3uaTJ40ViaOHytffDFWRowYJcOGj5TRY8bKoI8HyfsKSidMGCtHDu8ywIZ70B6nPcMHu30NWPNsf9qQurjn0X712iZuf56JkTP6/Vz9Zp7R/ZxTftP/zbX0FffUe/BMZMezDw3rcads6eaZroy7v/ti7sVYK8qPk6OHNsjokQNkzOjPJDIyUsd2uzQ3lul5HtdrvzAmcRBERgRIcMARSYwKlfS4MEmJDZIEOC5YYqNDJDo8WCLDcB4clcjwIxIWclCCg/dLcOB+CQk4IEFH98nxI7sl4NAuObRrq+zcvE42b1gtW7dulIBj+9XwiTLlQwY9y+zN1I92QEZpF6dPTh6DcZo11Jw6tukHt23QC55tb8ah3scd2+aa7uvc609+1/P12e5GP07/ZHmNuWxzjnvPRh9jm99NmbvLbe5zSpkZtx4bi5jzTtbRZX73ZPc3I7Mn5KL7XC2zIy/esnzqPbyZsqKjkuMDZNmiqfKxju0VKxZLeUWlju0WPYa8n16WSr2uUstQqfV3OEtBaprqmgQtg7ZpfZmkpSbL/gMHJTY2Xurq6qS1pVbqFNhUlTm7eNdWalm1DrQDsuGkDZ76HF/sjhPq7+prz/Y/2YdOm50qU07fnnZPzu2+J217og9pw+7fkSXTXuYc57sZz933OBO7z0PveMqa+92z7O79Ka8jI6ffn/9d2fS83vM+3N/XsRM6yOueMM+mP5Lijso38ybK4EG9ZeXKpQpK6xWU1qt+ydLrcDCd3n70m9suzfW5xgZITQ6XHds2ybSpk6Tv++/Ls88+Iy+++Iy8886L8uabL8rLL78kX82aKvk5MdLalG/017nA1JmY+iA/jP8T/c/v3f1nPpVdWeA8d5y753jfj/p46hpfjOwhg7SdeY7XPfh02oW5w2vMK1MG+sTVU973cM9DPt0+9+xbp69PlSO3PO61nvdymX7GVivIiZb9e1bLyGH9ZcyoQRJ8fKfWyek/5MSyZcuWz4cvEiglUpop7WY9WrM01JWcNAz0IXwn8pmTGS0zZ0yRXr0ek5eev0PGjXxOFs/pK6sWDpI1iz6RoR8/I088dqv07/eWHNi3SUoKk4xixONmDAadpDDKMH64J4rYGKgeFTpfZlt67tOkihOvO0aTUe7c16SHAYRJRco1E11bc4GpA5MlUTbOZQLgN461NhWYMmIkseNga1Oh/l4o7S0Oc477P9/55FozCelkxnUtDfnS0X2c+3FOc4MTEaDeXO8ec+/H5EF9AIyUl3ty3GX+r9MJiPpQPufZReZa9z78zzFAn5l8PNqJ9uBa2opPt86kVTIZucdhvnte682cD6cmBsqaFbNl6Kd9ZNHCeVJa4oDS+pp8fb4aE91y48nOsx0gFxVxTJYuWSRjx3wun346RAYO/EgGfDhQhg4ZquBzgsyYMUMWzF8gGzask/XrV8uUKZNkyJAh8s2CuQpsIoyxYyZbr2f4YjORK2MI0hdOHzh9R1uYyVnPY4JvPdHWtInjSMCQcNuHqBD1Jx2V8znGtciL0yduvzl92K7PceXFlUE+eQZt7RpBlI3ymD7kd/3NkWMHwDWoscFxJ7Lk/u67rygzcsQmVAf3rZXPRw+UCeNHSExMtAGlLU3lp5zvOCkwSmIlKPCQ7N67Uw4e2SN7Dm6WTXtWyJrdy2TVriWyfOsSWbx+sSxYP1/mr5sr81fNljnLZsqsxdNk5jdTZcbcKTJ11iSZNG2cjJ/8uUye/IV8OfELGTt2jIz9fLwsXbpU4mKCTL9RRs8y+OJqPQ99gWFE25epMUadnb5wHDT0p9vW9B31xmhDr5g2O9HmBUYHcS2fJ8aNR//w6fmde9O/RBzc/nGPe57DMXSc99jmOM+iLvQn47va1Ml5PtzSWODIYPc5bv2M3HUz//vqa441qLxQBnQLm5M4Y0/rTnmoc7eudeT57OMbuebchNgjsuSbKTLk076yds1yqaysMmOblEpf47oyX2U4JVLK48OlplDr11optU1FUl6eLM2NOs5a6iU8PErmzvtaNm5cK7ExxyU6fI8EHtskkeEHpTA/1cw39bX5+nyVjSqiMwBWx3D3fp4n02Yw/W7aX9vcHWf8j+6n3sgO5zntn6v6w9HJvObE1z1do5+2RY5oF89nuW3u6mvGP23Lce/7ebMpg8q0Ky/IiStX3rLsPosy+Lo//1M29IYrU849nDZw733yd0c2+aT8ZyozskC7xUcflgVzJ8jQz/rJunWrFJTWSmdHg9RWE/n0recdfZUlnW3FRs8FHd8jU1V/9+7dR4HoC/Lqqy9I375vq54fqkB3hixbNl31//vy2aeD5ND+bXpf53qciN73Ph922qS7n7XtqIdbR76744BPzmlpdGTBPeYe97wf7eHYEW4be7LbrvRhoZEFrvFsV/c7OsvoedOfJ3/nk+fSj5SZ8nvfwz0PWaY8rj5yy+EtR+0tTpmQHfdaz3u5zLOQMzJrdu9YIWNGDpSJ44ZKWMhevTbHtI2v6yxbtmzZF38voBSF2dVRKonxgfLqKy/IL3/+L/LGS3+S9csGyb6tY2T3Zoe/mvqu9HrqZrn99utl+LDBkpwQrIo/Tw2PRL02WBLiAiU7I8rcr74GD7NjeHlOAudiV7mycQsGXXJCoISH7pfM9HBHwXaDho7WYmMIRoTuM+ukDu3fJMeObJOk+OMngEaS1ufYke3m+JFDW/Q++4xyzsmM1Ov2S4AeCwzYKSGBu+T4Uf1+bId+323uw/e4mMNSkB+nz82Q4sIESYg5an4/fFCfp/fk2vjYYwoQYpx7hu0z1x46sNE8Lyx4j6SnhJgJirKnJgWZZx46sPkEHzu8VRLjjkleTrRERx6SYC1LSNBuCdDyuPfhN1JgmbDcSdVpJ4woJlSM9wLTJlX6nJSkYElNDjbtB5jiGBM0ZeC6M01gTIawJyhdvOjcoJTycB3fYyIDFKAskjFjP5dBHw+Wjz76WEaPHiNz585TI3itbN20RbZv3iY7t+6Qvbt2yJ7dO2ThwoUydNhwmTRpvALaIzq5Z5n70W6ez/HF1Amm/YO175ADmPajzcpL1WhVQ8hNIaasroHBxO/JpKWzGyUTdlpyiFlXyRqo9JRQCQ3eq31F324ymQJHDm6RIGRH+4o+P2xkcKP5nhgXYGTTGEMq/wW5MSonR00ZSlSOADrGKDbOljR9VrDERh2W3KwoY2TQn5zjy6jmfIwMT1A6ccLIM4JSmHFI2m1sdKDsPrpDlh9YKV9unCrDlw+XwUu1jxZ+JAPnDJQPZg+Qt7/uK2/O7i3vjH9H3hr1prw+/HV55dNX5MWBL8lzHzwnvd7tJU+88YS8OeBV+Xh4P+k/sK/06fOBTJn8pY6vQ6bOTt+decxjnNFnCTp2IsMOmDHJ/1xnjDHtm6K8ODN+Dmib0uaMT/qkWs8pU/mNjzmibb3VHDusADtKAVC+tnNGWpiWY6+OMx3D2j+MHXRAUMCu7u/b1JDeqboqQPtCAWl3W8aqgR4Y4IxtmHMTVZcU6vhH93DPozpWGZPcA12SkRpm+ogxR/nztP/CQ9BHjO1NclTHbmLccSMLLI1gPNK33nJHf9IunMcn/9erHKSmBCuwO2DKQJuhU8kkoB1oO853DVbu6zpDPNvaZdoW2XFB6dDP+sq6tWcApVqnSoxV1TXFwQckc84sSRk3XvJWrZbahDipK8uRqmrtq7YyqW+olgOHjsrIUaPlyy/HyKoV4+Xr2f3ky8n9ZP6CybL/gOrklBgpLlJgXZErpaX5UlKEYY/jxanvmRhdB+DOzY5WvXBQZWCHaX/6OyRojyQlBEhxQYI5zzh8qF/cUR1LR4yuROd5tgd6D/lkjJHKHhG238gL/zvAP1Xnr0jTthmpoWY88j3d9LPqXr2/Z/k878snY7pBdQYp7cwjyMtJHeHMQ3CA6pGUxCBTL+Yr5gj6Ejly70mdjEzpOcjaIa0zcmX0jDL3C9X7IsvMEe44MOfoJ/Jt5M7jni4jC9zfE5SuX39uUOq0ZbJZZpGp7XZA9ezoUUPk6aeflF69npBBg96VOXPHy/btyyU8XHVo2nGJiNgpc+aMl/7935dx48aqXt6t93YAnOe9z4d5PuUuLog37Yae5Tu/MWYcEMoa91wzthN0XqWdsRnam0/Og9Sf+7ltjM7HBnDnZNrP5RN9pvqHsZit84xbDrdcfOc35CVO9VJ6aogjL92/IzclOm6TtSzxakMgexzzvAfMuTjcOc59kB36+4iWI/j4LtPfrn1x9PAWI7/0g1sGz3u5TP28Qemk8cMsKLVs2fK34u8NlEpXuRpmR+Xppx6Sf//p38q7r94uG5d9ItvXDZdta4fLrk1jZOmCgfLmq/fIzTddLR988L7ERAOmEmXrlvXyxedjZMSIIbJ61SIz2eLNI0KDUkTROs/zbTB5sqvMWxsLjLE4/othMqDfO2ZiaFfQhfGAASIKolHS/fq+Jffcc7vcefst8sRjD8jCBdNNRBOP5vx5U+XJJx+W2/50kzxw/106afYxk8/aVfPluWefkHvuvl3u02vvv/dOue/eOwzff9+d+vttcvedf9J7vymBx/fqcyt0MjkmA/u/K7ffdrPccfvNes8b5V699uOP+qhRsFk2rV8svZ5+RO684xYF7TfJn267UR7X8syc9oWJ3AKCVi2fK8889Yjcc9dthu9WfvzRB2TenMnGmB09crA8/NA9ctedt8rdWgaec7sy502cMMJMiEy6DmCh7xxPOpNurRq8eK8xYD77pJ8M+ay/Gm3HzURs0ny6DRFvQ8OTOQe+UFBKeehfQM+K5Uvl8y/GyfQZM2XmzJkyRgHp1ClTZMO6dQqi9itwOyAH9+6X/bv2ya5tO2Tn9p2ycsUqGT9ugowZM0a2bFqrICDagI+aSuTm1DJ6Mm1ApA0GJL726vNy003Xyc23XCdPPfWwLF0yW6oqC7T86TLly1HSt8+bxilABItIubMZiwMWMEzb9Le9u9ZKn96vyVQ1sAsL9FhtgSyYP1UefPAe0x933fUnI2/33qPyorJy332O3NyrjEw8+vD9MmvGeJXdOOlorzKAgVSpDwe8q/ccLZlq9Ha08c64HAO+6L+5sycZOd6za42CC0BZkWlTX4bGtwGlXMOa0aSEENlyZIOM3zJVen/zkbw043V5Ztrz8tTkZ+WJcb3k/slPyM3zHpKbpz0g9wy6T+7ufZfc9tYdctOrf5IbXrhZrn/6Brnm4Wvlqvv+IPe+dJe83v95efWt5+TFF56XEcOHyfGAPaZssDPeTy0HTJ0620qMsThy+CAZ/PEHBpi262/GwdKIw6lI9u9dL+++/bLcoeOJ8fC0jpsN6xZqHcsU4CSb/nns0fvN2GbMjh71iXEKzf96ijzzzGPmGjOeu8e1Ye2ru+66VXXBnfLJ4A8kXo3a9vZKA0bffecV07e336ZjV/vxgQfuUmP9Q+PoWLJ4luqRh5yxrcf5fEL/X/D1VAN+TNSqvcToloED3tNn/0nuuuNWHcv3ygLVQWR9MA7pB9qFtFY3Uk9bIYOmfVSeayqJtqjMKqCYPnWs9H7vNR0jChhUxrs6K41zDH3x3ruvyu6dq40uxPHkyMqZ9SvjmuedFyhVrlY9U6nXZCz6SgJuv012//Tf5OAfr5WYt96Roo3rpCY3Udo6q6Syply2btspAz4cIMOGfSALFw+XBYs+kfFT+smno96Wj0e8JRNnjJD9h3ZJXl62xMfHSVRkiM4bbLRy5owAmHHN2KT+L734tCMLynfccbPpH3RcYnyAtOm8IFKhMhUoI4YNlEED3zeglTmC610dwrMYj8wh2zYvU/l6ReZqW1JvEXYrLZBtW1fIJyqTi76Zbtp3kOr3Rd/MVFCRpM8p8Tkm0UPm3jqey/S8uXMmmfkGebpP5xbkE/m7W/UGvz32yP2yesU82b9nvQwb8qHM/mqitk2MtKleYAwgD8gFMoMz5cP+7zlzkl7LnAM7su3c9957nd/QSXfcfqt53lczJ0iB6gj0HGVz5gunvO5ccCGglHuQhVSgem371jU6fj5UHfuoPPf84/LpZ31k/vwJsnv3EomM3Cnp6celoCBSyspi9TNCAgO3qW7/VF597WXVwxMlKiJAairYgOvszitPpvyc36ayjiN41IhBMnTIAOO0Zr43mRLabm52AQ6l4UMHypBP+0uc1pPoNGPF1asw0VHm5b2718nbb77s6Hada2lHo9+7P2l7+Pnnn5Q1ajs01pHZwnh2sqhwkrNBHHLa+93XZM6sCSajAxvIzCs6L2ep3p80caQMHNhbAeEe07fM5dyDstAO1I974Wzr8/4b2o8qM6pL7tP+pa9P9Lf29R1q7zzT6zHVQVOM84E28NWWrixZUGrZsuWLwd8fKNVJPSbqsDzy8D3yd3/z5/LMo9fJ8nkDZce6kXJgy+dybPdEWfJ1fwVVN8u11/5e+vXvL0eP7pO9ezbJyBEfyysvPaHG6cMydGhfBakrJTkxQjLS4yUtJcZEUknrI2LjXUFvRjFjNGC0Yqy/8MJTCo4GmKiESJ3eL1iWLJxpFPyY0Z8YI/ADNejfUQOj/wdvy45tqxRgq4Ghyn3tqgXSv9/b8torz8n7vd+QOXo/PKxMVlf88mdy883Xye9++yv5l3/5Z7lJv//hD1fKP/7jPxjD84pf/Eyuufr3smb1En1uo4KerXK1Hv/R3/+dPPbYQwo4H5H//Nl/yE03XqNGywwFz0Plx3rtH6++Sp5/7hkFRzfIP/zDj+SF558yEwIG0s7tK015337zJcNvvfGS9PvgHdm6ebnxsk5XAPvLK34u/+2////kqquulOdf6GUM3L/+q7+SJ5942Hh+u9odQ8sxXtKMF37WzPFqlA+WcVoGJs6//du/kf/zf/5W3tRnjFVjYJT2z/x5U8zmBkzKRFTO1PbwhYJS0ggL8+Jl+/aN2i9fanm+kmPHDsr+/Ttk0oTxMmHsWFm1aLHs2LpVtuzdJusUxK85sF7W7lgvmzdvk/VrNmlfz5dxCkxnzZqlE+YhLSNycNKg9MUYKkysMBHsfh+8pUDgbgUQD6pMvKmG53IFhjVmx+A3Xn9e/vzP/1yeePwh+XLSKLM5EE6AMaM+NY6P8eOGGS/5sSM75CM1RJ995nGZPXu6hIYclEGD3pe/+Zv/Jddd+wd59ZVn1ejtI6+8/Iz21c/kr//6r+Tuu/9kZPC1V5+T15Xnz/vSeOqd9/W1msjqtddeJW++8YIBuiLtJvK6Qw1g5PFTBUi3/ekGWb50thpsh2TX9jUKHo7q5SWmPzzr7AKZCwWllUWpaqiFaLuvlM9WjpSXpr4jT4x5Vh4Z/Zg8OPJRuXv0I3LDtPvkN0vukCtn3Ca39LlVbnnhRrnmmevk909fI7977A/y+/t/J7+54zdyxS1XyM2P3yRPv/Go9HruIW3ThxVcDpQjh3dq2Zy0R58GkpG9TBPlnDRxhI6NJ027l6ohL1IrMZGHZMH8aTJt2uembxgrfd9/04yVgQN6m+gn5xH9Xqw64AM9Zsb2e69r280x4+M9BXG/1TF9ww1/1M9fyj//8z8ZgMp4/r//9q9y6603mH770603yuFDW/R+TQrOvpFf/Pw/5d/1+BOPP6qA5z75t3//qdED69cuMuX48Y//QfXFDQp4e2lfXi1/96P/o4DxdRM16lJAKlJjIt6A5Td1XL/x+gtqWL6pfbzSOPwwQnepbhqj4BlHFo6joQpIJqseO7Bvg4mgtyiAEB3fRP8A1y8+/7Tq4/uMgbpFQVRTU4XZwXrwoL7yF//vnxtDeYK23zSVZWR43ZpvpDA31jih0OmebY8cXQgorVKDuUr1ROaSOXL02mtl/Z/9maxU3vQ//qcEP/iwZM2bJQ3piVJVWS6Hjh6RiVM+lxmzR8m2XfNl18ElsmjtJPlk/BvS67075cX3HpXZ82dKcGiY7Nq1V/bt3S3ZmfE6bk+NZLpMJI3PtuYi1QHZMnP6OPnJj/9R++g/5OWXX5BHH31YfqTtjz5G/zHOsjMiZIIa208/9bA89uh9Mkx1PNFz+gZgQMo3mSSk1u7YttKA/UcfuU9efrGXsIt1Q0OR3qdTFi+erbJxg5kjViyfIzffRFbQR1KnOobnAJSdMp4K8nhGbmak0bPXXHOV/P3f/0juUUDzy1/+XOeBvzdAoq/qiDdVDyHPB7XP12t/IYfojjJtB0OdZcbJQL2J6kWG7ZeJ44Y784Uy5e6n8xxA5X+rnv/Zf/67vPxSLxnQ/10Dst947QXjYFm5fK6RTQAabfxdQSngBpCVgL76dJDOT3+UP/7xahnwoerZ7QskOfmgZGUFS05OqHKI4cLCcKmoSJCiohjZsGGB9Onzhnz44QcKatfq/TLM/c7HUQ0DvHC8itRLdNQheeShe7R9bzObK6ETGPuzFQxOVt2+eeMSEz1+8omH5Kc//Rd5/bXnddwNli/GfiZzvppooo60LdeJNJg089E6DzBuaWdsCcNvvSx9+7xlxvmNN1wj//rTfzbzqUiVcpNp29LCeOlUGWtvK5OFagf867/+s5kDSBHn3ugF5CYvN05tpGfk+uv/KAFHt+pvzeYeyCTzF33EvEzfr1S5+82vfyG//tUV8tpr2qdvvCI/+9m/mTkIR9eHH/aRO+74k/zkJ/9knFM4QLvaSoyzy7vdLCi1bNnyxeTvaU1pmhrvJZKaHGImyP/8t3+WG//4cxky8GlZ9vUA2b1+hBze8blMGvuy3HLTL+TKK1VZvv6afPHFF/KZTmj9+jwto4Y8L+PGvKiT49NGiY4YOUYWLVwoq1Ysk+DAA2p0OalT3hX0ZCZOIkVMzBgOeCk/GugYo6QxZWdFGO/1LTdfL3/xF38hv//9b2SEGgzrVn8jK5bNMYYq3kq8p6T1MPmsWjHXRDSWLflKwd8y2bRhifE2/uxn/64g+ikT0fjNb34lb731kjz15ENquP5UJ5Xn1Ri5Tq5U43bRwrlqtDXIvt0b1Nj4vTF6YmOCdWIMl3fffc2AiWlTx5qoD0bS7FmTJDcnQ5YtWyg3XH+1mRhJz2LSiIo4YIwForkLv5luvPGLF82UDesXGZBCetBbOhFeccV/qsE6WFJSYmXj+qUKjn8njz58r7meKBOgHc8vAPMrBaS//c0v5XdX/lqN1NtNJPf3v/uNAdhEdIjq/VzB87UKqHgeadF4hz2NFJcxVuALAaWARtaAkrK2dMl8GTJkuMybO0+Cgw7Krh2ApuEybNQoma5yMFsB36ToDTIyab6MSpwk0yMnyvIjc2XzrrWyZs1aBSOzZNRooqWrDchFXnwZrZ7McRgQmJkRLSnJUSpvexSQLpXQoD1SpL+T6gaI/Lkatdf88Sr5v//3XxWs/Ni028/+89/kf/31X5vvc76aoMApV5KSomSE9ifRzdUr56sMvi+/0zadOW2cMYLDgvfJ7JkT5IbrrlZQ+j/VCHxVNm9YLPv3rtPJfr9kaTlysmJM6h9gedKEEfLzX/yHMUy3bNkkR48elj6939SxdJ0MGzJQnlIZ4fn9+r6thtGLJvo37vMhKsNx2h9OJM1th+8ESuNCZO2e5TJk8TB5dew70mvwC/LE4Cfk4U8ekzvHPizXzFVQuuxOuerLO+TW926Tm5+7Wa5+9nq58vlr5Le9rlZg+nv5zX2/lV/e+Uu56emb5QkFpY89/YAaSvcrcOsnhw9uN6nX3qAUWeN/HEWM7cULp8tdd9+qxv5Ak4JG6jUGPW39+9/91jhVbrzxWuPo2bhukSxdNEuWLv7KRLFxTpEOTRrbCgXxRAoY2zt03K9cPs+AUcbtc889brIMfqXG3YcKKhkXgFTkAMPwWgUOu3atU83ZKMsU0F6p7d9bDbz4uEg5fvywvPji0+aaJQtnmejHTTddI8uXzZf09FSzcdfvfvdrAzxL1CjFuE5NCpY9Wr4VOr4ZZ4xx9NH6tQtNej51RGbuuftPOlZ/Kddde5XRQRixQz4bYCKHnZ3VUpAXI2vXLFCj+GUDcInMDB7Ux3xPTo6W9NRoEw0E+Nxw/TVqvF4h/6ig5w9X/VbGfTFECsxmMkTgT03bvFBQWkmEUfuxJPSQpIwbI8dvv1N2/vgnsvG//TfZ8ud/IUcUqGZMmyYlqcmSlJsi+wO3ycHgjXIsaqfsOrRa++YL+XL0azKg9/3yznuPy5DRg2XWnDkya9Zc2b5th4maNjUwD/G8U3WRC0ox0Ck3wP2KX/ynyti7Ehx8WBYt+tro8Bdf6GV0fXlZrgEb7ykY+0Z1/dLFs4yjgnaNiz5ism4A/MjlgT3r5eOP+hrHwJZNSwyo57pVKxfK4cM4oPrrWLxCXnz+Kfn0kw8MMHjxhadls84dkZGHhSUhlM1tX2QboEq0fI/OTXfeeYv8mYJ3dM2HH76nYOZao2uQoZ06p7Fcg/kgOzNC+3GQgu1/Mnp7w/rFEhJ60ERPyawgFZ1XMrF0YNuW5SpP0+QbZZwv3IdI/z/94z/onPM7lY2xBogtVlD0zfypOmfNMOMD5wZOIrddXf42oJRr6A8yB1566Tm55ZbbFGT2lW++mSn79q2U1NQjCkrDFIxGKBglShot1dVJ0tKi801brmRkBGq/TZXBg/vJzOkTtV+OmnnMzbLxLJ8vpryAtpLiZFm69CvV479XYPxbnc8XS0W5zreqCxhTzHMTJ44yqbfGQfs3fyPXXfdHufuuO828eK3O4cyZtC8ZGjgisQuwHxi3Zk7WcbtY25AxjE5iTKM3ALjPP/eEHNi7QUJ0jmHM8zoc6arSesfIxPEjjENjyuRRUlKUYKL4gOMgnYdW6X2Iel5xxc+0v0abeYGsHY4nxTnLSljO0aFtjPxeqbqKuXvu3K9k3ryZ2t7X6fN/ov3eT2Vxhbb920Z/vK12C/rQAaWntyNyakGpZcuWLxafPyh92QGlf3l9uvzVBYJSvJVEMCr0NyazT1Xx3X7rNXLvXX+Q/h88Jl+Oe0PmTH1P3nvtPrn1+ivkwXuuk9dfflQevP9OefShW2Xox71k06pPZPfmITL0EyIJv5Obbr5R3nnrOfnko96yQJVqWMgRBTcnJ3NvdkESaTFNjXkmRe1Xv/y5AZ0A1DlfTTJplBhsGGL//b//N/nxj/9RFf2tJkL1qk4aRLcee/QBU34A6fp135jo2TO9HjUA9PnnnjTA4F/USPiXf/mxAs9rDZj7NwUpGLMYdv/yLz8x3nEmDyKpGzes1Im6ThX6Wp3c/iBvvvmCFOan6SSbpkbLALn/vttNpALPPPfbvHGZTu51ZkfSO26/SQHHw5KRFmoinFs2LTUGEBPbC88TWX5Svz9uUnaJ6AYF7JCxYz5TMHmzzJkzU3u1XVine7+2M+A2Mny/8awymZMqxiQ0SsHTT/7pH+Xxxx6U6VO/MBMqIJwJdcG8KSaVFHBKlIgUYNbQcY+LBUpJQ2QzCdZizf96przXu7caHp9om0xUuWGX3aHy8Zz5MiDouLxVFC3P1+2UXvWT5eX69+SzmhdlQeG7sj1xsjFkFy1cIqNGfS4zZ06XwIB9JmXuXMCUesC8k622plQNoSo5dHCHjBr5sRoqX5noNGl+RBJwXmCQXPlb+vynpk3vvONW0+cf6CQP2GysL1aDKt8AW7N29NBWGdDvXZPWtX3rCnO/4UM/MqmjRNyI2JC2i4yNGjlIkhNDpUMNu8jwowbUEqW7/tqrTeT6n3/yY7ntttsMI39/+7f/S676/W/lF2pwY7gii//8k39S2f7v8stf/kxmTP/COFfwyJsNt0w9vx0orShUUBqtoHT7chk6f5i8NvIdeWbQi/LEx0/KA0MekVsnPiBXz79Hfjf/Lrn287vkpv53yDV9bpHffHi9/HzwH+XnH18tv/jwD/Kz3r+T/3z713LdgJvk4Q8flgd63adj6h5tvz5q4G01esRJmTwVlGJU4rxg07KRIwbJb6/8lYnu7dqxWqaokbZC+wqZpY3+/M///9oePzFyD/B76cVeZmw/9OA9BqjibMCIfO/dV0zK/EsKGp5/9gmTXv0Pf/8j43S48cZrFGj+Sg25fzbRKMbzf/zH/zW//+pXPzdRlmPHduoYqzOA96rf/8ZEL/PzMiU+PsZEo0iDxNAnanLvPX+S/Xu3mMjgqlWLVBc4kW/alrRAsjpIMX7i8QfNuHbG9hPGsBzQ/x0JOLpNwkIPqEx+LXNmfangYaaJeqHDiORkZyVJTU2x0XvI5ccf9zXrXDE4iaQePbxN9uzeqEZpf9WrL6nxDACZJrfecqOJmNEGrGGk3X2tLWVcXwgoZS6oYDMadu9OiZSivbslZcRIOXbNNQaYEjk9eOutErtikaTqOE0piZXk/HA5HLZTls8ZJ4t7PyfLHr9F5jx5k3z21oPy8ju95LmXXpCPPhqsunG7FBcXKygtc8rpQxfBOM8oM0Y++nn2VxNk964NWvZBquP7y7GjuxSUBimwHG7ajAwIMk5IqWbpBn0x6MPekqTAtbW1XNtvnQGbr77ynOrz1UYX4ugbPvRDefrpx+ThRx42ThHGNFFZ5oO/+zu+/6fRoWRbrFBQyHyJg4WyI9s4UjtUv29cv8g4RACl//iPf29SxX/1y18Ymb71lutN5G3alDEmzXjDukUm+vaXf/n/yj/90z+YJR8PP3yf0RfMEYCGrs5qiY8NMlE+ZIklJ4wFInF3Iuv/8CNTzqeefNjIIjLnznVLl3xloou0oS9ZuHBQmm5AKQ7i1159Qd568x1ZtmylrFu32oDE4OCtkpISKJmZANNQKSgIlZKSaJXpZGlqypDm5kyJiztgxnqfPu/oXDXBLIkhFZasGO8yejPAn+gxgPwJ7WsyVIgcsikjS3u+nDRafv2rX2gb3q8gmfWWB4zOoD/Y/+KrWdN1jnxIrvjFf5isItaN9+n9huqYu0w2wnPPPmYyN7im19OPyrN63xfUXiAzBkB6g/bV//k//9voELKXaPNVK+bpnFOkdU40DqHnn33cOEdwOHB/ItakcT/y8L2mX3/6r/+s8vS/jcONKD22CCm4C3UcU0eyJDp1bl67eoEB3b/5zS+1fk/Js88+ZZwcf//3f2ccGGRAkbVBWdAt7MTOdRaUWrZs+VKzT1B6FaB0g4LSmRcLlDqGI0qqWUEhaXTjVcm+8koveevtF6Rfv1fk7TeflMcfvEVeeuo2GTv0Rfly7GvS+/V75aM+j8iy+QMk9MiXEhk4RZbM/0DeeeMeeeXFO+TTj56QoR89J0MHvSdLFdykpUSYZzAhelbSNVrNMTVCdu1cbRT5X+nEg+Im0jFi+GBZsXyBAaXXX3+1iQRiLLLetC9pQQoAMO6YpEmzJHK1e8cqBQqD5W01BjAA31QD91mdOJho3u/9ugEqH334vgEYpOf9+te/MAYBv5MyN2nCcElQo6ejo9IYNERHAAtD1CgaMuQTuVMnp3vvvU0WqTE9avjH8u//9lOTPjVjxhRtuxflXxV4YKiyFlQ6ykyUFw/9e+++Zri3loH0mxdfxCvfz2ymQCo0IGfOnGnaq40SFXlY2+A2MwliQLmglN032dDpi88/k39XI5y0nrGjP5Wpk8fIuP+vva8Ar+rKvmc6v/nPTKfurlQptLhTpHhxp7i7u7u7uztBgyVI0AQJCSEJkBCFGHFXYP332jePPNIHpW06baeX71tfHlfPPWefc/Y6W86kkWoBmCkkdPKkERojR6WcFl0SBioXrHPrNiB+CSmlHJFs3ApwV4W7h5CTzp07S7v0xahhQzFm+gL02n0GjX0jUS01BtXvnUf9rAVof7cjJqEG7O5Vw7kEIeSei6WO92Lrpo2YO3cOtm3dIPXmrm5W8dmZl63LSvAYJ1zCw/2kEM6ZGDViiFohe/fsiB3bVmtsImO2WPdMEkPrGq2RbVo3U8sk23qW1Jmvjwcy0pM04RBdSLmCHh8XCX8/L/QWWWB80batK7SdSB6ppA4e1EtXrikzXLUuUqQg9u/dIn0sUZVJKrskS7Vrfod3hGRxMYVuWU8//S+Vt3Ztm6nLOWWxp5SXMseV7zKitPy/f/xDFRcmXNE2F6JBZZtK+i8jpb646noBm/ZtxODVw9FsRhvUmtAAlSfXRvmZ1VFyflUUW1wZRRZURLEp36LIxPL4bH5pvL+hGN7eXhhvCd7c+g1e3/QVXt/wBb7aUApVZlVH5dZVRKGuhG6du0pd7/4RKbXu26x/KuPly5XCCy8+r983eFBPjBkzBHt2rVfljBZjLgaxX/SXtqH7bl9RvFq3aqx1xjgrWqRoPRo+rO8Dl8YO7Zpr3+YYwPocJP2aiwkktiQZ9HKgEsrxgoRzwfwpQgTd1NWfBJdukCVLFJF+PUz3zyWRrV3rO+wQBZHPpzJLZXrmrJma1IWko4u0O9uCiwa0sJC0cIGM/ZploHWssZDmgQO66SJHWmo0UpITkZSYgOSkBDiJjJUuXVQ9MwIDfBAWGqzvouJaXwgVSdhCKefypbM06ckOGftIZEiS2NdpQaSs0ENj9epFovzfEeX9lpK83P3lZ5NSWiv5jBhfxKeFITkzFlFe7nAdNw47vvwSq4V4bf/P0zjeugncju/EjVuX4eF1EgcWT8Oa2lWxMf/72P3Ba9hcsQBGt6+MOs0roQrj+oWUHjt6FFFRzJjMODi+78d9mzBI6U0lcuWE1C1cOFU9UkjI6KYZGnJNycg7b7+hFkdal7kgx0WGSRNk/uJCZZP6OgZednXS8IiPP/pAyGZBTJ86GuvWLNSFH/bp3r27oFu3Lqj4bTl9XtEihXRx8K23XtffJHqjRvRTiyTLRnmmjJP4pSYJKb2bAPt9W/XZJKV0320iRJeu/qNkHOgkYw6t83TnbSey2lfksI3MQ+0EzZsahJPunVw45ZxEUkVXVb+b7hpbTHnieMU5j32Eiy9czKRrOYlJ925tBe1l7G2t48i+3es1WdbdzHAtr7U8/HJSGqqktFvXDhg7diycnE4IKd2GqVKXe/asgqurg+AoDh3ahHXrZmP58qnYuHE+jh7dgdu3L4useeLw4U0yR3SQOa+5EOfliAg3MqNbyJHFSp4brG+SUlqS2Rbs06wD9jfOm3Tx5gJf7VrVsH/fNlwQ0kWSSaLav18PIY3jpb6qqwVyyuRR0h8PYfzYwToXkOR17y7zcbaO0Eqe34HjiPzfMl5wvGef/1rewfcz3n3/3k3w8DgvdTEaH8jcX65scV0wY3jCkME9dcGMz2coCQku5+A33nhddRuODZRPugtvXLdYv5HWzrvp4eodQVJapPDXMr61l3GmvZabstiwfm3pQ71RvXoV9YDiYjZjhw1SarrvmjBh4rfFf5WUkuRQwUpNDFJl2H7/DqxcuQxz5s6SSbsXWjStj8F9mmD7ukE4e2QynPaOw6kD43Hp7Gx4ui7G1UsLcenMDJw8Mh6O9uOwZ6uQpMnt0KVtXUwZPwLens46eHKCs54k9d2iMFEJofsaFQYSzy9kQnnxpRd0lXnb1o2ihARhl906OVdYE11QAdm6eZkqs5s2LBVyMV5dej4RgrB183Ihccexa+daLBZlhoodXWdJNo4f3a2rnFs2LdeYLyY0YXwGFTy6ADKhCl0C7UWBv33rqtRuHLy9zoli0VIVQK5W0sXSWDUtr7GB9ns2oWzpEhqTyrjQEsWL4Lsq5TFNvoWTAu5G4YLLEbVk0hqiWDpTy8UVdh+p76gof4wWpauMKKrLli2U9xqW0pqiiNPF09pSSlLKepw5Y6zGwlEZInGlcsO4Sf7mai9XfbnKyrrkKi4n9rwkpQSVCmYM3L1ri5R/NIYMGYypk2nxXIbxKxzQZmcoajjfRz3/NHQOu4bhYTswK2Ii7FLawRPVcCu9DnwDx8hkfghuF89g1crlurJtZHP11++1kBxr8BtosSDoUlW/bg18+OG7ajFwOLRbyn1b5Mkb550P4expe1Eo16oCyrbnijtjbQf076Yyctn1JLh9xZGD29C2TVM53gPnnM+oO3B/UfqYEIsyQeWQSiGVIVq+7fdvwrLFM1GiWGFVOCmH6SlhQswC1SJCzwNa+0lkSZQXzJsqylITMEaY1+7euU6V6E0bFuOAPMv10jFsEdmtK4oLFVn2QybEYNIwSz/5JaQ0KtQHV1zPY83+9egl/ff7BU1QbmYNFJvzHYrOr4LiMyuj1GQhpNPLotC80vhseSm8t7843jj7DV698DVeOv8NXnQphOfPfyn4HPlPlkTZlVVQtkMFlPm2LDq17wDHw7tsklKWl9/ATKfDh/YV8ldUZfK1114W2a6Cgwf3I/JOiLpe0iWfChzj/LZtWa7WQLrmkVjQ6skFJ/Y39m32cVq+2Yd2bF2hGSmptLJeGa+3R8YKLlbRSs1FG1og7Lav1thdh8PbtWzs20xQ1FzGtlIli2rCKo4DH374vt5z6sR+bffiRb9RhfKLLz5TqwnjOWkd5XexPwUFXNaEZ4wHs/RvuhbvFRLDhQ7G1d8K9sLVKxeEcJyRseCkKtKffvaxyFIzBPh7Iy4mTN10Od6RFBcRMsRvJnnnGMEsnF07t9V4cyqnDRvUUpJVQa7nWC0MW10JLVZ1wiIDP5uUZiNKSGNCUjCSs6JxKyIYx/fuxubu3bBOFOatb72K/SUK4sSQLnBZOxvHZ4zBLhkbtz37HHY88zR2fP4OVjQsiUFdv0ODlpXQtGUD3Q7K3e0CYqKM8uR+nzUspJR1Qgs3rWyzZ06Q/t1YPSG2ivJOzxiSSC72FBVF/hMh7FwgYv0sXzZLxv7p6CDjNsd+jvckfmXKFNeEaPRQ4EJSl86tpK24fckatG7VAh9InTNmk32c7tWUiflzJ6mbJ91XmbiK9UkZJ7mji31w4FWRk6WajOa5555VT4zRIwbgkP0W9dqhjJYVuSJhfffdtzBx/FCph9Pw9/OVMcZTxqijQho269zk4+OKO+HXcc3LGYcP7pC+sBArdK5brhZyWtpoHSf5pExzUYWhB5Q5uu9uFvlnIicSr2AhIwYJzRk/jf//QlIqBJCkdNiwIdJvRd43r8bEicOxadNCIZybsXXrMk1q1KVLa7Ru3UDqvilGjOgLO7tV8Pd3hp/fGaxYMV2IeQvdo9rB4SBuB3lpvHls9I/HeAtY17p/6h0/XWxkvDe9pJgIKi42DEuXzFLPFbrvLlo4A2dkvOfiMxcDq1WrohmCC39TSBcGqSfQ9ZYLDMuXzcYamZNZhxxnOG4waZ7jkR2amNBw652v8+rrb7yG72Vc5jh93eusjFm+0mbbdfGhoIzvzZrW01ADti0XHSif9HJgW3ChuIjIJz1hOOdwzGco0dnTB9S1n+1Bjwu671JH+EK+heED8+bNlu+ZrV5X1GuYhGv79rXoLOMAPbzoScLQpvtKSn9cfyYpNWHCRF7iv0ZKCYsiQxLAbG5MKOLvewVul51l8tmMYUMGYNiAFti2rh98Li9G2PU1uHVtFW56LsU19yXwvrwIfl5LERYgx2+ug9OhqZgwvCWaNaiKsaOGKMHioMuB0lph4m9OmnQ7CwvxVLdJKndM4MMVw7Jli+PoUbra3RXla4u6VXHVsXXrJkoS6CbDv61aNUGBAp/pYM4kN3S3ZDIRWlm4ik43Wyr5nPiZBY/HunVpKwpIZV2FpKtVa1FaGCPIwZ5JSbgdDeORggLcVSmhIsqJnwkPypcvqSSVLl23Az2U5Lzy8ksa/8QV/d0y6XFlmZMFLV28n5Y5ulpZQCvbts0rRJnMTmIik06RIl/pRuSJiVFwPndEJt9yaGzDUso6Y6IYWoephDHRx/y5k3UlmPEtVOZoTWEmXyZ/oVWAExTbwLr+LaCyQvxcUpoqk+mdUG8cOrhb9yGdPn2KKFDrsWvfSUxa54dm89JRdznQ1z4JKy/6wN7zHE5474e333QkhjZDxu0aiLrRD35X7HD5whmsW7sOU6ZMEXK2Tib/8zpxJsT+2O2b38DvITzdT6niN2b0QFXgE+OCcTcrEeddjqq7KN2kaDUbI7+5PQstHFRKmPWWxL1h/VqiKCyAl6czVq1arJbUkSMGqfWDRJZuXlRshw/ro21OpYhKIUHlVS30xYroggbbhlYOJsSgLDP+jYseI4fLN968iktCSiaOH66Jrjq2/0FXy5ldlFZTklwuhLg4O4hCs1PIJ+NKLUrlryGlN0R+zmLlvjXosWoAak9vggpja6DkuKooMUYI6aBvUapfORQeXxqfLy2FjzaXxHt7iuGt/QXx2r4CeGVvAby8uwBesvscL+34DJ9sKYEyM6ugTKvyKF2hjHxHeyF6tkkpFS6WmZvnMxHZ9q2rREZHqstszeqV4e7OZCX3NI6L/bpoka+1TntJ3TJ5Cy0YzYWo0gWdbpqOh3eoJ8Qg6cPatzu1xsoVs1W527d7g2Yr5TFanS0WDi7a0ELF57Hfz5w+RmO+2Le5xcouaTfKz5pVc9Xdm/FptEoePrANAX6u0jZd8Pyzz8hzCui9XJBg1l5af6nckdz63Tivrqa0stDFkpYrunvzHLM4q3Irimv1qhXwfc3K2ieff/5Z9fS4FeQp43OkxpVvFTJO12aW+T9PP62yQTIQJm1Od/Kli2di4bypunhXrmwJkcdC6g7MGE0m5HlU3/5FpFT6e7KQlJSkKHhc98LGnTuwbc1K7Jo9Adu6NsW2St/AvujnOFyiEPbJ2LtZCOm655/D2lJfYnnHapg0pD669KqOZm2qoU+/LtixYzv8fL2FgJDU/fh91rAmpZwHpk8bDQ93F2zbul7rmBYr1tOG9SuFDG3EWCGqXChkrCU9Tm4Fc/uSq2pVdzlzUMaIk7rFxiIhcPXq1dLY5QoVSkn/7iWy1EuIVCf5f1kljbSsVxbS8/Y7bwnZZfK6BmrV37l9lcyLPtrmHNcz0sL0HQvmTdI4Vi5wMpSC7vh0C6XFn/2aCZVoceU4QcsZtxvDvRjcv58q9Z8s88xxTJI5hRnDszLvqEvwiqUz0axJXQ0BoQcA+wEXMOiS+uYbr6sHDecvWvS4gEWvAY4lHdq20MzvzA/B2Eo+i/OPpV5/OSkNUxLVpnULNGpUX2M316yZj9Wr52DXrlXydxYmTRqG8eOHYa7MQwsXTpb/D8LgwV0xcmRfbNu2XDPzenoex7JlM9Crdw+MGzdBiPc+jcGPlzH+UQsVkdLPSP6ZHMhbyHrzZgzVqSHz7hU5lqLv+1janu67hw7uxIXzjtpmJKGME545Yyrq1qkJxgtzgYuEnfM766y9zPVtZbznWL5+zQLNj8C5geEB1AWIb2W8p7s0rbELZB5lHTKJ0TXP0zIWrdGFTvZHtaIKIXc8Yqf5DGhNZQZgekxx0ZKktHbtqtpOXCQODnKT58TonK75NOQ3F9OYr4CLT63btJJxq5VafCnXlKk+vbuiSpVvVZYGDeyhYy3v48Il68q6/5uk1IQJE3mJ/yoptYYqknGiyMjg6+vjJoRqB6ZNHIYpY9pj1yZR7C8swE33ZbjhtgxXLy6E27k58LgwF9fdF8Hfexl8PZfjyN4JGD24Odo0r4khA7tjnwzQQQHGPqZE7ndqhj0ZQJmtklZbkguSNCqX8+dPx4ULTjJZrNcBm9k0OelwUqELVBshpHSHIZmkuxMzLzLJCN1vaDFsK5M5s+9dlMlqrzyD28PQveajj99X6yZJBhUfKolly5YUwttUFEwmJLCHs0zEJLTThOhxNZrWWa7a083wxRdfEMJYR622dPOhGxmtpLSQcisJxjmtXjFPXaJJklme1qJkUtEkqExwddXP57y6NtJdmXFmDRvUwaxZE/WZH3/8gU7C3OPsIVIqbcgYO7rzNW1cT91zl4liPVuUOJaXVgJaY2pmK8B0X2P95jUpTc/exP6oo70oKtPk2ydh/z47OJ25hvnrY9F+KNCmLzB9bgqOHwvCNa/r8HW/hKgTK3D/UGvAoQYST/WBz5kNOHn8KLbt2I3pM2ZhwsQJqjjf9OEetcY2GtbvJfgdBCdfxiPfy7qj+86RNCxZPF2VhGee+Y9aKP799L9V8WCdcDWaJIQJQ2hZphLHZCLJSbcRGxuMTRuXieI/WVe5eY2FlDJTLt24aW0h8SHJYYZoWmhJpihztCgA6dLPglUh4bsJZmresZ194Jq6Wb/5xmtCZL+RMnXU7QjeeONVXagIue0l92eJ0vDjTfV/ESmlZ0KIkNJLp7Fq1wr0XNwf9UY3QdW+tVCpdzWU61kFpTtWQPHOpVFwZCl8uqwMPl4vxHRuEbw/ugDeGfaZ4FO8NeBTvN4jP17r9BG+6FUE38p93zaogHKiyHfq0MEmKSVYfroe8zgXX5iAZeOGJeqey8WklSvn6/YsJKWMAyXJYrt1lvpln7aA1hUme2FfogWDyjiVdsaTU/ZpPWXGVCpqdG2klVGV92qVNI70lZdf1H5OF8iFC6YIEXDQPW1nSL+eJWSS8kAXbcZ1G/GEL+p4wqRkJMmvv/oKKn1bVrd5WifKK/set3yh1YVZXmkRnSDEiO5/LWVs4r3c+iMzPQIR4b7o3bOTuhwW+OIzXWSqW6eGWoVpiWUbpSbfUos+rcMk7d+WL61KbDcpL5VoKpZM9sTtPvheKrUk3fxGLqwwfpxeI7S2s66tFc5fQkqNvkX31DAhX8lwd7+K1WvXYdvendh6fCtWzB+Itd99jX3P/BP2It92gkX/ehrjSnyNib0bYdLMDug/rimad66MJj9Uw6DBfbFn924EBfpL3+D2J0EPvS83SEpp9WViGCOR00ikp8Xjqocr6tWprjHE3B7E8o/Ja+iyydhjum8a/5gpNV7HTcoN3bEpK7zuo48+EBJTVUhpb3QVWeOiBfsfXWBpXSUR5AJGp44/aKwmz1G+GFPKGEeOR3w2wzO46FVR2otu3LSKffzxh2rt5jsscee9e3eSMXiijk9cqGDCo82bluh81URIyzP/+Y962awRGefiKRdm27RurF4y7A9M3PWcEH7OfbQCkpDyL+cTyhpdRavKOPKsjHeMhSUhJvkg2bHeF/SXkVI/9XIiKW0k810RGesYckCiefLkbhw+vEUI6GCMGkWr6Dr4+rrC3/8STpzYgcWLJ6J79zaaxdzJaacmQPL2Pilz+hR5Rndw/1IXZ0eVV2Zyt7zTGtx6xSCl8fC6elatkh8KCR0/ZrD0v3O6cPGZzIN1hHg6OuyVPnBc9QMS+JEjB8u75kh/q6VEjlZ2LiiNGzNE64zeVczMTkv7sqVzwO2EON5oDKfMxxznafmkNwWtk6VLFtMERXczOM7H61Zs3Pec7U6ZGTqkl8yFdrhxXdpww1Id4yhvlCPKFhc8f5D/c0GZrr7p0u851nPLO4PontXwG+o9vIf6C63Ar73+qnrscEGG258xCSS3MGJmb5JSkky6Pz88X5ik1IQJE3mH342UUoFhAoKbvpexfdsmTJTBf+q4zti5YSgunJoDz4uLcc1tCa6cX4TTjjOEgI7FiUPjcenMTNy4shg3PZfh/MnZ2LRqEKaObY0enepiYP/Oul1MjEyIdCO1Vlwt7+RxKhckBFQgqchxOwi6o44Y3l+zD3Kvugb1a+qAz4QVtEiSwNI1j9bISzLgMsaRmT254kkFlnEadMlhNkN3UV6pjDJ9PxNMcDWVmR058TMBDa1nJBfcIod7fa4TZblWre/U5YtZWBlXWkKIMbN4MhkBJz5mBOZqauGvv8L7772jyghdiZgUoW3r5vLunbrNDd25SGoN9+FluipKZZbbtXBl+9133sY///n/NFlLsWKF1XL0n2cMawkzTTL7Li3K6r4rEw7dd5lAgdcxGU/Nmt+pZZTuhbTQUSHnyj9XaZcsnqHZd/PafZfKmf/Ny9i9e5soJaM0Jm/L5vU4c1aU2NW30adzLLp8n4wZXWLguMoPHsfcce2AI8IXTkXm2Ia4P6sm4nYNxY0zdqJMOuP0GResX78BI0aOxKTJk3D40F6EPCIbr6E4G6SUW0hQ2aNMsA44kXNlm67LbBMmzmJ8Lc9RySX5YYwvrVO+Phc1QQXrlgsxtKZSYXC94KjWbVrTSR641ynjmUlujznuUpdKklXKKuVg04ZloiSIEp8RqZu7k9BSufnHP/5P3Ug7d+J2DcvUevKetAvjHM+dOair7B999J5uL0PrRpaQayoquRdvfhUpPX8Kq7YtRc+5vVBveH1U7VkVlbpXRtlulVFSSGnhLqXx1agy+HJJOXwxX8hp76/xUaMv8EHdT/Fh3fx4t+pHeL3Me3it6Fv4sspXqNyoEqrUZOKmcujc8dGklL/ZPvHSfrRm0qOAZIqKHt1rSc6ohHFhp7T0KcZl0y2R+7bSgrnLbq1aqLhAcMXthCazOX/usFqltW9vXqF15n/zoipbdKPlohHdcQsVZKKTgZpwhJmW2R7M0M0+x/ahZ0GVyuU0zpVeFowrL1WiqPZvWie4AMFtZEgQ2b7MwPnJJx+qO2nFCkJwO7bWTJzsU3RhZ7wrM37T9W+7EFyORdyXltl1uYBGN256LwRIf2F/Juh+R8WSckxXTdYHrXNctOBYQEKzccNyHHWw0zHq/ffe1W9jWWkZZKIuJs2iRZjWI441DMOg/Fja4NeQ0iQhKalJMdJHfLB7714s2bgKk5aPxdTutbDmk1exW8jodsF6wVQh3b2rlkGfQU3Qf6IQu3618H3T0qhdv6LGbG7cuAkBgfRiSEdayh19pzGm5LzXAlukNDU1AdevXVVFndZMZkYNDb6qix4MxeCYx7GYGWg53mqMnxBX7vvK8b+nEAS2Na1qzzzzjC5ccNw9Ln358kVHdf+mWyW31yGBZXZXWloZm86FTir3jION4x7H0q8Yt8kEU7SEcpzfIn2bceZsPybco9wV+rqA7qlJInRVxpTUZG5HkqrZX5nxme3LcYpuxx99+L6QqYbqYUPvk0B/N7XUc/9pWmE5L3DhkvMg5xLGGfOddBPn3EdvjA8/NJK4Mbsr5YB9z7pefwkp5djLmEc+k9a6b74uiOHyLmfng7h+/Qzs7Teiv8zvEycOhavMrzFSN9evn9N40rVr50rbt8IPP9TH9u1L5D2+yMwMwqlTuzB0aE/pFy217MwdwAy01mW1gGOIjv/ym+77HCdJJFl3B/dv0gXdBvVq6f6dc+dMUmLJxScmkSpVqrjUWWWdTxl2w8UnhhKw3TimtGzeCC+/9KLoGHXh4nJM2uiM9iPmiGBOCsoGQ28YbsO44CLfFFS33Cwhoxnpd7RfclsezrkM1eACBi2jDod36jZRvJZjFMcr6ik7tq7S36xLY7/eAPUiob5y+pS9zin8Ru597nhouy5aM779S9FTJk0Yrokf7fduUt3GUeSSz3E5c0jlnaTUes5g25uk1IQJE3mF342UWpTLs6ePiFI3HH26t8Di2d1wxnEaPF2Xwct1qfxdiHPHZ2Lf9jHYvHoAtqzuj0O7RUEWourntVKuWYgLp2fhxMEJGNqvLmpUL637i/L5jMWyWL4spIJbK9BaunTxdN2+gVk4mZL/qwJfqNvN4IE9VFngCjldZElUORlYMhM2bVxXV6y5YnnJxVFjcLhaXFcmUa6scpsPKrNUeOlax5gxKgFviDJXupQosKKAMlaHZLOhPJvuPUzhf1UUWCqYtLCVF+X01Vdf0lV1Pp8xKMwMzNg2kpMNaxcKEayo1leWi8oDVzO5mTcJKBMk0ErCshNUMkmOudUFM5EyCcK7omS2bNkEy5fPl4m/v66eU1GhEk2LDC2lzL5Lhc2wlH6kpJUZJzesW6zkk3tlcjKj1YVWIyrc8+dNMkhpRt6QUiUacr2H2ymsW7sMw4cNRZs2bdG4cSOMHTcaGzZsw6wp+9C14QG0KeKAwaUdsKTZXmzrsQ57u0zBmSYdcat+DSQPaI6obfPhfekMLnt4wP3KVTgePYo5c+Zi2PCRWLlyKXyuX9CYm9wkzQLKMydZZjmmFeszqTMmR5knCgoVS8YRsj6YTXXD2kVo1aqxLhzQRZT1SXfblKQgJfskfLR48F4qSyQyVC65CDJ4cE8l+HStpKs3LWh0/SWB+FrkZ8+uTUIMY4XonsRwuY8LHLQI8voa1auoezHd97iIwO1kKHe0ltcQZZruhFSi+H9axthHqFBYE7xfQkrpehcZel36hBOWb16EHjO6o27/uqjSqTK+7VgRpQXF25TH153KoNDYcig4pzwKDiuJLxoXxMcVPsMHpT7BhyU+wrtff4BXP3kHr7z/Or4s+gWq1KiISlW+FSW/nCiWtkkp5YwyQmsN49tIvkkImHWUfZuLPFwUousiE35wy57ChQuJDNXV+D96CBDs27QmsZ9x70a62dFiwL7NPs/M0lTc2W60oFJB5GIN24UWK8awvvrKS7qwxJhEWkcvOjuohYP9ll4RtJi8/dbr6CXEhTLDRSPufbho/lSjn0u/oky9/c6bGjLAvk3FMeCmq1riqFSSFNCyxcyvtI5Q5tJTw3H7lrcmRmK8KhVSkhJajWlVp1zT8sax74LzYS0P496oYHNBqV/fHrh08Rz27tki5LiUuo9TRj4X0lynTjV07PiDZjPmYhkzcAf4XdLFPWsywjb4uaTUgOEynhR3C2EhgXB0OoGRMoZ3bl0dk4q/j40vP41lQpwnvPgcZrz4Aua/9BLGfv0xev5QAT/0qYn6bSviuxpFUL5CEdStWwfTp8+Ep+c13LuXhcz0WH1+VIR3rncasEVKExNj4HPDU63Rr7zyosYYs65Z5xWEbNLFkZbJEiWL6FjK7NqUG5IBklOGbtD9mZYwLjDQA+KYHAsL8dYYZlpGmd1V55JsmSPJ4OLfTRmj6YnB/qQESvrniWO71GLJ+eSA/S5ccTurfZ5yV6Z0CfVioQcEvWpozaSc022cFlxmVrbbLnIlMkaixEUvZkzfuG6JLlbw+7nPcXpapO5TW01kmtZUklcmwmLGZc0b0KiuJlSj1Z1bmb36yssaBx9y21Puj9O6tB7vKQu/xFJKGT978gCaNK4vpLAiFi+eCj8/ZwQFXcTeveuEeLbFhAlD4eZ2HKGhV4Sw7pfja7B69Wx07kyX35qa+CgpiRbmUFy4cAD9+nVAndqVZWxdrHXKxRnLO62h2XcTAjQXAPv7Sy+/qOMGt9u6LvMV50+G7JCgnzt7UL0gqBNwTCZR5LxM7xh6SXl7nJF2263jMq2fHIP+9a9/iYwVwsIF06UPOqhVnO66lSqVA7M10922Vs3vNMyHffCiCy3xCbh06YSOJ9xLnKAVlZ5OlhAi9nXmEmBcOGWU286pvMpfyoKX53mkpkTh3OmD2o/ZfpwLmB+B8scxkO7gOn69+rIu5lFnYFtz4YFeAdzWrpbIMWWI4QTMscC+b9GrTFJqwoSJvMLvRkq5yk6r0eGDdujcqT16dK2PTWv6wuP8fFxzXyGEdKmQzkVwPjELu7cIcVjYS9AT+3eOhrvLQtz0WAEftyUI9F6BoOsrMHFUIxQt/CEGCrGMlMGS+7pZu2NykmSmVW6BQUsD42c46JKgvfzSC2jfrhVOHLfX/QjpJvl/f/+7KmF1ZfCmVUMthTJpFy9WRFdD98nkw6Q1kyYO17hNZiicL6SSq9NcqaSFipMF9wDke+gmR/LL49yXku5bnDROn9yrK9x0lSMBZJIWWi9q1ayiCjLd6XyuOaulc8O6hZg6ZaROhHQZJenkfZwMaY1jLNxYmSD5Xq7OE5wYN8qEzIkjKfE2hg3tK99QCPPmzpTJO0ZjIhk7xNg5KkXMFkpXLN2wW5QEKkucKDnRzZ4xDrOmj8HoUf1V+SdZ5qTN+qJVjspYenqUWm44eVm3N0HFg3gyUuqjZI4KNbfBadmiGb7/vg569uyJfv37ob9g6JAh6Nt9GJrXGIj6xQaifclR6FNuOAaU64UR5Vpi+jdVcahqXdyeMB4Rxx3h7eUFD+/r8PL2hpf83rdvP0aNZgbhcWql4NYznGRzl5ugPFMRp4sZM+xS0WA2Vbrbzpk9UeOImLGUYBwaV8LpFt23V2e594aQ2WidoKnEhQmBoxWPSgjjmrndz3dVKqi1/chhIdpSz01EUWXiCS5i0IrGrI2zZo7FDW8XZKTFigyv1JhJKo7bt6xUyz435KeLMOWN8tpDZI1xanQb56o85ZfyZcQIzhEl0NhEP69I6cULJ7BMSGm3yd1Qo2tNlG7GfUhL4etmJVCgYTF81rIoPu9fAl8MKo7PmxTCB+U+wVvfvI/Xv3wHr33+Fl786HX8542X8Z9XXsCnhT5B5ZrfKiktV7b8I0kpwTajnDAue/nS2erOxrp97bVXleD1lT5At3qSQCaqoQWEWS7r1K6uFicuulD54mIA5ZxJimhJ4NY8JARsK1pZ3V1P6KIDrWEkBgP7d9f7aEGkSz2t07R604IyS/oNCSCV04UyLjA5CV18n3nmaVHya2tGbQfpr7So0JK9ecMSzaL66acfqcWbrsR0o129fK5aKGgppXs9yS0zBtOSbiTRWiPyIKQ02FMXyEhKuZiF+3G66MD2Ndy9YzWBDq0kh+w3w02+hbHMtIT+8ENTHDywR9rvtBDjWTpmcBHqw48+UJLMMYvWYG6BFHLrqirwuRdvfhkpNayYhkUwBMG3A2Bnv0/qtgP6Fnwfi57/f1j40rPo/sHbaFAgP7oW+BILX3sdK19+BkNKfIS6DUqgYp0SqFDxG5QvV1QIYHUZ/wfh2LETSoCyMmK17xljivV7DVjHlBYv/o2OddxabNrUier1QK8W7v3I+E0SgsJfF9TETwyhoPLO2D6GdTBB3b4969WazvmDixdcdKC7Jhcidu1cJ/3ntMoln1tHCAStkrR0kvzn//gj9a44LrLChQTKd2oCrZ1J4J6SHAc6dWyNwEAhqqnM5rxYCeRzzz6Dv/3tbw/c90l8mDiJ5JTx/QTnmDEiVxyf2OedRdaiwknCGKecgLAwX2zauFzkqb1+E2WZZe7atY2GtlAWGOLBjL30+mAYAudMLnwxNpLzBa2Lv5aUsh24aOx+2UnG9f5o3rwx5swZJ+P0MSnjZRw5sln6cWcMFZk9cGAj3N0P4/jxTdi6dRHmzh2Hli0boFmzOtixY7kQVldcvnwI06aN0MXfH1o2VctfYoz/Iy2lJFDsK7QMcrHnFSFoXFSmqyu9Utwvn9BM1QzRmTN7Qnbf+UCTADJDMefq3XZrZNz0ErmL1D7NXANclGT90QNmyOBeSmpJ4Kg7cAGR/ZxjEtuN8zmfyzGc9cH24bjFNmR/5DzLhUUuQK5ZtUD3HmdoBj00GPvdWUgns4SzjSi79K456rhP5vJ4XJLncHwiuWwocwUt74w154Iyx8l82XLE7cJoraXXBRe5uMDNuYxb2VDPuBN27UH/N0mpCRMm8hq/o6WUm+AHqKV03LjhQjJaYcqkNkJMB8Dp0DRcvbAY192WwuPCQhw/MAnb1w6G3YahOH1kKrwuLYIvXXvPzsNph6nYt2MEBvT+HvXrVtAkAVS+uJpnTUpZHg6Q4bc9dRWSkwYVRg64H334rpDLMUKOAuF0Yq8qqRygaU0leaUyX7Dg57pZNt1lmbXSbvsaMEMerY/Ll8wScjVflczAm64IkMmaCgZddHdsX6UxaIwV4SollWYqjYxJ9LzqjKBAD7WycSsKEon33n1HszZSWSbp4TYQLCctqSQnXLlnggKmiH/v/bdV8aE7IpVNuvJQmabyYckITPcz57OHdCsexp5xQ/XSpYqIkr1YWvWeJodiNk5OagflW+JiA2VyDkaCEMKbojAzdpX1wFV/uoBVqfwtKguouFCJL16ssLotsY6mTx0LL88LyMy4I+8zJv/cysrPIaVUnNKSg/U7aOGqXFlI3MKF2LKV8UUTMXjwYIwaMQJdO3dFgzoN0bRuU7Rr0g7Nv2+O2mWroH6BYpjZogM8d9kjOlBIy63bCBT4+/vj2jVv7N27D8OGDce4sSPUokUlnpOspbzWyCGlYdgm7cd6p4JJ+SExpDsVY4i5es6V7eLSdiSlVOpI8Gh5VjIlitGhgzuUzHAjdCo6o0b011geytJNnwvSJqfVbY6r3bT60aWKCY3Ontqvbn337yWIErwZ9epVx4ihfbHHbj3qi6JB4kMlljGstNhxX06SHbXk5f9IFQ2eY7wWLXR5RUrZryJue4ucOWLVpqUYOXc4Oo7oiKa9m6Fejwao1fV7VO9QA991ro4qfauhcvfv8G2jiihZrRSKVCyKQhW+wVcVpD7LFsAXxfLjy8KfoMJ3pVGvSS1UlnopVbI02rdr90hSSgWJ7catC5iwh9tdMCERM1fTRXapyE9y8i21KnArDfZt9kWSR27RQRd5Wi7Yr6mYOxzappYkWj2WLZmhlnH2Qbr1+vpcArdv2rVjjVocSQ5puaD7G2ND6SVBN89rXnTXdtd6Zr+lrBhu7szi+g3KlCquJJJugEvlHWwjLhgUKkj3/HfxwYfvaXmY3Iayya0cmPCGyiwTGtH7gYtrrhcdcY/uu4FX9HlMnsTy3s9khmZ/XRziuBAa4q2WPFp1GCdLCz2tvx/Je5jUZOuWtaL8+4sy6aSKMfdMZswrrcF1RHFljKwRqyjEIoP7EBsx+pY2+CWklGMD+3tSwi2kpMbiiqcn5s+cicHfV8W011/CnH88hS5vvIwyRb9E8W9LopaMvYM//RSLhNiPf+sFNCryIYqLzJQoX1S3sGjSpDF69OiJ7dt3IirqDu5mxukc8CSklNnY+Zfu3IyzYz3SE4V1wQUj7vvMhQYmfOP/ad0+6mAkxPK6egZ37vhpmMeggd114WDe7InqDklCy1j7kyf2o03rJrrQSavn9i0r1DWcbuW8jvXNNsG9KB33EmScoPWbRLmcyOr4cUMRHspFrVQZL6/rmPj+e29rjoJPPskvY81HulD596eeUhdc9ncS6JIlmcm5onxPcd2LlWXj3EiPj4AAdyWuP7RoLESwr7qkc1GDYSK8jhlc+Z7Fi6ZjlYwljMlmzgLOj/TI8bnurOVl7oFfS0rZTtxT1M/3MpbL3NSxU0cMGtRLiOd2qVt3XLp0ELNmjZExv4eQzWFYsWISFi0ao3Gmffp01jCSunWrS1+fDkfHbXJuMjp1aiV9ojOWLF6Aq+5npE79Hop9tQa/gePenXBfmZ9lrq0g44+M7dwfmzLPsbltmyaoVLG0ehJwPqdFmeMzY67ZVydNGIpQtR7HangGLdPs//Qm4lhBfeDg/i26MECXXbb3pIkjNPyDpJQxnDxG3eCk0171kPCSPnvx/BHNyszkgh8ICeaCxFX3UwiU9mPMb9HChTBvzgxc874i868bTp06hGrVK+scZbdjLXA3WskkF0vOyBxy7uwxXHZ1htPxvRgxjIkPC+ri59P//rcmzKMFlQt47m5ncN7ltOhoh7TMjG3XuspekDJJqQkTJvIav2uio7hoP4QEX5UBeL9MiLQO1UTDeuWxcHoXeLoshN/VlfD1WA4Pl/lwdpiO844z4XVuIfyvLIO/+2KcODQJk8e3RbOmFdG2dT2ZQKer6xIHSk6MuZVtWkr9RbFaIcSQVj0mLqHr5GeffiTPaIRjR7mB/HYZzAup4soBmhkSuUXHBx+8o5O1kqNK5WXy2KixF7SmMCkAU9QzY+5V95NSWylKTLnXHRMPVK5cTvdAJOlkwhASXcbopCSHS33F4fRJe1WEGLdVtkxxmVBnY+rUyfK7pJC+r7FICCZdg7lJOgnPihVLZMLuh/c/eFsTXtBSRzJDSylTulPZNrKAtkE3eReV2AQhm+kp4Rg+tJ/Gwc2bOw24nyATj5PGrtFtiwldzsiElpoSo3u+coWW1jbu40plipNn//79NQMuM/xxNZYJkJjqfsmSmZo4ZvzYIZpUJiOXpZr4OaSUFo7UJIOUcs/HAl9+jgoVKwkpXYyNGzdjxowZmD17NlatXoFxE0ahSfP6qNuwFtpKOzSVibpY2ZIoWbQoxg0bKQTjmii9qQgLD4fvzZs4d+4cVq9ehX79+qs78PRpkzS5Bd9F2bEucw4M913ci1ZXS8bz0p2P1km64dJizlV0WpC5kk4XMCqbjCXmtzC5Fq33jCEleaDS+L0QGbr0kShUkDZgvB8VwZ3bVuPUiX2aqIJuvbS6HDywBTOFHHI7gdiYYNy8cRGHD22Hs8Y+rlFFmQkw1q1eoKva3FqEFhNa9IoV+UaVKLp80aLHLUf4LlrQfi0p5bclxosCHeCBo4f2YuXKxVi4YhbmLJuGGQsmYvLM0Rg/dSjGifI4ZsJAjBjXB0NG9sSAQT3Qtzctfu3RtWcHdOjRFm26NUSbzlXRuk1N6VPN0bxFE5QtV0bk9RuR+5Y4cminlDdAF7Ssy0yZoucFlWTWPbds4TYZtPBx64MOHX4AE9OQ6H/4wfvat7lgQPdVyjSVeG7RwUUWWgZoKWU81RBRilkOutYxIy6tmuzbHlfOqjWcCiHJ5KuvvIKvCxWQ8auehgA4Ht6JjPQYpKVGatwqn/nC88+hVo3vRMGfjzFjRuk4QqJAl2LuAcnxpXOndkJQF6NXjy5qsaL8LFsyC8HckkFIhIfbCUyT97I8zKzMumNcomEp9Va54vjBRRMgEfeyYrVumDxt9sxxGndGqw4J+Voh0Iy9JcFo07o5HI4cgIuzk9TfZFWOSYa5EFdZ6ojPpcWdRJjEPEXGUYtiat0Gv4SURt+5huSkUCQmx+HsqTOY3acvZlauiJnSP7q8+gKKvfMKPi78Kb6uWBKlq5RDNRmbu7z1GkY8/x90eP1FlPriAxQpWxwNGjZEr169pW7HYt++A4i8EyH9LVrIBt/zU6R0vFqHqPSfPX0Q9vs2qys1xzJ+Oxd7rrg7w9vrgo6pdG/kNSQQ7PtcEEiXd3FBbsni2Tq+c5GP1lVampnR3c3VSd2+uTjBPk0rO63qdPOlLDKG0VHkjpZHeqgwDpgeE1zkYriIyzkHlfn79yK1bblIwsRmtHQtXbpQE+3Qu4Zxycz0ypjgt2TO6dihNWYK0W/duoUQ5Nd1nmFfoRsr27N+3Zoi5/3g4nJKxv4DQmAryDz1sWZ3ZkZoEmi6ktPSx0RKXHx5++03ZF5oJ/3hgpJSluvXklI+g4soIbe8sHfPTvTrPwg9enST+1appTQoyAVHjmzCnDljZO6TcaNnC5nbmqNjxxZo2rQhChf+Rj0RmjWrhxEj+mPixJHSFnNkDNsn44IrIsMMnYPjleWd1sjJvpsi7eiiCxKMrTX2c40VveIc1q9bISR4jLbfSy8+r3VHjxZ6EnGrnh3buXcrk+GFa6IiejIw/IfzKseKdm2aq6suXaJbt2wC7gHKMA/2Qc7tbD96ZtCdu5Xcx3Ac5i/gIhPjRrk3LOWUi1tMOuYkcwQTKdWsURm7d21HUlI8EhPjEBrioxl/qa+oK7+Ux3DVjtHv4y4D3CJry6YVutc1daA6tatpPDqtutQh5kqfoMzjfoZcnyYQ3S49TOvPejGK/cckpSZMmMgr/G6klCvtMZEkiozjuymTvJ0oFs00tmf0oCbwdJ6PAK+V8BECesNtKa5dXArv80vhc2EpgtxWwM9tCeztRqJ7l+9RpkxR9OnTA1c9zuGeTNqcFK0nSf7mMdyNFKXpjFq1uBfb5k3L1IpZUEga40i5zQqzZLZv11xdlF566SXNKstJgPEftFIWKlhAk13QUjJoQA8tr8atCXGlBZNxHnS7YnzmiGH95F3fK4F5+eUXRPl9Ry2K3ISfsWncjoOrsBnp4boSy+Qm3bu1QWzsbZmIb2P4sP5yfXldwSb5pTJJV9asrDQ4Oh6USbOCEJAGMgl5yXdH6b51nCCZeKFt29aoUaOqxolwEgwPvSaTZQKGDRsgilF+TJ8+Hvfvxui9k0TpoksaV2GXL5unyoPzueOoJJMaXYHojkzXIm4XcOmisyhgohQd3YPpU0brCiq32dmwYQla/dBEtxegGzLdiTlZsd4tSgt/Ez+PlN4CrctUOooULYEePXsLMR4gClIfUTwmijI2T5SUQSI7DVC/QX0hNK3RuEljVPj2W9SoXRtzFyyAf2AQYmJj4ezM7VhWKbGuVKkSPv30M1EGqwrpna2JlAxZ/HFMqUWWlJTej1OXyWKiHNCNm0R0xdJZovRPUDAumCSAiitjGkkCODFT2VRSetERXUXRpRXj+1pVVfGgFYTEiAsWJJJzZk/F4YO7VCmm+yAtKtuFCDPGsY8ohofst0o5faTN43E3K0qtgkyuQnmkAsMN/anoMlaSlnZmnKXSw1hmkidat3kdlYxfS0pZDsZiBfm5Y9+ubZg3a4bUwyRRHgVSH3OmjcP8aROxePoULBEsnDoec6eMw8wpYzF7wgjMGj8CU8eNwuhRg0URbYtOXWqhTata8g0NUfm7avj8ywL45JPPRElsZpOUsm3YLrT6kvDTZe37WtXUMkHXOS4oMcMlF1hmyHewThhXy/5M0sd+zt9MNsQ6YywhST4toOzTtCrTIkJrFd3smb3yvLOj1HVPjeOiK/QLzz8viuXHapFi+23bvFLHNsoKXRJJPLldB8eX2JgI3Lx5Hb17ddaFBLrxkvhUr1ZBFM/9SElJxJ7dm1G2bDHNjkkF8P79aHlvtLp304KX/+MP9S/7Or8xPi4YoaF+urWEkYF5lVxPZTJD6ipQF8Y4dswVwn7owBYlI9zChFZ2Wkpb0FVy9mwMGdxPSFcrtfYyUVud76uCsYOMNZ0q7da0aX3MkrGIFle2g7XCyX79c0mp8f/rSEiUfh8bgfMnnLBt7DjY9eiJWVKm2qW/wQf538WHn3+EAoW/wleCTwp9jlKfvIt2Lz+HHs/8G3XffAXfFi+Ctu07YO68Bdi7dz+uXr2K2GjK9m11LY22mgusQUWdMaUk7HSF58JSZKSMOSlRuuBIIsbY/uNCCOhVcv26p9RVQ3WV516Wa9cs1FjLcdKu9LxJT4tDQnyEzCtLUaF8SQ0BYeIzhyN2cHc7pYSDrpaUURI9Li4w0yyTIdEDx+HQDnlPnLY1LfXcY5dEwX7fFpkjomReDdZMqtyTmosmtHxye6GY6HAEBt7E4EG9NEkQ9yYeNriPbg3E/ZSTkhKwZ882IcrF9b2WxT5aSQcN6CZE3BEZGUk46rBb5zjOA02b1lPCQ9JMYsU5kbJtuPi+ogsp/lykkTnVMr5b6pWy8EtIKcMAqBdccDkh8/BM9OvXF8uXz8GNG6dFjjwRHOyC48e3YsmSiRg3rreQzx4YMqSnhsJwDqZbPuN9y5YtjaFDh+D0SUckxkudaew8ZZWWeduy8CD77v0EXHZ10vhM9s/zzg4iv9EyzsYiU3SbuNg76hmVPz8Xtcrq4sLY0QNx8vg+JCVG4e7dNKSm3NKwG3pfMO6Y/ea7Kt+qRfWpp57CU3/7m7qCs19SF6DXE+N0OcaQ5DLpIev90IFt2mdrVK+sWda5NRz7PZ/TSdpi6OBeOu5zwZhttXjRDJl/pqo3FHURklLKMbIidB69m2lk36XesWThdLRs0UjmnlE4dNBOiSgX5ph0i+7c7dq2VFLtfPawfHuEymWqyJ/WlVUdmqTUhAkTeYnfjZQSJB5J8f7qqnTxwlmMHDVaraVTx7eG87FpuHBqBpydZuLyuQXwEDLq4bIYl0/Nw4WjM3H2yFTsWDcYIwc2Q4e2jTBv3jT4CbHgKjOVI+uBk785eDKRAuOzeogix0QnWzct13ggrjYzgQgVME4iyxbPUDJBksXVag7OjDVjLBcnfVpKOUEw0yndnbiazRg2Wl3o9nI3I0Ldgeg2R1dMbqHCTJa8hgoO41RosWV8KzO63peJnZlWGbtat241nD9/HOelPjp2aCUTSyndWJ0KLRUnbsXi6+uFlauW6qop419Y17TEMfZNt/3o2Bbbt2/F2LEjNCvs97Wrw+f6eY2569+vu5Z/5Yq5+m5m+Av0uySTUHNVmGYJoQgKuomdOzaqSzFXyxmPw1VhWkftdqxDkP8VMOvkyWN7NPsnLS6Mv2EZSUg7Cnmiy1KSKMScmKigsA1+Dillu1liSpmtslmzRhoz1rVLZ5nMO4qcNBZlpAMGDhwo7dkDPbr3ECVlhCgjw4RQ9EDfvn0xaMgQLFm2DMeOH8d+e3uMGjlKSOh3ogS+j+eff0H+foBGjRrpCjitUbQg2CKllFODrPnphE43PyaGoNsmFUNusk5SQ9DqzPolkaGrKGN3SEQThEjx+bQycdsDElBuds/6YrweFUFasKngXHY9q/vm0uJJEkl37+joQLWqckGFltXgALqVpaulgsSWskPXOsou3c6Y+IQWcibKoYWObqxUkphBkqSU++HmGSmVdroV6CEKzU5MnjRRlMmeGo/UsUML9KCVrU9PjBrYH2MGD8TY4YMweuRgIUT9MXpIX4wZ1BcjBvRDn56dRXmrg3LlimnM1JdffYX3P/kU77z/gfSdr9CxfTvpI3v0Xdbuu5QrfgMtP9ySgySBWyzQEkzFrl6dGpgwfqha8ZlUhvFa/E1wCyZaBrhhPfcV5kIVrRRMHqTWJlEAaeHg4gPJJzOnZkqd8Z1+Ny5onDetaHThY8zXqZP71MWNyjrJJOv3nowFtFAW+upLVeovXXIWxdpIkkKllosDtKyVKllYyrYIXt5XMXfONLVS8nhcNJO2cNuRGHXHZlwZy8OEOSTRtGjFRAWo6y2teEzOwrjma54uuOblohZ3WnYYz07ZYOZxJkw67rhbFWrK3NcyrpQsWVwXnriHKbP8btywVBfcuKhx/Zq7EIOrGC4ktknTutglMsV+SXm2yMGvIaWxMYGIuhMCPzd3XD1wEF6HHWC3cR269+2OClUroVgxZiEvgPyf5Md7n3yATz57H1U/ehtdX3sJPV98Aa0LfY3hgwbjqJBaekMkJkQhzub7DJD48C/bh0RoxtTRqthzK4/ExEjcCvbVsYztZSffyu1TAmXM27F9rbp10sLuKPV3585NzJ8zWV16WbfBgVfk2T5ChvZj1KgBGvbAzMVcXHJ0sNO6ZAgErc6HD25TArBYyAFjvrkFlLGgKaRU5gPubcuwDC5cnZBx9l5mJDKEXHFLk1sBbjpusP1JGC9cOAMnp6NoISSD49GsGePVIlesWCEhdfNw7dpV9b75qsAnutDAZHwc52j5v+Z5RuZrISxZUeo2ShLMLcuWLZ2FPfJ/jj1MuEWLGz02aFXjWNW2TVNcl7mUMbCW8d1Sv7+ElBIcZ9XlPFQUEvud0gYjhHwOxZEjWxAddRVpaX6IivIQWTwpc+RetZyuX79A9yjltmSc655++t94+eWXUb16TSxcuED3QI8MN8Y1Pt/6fdawvDsm6ia2bV2pYwEXCjhW02p99cpp+d6L8PY8r67bXGh+7/13dXxnckRm277idloT0HFuJ0ljngJm1eWYcERIKq/lnEFwgeKQyMASIbgcjzm+cLHIV2SN8wVdwrmwRRd7buvFXQKWLpqunhmdO7bWsZ1zyAsvvKBxoNwyjEnt6AbOsZ4EnTLFTNn370ap+y4zM7tePK6Jr7iwwphhL8/LCPD3VILMBQmWMz7uNjZsWKYL0sxezizCV6+cUplkO7NtLeOvSUpNmDCRl/idSallddRHsz/OmTMdffq0wPSJolQu74M5M9pjyfxuOLR7HC6fXYDLzguwb+cozJraAVPGtsXsSR0wYVhLDBnQDiu4onrtPFJFWeIepLbeRQJMZdtJJnm6P50/d0hJHVcnly+ZqeSzhEwQe0XJ5yBsTEhu6hLMdO3c+4uxleXKllLrIa2sVDLoMsWJQJNayMTN+EEqEIYymQpu6M8Jg8SPEzaPkRBSceWqNa/n5EHl5KWXX0DVapVRrVoVTb1PckEFm26hzLhYUJSGunVro4iU87XXXlbFOyLUSxSZO0JuBuAtmfBKliiGH35oie+qVlZXq/ZtW6jlg8kuqGhREfIRwpycEKAJjWhlYtIFlpGxRFs2r0b3rh3AJE20eNIaWlsINSdTXtOoQS1NpvODKEEN5DfjUejKSwshSTiVqxNHd+mExe+1TGD8TTwpKeXkx2dc8zyn7nJUEI8c3C7kbCUGDeirhHTjps04ceKEKCnn4eHhIUr/RRw7dgz79++XCX+Jxoy2a9cetWrVFEWCW+58LcpacanfGhp/tmb1MrhfPqVtYSguOQSN4CTMMtD1m/VM5ZMKBFfkmQWZGTsXL5im7UOw/pi8iAlMmFyI1vEePdorgeFqNZCszxswoIcqrJQfWjgZC03C5MWtYjzOqXs2szYzvph751Jm+H5u98NYRypKTKhBaw9j2Uig6A5I4tJQ2oSxgCRhJFV8BstL+aJ1kNst0FKfFzGlFmWOW+ocObwf02bORB9pl85dO6FL1/Ya7zVkUG8MHdQHgwf2xuDBfTBocD9RdnoJemBA727o36Mrunduh2YkapUYs10En37+BT7Inx9fFvgKlSpXEWV4kLqWG6Q0t2s+FSM/XVhgzCWVbsoJCTzjfRnbRXc2xvCePLFbFaaLFxy1Dj3cTmK2KPFUwJ577lmVa2YspQXyywJSV9KnadWmOyYT2ZD8Gq5wiYI4Vdq5WETXaWZLZTtRVig3afKX4wDdaT//NL/GjVWvXhUVK36rCjStTrS6cxyhe3+xooXxfZ1aQhILqocDE5bdCZO+rS6bMWrBpKWEyYmofL7x5hu6UBYfK++LDNL256IUtypqUK+GKJ411NrDxRHGjXNPU8ZB0qW/mpA9WoOXiDwvXTJd3ZNJPFgnrEPGJP/rX/9U+QkK5L62yeoSvXbNfJx3PvygL1vagL9/LimNkv9H3bmG2Eg/JEeGIiU8AskREUhJSIR/cBD2HLTH5KlT0LlTZ9SqWUtkvDQKFiqAgkW/QuXyJdGlWBEM/+BDDC9aHMsnThKyInWemSjtIPNPFN0MbWfdtYDu6xZS+sUX+TF+3BDERgcgIsxHLZH0XvG9fkHHtSaNa+vYR4sW9/x1cT4idZKui5yUAeczhzSB1OBB3XUxiWEPtMDSc+KYjO2ca0hK2S85pjPekWMx5Y6Z1LmgRULA8AAm4+HiF915WQ6SP/ZTxvIyRpjl4cINs8dzDKlRsxqqVq0iY/1beP7559Sbh7L27HPPaLx/3brfaxzzv5/+p8oVQzs4rtMiSwLMbcAy0m7LGLtJFygYB2t4xrTQcBHmUuA8w/262YcYZkI3YGak1ZjSPCKlBPsy5yV+/45ta9C7V1dMnDgE3t4nZPxhcqYwpKcHIDj4Ig4d3oQpU0aiX7/umDqF4+8YqYuqePbZZ3XR8buq1TB12lTp80c0EZhFRnO/k7Asshw+tFUXoOluz7+cN7l9HD2eqlevqGMrrc2LhNitWD4bI4b3U2s68wnQjbZVy4bqUm+M9VK/2nfj9fnM7UCvF24TxQUhEsE6dWrgHWk3ugpfunBUrr0voJstLeYxugBaXuRlkFy/WOYVWtmZtf92MLdDW6AJ29heXHCkBZflolcVs+HTa4JW0Ht3E9Xiy4UsElUurHMBhuFLdM0NDPRQN2KOY3QRpqdXbGyg9PUFqrPQrZjuvWb2XRMmTPzW+N1JKQc1xut5e17Atm3rMEGU4MF9m6N7R6bMryLk6HusWdpL40qvuy3G0oXdUbsW05qXRZ/uTTG0fytMnzJY9wYMDvJQBZlWSlvvY3n4Tk4+3JCaKfO50TkVssNy/7q1C9RiSuWLri5UQAkSNw7gzD5IFz0mpmFmTSYf6tq5rRI2btsxZFAvTaJEpTRJysEsdakpoeraxXsYBxIR6q3P5EBu2fCfxJR7lvLdtDjSokorJZ9JK9rZUwdwYO9GtG/TXF0TOfnVENBFlBMFV/4zUkJUwaXiQ0WHFl/uR8jJhi6Cp532655otLT6+17SGDVO0FR2OHFwI3VOdvt2r1MrMN2FDoqSRWLNvR+nTR6lSj7fTcsbJylmJqaVmfuXcqLmXnt0lSLhtiYNFlgU2SclpQS/jbHHSXEBomyKkp96S/dcW7NqKRYsWIRr129QPPVfQkIC3N3dsXfvXsxfsEDddOvVqy+KWQkUFqJTu3YtDBs6UJSJBdhltwVnTx9FUMBVTYBBNz5rxSrn/cbES6WCiWaYYZlJirhBOUlCgii13F+PCTQItr1udn7eEcOH9lEXT2ZBZkIbKipMAsVv4tY6XDlnWxlWZX9VEKnEcELn1jDcjoNEgySA9UplgHJDhY9l4z2c+J3PHlRFhEoEY5no8kXrDduoXt2aSrQaiVJFCyp/UyHiVkQsK13WHiZ4v4SU+uG2kNKjRw9h8dLlmDhtBkaMGq37yfbu3RVdurRD23Yt0EIUXBLPJo0bomHDBmjQsC4aNaiLxvXromG9OqqgMWFN5coVUa5ceVSo8K3IWF0ht90wf/5cuF50UlmlDOWWL7aT0bcZ9xuF617Oul8n6+KYyCVjyMeMGQSvq6fUY4J9kKScBPPsKXt1pWTM7czp49QNeL2MBXRZpELWQNpoHO/1OKVyQGLMxGGJ8UFqcWRWTVpXo+X9GfI8ygvLw76dwvY5c0ATXtUTWdC+K32bSuzE8cPV04AeG9z+h54INWtU0j7F/5NM8znp8i4+lzLEMaKe9u/qaN68gb6X8eIkU5ukD9PFnu5+HEMIWkk5pnBB6tzpA9gtYwSttFWrfqsLbZQljm/croheJqxfKs58PmWT48ttIQg8xz7IvsJ6ZrkIS/1bFP6fS0ojSUrv+CIl+hayEqKEKMoccjcVySmMjQvURaYdO3dh+vRZ6Nu3n4YltO3QFt169UC/Nm0xsPJ3mFSnPuxlLAi5cU3aJETLwndZLKKPAtuS30/iN3Bgd2zfthKRMv6wn7KNmVwqROYUygRdKhm20bhhHY0n9vY6K20SpnMJr2cbcWGRij8t78wB4HfjvIxKUSqPt4Pd1TuB3jdsZ/ZFep9wfGAfHT9+qC6QcBGDi6rsV1xE5fgcG2kslvEd7JdLFk1TGWD7EIzzJLi1B7eb0WfKcfZ1ZvqlDPMYSRbb1RiPDusiCsuuHhyJgboVEi2hLD/L9ADyLKO8Mt7LOc4DHLPCbnvquMS6zC0Lv5SU8jkJ0m/uZYZpJt7+/XqrBZj7j8bFeSsxDQx0gb39BkyYOBwdOrTRRHWXL54QYkSL8FxdfMyX72+ajbhyle+wePFCtXKyTR9FkjgWsr/u3bNeM52zXpk1m2PBXCGGHD+ZX4JzKhciI0KZ0MiI7eUCQ02pYyZbInlnQiMdI5JvyzMDpD6MRTNmd6dHE7+ReRL4DvZR1iefycUH7kvK9qCrLNtm/95NGD9msG4zxvjSsfKbiRHpsREh8j1/7hT1nKE+QhLLeT3stpd6VzFe1MX5mG4JQzfcLlJOJk8cIOM/9Y37Mk/dy4rW/bOZPXiYzFccq+jNQyLNhJFrVhuLnBxTaMk1FtKZRNLMvmvChIm8x+9KSglexwEuUgZYJpLYuWMDJo4ejF5d2wnha4fOnRtj2OBGWLWkGzat6o3hgxqJsl0JrVu3VLc8bpNx+OAWXeGPl8HReK/td3EQ5XlO9LRi8DddmOieFRJ4RciXq7racLLlgEqFkhmCqbzwXiqlJJ28JjzEC7eC3DW+ioolJ3SumvM4v4dKhX6bIFTIDO8JyHbr43GCSpNeI9dzBZLWS65g09JDokHrGl1mmDE4RIiY1xW+y1HPUamgO06gn6t8m/GM21IeZutjeXgNXYeYeImp+0nkuKXETZ/zqjTwmyzlYFlJPOmSyHq8KcoUswcyVtSidNyUc9wSg+/lii/3uXSRd/Avs/oxhpYKkzEZG+SJdWZd/3wvYZDSJRgliuvaNcufiJSyPTipM0aPyv+xo/aarGjv3n1CmK7Cw8MLdna71AW8ZcsfUPv7OqJINBSFob2Q076YOHE8Nm9eK3VwFuGhXrgTzucLARNSxomT9WddVmtY2ohtd83rnKbiZ7uzralE0g2QCiPBfUjv0i1QJmvWI+WC9XZblFvGTlNxZ72wvj2lbVh3zGqaLgoM70uVdqEC6+F+QmWBe+SxHVgGo92CVX75f0vZSJYpJ1Qu+JuLDpQdLq4QfM4VtxP6LkNO5ZkiUxY5tf7W3KR08oSBmCFK+eNIKYlKmNSFs7MTtm7bjiVCTCdPmSYK5QD88IO0Re3aqFipIsqWK4uSpUqqpZoLBcWKFUPJkqVQpkwZlCtbDuXLlxfFT0hbTVGoGzZGh/bMwDkY06bPxJYtm6XOXVTBoyJkXQbC0rcpJ6lJlCPDxVb7dvAVBEods47uhHqr7PM6KqGsSy4UccsH9m1eT4s024f966L0ITeps5s3XLSPGnXGfi1/pd/R1fXGNWfth5YyWMqk18n14SFXtc75HO03Ar6PfYrvYvIgZtOkIsd+y7/sqzzO5/AZ/GbKG7eHYhuyrHQZDJZy8j1EkFzPfms851B2Pz2s7c+kNIZsXFAFlu8JuHlRlXHKL+Od2df5Ho5DfD7doY3vohfBTVWwqSxTDvmthOVbeSyHlM7BqBG9n8B9V9pNjjHuM07KnxDNvhgo43iQgBZxUX5jIoSEBOL8+Qs4ePCg9HE7ITh22LRlG+bPX4jJ0t9XTZmKS3v3IlpIaUKEZQ746bmH9cqxk2Mex27WN7+JMkYZ4TjG8YeulM7SZhz7qMzTQhiRLQvsKxZiFxzgrpmSWe/0ruG4wsVN1ivLxP1dOR5Tpuh9wvGTz3RzPaayYJEvlo3XG2QxJ/kaz3EMoiyxL7N92M/5DH2O/KZcuV5w0N88z7lAx2j5y/9TFngN3bj5PILvohs+ZfGGzFOUL1p2dXzPHkOM38acwjpg/2DdWMprDcoCj5OUrlo6XWSh788ipfxeLj5y3lq+bAG6dOmEUaMHYt++tTjisBErVs7E2LFDZWzojwkTxsg4tUfrKjUxBOfOHtcwjkKFvsHTTz+DgvJ30uRJUu/n9Br2+dzvJPhObSMZJ7gA7S7gb/YZhtswXIVJsDg337hmPCsrK0LlgHXKhWe2Kduf9xl1asiXZVwg8adXFGWLY5EhA8ZYwHGH7c8+xHt4Pd13OW9zHmF935axxld+c5zXsYsyJ2SQ7sK8j4ttWenh2qcp0wwfMsZ5P30Ot6ujazl1BJaNcw1llO/lM6ij0EKtZZXxkWMkw0Qs8srnGW1u1JWl3qxJ6cRxAzFz2miTlJowYeIXIY9IqZeQUj8rUhougxZfYJl4HgEqNTpgcyK7KQqKr0y4F3D6hD0cD+2E/b6tmDZtFFq0qIEqlQugSsUv0L5NbXVjOXp0L86eEcVLJglO9rRScQDkZGcoSz9GznGLEmuskJKg8n4qqJa9KnneGiwflQuu4Fqu4fVU5mhxIUiYjHtZBoEoEEYCBa6S0tJlJAqgYsFn8tst13J1nNcYE0uogs/ku3g/FUJade5mGOcs4ATHb6Kr2oNrrM4TnBz4DLXcJgXpBJbzbUZZOMnyXZzsCK2TeBJLutfd0P+TNFk/1wJaBjPTLMkk2O45dWwkGTHAOiRueJ3Flg0LMWxwN6xetURIaVg2KaUSSJe7HLnRZ+gzORkapIkTalCAB+x2bsSAAf3RuXNX9OjRS5SXLmjTpo1m1O3duxcWzJ+hySIuuBwVgnFOJvCr2W0crAoCy5uTITinnD9Cdj3xOlVGsr+bvy2Ts6FEGOD/Wd8Wa1yOTF3TduLzfvwc4xspG/xGKrrWMmWRGct1LJdxjPJlyCafw/dSzniv5fn8bcD4zWfyOqPt5bus2ogxjKyXUFFajzlsxYSxfTULsLu7mxUptaobAeWDf/393HHm9FFs27YVS5cuw9Sp0zF48BBpH2mX1sxa+gOaNW2Gxo2bPECL5i3QqlVrbbP27Tuga9dumsRq2LBhmD59uj5nw8ZNQkjshaBf0vaiHFiX2Wgfy/8NueN1rAeC38N+wnag7PC8NXie/ZhZM40MzL5al0Z/M+rOuJcKplFn7Nd8LxUy1iev57Me9G0pi+Vatg+v4XOs28QiF1zIse63lj7OZ1qeQ7nhtbxHy6TXGpa6aDlPGOOR8WzLewiOWZQnloPltYxZrBOL/Btya5Sb4wifbVxjxI2yDMZ1hvxZ6s5yD59N2fG84oQ1K2Zi2JDu2LZ1vRUpJRngM3LuyQGPe+s7FPKtHAdi5XsT40iCgxF5JxB37oQiKjIaIbdDcNXDE6fOnsPxU064fOE0Qq9fQeJtUYIjhPyK4ky3YNvvyoHxPsOizfZhOxjfdc1IkCTX8HtZT0a7GHXCulRZoAxk1wnvY59iP+S1vCZnnOVC5MPPsbSN5f9MYMQ5wFImo4xGXefUt/E+trPlPutnWf5v6eeW38Y5yzGDJGvZsscPCyhfrAeO55Zn5oblOSkid8b+pFKmB+U1QFlg/Vx1O4Hli6eILHCbnk1WpJR95eFx3gL9dqkryhL/f/XKGaxbuwIDB/ZFp04/oG27xujcpZ2Q1JFYK8e5pRzJdFpyoFryQ4K94eBgj5GjRqF+g0Zo3botlixZBE8PZ+3nCbEk+A+/k7B8B6+xjNuW/TiNscA4RlJpJMTz0f3Q6SXCOrPUD39TnnLqNfubiOy25L2PlCmre/ibz2KfZxnYdy2/o8Jz9Be2J8ut75Hns+44X/PaeG1ng+xmcOzQRRJjLOD1hou7UR5DLoy5huCYYPl2jgfsHw/qKrve+Fy+m+T10P4NGDeqL6ZNHq6LF0aZbde3CRMmTOQGx6Tk2Gu4n3odR84Ho0SvuJ9JSrsHYvFubyREeSAtwVdIaQIyM1Nl8ApTJSky3EsHvScBlZKYKAtB5URgKAgnju3CxAlDwY2xGzSogelTR8Dn2jmky4DOwZADeYwgVj/I9rNtgbFa/Mv74/gMuZ/v5iDLyuF5vSb7LwdilouTkOUao6xUnDjZ5RzP/S4e4zmddHKds4DPtwzwfJ7xTMOyZv2uB+flL89TQef9LGPua/hXr5HjD5VB6sny/RbwGk5mMZE59cA60W+X86wjPovvtZTPGqwby7fnfrYFfD7hffUk1q+ehX6922HZkrkIDw8VxTVdnhMk9e0p1z5KbtgOxnOS4v1w0eUwpkwahW6ipPTu1QVjxwzBogWzsG3LOrWk3rxxScuVksAFC9aLr0zSBqnhd1Ipsv0e22A9sP4s9cp64iozvzc3rNvTVt2wvo0yUYZz2pBguahM6L3Z7W8pgy08aNvsdjbKaMglYbzHeBdhkSlbz2K9JEh5Q4Iu4/CBDRgxtItmF7186SKyMjNFeYqUesjdPl7ybmNQ8fN1hfPZYzh+9CAcDu/F/r3bsWP7BmzdvAabN63GxvUrsWHd8gfYtGGVnmOb7di2Hrt2bsJuu816n4PDPpw66YCzZ47B9eJpBPjRkkXl0frdP4al/lkPhFEnhkzzuKWec+qb32zUF2WL9c+6fLhvGwpj7nfxXq377Da0Bcs1fI51m1ja4VH9lsctz7CU0/IcW9dYnmN5xwPItcZ3Ge/ifTzOurE82wL+35BN4/n8rkeNWdbg82Nl/Pa4fBTLFk3Uvr1xw0pERUdr3+b+uo+fD3hOwDJoOQQkLgov/a6M1CghNalISY5BeFgAbt26KUQ1ELExAdJPpI9HCYm4w/dYnpf7HbZBmWe9WtclwfowFHpuV2JpG4N8PyQL2WMA69dS/3yeZZx9UK9Sl5a6f4Dsen6UfOVG7jFInye/Lc8x8PBvo9yWY5bxyJYsG2OW5XkPldMKfM7j5N0yn7pfcsCCuWPRr08HbNq0VrcsuXc3Sd7P/XMfN84LpM4SYoxx7JqnM9avW6IJonr37CBj/hgNvyDRJHFKjGM/YJ+V+pfyc//O06eOwG7HJsXJEwfVe8SY2x4/llr6kPGNRpsY9Z3dblIv/D5eG5GrzbVu5HduObJGjiz8hExlw5BN6VvyTEv/52/r51jufVjWeDy7nbWcxuIYSS7b3/p6yzca1z88Tz08Xvz4u7S+WOd+F7Bv1yoMG9hV5ov+OHfGXuZof31m7ntMmDBh4lGg5y0yfHH8chhK9YnHU2Wjke/rnySl4fhbiwh83D0IS/eJ0h/vg4xkZvBLwd27GUhNjpaBL1AGJA5KAU+EWLmWLl5J8UzJz1XHO0hPEXIrSobvdVdcvOAEF5fj8L1xGSmJt0VBjpTzXLUMkQGT1g3G2j35+yzgPQren/0Mxmf96DpCzsU8uN4os+WY9fFH3UvkPmcN62flfmbud1mff3D/o67Rb3t8GXK+PRvZvx+cl//nfq41jOt//FxrJMXT+sq9Yl2xb896TQy0c/smREdH4f79LGnXCJnwqdA9qp6M43TvS06gVdUH173PC2E6ATfXk/o7OECUnQh5RiytZGG6hyPlJDmBMUO0Eud820+V1xas68G6fnLDUt+Pqhve+6jn/NS9uWG53vJNlnsfhcc9k651rNs7Yddx9rS9KJUTdL+/a97e0r+zpD5j5brc3224XRr1GyD1f1MUNl/diJ6IIMJ8FOGhxt8HyP7/HV5vucfqd2S4EA/9S9JA2bB+7+Oh35n9rZbfNq8j5Jx13WhdZh+zHLd9r+WeJ5MFazzqXQ/O53qmredYX/Oo5+h1RPY11sesn2/9nJ+6JjfYtyk7PtcuYOfWFZo86ID9bsTFx0vfzhTZoOXQ9r2PA10P6S5ohFGEyNwSIfIZJv+/Je+7LcfCkMJ9TkVmuTVOfIwhgz8HlnqzrsuHzmfXxU/XW861tq7J/Rxr8Bzvz32PLVi3zy/Bo95lS74ehUfVFaGyIGP0DW8X3ZqJMekHD+5Damoy7t9LQ1JCqLznceM8wTElSOf6BBnLbwV5aeiFu9tp0QeYuZ5kKVja/rbGdrPc1B84BlEOY6Np4ffXuSAywhg7DPm39a4cWGRBv1Ggx7L//+Dbs48b1z98nr8fVzcWPO6ZD12XXR79a/X7wfnse3N/V+7j1uV8kusfHJd3PSij1XstYF3Twyn0lpcmkJw3awKWLpoJZiJOlX7Jc7nvMWHChInc4PhD3piRFIj0BG/YHbuGwl0j8bdyMchX2BP58v8UKW0ejvw9b2GNQzjuZsTjXlaSTDhZooDcQ1ZWOjLSkwSJPxvcAzM9LQFpqdy/MxG4ny5vZ0Y6y7/7QkiTkZoSr9cpcj3DxB8TmRnJgiQkxEchMMBHFIyL8PfzRVpamrQq2zVVSI/te61BGaF83LvLjcDvGWKh/ygnWYIMkcVUfdcDGVG5sv08EzlgnbGdUlPiEB4WhKtXXeHl5YHY2Fjcu39f6px9+8f3sQ8SvJ91j/tpBrhtTfaemTnItELuc9YQubifivvSzveyDNmx9W4Tvz8oM9zrMj4uEv43r2nfDgoKkGPSF6WP6nkb9z0p0tM5J8QJYpEufzPl/5kZlr6dA1v3mvjvIlPmZ/bVuNgI+Pp6iyxcQnBwILLucmy+K+dTnmgstozznO+Ncd3yj+N8Ou7K8dzjOn9nZWaPQdnjCMcQYy54+FoTvx6W+SI5OVYTk3l4uMLb6wqio8OkHVL0nK37TJgwYcIaOnbLeHI3PQY3PI5i5KyteLfJDeT7Nh75il0zSOmrjyKljbNJaa8QbDzJrRFkkhDyeDcjRYlFVlZanuGuKMH37hEZgkxViu/auM7EnwdsU1pPqKDwr7bnL5Cbu1kiFyoflA0Bf1M+smHrHhNPBq1bqVNDGczSen2SNmJbcgN5SxvkCSzPzX6HiT8u2F7WfVuP5/GcYOLPgRxZ4GJ1hnE8M/uc1XVPAj7rwTgvsIwLtq4l9Lw1eCwbtq438etgzBdGvzfmi+z2NmHChImfAMd0GjUz0pMREeKL3VsXoEnnCXix5mXkq5SIfCWEnObfmYuUtjFI6dMlbuJZCyntHSqkNEnOygMzo5AUH6IuVXTPSUoIM2HiISRmg4mwUpMjNWlOavIdOReqWznYusfEfx9so6SEcKQkRUgbRSJNkJIUrm1knDNh4mE86NsiJ+zTRt+OkHNG3zbl5q8Fa1nIkPGDspAYT1kwdYP/JVj6fRLd6KWN2e85X7DtzT5vwoSJJ4GhM0RrmNY5JzssnDUQDTuMxcu13YWUJuWQ0tfm/zQp3eBEUipMN83Yn4/Z34wspIzjMGHCFpgMgokkjL+2rzHx+yKnjcx2MvHkyJEbU2b+6jBl4a+F7LY229uECRM/A0x+x3wAtwIu48j+VZgzuSeadJqA1+pcRb7Kv4qU+mh2QGZzM1KamzCRA02Lb30se/sMy7kHx038rni4jbKRfdxsJxO28CPZyNW3Tbn5a+FhWcg5ZsrB/xZ+1Kbs91bt/eC4CRMmTDwC3HqLW6oF+V2Co/0azJ/aG027TPy1pDTMIKVCSI1983IGLBMmTJgwYcKECRMmTJgwYcICCykN9nfFsYPrsWB6319LStNxPyMC3AONrrvc84ovMWHChAkTJkyYMGHChAkTJnIjIdYfSfGBuBXg9utJ6UYnpmvPBO5GIikhEHExNxEfS/iZMGHChAkTJkyYMGHChAkTPwK5Y0rSLYQGX8HxQxt+CSkNw9+aheHTPuHYeoZ7EWYiKzVEXXcjwrwQGU54mzBhwoQJEyZMmDBhwoQJEz8CE+TSYhrsdwknDm/Aopn90azrpJ9LSsPxeb872HY2HekpMbjpdQrnTu3B2ZN74XJmv8DehAkTJkyYMGHChAkTJkyYsIkLzodw7uQ+HNy9AotnDcgmpR5PRkqfaxKBf7SOxoc9bmHCGnccO7wTq5dMwqypwzBz2kjMnjFaMMqECRMmTJgwYcKECRMmTJiwiTkzx2D+7LGYP2s4JozogPrtxuDV768IKU1+PCn9d3FfPN8sEv/qEI83O9xAqyEbMWfaMEwd3xtjR/XFmFH9MXZ0PxN/CLAtbMHWtSZs1xVh61oTfz7YalvC1rUmTJgwYcKECRMm/hsYN2YAJo/vi2njuqFtn1l4p9E15KuUhHzFrj+elD7X9A7+0TYG73TywYBZB+F4cB2cHDbC8fAWHDm41cQfCIcPbHkYNq4xYeDwwVx1JbB1nYk/L8z2NWHChAkTJkyY+GPh8KGtOO64Gc5OmzBvnSO+bH8bf6sQh3xFvJDvk8fGlIbjqZZ38HGPQCzb74vkpJtITWFK3wAkxpn4o4D7/sRE3jD2jr1zQxEXdVPTL9u6/q8M1gm3MjL22TXqykhV7ZdzXezD95j4cyE+2lfaNXsf5TvXdfuquGir9jVhwoQJEyZMmDDxuyA12R9pqTdw2CUAxXvG4G9lY5Dvm6uPI6W+xpYwLSKElAZhxQE/pCTeRHKCD2JFyYu+Y+L3B0nVdVG4faVdgpGWfBupSbcEQZp6WcmqEDDb9/7VYNQVCUpifKDUEevqNlKSgpGcGCSdxE/Jqu17Tfw5YCwyUO5TEoNl0Lul7Zsi7Zskg2Bc9E1tf9v3mjBhwoQJEyZMmPjtcAMxgqS4G7if6Y8TbuEo1SceT5URUvq1x0+Q0iYR+HvraLzXxQ9jlp2Cq/MeuJ7bjbMn9+C0016cMfG74tSJ3XA6thOuF44iIswfKcl31BJI8uV3wwXnzx7EqeO7pa3M9jrttBsnju6A85kDCArwEiIqdRUXZKSnDrgsdejwoK6M64kf11vO8Ufh4etz7rN1LWH7+tz46fJYH3vy5+aG5V5r2Lruj4iTx+xw8vgueHqcQ2xMCJISQhEv/SE8xBPeV0/LuLVP+wy/0XLP477zced+CsZ9P78dful9ufFTzzHO2z5nC4961u/5jb8GRhkMPHyM5bKFh+83YcKECRMmTPw8UAc7edRO+OQ+xIW747h7HMr0T8Xfy0Q/npTmxJTGaqKjnpN34/DeFTh9dBOcRLk/4bgTxx135C0csvG4c7Zg6/onwa+593cG6//oEfpnb8KFc46Ijo7A3awUtZjGCCl1u+iI/bvXCdbqtb9Je/2Z4LAdRw5slA6xF7eD/ZCVmYqURCEtMTdx3esMDh/YhD07V+GYXOckHcZSZ7nrzfr4o2B9vXHP4+/LfX1uPHx/7uOWc9bHrZ77M/rIw+/Jga1r/4hwPLQFjoe34qrHeSSnJCI9LUb6QxBCgtxwRggp2/ew/abs78r9vVbPyq6vnPMPH38IlvrNBetn2zr/EKyel1Meq3q3dY81rO4njHdbvd9yzurah8494jnWsFz/oC70mO3jD8HybCvk3Cd/eewR1yksz7HGk1xDPOq8HLMuA4/l/P9xyPUcEyZMmDBhwsQT49iR7XA4uBkup3YhPvI6zly/h/KDsoSURiFfoStCSu1+mpS+3u4auk+0wynHzQjyOY2QYHcEB7gh0M/VxO+IgJsX4e97AWG3ryM1NRGZGclIjAtUS+kll8M4tF8Iq/Mh3A5yx63Av3p7XUKA73mphytITIhGZmYakhJC1PXZ68pJIaWb1crGOmV9hQRfkXq9ml1vl7LhqscjQr1swtb1/EtLLM892fW5cQlB8jckKLs82u+M64P8XbWsOc+5+OBdLCfPP/7ZFhjX6L23PPTe2/K80GAPRc5zct/3x0LAzQvy9xIi7wRJ+6YiNSUaSfGBUmeXcerEHl148PI4pXXGb+L3hrKd5Zt5jaUeLNC6ZX3I35zjtt+dA+M6tkfYLWkHabcnu9c4/yi5e3JQLrLLbvM5RjuHZrfz49vWuM9apvg793HWYc5xW8+xwLjPumxB2cdsX/9bwHgf25Rty7Lw/6yHsFuP7tusryf7RhMmTJgwYcKELQTcFF1cdLU7t91w7+4dnL1xD2UHZOCpMpE/j5T2nLQb50/ZIS7CA6kag2ck2Mlb+Ku7na1zdEu1hUdd/0T4Nff+AcAYObqfklzR8peRnvAQKXU8tE3dFmktonJu6xl/HdxEXJSPyEyg1lNmRqrUye0HpNTx8DZclDpjXCnrKz0lBJlpYVpvrGOCz2HM7r3MCNzPigCkQxH3s+7oscy0UO0XvJZtEyfXx8rzE+MDkCXneJ0FvC8rPef5LN+Py8w4V+O96Sm39foUKZul3Sn/PH43IxwpSUFyHWUhUK/LSA2RZ1O+mfDqx8+1hvE8xtoG6DfzmYzD5F8+h9+k3xNt+/4/CtiWcfK9dGPPykqTOolEkvSHWwGuOHNyL04c3akkhPGm/JaEOD/9vqz0UKmr7HbLbgd+b2pSsNZlesotq/cYdfqgvbLHoQfQa6zvDdHjvPah63iM7UJIWVh2XsPrtZ0TDblgOX70DivkHsN4PY9b5IWyrPXC5+g1zAsQpOcyUg15Nb6Fz/nxs1gGyijlwpAFf43Ltci19XGLrFrjobLKe1jnacm3cDc9XPuSIZtGmW0h9/NyP/NR1ygs9Wt1jN/ENk5j+0ifNGTBKHeG1Bn7tXU/tcDo2/KNWpcPP9OECRMmTJgw8dPQOVjm0fQkf2GccTh3/R7K9E/HU6V/LimdbJDS2PArohgHqjJgPPzXgYoMlRwGvlKRo7KeIYpZvJxjQCzPU3HA/Wj9gIcRK4hWBcx4FrNs2n4PYbzrhr4vWb6B76KywYr6qXv/iLDUXaKQq6zMlIdJ6fkjOCpEy9vjtCqVOcTirwohltL28TEBSE8jKU2ReskmpR4nta4YV0q5jrnjgzOnDsDxyE7c9LmgskKFNTL8Go4d3YUF86ZgwfwpWLdmITauX4ylS2Zi3tzJ2Lp5OXyvuzzoH6xz3ut74zx2bFuJubMn6r2LFkzFmlXz9fmB/q56zaP6E9suKuI6LrgcwZFD23Dj2jnNLpuZcQfpQgauXT2LE8d24U6Yt/SFTMTK950+sVfjjNNSwuRYqpJWKv7sY9rXciFO+1gA/G9egtOxPTh/7jCuuJ3AgX2bcFy+10KwSCD0ehvl/COAfZikITkp4pGklNa55PggJSXht6/ijNN+HHO0g7/vRW03HYNkTLkndeZ99QwOHtiida/jhYw3JGAcQ1hnHDuAGIH1mJQoSMKtIA+cPL4HnldOy/95TUr2eQticU8IEIkd65SEh/J19vRBkYsd8LnmLG3vL+0SZCx+ZN/zMGKUWPLbLW2ZlRGB1OQQbf/tW1fC3dVJZYvJz3AvSu5JkvHhpsj3PrnGURdTeAxI0PeQsGo9yvdxXOQiSICfK4452Ekd7kfYbU/pC7dULoMCLuOow06cPWmPsFueWlajLMYiDhOv5dRPvCBZxvEY7Q+s81tBV3KOP1Q32dfLmE/iyj6qyRHk+4z2sXqmXhP84Pt1TJRr+c2U+3uZ4doPLffz+9i+N6R+d+1YLd9kL23AMfMGjhzcJn1zGhbOn6p9lFgo/Xyh/N2ze73IDhc0jAVZvscidyZMmDBhwoSJn4bBW24gJd5H5uJYON+AYSn9JaTU5dRORIdeRqIop3wwJ/JfCiraBBWfdFGsMtIj9Dcn/tuirHC7DiojVCT4fy8hV26uxw1cOobLgqvuJ+EnpCE8xEufyWtzv4fIeddNUdRDkJEWrtk4aTUhIsONrKy27v0jg99ERTY+NlhddzPSE0VhyiGljoe2wlPqyLI6YesZfx2IDIR7i9z6IS01/kek1EHqyvWiI2j5oVI9fGhftG7VBCdP7BPyQGU+XgnPyhVzUKN6JXxboQwKf1MQBb/6AqVKFkW1ahXRr08XeHqcEuU/UkkGQasQlfl2bZujQIHPUbzYNyhcuBA++yw/mjappwSEFhsq0dblZdsyU1mWkM9oKc/MGWPRpPH3cBDynJVpkJwr0raDB/ZEjRqVsWLpbFzz9sDWLWvQsH4tdOnYGocP2sHb6xJuCgngIJAmxDpTyCUJZpZ8pwV3s0h6UoR8OaBr57YYP2awEODtmDF9LIYM6QUPdye9hySM/Z4yZ13WPwosWyIlJYZLHZGURj1EShkvTNdW1gGQhoCb7hjYvzvat2sB57OOWgckn1HyjIy0EOwQUvdDy0aYPWu8LgTESj/iOGGxtIbeuqp1y/qh7LhePIqrMk75yXOXLJmNalUromuXtnAWku951UXHLl7n5noM173PIdj/stZlihAv3GPf9cfoUQP1nYcO7hTClaR1fkvGKM8rp3S8u+51Tr0fPK+cVOIaGnxVv9lYcLghhPyWlmGctGHbNs10kSErM0qfHSqE8qavO1avnI9aNStJW7eSccIB169dFNlxVreaO6He+o0Ex4ysjDAhkLvQskXDHPm+T3J+W+W6RfMG6NurMzzcnHBXCKAxjhoIku9jmTleE9fkPVevnMWUySPxXZUKmDZ1NC5cOA5PTxcdzx8C61K+mfMBv4/lJ/lkv+BcwPOs72ueZ3X8Zptw0YSkkeM765QuwnS5ZaIrekmwbe9K24eFemL6tNFo3qw+Nm5Yhrt34xAu3z1yeF8ULfo1ikj/5F+CfbxIkULo0b09rsg30mpOq7rRP23LoQkTJkyYMGHiYRicxVt1tbQkLvTH48y1LJTpl/YL3HfzmJQSLCCfkyQKRVJSKI6L8jNx/DBd4Y8Mu6ar/lQkTovy079fNzRrWl/RonlDUdwao/UPTVSJ3rVjrT6PisnjyKUqlEm3kRB/C+fPHcGkicOwYe1CVS5/6t4/IowGNknpk+HRpNRbSCnryu3SUSUstOA0avA9vvnmK+wU2UpLi5Tro7WuD9pvFrkZrgr6J/k/xAsvPI96dWti8sQRWLFstpINbkViuCT6qUWJpGXenMno17cLRgzvj96ixH/88Yco8OVn2Lh+CSCkkHJuXd4oLpRECSkQQnEr6Cq6d2uHzz79CBvXLUZCQgyCAm5g8oRh+OjD9/H3//s7ypUtiT69Owthroz//OdpvPH6a6gv5erRrT2WLZmphCQtNUT6WpASYFp7HiDxFlJSErB/32YUK/oNGjesA6fj9ti3dwvatm2mfY99kFYzCzGwLusfBT9FShlkz5hAEreU5ERcvHgKtWtVRfHihWFvvxsZGalqJZ4mhMXh8HZMnTwKpUoXU0JyQsYmWrp37VwjpCcMUZF+WCdjR7cubfCDELY2rZuhraBjh5boKXVeukxx/OP//R/effcttBKS2bVTG7Rr01yua4pWPzTWRYrJE4YrWctKj0BqSpxaIRs1/B4FCnyG9etWidylCvE8j4kThsoz5B65v2P7lkqi28pzWK7NG5eqlZyLHyRjHu6nZQwdqmPjrJnj4HPdRWX3utdZzJk1Ab16dESFcqXx9NP/xltvvaHErHPHVlqe8WOHwOXMISV2lAv1UEECDu7fIgStkMr5FXchpchSYsrxuoiQtrrfV4PrpeNyPFHlPVlIG8ebvbvWo1vXtjJm11NS21Xqqp2UvXDhgiKj/xFZ+1re2wxdu7Yx6k9IdJtsNGlcF336dIbj4R06fnGhh5ZXp2O79bt5vmGD2hjQvztOyDF6DTwgpinh8PG5qF4Jc2dPUMJsuBmH6gLn3LkT9f4hg3vB+ZwDkpO58HMTW7eswLChfTFUMGxoP8WQwfL/IX2xetV8tQxT/vkOk5SaMGHChAkTT4aoCMIgpAmxQbibFSN6RByOucWgRK94/I2JjjT77u9ESi3uil5XT2PH9lXqzthSyObnn32C0SP6Kykli6aCRBcxKnIVypcW5bsEqletiNo1v0Ohr74Q5eYZDOzfQwkDXdFIMnIrDHwPlaxropjRHW/VirmiLLUTYvC+KvJUVOjqxev+TMqGSUp/Dh5jKb1yUjPuergd10Bsko3ixQrjvffexcjh/dQF08/3Evbt3oCli2dgw9pFquyWLlUMH330vhJGkkvKFUGXQFpvaN3hQoelnfg7MeE2ggPdRDlvru9Yu2qByq01KWXn1cUaUfDDQrywbfMKVK5YDu8JwSHhWbduJZYtnS8EpYVaXJ999hklk1ysKV++FF54/jm89ebrqCT3NGlUB3NnTYS35xkcPbJT+tk8/YblS2c9AMu8eeNy9O/bFW+/9SaKFvkaixbNFiV9tVqFn5fn8dknju5WhZyWoofr9o+BR5HSYCGl507v16096F5N6/fWzaswedJIJUaffPIxRo0ahL17tqBn9w54+503Ua9ODTSoXxsFC36BKlUqKMl79523Uat6FZx3doS393l0kPp/5eWX8HWhArpY1rRJXdSqWQVvv/0mXnjxOZQoUVhIZh15Tk19HkkdreNVKlfA66+/hhJChu22r8YNb2ds37oK8+ZMxDdffyX3vyFkqw922m0V+esvMvYe8n/8oVru3nzzNeTP/xEKFfwSH7z/npI+jl8kbXTVttuxTp5fHp2EaNK6et75CNwun1DZrVypPD788H1UrVoFderUUtll27L8H7z/rpS3iMo2Lfcak5pB194MtbZW/LaMWnC9vC5wmpB/qUpgv5UxmaTcw91FjmVqTGyqjNkcb0iYuTBSSe6tXes7lc1XX3tFvv1VVP3uW6mb2qhfvxbq1qn+EFhPFSuWRYsWDbB/70Ylo9xvlv1qrLRTDWmDit+WFfkuq9eThNPFmsn3SFC3bF6uFmcuKtWqWRXOZw/L5JegLrt0ySXxHz1qCM67HMPF847qFRAR5oW0tCgkJoYhISFE+qkgMQcpyVInQmotsm+SUhMmTJgwYeLJQB2Yeji3YkxKvIO4WNEV4n1x0DkAxXvG4G9lY5Dvm6tCSp9gS5i8JqWc0LmyT6X7gP1mUUxq4uuvC+DFF14QJe9ljB09WK+7fzdS38N4r5Mn9mrMz+GDW3XPuIP7N6u16tNPP9YV70h5JmON+Ew+31ppICGlGxzj42jJKCzKyluifP/zX/9EX3kG3bseRWj/yGBZTVL6pHg0KfW84oRzp/apGy+V2saN6+LZZ57BP/7xD1WkN29cIvK3R+StK8qULYnva1dTpfntt95QS+k3Iru0uFWvVgnVqn6rMWkRoYb1ikSU7+BviDwzfo5ktVfPDihTpgTWrrZFSg1Cy/jFS6I0t2/bXMkDyecXn3+CkiWLCaltqV4FtKB9/PEH6N2zk/SN7Rg7ZrASmArlS6rllm6O/j4XcemCo1qYSITY1+iSaAHJTkkhUF8V+FwJwyuvvIQvvvgMZUqXwKeffIR//vOfeF8IOp9NaxEXcBh3yDp9uI5/XzySlPpfwvlzB3HR+aC6vU4YN0xJVpEiBfG6kCS24aeffoSvvvpcvv1lPPfcs/rddM3+TMaXL7/8DJ9LvdO6+P9EJrp0boOD9tukDTvrwsLAAd01/vbg/k1YvXKekPpCUl9vY8Swvkp4GE+8ddMyjTnet2eDxi1WFuJYs0ZlbNuyAoxNriByRnL4sRDFN954TQjjB9JOX2lbPvPM02gsRIpWb15Ts+Z3aNe2hbqWthKyzBAEktKUpFC15nJ84/G9u9djuJRh8cKpWL92obqcly1bCsuXL8ThQ7vRuVMrafciKjuU3WLyLcuWzMLdtDAdM4P83RAc5KXkskyZ4krSHY/YyZjjJ3JwFTu3rUKZUsXQoF5NHDqwA6G3rmvMrsbcynhD6+xxRzsdd08e36uW58+/+FTdY7kYsl/qgnWybs0CLR9BT4BtW5Zj9861OCH3MSsu+8cVIdb0imlQr5Zct0j6q71aZ1cun42WzRugv/TN4w671GOhfNkS6kHwH2kvEtjLl+lyHK/vatSoNsaMHggvz0ty/CyGDe2D9u2aabz2nXAfhIfKNwR7KMJDr8m8cgPhYdcQIHXhc53Zu91FzoxFo9zyZ8KECRMmTJh4GKqbCZLig5GWEoOwkEC4iU4a4H0E9md8UapPHJ4qF4t8X/+OpJTkkdZSruTPnD4WQ4VYciX/008+VjcyfgSTjSjpElKlSUU09i1JlM5g7LFbpyRhzOhBovDQguOPzPRwfa7lHZb38X5aXBmrRFdGkth6dWvgPVEcB/Tvpun+DUupSUr/d/EYUurhhFMiQ55ux9W6NIXKs5CQN998Hd26tsG5M/a45nUG69ctwpgxgzBl0kh1aS0kBOGdt99SwjBpwnDF1CkjVcGlpZSyaJA3owxsByZeYawbCUEpUeipiN/PTjBDZddSVrr/0h0x4OZFzJ8zUcnjO++8pW6Q48aNwLSp4zBAylBWFPAXhVTR8jRiWD91aeT/SaboZkyXULpgcmFn8cLpKvuDB/XE0CG9czC4N4YM6oWpk4Zj/LghqFChNJ4TAlxRSMwUecakCcMwasQAISfLNEbPkljmz0JKbwkpdZY2PHd6n+5JS5I4dcpo9OvbVQkSraGMyyURfPnll9R7Yv7cyWoN59g0R4je7FkTtO5oBf3mmwLYtXM9jh09KHU8SshSGyF2HaUOeyrx/0QI7SsvvYia1Stj0MAe2k6MXe3ft4sQ2Y5yTQeRn67YsmmpytWhA1uUHA2X9mNiHbrpvvPOmyhQ4FOVLS5EkPzRNZsktVixb2SsLIcvheDxffxmxvzuExJKOVBSLe1P75JxIq/8dnshzYxxLVjwS7Rr1wpjxw4VkjgSc0W26AJL+SJB3bRhOe5lxcL3xgWVBVpBK1cup4sVH37wHup8XxWdOrZEm1ZN9F1vyPEPPnhXy8Z6WLxwmsaSUkY45hoJmeKEVDqhT69OWn+sZ7of0zLfW46xPrrLd/To1g49e3RQN/cdQnhjI32FbEcLoYxWckviTiuwzzXDKst/F84fVes0vQIOH9iqi5WTRWbbtGqKLz7Lr+P8xQvH9Dl0/V0u4z89Hy6ed8KE8aPRoX1LtTaTxLNv0RrcrFk9dWtmGTt1+EHdiunO375dc513YmTu4yKTteyZMGHChAkTJnLD0L1JSDMz4hERfgunTx6C/c6l8L60S0ipH8r0S/x9SWluJDCuLT5IFMFJ6k43XBS0CFovMyLUAsp3JYiSnixKPpURf/8rqrgVKfK1KHRbcTczGje8zmHH1tW6In9HiJqFnFqDSmtygigTUf6ifC1G8eLfqBJERZsEmMTNJKX/q3iM+252TKn7JUdVNumqS3fVyhXL4qjDblHS4xES7CmK/UasXD4HB+234KKLgyq0VPRJLN0vn1DSumHdQql7ByWYdHW1xCmznSjHuB+lssx7SQQ2b1omMp2oBJRE1lLeKLme996/GyVl9MOYkQPw4YfvieLeAZddTwvxtcP3tariIzlGy20rIQksM5MzNahfSwjLZ2oVpXWIpJeWL5aBizcZaaFC2sKlDgTpxl/DVTMVkXf8hHz1RqGCBZSQpSYZrpMsC++P/gP3j0eS0gcxpTu1rzPbasgtT3Vbpgto06b1cEDadNXK+VJ/TZWQ0oK5ZuVcLF00XX6vhPPZQxpqMHnSMCFSHTUWkfugnj19BL1lDKlUsTQ+FxL097//Xd1i69erKW38g8a+fysk/9VXX1YX2bKliwvhqYe1q+cjSmQyMy1E6lXkMsZf2yEowE1J4pdffoounVtjm7QfrX0koEyo9d5776hFlwSSxLNXz04qV3S3XblsVjaJLI9333lLrb0kaiJ0OHPKXokb5YKklrJE0kyrPpMxffTxByguY++2LatF3uNwzfMc+vXprK63tM7SmkxiWqpUESGBlfFdlfJqqdXjr72KokUKol6d6pgyeQQC/C5JP2LfuinvjsO9e7FYLPVIz4J8+fIpuaWMUlZbthAS2LT+gxwBLBMXg5qLLF+TMV0z7AqOOtihjNQdyTgTMln+Xbp0UskxZf200z6ZC6JEvmNw9tQB6R/VlLCSjDLrL2OBmdn9gvMRfS9d3rnAdPjgNu2PfAY9I6oICed7PvnkQ/zn6afx3rvvoEyp4uoqvEX6KxOe0Ysht/yZMGHChAkTJgwYOplhIc1Mjxf9MkR0EQfRaxbh2IFVCPM/gYPnAlCqT8LvT0pJqAgqyVTUac1ZvWKOKga03NCl9n5mhF7D65ldkgQiNSVCPuoQmjaui0qiOLicOyT3pukKuSb3mDEOobevIkuU7dzv4/24FyfKXwz27FqP0qWKqqWBK/smKf1fx+NJ6ZEDm3FZSCm3zSBp6d6lHcqWKY6d2zcgOuoOnI4fQKsfGql80pLPTLV9endBkyb1sGP7aiE1W4WI1FKyMGf2BISHeilRYD+xyBS3EaEFyc/nvBCOVqhQoRRWLJ+HhAQmHwpQGX9QXrmHRDA9LQJhodcwbEhvTWBEy96uneuw2269Wo24iEPrz57dG5Tg0l2URJSWKyr/XOjhPpwsCwk35eD2rasICnJHSIgXwsNv4PZtTwQIGYoIv43QUF+MHTNE42XpVcB+Sbd4eiowno5l+qP2kceRUsaTMtGRsXVOqpLMGtUqKVlk5mQnITRxMhZt3mDEQbJu69SpgWpVKyvJo2WcW5lEhN1QS9vtYA+kJIZozO/li8dwzHGPZpVl4p8Wzeqry+vZ0wc0Xp7k8qUXX1Cr3d49m2TMclQZSIw3MspyrCLxCg31xvTpY9S9mi7a8+dOwf49GzWmtXqNypqQiGMWCR2THTGLM614IVIWkqQb1y7iittJGdvWqdWvbJkS6sKbkpKoW7Aw423D+t9j1Ij+qC7ywXhYPmuVkG9a7kmeVyyfi/t3o5GceAse7mekrEcxf950dVOm2/DmTdxm5rSQckd1DyexI5HcsG6J1MNJXPd2kfHITxcQuTB4L+sOggI91GU2/8fv41//+pf2K5JhZjfetH6xkP952LJxmSa4mzB2qFqDScSZXZdk8r6QWpezh9VVne67zFgdEHBFcBO7Re5pTW4uxJbtgPvckucuPK6c0v5IF2m65LN+k5JuayIyWrxJpN8Xgs84XsrzJbnXfu8mTWTmdHwfHA7vRvdu7YWQvq2xwiSup04ekDp2kT5geD3klj8TJkyYMGHCRA4hTRAdLMNCSE8eEUK6RPjaOgT6nkVWig8OuwSheM9YPMWY0j+CpZTPobJMxYyuX1Syhw0xLKXWpJTklXvWcR8/kla6Va1eNU9jmGjtcT57UBSMSdgtCjvj+Xht7ncRdHNLE+WElhAmIqGl1CSlfwU8npQ6HNyipJRKdJzUV8/uHfHqKy+hadOGsN+/ExvXL1XLOhPM0FpCN18my6IlZtu2tTh/3kktYy+9+Dy6CgnhNh5GnLIhU5Zspu6Xj2PypOHo17ezLojQKrZJFHJaSUlQ6O7L6zWLqFx/Q5T8GdPH6XtplWKW0nNnj8J+3zYlGR+8/466KpI0McaaiZm6dW2v8aGffZpfYxy5/yTdhtmHdu1cqzJP90QSG8ZHktg0bFALE8cPF4V8D8aPG6oWo3lCaJmNmP2TMa78Fovl94+IJyGlrFtu/UIC/+Ybr+Opp57SGM6ePToJCTspg+UWTaBWtkxJTJg4FoOHDFTLJJMAMTMvPTUy0yNVbmKlLpKkXjIzouR9yQgLvY5NQmoHDeihrqlMysN2odXt5ZdfxNjRA5CaEikkK13amgsW2duUiMzdvHFBXXjffe9tzdg7evRQXHF3FqK0WQnhF198mh3e8JH+v3y5Upq0qH27lhpTSlnLzEyEr487Vq2Yg6FDemGkkE+6BO/fuwW77dZq3CizNHO7oxnTxqjllNZXEl8mCyIRnz9vivQBPisGaWkJSE9PxbFjhzVWmvJy5YqrfG+aHnd3PYGqIoOMybzidl7Gn1S5J1ot64kia7S+022cC4V0b9aYZqlHWmkpc317d0av7h3QrXNbdWvmIg8XG9968w2NX2XW3PtSN8yayxCLQ/ZbNE6Xbsk/tGiE1i2b6nNGjugHxvTSLT5V90aNU2tone+ra/88c4YLl/Ea28r4Xy4S8Ntp6aWllPLNbWH4Hm51czcrQQhsNBbMn4ES0ufHjBog38y9b+OUaHPByNqrwYQJEyZMmDBhQHUxQWJckOgFcbhz57Z6lW3buBj2e1brrgIZGcy+G4Uj54NRrEcU/lYm+vdLdGQNKrlUzDJSbmsK/9yklKSLiiSVOFptli2dg4IFPkPHDq0QIYoBLTjcg45ElIpLeIj3g+fmfhefkylKBzfJpyXD4r5rktK/Ah5DSq2y7wbcdFViUa5cSbVM1qpVFdu3rlVLEN0HuZCx226d7tfYpVNrUfQrYsuW1XB1PaNE9vXXX9FtQpgQhUSBrn50J6elkhbHA/s3q/tk/35dlBjQ/bd92xZSPh+1CpGo0JrHeLwsuZ/u6Yyle+rvT+FjISHcoobbmfjeuKoxgdxug26QdH8sXPgrJTTly5VW90Rmbr3MeDrE4m5GmD6b2XdpVSpVqijef/9dPPfcM+p2ykRHA6RMhw5s1ljC8uVLY/bMcaKwByvoZkqXTPZ7deO1Wce/Lx5FSnOy7+7W7Mpul0/qdimVK5bHO2+/qdbSmjWqaOwoYz9ffeVlTfK0ePF8zJo9HV9//SVee+0VTJo4Av43ryjxSU4IUDLDlOa05PncuIRDB7dh5/ZVGsvL59FSzQywbIs2bZpiwvghQmwdkJZi7AvLlOhcAOGC2rQpo9U6SBfZzz77GGPHDIe72zm4XjiKUUK6uB8oXY0Zw/n55/nVwknrJgkoLXckU16eLhgwoKcmZmKM7AAhYMzm26d3Jx3v6ObKhQ1uydJbjjVsWFvJLjM6c4GDVn4uDDJB0dYtK7Fi+UJs2bQWgwf1VatikW8KYfLksdixfSM2bVyt8fyUNyZWmjRpNDZtWoPVqxeqdZj7hzLb+czpY9Q9d+bMydgnBJsZdd948zVNbtdBCHXbNs2VZHJLGrrQ0hX9rTfeQONGdXHV/ZSSUvYdtq3L2UOYMG6oWmbpVlylUlm1PjPhl4vUIYki24UTnfOZg/osktJzZ4/IsVjYSbl6CjHevGGx3lPx23IYNXKgLhjROsz2ZOZgSHtmpN3BooUztE5ISklYeQ2v5bj7Z5onTJgwYcKEif8GGI5kcdlNT41VC+m5047YumEh9u9eBd/rF1Q3SxakJPrjkGbfjf7jWEpJHqmA0/2MST5sWUp5TVJ8kCj4AaIUjdZsp0OH9kGqKCv3Mu/oyjWtQFlpYWpt4vW2lAYey+R+dglBau0ySelfCY8mpZbsu9yvlNtfNG5URzPvMq5v2dK58PXxht3ODeo6+fobr2L4sD445bQX3bu21y0tNqxfIor4Ot3/8fnnn9XENtz7llZ59hMmLaK1Mj42QGPrGEtKy9TG9Ys09rBunRqahOtuVoQo4Le0XZMSApElMul4ZKduB8NYvIIFPtdtWeJjQ3HD+5Jul7Fh3WLBIqxcNlu3S2KmViZkoUWUcXhU5IMC3bQMsdE+an1yOnEA69Yu03e/9dbrGCTk5eCBvbh08Tx8fK5g5IgB6ia8YN5kKVO0LhrRRZRbj3CrJpIg23X8++JRpDTI/xIuOB/CRZdDcD3vgL59OquFbZqMJU2F/NAKyIRATHzETMaM/SxXrpQQntqoKMSVsYXc07NwYbpKz1CZSUkKUhfeAD83IT2HMGhgdx27uFUJyVrnzq2V9HMhY8P6pZp194eWDfF9re+wSeTF1+ey7nVKl+DZM8apBZzZaRkXzK2qqlT+FmtXL4a/7yUhrQc0ORO3q2FWWSaiYoIiLlgwuzLHz4TYm1i/doFaQrkHKIk2Ey5xv1pmTXY6sUf3SH1Gzv3f//2fkNFP8KmQXy680EX1AyHQzZs10EQ+zKpbS0gtrfNlShfF14W+1PPcW5eZhcuVK5F9vIAQ73c1ERMTbvE4FzeYLIhZ0imXzZvWlfcPxdWrV3Dx/Ck0afw9vir4hRD0oboN2HKR24ULpmqsNv8/anh/3b+XllI31+PqTn83KwpX3E7ovMBvYCzwAfvtIrP7pD/NFELbDIMH9oSXx2npM2G6CEP3bAspPeW0XxMdkSifP3dIF32YAZnZr7lwwz7KRVGS2jsi3/xNmeciBduUSfh4Db1vHjW3mDBhwoQJE39VMI+KYbAQQpoQjIy0ONyJYAypYSHdt2slbvpcVMtpdFQorlw6joBrjrA/cxOl+sTj73+UREc/RUp5nplJqRQzoQwzJXKbA6fju6UMPrpybXkOidfjymWSUtvP+Wvg8aT09IndUlcndOuJkSP7a5bQypXK4uIFJ9y7lyWkdKMQta9QQIjh8qUz5brjukUHk59wP88Txw+JUt8QbwhpJem5Hcy9b8PkHQG4K+SUbcCkNXS3HDyol8a5eXs5Y5Uo4yRIlGk+k1mg2R9IIqkYc1uOpYtmKBlgPCvdzg/s26DWG26RwUy63EKJycHYd1566UXUrVtdiRHjULt1aavbb4TcuqKEl3LOfwnxERoDWVrIBa17wH09Hh11GwMH9ETBrz7HEnkvs10zsczc2ZOEoM9St4s0UdrZ92zX8++Hx5HSSy6HhcA54IzTXnWDpSWTY8DAfnTnbKPZXvv17Ya333xDyd+MGePVsvjqKy+q1bxxwzqa8IYLDuxjcbGBQjYXazIguj7TKsqFA4IxqFxoYAZkWtaHDe2rWY7zC+H9+1N/16zLfOfCBVNw+uQ+3UN0ozyLLuFsM97XpFF9HNi/Ax5uJ7FMiDBDFmgdffvtt/DNNwXVdXzC+GHYtXONygrdq5mAi7Gagwf2UtfUZ575D1o0rS9jgaNmjN2ycanu9czv4JZGxUWe6FbMuhg3Zohm6PXyOKMLISxvl05tNKkTfzOz9FiRKWbG1Sy5Uke0Kk8cN1Stl7yG22vxPMn1uTMH9HkL5k2Cu6uTyFEazjsfB/e9pdsxwy8o84zvpIszk2sNH9JXXdFJ5hs2/F77opG9N0FjYplsiK7QJOqWf5cunpJ2qqBj+WmST0QL4h4ipU7Hdim5NbwV4nVrphlTR+vi0OiRA3RstCQu4pjK35xz5s4xEu+xTXiNxVPAJKUmTJgwYcJEDshFqIMlk5DSZTeC4ZYO2LZpiWEhvSGENCMRsTERoh84YN/OpfC6ZPcg++6fgpRaYvJocbrudU73j6QLG2OguPLNctBvmUoCY/DoZmhrSxgLeMwkpX9VPD6mlHVlyb7rLySMLpfc69Ph8B5NFLNxw0qNLyNx4RYVtKZ07dIG31YoiQP2e9h1cPDAdiV5zGYa4HdRZDQS97MiEHPHB7t2rEHrVo3Rrl0LOB3fK4TpFu7fj1OXc+4tSTdEEknGNdIVk32CiZFIUmmhHNi/m1rISF64OEOrG916a4rSTWvcs88+qy6m3G7j2Wf/gzeFXHFLl7rfGxlRmfyLirmxV+pdxMeF6rYotJh17tQaO6V8hw5u1X7BWD+Wh+7FjAlknOl3QtCaNK6nCZ74/ay3P1pfeaT7ru5TegDnz9rD9YKjEpFJSujWKmlnxl3uFdqvT1eNxeVel3t2b0RnIf0FCnymFuUeQgJpMST5T8rO4M1tYmhlpVxUEbJUu9Z3Gpf5+huvKTn917/+qdZKuts+/e9/qaswySD3SC0vskVXUmchbxzfGMtM6zpdWJkIaMum1fIN8XC9eFzdwdn2X331BZ5//nldMGGb16tXQ0kov5kLGBfPO+CKm5Nmhh4gZJvxouvlu3yuOes2KjzXX+S36ncVMX/OZGwQOSKJPO64SxMAXXA5Au+rZ7LHdrqo3lDrIBcESVR5HfepjYvxF5J7E4E3XTXOkxZOJlfy87mg/SdWztHqyLGJIMGjSy2tlLVqfofnnnsOJYsX0bpibCf3T2X90YWYiZO4J2/jxnWUpBuklPGgu5VQf1e5Am54O8uxDAGE6B5TF/rSpYtphmGASfNykdLjzL7L+cJfxn8j6Rdlm270jySl0v9MUmrChAkTJkw8HobuxRjSbJfdyNtCPI9g++bFOLB3nbrspqfGITb6jszNx7BjyxIcPbAaYX5/oOy7FliTUiYqouJHVyxm37WQUirmVJZq1KiiLpQH9m+RkpKA+avrLuPxuB8jyWVI8JUHz839LioTFlK6acMSjbcigTBJ6V8BjyelTHTkJqSUMWysK8aLli9bEgftdyI5OR6bNq7URQzuqUjZp/WwaZN66kq+ds1yxMVGYMf2NWoZozU/ONBNZZTJinbtWItmcm1HIRx0D2Z70NrIhDCUe8ax0p2QVleSHroZ0qrJfkEiyTamYlyyZBFsXLdIt6xxdz2uliEHIQvMbEpXY7pNMlaOSXC+FQV+ycJpcHE+LMr9aelPXto3KOsJsYFCNl014c2LL76gmUhphS1atKBaopgsiVl7me2V1jESjmrVKqFRw+9V2Wds7J+JlDLR0dlT+3DyuB1u3nBRAnY7yENdmxmPy5hHutRy3KHbK8nc90LmCxYsgFdeeRkfC9EvKISQcZXjxgxW0kWCwjHphLSn4+EdcBAcE9K2fesqubeaxgC/9ebruncniQ/jLkluadmkFZHblDBxEpMU6R7MQqS4QEGreflyJWG3Y70cS5FB3E+I6TG4nDuCKZNGqEstLbO77NbB7bITfK67KKnl1lnjxg7BwIE9sHXzCiXWJICbZZxjWzLxEq3BI6RtmZGWW2KlCoEMkXdSJmZMH6vknNZ8Y+GCWZdJCGNxymkfevTooM+8JTJkEMJ43PQ5r/s805LMzOeMl2ZZSEBJkhlSwSy86fIeLs6cPL5Hs0KXFkLNRQAuzjCTLjOnnzqxTzPsrl4xT+M4mTmX301ZYxmYyZh78PKbThzdpaSXeQaYmKqu1He9utWVVHMhSEnpmYOa2IlW1BO0lAopjZd+nSr9MU363fRHkFLOG/z+dPmOhdIn2edNUmrChAkTJkzYAudDZtkNEA5ixJAyqREJ6cG9a+F7zUX03TjExUTB5cxRbN+yVIjqWgT4nMbd5OsPsu/+jTGlf5RER1S+mUhl1ozx6rrGLKK6JUw2QSA5pQJIqxBXrmnhoLKSFO+PBFHwqfg7Ht6uWx1Q2eG96SmGkmENJaWiAPJ969cuUgsG3SmplNFVmO8ySen/Kh5PSo8cMEgpYz9ZVySl5cqUVBfK1JQEIWabRfYK6XYVTExESyotVk8//S+UL18WHdq3RZXKFTRGk0mM4mKCRLGNw04hqi2bN0SHdi1wSN5BWeVeiXyHkZglSBddSHLnzBqvLprDBveBp8dpw7Ipyj+JC10c6W64QeQ2M53HpaiZCTjqaCeEob0mrqFFk9duWL8IHUWux44aAF8fV7kyQy1ljOPr2KEl+vTqhPZtmuOrAl/oPozVqlbC8CF9hLh0UdJFssBspnRfJRElKW3U6Hv9ZhKHP5ul1LJP6TGH7caexNLX6U7KvsEEQowhXrd6gbrm6t6fPTph3rypaNq0gf6/SqXyuqjwVYHPlLCT4N9j7KKSt0xkZUTrdiJcjOjWra0Sv0aN66BMqaIYP3awJvzhvqSM9Z0zk1tWcVuaLEGC9FejbzJ+mG1HUkor6JZNQg7paqrkMF0AbetKFcuoLISHBesx43ySbkFE6yIJ3bQpo5TA1q1TTUjeXLXo05I4Z9YEDBvaWy2L27eu1ru5h+2iBVM1Iy4tudyX1XhmpiAGhw9u14RELDu3GooI80ZGWoQuqtAyumzpTF0U4bd3ENlaK/Wo23zdNcZTtgeJKeucLrhM7NVAyCWzDeN+vGbopdcB24P/fK9dEkJaQ62cF5wddA7ITA+VdnNT1/XeIrvMvNu2dVN0kve1adVELftbNy/T5GJpKbfkKUJiTx3Q+F5mkT7muFOOxTxMSqeONkipzBksp4WUcqzkYhK9GJhUz9iirJdeY5JSEyZMmDBhwgB1rqgILyTGC4fLiEPUndua1GjbpkXZLrvMyh8nHCVSdMfj2L7JiC297uUs1zPUJhJHzgf9sbLvEowLZYIi7lvXscMPWCKKUYQoWVQU+B4qA3QjHD1qoColJ0VppqJCl10qQHQZ27trvRKJBXOnqNU0My3sR+8x3NGC9X3cz5GWoFkzxyMk6IoqRnn5Tf8NmKT05+DxMaVOojAz+y4XKEggmLzl60Jf4OABO6SnpWDH9g3In/8D/Ouf/0/3f6TrId0OadX6Tn5XrlhWCes///lPjSn18jwPO7staCMkg0TjsP1WdRskqBxb2o5WfmNRJlRIyRV1K6xXt6YSG1ol09KiEHLLU7exYJZcJnlxcz2FQ4fssWwZ3S+7KhGitY4ZQklkoiNvaOIY7us4duxQuF46q66Q3KqE2V3pWkqrH62itK7u3b1BSI03bt/yQFiIp/anK5edMGhgDz3fvVs7IWcfqaXq0vmj8o4/n6XUQkqD/F2FVIXIN6SotbnO99XUorZ8ySwlb2+9/Ya6uK5avRBNmtTH22+9oW7STRvX0zqjxTEm0kh6Q1fmXdLGq1ct0nhK7vPZpEkdJagL5k/RpD/dpW1oEY+PC9Y9MSkLUyaPxpYt63HUYbdaG9n+3LKHhJkEuWjhr7WdvT3PCBFbibVrl8r1m/Udb735GsqWLYk5c2Ziy+ZNWLduEQ4ckH4u7ctYzhHD+miGZcZ70q146cLpSjpJpjm+csGPiZvatGmBrds2q8WQ/3/66X+jSeMGOHKYsc7nNHHX4oVT0bHjD2oFtdu+Wq2xJJgxkdd1T13KL93C70T44sSxvepF0KRxXY1h5mTEsZmxx5b9So8c2qb739JNl+EYBumO1+ecPn1Evmc9JowbrsmcuMBz6cJRJbPMqEvvFu5/ardjte5VWqZMcZQsWVQTQ9ntWIOEOH91uaVcZqSHifyeVMs3t4C5dN5BtzZSYiltQS8EZpjOn/9D3ZKJ4yO3wWF5mQhs7+6NWLVyARpJW5CoD5Z+wHNc6OQzTFJqwoQJEyb+qiCX4rxNnYtZdpnUKOpOqMaQbtmwSIjnCvj5XJR5Nxbx8Xdw/twxOb5QCSkNJNTNUpKjRffJyb6rpPSP4L5L0FpKl7iboshwf7lrooxx4mcCD56jIkCS6n75hCgYjrpqTkWCCg8VRP6my+NRh516nhYoKhG538OK5Ht4H7eG4LtokVJiJ++w5fL7R4ZJSn8OHk9KnU/tV4sp3TFpHXz63/9W1z9mDktNTcSOHRuUgNarU12U5+Ww379VXTYdDm8X7MSeXRsxauQA3YeR1sY9uzagR4+OqtTb229REkPXRsor282i2Bq/b6i7I13IgwPdMXP6WHVH5B6K4eF+Gr9IF0JamRjzyRi+5k3rqfWLCzGM66PHAIktLVi0ugXKc+bNnaIuo5MnDFN5dznnIN9WR5T+94SAtYOj4x64SZ+i3N+/F4379wV3IzXujvLCRDOMR6WLMt1amVGW/ez+PWOfTss3/FHwU6SU+5QG+l1SAnP/HjO6OoFbkZB4b920XBcCuMUJM9jWE+JTtOg3ePedt3TblMKFC6nVdPKkEVLHIYiM9NN2qlqlvGY9JgncunklHI7s0fbcLmSyatVv0adPZ00yRGum301XzehKF1bew0RCZ0/bK/GieystfYzvbVi/tsYOE99V+VbDDGg9/eLzT7Ud3n33bbXal5H2ZwIsZqQ9eWKvENxLCA7yhJvrCU08VOnbsrq9UYD/ZQT6X1HLJq3ln3/+icYeV6hQSmOKX+F+vE3q4tQpR4SE+GvWXMbKMp62bdtmmkApPsYfd6WcHFeZvZZtTxnReNi7sdKnwuF0Yh969+ykBJ5EkUm+SCi5CEhvALosMwkXiTcTOGWlh6rVnXHULC+/h9/48ssv6YKKt+c5vY/jF99L+WYdMeswXZFpOXWUvkdXeZJOS9I7lovxucxoTdBtXbNPi5ynCnFl7oE5syeo2zFdnkl26ZXAPsoFGpafCwpMXvXZZ/kxS9qZz+biKJ/9R5N7EyZMmDBh4r8D8g5u+3JdCWlmerzhsnvyiOhRi7Fv9yrVNejJFx97By5nDcvpPrsV8L1xQS2nMVFh8BA9JdD76IPsuz97S5gek3bhnNN2RIW4igJsEDhDof71ILEiGCPKmE8q6Px4g4lfxx2tgBtqwVFLk7zfcs5yr7GSbaTyt743N4zjvN5PLbF0p3zc9X9ksMxUEOkqmpuUXnQ5jCMHNuOqKN5UpCxuZ39diJyEeYnc3hSSmYuUujvh1PFdcLt0VIjbYVXcGQvIrKfsRPFxIXBxdtA9HEkAaTGhIk7rDy1c/J2REa2xirRwUYmnq+L8uZPV1Tw6isp7uJaDCya5y2aRSS6M3BNS6H31NOaK0rxWyGdwkJfGFe7fuwEr5dnnnY9ooi+S1L69u2gCJSr/JAeUY8pDPBX4jAjcuO4iZZii25jwHVkZkXB0sNPvuuByFPfuxcn7SNz8EUXSTmSXieSWLvUnT+xRwkVs37ZSrbm07HFbGOtv+COAAyX/JibkTnTkilNOe3D0yDYE3LyoJIceE3SZJsnfJOSPVjm2LclRrx4d0L1rO7VC03WTcZMkl4yv5TY7HDPCQ69rXHrfXp3V+uhwcLvIwh3cvZsgg3S4JjCivNjtXKPuviQ0rGvKCPeXZQZbupC6y8DMcY2WQHp4kGgxq++5swc1e23/fl3V5ZrusX16d9by0frHJEnM4Mu9Srm9EMlXRnqEvCNJ98XdbbcWi+ZP0YU3Wg7v3Y3XRD8Oh7Zh4oRh+n7ez+fymYeF6KUkhUvdhelWQ3SJbd+uhZaHhIzyyzHkoXFS5EXHTpHd9LQwJMg30GI/ddIoXazhuMNxln+5xRFDMFavmqshFoyjpgWV1v0b15x1qySWhTH+tOhv3mi44ybJMy3v5buMssj3CEEmKKOcNx6UScA+wIVHi2cC+ziPMf8A+xjnr+NHd2X35616LduAY+dJIdaMM6XVnF45kyeNVDLN/Yb5LSyD9btMmDBhwoSJvwos+mpCXJDoiTG4E3EbZ9Vl18iy63P9vIauMc8Kkxpt37xULaQ3vF1E945FTIwcPyNk1G4ZvH9u9t3ns0npa2290XX8Dpw5tgVRty/KpO6brZQahfv1oDJ5TZQDxvT4Ik6UhOg7xjHLeQbSxotiwPMxkTn3WN/Lvfrioi33Wt9vwMjUa9zD8vM7jOuNY7mv/6MjMtwLd0I9pV5EucsmpVTCY+TchXMHcWjfBlxxPar1xjq19Yy/DrwRGXpVM+GmpsYhMzMFyUJKWTfcCubIgY3SUfYLgbgqCqyn/PVAlNSvITNyr/wm6YkTuWEsMxXhpDg/BX8TlCfKUqRcz+eE3rqi9xsyKx1ansGy8JhFFq1lMlpABZpKMu8Pu31F32spA69jGXiO8YchAlp/KfeUf/7W66UM3JOUsh0h3xymyb+4ECP9Q67jooVlGxEee1A2hdF3eIzl5n1h8h0R8k4to/xfy5/91yj7HwOR4Z7y11uJVVZmqpLSZFpK/S/h5DE7IY6bEeB7Xttcv1nvke/Vb5ZnyF/W1+0gNyFElx98d/htD23LO3LOaCfWF9uBe7e6aTuwLpLjaRWkyyrbgvJiwFKnOn5Jm1juC73lLrKWIxOWMvBaDvxGOxtlMa5nGQzZDAnmcbcHz+GCC9ubGZv5bQ/eLc/S41yY0jHbW58RGuyuzw2Rv/w/z1Em6Pptee9tOc/ykMTpN8m9hLa/pbxaVi720HJqvDtM6itCnmlc/7CsWNe38RyjrJR1fafUJe9VEmq5Ru5n3Aqfx3LSU4cLKcnsh5R9/S6jHi1l4j2UX+v5wnie8Q1ETlkE2WXku1knD+pb6jVaJ2Fel1OmnHeZMGHChAkTfwHofElP1EAkJUYgLDRIvQm3b16CA/vWKfFMSYpEdFQYzp1xxPYtzL67VmNIkxMjZZ7l8aPYsWUZjtqvRqj/CRxyDjSy75b9CVL6dAlfPNfsDv5PSOkb7a6j//S98Di/GylR7shM9kdqoh9S4n3zFMlxhI/C9nnLuZ86/+NztvBzr/+jgWVPirmBjOTbuH8vBffuJsjvACTHXoO3mwPOntgBv2unkZHkj/SkvG+vPxekrWOuIy3RH/ey4rW+MlNuITXBB/7XTmldXb18ROuKwde6tURWCNJFzpNjb6jM424o7qUHG3Ijxyzyo78Feu/dELkmCFkpgXr/fbk+Vd6dFHtdy2C7bNlge/I50oZ81/2M21I+4zjfy2fz3N00brHBZD13ADnO5/K+nGcZZWLZWQZk3tbjyXE3cI/3ZoXKtwdmf4PgwX050OOCu6nyHch+V8YtpCXc1PtyX/9HAMvLv5lpUtb7achKj5R2C0BkiCtcXfbD5fQu3Lntpu3EOuK3QOqY9fOgXi3f+gBW/78fLvURlP39PtI+TKpjnJdMd18AAAfXSURBVGe9GrJwXdvCaH9pQ20fXz3Gc4aMhBnPkzbOELnSc9llZ5sj67a2D99lPJ/yaF2eXGW8F67PZbmSRMZT5TmGvEg7czyQZ1P+kqXMhuxwr1qr++V599JvZZefbW713nSRnWy5tNSzLWidyHX6/HthRj3xeQLLeZXHTEMeVY60XDekT2Yfty6T1EOayL5R11bvsZojcvBwWXKuzXn/A2Qf02+U9rG0W5KUheVhveN+dvsQljbPfu9DzzJhwoQJEyb+IqAOk5YUIFwjBskJYbhy6Rj22y2Fo/1KBPicQUZ6NDJSo+Hp5iTHl+lx/xsnkZkeo1ZVT7eT2L9rORwPrMYt32Ny3AvHXYNQsncc/qak1FNIqd2jSOlNPNs0Ak/9EIn3u/pj4Y6ryJBCGZM1E1TECYwtA/IexjYAJn4KrCciScBsmUK20nyRleSFhDtXEBvhhbsp2RvG/6bt9WcA64nZvlgX3NIiRRRuISJJ3kiK8kBs+FWkxQsZ1GuZfdS6viz1bPm/5Vju/+c+lvvco85b8KhrrI9Zfj9J+Wwdy/3/3MdsncstO4+65/eGpVzStuwPQtzvp8ogGueBuAgPxEfdECJiGb9y3/sksNTDT9VN7vqxHMt9/KfOEbmfbwu85nHPyX3ucc+0dY31vY+CrWusj/3UeVv4qfO/BLaeaTlm612568H6nAkTJkyYMPFXAedAzonxyEjyQ9B1R3i77kaI3wlkJYt+BcMQEHTjuB4P5fGka3I8CplJgQj2OQ4v1z16PdI85bgvzlyhpZRbwsQh3zdejyClT7vi38V88VyDMPyzZTg+7BWGsdtj4eyTgXPXM3H6WhbOeOc9Tntl4aTnXcE9nPSSvyaeEEZ9OV5OwL4zgdh32h9HLkbBySNDjt83zpt1KmAd3MMpqZPj7ik4cO429p3yw0GXMBy/kvrgPOvKSeSQsNzrROQ6ZguWa570+kch973W/7f8tj72KOS+5sH/f+I+CyzXP7jPxjV/NJzyvi9lzdQ+sFfad/+ZIDi6xmf3AaN9jbZ++Lusv/ORsHpP7nOW47nPWR9nvT90Ltd56+PW1/0UrJ+hz8l+1o+O57rPGg+ue9TxJ8BP3feoc9b3PeqavMTj+qd1GRS5zpswYcKECRN/PYhudTUTDpdilWvsOemLvcI3+Nv+XLDo1MGibwWq3kXYn5XjZ+W4gMf36HF//e1wPhinLgdh+vYQfNaeW8KEId/Xl5Ev/3YhpQuQ7yULKW0dgHz/cce/Ct/E87VD8FLrSLzZIxrfDI1GpZGxqDAkAeUHJf4mKDcwGaX7pgtrzkAp/jXxkzDqKw0l+6SiRK9EFO0WoyjVJxll+2eiTD/WZVo2fnz/Xw5SV6VYV72TUKx7rNRVtNRbAsr0z0CZAZnZ11nqK3ed2TqWG9b3Psn1vzVyl+Hnlsv6+ie95/cG+0MKiveMRxFp32Ld41C6XwrKSfuW6Wect7725+NR91qO/5bI/U4LHnfdo47nhvV1vxUe9S7rcjzqGhMmTJgwYcLE74MM5RrFeyagaPcY0Z3jRJ9OVB26WI9Y1beM4/Eo1TsRJXlc9Owi3aJyjmdfX6JnnJyPFUIajf/UDEW+kt7I95UT8n24BfleX4h8Lz8gpYHI98xV/LOwH56reguvtAjHy+0i8e/Gt/H37wLx94q38dS3oYKQvEeFMDxVNlIYM1lzHqO0PPd/EE89+H1HwG/lfj8xeEr+PiXfnXP+MSjzG4Pl+s3A5/9CaF2xnrLrSsv634St78lD5G6HPAff8RvBZn39HEh/0GdZ2pjt+4T94dfC8g2/BWy9L69g6315CVvvzFPwHX9G2PqWPxNsfVNewtY78xA2x7Y8gM1vyUvwHX9G2PqWvIStd/6ZYOub8gi25DSvYOt9eQq+47eErXfmFWy9Ly9h652/FbLfR72qrHCNsrH6l7zjgb71RMdjjXPl7iBfWT/kK3YJ+b50QL4PSEoXW5NSH+T7jzP+8ZUr/l3aDc9854H/1LiK/6vojnwl5KairshXWFDkN0Dhy8j3jbzn6yt5j0Ly3P916Ld6CK7+vG/++jdGIZbltwKf/wvwUF3x76941i+G9Xf8BrDVFnkKvuM3gs36+plgu37zO7Rv7m/JS9h6X17B1vvyErbemafgO/6MsPUtfybY+qa8hK135iFsjm15AJvfkpfgO/6MsPUteQlb7/wzwdY35RFsyWlewdb78hR8x28JW+/MK9h6X17C1jt/QzzQnX8NPA0UlucVuSDPdUK+z+yFlG7ORUpbCTn8px2e+nAXnvpkB/7+md0DPPXZTjz16Q78Lb9AzuU9dhrpgE38d5H/Twxb35OXsPXOvIKt9+UlbL0zL2HrnX8G2PqWvIStd5qwXVd/Jtj6pryArXflJWy904QJEybyErbGnryErXea+B+AHfJ9LH8/2mFYSd9Zm+2+O9NCSk8g31OLkO81OfjaPOR7dT7yvZIN/v6zgtmcTNiGrfr6s8DW9+QlbL0zr2DrfXkJW+/8s8DW9+QVbL3vzwJb35NXsPU+EzmwVWd5AVvvykvYeqeJHNiqs7yArXeZMPF7wpac/llg63tM/A9ggUD45uvCO2khJSF9da6Q0lkWUnoY+fLNQL6XhKW+ON1Iy2vChAkTJkyYMGHChAkTJkzkJeiu+wBCSF+ehf8Pfk7Et0uZVysAAAAASUVORK5CYII=)"
      ],
      "metadata": {
        "id": "hFOwjHWLCmbS"
      }
    },
    {
      "cell_type": "markdown",
      "source": [
        "#7.5.2 使用自訂的標頭檔：prog7_17 (Page 7-30, 7-31)\n",
        "\n",
        "下面的程式碼是以標頭檔area.h為例，計算三角形的面積的範例：\n"
      ],
      "metadata": {
        "id": "smpgNgdioxUA"
      }
    },
    {
      "cell_type": "code",
      "source": [
        "%%writefile ./area.h\n",
        "#define PI 3.14\n",
        "#define CIRCLE(r) ((PI)*(r)*(r))\n",
        "#define RECTANGLE(length,height) ((length)*(height))\n",
        "#define TRIANGLE(base,height) ((base)*(height)/2)"
      ],
      "metadata": {
        "id": "kRM2UPKjDBBX"
      },
      "execution_count": null,
      "outputs": []
    },
    {
      "cell_type": "code",
      "metadata": {
        "id": "ipLvzt9aoxUA"
      },
      "source": [
        "%%cuda\n",
        "// prog7_17, 使用自訂的標頭檔area.h\n",
        "#include <iostream>\n",
        "#include <cstdlib>\n",
        "using namespace std;\n",
        "#include \"/content/area.h\"\n",
        "int main(void)\n",
        "{\n",
        "   float base,height;\n",
        "   cout << \"Input the base of triangle:\";\n",
        "   cin >> base;\n",
        "   cout << \"Input the height of triangle:\";\n",
        "   cin >> height;\n",
        "   // 計算三角形面積\n",
        "   cout << \"The area of triangle is \" << TRIANGLE(base,height) << endl;\n",
        "   // system(\"pause\");\n",
        "   return 0;\n",
        "}"
      ],
      "execution_count": null,
      "outputs": []
    },
    {
      "cell_type": "code",
      "source": [
        "%%writefile prog7_17.cpp\n",
        "// prog7_17, 使用自訂的標頭檔area.h\n",
        "#include <iostream>\n",
        "#include <cstdlib>\n",
        "using namespace std;\n",
        "#include \"/content/area.h\"\n",
        "int main(void)\n",
        "{\n",
        "   float base,height;\n",
        "   cout << \"Input the base of triangle:\";\n",
        "   cin >> base;\n",
        "   cout << \"Input the height of triangle:\";\n",
        "   cin >> height;\n",
        "   // 計算三角形面積\n",
        "   cout << \"The area of triangle is \" << TRIANGLE(base,height) << endl;\n",
        "   // system(\"pause\");\n",
        "   return 0;\n",
        "}"
      ],
      "metadata": {
        "id": "I43lhkj8DpBi"
      },
      "execution_count": null,
      "outputs": []
    },
    {
      "cell_type": "code",
      "source": [
        "!g++ prog7_17.cpp -o prog7_17"
      ],
      "metadata": {
        "id": "G8HsKb1eDpBj"
      },
      "execution_count": null,
      "outputs": []
    },
    {
      "cell_type": "code",
      "source": [
        "!./prog7_17"
      ],
      "metadata": {
        "id": "HSWVM9SWDpBj"
      },
      "execution_count": null,
      "outputs": []
    },
    {
      "cell_type": "markdown",
      "source": [
        "#7.6 命令列引數的使用：prog7_18 (Page 7-33, 7-34)\n",
        "\n",
        "下面的程式是命令列引數的使用範例："
      ],
      "metadata": {
        "id": "Jp-brhDvq4Z7"
      }
    },
    {
      "cell_type": "code",
      "source": [
        "%%writefile prog7_18.cpp\n",
        "// prog7_18, 命令列引數的使用\n",
        "#include <iostream>\n",
        "#include <cstdlib>\n",
        "using namespace std;\n",
        "int main(int argc, char *argv[])\n",
        "{\n",
        "   int i ;\n",
        "   cout << \"The value of argc is \" << argc;  // 印出命令列引數的內容\n",
        "   cout << endl;\n",
        "   for(i=0;i<argc;i++)\n",
        "      cout << \"argv[\" << i << \"]=\" << argv[i] << endl;\n",
        "   // system(\"pause\");\n",
        "   return 0;\n",
        "}"
      ],
      "metadata": {
        "id": "xyS1AZyCGcC6"
      },
      "execution_count": null,
      "outputs": []
    },
    {
      "cell_type": "code",
      "source": [
        "!g++ prog7_18.cpp -o prog7_18"
      ],
      "metadata": {
        "id": "D1DGup0oGcC6"
      },
      "execution_count": null,
      "outputs": []
    },
    {
      "cell_type": "code",
      "source": [
        "!./prog7_18 How do you do"
      ],
      "metadata": {
        "id": "__2YHc5SGcC6"
      },
      "execution_count": null,
      "outputs": []
    },
    {
      "cell_type": "markdown",
      "source": [
        "#7.6 命令列引數的使用：prog7_19 (Page 7-34, 7-35)\n",
        "\n",
        "下面的程式是另一個命令列引數的使用範例："
      ],
      "metadata": {
        "id": "UnH08owTFswQ"
      }
    },
    {
      "cell_type": "code",
      "source": [
        "%%writefile prog7_19.cpp\n",
        "// prog7_19, 命令列引數的使用\n",
        "#include <iostream>\n",
        "#include <cstdlib>\n",
        "using namespace std;\n",
        "int main(int argc, char *argv[])\n",
        "{\n",
        "   int a = atoi(argv[1]); // 將命令列引數轉換成數值\n",
        "   int b = atoi(argv[2]);\n",
        "   cout << a << \"+\" << b << \"=\" << a + b << endl;\n",
        "   // system(\"pause\");\n",
        "   return 0;\n",
        "}"
      ],
      "metadata": {
        "id": "wPknrnriHEdB"
      },
      "execution_count": null,
      "outputs": []
    },
    {
      "cell_type": "code",
      "source": [
        "!g++ prog7_19.cpp -o prog7_19"
      ],
      "metadata": {
        "id": "gTLIvCs9HEdC"
      },
      "execution_count": null,
      "outputs": []
    },
    {
      "cell_type": "code",
      "source": [
        "!./prog7_19 2 5"
      ],
      "metadata": {
        "id": "X9XQ7OduHEdC"
      },
      "execution_count": null,
      "outputs": []
    },
    {
      "cell_type": "markdown",
      "source": [
        "\n",
        "\n",
        "---\n",
        "\n"
      ],
      "metadata": {
        "id": "RADze259BV9b"
      }
    },
    {
      "cell_type": "markdown",
      "source": [
        "# 習題：7.1 參照與函數：\n"
      ],
      "metadata": {
        "id": "NkBJMO30kmeT"
      }
    },
    {
      "cell_type": "markdown",
      "source": [
        "\n",
        "### hw7_1. 試利用void sum(int &,int &) 函數，傳入a、b兩個整數，於函數中計算a+b之值，並將計算結果存入a中。a與b的值請自行設定：\n",
        "\n"
      ],
      "metadata": {
        "id": "Jtms45hNuykn"
      }
    },
    {
      "cell_type": "code",
      "metadata": {
        "id": "11iT6dDWuykn"
      },
      "source": [
        "%%cuda\n",
        "// hw7_1, 班級: 資工一  學號: xxx 姓名: xxx\n",
        "#include <iostream>\n",
        "#include <cstdlib>\n",
        "using namespace std;\n",
        "void sum(int &,int &);\n",
        "int main(void)\n",
        "{\n",
        "   int a=6, b=10;\n",
        "   sum(a, b);\n",
        "   cout << \"a=\" << a << \", b=\" << b << endl;\n",
        "\n",
        "   // system(\"pause\");\n",
        "   return 0;\n",
        "}\n",
        "\n",
        "void sum(   ,    )\n",
        "{\n",
        "\n",
        "}\n",
        "\n",
        "/* output-------\n",
        "a=16, b=10\n",
        "--------------*/"
      ],
      "execution_count": null,
      "outputs": []
    },
    {
      "cell_type": "code",
      "source": [
        "%%writefile hw7_1.cpp\n",
        "// hw7_1, 班級: 資工一  學號: xxx 姓名: xxx\n",
        "#include <iostream>\n",
        "#include <cstdlib>\n",
        "using namespace std;\n",
        "void sum(int &,int &);\n",
        "int main(void)\n",
        "{\n",
        "   int a=6, b=10;\n",
        "   sum(a, b);\n",
        "   cout << \"a=\" << a << \", b=\" << b << endl;\n",
        "\n",
        "   // system(\"pause\");\n",
        "   return 0;\n",
        "}\n",
        "\n",
        "void sum(   ,    )\n",
        "{\n",
        "\n",
        "}\n",
        "\n",
        "/* output-------\n",
        "a=16, b=10\n",
        "--------------*/"
      ],
      "metadata": {
        "id": "7v8mOKvGKZxj"
      },
      "execution_count": null,
      "outputs": []
    },
    {
      "cell_type": "code",
      "source": [
        "!g++ hw7_1.cpp -o hw7_1"
      ],
      "metadata": {
        "id": "QCU409N4KZxk"
      },
      "execution_count": null,
      "outputs": []
    },
    {
      "cell_type": "code",
      "source": [
        "!./hw7_1"
      ],
      "metadata": {
        "id": "5xCvPU8lKZxk"
      },
      "execution_count": null,
      "outputs": []
    },
    {
      "cell_type": "markdown",
      "source": [
        "\n",
        "### hw7_2. 試撰寫一函數，將引數a、b以大到小排列。其函數的原型為\n",
        "void sort(int &,int &);：\n",
        "\n"
      ],
      "metadata": {
        "id": "tchIZJCewQK8"
      }
    },
    {
      "cell_type": "code",
      "metadata": {
        "id": "eIMcdiXjwQK8"
      },
      "source": [
        "%%cuda\n",
        "// hw7_2, 班級: 資工一  學號: xxx 姓名: xxx\n",
        "#include <iostream>\n",
        "#include <cstdlib>\n",
        "using namespace std;\n",
        "void sort(int &,int &);\n",
        "int main(void)\n",
        "{\n",
        "   int a=6, b=10;\n",
        "   cout << \"排序前，a=\" << a << \", b=\" << b << endl;\n",
        "   sort(a,b);\n",
        "   cout << \"排序後，a=\" << a << \", b=\" << b << endl;\n",
        "\n",
        "   // system(\"pause\");\n",
        "   return 0;\n",
        "}\n",
        "\n",
        "void sort(    ,     )\n",
        "{\n",
        "\n",
        "\n",
        "\n",
        "\n",
        "\n",
        "\n",
        "\n",
        "}\n",
        "\n",
        "/* output---------\n",
        "排序前，a=6, b=10\n",
        "排序前，a=10, b=6\n",
        "----------------*/"
      ],
      "execution_count": null,
      "outputs": []
    },
    {
      "cell_type": "code",
      "source": [
        "%%writefile hw7_2.cpp\n",
        "// hw7_2, 班級: 資工一  學號: xxx 姓名: xxx\n",
        "#include <iostream>\n",
        "#include <cstdlib>\n",
        "using namespace std;\n",
        "void sort(int &,int &);\n",
        "int main(void)\n",
        "{\n",
        "   int a=6, b=10;\n",
        "   cout << \"排序前，a=\" << a << \", b=\" << b << endl;\n",
        "   sort(a,b);\n",
        "   cout << \"排序後，a=\" << a << \", b=\" << b << endl;\n",
        "\n",
        "   // system(\"pause\");\n",
        "   return 0;\n",
        "}\n",
        "\n",
        "void sort(    ,     )\n",
        "{\n",
        "\n",
        "\n",
        "\n",
        "\n",
        "\n",
        "\n",
        "\n",
        "}\n",
        "\n",
        "/* output---------\n",
        "排序前，a=6, b=10\n",
        "排序前，a=10, b=6\n",
        "----------------*/"
      ],
      "metadata": {
        "id": "q-D3o24fwQK9"
      },
      "execution_count": null,
      "outputs": []
    },
    {
      "cell_type": "code",
      "source": [
        "!g++ hw7_2.cpp -o hw7_2"
      ],
      "metadata": {
        "id": "GxUzn2lwwQK9"
      },
      "execution_count": null,
      "outputs": []
    },
    {
      "cell_type": "code",
      "source": [
        "!./hw7_2"
      ],
      "metadata": {
        "id": "uah2LSmhwQK9"
      },
      "execution_count": null,
      "outputs": []
    },
    {
      "cell_type": "markdown",
      "source": [
        "\n",
        "### hw7_3. 試撰寫一函數gcd()，傳入a、b、g三個整數之參照，計算a與b的最大公因數，再設給g存放，並於呼叫gcd()後，印出g的值。請計算21與49的最大公因數。：\n",
        "\n"
      ],
      "metadata": {
        "id": "znZl-vAAw108"
      }
    },
    {
      "cell_type": "code",
      "metadata": {
        "id": "LaHJtaiTw109"
      },
      "source": [
        "%%cuda\n",
        "// hw7_3, 班級: 資工一  學號: xxx 姓名: xxx\n",
        "#include <iostream>\n",
        "#include <cstdlib>\n",
        "using namespace std;\n",
        "\n",
        "int main(void)\n",
        "{\n",
        "   int x = 21, y = 49, g;\n",
        "   cout << \"The GCD of \" << x << \" and \" << y << \" is \";\n",
        "   gcd(x, y, g);\n",
        "   cout << g << endl;\n",
        "\n",
        "   // system(\"pause\");\n",
        "   return 0;\n",
        "}\n",
        "\n",
        "void gcd(    ,    ,    )\n",
        "{\n",
        "\n",
        "\n",
        "\n",
        "\n",
        "\n",
        "\n",
        "\n",
        "}\n",
        "\n",
        "/* output------------------\n",
        "The GCD of 21 and 49 is 7\n",
        "-------------------------*/"
      ],
      "execution_count": null,
      "outputs": []
    },
    {
      "cell_type": "code",
      "source": [
        "%%writefile hw7_3.cpp\n",
        "// hw7_3, 班級: 資工一  學號: xxx 姓名: xxx\n",
        "#include <iostream>\n",
        "#include <cstdlib>\n",
        "using namespace std;\n",
        "\n",
        "int main(void)\n",
        "{\n",
        "   int x = 21, y = 49, g;\n",
        "   cout << \"The GCD of \" << x << \" and \" << y << \" is \";\n",
        "   gcd(x, y, g);\n",
        "   cout << g << endl;\n",
        "\n",
        "   // system(\"pause\");\n",
        "   return 0;\n",
        "}\n",
        "\n",
        "void gcd(    ,    ,    )\n",
        "{\n",
        "\n",
        "\n",
        "\n",
        "\n",
        "\n",
        "\n",
        "\n",
        "}\n",
        "\n",
        "/* output------------------\n",
        "The GCD of 21 and 49 is 7\n",
        "-------------------------*/"
      ],
      "metadata": {
        "id": "Mbe7mqoBw109"
      },
      "execution_count": null,
      "outputs": []
    },
    {
      "cell_type": "code",
      "source": [
        "!g++ hw7_3.cpp -o hw7_3"
      ],
      "metadata": {
        "id": "hcP0Fgnbw109"
      },
      "execution_count": null,
      "outputs": []
    },
    {
      "cell_type": "code",
      "source": [
        "!./hw7_3"
      ],
      "metadata": {
        "id": "FsWHU7S6w109"
      },
      "execution_count": null,
      "outputs": []
    },
    {
      "cell_type": "markdown",
      "source": [
        "\n",
        "### hw7_4. 試撰寫一函數setvalue()，將a、b值傳入該函數後，將較小值的變數設為100，將較大值的變數設為10：\n",
        "\n"
      ],
      "metadata": {
        "id": "-JJSFjHExv-2"
      }
    },
    {
      "cell_type": "code",
      "metadata": {
        "id": "VmOXTGpLxv-3"
      },
      "source": [
        "%%cuda\n",
        "// hw7_4, 班級: 資工一  學號: xxx 姓名: xxx\n",
        "#include <iostream>\n",
        "#include <cstdlib>\n",
        "using namespace std;\n",
        "\n",
        "int main(void)\n",
        "{\n",
        "   int a=12, b=9;\n",
        "   cout << \"設值前，a=\" << a << \", b=\" << b << endl;\n",
        "   setvalue(a, b);\n",
        "   cout << \"設值後，a=\" << a << \", b=\" << b << endl;\n",
        "\n",
        "   // system(\"pause\");\n",
        "   return 0;\n",
        "}\n",
        "\n",
        "void setvalue(     ,     )\n",
        "{\n",
        "\n",
        "\n",
        "\n",
        "\n",
        "\n",
        "\n",
        "\n",
        "\n",
        "\n",
        "\n",
        "}\n",
        "\n",
        "/* output---------\n",
        "設值前，a=12, b=9\n",
        "設值後，a=10, b=100\n",
        "----------------*/"
      ],
      "execution_count": null,
      "outputs": []
    },
    {
      "cell_type": "code",
      "source": [
        "%%writefile hw7_4.cpp\n",
        "// hw7_4, 班級: 資工一  學號: xxx 姓名: xxx\n",
        "#include <iostream>\n",
        "#include <cstdlib>\n",
        "using namespace std;\n",
        "\n",
        "int main(void)\n",
        "{\n",
        "   int a=12, b=9;\n",
        "   cout << \"設值前，a=\" << a << \", b=\" << b << endl;\n",
        "   setvalue(a, b);\n",
        "   cout << \"設值後，a=\" << a << \", b=\" << b << endl;\n",
        "\n",
        "   // system(\"pause\");\n",
        "   return 0;\n",
        "}\n",
        "\n",
        "void setvalue(     ,     )\n",
        "{\n",
        "\n",
        "\n",
        "\n",
        "\n",
        "\n",
        "\n",
        "\n",
        "\n",
        "\n",
        "\n",
        "}\n",
        "\n",
        "/* output---------\n",
        "設值前，a=12, b=9\n",
        "設值後，a=10, b=100\n",
        "----------------*/"
      ],
      "metadata": {
        "id": "YoAaufA6xv-3"
      },
      "execution_count": null,
      "outputs": []
    },
    {
      "cell_type": "code",
      "source": [
        "!g++ hw7_4.cpp -o hw7_4"
      ],
      "metadata": {
        "id": "P59pXHj1xv-3"
      },
      "execution_count": null,
      "outputs": []
    },
    {
      "cell_type": "code",
      "source": [
        "!./hw7_4"
      ],
      "metadata": {
        "id": "hlTdV3Bwxv-3"
      },
      "execution_count": null,
      "outputs": []
    },
    {
      "cell_type": "markdown",
      "source": [
        "\n",
        "### hw7_5. 試撰寫一函數max()，傳入兩個整數，將較大值的參照傳回並列印出來：\n",
        "\n"
      ],
      "metadata": {
        "id": "Mv1JcUtlycbg"
      }
    },
    {
      "cell_type": "code",
      "metadata": {
        "id": "svijz7M_ycbh"
      },
      "source": [
        "%%cuda\n",
        "// hw7_5, 班級: 資工一  學號: xxx 姓名: xxx\n",
        "#include <iostream>\n",
        "#include <cstdlib>\n",
        "using namespace std;\n",
        "int &max(int &,int &);\n",
        "int main(void)\n",
        "{\n",
        "   int a = 16, b = 23;\n",
        "   cout << \"a = \" << a << \", b = \" << b << endl;\n",
        "   cout << max(a, b) << \"較大\" << endl;\n",
        "\n",
        "   // system(\"pause\");\n",
        "   return 0;\n",
        "}\n",
        "\n",
        "int &max(int &x, int &y)\n",
        "{\n",
        "\n",
        "\n",
        "\n",
        "\n",
        "}\n",
        "\n",
        "/* output---------\n",
        "a = 16, b = 23\n",
        "23較大\n",
        "----------------*/"
      ],
      "execution_count": null,
      "outputs": []
    },
    {
      "cell_type": "code",
      "source": [
        "%%writefile hw7_5.cpp\n",
        "// hw7_5, 班級: 資工一  學號: xxx 姓名: xxx\n",
        "#include <iostream>\n",
        "#include <cstdlib>\n",
        "using namespace std;\n",
        "int &max(int &,int &);\n",
        "int main(void)\n",
        "{\n",
        "   int a = 16, b = 23;\n",
        "   cout << \"a = \" << a << \", b = \" << b << endl;\n",
        "   cout << max(a, b) << \"較大\" << endl;\n",
        "\n",
        "   // system(\"pause\");\n",
        "   return 0;\n",
        "}\n",
        "\n",
        "int &max(int &x, int &y)\n",
        "{\n",
        "\n",
        "\n",
        "\n",
        "\n",
        "}\n",
        "\n",
        "/* output---------\n",
        "a = 16, b = 23\n",
        "23較大\n",
        "----------------*/"
      ],
      "metadata": {
        "id": "dRxJa8WOycbh"
      },
      "execution_count": null,
      "outputs": []
    },
    {
      "cell_type": "code",
      "source": [
        "!g++ hw7_5.cpp -o hw7_5"
      ],
      "metadata": {
        "id": "7A2Gpdazycbh"
      },
      "execution_count": null,
      "outputs": []
    },
    {
      "cell_type": "code",
      "source": [
        "!./hw7_5"
      ],
      "metadata": {
        "id": "lwHqt7g3ycbh"
      },
      "execution_count": null,
      "outputs": []
    },
    {
      "cell_type": "markdown",
      "source": [
        "# 習題：7.2 函數的多載  "
      ],
      "metadata": {
        "id": "xTCc23nKMciQ"
      }
    },
    {
      "cell_type": "markdown",
      "source": [
        "### hw7_6. 試撰寫max() 函數的多載，其中max引數的型態為int，且可以有兩個或三個引數，函數的傳回值為這些引數的最大值，傳回值的型態也是int：\n",
        "\n"
      ],
      "metadata": {
        "id": "l-SEFWfqyz-1"
      }
    },
    {
      "cell_type": "code",
      "metadata": {
        "id": "JXVG4jSVyz-2"
      },
      "source": [
        "%%cuda\n",
        "// hw7_6, 班級: 資工一  學號: xxx 姓名: xxx\n",
        "#include <iostream>\n",
        "#include <cstdlib>\n",
        "using namespace std;\n",
        "int max(int, int);\n",
        "int max(int, int, int);\n",
        "int main(void)\n",
        "{\n",
        "   cout << \"max(8,2)=\" << max(8,2) << endl;\n",
        "   cout << \"max(1,5,9)=\" << max(1,5,9) << endl;\n",
        "\n",
        "   // system(\"pause\");\n",
        "   return 0;\n",
        "}\n",
        "\n",
        "int max(int a, int b)\n",
        "{\n",
        "\n",
        "\n",
        "\n",
        "\n",
        "}\n",
        "\n",
        "int max(int a,int b,int c)\n",
        "{\n",
        "\n",
        "\n",
        "\n",
        "\n",
        "\n",
        "\n",
        "}\n",
        "\n",
        "/* output-----\n",
        "max(8,2)=8\n",
        "max(1,5,9)=9\n",
        "-------------*/"
      ],
      "execution_count": null,
      "outputs": []
    },
    {
      "cell_type": "code",
      "source": [
        "%%writefile hw7_6.cpp\n",
        "// hw7_6, 班級: 資工一  學號: xxx 姓名: xxx\n",
        "#include <iostream>\n",
        "#include <cstdlib>\n",
        "using namespace std;\n",
        "int max(int, int);\n",
        "int max(int, int, int);\n",
        "int main(void)\n",
        "{\n",
        "   cout << \"max(8,2)=\" << max(8,2) << endl;\n",
        "   cout << \"max(1,5,9)=\" << max(1,5,9) << endl;\n",
        "\n",
        "   // system(\"pause\");\n",
        "   return 0;\n",
        "}\n",
        "\n",
        "int max(int a, int b)\n",
        "{\n",
        "\n",
        "\n",
        "\n",
        "\n",
        "}\n",
        "\n",
        "int max(int a,int b,int c)\n",
        "{\n",
        "\n",
        "\n",
        "\n",
        "\n",
        "\n",
        "\n",
        "}\n",
        "\n",
        "/* output-----\n",
        "max(8,2)=8\n",
        "max(1,5,9)=9\n",
        "-------------*/"
      ],
      "metadata": {
        "id": "mL8TQHW9yz-2"
      },
      "execution_count": null,
      "outputs": []
    },
    {
      "cell_type": "code",
      "source": [
        "!g++ hw7_6.cpp -o hw7_6"
      ],
      "metadata": {
        "id": "KF4VWFvZyz-2"
      },
      "execution_count": null,
      "outputs": []
    },
    {
      "cell_type": "code",
      "source": [
        "!./hw7_6"
      ],
      "metadata": {
        "id": "cep5zkWRyz-3"
      },
      "execution_count": null,
      "outputs": []
    },
    {
      "cell_type": "markdown",
      "source": [
        "### hw7_7. 試撰寫min() 函數的多載，引數的型態為double，且可以有兩個或三個引數，函數的傳回值為這些引數的最小值，傳回值的型態也是double：\n",
        "\n"
      ],
      "metadata": {
        "id": "It-S3hsjzuhd"
      }
    },
    {
      "cell_type": "code",
      "metadata": {
        "id": "HmMBub1czuhd"
      },
      "source": [
        "%%cuda\n",
        "// hw7_7, 班級: 資工一  學號: xxx 姓名: xxx\n",
        "#include <iostream>\n",
        "#include <cstdlib>\n",
        "using namespace std;\n",
        "double min(double,double);\n",
        "double min(double,double,double);\n",
        "int main(void)\n",
        "{\n",
        "   cout << \"min(8.3,12.5)=\" << min(8.3,12.5) << endl;\n",
        "   cout << \"min(5.8,7.12,3.69)=\" << min(5.8,7.12,3.69) << endl;\n",
        "\n",
        "   // system(\"pause\");\n",
        "   return 0;\n",
        "}\n",
        "\n",
        "double min(double a,double b)\n",
        "{\n",
        "\n",
        "\n",
        "\n",
        "\n",
        "}\n",
        "\n",
        "double min(double a,double b,double c)\n",
        "{\n",
        "\n",
        "\n",
        "\n",
        "\n",
        "\n",
        "\n",
        "}\n",
        "\n",
        "/* output----------------\n",
        "min(8.3,12.5)=8.3\n",
        "min(5.8,7.12,3.69)=3.69\n",
        "-----------------------*/"
      ],
      "execution_count": null,
      "outputs": []
    },
    {
      "cell_type": "code",
      "source": [
        "%%writefile hw7_7.cpp\n",
        "// hw7_7, 班級: 資工一  學號: xxx 姓名: xxx\n",
        "#include <iostream>\n",
        "#include <cstdlib>\n",
        "using namespace std;\n",
        "double min(double,double);\n",
        "double min(double,double,double);\n",
        "int main(void)\n",
        "{\n",
        "   cout << \"min(8.3,12.5)=\" << min(8.3,12.5) << endl;\n",
        "   cout << \"min(5.8,7.12,3.69)=\" << min(5.8,7.12,3.69) << endl;\n",
        "\n",
        "   // system(\"pause\");\n",
        "   return 0;\n",
        "}\n",
        "\n",
        "double min(double a,double b)\n",
        "{\n",
        "\n",
        "\n",
        "\n",
        "\n",
        "}\n",
        "\n",
        "double min(double a,double b,double c)\n",
        "{\n",
        "\n",
        "\n",
        "\n",
        "\n",
        "\n",
        "\n",
        "}\n",
        "\n",
        "/* output----------------\n",
        "min(8.3,12.5)=8.3\n",
        "min(5.8,7.12,3.69)=3.69\n",
        "-----------------------*/"
      ],
      "metadata": {
        "id": "pWllY7ybzuhd"
      },
      "execution_count": null,
      "outputs": []
    },
    {
      "cell_type": "code",
      "source": [
        "!g++ hw7_7.cpp -o hw7_7"
      ],
      "metadata": {
        "id": "k7Zojdr9zuhe"
      },
      "execution_count": null,
      "outputs": []
    },
    {
      "cell_type": "code",
      "source": [
        "!./hw7_7"
      ],
      "metadata": {
        "id": "KA_4H6Fyzuhe"
      },
      "execution_count": null,
      "outputs": []
    },
    {
      "cell_type": "markdown",
      "source": [
        "### hw7_8. 試撰寫proverb() 函數的多載，用來列印數行字串。當沒有引數傳入函數時，即印出字串 \"Two heads are better than one.\"；當引數為整數k時，即印出k行上述字串：\n",
        "\n"
      ],
      "metadata": {
        "id": "1aJM89xl0KD6"
      }
    },
    {
      "cell_type": "code",
      "metadata": {
        "id": "cSpODOul0KD6"
      },
      "source": [
        "%%cuda\n",
        "// hw7_8, 班級: 資工一  學號: xxx 姓名: xxx\n",
        "#include <iostream>\n",
        "#include <cstdlib>\n",
        "using namespace std;\n",
        "void proverb(void);\n",
        "void proverb(int);\n",
        "int main(void)\n",
        "{\n",
        "   cout << \"呼叫proverb()...\" << endl;\n",
        "   proverb();\n",
        "   cout << endl << \"呼叫proverb(3)...\" << endl;\n",
        "   proverb(3);\n",
        "\n",
        "   // system(\"pause\");\n",
        "   return 0;\n",
        "}\n",
        "\n",
        "void proverb(void)\n",
        "{\n",
        "\tproverb(1);\n",
        "}\n",
        "\n",
        "void proverb(int k)\n",
        "{\n",
        "\n",
        "\n",
        "}\n",
        "\n",
        "/* output-------------------------\n",
        "呼叫proverb()...\n",
        "Two heads are better than one.\n",
        "\n",
        "呼叫proverb(3)...\n",
        "Two heads are better than one.\n",
        "Two heads are better than one.\n",
        "Two heads are better than one.\n",
        "--------------------------------*/"
      ],
      "execution_count": null,
      "outputs": []
    },
    {
      "cell_type": "code",
      "source": [
        "%%writefile hw7_8.cpp\n",
        "// hw7_8, 班級: 資工一  學號: xxx 姓名: xxx\n",
        "#include <iostream>\n",
        "#include <cstdlib>\n",
        "using namespace std;\n",
        "void proverb(void);\n",
        "void proverb(int);\n",
        "int main(void)\n",
        "{\n",
        "   cout << \"呼叫proverb()...\" << endl;\n",
        "   proverb();\n",
        "   cout << endl << \"呼叫proverb(3)...\" << endl;\n",
        "   proverb(3);\n",
        "\n",
        "   // system(\"pause\");\n",
        "   return 0;\n",
        "}\n",
        "\n",
        "void proverb(void)\n",
        "{\n",
        "\tproverb(1);\n",
        "}\n",
        "\n",
        "void proverb(int k)\n",
        "{\n",
        "\n",
        "\n",
        "}\n",
        "\n",
        "/* output-------------------------\n",
        "呼叫proverb()...\n",
        "Two heads are better than one.\n",
        "\n",
        "呼叫proverb(3)...\n",
        "Two heads are better than one.\n",
        "Two heads are better than one.\n",
        "Two heads are better than one.\n",
        "--------------------------------*/"
      ],
      "metadata": {
        "id": "PDqNEjTL0KD7"
      },
      "execution_count": null,
      "outputs": []
    },
    {
      "cell_type": "code",
      "source": [
        "!g++ hw7_8.cpp -o hw7_8"
      ],
      "metadata": {
        "id": "iD68F3wG0KD8"
      },
      "execution_count": null,
      "outputs": []
    },
    {
      "cell_type": "code",
      "source": [
        "!./hw7_8"
      ],
      "metadata": {
        "id": "0dyasHCg0KD8"
      },
      "execution_count": null,
      "outputs": []
    },
    {
      "cell_type": "markdown",
      "source": [
        "### hw7_9. 試撰寫一組可以計算梯形面積的多載化函數，格式為trapezoid(upper, base, height)，upper 、base與height可同為int或double，傳回值的型態皆為double：\n",
        "\n",
        "`（ 梯形面積 = (upper+base)* height/2 ）`\n"
      ],
      "metadata": {
        "id": "bSmvxNcf0v2H"
      }
    },
    {
      "cell_type": "code",
      "metadata": {
        "id": "VbM1fk660v2H"
      },
      "source": [
        "%%cuda\n",
        "// hw7_9, 班級: 資工一  學號: xxx 姓名: xxx\n",
        "#include <iostream>\n",
        "#include <cstdlib>\n",
        "using namespace std;\n",
        "double trapezoid(int,int,int);\n",
        "double trapezoid(double,double,double);\n",
        "int main(void)\n",
        "{\n",
        "   cout << \"梯形的上底為6, 下底為8, 高為3, \";\n",
        "   cout << \"面積為\" << trapezoid(6,8,3) << endl;\n",
        "   cout << \"梯形的上底為4.8, 下底為3.7, 高為2.5, \";\n",
        "   cout << \"面積為\" << trapezoid(4.8,3.7,2.5) << endl;\n",
        "\n",
        "   // system(\"pause\");\n",
        "   return 0;\n",
        "}\n",
        "\n",
        "double trapezoid(int upper,int base,int height)\n",
        "{\n",
        "\treturn                  ;\n",
        "}\n",
        "\n",
        "double trapezoid(double upper,double base,double height)\n",
        "{\n",
        "\treturn                  ;\n",
        "}\n",
        "\n",
        "/* output----------------------------------------\n",
        "梯形的上底為6, 下底為8, 高為3, 面積為21\n",
        "梯形的上底為4.8, 下底為3.7, 高為2.5, 面積為10.625\n",
        "-----------------------------------------------*/"
      ],
      "execution_count": null,
      "outputs": []
    },
    {
      "cell_type": "code",
      "source": [
        "%%writefile hw7_9.cpp\n",
        "// hw7_9, 班級: 資工一  學號: xxx 姓名: xxx\n",
        "#include <iostream>\n",
        "#include <cstdlib>\n",
        "using namespace std;\n",
        "double trapezoid(int,int,int);\n",
        "double trapezoid(double,double,double);\n",
        "int main(void)\n",
        "{\n",
        "   cout << \"梯形的上底為6, 下底為8, 高為3, \";\n",
        "   cout << \"面積為\" << trapezoid(6,8,3) << endl;\n",
        "   cout << \"梯形的上底為4.8, 下底為3.7, 高為2.5, \";\n",
        "   cout << \"面積為\" << trapezoid(4.8,3.7,2.5) << endl;\n",
        "\n",
        "   // system(\"pause\");\n",
        "   return 0;\n",
        "}\n",
        "\n",
        "double trapezoid(int upper,int base,int height)\n",
        "{\n",
        "\treturn                  ;\n",
        "}\n",
        "\n",
        "double trapezoid(double upper,double base,double height)\n",
        "{\n",
        "\treturn                  ;\n",
        "}\n",
        "\n",
        "/* output----------------------------------------\n",
        "梯形的上底為6, 下底為8, 高為3, 面積為21\n",
        "梯形的上底為4.8, 下底為3.7, 高為2.5, 面積為10.625\n",
        "-----------------------------------------------*/"
      ],
      "metadata": {
        "id": "nn2hm0TS0v2H"
      },
      "execution_count": null,
      "outputs": []
    },
    {
      "cell_type": "code",
      "source": [
        "!g++ hw7_9.cpp -o hw7_9"
      ],
      "metadata": {
        "id": "RN8fi5Gm0v2I"
      },
      "execution_count": null,
      "outputs": []
    },
    {
      "cell_type": "code",
      "source": [
        "!./hw7_9"
      ],
      "metadata": {
        "id": "AuiXD-sU0v2I"
      },
      "execution_count": null,
      "outputs": []
    },
    {
      "cell_type": "markdown",
      "source": [
        "### hw7_10. 試撰寫power(x,n) 函數的多載，用來計算x的n次方，n為int型態，當引數x的型態為int時，函數的傳回值型態為int；引數x的型態為double，函數的傳回值型態即為double：\n"
      ],
      "metadata": {
        "id": "sCoxS8vW1b7z"
      }
    },
    {
      "cell_type": "code",
      "metadata": {
        "id": "4k40blp81b7z"
      },
      "source": [
        "%%cuda\n",
        "// hw7_10, 班級: 資工一  學號: xxx 姓名: xxx\n",
        "#include <iostream>\n",
        "#include <cstdlib>\n",
        "using namespace std;\n",
        "int power(int,int);\n",
        "double power(double,int);\n",
        "int main(void)\n",
        "{\n",
        "   cout << \"power(5,3)=\" << power(5,3) << endl;\n",
        "   cout << \"power(2.5,2)=\" << power(2.5,2) << endl;\n",
        "\n",
        "   // system(\"pause\");\n",
        "   return 0;\n",
        "}\n",
        "\n",
        "int power(int x,int n)\n",
        "{\n",
        "\n",
        "\n",
        "\n",
        "\n",
        "}\n",
        "\n",
        "double power(double x,int n)\n",
        "{\n",
        "\n",
        "\n",
        "\n",
        "\n",
        "\n",
        "}\n",
        "\n",
        "/* output---------\n",
        "power(5,3)=125\n",
        "power(2.5,2)=6.25\n",
        "----------------*/"
      ],
      "execution_count": null,
      "outputs": []
    },
    {
      "cell_type": "code",
      "source": [
        "%%writefile hw7_10.cpp\n",
        "// hw7_10, 班級: 資工一  學號: xxx 姓名: xxx\n",
        "#include <iostream>\n",
        "#include <cstdlib>\n",
        "using namespace std;\n",
        "int power(int,int);\n",
        "double power(double,int);\n",
        "int main(void)\n",
        "{\n",
        "   cout << \"power(5,3)=\" << power(5,3) << endl;\n",
        "   cout << \"power(2.5,2)=\" << power(2.5,2) << endl;\n",
        "\n",
        "   // system(\"pause\");\n",
        "   return 0;\n",
        "}\n",
        "\n",
        "int power(int x,int n)\n",
        "{\n",
        "\n",
        "\n",
        "\n",
        "\n",
        "}\n",
        "\n",
        "double power(double x,int n)\n",
        "{\n",
        "\n",
        "\n",
        "\n",
        "\n",
        "\n",
        "}\n",
        "\n",
        "/* output---------\n",
        "power(5,3)=125\n",
        "power(2.5,2)=6.25\n",
        "----------------*/"
      ],
      "metadata": {
        "id": "U8z6QHLw1b7z"
      },
      "execution_count": null,
      "outputs": []
    },
    {
      "cell_type": "code",
      "source": [
        "!g++ hw7_10.cpp -o hw7_10"
      ],
      "metadata": {
        "id": "H85sftfb1b70"
      },
      "execution_count": null,
      "outputs": []
    },
    {
      "cell_type": "code",
      "source": [
        "!./hw7_10"
      ],
      "metadata": {
        "id": "UfcOvRHb1b70"
      },
      "execution_count": null,
      "outputs": []
    },
    {
      "cell_type": "markdown",
      "source": [
        "# 習題：7.3 引數的預設值"
      ],
      "metadata": {
        "id": "eogq8Dm5O4Jw"
      }
    },
    {
      "cell_type": "markdown",
      "source": [
        "### hw7_11. 11.\t試撰寫一函數int max(int a,int b)，引數為2個整數，傳回較大值。若是只傳入1個引數時，則將第2個引數的預設值設為10：\n",
        "\n"
      ],
      "metadata": {
        "id": "pfNZP1zr2lY_"
      }
    },
    {
      "cell_type": "code",
      "metadata": {
        "id": "SmTSvLiF2lZA"
      },
      "source": [
        "%%cuda\n",
        "// hw7_11, 班級: 資工一  學號: xxx 姓名: xxx\n",
        "#include <iostream>\n",
        "#include <cstdlib>\n",
        "using namespace std;\n",
        "\n",
        "int main(void)\n",
        "{\n",
        "   cout << \"max(5)=\" << max(5) << endl;\n",
        "   cout << \"max(5,3)=\" << max(5,3) << endl;\n",
        "\n",
        "   // system(\"pause\");\n",
        "   return 0;\n",
        "}\n",
        "\n",
        "int max(int a,int b)\n",
        "{\n",
        "   if(a>b)\n",
        "      return a;\n",
        "   else\n",
        "      return b;\n",
        "}\n",
        "\n",
        "/* output---------\n",
        "max(5)=10\n",
        "max(5,3)=5\n",
        "----------------*/"
      ],
      "execution_count": null,
      "outputs": []
    },
    {
      "cell_type": "code",
      "source": [
        "%%writefile hw7_11.cpp\n",
        "// hw7_11, 班級: 資工一  學號: xxx 姓名: xxx\n",
        "#include <iostream>\n",
        "#include <cstdlib>\n",
        "using namespace std;\n",
        "\n",
        "int main(void)\n",
        "{\n",
        "   cout << \"max(5)=\" << max(5) << endl;\n",
        "   cout << \"max(5,3)=\" << max(5,3) << endl;\n",
        "\n",
        "   // system(\"pause\");\n",
        "   return 0;\n",
        "}\n",
        "\n",
        "int max(int a,int b)\n",
        "{\n",
        "   if(a>b)\n",
        "      return a;\n",
        "   else\n",
        "      return b;\n",
        "}\n",
        "\n",
        "/* output---------\n",
        "max(5)=10\n",
        "max(5,3)=5\n",
        "----------------*/"
      ],
      "metadata": {
        "id": "5VgWucto2lZA"
      },
      "execution_count": null,
      "outputs": []
    },
    {
      "cell_type": "code",
      "source": [
        "!g++ hw7_11.cpp -o hw7_11"
      ],
      "metadata": {
        "id": "Vv8Efnhv2lZA"
      },
      "execution_count": null,
      "outputs": []
    },
    {
      "cell_type": "code",
      "source": [
        "!./hw7_11"
      ],
      "metadata": {
        "id": "ndkMM7eB2lZA"
      },
      "execution_count": null,
      "outputs": []
    },
    {
      "cell_type": "markdown",
      "source": [
        "### hw7_12. 試撰寫一函數int power(int x,int n)，用來計算x的n次方。預設的x與n值皆為1。請分別計算power()、power(5)、power(3,2)之值：\n",
        "\n"
      ],
      "metadata": {
        "id": "l2-Q9dwz3xzj"
      }
    },
    {
      "cell_type": "code",
      "metadata": {
        "id": "S3tvcmze3xzk"
      },
      "source": [
        "%%cuda\n",
        "// hw7_12, 班級: 資工一  學號: xxx 姓名: xxx\n",
        "#include <iostream>\n",
        "#include <cstdlib>\n",
        "using namespace std;\n",
        "\n",
        "int main(void)\n",
        "{\n",
        "   cout << \"power()=\" << power() << endl;\n",
        "   cout << \"power(5)=\" << power(5) << endl;\n",
        "   cout << \"power(3,2)=\" << power(3,2) << endl;\n",
        "\n",
        "   // system(\"pause\");\n",
        "   return 0;\n",
        "}\n",
        "\n",
        "int power(int x,int n)\n",
        "{\n",
        "   int p=1;\n",
        "   for(int i=0;i<n;i++)\n",
        "      p*=x;\n",
        "   return p;\n",
        "}\n",
        "\n",
        "/* output----------------\n",
        "power()=1\n",
        "power(5)=5\n",
        "power(3,2)=9\n",
        "-----------------------*/"
      ],
      "execution_count": null,
      "outputs": []
    },
    {
      "cell_type": "code",
      "source": [
        "%%writefile hw7_12.cpp\n",
        "// hw7_12, 班級: 資工一  學號: xxx 姓名: xxx\n",
        "#include <iostream>\n",
        "#include <cstdlib>\n",
        "using namespace std;\n",
        "\n",
        "int main(void)\n",
        "{\n",
        "   cout << \"power()=\" << power() << endl;\n",
        "   cout << \"power(5)=\" << power(5) << endl;\n",
        "   cout << \"power(3,2)=\" << power(3,2) << endl;\n",
        "\n",
        "   // system(\"pause\");\n",
        "   return 0;\n",
        "}\n",
        "\n",
        "int power(int x,int n)\n",
        "{\n",
        "   int p=1;\n",
        "   for(int i=0;i<n;i++)\n",
        "      p*=x;\n",
        "   return p;\n",
        "}\n",
        "\n",
        "/* output----------------\n",
        "power()=1\n",
        "power(5)=5\n",
        "power(3,2)=9\n",
        "-----------------------*/"
      ],
      "metadata": {
        "id": "DyuP9LM23xzk"
      },
      "execution_count": null,
      "outputs": []
    },
    {
      "cell_type": "code",
      "source": [
        "!g++ hw7_12.cpp -o hw7_12"
      ],
      "metadata": {
        "id": "BtqCJL3K3xzk"
      },
      "execution_count": null,
      "outputs": []
    },
    {
      "cell_type": "code",
      "source": [
        "!./hw7_12"
      ],
      "metadata": {
        "id": "f7LWSxg93xzk"
      },
      "execution_count": null,
      "outputs": []
    },
    {
      "cell_type": "markdown",
      "source": [
        "### hw7_13. 13.\t試撰寫一函數double avg(int a, int b,int c)，可以於函數中印出a、b、c的值，並傳回三個整數的平均值。預設的第二個引數值為5，預設的第三個引數值為7。請分別計算avg(13)、avg(9,16)、avg(8,17,3)之值："
      ],
      "metadata": {
        "id": "JUcGXuDs5n1S"
      }
    },
    {
      "cell_type": "code",
      "metadata": {
        "id": "bLyeOTS15n1T"
      },
      "source": [
        "%%cuda\n",
        "// hw7_13, 班級: 資工一  學號: xxx 姓名: xxx\n",
        "#include <iostream>\n",
        "#include <cstdlib>\n",
        "using namespace std;\n",
        "\n",
        "int main(void)\n",
        "{\n",
        "   cout << avg(13) << endl;\n",
        "   cout << avg(9,16) << endl;\n",
        "   cout << avg(8,17,3) << endl;\n",
        "\n",
        "   // system(\"pause\");\n",
        "   return 0;\n",
        "}\n",
        "\n",
        "   avg(    ,    ,    )\n",
        "{\n",
        "\n",
        "\n",
        "\n",
        "}\n",
        "\n",
        "/* output--------------------------\n",
        "a=13, b=5, c=7, average=8.33333\n",
        "a=9, b=16, c=7, average=10.6667\n",
        "a=8, b=17, c=3, average=9.33333\n",
        "---------------------------------*/"
      ],
      "execution_count": null,
      "outputs": []
    },
    {
      "cell_type": "code",
      "source": [
        "%%writefile hw7_13.cpp\n",
        "// hw7_13, 班級: 資工一  學號: xxx 姓名: xxx\n",
        "#include <iostream>\n",
        "#include <cstdlib>\n",
        "using namespace std;\n",
        "\n",
        "int main(void)\n",
        "{\n",
        "   cout << avg(13) << endl;\n",
        "   cout << avg(9,16) << endl;\n",
        "   cout << avg(8,17,3) << endl;\n",
        "\n",
        "   // system(\"pause\");\n",
        "   return 0;\n",
        "}\n",
        "\n",
        "   avg(    ,    ,    )\n",
        "{\n",
        "\n",
        "\n",
        "\n",
        "}\n",
        "\n",
        "/* output--------------------------\n",
        "a=13, b=5, c=7, average=8.33333\n",
        "a=9, b=16, c=7, average=10.6667\n",
        "a=8, b=17, c=3, average=9.33333\n",
        "---------------------------------*/"
      ],
      "metadata": {
        "id": "o09jrA_15n1T"
      },
      "execution_count": null,
      "outputs": []
    },
    {
      "cell_type": "code",
      "source": [
        "!g++ hw7_13.cpp -o hw7_13"
      ],
      "metadata": {
        "id": "kGJY73u15n1T"
      },
      "execution_count": null,
      "outputs": []
    },
    {
      "cell_type": "code",
      "source": [
        "!./hw7_13"
      ],
      "metadata": {
        "id": "AWlpUdaQ5n1T"
      },
      "execution_count": null,
      "outputs": []
    },
    {
      "cell_type": "markdown",
      "source": [
        "### hw7_14. 試撰寫一函數double triangle(int base,int height)，可以於函數中印出三角形的底與高之值，並傳回三角形面積。預設的base值為2，height值為1。請分別計算triangle()、triangle(10)、triangle(12,3)之值："
      ],
      "metadata": {
        "id": "YNeFIMdJ6pAT"
      }
    },
    {
      "cell_type": "code",
      "metadata": {
        "id": "2gZ6j7AD6pAT"
      },
      "source": [
        "%%cuda\n",
        "// hw7_14, 班級: 資工一  學號: xxx 姓名: xxx\n",
        "#include <iostream>\n",
        "#include <cstdlib>\n",
        "using namespace std;\n",
        "\n",
        "int main(void)\n",
        "{\n",
        "   cout << triangle() << endl;\n",
        "   cout << triangle(10) << endl;\n",
        "   cout << triangle(12,3) << endl;\n",
        "\n",
        "   // system(\"pause\");\n",
        "   return 0;\n",
        "}\n",
        "\n",
        "double triangle(int base,int height)\n",
        "{\n",
        "   cout << \"base=\" << base << \", height=\" << height;\n",
        "   cout << \", area=\";\n",
        "   return (base*height/2.0);\n",
        "}\n",
        "\n",
        "/* output--------------------------\n",
        "base=2, height=1, area=1\n",
        "base=10, height=1, area=5\n",
        "base=12, height=3, area=18\n",
        "---------------------------------*/"
      ],
      "execution_count": null,
      "outputs": []
    },
    {
      "cell_type": "code",
      "source": [
        "%%writefile hw7_14.cpp\n",
        "// hw7_14, 班級: 資工一  學號: xxx 姓名: xxx\n",
        "#include <iostream>\n",
        "#include <cstdlib>\n",
        "using namespace std;\n",
        "\n",
        "int main(void)\n",
        "{\n",
        "   cout << triangle() << endl;\n",
        "   cout << triangle(10) << endl;\n",
        "   cout << triangle(12,3) << endl;\n",
        "\n",
        "   // system(\"pause\");\n",
        "   return 0;\n",
        "}\n",
        "\n",
        "double triangle(int base,int height)\n",
        "{\n",
        "   cout << \"base=\" << base << \", height=\" << height;\n",
        "   cout << \", area=\";\n",
        "   return (base*height/2.0);\n",
        "}\n",
        "\n",
        "/* output--------------------------\n",
        "base=2, height=1, area=1\n",
        "base=10, height=1, area=5\n",
        "base=12, height=3, area=18\n",
        "---------------------------------*/"
      ],
      "metadata": {
        "id": "4fmj0rDa6pAT"
      },
      "execution_count": null,
      "outputs": []
    },
    {
      "cell_type": "code",
      "source": [
        "!g++ hw7_14.cpp -o hw7_14"
      ],
      "metadata": {
        "id": "THjKaU8Z6pAU"
      },
      "execution_count": null,
      "outputs": []
    },
    {
      "cell_type": "code",
      "source": [
        "!./hw7_14"
      ],
      "metadata": {
        "id": "zYPiz_Jn6pAU"
      },
      "execution_count": null,
      "outputs": []
    },
    {
      "cell_type": "markdown",
      "source": [
        "# 習題：7.4 前置處理器--#define  \n",
        "\n"
      ],
      "metadata": {
        "id": "gVS_-xJqQdik"
      }
    },
    {
      "cell_type": "markdown",
      "source": [
        "### hw7_15. 試利用#define指令，印出字串 \"Rome was not built in a day.\"："
      ],
      "metadata": {
        "id": "i4PMFh_v7NSe"
      }
    },
    {
      "cell_type": "code",
      "metadata": {
        "id": "L7eutIlj7NSe"
      },
      "source": [
        "%%cuda\n",
        "// hw7_15, 班級: 資工一  學號: xxx 姓名: xxx\n",
        "#include <iostream>\n",
        "#include <cstdlib>\n",
        "using namespace std;\n",
        "\n",
        "int main(void)\n",
        "{\n",
        "   cout << PROVERBS << endl;\n",
        "\n",
        "   // system(\"pause\");\n",
        "   return 0;\n",
        "}\n",
        "\n",
        "/* output--------------------\n",
        "Rome was not built in a day.\n",
        "---------------------------*/"
      ],
      "execution_count": null,
      "outputs": []
    },
    {
      "cell_type": "code",
      "source": [
        "%%writefile hw7_15.cpp\n",
        "// hw7_15, 班級: 資工一  學號: xxx 姓名: xxx\n",
        "#include <iostream>\n",
        "#include <cstdlib>\n",
        "using namespace std;\n",
        "\n",
        "int main(void)\n",
        "{\n",
        "   cout << PROVERBS << endl;\n",
        "\n",
        "   // system(\"pause\");\n",
        "   return 0;\n",
        "}\n",
        "\n",
        "/* output--------------------\n",
        "Rome was not built in a day.\n",
        "---------------------------*/"
      ],
      "metadata": {
        "id": "yJQWnEKN7NSe"
      },
      "execution_count": null,
      "outputs": []
    },
    {
      "cell_type": "code",
      "source": [
        "!g++ hw7_15.cpp -o hw7_15"
      ],
      "metadata": {
        "id": "3cp5sRRG7NSf"
      },
      "execution_count": null,
      "outputs": []
    },
    {
      "cell_type": "code",
      "source": [
        "!./hw7_15"
      ],
      "metadata": {
        "id": "lJ36FaOZ7NSf"
      },
      "execution_count": null,
      "outputs": []
    },
    {
      "cell_type": "markdown",
      "source": [
        "### hw7_16. 試定義巨集函數SUM，用來計算引數X與Y的和，並於程式中分別計算10+5與4.6+3.8之值："
      ],
      "metadata": {
        "id": "ZF7fKMgl8AQ-"
      }
    },
    {
      "cell_type": "code",
      "metadata": {
        "id": "7-QxAiUK8AQ-"
      },
      "source": [
        "%%cuda\n",
        "// hw7_16, 班級: 資工一  學號: xxx 姓名: xxx\n",
        "#include <iostream>\n",
        "#include <cstdlib>\n",
        "using namespace std;\n",
        "\n",
        "int main(void)\n",
        "{\n",
        "   int a=10, b=5;\n",
        "   double x=4.6, y=3.8;\n",
        "   cout << \"SUM(\" << a << \",\" << b << \")=\";\n",
        "   cout << SUM(a,b) << endl;\n",
        "   cout << \"SUM(\" << x << \",\" << y << \")=\";\n",
        "   cout << SUM(x,y) << endl;\n",
        "\n",
        "   // system(\"pause\");\n",
        "   return 0;\n",
        "}\n",
        "\n",
        "/* output---------\n",
        "SUM(10,5)=15\n",
        "SUM(4.6,3.8)=8.4\n",
        "----------------*/"
      ],
      "execution_count": null,
      "outputs": []
    },
    {
      "cell_type": "code",
      "source": [
        "%%writefile hw7_16.cpp\n",
        "// hw7_16, 班級: 資工一  學號: xxx 姓名: xxx\n",
        "#include <iostream>\n",
        "#include <cstdlib>\n",
        "using namespace std;\n",
        "\n",
        "int main(void)\n",
        "{\n",
        "   int a=10, b=5;\n",
        "   double x=4.6, y=3.8;\n",
        "   cout << \"SUM(\" << a << \",\" << b << \")=\";\n",
        "   cout << SUM(a,b) << endl;\n",
        "   cout << \"SUM(\" << x << \",\" << y << \")=\";\n",
        "   cout << SUM(x,y) << endl;\n",
        "\n",
        "   // system(\"pause\");\n",
        "   return 0;\n",
        "}\n",
        "\n",
        "/* output---------\n",
        "SUM(10,5)=15\n",
        "SUM(4.6,3.8)=8.4\n",
        "----------------*/"
      ],
      "metadata": {
        "id": "GP8csCgG8AQ-"
      },
      "execution_count": null,
      "outputs": []
    },
    {
      "cell_type": "code",
      "source": [
        "!g++ hw7_16.cpp -o hw7_16"
      ],
      "metadata": {
        "id": "6NAqvKz88AQ-"
      },
      "execution_count": null,
      "outputs": []
    },
    {
      "cell_type": "code",
      "source": [
        "!./hw7_16"
      ],
      "metadata": {
        "id": "_xK5jdRC8AQ-"
      },
      "execution_count": null,
      "outputs": []
    },
    {
      "cell_type": "markdown",
      "source": [
        "### hw7_17. 試利用條件運算子「?:」建立一個名為MAX的巨集，用來傳回2個引數中較大的值。並請分別比較12、6與3.6、9.7何者較大："
      ],
      "metadata": {
        "id": "9BTZNhl99JgN"
      }
    },
    {
      "cell_type": "code",
      "metadata": {
        "id": "fZ-T6AaW9JgO"
      },
      "source": [
        "%%cuda\n",
        "// hw7_17, 班級: 資工一  學號: xxx 姓名: xxx\n",
        "#include <iostream>\n",
        "#include <cstdlib>\n",
        "using namespace std;\n",
        "\n",
        "int main(void)\n",
        "{\n",
        "   int a=12, b=6;\n",
        "   double x=3.6, y=9.7;\n",
        "   cout << \"MAX(\" << a << \",\" << b << \")=\";\n",
        "   cout << MAX(a,b) << endl;\n",
        "   cout << \"MAX(\" << x << \",\" << y << \")=\";\n",
        "   cout << MAX(x,y) << endl;\n",
        "\n",
        "   // system(\"pause\");\n",
        "   return 0;\n",
        "}\n",
        "\n",
        "/* output----------\n",
        "MAX(12,6)=12\n",
        "MAX(3.6,9.7)=9.7\n",
        "-----------------*/"
      ],
      "execution_count": null,
      "outputs": []
    },
    {
      "cell_type": "code",
      "source": [
        "%%writefile hw7_17.cpp\n",
        "// hw7_17, 班級: 資工一  學號: xxx 姓名: xxx\n",
        "#include <iostream>\n",
        "#include <cstdlib>\n",
        "using namespace std;\n",
        "\n",
        "int main(void)\n",
        "{\n",
        "   int a=12, b=6;\n",
        "   double x=3.6, y=9.7;\n",
        "   cout << \"MAX(\" << a << \",\" << b << \")=\";\n",
        "   cout << MAX(a,b) << endl;\n",
        "   cout << \"MAX(\" << x << \",\" << y << \")=\";\n",
        "   cout << MAX(x,y) << endl;\n",
        "\n",
        "   // system(\"pause\");\n",
        "   return 0;\n",
        "}\n",
        "\n",
        "/* output----------\n",
        "MAX(12,6)=12\n",
        "MAX(3.6,9.7)=9.7\n",
        "-----------------*/"
      ],
      "metadata": {
        "id": "WbPTSpv59JgO"
      },
      "execution_count": null,
      "outputs": []
    },
    {
      "cell_type": "code",
      "source": [
        "!g++ hw7_17.cpp -o hw7_17"
      ],
      "metadata": {
        "id": "Quy1uq2Z9JgO"
      },
      "execution_count": null,
      "outputs": []
    },
    {
      "cell_type": "code",
      "source": [
        "!./hw7_17"
      ],
      "metadata": {
        "id": "RTOBQBxH9JgO"
      },
      "execution_count": null,
      "outputs": []
    },
    {
      "cell_type": "markdown",
      "source": [
        "### hw7_18. 試定義一巨集函數VOLUMN，傳入半徑，即可計算球的體積。 值請用#define定義成3.1415926，並計算當半徑為1~5時的球體積之值："
      ],
      "metadata": {
        "id": "uUg-IkbW9jV7"
      }
    },
    {
      "cell_type": "markdown",
      "source": [
        "\n",
        "\n",
        "```\n",
        "（ 球體積 =  (4/3)×π×r^3）\n",
        "```\n",
        "\n"
      ],
      "metadata": {
        "id": "quo4MAbZRZLd"
      }
    },
    {
      "cell_type": "markdown",
      "source": [
        "![image.png](data:image/png;base64,iVBORw0KGgoAAAANSUhEUgAAAEoAAAAXCAYAAACswNlYAAAAAXNSR0ICQMB9xQAAAAlwSFlzAAAOxAAADsQBlSsOGwAAABl0RVh0U29mdHdhcmUATWljcm9zb2Z0IE9mZmljZX/tNXEAAAIrSURBVFjD7VgxbsJAELwH8IBQHB0PgHXKUJpLRI0CFhWICl3DAw46pIQP0NGFgpoiP+AHKfgBf0hYE8Pl2PMZBymWcsVK2MZ7nrnZ2bXZdDplPtzhSfBEeaI8UX8dSooaZ2zPGPvk4WjsibLERMq74WxWUqpXhkpzgb89UQ5liY5qeEWlRBfYEkuPQXfpJAqlV2f1955SZTMJRJOWbZFIiL4u11HIx/GijO+FVDVK0kWM2WxYalZgoeO3kMS3CIwyOhtReB1COaCOY8K+d+iYp741N6FoYW46KT2KDLxRBGxtI0qGYdsGfhJBS+8ieGxKu1BldwgT52V75GJllgYCwxttJKJUhYj6Nhmb1+JznK901cbnAF50smNVQqR+guHzBEwS+iZkyXMeA2AXSfHEGf8wKyh1jtJLhAJqI4rqEkkZA2M7ai6hcuH/Ax68IUhq02QIAwSE6u4oWX3kj6+U37nynFQdiHWvJx9MP8pElAlIdUQjYTutLNMM+mjqsNMfhlrrSHqnGnC+qQBt+jH5B++LVa554rV5EAu1fm6i9LqlpI4PHoaynTqXEF3URRSlgnhTABRuHJZgWrmk5bF19V+VnrNcNMVZJ17CvHOVXnT/zKE7T8YMVDIF1pUnTzPJZOY2cGkmfp6hLoe3PGZ+fLZgcwJ/MGBrY3GYuWsezPRSnCfJ1e9UBR0PriLKNnDe9g29+ANnps8s1Ah/E5JymKj/HuWJ8kT96/gCoZTUeiWvfWMAAAAASUVORK5CYII=)"
      ],
      "metadata": {
        "id": "2vCLZ1mrRcuG"
      }
    },
    {
      "cell_type": "code",
      "metadata": {
        "id": "enGUbboM9jV7"
      },
      "source": [
        "%%cuda\n",
        "// hw7_18, 班級: 資工一  學號: xxx 姓名: xxx\n",
        "#include <iostream>\n",
        "#include <cstdlib>\n",
        "using namespace std;\n",
        "#define PI 3.1415926\n",
        "\n",
        "int main(void)\n",
        "{\n",
        "   for(int r=1;r<=5;r++)\n",
        "      cout << \"半徑=\" << r << \", 球體積=\" << VOLUMN(r) << endl;\n",
        "\n",
        "   // system(\"pause\");\n",
        "   return 0;\n",
        "}\n",
        "\n",
        "/* output-------------\n",
        "半徑=1, 球體積=4.18879\n",
        "半徑=2, 球體積=33.5103\n",
        "半徑=3, 球體積=113.097\n",
        "半徑=4, 球體積=268.083\n",
        "半徑=5, 球體積=523.599\n",
        "--------------------*/"
      ],
      "execution_count": null,
      "outputs": []
    },
    {
      "cell_type": "code",
      "source": [
        "%%writefile hw7_18.cpp\n",
        "// hw7_18, 班級: 資工一  學號: xxx 姓名: xxx\n",
        "#include <iostream>\n",
        "#include <cstdlib>\n",
        "using namespace std;\n",
        "#define PI 3.1415926\n",
        "\n",
        "int main(void)\n",
        "{\n",
        "   for(int r=1;r<=5;r++)\n",
        "      cout << \"半徑=\" << r << \", 球體積=\" << VOLUMN(r) << endl;\n",
        "\n",
        "   // system(\"pause\");\n",
        "   return 0;\n",
        "}\n",
        "\n",
        "/* output-------------\n",
        "半徑=1, 球體積=4.18879\n",
        "半徑=2, 球體積=33.5103\n",
        "半徑=3, 球體積=113.097\n",
        "半徑=4, 球體積=268.083\n",
        "半徑=5, 球體積=523.599\n",
        "--------------------*/"
      ],
      "metadata": {
        "id": "kmkqVltI9jV8"
      },
      "execution_count": null,
      "outputs": []
    },
    {
      "cell_type": "code",
      "source": [
        "!g++ hw7_18.cpp -o hw7_18"
      ],
      "metadata": {
        "id": "TAova7XC9jV8"
      },
      "execution_count": null,
      "outputs": []
    },
    {
      "cell_type": "code",
      "source": [
        "!./hw7_18"
      ],
      "metadata": {
        "id": "6RoFhCss9jV8"
      },
      "execution_count": null,
      "outputs": []
    },
    {
      "cell_type": "markdown",
      "source": [
        "# 習題：7.5 前置處理器--#include  \n"
      ],
      "metadata": {
        "id": "ffa79SywRvTI"
      }
    },
    {
      "cell_type": "markdown",
      "source": [
        "### hw7_19. 19.\t試將習題16與習題17的巨集寫成自訂的標頭檔myhfile.h，並利用#include含括到程式中，由鍵盤輸入兩個浮點數後，分別計算這兩個數的和及較大值。\n",
        "\n"
      ],
      "metadata": {
        "id": "4YBxf6dt94Mc"
      }
    },
    {
      "cell_type": "code",
      "source": [
        "%%writefile myhfile.h\n",
        "#define SUM(X,Y) (X+Y)\n",
        "#define MAX(X,Y) ((X) > (Y) ? (X) : (Y))"
      ],
      "metadata": {
        "id": "---YlNbgSJoe"
      },
      "execution_count": null,
      "outputs": []
    },
    {
      "cell_type": "code",
      "source": [
        "%%writefile hw7_19.cpp\n",
        "// hw7_19, 班級: 資工一  學號: xxx 姓名: xxx\n",
        "#include <iostream>\n",
        "#include <cstdlib>\n",
        "\n",
        "using namespace std;\n",
        "int main(void)\n",
        "{\n",
        "   double x,y;\n",
        "   cout << \"第一個數:\";\n",
        "   cin >> x;\n",
        "   cout << \"第二個數:\";\n",
        "   cin >> y;\n",
        "   cout << \"SUM(\" << x << \",\" << y << \")=\";\n",
        "   cout << SUM(x,y) << endl;\n",
        "   cout << \"MAX(\" << x << \",\" << y << \")=\";\n",
        "   cout << MAX(x,y) << endl;\n",
        "\n",
        "   // system(\"pause\");\n",
        "   return 0;\n",
        "}\n",
        "\n",
        "/* output--------------------\n",
        "第一個數:6.9\n",
        "第二個數:7.3\n",
        "SUM(6.9,7.3)=14.2\n",
        "MAX(6.9,7.3)=7.3\n",
        "---------------------------*/"
      ],
      "metadata": {
        "id": "83yZA2Cz94Md"
      },
      "execution_count": null,
      "outputs": []
    },
    {
      "cell_type": "code",
      "source": [
        "!g++ hw7_19.cpp -o hw7_19"
      ],
      "metadata": {
        "id": "nF-27RzQ94Md"
      },
      "execution_count": null,
      "outputs": []
    },
    {
      "cell_type": "code",
      "source": [
        "!./hw7_19"
      ],
      "metadata": {
        "id": "9ckm_WFa94Md"
      },
      "execution_count": null,
      "outputs": []
    },
    {
      "cell_type": "markdown",
      "source": [
        "### hw7_20. 試撰寫一個head_math.h的自訂標頭檔，裡面定義了下面的巨集：\n",
        "\n",
        "(a)\t利用 #include將標頭檔head_math.h含括到程式中，由鍵盤輸入計算梯形所需要的資料後，計算梯形的面積。\n",
        "\n",
        "(b)\t試利用 #include將標頭檔head_math.h含括到程式中，由鍵盤輸入半徑值後，計算圓周長與球的體積。\n",
        "\n",
        "\n"
      ],
      "metadata": {
        "id": "nTZrxaQn-erG"
      }
    },
    {
      "cell_type": "markdown",
      "source": [
        "\n",
        "\n",
        "```\n",
        "(1)\t PARA(B,H)，可計算平行四邊形的面積\n",
        "(2)\t TRAPEZOID(UB,LB,H)，可計算梯形的面積\n",
        "(3)\t PERIPHERY(R)，可計算圓周長\n",
        "(4)\t VOLUMN(R)，可計算球的體積\n",
        "\n",
        "```\n",
        "\n"
      ],
      "metadata": {
        "id": "guHTQbJQTEzX"
      }
    },
    {
      "cell_type": "code",
      "source": [
        "%%writefile head_math.h\n",
        "#define PI 3.1415926\n",
        "#define PARA(B,H) ((B)*(H)/2.0)\n",
        "#define TRAPEZOID(UB,LB,H) (((UB)+(LB))*(H)/2.0)\n",
        "#define PERIPHERY(R) (2*PI*(R))\n",
        "#define VOLUMN(R) ((4/3.0)*PI*(R)*(R)*(R))"
      ],
      "metadata": {
        "id": "JvCxL245TNnP"
      },
      "execution_count": null,
      "outputs": []
    },
    {
      "cell_type": "code",
      "source": [
        "%%writefile hw7_20a.cpp\n",
        "// hw7_20a, 班級: 資工一  學號: xxx 姓名: xxx\n",
        "#include <iostream>\n",
        "#include <cstdlib>\n",
        "\n",
        "using namespace std;\n",
        "int main(void)\n",
        "{\n",
        "   double ubase,lbase,height;\n",
        "   cout << \"請輸入梯形的上底:\";\n",
        "   cin >> ubase;\n",
        "   cout << \"請輸入梯形的下底:\";\n",
        "   cin >> lbase;\n",
        "   cout << \"請輸入梯形的高:\";\n",
        "   cin >> height;\n",
        "   cout << \"梯形形面積=\" << TRAPEZOID(ubase,lbase,height) << endl;\n",
        "\n",
        "   // system(\"pause\");\n",
        "   return 0;\n",
        "}\n",
        "\n",
        "/* output---------------\n",
        "請輸入梯形的上底:6\n",
        "請輸入梯形的下底:10\n",
        "請輸入梯形的高:5\n",
        "梯形形面積=40\n",
        "----------------------*/"
      ],
      "metadata": {
        "id": "BjwQHpzZ-erG"
      },
      "execution_count": null,
      "outputs": []
    },
    {
      "cell_type": "code",
      "source": [
        "!g++ hw7_20a.cpp -o hw7_20a"
      ],
      "metadata": {
        "id": "mAyu6dq1-erG"
      },
      "execution_count": null,
      "outputs": []
    },
    {
      "cell_type": "code",
      "source": [
        "!./hw7_20a"
      ],
      "metadata": {
        "id": "_yZbpHbJ-erG"
      },
      "execution_count": null,
      "outputs": []
    },
    {
      "cell_type": "code",
      "source": [
        "%%writefile hw7_20b.cpp\n",
        "// hw7_20b, 班級: 資工一  學號: xxx 姓名: xxx\n",
        "#include <iostream>\n",
        "#include <cstdlib>\n",
        "\n",
        "using namespace std;\n",
        "int main(void)\n",
        "{\n",
        "   double r;\n",
        "   cout << \"請輸入半徑:\";\n",
        "   cin >> r;\n",
        "   cout << \"圓周長=\" << PERIPHERY(r) << endl;\n",
        "   cout << \"球體積=\" << VOLUMN(r) << endl;\n",
        "\n",
        "   // system(\"pause\");\n",
        "   return 0;\n",
        "}\n",
        "\n",
        "/* output---------------\n",
        "請輸入半徑:2\n",
        "圓周長=12.5664\n",
        "球體積=33.5103\n",
        "----------------------*/"
      ],
      "metadata": {
        "id": "_rHviiOQTgBQ"
      },
      "execution_count": null,
      "outputs": []
    },
    {
      "cell_type": "code",
      "source": [
        "!g++ hw7_20b.cpp -o hw7_20b"
      ],
      "metadata": {
        "id": "El4Odx_VTgBR"
      },
      "execution_count": null,
      "outputs": []
    },
    {
      "cell_type": "code",
      "source": [
        "!./hw7_20b"
      ],
      "metadata": {
        "id": "lnUBIRrCTgBR"
      },
      "execution_count": null,
      "outputs": []
    },
    {
      "cell_type": "markdown",
      "source": [
        "# 習題：7.6命令列引數的使用"
      ],
      "metadata": {
        "id": "DeEpNH3ZTsv-"
      }
    },
    {
      "cell_type": "markdown",
      "source": [
        "### hw7_21. 試撰寫一程式，利用命令列引數，於檔案名稱後面輸入長方形的長與寬，可計算長方形的長、寬與面積之值（提示：可利用字串轉換整數函數atoi() 完成）：\n",
        "\n",
        "\n"
      ],
      "metadata": {
        "id": "jjINOPS1_rwq"
      }
    },
    {
      "cell_type": "code",
      "source": [
        "%%writefile hw7_21.cpp\n",
        "// hw7_21, 班級: 資工一  學號: xxx 姓名: xxx\n",
        "#include <iostream>\n",
        "#include <cstdlib>\n",
        "using namespace std;\n",
        "int main(int argc, char *argv[])\n",
        "{\n",
        "   int length=atoi(    );\n",
        "   int width=atoi(    );\n",
        "   cout << \"長方形的長=\" << length << endl;\n",
        "   cout << \"長方形的寬=\" << width << endl;\n",
        "   cout << \"長方形面積=\" << length*width << endl;\n",
        "\n",
        "   // system(\"pause\");\n",
        "   return 0;\n",
        "}\n",
        "\n",
        "/* output-----------\n",
        "./hw7_21 8 4\n",
        "長方形的長=8\n",
        "長方形的寬=4\n",
        "長方形面積=32\n",
        "------------------*/"
      ],
      "metadata": {
        "id": "e_v6tf4m_rwr"
      },
      "execution_count": null,
      "outputs": []
    },
    {
      "cell_type": "code",
      "source": [
        "!g++ hw7_21.cpp -o hw7_21"
      ],
      "metadata": {
        "id": "xgnDvb69_rwr"
      },
      "execution_count": null,
      "outputs": []
    },
    {
      "cell_type": "code",
      "source": [
        "!./hw7_21 8 4"
      ],
      "metadata": {
        "id": "4mhSUglG_rwr"
      },
      "execution_count": null,
      "outputs": []
    },
    {
      "cell_type": "markdown",
      "source": [
        "### hw7_22. 試利用命令列引數，於檔案名稱後面輸入2個數x、n，請計算 。其中x為倍精度浮點數，n為整數：\n",
        "\n",
        "\n"
      ],
      "metadata": {
        "id": "N0d6UriwAN64"
      }
    },
    {
      "cell_type": "code",
      "source": [
        "%%writefile hw7_22.cpp\n",
        "// hw7_22, 班級: 資工一  學號: xxx 姓名: xxx\n",
        "#include <iostream>\n",
        "#include <cstdlib>\n",
        "using namespace std;\n",
        "double power(double,int);\n",
        "int main(int argc, char *argv[])\n",
        "{\n",
        "   double x = atof(    );\n",
        "   int  n = atoi(    );\n",
        "   cout << x << \"^\" << n << \"=\" << power(x,n) << endl;\n",
        "\n",
        "   // system(\"pause\");\n",
        "   return 0;\n",
        "}\n",
        "\n",
        "double power(double a,int b)\n",
        "{\n",
        "   if(b==0)\n",
        "      return 1;\n",
        "   else return (a*power(a,b-1));\n",
        "}\n",
        "/* output-------------\n",
        "./hw7_22 2 3\n",
        "2^3=8\n",
        "--------------------*/"
      ],
      "metadata": {
        "id": "wdtiaGzgAN66"
      },
      "execution_count": null,
      "outputs": []
    },
    {
      "cell_type": "code",
      "source": [
        "!g++ hw7_22.cpp -o hw7_22"
      ],
      "metadata": {
        "id": "QIsP1SEWAN66"
      },
      "execution_count": null,
      "outputs": []
    },
    {
      "cell_type": "code",
      "source": [
        "!./hw7_22 2 3"
      ],
      "metadata": {
        "id": "n4tuKzVnAN66"
      },
      "execution_count": null,
      "outputs": []
    },
    {
      "cell_type": "markdown",
      "source": [
        "### hw7_23. 23.\t試利用命令列引數，於檔案名稱後面輸入1個整數，判斷該數為奇數、偶數還是0：\n",
        "\n",
        "\n"
      ],
      "metadata": {
        "id": "vuWVnqiXA0cg"
      }
    },
    {
      "cell_type": "code",
      "source": [
        "%%writefile hw7_23.cpp\n",
        "// hw7_23, 班級: 資工一  學號: xxx 姓名: xxx\n",
        "#include <iostream>\n",
        "#include <cstdlib>\n",
        "using namespace std;\n",
        "int main(int argc, char *argv[])\n",
        "{\n",
        "   int n = atoi(    );\n",
        "   if(n==0)\n",
        "      cout << n << \"是零\" << endl;\n",
        "   else if(n%2==0)\n",
        "      cout << n << \"是偶數\" << endl;\n",
        "   else\n",
        "      cout << n << \"是奇數\" << endl;\n",
        "\n",
        "   // system(\"pause\");\n",
        "   return 0;\n",
        "}\n",
        "\n",
        "/* output-----------\n",
        "./hw7_23 9\n",
        "9是奇數\n",
        "------------------*/"
      ],
      "metadata": {
        "id": "lCpmXAamA0cg"
      },
      "execution_count": null,
      "outputs": []
    },
    {
      "cell_type": "code",
      "source": [
        "!g++ hw7_23.cpp -o hw7_23"
      ],
      "metadata": {
        "id": "PFRnPGLvA0cg"
      },
      "execution_count": null,
      "outputs": []
    },
    {
      "cell_type": "code",
      "source": [
        "!./hw7_23 9"
      ],
      "metadata": {
        "id": "qZCz3J-FA0cg"
      },
      "execution_count": null,
      "outputs": []
    },
    {
      "cell_type": "markdown",
      "source": [
        "### hw7_24. 24.\t試利用命令列引數，於檔案名稱後面輸入2個整數a、b，求a/b的餘數：\n",
        "\n",
        "\n"
      ],
      "metadata": {
        "id": "pjeV-9JQBd_K"
      }
    },
    {
      "cell_type": "code",
      "source": [
        "%%writefile hw7_24.cpp\n",
        "// hw7_24, 班級: 資工一  學號: xxx 姓名: xxx\n",
        "#include <iostream>\n",
        "#include <cstdlib>\n",
        "using namespace std;\n",
        "int main(int argc, char *argv[])\n",
        "{\n",
        "   int a=atoi(    );\n",
        "   int b=atoi(    );\n",
        "   cout << a << \"/\" << b << \"的餘數=\" << a%b << endl ;\n",
        "\n",
        "   // system(\"pause\");\n",
        "   return 0;\n",
        "}\n",
        "\n",
        "/* output-------------\n",
        "C:\\C++>hw7_24 18 5\n",
        "18/5的餘數=3\n",
        "--------------------*/"
      ],
      "metadata": {
        "id": "3A62sgozBd_L"
      },
      "execution_count": null,
      "outputs": []
    },
    {
      "cell_type": "code",
      "source": [
        "!g++ hw7_24.cpp -o hw7_24"
      ],
      "metadata": {
        "id": "lwyN4JjsBd_L"
      },
      "execution_count": null,
      "outputs": []
    },
    {
      "cell_type": "code",
      "source": [
        "!./hw7_24"
      ],
      "metadata": {
        "id": "MjIgSwS_Bd_L"
      },
      "execution_count": null,
      "outputs": []
    },
    {
      "cell_type": "markdown",
      "source": [
        "(c) 由於採用遞迴的方式，會重複計算相當多次的遞迴，導致輸入的引數愈大，需要計算的時間也就愈長（當n值稍大時，可以發現採用遞迴的方式，執行時間明顯增長），因此對於費氏數列而言，採用迴圈，可以獲得較佳的計算效率。關於費氏數列遞迴演算法的效率分析，請參考資料結構或演算法相關書籍。"
      ],
      "metadata": {
        "id": "uQcaK8XGDFGe"
      }
    },
    {
      "cell_type": "markdown",
      "metadata": {
        "id": "JrbtBoIiWTUX"
      },
      "source": [
        "#**Reference**\n",
        "C++ Tutorial\n",
        "https://www.w3schools.com/cpp/cpp_strings.asp\n",
        "\n",
        "https://www.learn-cpp.org/en/Variables_and_Types\n",
        "\n",
        "How to Run CUDA C or C++ on Jupyter (Google Colab)\n",
        "\n",
        "https://www.wikihow.com/Run-CUDA-C-or-C%2B%2B-on-Jupyter-(Google-Colab)\n",
        "\n",
        "Code block\n",
        "http://www.codeblocks.org/downloads/26\n",
        "\n",
        "Freebootcamp\n",
        "https://www.freecodecamp.org/\n",
        "\n",
        "ntroduction to C++ Programming in Urdu\n",
        "https://www.youtube.com/watch?v=dnCO124Uk1o\n",
        "\n",
        "6 Sentiment Analysis Projects with Python\n",
        "\n",
        "https://amankharwal.medium.com/6-sentiment-analysis-projects-with-python-1fdd3d43d90f\n",
        "\n",
        "C++ 教學講義\n",
        "\n",
        "https://hackmd.io/@MECode/CPP"
      ]
    }
  ]
}