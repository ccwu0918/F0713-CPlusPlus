{
  "nbformat": 4,
  "nbformat_minor": 0,
  "metadata": {
    "colab": {
      "provenance": [],
      "toc_visible": true,
      "include_colab_link": true
    },
    "kernelspec": {
      "name": "python3",
      "display_name": "Python 3"
    }
  },
  "cells": [
    {
      "cell_type": "markdown",
      "metadata": {
        "id": "view-in-github",
        "colab_type": "text"
      },
      "source": [
        "<a href=\"https://colab.research.google.com/github/ccwu0918/F0713-CPlusPlus/blob/main/C%2B%2B_Chapter05.ipynb\" target=\"_parent\"><img src=\"https://colab.research.google.com/assets/colab-badge.svg\" alt=\"Open In Colab\"/></a>"
      ]
    },
    {
      "cell_type": "markdown",
      "source": [
        "# 班級: 資工一  學號: 13913001 姓名: 吳佳駿"
      ],
      "metadata": {
        "id": "rog13y74sFA4"
      }
    },
    {
      "cell_type": "code",
      "source": [
        "!pip install nvcc4jupyter"
      ],
      "metadata": {
        "id": "jo8etxlmfJ8W"
      },
      "execution_count": null,
      "outputs": []
    },
    {
      "cell_type": "code",
      "source": [
        "%load_ext nvcc4jupyter"
      ],
      "metadata": {
        "id": "ezALi0PVfRUC"
      },
      "execution_count": null,
      "outputs": []
    },
    {
      "cell_type": "code",
      "metadata": {
        "id": "GaS0D8MY-cF_"
      },
      "source": [
        "!nvcc --version"
      ],
      "execution_count": null,
      "outputs": []
    },
    {
      "cell_type": "markdown",
      "metadata": {
        "id": "3_8odoHmArJr"
      },
      "source": [
        "#**Chapter 5: 選擇性敘述與迴圈**\n",
        "\n"
      ]
    },
    {
      "cell_type": "markdown",
      "metadata": {
        "id": "oRU_4dlny9_A"
      },
      "source": [
        "#5.2.1 if-else敘述：Prog5_1 (Page 5-5, 5-6)\n",
        "下面是if-else的範例："
      ]
    },
    {
      "cell_type": "code",
      "metadata": {
        "id": "NQXFPNADy9_E"
      },
      "source": [
        "%%cuda\n",
        "// prog5_1，if-else敘述\n",
        "#include <iostream>\n",
        "#include <cstdlib>\n",
        "using namespace std;\n",
        "int main (void)\n",
        "{\n",
        "  int num=42;\n",
        "  if ( num % 3==0 && num % 7 == 0)\n",
        "    cout << num << \"可以被3與7整除\" << endl;\n",
        "  else\n",
        "    cout << num << \"不能被3與7整除\" << endl;\n",
        "  // system(\"pause\");\n",
        "  return 0;\n",
        "}"
      ],
      "execution_count": null,
      "outputs": []
    },
    {
      "cell_type": "markdown",
      "metadata": {
        "id": "g6LT91r5_mdJ"
      },
      "source": [
        "#5.2.4 條件運算子：Prog5_2 (Page 5-8)\n",
        "下面條件運算子的使用範例："
      ]
    },
    {
      "cell_type": "code",
      "metadata": {
        "id": "am4ZQ3cN_Bc_"
      },
      "source": [
        "%%cuda\n",
        "// Prog5_2, 條件運算子?:的使用\n",
        "#include <iostream>\n",
        "#include <cstdlib>\n",
        "using namespace std;\n",
        "int main (void)\n",
        "{\n",
        "  int a = 5, b = 12, min;\n",
        "  min = (a<b) ? a:b;  // 利用條件運算子判斷a與b何者為小\n",
        "  cout << \"a = \" << a << \"，b = \" << b << endl;\n",
        "  cout << min << \" 是較小的數\" << endl;\n",
        "  // system(\"pause\");\n",
        "  return 0;\n",
        "}"
      ],
      "execution_count": null,
      "outputs": []
    },
    {
      "cell_type": "markdown",
      "metadata": {
        "id": "mxHLsgEM0qH6"
      },
      "source": [
        "#5.3.1 for迴圈：Prog5_3 (Page 5-10)\n",
        "### for迴圈\n",
        "下面的程式可計算由1累加至15的運算結果："
      ]
    },
    {
      "cell_type": "code",
      "metadata": {
        "id": "LZQAJ2YB0qIH"
      },
      "source": [
        "%%cuda\n",
        "// prog5_3，for迴圈\n",
        "#include <iostream>\n",
        "#include <cstdlib>\n",
        "using namespace std;\n",
        "int main (void)\n",
        "{\n",
        "  int i, sum = 0;\n",
        "  for (i = 1; i <= 15; i++)\n",
        "    sum += i ;\n",
        "  cout << \"1 + 2 + ... + 15 = \" << sum << endl;\n",
        "  // system(\"pause\");\n",
        "  return 0;\n",
        "}"
      ],
      "execution_count": null,
      "outputs": []
    },
    {
      "cell_type": "markdown",
      "metadata": {
        "id": "GlyXZ3q52ML2"
      },
      "source": [
        "#5.3.1 for迴圈：Prog5_4 (Page 5-11)\n",
        "### for迴圈內區域變數\n",
        "下面的範例說明如何在for迴圈內使用區域變數："
      ]
    },
    {
      "cell_type": "code",
      "metadata": {
        "id": "bdGwZz5i2ML2"
      },
      "source": [
        "%%cuda\n",
        "// prog5_4，區域變數\n",
        "#include <iostream>\n",
        "#include <cstdlib>\n",
        "using namespace std;\n",
        "int main (void)\n",
        "{\n",
        "  int sum = 0;\n",
        "  for (int i = 1; i <= 5; i++)\n",
        "  {\n",
        "    sum += i;\n",
        "    cout << \"i = \" << i << \"，sum = \" << sum << endl;\n",
        "  }\n",
        "  // system(\"pause\");\n",
        "  return 0;\n",
        "}"
      ],
      "execution_count": null,
      "outputs": []
    },
    {
      "cell_type": "markdown",
      "metadata": {
        "id": "1Zl9QLHQ3Z3L"
      },
      "source": [
        "#5.3.2 while迴圈：Prog5_5 (Page 5-13, 5-14)\n",
        "### while迴圈\n",
        "下面的例子是利用while迴圈計算1累加到num："
      ]
    },
    {
      "cell_type": "code",
      "metadata": {
        "id": "llNBvrQW3Z3L"
      },
      "source": [
        "%%cuda\n",
        "// prog5_5，while迴圈\n",
        "#include <iostream>\n",
        "#include <cstdlib>\n",
        "using namespace std;\n",
        "int main (void)\n",
        "{\n",
        "  int num, i = 1, sum = 0;\n",
        "  cout << \"請輸入整數值：\";\n",
        "  cin >> num;\n",
        "  while (i <= num)\n",
        "  {\n",
        "    sum += i;\n",
        "    i++;\n",
        "  }\n",
        "  cout << \"1 + 2 + ... + \" << num << \" = \" << sum << endl;\n",
        "  //system(\"pause\");\n",
        "  return 0;\n",
        "}"
      ],
      "execution_count": null,
      "outputs": []
    },
    {
      "cell_type": "code",
      "source": [
        "%%writefile prog5_5.cpp\n",
        "// prog5_5，while迴圈\n",
        "#include <iostream>\n",
        "#include <cstdlib>\n",
        "using namespace std;\n",
        "int main (void)\n",
        "{\n",
        "  int num, i = 1, sum = 0;\n",
        "  cout << \"請輸入整數值：\";\n",
        "  cin >> num;\n",
        "  while (i <= num)\n",
        "  {\n",
        "    sum += i;\n",
        "    i++;\n",
        "  }\n",
        "  cout << \"1 + 2 + ... + \" << num << \" = \" << sum << endl;\n",
        "  //system(\"pause\");\n",
        "  return 0;\n",
        "}"
      ],
      "metadata": {
        "id": "ozmLMUkO5YS6"
      },
      "execution_count": null,
      "outputs": []
    },
    {
      "cell_type": "code",
      "source": [
        "!g++ prog5_5.cpp -o prog5_5"
      ],
      "metadata": {
        "id": "oyNsM6DRr1do"
      },
      "execution_count": null,
      "outputs": []
    },
    {
      "cell_type": "code",
      "source": [
        "!./prog5_5"
      ],
      "metadata": {
        "id": "MsDh6LrZrYLn"
      },
      "execution_count": null,
      "outputs": []
    },
    {
      "cell_type": "markdown",
      "metadata": {
        "id": "o8ItUEEW6EAv"
      },
      "source": [
        "#5.3.3 do while迴圈：Prog5_5 (Page 5-16)\n",
        "### do while迴圈\n",
        "下面的例子是利用do while迴圈設計的程式："
      ]
    },
    {
      "cell_type": "code",
      "metadata": {
        "id": "D_UWav1U6EAw"
      },
      "source": [
        "%%cuda\n",
        "// prog5_6, do while迴圈\n",
        "#include <iostream>\n",
        "#include <cstdlib>\n",
        "using namespace std;\n",
        "int main (void)\n",
        "{\n",
        "  int n = 7, i = 1, sum = 0;\n",
        "  do{\n",
        "    cout << \"請輸入欲累加的最大奇數值：\";\n",
        "    cin >> n;\n",
        "  } while (n < 1 || n % 2 == 0);\n",
        "\n",
        "  do{\n",
        "    sum += i;\n",
        "    i += 2;\n",
        "  } while (i <= n);\n",
        "  cout << \"1 + 3 + ... + \" << n << \" = \" << sum << endl;\n",
        "  //system(\"pause\");\n",
        "  return 0;\n",
        "}"
      ],
      "execution_count": null,
      "outputs": []
    },
    {
      "cell_type": "code",
      "source": [
        "%%writefile prog5_6.cpp\n",
        "// prog5_6, do while迴圈\n",
        "#include <iostream>\n",
        "#include <cstdlib>\n",
        "using namespace std;\n",
        "int main (void)\n",
        "{\n",
        "  int n, i = 1, sum = 0;\n",
        "  do{\n",
        "    cout << \"請輸入欲累加的最大奇數值：\";\n",
        "    cin >> n;\n",
        "  } while (n < 1 || n % 2 == 0);\n",
        "\n",
        "  do{\n",
        "    sum += i;\n",
        "    i += 2;\n",
        "  } while (i <= n);\n",
        "  cout << \"1 + 3 + ... + \" << n << \" = \" << sum << endl;\n",
        "  //system(\"pause\");\n",
        "  return 0;\n",
        "}"
      ],
      "metadata": {
        "id": "GXeElpIn6EAx"
      },
      "execution_count": null,
      "outputs": []
    },
    {
      "cell_type": "code",
      "source": [
        "!g++ prog5_6.cpp -o prog5_6"
      ],
      "metadata": {
        "id": "xoi-ESGW6EAy"
      },
      "execution_count": null,
      "outputs": []
    },
    {
      "cell_type": "code",
      "source": [
        "!./prog5_6"
      ],
      "metadata": {
        "id": "rX3SMI2-6EAy"
      },
      "execution_count": null,
      "outputs": []
    },
    {
      "cell_type": "markdown",
      "metadata": {
        "id": "gifSTCpk8vv2"
      },
      "source": [
        "#5.3.4 巢狀迴圈：Prog5_7 (Page 5-17)\n",
        "### 巢狀迴圈\n",
        "下面的程式以列印九九乘法表為例，來練習巢狀迴圈："
      ]
    },
    {
      "cell_type": "code",
      "metadata": {
        "id": "Qa_J6O9I8vv3"
      },
      "source": [
        "%%cuda\n",
        "// prog5_7，巢狀 for 迴圈求 9 * 9 乘法表\n",
        "#include <iostream>\n",
        "#include <cstdlib>\n",
        "using namespace std;\n",
        "int main (void)\n",
        "{\n",
        "  int i, j;\n",
        "  for (i = 1; i <= 3; i++)    // 外層迴圈\n",
        "  {\n",
        "    for(j = 1; j <= 3; j++)   // 內層迴圈\n",
        "      cout << i << \" * \" << j << \" = \" << (i * j) << \"\\t\";\n",
        "    cout << endl;\n",
        "  }\n",
        "  //system(\"pause\");\n",
        "  return 0;\n",
        "}"
      ],
      "execution_count": null,
      "outputs": []
    },
    {
      "cell_type": "markdown",
      "metadata": {
        "id": "90Q5gIvt938a"
      },
      "source": [
        "#5.4.1 break敘述 ：Prog5_8 (Page 5-20)\n",
        "### break敘述\n",
        "下面的程式說明如何使用break敘述跳離迴圈："
      ]
    },
    {
      "cell_type": "code",
      "metadata": {
        "id": "k1OVR1Sd938b"
      },
      "source": [
        "%%cuda\n",
        "// prog5_8, break 的使用\n",
        "#include <iostream>\n",
        "#include <cstdlib>\n",
        "using namespace std;\n",
        "int main (void)\n",
        "{\n",
        "  int i;\n",
        "  for (i = 1; i <= 10; i++)\n",
        "  {\n",
        "    if ( i % 4 == 0)\n",
        "      break;            // i%4為0時即跳出迴圈\n",
        "    cout << \"i =\" << i << endl;\n",
        "  }\n",
        "  cout << \"when loop interruped, i = \" << i << endl;\n",
        "  //system(\"pause\");\n",
        "  return 0;\n",
        "}"
      ],
      "execution_count": null,
      "outputs": []
    },
    {
      "cell_type": "markdown",
      "metadata": {
        "id": "7l7PwAxv-07O"
      },
      "source": [
        "#5.4.2 continue敘述 ：Prog5_9 (Page 5-21)\n",
        "### continue敘述\n",
        "下面的範例，可觀察break與continue："
      ]
    },
    {
      "cell_type": "code",
      "metadata": {
        "id": "IRCpfA4f-07O"
      },
      "source": [
        "%%cuda\n",
        "// prog5_9, continue 的使用\n",
        "#include <iostream>\n",
        "#include <cstdlib>\n",
        "using namespace std;\n",
        "int main (void)\n",
        "{\n",
        "  int i;\n",
        "  for (i = 1; i <= 10; i++)\n",
        "  {\n",
        "    if (i % 4 == 0)\n",
        "      continue;             // i % 4為0時由迴圈起始處繼續執行\n",
        "    cout << \" i = \" << i << endl;\n",
        "  }\n",
        "  cout << \"when loop interruped, i = \" << i << endl;\n",
        "  //system(\"pause\");\n",
        "  return 0;\n",
        "}"
      ],
      "execution_count": null,
      "outputs": []
    },
    {
      "cell_type": "markdown",
      "metadata": {
        "id": "0S33gWwa_xvo"
      },
      "source": [
        "#5.5 switch 敘述 ：Prog5_10 (Page 5-24, 5-25)\n",
        "### switch 敘述\n",
        "下面的程式是利用switch敘述撰寫而成的："
      ]
    },
    {
      "cell_type": "code",
      "metadata": {
        "id": "h2l8Z-gO_xvo"
      },
      "source": [
        "%%cuda\n",
        "// prog5_10, switch 敘述\n",
        "#include <iostream>\n",
        "#include <cstdlib>\n",
        "using\n",
        "namespace std;\n",
        "int main (void)\n",
        "{\n",
        "  int month = 11;\n",
        "  cout << month << \"月是\";\n",
        "  switch (month)\n",
        "  {\n",
        "  case 3:\n",
        "  case 4:\n",
        "  case 5: cout << \"春天\" << endl;\n",
        "    break;\n",
        "  case 6:\n",
        "  case 7:\n",
        "  case 8: cout << \"夏天\" << endl;\n",
        "    break;\n",
        "  case 9:\n",
        "  case 10:\n",
        "  case 11: cout << \"秋天\" << endl;\n",
        "    break;\n",
        "  case 12:\n",
        "  case 1:\n",
        "  case 2: cout << \"冬天\" << endl;\n",
        "    break;\n",
        "  default:\n",
        "    cout << \"不存在！\" << endl;\n",
        "  }\n",
        "  //system(\"pause\");\n",
        "  return 0;\n",
        "}"
      ],
      "execution_count": null,
      "outputs": []
    },
    {
      "cell_type": "markdown",
      "source": [
        "\n",
        "\n",
        "---\n",
        "\n"
      ],
      "metadata": {
        "id": "RADze259BV9b"
      }
    },
    {
      "cell_type": "markdown",
      "source": [
        "# 習題：5.1 程式的結構設計："
      ],
      "metadata": {
        "id": "NkBJMO30kmeT"
      }
    },
    {
      "cell_type": "markdown",
      "source": [
        "略"
      ],
      "metadata": {
        "id": "RDIPTkZFktgI"
      }
    },
    {
      "cell_type": "markdown",
      "source": [
        "# 習題：5.2 選擇性敘述："
      ],
      "metadata": {
        "id": "VC1ihXkIBt8t"
      }
    },
    {
      "cell_type": "markdown",
      "source": [
        "\n",
        "### hw5_5. 試撰寫一程式，直接設定整數值height與weight，分別代表某個人的身高（公尺）與體重（公斤），接著完成下列問題：\n",
        "\n",
        "(a) 利用 BMI=weight/height^2 計算此人的身體質量指數BMI值。\n",
        "\n",
        "(b) 根據BMI值判斷他的體重是不是過重。理想體重範圍為18.5≦BMI＜24，當BMI值為理想體重範圍時，印出\"體重標準\"。BMI值若是小於18.5，印出\"體重過輕\"，BMI值若是大於等於24，印出\"體重過重\"。\n",
        "\n"
      ],
      "metadata": {
        "id": "uGysrbgrBbDm"
      }
    },
    {
      "cell_type": "code",
      "metadata": {
        "id": "270lD75PjJWn"
      },
      "source": [
        "%%cuda\n",
        "// hw5_5, 班級: 資工一  學號: xxx 姓名: xxx\n",
        "#include <iostream>\n",
        "#include <cstdlib>\n",
        "using namespace std;\n",
        "int main(void)\n",
        "{\n",
        "\n",
        "\n",
        "\n",
        "\n",
        "\n",
        "\n",
        "\n",
        "\n",
        "\n",
        "\n",
        "\n",
        "\n",
        "\n",
        "\n",
        "\n",
        "    // system(\"pause\");\n",
        "    return 0;\n",
        "}\n",
        "\n",
        "/* output----------------\n",
        "身高=1.71公尺\n",
        "體重=58.2公斤\n",
        "BMI=19.9036\n",
        "體重標準\n",
        "-----------------------*/"
      ],
      "execution_count": null,
      "outputs": []
    },
    {
      "cell_type": "code",
      "source": [
        "%%writefile hw5_5.cpp\n",
        "// hw5_5, 班級: 資工一  學號: xxx 姓名: xxx\n",
        "#include <iostream>\n",
        "#include <cstdlib>\n",
        "using namespace std;\n",
        "int main(void)\n",
        "\n",
        "\n",
        "\n",
        "\n",
        "\n",
        "\n",
        "\n",
        "\n",
        "\n",
        "\n",
        "\n",
        "\n",
        "\n",
        "\n",
        "\n",
        "\n",
        "    // system(\"pause\");\n",
        "    return 0;\n",
        "}\n",
        "\n",
        "/* output----------------\n",
        "身高=1.71公尺\n",
        "體重=58.2公斤\n",
        "BMI=19.9036\n",
        "體重標準\n",
        "-----------------------*/"
      ],
      "metadata": {
        "id": "pO8G3Z35jJWo"
      },
      "execution_count": null,
      "outputs": []
    },
    {
      "cell_type": "code",
      "source": [
        "!g++ hw5_5.cpp -o hw5_5"
      ],
      "metadata": {
        "id": "885G6Ry2jJWo"
      },
      "execution_count": null,
      "outputs": []
    },
    {
      "cell_type": "code",
      "source": [
        "!./hw5_5"
      ],
      "metadata": {
        "id": "ePJOgMzcjJWo"
      },
      "execution_count": null,
      "outputs": []
    },
    {
      "cell_type": "markdown",
      "source": [
        "\n",
        "### hw5_6. 試撰寫一程式，由鍵盤輸入一個整數值，然後求此數的絕對值：\n",
        "\n",
        "\n"
      ],
      "metadata": {
        "id": "3bKhm7ark_GW"
      }
    },
    {
      "cell_type": "code",
      "metadata": {
        "id": "EKeCkjQ-k_GX"
      },
      "source": [
        "%%cuda\n",
        "// hw5_6, 班級: 資工一  學號: xxx 姓名: xxx\n",
        "#include <iostream>\n",
        "#include <cstdlib>\n",
        "using namespace std;\n",
        "int main(void)\n",
        "{\n",
        "\n",
        "\n",
        "\n",
        "\n",
        "\n",
        "\n",
        "\n",
        "\n",
        "\n",
        "    // system(\"pause\");\n",
        "    return 0;\n",
        "}\n",
        "\n",
        "/* output---------\n",
        "請輸入一個整數: -6\n",
        "-6的絕對值為6\n",
        "----------------*/"
      ],
      "execution_count": null,
      "outputs": []
    },
    {
      "cell_type": "code",
      "source": [
        "%%writefile hw5_6.cpp\n",
        "// hw5_6, 班級: 資工一  學號: xxx 姓名: xxx\n",
        "#include <iostream>\n",
        "#include <cstdlib>\n",
        "using namespace std;\n",
        "int main(void)\n",
        "{\n",
        "\n",
        "\n",
        "\n",
        "\n",
        "\n",
        "\n",
        "\n",
        "\n",
        "\n",
        "    // system(\"pause\");\n",
        "    return 0;\n",
        "}\n",
        "\n",
        "/* output---------\n",
        "請輸入一個整數: -6\n",
        "-6的絕對值為6\n",
        "----------------*/"
      ],
      "metadata": {
        "id": "PKy-U_Puk_GX"
      },
      "execution_count": null,
      "outputs": []
    },
    {
      "cell_type": "code",
      "source": [
        "!g++ hw5_6.cpp -o hw5_6"
      ],
      "metadata": {
        "id": "J8QdF8Nyk_GX"
      },
      "execution_count": null,
      "outputs": []
    },
    {
      "cell_type": "code",
      "source": [
        "!./hw5_6"
      ],
      "metadata": {
        "id": "2qY4he-mk_GX"
      },
      "execution_count": null,
      "outputs": []
    },
    {
      "cell_type": "markdown",
      "source": [
        "\n",
        "### hw5_7. 試撰寫一程式，由鍵盤輸入一個整數值，然後判斷它是奇數或偶數：\n",
        "\n",
        "\n"
      ],
      "metadata": {
        "id": "dyl9HQpCl-Vq"
      }
    },
    {
      "cell_type": "code",
      "metadata": {
        "id": "P22O9VEzl-Vq"
      },
      "source": [
        "%%cuda\n",
        "// hw5_7, 班級: 資工一  學號: xxx 姓名: xxx\n",
        "#include <iostream>\n",
        "#include <cstdlib>\n",
        "using namespace std;\n",
        "int main(void)\n",
        "{\n",
        "\n",
        "\n",
        "\n",
        "\n",
        "\n",
        "\n",
        "\n",
        "\n",
        "    // system(\"pause\");\n",
        "    return 0;\n",
        "}\n",
        "\n",
        "/* output---------\n",
        "請輸入一個整數: 8\n",
        "8是偶數\n",
        "----------------*/"
      ],
      "execution_count": null,
      "outputs": []
    },
    {
      "cell_type": "code",
      "source": [
        "%%writefile hw5_7.cpp\n",
        "// hw5_7, 班級: 資工一  學號: xxx 姓名: xxx\n",
        "#include <iostream>\n",
        "#include <cstdlib>\n",
        "using namespace std;\n",
        "int main(void)\n",
        "{\n",
        "\n",
        "\n",
        "\n",
        "\n",
        "\n",
        "\n",
        "\n",
        "\n",
        "    // system(\"pause\");\n",
        "    return 0;\n",
        "}\n",
        "\n",
        "/* output---------\n",
        "請輸入一個整數: 8\n",
        "8是偶數\n",
        "----------------*/"
      ],
      "metadata": {
        "id": "CLWI4CMJl-Vq"
      },
      "execution_count": null,
      "outputs": []
    },
    {
      "cell_type": "code",
      "source": [
        "!g++ hw5_7.cpp -o hw5_7"
      ],
      "metadata": {
        "id": "2sORijNil-Vr"
      },
      "execution_count": null,
      "outputs": []
    },
    {
      "cell_type": "code",
      "source": [
        "!./hw5_7"
      ],
      "metadata": {
        "id": "xJlkdVZEl-Vr"
      },
      "execution_count": null,
      "outputs": []
    },
    {
      "cell_type": "markdown",
      "source": [
        "\n",
        "### hw5_8. 試撰寫一程式，請直接設定變數month的值，代表月份，然後利用if-else敘述判斷其所屬的季節（3～5月為春季，6～8月為夏季，9～11月為秋季，12～2月為冬季）：\n",
        "\n",
        "\n"
      ],
      "metadata": {
        "id": "hUIT0M9umm8i"
      }
    },
    {
      "cell_type": "code",
      "metadata": {
        "id": "6Y03avpQmm8i"
      },
      "source": [
        "%%cuda\n",
        "// hw5_8, 班級: 資工一  學號: xxx 姓名: xxx\n",
        "#include <iostream>\n",
        "#include <cstdlib>\n",
        "using namespace std;\n",
        "int main(void)\n",
        "{\n",
        "\n",
        "\n",
        "\n",
        "\n",
        "\n",
        "\n",
        "\n",
        "    // system(\"pause\");\n",
        "    return 0;\n",
        "}\n",
        "\n",
        "/* output---------\n",
        "7月是夏季\n",
        "----------------*/"
      ],
      "execution_count": null,
      "outputs": []
    },
    {
      "cell_type": "code",
      "source": [
        "%%writefile hw5_8.cpp\n",
        "// hw5_8, 班級: 資工一  學號: xxx 姓名: xxx\n",
        "#include <iostream>\n",
        "#include <cstdlib>\n",
        "using namespace std;\n",
        "int main(void)\n",
        "{\n",
        "\n",
        "\n",
        "\n",
        "\n",
        "\n",
        "\n",
        "\n",
        "\n",
        "\n",
        "\n",
        "\n",
        "    // system(\"pause\");\n",
        "    return 0;\n",
        "}\n",
        "\n",
        "/* output---------\n",
        "7月是夏季\n",
        "----------------*/"
      ],
      "metadata": {
        "id": "lpkdxbfkmm8i"
      },
      "execution_count": null,
      "outputs": []
    },
    {
      "cell_type": "code",
      "source": [
        "!g++ hw5_8.cpp -o hw5_8"
      ],
      "metadata": {
        "id": "W98gFx2qmm8j"
      },
      "execution_count": null,
      "outputs": []
    },
    {
      "cell_type": "code",
      "source": [
        "!./hw5_8"
      ],
      "metadata": {
        "id": "tt-g2sh8mm8j"
      },
      "execution_count": null,
      "outputs": []
    },
    {
      "cell_type": "code",
      "source": [],
      "metadata": {
        "id": "byFftmlOnvzx"
      },
      "execution_count": null,
      "outputs": []
    },
    {
      "cell_type": "markdown",
      "source": [
        "\n",
        "### hw5_9. 某大賣場欣逢週年慶，推出促銷折扣方案，消費者購物滿1000元，即可享有95折，3000～4999元92折，5000～9999元9折，10000元以上85折。試撰寫一程式，計算消費額為12500元時，所應支付的金額：\n",
        "\n",
        "\n"
      ],
      "metadata": {
        "id": "E6-v-pcZnv6P"
      }
    },
    {
      "cell_type": "code",
      "metadata": {
        "id": "dLQokDwNnv6P"
      },
      "source": [
        "%%cuda\n",
        "// hw5_9, 班級: 資工一  學號: xxx 姓名: xxx\n",
        "#include <iostream>\n",
        "#include <cstdlib>\n",
        "using namespace std;\n",
        "int main(void)\n",
        "{\n",
        "\n",
        "\n",
        "\n",
        "\n",
        "\n",
        "\n",
        "\n",
        "\n",
        "\n",
        "\n",
        "\n",
        "\n",
        "\n",
        "\n",
        "\n",
        "    // system(\"pause\");\n",
        "    return 0;\n",
        "}\n",
        "\n",
        "/* output---------\n",
        "消費額為：12500 元\n",
        "應支付的金額為：10625 元\n",
        "----------------*/"
      ],
      "execution_count": null,
      "outputs": []
    },
    {
      "cell_type": "code",
      "source": [
        "%%writefile hw5_9.cpp\n",
        "// hw5_9, 班級: 資工一  學號: xxx 姓名: xxx\n",
        "#include <iostream>\n",
        "#include <cstdlib>\n",
        "using namespace std;\n",
        "int main(void)\n",
        "{\n",
        "\n",
        "\n",
        "\n",
        "\n",
        "\n",
        "\n",
        "\n",
        "\n",
        "\n",
        "\n",
        "\n",
        "\n",
        "\n",
        "\n",
        "\n",
        "    // system(\"pause\");\n",
        "    return 0;\n",
        "}\n",
        "/* output---------\n",
        "消費額為：12500 元\n",
        "應支付的金額為：10625 元\n",
        "----------------*/"
      ],
      "metadata": {
        "id": "VzYiNp8Fnv6P"
      },
      "execution_count": null,
      "outputs": []
    },
    {
      "cell_type": "code",
      "source": [
        "!g++ hw5_9.cpp -o hw5_9"
      ],
      "metadata": {
        "id": "HlP-t0k3nv6P"
      },
      "execution_count": null,
      "outputs": []
    },
    {
      "cell_type": "code",
      "source": [
        "!./hw5_9"
      ],
      "metadata": {
        "id": "EINiN7gEnv6P"
      },
      "execution_count": null,
      "outputs": []
    },
    {
      "cell_type": "markdown",
      "source": [
        "\n",
        "### hw5_10. 試利用巢狀的if敘述設計一程式，直接設定學生成績，輸出為成績的等級。學生成績依下列的分類方式分級：\n",
        "\n",
        "\n",
        "\n",
        "```\n",
        "80～100：A級\n",
        "60～79：B級\n",
        "0～59：C級\n",
        "\n",
        "```\n",
        "\n",
        "\n"
      ],
      "metadata": {
        "id": "4g80hEo4oepi"
      }
    },
    {
      "cell_type": "code",
      "metadata": {
        "id": "XuwzZH2Doepi"
      },
      "source": [
        "%%cuda\n",
        "// hw5_10, 班級: 資工一  學號: xxx 姓名: xxx\n",
        "#include <iostream>\n",
        "#include <cstdlib>\n",
        "using namespace std;\n",
        "int main(void)\n",
        "{\n",
        "\n",
        "\n",
        "\n",
        "\n",
        "\n",
        "\n",
        "\n",
        "\n",
        "\n",
        "    // system(\"pause\");\n",
        "    return 0;\n",
        "}\n",
        "\n",
        "/* output---------\n",
        "成績為：75分\n",
        "B級\n",
        "----------------*/"
      ],
      "execution_count": null,
      "outputs": []
    },
    {
      "cell_type": "code",
      "source": [
        "%%writefile hw5_10.cpp\n",
        "// hw5_10, 班級: 資工一  學號: xxx 姓名: xxx\n",
        "#include <iostream>\n",
        "#include <cstdlib>\n",
        "using namespace std;\n",
        "int main(void)\n",
        "{\n",
        "\n",
        "\n",
        "\n",
        "\n",
        "\n",
        "\n",
        "\n",
        "\n",
        "\n",
        "    // system(\"pause\");\n",
        "    return 0;\n",
        "}\n",
        "\n",
        "/* output---------\n",
        "成績為：75分\n",
        "B級\n",
        "----------------*/"
      ],
      "metadata": {
        "id": "pBZPSt2Ooepi"
      },
      "execution_count": null,
      "outputs": []
    },
    {
      "cell_type": "code",
      "source": [
        "!g++ hw5_10.cpp -o hw5_10"
      ],
      "metadata": {
        "id": "hwptL8O9oepi"
      },
      "execution_count": null,
      "outputs": []
    },
    {
      "cell_type": "code",
      "source": [
        "!./hw5_10"
      ],
      "metadata": {
        "id": "pRKDTlZvoepj"
      },
      "execution_count": null,
      "outputs": []
    },
    {
      "cell_type": "markdown",
      "source": [
        "# 習題：5.3 迴圈："
      ],
      "metadata": {
        "id": "11Rj75-ZpW4p"
      }
    },
    {
      "cell_type": "markdown",
      "source": [
        "\n",
        "### hw5_11. 試撰寫一程式，印出從1到100之間，所有可以被18整除的數值：\n"
      ],
      "metadata": {
        "id": "L5LokdYvpW4p"
      }
    },
    {
      "cell_type": "code",
      "metadata": {
        "id": "GmyE3kN7pW4p"
      },
      "source": [
        "%%cuda\n",
        "// hw5_11, 班級: 資工一  學號: xxx 姓名: xxx\n",
        "#include <iostream>\n",
        "#include <cstdlib>\n",
        "using namespace std;\n",
        "int main(void)\n",
        "{\n",
        "\n",
        "\n",
        "\n",
        "\n",
        "\n",
        "\n",
        "\n",
        "\n",
        "\n",
        "\n",
        "    // system(\"pause\");\n",
        "    return 0;\n",
        "}\n",
        "\n",
        "/* output----------------\n",
        "1～100中可被18整除的數有： 18 36 54 72 90\n",
        "-----------------------*/"
      ],
      "execution_count": null,
      "outputs": []
    },
    {
      "cell_type": "code",
      "source": [
        "%%writefile hw5_11.cpp\n",
        "// hw5_11, 班級: 資工一  學號: xxx 姓名: xxx\n",
        "#include <iostream>\n",
        "#include <cstdlib>\n",
        "using namespace std;\n",
        "int main(void)\n",
        "{\n",
        "\n",
        "\n",
        "\n",
        "\n",
        "\n",
        "\n",
        "\n",
        "\n",
        "\n",
        "\n",
        "    // system(\"pause\");\n",
        "    return 0;\n",
        "}\n",
        "\n",
        "/* output----------------\n",
        "1～100中可被18整除的數有： 18 36 54 72 90\n",
        "-----------------------*/"
      ],
      "metadata": {
        "id": "PcPpbXvFpW4p"
      },
      "execution_count": null,
      "outputs": []
    },
    {
      "cell_type": "code",
      "source": [
        "!g++ hw5_11.cpp -o hw5_11"
      ],
      "metadata": {
        "id": "PfBTiEBjpW4p"
      },
      "execution_count": null,
      "outputs": []
    },
    {
      "cell_type": "code",
      "source": [
        "!./hw5_11"
      ],
      "metadata": {
        "id": "HctnARpBpW4p"
      },
      "execution_count": null,
      "outputs": []
    },
    {
      "cell_type": "markdown",
      "source": [
        "\n",
        "### hw5_12. 試撰寫一程式，求1到100之間所有整數的立方值之總和：\n"
      ],
      "metadata": {
        "id": "OzRnkZjWqGQO"
      }
    },
    {
      "cell_type": "code",
      "metadata": {
        "id": "W6IzOcExqGQP"
      },
      "source": [
        "%%cuda\n",
        "// hw5_12, 班級: 資工一  學號: xxx 姓名: xxx\n",
        "#include <iostream>\n",
        "#include <cstdlib>\n",
        "using namespace std;\n",
        "int main(void)\n",
        "{\n",
        "\n",
        "\n",
        "\n",
        "\n",
        "\n",
        "\n",
        "    // system(\"pause\");\n",
        "    return 0;\n",
        "}\n",
        "\n",
        "/* output----------------\n",
        "1～100之間整數的立方值總和為： 25502500\n",
        "-----------------------*/"
      ],
      "execution_count": null,
      "outputs": []
    },
    {
      "cell_type": "code",
      "source": [
        "%%writefile hw5_12.cpp\n",
        "// hw5_12, 班級: 資工一  學號: xxx 姓名: xxx\n",
        "#include <iostream>\n",
        "#include <cstdlib>\n",
        "using namespace std;\n",
        "int main(void)\n",
        "{\n",
        "\n",
        "\n",
        "\n",
        "\n",
        "\n",
        "\n",
        "    // system(\"pause\");\n",
        "    return 0;\n",
        "}\n",
        "\n",
        "/* output----------------\n",
        "1～100之間整數的立方值總和為： 25502500\n",
        "-----------------------*/"
      ],
      "metadata": {
        "id": "vF5UpNUgqGQP"
      },
      "execution_count": null,
      "outputs": []
    },
    {
      "cell_type": "code",
      "source": [
        "!g++ hw5_12.cpp -o hw5_12"
      ],
      "metadata": {
        "id": "5zgAZ9lfqGQQ"
      },
      "execution_count": null,
      "outputs": []
    },
    {
      "cell_type": "code",
      "source": [
        "!./hw5_12"
      ],
      "metadata": {
        "id": "IdQUU_WXqGQQ"
      },
      "execution_count": null,
      "outputs": []
    },
    {
      "cell_type": "markdown",
      "source": [
        "\n",
        "### hw5_13. 試撰寫一程式，印出從1到100之間，所有可以被7整除，又可以被4整除的數值：\n"
      ],
      "metadata": {
        "id": "_r8jcAKwqvxT"
      }
    },
    {
      "cell_type": "code",
      "metadata": {
        "id": "U7g2oinFqvxU"
      },
      "source": [
        "%%cuda\n",
        "// hw5_13, 班級: 資工一  學號: xxx 姓名: xxx\n",
        "#include <iostream>\n",
        "#include <cstdlib>\n",
        "using namespace std;\n",
        "int main(void)\n",
        "{\n",
        "\n",
        "\n",
        "\n",
        "\n",
        "\n",
        "\n",
        "\n",
        "    // system(\"pause\");\n",
        "    return 0;\n",
        "}\n",
        "\n",
        "/* output----------------\n",
        "1～100中可同時被7與4整除的數有： 28 56 84\n",
        "-----------------------*/"
      ],
      "execution_count": null,
      "outputs": []
    },
    {
      "cell_type": "code",
      "source": [
        "%%writefile hw5_13.cpp\n",
        "// hw5_13, 班級: 資工一  學號: xxx 姓名: xxx\n",
        "#include <iostream>\n",
        "#include <cstdlib>\n",
        "using namespace std;\n",
        "int main(void)\n",
        "{\n",
        "\n",
        "\n",
        "\n",
        "\n",
        "\n",
        "\n",
        "\n",
        "    // system(\"pause\");\n",
        "    return 0;\n",
        "}\n",
        "\n",
        "/* output----------------\n",
        "1～100中可同時被7與4整除的數有： 28 56 84\n",
        "-----------------------*/"
      ],
      "metadata": {
        "id": "5KNokU7RqvxU"
      },
      "execution_count": null,
      "outputs": []
    },
    {
      "cell_type": "code",
      "source": [
        "!g++ hw5_13.cpp -o hw5_13"
      ],
      "metadata": {
        "id": "MQ3RS0nbqvxU"
      },
      "execution_count": null,
      "outputs": []
    },
    {
      "cell_type": "code",
      "source": [
        "!./hw5_13"
      ],
      "metadata": {
        "id": "SfWXoSH1qvxU"
      },
      "execution_count": null,
      "outputs": []
    },
    {
      "cell_type": "markdown",
      "source": [
        "\n",
        "### hw5_14. 試利用for迴圈撰寫出一個能產生如下圖結果的程式：\n",
        "\n",
        "\n",
        "\n",
        "```\n",
        "1\n",
        "22\n",
        "333\n",
        "4444\n",
        "55555\n",
        "```\n",
        "\n"
      ],
      "metadata": {
        "id": "68I0lgmarRKH"
      }
    },
    {
      "cell_type": "code",
      "metadata": {
        "id": "TBzz3h4Sr51E"
      },
      "source": [
        "%%cuda\n",
        "// hw5_14, 班級: 資工一  學號: xxx 姓名: xxx\n",
        "#include <iostream>\n",
        "#include <cstdlib>\n",
        "using namespace std;\n",
        "int main(void)\n",
        "{\n",
        "\n",
        "\n",
        "\n",
        "\n",
        "\n",
        "\n",
        "\n",
        "    // system(\"pause\");\n",
        "    return 0;\n",
        "}\n",
        "\n",
        "/* output----------------\n",
        "1\n",
        "22\n",
        "333\n",
        "4444\n",
        "55555\n",
        "-----------------------*/"
      ],
      "execution_count": null,
      "outputs": []
    },
    {
      "cell_type": "code",
      "source": [
        "%%writefile hw5_14.cpp\n",
        "// hw5_14, 班級: 資工一  學號: xxx 姓名: xxx\n",
        "#include <iostream>\n",
        "#include <cstdlib>\n",
        "using namespace std;\n",
        "int main(void)\n",
        "{\n",
        "\n",
        "\n",
        "\n",
        "\n",
        "\n",
        "\n",
        "\n",
        "    // system(\"pause\");\n",
        "    return 0;\n",
        "}\n",
        "\n",
        "/* output----------------\n",
        "1\n",
        "22\n",
        "333\n",
        "4444\n",
        "55555\n",
        "-----------------------*/"
      ],
      "metadata": {
        "id": "rxQ6EzUHr51E"
      },
      "execution_count": null,
      "outputs": []
    },
    {
      "cell_type": "code",
      "source": [
        "!g++ hw5_14.cpp -o hw5_14"
      ],
      "metadata": {
        "id": "G5j-xjT1r51E"
      },
      "execution_count": null,
      "outputs": []
    },
    {
      "cell_type": "code",
      "source": [
        "!./hw5_14"
      ],
      "metadata": {
        "id": "8mel4MwIr51E"
      },
      "execution_count": null,
      "outputs": []
    },
    {
      "cell_type": "markdown",
      "source": [
        "\n",
        "### hw5_15. 試利用while迴圈與if敘述，判斷並列印出1～20中所有的偶數，同時計算這些偶數的平方值之和：\n",
        "\n",
        "\n",
        "\n",
        "```\n",
        "1\n",
        "22\n",
        "333\n",
        "4444\n",
        "55555\n",
        "```\n",
        "\n"
      ],
      "metadata": {
        "id": "_78Xianjr51E"
      }
    },
    {
      "cell_type": "code",
      "metadata": {
        "id": "7AdWIzmerRKH"
      },
      "source": [
        "%%cuda\n",
        "// hw5_15, 班級: 資工一  學號: xxx 姓名: xxx\n",
        "#include <iostream>\n",
        "#include <cstdlib>\n",
        "using namespace std;\n",
        "int main(void)\n",
        "{\n",
        "\n",
        "\n",
        "\n",
        "\n",
        "\n",
        "\n",
        "\n",
        "\n",
        "\n",
        "\n",
        "    // system(\"pause\");\n",
        "    return 0;\n",
        "}\n",
        "\n",
        "/* output----------------\n",
        "1～20中的偶數有： 2 4 6 8 10 12 14 16 18 20\n",
        "平方值之和為：1540\n",
        "-----------------------*/"
      ],
      "execution_count": null,
      "outputs": []
    },
    {
      "cell_type": "code",
      "source": [
        "%%writefile hw5_15.cpp\n",
        "// hw5_15, 班級: 資工一  學號: xxx 姓名: xxx\n",
        "#include <iostream>\n",
        "#include <cstdlib>\n",
        "using namespace std;\n",
        "int main(void)\n",
        "{\n",
        "\n",
        "\n",
        "\n",
        "\n",
        "\n",
        "\n",
        "\n",
        "\n",
        "\n",
        "\n",
        "    // system(\"pause\");\n",
        "    return 0;\n",
        "}\n",
        "\n",
        "/* output----------------\n",
        "1～20中的偶數有： 2 4 6 8 10 12 14 16 18 20\n",
        "平方值之和為：1540\n",
        "-----------------------*/"
      ],
      "metadata": {
        "id": "WB_up3KjrRKH"
      },
      "execution_count": null,
      "outputs": []
    },
    {
      "cell_type": "code",
      "source": [
        "!g++ hw5_15.cpp -o hw5_15"
      ],
      "metadata": {
        "id": "9JH5d7b2rRKI"
      },
      "execution_count": null,
      "outputs": []
    },
    {
      "cell_type": "code",
      "source": [
        "!./hw5_15"
      ],
      "metadata": {
        "id": "W9WaKFEfrRKI"
      },
      "execution_count": null,
      "outputs": []
    },
    {
      "cell_type": "markdown",
      "source": [
        "\n",
        "### hw5_16. 試利用while迴圈計算 2+4+6+⋯+n 的總和，其中n為200：\n",
        "\n",
        "\n",
        "\n"
      ],
      "metadata": {
        "id": "oTr99LlKtA6u"
      }
    },
    {
      "cell_type": "code",
      "metadata": {
        "id": "qxMnAAdstA6u"
      },
      "source": [
        "%%cuda\n",
        "// hw5_16, 班級: 資工一  學號: xxx 姓名: xxx\n",
        "#include <iostream>\n",
        "#include <cstdlib>\n",
        "using namespace std;\n",
        "int main(void)\n",
        "{\n",
        "\n",
        "\n",
        "\n",
        "\n",
        "\n",
        "\n",
        "\n",
        "\n",
        "    // system(\"pause\");\n",
        "    return 0;\n",
        "}\n",
        "\n",
        "/* output----------------\n",
        "2 + 4 + ... + 200 = 10100\n",
        "-----------------------*/"
      ],
      "execution_count": null,
      "outputs": []
    },
    {
      "cell_type": "code",
      "source": [
        "%%writefile hw5_16.cpp\n",
        "// hw5_16, 班級: 資工一  學號: xxx 姓名: xxx\n",
        "#include <iostream>\n",
        "#include <cstdlib>\n",
        "using namespace std;\n",
        "int main(void)\n",
        "{\n",
        "\n",
        "\n",
        "\n",
        "\n",
        "\n",
        "\n",
        "\n",
        "\n",
        "    // system(\"pause\");\n",
        "    return 0;\n",
        "}\n",
        "\n",
        "/* output----------------\n",
        "2 + 4 + ... + 200 = 10100\n",
        "-----------------------*/"
      ],
      "metadata": {
        "id": "H6U6bTpttA6u"
      },
      "execution_count": null,
      "outputs": []
    },
    {
      "cell_type": "code",
      "source": [
        "!g++ hw5_16.cpp -o hw5_16"
      ],
      "metadata": {
        "id": "9lJWH92VtA6u"
      },
      "execution_count": null,
      "outputs": []
    },
    {
      "cell_type": "code",
      "source": [
        "!./hw5_16"
      ],
      "metadata": {
        "id": "Bqd6Lcp2tA6u"
      },
      "execution_count": null,
      "outputs": []
    },
    {
      "cell_type": "markdown",
      "source": [
        "\n",
        "### hw5_17. 試撰寫一程式，利用do while迴圈完成九九乘法表：\n",
        "\n",
        "\n",
        "\n"
      ],
      "metadata": {
        "id": "8KsngHF3tpH1"
      }
    },
    {
      "cell_type": "code",
      "metadata": {
        "id": "H3aPTfkqtpH2"
      },
      "source": [
        "%%cuda\n",
        "// hw5_17, 班級: 資工一  學號: xxx 姓名: xxx\n",
        "#include <iostream>\n",
        "#include <cstdlib>\n",
        "using namespace std;\n",
        "int main(void)\n",
        "{\n",
        "\n",
        "\n",
        "\n",
        "\n",
        "\n",
        "\n",
        "\n",
        "\n",
        "\n",
        "\n",
        "\n",
        "    // system(\"pause\");\n",
        "    return 0;\n",
        "}\n",
        "\n",
        "/* output----------------\n",
        "1*1=1\t1*2=2\t1*3=3\t1*4=4\t1*5=5\t1*6=6\t1*7=7\t1*8=8\t1*9=9\n",
        "2*1=2\t2*2=4\t2*3=6\t2*4=8\t2*5=10\t2*6=12\t2*7=14\t2*8=16\t2*9=18\n",
        "3*1=3\t3*2=6\t3*3=9\t3*4=12\t3*5=15\t3*6=18\t3*7=21\t3*8=24\t3*9=27\n",
        "4*1=4\t4*2=8\t4*3=12\t4*4=16\t4*5=20\t4*6=24\t4*7=28\t4*8=32\t4*9=36\n",
        "5*1=5\t5*2=10\t5*3=15\t5*4=20\t5*5=25\t5*6=30\t5*7=35\t5*8=40\t5*9=45\n",
        "6*1=6\t6*2=12\t6*3=18\t6*4=24\t6*5=30\t6*6=36\t6*7=42\t6*8=48\t6*9=54\n",
        "7*1=7\t7*2=14\t7*3=21\t7*4=28\t7*5=35\t7*6=42\t7*7=49\t7*8=56\t7*9=63\n",
        "8*1=8\t8*2=16\t8*3=24\t8*4=32\t8*5=40\t8*6=48\t8*7=56\t8*8=64\t8*9=72\n",
        "9*1=9\t9*2=18\t9*3=27\t9*4=36\t9*5=45\t9*6=54\t9*7=63\t9*8=72\t9*9=81\n",
        "-----------------------*/"
      ],
      "execution_count": null,
      "outputs": []
    },
    {
      "cell_type": "code",
      "source": [
        "%%writefile hw5_17.cpp\n",
        "// hw5_17, 班級: 資工一  學號: xxx 姓名: xxx\n",
        "#include <iostream>\n",
        "#include <cstdlib>\n",
        "using namespace std;\n",
        "int main(void)\n",
        "{\n",
        "\n",
        "\n",
        "\n",
        "\n",
        "\n",
        "\n",
        "\n",
        "\n",
        "\n",
        "\n",
        "\n",
        "    // system(\"pause\");\n",
        "    return 0;\n",
        "}\n",
        "\n",
        "/* output----------------\n",
        "1*1=1\t1*2=2\t1*3=3\t1*4=4\t1*5=5\t1*6=6\t1*7=7\t1*8=8\t1*9=9\n",
        "2*1=2\t2*2=4\t2*3=6\t2*4=8\t2*5=10\t2*6=12\t2*7=14\t2*8=16\t2*9=18\n",
        "3*1=3\t3*2=6\t3*3=9\t3*4=12\t3*5=15\t3*6=18\t3*7=21\t3*8=24\t3*9=27\n",
        "4*1=4\t4*2=8\t4*3=12\t4*4=16\t4*5=20\t4*6=24\t4*7=28\t4*8=32\t4*9=36\n",
        "5*1=5\t5*2=10\t5*3=15\t5*4=20\t5*5=25\t5*6=30\t5*7=35\t5*8=40\t5*9=45\n",
        "6*1=6\t6*2=12\t6*3=18\t6*4=24\t6*5=30\t6*6=36\t6*7=42\t6*8=48\t6*9=54\n",
        "7*1=7\t7*2=14\t7*3=21\t7*4=28\t7*5=35\t7*6=42\t7*7=49\t7*8=56\t7*9=63\n",
        "8*1=8\t8*2=16\t8*3=24\t8*4=32\t8*5=40\t8*6=48\t8*7=56\t8*8=64\t8*9=72\n",
        "9*1=9\t9*2=18\t9*3=27\t9*4=36\t9*5=45\t9*6=54\t9*7=63\t9*8=72\t9*9=81\n",
        "-----------------------*/"
      ],
      "metadata": {
        "id": "i6IspAivtpH2"
      },
      "execution_count": null,
      "outputs": []
    },
    {
      "cell_type": "code",
      "source": [
        "!g++ hw5_17.cpp -o hw5_17"
      ],
      "metadata": {
        "id": "I5yVRc_OtpH2"
      },
      "execution_count": null,
      "outputs": []
    },
    {
      "cell_type": "code",
      "source": [
        "!./hw5_17"
      ],
      "metadata": {
        "id": "TC3ioHNPtpH2"
      },
      "execution_count": null,
      "outputs": []
    },
    {
      "cell_type": "markdown",
      "source": [
        "\n",
        "### hw5_19. 迴圈主體若是沒有敘述，即稱為空迴圈。雖然空迴圈看起來好像沒有做事，實際上是有耗費CPU的資源。以for迴圈為例，其空迴圈的格式如下：\n",
        "\n",
        "```\n",
        "for(設定初值;判斷條件;設定增減量)\n",
        "{}\n",
        "或是\n",
        "for(設定初值;判斷條件;設定增減量);\n",
        "```\n",
        "在大括號內不加入任何的敘述，或是直接在迴圈for敘述後面加上分號，這種迴圈即稱為空迴圈。空迴圈最主要的功能，是用來延遲程式的執行，而某些初學者，卻常常不小心在迴圈敘述後面加上分號，無意間造成空迴圈，進而發生程式邏輯的錯誤。如下面的for迴圈，是用來加總1~10，卻不慎在for敘述後面加上分號，而造成錯誤的結果：\n",
        "\n",
        "```\n",
        "for(i=1;i<=10;i++);\n",
        "   sum+=i;\n",
        "```   \n",
        "下面的程式，是利用for空迴圈執行99999999次，進入迴圈前、後皆把迴圈控制變數i的值印出。部分的程式如下，請將它補上該有的程式，以完成本題的需要。\n",
        "```\n",
        "01   // hw5_19, 班級: 資工一  學號: xxx 姓名: xxx\n",
        "02   #include <iostream>\n",
        "03   #include <cstdlib>\n",
        "04   using namespace std;\n",
        "05   int main(void)\n",
        "06   {   \n",
        "07      int i=0; \t\t// 迴圈控制變數\n",
        "08   \n",
        "09      cout << \"進入迴圈, i=\" << i << endl;\n",
        "10      // 請在此輸入程式碼，以完成本題的要求\n",
        "11   \n",
        "12      cout << \"離開迴圈, i=\" << i << endl;\n",
        "13   \n",
        "14      // system(\"pause\");\n",
        "15      return 0;\n",
        "16   }\n",
        "\n",
        "```\n",
        "\n",
        "\n"
      ],
      "metadata": {
        "id": "saeDeW2Ml-bX"
      }
    },
    {
      "cell_type": "code",
      "metadata": {
        "id": "a4A9_XSAl-bX"
      },
      "source": [
        "%%cuda\n",
        "// hw5_19, 班級: 資工一  學號: xxx 姓名: xxx\n",
        "#include <iostream>\n",
        "#include <cstdlib>\n",
        "using namespace std;\n",
        "int main(void)\n",
        "{\n",
        "\n",
        "\n",
        "\n",
        "\n",
        "\n",
        "\n",
        "\n",
        "    // system(\"pause\");\n",
        "    return 0;\n",
        "}\n",
        "\n",
        "/* output----------------\n",
        "進入迴圈, i = 0\n",
        "離開迴圈, i = 100000000\n",
        "-----------------------*/"
      ],
      "execution_count": null,
      "outputs": []
    },
    {
      "cell_type": "code",
      "source": [
        "%%writefile hw5_19.cpp\n",
        "// hw5_19, 班級: 資工一  學號: xxx 姓名: xxx\n",
        "#include <iostream>\n",
        "#include <cstdlib>\n",
        "using namespace std;\n",
        "int main(void)\n",
        "{\n",
        "\n",
        "\n",
        "\n",
        "\n",
        "\n",
        "\n",
        "\n",
        "    // system(\"pause\");\n",
        "    return 0;\n",
        "}\n",
        "\n",
        "/* output----------------\n",
        "進入迴圈, i = 0\n",
        "離開迴圈, i = 100000000\n",
        "-----------------------*/"
      ],
      "metadata": {
        "id": "OhbGAOQGl-bX"
      },
      "execution_count": null,
      "outputs": []
    },
    {
      "cell_type": "code",
      "source": [
        "!g++ hw5_19.cpp -o hw5_19"
      ],
      "metadata": {
        "id": "On9OvsP7l-bY"
      },
      "execution_count": null,
      "outputs": []
    },
    {
      "cell_type": "code",
      "source": [
        "!./hw5_19"
      ],
      "metadata": {
        "id": "cuKtFZ8ql-bY"
      },
      "execution_count": null,
      "outputs": []
    },
    {
      "cell_type": "markdown",
      "source": [
        "# 習題：5.4 迴圈的跳離："
      ],
      "metadata": {
        "id": "rKxSrxKPuXC1"
      }
    },
    {
      "cell_type": "markdown",
      "source": [
        "\n",
        "### hw5_20. 假設有一條繩子長3500公尺，每天剪去一半的長度，請問需要花費幾天的時間，繩子的長度會短於3公尺（請用break敘述來撰寫）：\n"
      ],
      "metadata": {
        "id": "2lPzC8spuXC1"
      }
    },
    {
      "cell_type": "code",
      "metadata": {
        "id": "W_EJbEFtuXC2"
      },
      "source": [
        "%%cuda\n",
        "// hw5_20, 班級: 資工一  學號: xxx 姓名: xxx\n",
        "#include <iostream>\n",
        "#include <cstdlib>\n",
        "using namespace std;\n",
        "int main(void)\n",
        "{\n",
        "\n",
        "\n",
        "\n",
        "\n",
        "\n",
        "\n",
        "\n",
        "\n",
        "\n",
        "\n",
        "\n",
        "    // system(\"pause\");\n",
        "    return 0;\n",
        "}\n",
        "\n",
        "/* output----------------\n",
        "It spent 11 days\n",
        "-----------------------*/"
      ],
      "execution_count": null,
      "outputs": []
    },
    {
      "cell_type": "code",
      "source": [
        "%%writefile hw5_20.cpp\n",
        "// hw5_20, 班級: 資工一  學號: xxx 姓名: xxx\n",
        "#include <iostream>\n",
        "#include <cstdlib>\n",
        "using namespace std;\n",
        "int main(void)\n",
        "{\n",
        "\n",
        "\n",
        "\n",
        "\n",
        "\n",
        "\n",
        "\n",
        "\n",
        "\n",
        "\n",
        "\n",
        "    // system(\"pause\");\n",
        "    return 0;\n",
        "}\n",
        "\n",
        "/* output----------------\n",
        "It spent 11 days\n",
        "-----------------------*/"
      ],
      "metadata": {
        "id": "ieB0PHJquXC2"
      },
      "execution_count": null,
      "outputs": []
    },
    {
      "cell_type": "code",
      "source": [
        "!g++ hw5_20.cpp -o hw5_20"
      ],
      "metadata": {
        "id": "PC1rEk7cuXC2"
      },
      "execution_count": null,
      "outputs": []
    },
    {
      "cell_type": "code",
      "source": [
        "!./hw5_20"
      ],
      "metadata": {
        "id": "vGoFCCkruXC2"
      },
      "execution_count": null,
      "outputs": []
    },
    {
      "cell_type": "markdown",
      "source": [
        "\n",
        "### hw5_21. 試撰寫一程式，利用continue敘述，找出小於45的最大質數：\n"
      ],
      "metadata": {
        "id": "RMK6d9Ylvk-7"
      }
    },
    {
      "cell_type": "code",
      "metadata": {
        "id": "UsyXKTvuvk-7"
      },
      "source": [
        "%%cuda\n",
        "// hw5_21, 班級: 資工一  學號: xxx 姓名: xxx\n",
        "#include <iostream>\n",
        "#include <cstdlib>\n",
        "using namespace std;\n",
        "int main(void)\n",
        "{\n",
        "\n",
        "\n",
        "\n",
        "\n",
        "\n",
        "\n",
        "\n",
        "\n",
        "\n",
        "\n",
        "\n",
        "\n",
        "\n",
        "\n",
        "\n",
        "    // system(\"pause\");\n",
        "    return 0;\n",
        "}\n",
        "\n",
        "/* output----------------\n",
        "小於 45 的最大質數為：43\n",
        "-----------------------*/"
      ],
      "execution_count": null,
      "outputs": []
    },
    {
      "cell_type": "code",
      "source": [
        "%%writefile hw5_21.cpp\n",
        "// hw5_21, 班級: 資工一  學號: xxx 姓名: xxx\n",
        "#include <iostream>\n",
        "#include <cstdlib>\n",
        "using namespace std;\n",
        "int main(void)\n",
        "{\n",
        "\n",
        "\n",
        "\n",
        "\n",
        "\n",
        "\n",
        "\n",
        "\n",
        "\n",
        "\n",
        "\n",
        "\n",
        "\n",
        "\n",
        "\n",
        "    // system(\"pause\");\n",
        "    return 0;\n",
        "}\n",
        "\n",
        "/* output----------------\n",
        "小於 45 的最大質數為：43\n",
        "-----------------------*/"
      ],
      "metadata": {
        "id": "oYt_ZHOvvk-7"
      },
      "execution_count": null,
      "outputs": []
    },
    {
      "cell_type": "code",
      "source": [
        "!g++ hw5_21.cpp -o hw5_21"
      ],
      "metadata": {
        "id": "lPpy4dpFvk-7"
      },
      "execution_count": null,
      "outputs": []
    },
    {
      "cell_type": "code",
      "source": [
        "!./hw5_21"
      ],
      "metadata": {
        "id": "KBirKrr1vk-8"
      },
      "execution_count": null,
      "outputs": []
    },
    {
      "cell_type": "markdown",
      "source": [
        "\n",
        "### hw5_22. 試利用continue敘述，找出小於100的整數裡，所有可以被2與3整除，但不能被12整除的整數：\n"
      ],
      "metadata": {
        "id": "fftfngvHv4gv"
      }
    },
    {
      "cell_type": "code",
      "metadata": {
        "id": "8sJvwpgnv4gw"
      },
      "source": [
        "%%cuda\n",
        "// hw5_22, 班級: 資工一  學號: xxx 姓名: xxx\n",
        "#include <iostream>\n",
        "#include <cstdlib>\n",
        "using namespace std;\n",
        "int main(void)\n",
        "{\n",
        "\n",
        "\n",
        "\n",
        "\n",
        "\n",
        "\n",
        "\n",
        "\n",
        "\n",
        "\n",
        "    // system(\"pause\");\n",
        "    return 0;\n",
        "}\n",
        "\n",
        "/* output----------------\n",
        "可被 2 與 3 整除，但不能被 12 整除的數有： 6 18 30 42 54 66 78 90\n",
        "-----------------------*/"
      ],
      "execution_count": null,
      "outputs": []
    },
    {
      "cell_type": "code",
      "source": [
        "%%writefile hw5_22.cpp\n",
        "// hw5_22, 班級: 資工一  學號: xxx 姓名: xxx\n",
        "#include <iostream>\n",
        "#include <cstdlib>\n",
        "using namespace std;\n",
        "int main(void)\n",
        "{\n",
        "\n",
        "\n",
        "\n",
        "\n",
        "\n",
        "\n",
        "\n",
        "\n",
        "\n",
        "\n",
        "    // system(\"pause\");\n",
        "    return 0;\n",
        "}\n",
        "\n",
        "/* output----------------\n",
        "可被 2 與 3 整除，但不能被 12 整除的數有： 6 18 30 42 54 66 78 90\n",
        "-----------------------*/"
      ],
      "metadata": {
        "id": "KJ1g9RGLv4gw"
      },
      "execution_count": null,
      "outputs": []
    },
    {
      "cell_type": "code",
      "source": [
        "!g++ hw5_22.cpp -o hw5_22"
      ],
      "metadata": {
        "id": "ioC6tIX4v4gw"
      },
      "execution_count": null,
      "outputs": []
    },
    {
      "cell_type": "code",
      "source": [
        "!./hw5_22"
      ],
      "metadata": {
        "id": "M6dqLncvv4gw"
      },
      "execution_count": null,
      "outputs": []
    },
    {
      "cell_type": "markdown",
      "source": [
        "### hw5_23. 試撰寫一程式，直接設定一個整數值，然後判別此數是否為質數（prime）。若是，則印出 \"此數是質數\" 字串，若不是，則印出 \"此數不是質數\" 字串（質數是指除了1和它本身之外，沒有其它的數可以整除它的數，例如：2, 3, 5, 7與11等皆為質數）："
      ],
      "metadata": {
        "id": "oii-e3Q6wcOU"
      }
    },
    {
      "cell_type": "code",
      "metadata": {
        "id": "g7AxQjspwcOV"
      },
      "source": [
        "%%cuda\n",
        "// hw5_23, 班級: 資工一  學號: xxx 姓名: xxx\n",
        "#include <iostream>\n",
        "#include <cstdlib>\n",
        "using namespace std;\n",
        "int main(void)\n",
        "{\n",
        "\n",
        "\n",
        "\n",
        "\n",
        "\n",
        "\n",
        "\n",
        "\n",
        "\n",
        "\n",
        "\n",
        "\n",
        "\n",
        "    // system(\"pause\");\n",
        "    return 0;\n",
        "}\n",
        "\n",
        "/* output----------------\n",
        "23 是質數\n",
        "-----------------------*/"
      ],
      "execution_count": null,
      "outputs": []
    },
    {
      "cell_type": "code",
      "source": [
        "%%writefile hw5_23.cpp\n",
        "// hw5_23, 班級: 資工一  學號: xxx 姓名: xxx\n",
        "#include <iostream>\n",
        "#include <cstdlib>\n",
        "using namespace std;\n",
        "int main(void)\n",
        "{\n",
        "\n",
        "\n",
        "\n",
        "\n",
        "\n",
        "\n",
        "\n",
        "\n",
        "\n",
        "\n",
        "\n",
        "\n",
        "\n",
        "    // system(\"pause\");\n",
        "    return 0;\n",
        "}\n",
        "\n",
        "/* output----------------\n",
        "23 是質數\n",
        "-----------------------*/"
      ],
      "metadata": {
        "id": "Ryz3rgfBwcOV"
      },
      "execution_count": null,
      "outputs": []
    },
    {
      "cell_type": "code",
      "source": [
        "!g++ hw5_23.cpp -o hw5_23"
      ],
      "metadata": {
        "id": "1E_AGCKawcOV"
      },
      "execution_count": null,
      "outputs": []
    },
    {
      "cell_type": "code",
      "source": [
        "!./hw5_23"
      ],
      "metadata": {
        "id": "3A9bUZ_4wcOV"
      },
      "execution_count": null,
      "outputs": []
    },
    {
      "cell_type": "markdown",
      "source": [
        "### hw5_24. 老王養了一群兔子，但不知有幾隻。三隻三隻數之，剩餘一隻；五隻五隻數之，剩餘三隻；七隻七隻數之，剩餘二隻；試問最少有幾隻兔子："
      ],
      "metadata": {
        "id": "24_S-cDOxZRT"
      }
    },
    {
      "cell_type": "code",
      "metadata": {
        "id": "Bz3VJtoJxZRU"
      },
      "source": [
        "%%cuda\n",
        "// hw5_24, 班級: 資工一  學號: xxx 姓名: xxx\n",
        "#include <iostream>\n",
        "#include <cstdlib>\n",
        "using namespace std;\n",
        "int main(void)\n",
        "{\n",
        "\n",
        "\n",
        "\n",
        "\n",
        "\n",
        "\n",
        "\n",
        "\n",
        "\n",
        "    // system(\"pause\");\n",
        "    return 0;\n",
        "}\n",
        "\n",
        "/* output----------------\n",
        "最少有 58 隻兔子\n",
        "-----------------------*/"
      ],
      "execution_count": null,
      "outputs": []
    },
    {
      "cell_type": "code",
      "source": [
        "%%writefile hw5_24.cpp\n",
        "// hw5_24, 班級: 資工一  學號: xxx 姓名: xxx\n",
        "#include <iostream>\n",
        "#include <cstdlib>\n",
        "using namespace std;\n",
        "int main(void)\n",
        "{\n",
        "\n",
        "\n",
        "\n",
        "\n",
        "\n",
        "\n",
        "\n",
        "\n",
        "\n",
        "    // system(\"pause\");\n",
        "    return 0;\n",
        "}\n",
        "\n",
        "/* output----------------\n",
        "最少有 58 隻兔子\n",
        "-----------------------*/"
      ],
      "metadata": {
        "id": "0XjPnaTwxZRU"
      },
      "execution_count": null,
      "outputs": []
    },
    {
      "cell_type": "code",
      "source": [
        "!g++ hw5_24.cpp -o hw5_24"
      ],
      "metadata": {
        "id": "EPnkOWsFxZRU"
      },
      "execution_count": null,
      "outputs": []
    },
    {
      "cell_type": "code",
      "source": [
        "!./hw5_24"
      ],
      "metadata": {
        "id": "5RRqrVIaxZRU"
      },
      "execution_count": null,
      "outputs": []
    },
    {
      "cell_type": "markdown",
      "source": [
        "# 習題：5.5 可多重選擇的switch敘述："
      ],
      "metadata": {
        "id": "leZVimrKyAIP"
      }
    },
    {
      "cell_type": "markdown",
      "source": [
        "\n",
        "### hw5_25. 試由程式中直接設定一個整數day，代表星期一到星期日。若day的值是1，印出 \"星期一\"，若day的值是2，印出 \"星期二\"，...，若day的值是7，即印出 \"星期日\"，若day的值不是1~7，則印出 \"不存在\"：\n"
      ],
      "metadata": {
        "id": "TUKhuTpjyAIP"
      }
    },
    {
      "cell_type": "code",
      "metadata": {
        "id": "nifx-NeSyAIP"
      },
      "source": [
        "%%cuda\n",
        "// hw5_25, 班級: 資工一  學號: xxx 姓名: xxx\n",
        "#include <iostream>\n",
        "#include <cstdlib>\n",
        "using namespace std;\n",
        "int main(void)\n",
        "{\n",
        "\n",
        "\n",
        "    // system(\"pause\");\n",
        "    return 0;\n",
        "}\n",
        "\n",
        "/* output----------------\n",
        "day = 7\n",
        "星期日\n",
        "-----------------------*/"
      ],
      "execution_count": null,
      "outputs": []
    },
    {
      "cell_type": "code",
      "source": [
        "%%writefile hw5_25.cpp\n",
        "// hw5_25, 班級: 資工一  學號: xxx 姓名: xxx\n",
        "#include <iostream>\n",
        "#include <cstdlib>\n",
        "using namespace std;\n",
        "int main(void)\n",
        "{\n",
        "\n",
        "\n",
        "\n",
        "    // system(\"pause\");\n",
        "    return 0;\n",
        "}\n",
        "\n",
        "/* output----------------\n",
        "day = 7\n",
        "星期日\n",
        "-----------------------*/"
      ],
      "metadata": {
        "id": "Cw5yO_CZyAIP"
      },
      "execution_count": null,
      "outputs": []
    },
    {
      "cell_type": "code",
      "source": [
        "!g++ hw5_25.cpp -o hw5_25"
      ],
      "metadata": {
        "id": "v3yRsgYByAIP"
      },
      "execution_count": null,
      "outputs": []
    },
    {
      "cell_type": "code",
      "source": [
        "!./hw5_25"
      ],
      "metadata": {
        "id": "x9NS4vIIyAIP"
      },
      "execution_count": null,
      "outputs": []
    },
    {
      "cell_type": "markdown",
      "source": [
        "\n",
        "### hw5_26. 試由程式中直接設定一個整數month，代表一年的12個月份。若month的值是1，則印出 \"一月\"，若month的值是2，即印出 \"二月\"，...，若month的值不是1~12，則印出 \"不存在\"：\n"
      ],
      "metadata": {
        "id": "DJ8kEHnEyuca"
      }
    },
    {
      "cell_type": "code",
      "metadata": {
        "id": "Ypi-tgltyuca"
      },
      "source": [
        "%%cuda\n",
        "// hw5_26, 班級: 資工一  學號: xxx 姓名: xxx\n",
        "#include <iostream>\n",
        "#include <cstdlib>\n",
        "using namespace std;\n",
        "int main(void)\n",
        "{\n",
        "\n",
        "\n",
        "    // system(\"pause\");\n",
        "    return 0;\n",
        "}\n",
        "\n",
        "/* output----------------\n",
        "month = 7\n",
        "七月\n",
        "-----------------------*/"
      ],
      "execution_count": null,
      "outputs": []
    },
    {
      "cell_type": "code",
      "source": [
        "%%writefile hw5_26.cpp\n",
        "// hw5_26, 班級: 資工一  學號: xxx 姓名: xxx\n",
        "#include <iostream>\n",
        "#include <cstdlib>\n",
        "using namespace std;\n",
        "int main(void)\n",
        "{\n",
        "\n",
        "\n",
        "    // system(\"pause\");\n",
        "    return 0;\n",
        "}\n",
        "\n",
        "/* output----------------\n",
        "month = 7\n",
        "七月\n",
        "-----------------------*/"
      ],
      "metadata": {
        "id": "jV9L1Fh4yucb"
      },
      "execution_count": null,
      "outputs": []
    },
    {
      "cell_type": "code",
      "source": [
        "!g++ hw5_26.cpp -o hw5_26"
      ],
      "metadata": {
        "id": "-9t6I51Kyucb"
      },
      "execution_count": null,
      "outputs": []
    },
    {
      "cell_type": "code",
      "source": [
        "!./hw5_26"
      ],
      "metadata": {
        "id": "uctI4DEMyucb"
      },
      "execution_count": null,
      "outputs": []
    },
    {
      "cell_type": "markdown",
      "source": [
        "\n",
        "### hw5_27. 試由程式中直接設定一個整數month，代表一年的12個月份。若month的值是1、2，印出 \"寒假\"，month的值是7、8，印出 \"暑假\"；若month的值是9~12，印出 \"上學期\"，若month的值是3~6，印出 \"下學期\"；若month的值不是1~12，則印出 \"不存在\"：\n"
      ],
      "metadata": {
        "id": "YwrvH1Ohzkz5"
      }
    },
    {
      "cell_type": "code",
      "metadata": {
        "id": "ANPvFHuxzkz5"
      },
      "source": [
        "%%cuda\n",
        "// hw5_27, 班級: 資工一  學號: xxx 姓名: xxx\n",
        "#include <iostream>\n",
        "#include <cstdlib>\n",
        "using namespace std;\n",
        "int main(void)\n",
        "{\n",
        "\n",
        "\n",
        "    // system(\"pause\");\n",
        "    return 0;\n",
        "}\n",
        "\n",
        "/* output----------------\n",
        "10月是上學期\n",
        "-----------------------*/"
      ],
      "execution_count": null,
      "outputs": []
    },
    {
      "cell_type": "code",
      "source": [
        "%%writefile hw5_27.cpp\n",
        "// hw5_27, 班級: 資工一  學號: xxx 姓名: xxx\n",
        "#include <iostream>\n",
        "#include <cstdlib>\n",
        "using namespace std;\n",
        "int main(void)\n",
        "{\n",
        "\n",
        "\n",
        "    // system(\"pause\");\n",
        "    return 0;\n",
        "}\n",
        "\n",
        "/* output----------------\n",
        "10月是上學期\n",
        "-----------------------*/"
      ],
      "metadata": {
        "id": "nCyxaoTszkz6"
      },
      "execution_count": null,
      "outputs": []
    },
    {
      "cell_type": "code",
      "source": [
        "!g++ hw5_27.cpp -o hw5_27"
      ],
      "metadata": {
        "id": "8qu0gkmyzkz6"
      },
      "execution_count": null,
      "outputs": []
    },
    {
      "cell_type": "code",
      "source": [
        "!./hw5_27"
      ],
      "metadata": {
        "id": "sjf0J6C0zkz6"
      },
      "execution_count": null,
      "outputs": []
    },
    {
      "cell_type": "markdown",
      "metadata": {
        "id": "JrbtBoIiWTUX"
      },
      "source": [
        "#**Reference**\n",
        "C++ Tutorial\n",
        "https://www.w3schools.com/cpp/cpp_strings.asp\n",
        "\n",
        "https://www.learn-cpp.org/en/Variables_and_Types\n",
        "\n",
        "How to Run CUDA C or C++ on Jupyter (Google Colab)\n",
        "\n",
        "https://www.wikihow.com/Run-CUDA-C-or-C%2B%2B-on-Jupyter-(Google-Colab)\n",
        "\n",
        "Code block\n",
        "http://www.codeblocks.org/downloads/26\n",
        "\n",
        "Freebootcamp\n",
        "https://www.freecodecamp.org/\n",
        "\n",
        "ntroduction to C++ Programming in Urdu\n",
        "https://www.youtube.com/watch?v=dnCO124Uk1o\n",
        "\n",
        "6 Sentiment Analysis Projects with Python\n",
        "\n",
        "https://amankharwal.medium.com/6-sentiment-analysis-projects-with-python-1fdd3d43d90f\n",
        "\n",
        "C++ 教學講義\n",
        "\n",
        "https://hackmd.io/@MECode/CPP"
      ]
    }
  ]
}