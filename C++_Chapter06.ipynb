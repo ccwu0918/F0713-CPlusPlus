{
  "nbformat": 4,
  "nbformat_minor": 0,
  "metadata": {
    "colab": {
      "provenance": [],
      "include_colab_link": true
    },
    "kernelspec": {
      "name": "python3",
      "display_name": "Python 3"
    }
  },
  "cells": [
    {
      "cell_type": "markdown",
      "metadata": {
        "id": "view-in-github",
        "colab_type": "text"
      },
      "source": [
        "<a href=\"https://colab.research.google.com/github/ccwu0918/F0713-CPlusPlus/blob/main/C%2B%2B_Chapter06.ipynb\" target=\"_parent\"><img src=\"https://colab.research.google.com/assets/colab-badge.svg\" alt=\"Open In Colab\"/></a>"
      ]
    },
    {
      "cell_type": "markdown",
      "source": [
        "# 班級: 資工一  學號: 13913001 姓名: 吳佳駿"
      ],
      "metadata": {
        "id": "rog13y74sFA4"
      }
    },
    {
      "cell_type": "code",
      "source": [
        "!pip install nvcc4jupyter"
      ],
      "metadata": {
        "id": "jo8etxlmfJ8W"
      },
      "execution_count": null,
      "outputs": []
    },
    {
      "cell_type": "code",
      "source": [
        "%load_ext nvcc4jupyter"
      ],
      "metadata": {
        "id": "ezALi0PVfRUC"
      },
      "execution_count": null,
      "outputs": []
    },
    {
      "cell_type": "code",
      "metadata": {
        "id": "GaS0D8MY-cF_"
      },
      "source": [
        "!nvcc --version"
      ],
      "execution_count": null,
      "outputs": []
    },
    {
      "cell_type": "markdown",
      "metadata": {
        "id": "3_8odoHmArJr"
      },
      "source": [
        "#**Chapter 6: 函數**\n",
        "\n"
      ]
    },
    {
      "cell_type": "markdown",
      "metadata": {
        "id": "oRU_4dlny9_A"
      },
      "source": [
        "#6.1 函數的基本架構：prog6_1 (Page 6-2)\n",
        "下面是簡單的函數範例："
      ]
    },
    {
      "cell_type": "code",
      "metadata": {
        "id": "NQXFPNADy9_E"
      },
      "source": [
        "%%cuda\n",
        "// prog6_1, 簡單的函數\n",
        "#include <iostream>\n",
        "#include <cstdlib>\n",
        "using namespace std;\n",
        "void star(void); \t                // 函數原型的宣告\n",
        "int main(void)\n",
        "{\n",
        "   star();\t\t\t            // 呼叫自訂的函數，印出星號\n",
        "   cout << \"6 * 6 = \" << 6*6 << endl;       // 印出6的平方值\n",
        "   star();\t\t\t            // 呼叫自訂的函數，印出星號\n",
        "   // system(\"pause\");\n",
        "   return 0;\n",
        "}\n",
        "\n",
        "void star(void)\t\t               // 自訂的函數star()\n",
        "{\n",
        "   int j;\n",
        "   for(j = 1; j <= 8; j++)\n",
        "      cout << \"*\";\t             // 印出*星號\n",
        "   cout << endl;\n",
        "   return;\n",
        "}\n"
      ],
      "execution_count": null,
      "outputs": []
    },
    {
      "cell_type": "markdown",
      "metadata": {
        "id": "ormq1SDZcOU5"
      },
      "source": [
        "#6.1.2 不使用函數原型的方式 ：prog6_2 (Page 6-7, 6-8)\n",
        "下面的程式是不使用函數原型的方式所撰寫而成的範例："
      ]
    },
    {
      "cell_type": "code",
      "metadata": {
        "id": "w69oQey-cOU6"
      },
      "source": [
        "%%cuda\n",
        "// prog6_2, 不使用函數原型的方式\n",
        "#include <iostream>\n",
        "#include <cstdlib>\n",
        "using namespace std;\n",
        "int square(int a)    // 自訂的函數square(), 計算平方值\n",
        "{\n",
        "   int squ;\n",
        "   squ = a * a;\n",
        "   return squ;\n",
        "}\n",
        "\n",
        "int main(void)       // 主程式\n",
        "{\n",
        "   cout << \"square(6) = \" << square(6) << endl; // 印出square(6)的值\n",
        "   // system(\"pause\");\n",
        "   return 0;\n",
        "}"
      ],
      "execution_count": null,
      "outputs": []
    },
    {
      "cell_type": "markdown",
      "metadata": {
        "id": "_ggAty2UdEjb"
      },
      "source": [
        "#6.1.3 函數的引數與參數 ：prog6_3 (Page 6-9, 6-10)\n",
        "\n",
        "下面是傳入兩個引數的例子所撰寫而成的範例："
      ]
    },
    {
      "cell_type": "code",
      "metadata": {
        "id": "7aCkiwArdEjb"
      },
      "source": [
        "%%cuda\n",
        "// prog6_3, 呼叫自訂函數\n",
        "#include <iostream>\n",
        "#include <cstdlib>\n",
        "using namespace std;\n",
        "void func(int,int);     \t// 函數原型的宣告\n",
        "int main(void)\n",
        "{\n",
        "   int a=3,b=6;\n",
        "   cout << \"In main(), a = \" << a << \", b = \" << b << endl; // 印出a,b的值\n",
        "   func(a,b);\n",
        "   cout << \"After func(), a = \" << a << \", b = \" << b << endl;\n",
        "\n",
        "   // system(\"pause\");\n",
        "   return 0;\n",
        "}\n",
        "\n",
        "void func(int a,int b)\t// 自訂的函數func()，印出a,b的值\n",
        "{\n",
        "   a+=10;\n",
        "   b+=10;\n",
        "   cout << \"In func(), a = \" << a << \", b = \" << b << endl;\n",
        "   return;\n",
        "}"
      ],
      "execution_count": null,
      "outputs": []
    },
    {
      "cell_type": "markdown",
      "metadata": {
        "id": "rqmR_jkNdos7"
      },
      "source": [
        "#6.1.4 函數的傳回值：prog6_4 (Page 6-11, 6-12)\n",
        "\n",
        "下面的程式可以利用函數傳回兩個整數的較大值的範例："
      ]
    },
    {
      "cell_type": "code",
      "metadata": {
        "id": "r6Bi4sZgdos8"
      },
      "source": [
        "%%cuda\n",
        "// prog6_4, 傳回較大值\n",
        "#include <iostream>\n",
        "#include <cstdlib>\n",
        "using namespace std;\n",
        "int maxval(int, int);     // 函數原型的宣告\n",
        "int main(void)\n",
        "{\n",
        "   int a=12,b=35;\n",
        "   cout << \"a = \" << a << \", b = \" << b << endl;\t// 印出a,b的值\n",
        "   cout << \"The larger number is \" << max(a,b) << endl; // 印出較大值\n",
        "   // system(\"pause\");\n",
        "   return 0;\n",
        "}\n",
        "\n",
        "int maxval(int i,int j)\t  // 自訂的函數max(),傳回較大值\n",
        "{\n",
        "   if (i > j)\n",
        "      return i;\n",
        "   else\n",
        "      return j;\n",
        "}"
      ],
      "execution_count": null,
      "outputs": []
    },
    {
      "cell_type": "markdown",
      "metadata": {
        "id": "n1-HDB9Lgtdc"
      },
      "source": [
        "#6.1.4 函數的傳回值：prog6_5 (Page 6-13)\n",
        "\n",
        "下面的程式是沒有傳回值的函數之範例："
      ]
    },
    {
      "cell_type": "code",
      "metadata": {
        "id": "7dE3v3fhgtdc"
      },
      "source": [
        "%%cuda\n",
        "// prog6_5, 沒有傳回值的函數\n",
        "#include <iostream>\n",
        "#include <cstdlib>\n",
        "using namespace std;\n",
        "void myprint(int,char);       \t// 函數原型的宣告\n",
        "int main(void)\n",
        "{\n",
        "   int a = 6;\n",
        "   char ch = '%';\n",
        "   myprint(a, ch);\t\t  \t// 呼叫自訂的函數，印出a個字元\n",
        "   cout << \"Printed!!\" << endl;\n",
        "   // system(\"pause\");\n",
        "   return 0;\n",
        "}\n",
        "\n",
        "void myprint(int n,char c) \t// 自訂的函數myprint()\n",
        "{\n",
        "   int i;\n",
        "   for(i = 1; i <= n; i++)\n",
        "      cout << c;\t\t\t\t// 印出字元\n",
        "   cout << endl;\n",
        "   return;\n",
        "}"
      ],
      "execution_count": null,
      "outputs": []
    },
    {
      "cell_type": "markdown",
      "source": [
        "#6.2 特殊的 inline 函數：prog6_6 (Page 6-16, 6-17)\n",
        "\n",
        "下面是inline函數的使用範例：\n"
      ],
      "metadata": {
        "id": "gPWMs0wWXLKu"
      }
    },
    {
      "cell_type": "code",
      "metadata": {
        "id": "OWBjfmJbhTFg"
      },
      "source": [
        "%%cuda\n",
        "// prog6_6, inline函數\n",
        "#include <iostream>\n",
        "#include <cstdlib>\n",
        "using namespace std;\n",
        "inline void star(void) \t// 自訂的函數star(), 繪製星號\n",
        "{\n",
        "   cout << \"************\" << endl;\n",
        "}\n",
        "\n",
        "int main(void)       \t\t// 主程式\n",
        "{\n",
        "   star();\n",
        "   cout << \"Hello, C++\" << endl;\n",
        "   star();\n",
        "   // system(\"pause\");\n",
        "   return 0;\n",
        "}"
      ],
      "execution_count": null,
      "outputs": []
    },
    {
      "cell_type": "markdown",
      "source": [
        "#6.3 變數的等級\n",
        "\n"
      ],
      "metadata": {
        "id": "s-Ztk6ZFXNYp"
      }
    },
    {
      "cell_type": "markdown",
      "source": [
        "#6.3.1 區域變數：prog6_7 (Page 6-19, 6-20)\n",
        "\n",
        "下面是區域變數的使用範例：\n"
      ],
      "metadata": {
        "id": "BZZJj4w4jBOf"
      }
    },
    {
      "cell_type": "code",
      "metadata": {
        "id": "plLDjQnPjBOf"
      },
      "source": [
        "%%cuda\n",
        "// prog6_7, 區域變數\n",
        "#include <iostream>\n",
        "#include <cstdlib>\n",
        "using namespace std;\n",
        "void func(void);                           // 函數原型的宣告\n",
        "int main(void)\n",
        "{\n",
        "   auto a = 10; // auto int\n",
        "   cout << \"In Main(), a = \" << a << endl;\t   // 印出main()中a的值\n",
        "   func();\t\t                           // 呼叫自訂的函數\n",
        "   cout << \"In Main(), a = \" << a << endl;\t   // 印出a的值\n",
        "   // system(\"pause\");\n",
        "   return 0;\n",
        "}\n",
        "\n",
        "void func(void)\t                           // 自訂的函數func()\n",
        "{\n",
        "   int a = 30;\n",
        "   cout << \"In func(), a = \" << a << endl;   // 印出func()中a的值\n",
        "   return;\n",
        "}"
      ],
      "execution_count": null,
      "outputs": []
    },
    {
      "cell_type": "markdown",
      "source": [
        "#6.3.2 靜態區域變數：prog6_8 (Page 6-21)\n",
        "\n",
        "由下面的程式裡可以看到靜態區域變數a的變化之範例："
      ],
      "metadata": {
        "id": "TOFTDbQKkSVT"
      }
    },
    {
      "cell_type": "code",
      "metadata": {
        "id": "1Vm5XfrxkSVT"
      },
      "source": [
        "%%cuda\n",
        "// prog6_8, 靜態區域變數\n",
        "#include <iostream>\n",
        "#include <cstdlib>\n",
        "using namespace std;\n",
        "void func(void);   \t// 函數原型的宣告\n",
        "int main(void)\n",
        "{\n",
        "   func();\t\t   \t// 呼叫自訂的函數\n",
        "   func();\n",
        "   func();\n",
        "   // system(\"pause\");\n",
        "   return 0;\n",
        "}\n",
        "\n",
        "void func(void)\t   \t// 自訂的函數func()\n",
        "{\n",
        "   static int a=10;\n",
        "   cout << \"In func(), a = \" << a << endl;   // 印出func()中a的值\n",
        "   a += 20;\n",
        "   return;\n",
        "}"
      ],
      "execution_count": null,
      "outputs": []
    },
    {
      "cell_type": "markdown",
      "source": [
        "#6.3.3 外部變數：prog6_9 (Page 6-23, 6-24)\n",
        "\n",
        "下面的程式定義外部變數pi，利用它求取圓周及圓面積之範例："
      ],
      "metadata": {
        "id": "YBZRgvHclmow"
      }
    },
    {
      "cell_type": "code",
      "metadata": {
        "id": "YnmlOfn9lmow"
      },
      "source": [
        "%%cuda\n",
        "// prog6_9, 外部變數\n",
        "#include <iostream>\n",
        "#include <cstdlib>\n",
        "using namespace std;\n",
        "void peri(double),area(double);     // 函數原型的宣告\n",
        "int main(void)\n",
        "{\n",
        "   extern double pi;\t\t\t\t// 宣告外部變數pi\n",
        "   double r = 1.0;\n",
        "   cout << \"pi = \" << pi << endl;\n",
        "   cout << \"radius = \" << r << endl;\n",
        "   peri(r);\t\t\t                // 呼叫自訂的函數\n",
        "   area(r);\n",
        "   // system(\"pause\");\n",
        "   return 0;\n",
        "}\n",
        "double pi = 3.14;\t\t                // 外部變數pi設值為3.14\n",
        "void peri(double r)\t                // 自訂的函數peri()，印出圓周\n",
        "{\n",
        "   cout << \"peripheral length = \" << 2 * pi * r << endl;\n",
        "   return;\n",
        "}\n",
        "\n",
        "void area(double r)\t                // 自訂的函數area()，印出圓面積\n",
        "{\n",
        "   cout << \"area = \" << pi * r * r << endl;\n",
        "   return;\n",
        "}"
      ],
      "execution_count": null,
      "outputs": []
    },
    {
      "cell_type": "markdown",
      "source": [
        "#6.3.4 靜態外部變數：prog6_10 (Page 6-26)\n",
        "\n",
        "下面的程式可以認識靜態外部變數的生命週期與活動範圍之範例："
      ],
      "metadata": {
        "id": "9UUjsC5amj5K"
      }
    },
    {
      "cell_type": "code",
      "metadata": {
        "id": "4eL9rdiGmj5K"
      },
      "source": [
        "%%cuda\n",
        "// prog6_10, 靜態外部變數\n",
        "#include <iostream>\n",
        "#include <cstdlib>\n",
        "using namespace std;\n",
        "static int a;               // 定義靜態外部整數變數a\n",
        "void odd(void);    \t        // 函數原型的宣告\n",
        "int main(void)\n",
        "{\n",
        "   odd();\t      \t        // 呼叫odd()函數\n",
        "   cout << \"after odd(), a=\" << a << endl;\n",
        "   system(\"pause\");\n",
        "   return 0;\n",
        "}\n",
        "\n",
        "void odd(void)\t\t        // 自訂函數odd()，判斷a為奇數或是偶數\n",
        "{\n",
        "   a=10;\n",
        "   if(a%2==1)\n",
        "      cout << \"a=\" << a << \", a是奇數\" << endl;   // 印出a為奇數\n",
        "   else\n",
        "      cout << \"a=\" << a << \", a是偶數\" << endl;   // 印出a為偶數\n",
        "   return;\n",
        "}"
      ],
      "execution_count": null,
      "outputs": []
    },
    {
      "cell_type": "markdown",
      "source": [
        "#6.3.5 靜態外部變數：prog6_10 (Page 6-28)\n",
        "\n",
        "下面的程式可以認識靜態外部變數的生命週期與活動範圍之範例："
      ],
      "metadata": {
        "id": "JwSKl9mgna8s"
      }
    },
    {
      "cell_type": "code",
      "metadata": {
        "id": "cJ8uhsVyna8s"
      },
      "source": [
        "%%cuda\n",
        "// prog6_11, 暫存器變數 下面的程式是使用暫存器變數的範例\n",
        "#include <iostream>\n",
        "#include <cstdlib>\n",
        "#include <ctime>\n",
        "#include <iomanip>\n",
        "using namespace std;\n",
        "int main(void)\n",
        "{\n",
        "   time_t start, end;\n",
        "   register int i,j;            // 定義暫存器整數變數i與j\n",
        "   start = time(NULL);\t        // 記錄開始時間\n",
        "   for(i = 1; i <= 50; i++)\n",
        "   {\n",
        "      for(j = 1; j <= 50; j++)\n",
        "      {\n",
        "         cout << setw(2) << i << \" * \" << setw(2) << j;\n",
        "         cout << \" = \" << setw(4) << i * j << \"\\t\";\n",
        "      }\n",
        "      cout << endl;\n",
        "   }\n",
        "   end = time(NULL);\t            // 記錄結束時間\n",
        "   cout << \"It spends \" << difftime(end, start) << \" seconds\";\n",
        "   // system(\"pause\");\n",
        "   return 0;\n",
        "}"
      ],
      "execution_count": null,
      "outputs": []
    },
    {
      "cell_type": "markdown",
      "source": [
        "#6.4 同時使用多個函數"
      ],
      "metadata": {
        "id": "DBbyWF90XOi6"
      }
    },
    {
      "cell_type": "markdown",
      "source": [
        "#6.4.1 呼叫多個函數：prog6_12 (Page 6-30)\n",
        "\n",
        "下面的程式碼是在主程式裡呼叫多個函數的範例：\n"
      ],
      "metadata": {
        "id": "EIMs7iVToGB7"
      }
    },
    {
      "cell_type": "code",
      "metadata": {
        "id": "Brkk3x7roGB8"
      },
      "source": [
        "%%cuda\n",
        "// prog6_12, 呼叫多個函數\n",
        "#include <iostream>\n",
        "#include <cstdlib>\n",
        "using namespace std;\n",
        "void sum(int),fact(int);\n",
        "int main(void)\n",
        "{\n",
        "   int a=5;\n",
        "   fact(a);\n",
        "   sum(a);\n",
        "   // system(\"pause\");\n",
        "   return 0;\n",
        "}\n",
        "\n",
        "void fact(int a)\t    // 自訂函數fact()，計算a!\n",
        "{\n",
        "   int i, total = 1;\n",
        "   for(i = 1; i <= a; i++)\n",
        "      total *= i;\n",
        "   cout << \"1 * 2 * ... * \" << a << \" = \" << total <<  endl;      //印出a!的結果\n",
        "   return;\n",
        "}\n",
        "\n",
        "void sum(int a)\t        //自訂函數sum()，計算1 + 2 + ... + a的結果\n",
        "{\n",
        "   int i, sum = 0;\n",
        "   for(i=1;i <= a; i++)\n",
        "      sum += i;\n",
        "   cout << \"1 + 2 + ... + \" << a << \" = \" << sum << endl;         // 印出計算結果\n",
        "   return;\n",
        "}"
      ],
      "execution_count": null,
      "outputs": []
    },
    {
      "cell_type": "markdown",
      "source": [
        "#6.4.2 函數之間的相互呼叫：prog6_13 (Page 6-31, 6-32)\n",
        "\n",
        "下面的程式碼是在函數間呼叫其它函數的範例：\n"
      ],
      "metadata": {
        "id": "smpgNgdioxUA"
      }
    },
    {
      "cell_type": "code",
      "metadata": {
        "id": "ipLvzt9aoxUA"
      },
      "source": [
        "%%cuda\n",
        "// prog6_13, 相互呼叫函數\n",
        "#include <iostream>\n",
        "#include <cstdlib>\n",
        "using namespace std;\n",
        "void sum(int), fact(int);\n",
        "int main(void)\n",
        "{\n",
        "   int a = 5;\n",
        "   fact(a);\n",
        "   sum(a + 5);\n",
        "   // system(\"pause\");\n",
        "   return 0;\n",
        "}\n",
        "\n",
        "void fact(int a)\t     // 自訂函數fact()，計算a!\n",
        "{\n",
        "   int i, total = 1;\n",
        "   for(i = 1; i <= a; i++)\n",
        "      total *= i;\n",
        "   cout << \"1 * 2 * ... * \" << a << \" = \" << total << endl;     //印出a!的結果\n",
        "   sum(a);\n",
        "   return;\n",
        "}\n",
        "\n",
        "void sum(int a)\t         // 自訂函數sum()，計算1+2+...+a的結果\n",
        "{\n",
        "   int i, sum = 0;\n",
        "   for(i = 1; i <= a; i++)\n",
        "      sum += i;\n",
        "   cout << \" 1 + 2 + ... + \" << a << \" = \" << sum << endl;       //印出計算結果\n",
        "   return;\n",
        "}"
      ],
      "execution_count": null,
      "outputs": []
    },
    {
      "cell_type": "markdown",
      "source": [
        "#6.4.3 遞迴函數：prog6_14 (Page 6-33, 6-34)\n",
        "\n",
        "下面的程式是利用遞迴計算階乘fact(a) 的運算結果的範例：\n"
      ],
      "metadata": {
        "id": "Jp-brhDvq4Z7"
      }
    },
    {
      "cell_type": "code",
      "metadata": {
        "id": "tmkYdS9Aq4Z8"
      },
      "source": [
        "%%cuda\n",
        "// prog6_14, 遞迴函數,計算階乘\n",
        "#include <iostream>\n",
        "#include <cstdlib>\n",
        "using namespace std;\n",
        "int fact(int);\n",
        "int main(void)\n",
        "{\n",
        "   int a = 4;\n",
        "   do\n",
        "   {\n",
        "      cout << \"Input an integer: \";\n",
        "      cin >> a;\n",
        "   } while (a <= 0); \t     // 確定輸入的a為大於0的數\n",
        "   cout << \"1 * 2 * ... * \" << a << \" = \" << fact(a) << endl;\n",
        "   // system(\"pause\");\n",
        "   return 0;\n",
        "}\n",
        "\n",
        "int fact(int a)\t\t     // 自訂函數fact(), 計算a!\n",
        "{\n",
        "   if(a > 0)\n",
        "      return (a * fact(a - 1));\n",
        "   else\n",
        "      return 1;\n",
        "}"
      ],
      "execution_count": null,
      "outputs": []
    },
    {
      "cell_type": "code",
      "source": [
        "%%writefile prog6_14.cpp\n",
        "// prog6_14, 遞迴函數,計算階乘\n",
        "#include <iostream>\n",
        "#include <cstdlib>\n",
        "using namespace std;\n",
        "int fact(int);\n",
        "int main(void)\n",
        "{\n",
        "   int a = 4;\n",
        "   do\n",
        "   {\n",
        "      cout << \"Input an integer: \";\n",
        "      cin >> a;\n",
        "   } while (a <= 0); \t     // 確定輸入的a為大於0的數\n",
        "   cout << \"1 * 2 * ... * \" << a << \" = \" << fact(a) << endl;\n",
        "   // system(\"pause\");\n",
        "   return 0;\n",
        "}\n",
        "\n",
        "int fact(int a)\t\t     // 自訂函數fact()，計算a!\n",
        "{\n",
        "   if(a > 0)\n",
        "      return (a * fact(a - 1));\n",
        "   else\n",
        "      return 1;\n",
        "}"
      ],
      "metadata": {
        "id": "H1B0hsMCrxrI"
      },
      "execution_count": null,
      "outputs": []
    },
    {
      "cell_type": "code",
      "source": [
        "!g++ prog6_14.cpp -o prog6_14"
      ],
      "metadata": {
        "id": "z2OHBfmirxrJ"
      },
      "execution_count": null,
      "outputs": []
    },
    {
      "cell_type": "code",
      "source": [
        "!./prog6_14"
      ],
      "metadata": {
        "id": "2kxwFYdsrxrK"
      },
      "execution_count": null,
      "outputs": []
    },
    {
      "cell_type": "markdown",
      "source": [
        "#6.4.3 遞迴函數：prog6_15 (Page 6-35, 6-36)\n",
        "\n",
        "下面是以遞迴函數求次方的程式範例：\n"
      ],
      "metadata": {
        "id": "Dr4boHossJc-"
      }
    },
    {
      "cell_type": "code",
      "metadata": {
        "id": "TneRN4wusJc-"
      },
      "source": [
        "%%cuda\n",
        "// prog6_15, 遞迴函數,計算次方\n",
        "#include <iostream>\n",
        "#include <cstdlib>\n",
        "using namespace std;\n",
        "int power(int, int);\n",
        "int main(void)\n",
        "{\n",
        "   int a = 2, b = 3;\n",
        "   cout << a << \" ^ \" << b << \" = \";\n",
        "   cout << power(a, b) << endl;    // 印出a^b的結果\n",
        "   // system(\"pause\");\n",
        "   return 0;\n",
        "}\n",
        "\n",
        "int power(int a, int b)\t          // 自訂函數power()，計算a^b\n",
        "{\n",
        "   if(b == 0)\n",
        "      return 1;\n",
        "   else return (a * power(a, b - 1));\n",
        "}\n"
      ],
      "execution_count": null,
      "outputs": []
    },
    {
      "cell_type": "markdown",
      "source": [
        "\n",
        "\n",
        "---\n",
        "\n"
      ],
      "metadata": {
        "id": "RADze259BV9b"
      }
    },
    {
      "cell_type": "markdown",
      "source": [
        "# 習題：6.1 函數的基本架構：\n"
      ],
      "metadata": {
        "id": "NkBJMO30kmeT"
      }
    },
    {
      "cell_type": "markdown",
      "source": [
        "\n",
        "### hw6_1. 試撰寫void proverb() 函數，當呼叫proverb() 時，螢幕上會顯示出 \"Two heads are better than one.\" 之字串：\n",
        "\n"
      ],
      "metadata": {
        "id": "Jtms45hNuykn"
      }
    },
    {
      "cell_type": "code",
      "metadata": {
        "id": "11iT6dDWuykn"
      },
      "source": [
        "%%cuda\n",
        "// hw6_1, 班級: 資工一  學號: xxx 姓名: xxx\n",
        "#include <iostream>\n",
        "#include <cstdlib>\n",
        "using namespace std;\n",
        "void proverb(void);\n",
        "int main(void)\n",
        "{\n",
        "\n",
        "\n",
        "   // system(\"pause\");\n",
        "   return 0;\n",
        "}\n",
        "\n",
        "void proverb(void)\n",
        "{\n",
        "\n",
        "}\n",
        "\n",
        "/* output-----------------------\n",
        "Two heads are better than one.\n",
        "------------------------------*/"
      ],
      "execution_count": null,
      "outputs": []
    },
    {
      "cell_type": "code",
      "source": [
        "%%writefile hw6_1.cpp\n",
        "// hw6_1, 班級: 資工一  學號: xxx 姓名: xxx\n",
        "#include <iostream>\n",
        "#include <cstdlib>\n",
        "using namespace std;\n",
        "void proverb(void);\n",
        "int main(void)\n",
        "{\n",
        "\n",
        "\n",
        "   // system(\"pause\");\n",
        "   return 0;\n",
        "}\n",
        "\n",
        "void proverb(void)\n",
        "{\n",
        "\n",
        "}\n",
        "\n",
        "/* output-----------------------\n",
        "Two heads are better than one.\n",
        "------------------------------*/"
      ],
      "metadata": {
        "id": "dVWwiYrGuykn"
      },
      "execution_count": null,
      "outputs": []
    },
    {
      "cell_type": "code",
      "source": [
        "!g++ hw6_1.cpp -o hw6_1"
      ],
      "metadata": {
        "id": "sQ2dxgcFuykn"
      },
      "execution_count": null,
      "outputs": []
    },
    {
      "cell_type": "code",
      "source": [
        "!./hw6_1"
      ],
      "metadata": {
        "id": "py3L8q4Wuykn"
      },
      "execution_count": null,
      "outputs": []
    },
    {
      "cell_type": "markdown",
      "source": [
        "\n",
        "### hw6_2. 試撰寫void proverb(int k) 函數，當呼叫proverb(k) 時，螢幕上會顯示出k行的 \"Live and learn.\"：\n",
        "\n"
      ],
      "metadata": {
        "id": "tchIZJCewQK8"
      }
    },
    {
      "cell_type": "code",
      "metadata": {
        "id": "eIMcdiXjwQK8"
      },
      "source": [
        "%%cuda\n",
        "// hw6_2, 班級: 資工一  學號: xxx 姓名: xxx\n",
        "#include <iostream>\n",
        "#include <cstdlib>\n",
        "using namespace std;\n",
        "void proverb(int);\n",
        "int main(void)\n",
        "{\n",
        "\n",
        "\n",
        "   // system(\"pause\");\n",
        "   return 0;\n",
        "}\n",
        "\n",
        "void proverb(    )\n",
        "{\n",
        "\n",
        "\n",
        "}\n",
        "\n",
        "/* output--------\n",
        "Live and learn.\n",
        "Live and learn.\n",
        "Live and learn.\n",
        "---------------*/"
      ],
      "execution_count": null,
      "outputs": []
    },
    {
      "cell_type": "code",
      "source": [
        "%%writefile hw6_2.cpp\n",
        "// hw6_2, 班級: 資工一  學號: xxx 姓名: xxx\n",
        "#include <iostream>\n",
        "#include <cstdlib>\n",
        "using namespace std;\n",
        "void proverb(int);\n",
        "int main(void)\n",
        "{\n",
        "\n",
        "\n",
        "   // system(\"pause\");\n",
        "   return 0;\n",
        "}\n",
        "\n",
        "void proverb(    )\n",
        "{\n",
        "\n",
        "\n",
        "}\n",
        "\n",
        "/* output--------\n",
        "Live and learn.\n",
        "Live and learn.\n",
        "Live and learn.\n",
        "---------------*/"
      ],
      "metadata": {
        "id": "q-D3o24fwQK9"
      },
      "execution_count": null,
      "outputs": []
    },
    {
      "cell_type": "code",
      "source": [
        "!g++ hw6_2.cpp -o hw6_2"
      ],
      "metadata": {
        "id": "GxUzn2lwwQK9"
      },
      "execution_count": null,
      "outputs": []
    },
    {
      "cell_type": "code",
      "source": [
        "!./hw6_2"
      ],
      "metadata": {
        "id": "uah2LSmhwQK9"
      },
      "execution_count": null,
      "outputs": []
    },
    {
      "cell_type": "markdown",
      "source": [
        "\n",
        "### hw6_3. 試撰寫一函數，repeat(3)即印出3次\"Hello, C++\"，repeat(10)即印出10次\"Hello, C++\"：\n",
        "\n"
      ],
      "metadata": {
        "id": "znZl-vAAw108"
      }
    },
    {
      "cell_type": "code",
      "metadata": {
        "id": "LaHJtaiTw109"
      },
      "source": [
        "%%cuda\n",
        "// hw6_3, 班級: 資工一  學號: xxx 姓名: xxx\n",
        "#include <iostream>\n",
        "#include <cstdlib>\n",
        "using namespace std;\n",
        "void repeat(int);\n",
        "int main(void)\n",
        "{\n",
        "\n",
        "\n",
        "   // system(\"pause\");\n",
        "   return 0;\n",
        "}\n",
        "\n",
        "void repeat(    )\n",
        "{\n",
        "\n",
        "\n",
        "}\n",
        "/* output-------\n",
        "Hello, C++\n",
        "Hello, C++\n",
        "Hello, C++\n",
        "Hello, C++\n",
        "Hello, C++\n",
        "--------------*/"
      ],
      "execution_count": null,
      "outputs": []
    },
    {
      "cell_type": "code",
      "source": [
        "%%writefile hw6_3.cpp\n",
        "// hw6_3, 班級: 資工一  學號: xxx 姓名: xxx\n",
        "#include <iostream>\n",
        "#include <cstdlib>\n",
        "using namespace std;\n",
        "void repeat(int);\n",
        "int main(void)\n",
        "{\n",
        "\n",
        "\n",
        "   // system(\"pause\");\n",
        "   return 0;\n",
        "}\n",
        "\n",
        "void repeat(    )\n",
        "{\n",
        "\n",
        "\n",
        "}\n",
        "/* output-------\n",
        "Hello, C++\n",
        "Hello, C++\n",
        "Hello, C++\n",
        "Hello, C++\n",
        "Hello, C++\n",
        "--------------*/"
      ],
      "metadata": {
        "id": "Mbe7mqoBw109"
      },
      "execution_count": null,
      "outputs": []
    },
    {
      "cell_type": "code",
      "source": [
        "!g++ hw6_3.cpp -o hw6_3"
      ],
      "metadata": {
        "id": "hcP0Fgnbw109"
      },
      "execution_count": null,
      "outputs": []
    },
    {
      "cell_type": "code",
      "source": [
        "!./hw6_3"
      ],
      "metadata": {
        "id": "FsWHU7S6w109"
      },
      "execution_count": null,
      "outputs": []
    },
    {
      "cell_type": "markdown",
      "source": [
        "\n",
        "### hw6_4. 試撰寫int cub(int x) method，其作用為傳回引數x的3次方：\n",
        "\n"
      ],
      "metadata": {
        "id": "-JJSFjHExv-2"
      }
    },
    {
      "cell_type": "code",
      "metadata": {
        "id": "VmOXTGpLxv-3"
      },
      "source": [
        "%%cuda\n",
        "// hw6_4, 班級: 資工一  學號: xxx 姓名: xxx\n",
        "#include <iostream>\n",
        "#include <cstdlib>\n",
        "using namespace std;\n",
        "\n",
        "int main(void)\n",
        "{\n",
        "\n",
        "\n",
        "   // system(\"pause\");\n",
        "   return 0;\n",
        "}\n",
        "\n",
        "int cub(int x)\n",
        "{\n",
        "\n",
        "}\n",
        "\n",
        "/* output----\n",
        "2的3次方 = 8\n",
        "-----------*/"
      ],
      "execution_count": null,
      "outputs": []
    },
    {
      "cell_type": "code",
      "source": [
        "%%writefile hw6_4.cpp\n",
        "// hw6_4, 班級: 資工一  學號: xxx 姓名: xxx\n",
        "#include <iostream>\n",
        "#include <cstdlib>\n",
        "using namespace std;\n",
        "\n",
        "int main(void)\n",
        "{\n",
        "\n",
        "\n",
        "   // system(\"pause\");\n",
        "   return 0;\n",
        "}\n",
        "\n",
        "int cub(int x)\n",
        "{\n",
        "\n",
        "}\n",
        "\n",
        "/* output----\n",
        "2的3次方 = 8\n",
        "-----------*/"
      ],
      "metadata": {
        "id": "YoAaufA6xv-3"
      },
      "execution_count": null,
      "outputs": []
    },
    {
      "cell_type": "code",
      "source": [
        "!g++ hw6_4.cpp -o hw6_4"
      ],
      "metadata": {
        "id": "P59pXHj1xv-3"
      },
      "execution_count": null,
      "outputs": []
    },
    {
      "cell_type": "code",
      "source": [
        "!./hw6_4"
      ],
      "metadata": {
        "id": "hlTdV3Bwxv-3"
      },
      "execution_count": null,
      "outputs": []
    },
    {
      "cell_type": "markdown",
      "source": [
        "\n",
        "### hw6_5. 試寫一函數void mod(int x,int y)，來計算並列印整數x/y的商數及餘數：\n",
        "\n"
      ],
      "metadata": {
        "id": "Mv1JcUtlycbg"
      }
    },
    {
      "cell_type": "code",
      "metadata": {
        "id": "svijz7M_ycbh"
      },
      "source": [
        "%%cuda\n",
        "// hw6_5, 班級: 資工一  學號: xxx 姓名: xxx\n",
        "#include <iostream>\n",
        "#include <cstdlib>\n",
        "using namespace std;\n",
        "void mod(int, int);\n",
        "int main(void)\n",
        "{\n",
        "\n",
        "\n",
        "\n",
        "   // system(\"pause\");\n",
        "   return 0;\n",
        "}\n",
        "\n",
        "void mod(int x, int y)\n",
        "{\n",
        "\n",
        "\n",
        "}\n",
        "\n",
        "/* output------\n",
        "10/3的商數為3\n",
        "10/3的餘數為1\n",
        "-------------*/"
      ],
      "execution_count": null,
      "outputs": []
    },
    {
      "cell_type": "code",
      "source": [
        "%%writefile hw6_5.cpp\n",
        "// hw6_5, 班級: 資工一  學號: xxx 姓名: xxx\n",
        "#include <iostream>\n",
        "#include <cstdlib>\n",
        "using namespace std;\n",
        "void mod(int, int);\n",
        "int main(void)\n",
        "{\n",
        "\n",
        "\n",
        "\n",
        "   // system(\"pause\");\n",
        "   return 0;\n",
        "}\n",
        "\n",
        "void mod(int x, int y)\n",
        "{\n",
        "\n",
        "\n",
        "}\n",
        "\n",
        "/* output------\n",
        "10/3的商數為3\n",
        "10/3的餘數為1\n",
        "-------------*/"
      ],
      "metadata": {
        "id": "dRxJa8WOycbh"
      },
      "execution_count": null,
      "outputs": []
    },
    {
      "cell_type": "code",
      "source": [
        "!g++ hw6_5.cpp -o hw6_5"
      ],
      "metadata": {
        "id": "7A2Gpdazycbh"
      },
      "execution_count": null,
      "outputs": []
    },
    {
      "cell_type": "code",
      "source": [
        "!./hw6_5"
      ],
      "metadata": {
        "id": "lwHqt7g3ycbh"
      },
      "execution_count": null,
      "outputs": []
    },
    {
      "cell_type": "markdown",
      "source": [
        "\n",
        "### hw6_6. 試撰寫一函數bool primeQ(int n)，用來判別整數n是否為質數。若是，則傳回true，否則傳回false，並將結果印出：\n",
        "\n"
      ],
      "metadata": {
        "id": "l-SEFWfqyz-1"
      }
    },
    {
      "cell_type": "code",
      "metadata": {
        "id": "JXVG4jSVyz-2"
      },
      "source": [
        "%%cuda\n",
        "// hw6_6, 班級: 資工一  學號: xxx 姓名: xxx\n",
        "#include <iostream>\n",
        "#include <cstdlib>\n",
        "#include <cmath>\n",
        "using namespace std;\n",
        "\n",
        "int main(void)\n",
        "{\n",
        "\n",
        "\n",
        "\n",
        "\n",
        "\n",
        "\n",
        "   // system(\"pause\");\n",
        "   return 0;\n",
        "}\n",
        "\n",
        "bool primeQ(int num)\n",
        "{\n",
        "\n",
        "\n",
        "\n",
        "\n",
        "}\n",
        "\n",
        " /* output----\n",
        " 13是質數\n",
        " -----------*/"
      ],
      "execution_count": null,
      "outputs": []
    },
    {
      "cell_type": "code",
      "source": [
        "%%writefile hw6_6.cpp\n",
        "// hw6_6, 班級: 資工一  學號: xxx 姓名: xxx\n",
        "#include <iostream>\n",
        "#include <cstdlib>\n",
        "#include <cmath>\n",
        "using namespace std;\n",
        "\n",
        "int main(void)\n",
        "{\n",
        "\n",
        "\n",
        "\n",
        "\n",
        "\n",
        "\n",
        "   // system(\"pause\");\n",
        "   return 0;\n",
        "}\n",
        "\n",
        "bool primeQ(int num)\n",
        "{\n",
        "\n",
        "\n",
        "\n",
        "\n",
        "}\n",
        "\n",
        " /* output----\n",
        " 13是質數\n",
        " -----------*/"
      ],
      "metadata": {
        "id": "mL8TQHW9yz-2"
      },
      "execution_count": null,
      "outputs": []
    },
    {
      "cell_type": "code",
      "source": [
        "!g++ hw6_6.cpp -o hw6_6"
      ],
      "metadata": {
        "id": "KF4VWFvZyz-2"
      },
      "execution_count": null,
      "outputs": []
    },
    {
      "cell_type": "code",
      "source": [
        "!./hw6_6"
      ],
      "metadata": {
        "id": "cep5zkWRyz-3"
      },
      "execution_count": null,
      "outputs": []
    },
    {
      "cell_type": "markdown",
      "source": [
        "### hw6_7. 試利用習題6的結果找出小於100的所有質數：\n",
        "\n"
      ],
      "metadata": {
        "id": "It-S3hsjzuhd"
      }
    },
    {
      "cell_type": "code",
      "metadata": {
        "id": "HmMBub1czuhd"
      },
      "source": [
        "%%cuda\n",
        "// hw6_7, 班級: 資工一  學號: xxx 姓名: xxx\n",
        "#include <iostream>\n",
        "#include <cstdlib>\n",
        "#include <cmath>\n",
        "using namespace std;\n",
        "bool primeQ(int);\n",
        "int main(void)\n",
        "{\n",
        "\n",
        "\n",
        "\n",
        "\n",
        "\n",
        "   // system(\"pause\");\n",
        "   return 0;\n",
        "}\n",
        "\n",
        "bool primeQ(int num)\n",
        "{\n",
        "\n",
        "\n",
        "\n",
        "\n",
        "}\n",
        "\n",
        "/* output-----------------------------------------------------\n",
        "2 3 5 7 11 13 17 19 23 29 31 37 41 43 47 53 59 61 67 71 73 79 83 89 97\n",
        "------------------------------------------------------------*/"
      ],
      "execution_count": null,
      "outputs": []
    },
    {
      "cell_type": "code",
      "source": [
        "%%writefile hw6_7.cpp\n",
        "// hw6_7, 班級: 資工一  學號: xxx 姓名: xxx\n",
        "#include <iostream>\n",
        "#include <cstdlib>\n",
        "#include <cmath>\n",
        "using namespace std;\n",
        "bool primeQ(int);\n",
        "int main(void)\n",
        "{\n",
        "\n",
        "\n",
        "\n",
        "\n",
        "\n",
        "   // system(\"pause\");\n",
        "   return 0;\n",
        "}\n",
        "\n",
        "bool primeQ(int num)\n",
        "{\n",
        "\n",
        "\n",
        "\n",
        "\n",
        "}\n",
        "\n",
        "/* output-----------------------------------------------------\n",
        "2 3 5 7 11 13 17 19 23 29 31 37 41 43 47 53 59 61 67 71 73 79 83 89 97\n",
        "------------------------------------------------------------*/"
      ],
      "metadata": {
        "id": "pWllY7ybzuhd"
      },
      "execution_count": null,
      "outputs": []
    },
    {
      "cell_type": "code",
      "source": [
        "!g++ hw6_7.cpp -o hw6_7"
      ],
      "metadata": {
        "id": "k7Zojdr9zuhe"
      },
      "execution_count": null,
      "outputs": []
    },
    {
      "cell_type": "code",
      "source": [
        "!./hw6_7"
      ],
      "metadata": {
        "id": "KA_4H6Fyzuhe"
      },
      "execution_count": null,
      "outputs": []
    },
    {
      "cell_type": "markdown",
      "source": [
        "### hw6_8. 試寫一函數power(x, n)來計算 ，其中x為浮點數，n為正整數，而傳回值為浮點數。例如，power(5.0, 2) = 25.0000：\n",
        "\n"
      ],
      "metadata": {
        "id": "1aJM89xl0KD6"
      }
    },
    {
      "cell_type": "code",
      "metadata": {
        "id": "cSpODOul0KD6"
      },
      "source": [
        "%%cuda\n",
        "// hw6_8, 班級: 資工一  學號: xxx 姓名: xxx\n",
        "#include <iostream>\n",
        "#include <cstdlib>\n",
        "using namespace std;\n",
        "\n",
        "int main(void)\n",
        "{\n",
        "\n",
        "\n",
        "\n",
        "\n",
        "\n",
        "   // system(\"pause\");\n",
        "   return 0;\n",
        "}\n",
        "\n",
        "   power(   ,   )\n",
        "{\n",
        "\n",
        "\n",
        "\n",
        "\n",
        "\n",
        "}\n",
        "\n",
        "/* output----------\n",
        "power(5, 2) = 25.0000\n",
        "-----------------*/"
      ],
      "execution_count": null,
      "outputs": []
    },
    {
      "cell_type": "code",
      "source": [
        "%%writefile hw6_8.cpp\n",
        "// hw6_8, 班級: 資工一  學號: xxx 姓名: xxx\n",
        "#include <iostream>\n",
        "#include <cstdlib>\n",
        "using namespace std;\n",
        "\n",
        "int main(void)\n",
        "{\n",
        "\n",
        "\n",
        "\n",
        "\n",
        "\n",
        "   // system(\"pause\");\n",
        "   return 0;\n",
        "}\n",
        "\n",
        "   power(   ,   )\n",
        "{\n",
        "\n",
        "\n",
        "\n",
        "\n",
        "\n",
        "}\n",
        "\n",
        "/* output----------\n",
        "power(5, 2) = 25.0000\n",
        "-----------------*/"
      ],
      "metadata": {
        "id": "PDqNEjTL0KD7"
      },
      "execution_count": null,
      "outputs": []
    },
    {
      "cell_type": "code",
      "source": [
        "!g++ hw6_8.cpp -o hw6_8"
      ],
      "metadata": {
        "id": "iD68F3wG0KD8"
      },
      "execution_count": null,
      "outputs": []
    },
    {
      "cell_type": "code",
      "source": [
        "!./hw6_8"
      ],
      "metadata": {
        "id": "0dyasHCg0KD8"
      },
      "execution_count": null,
      "outputs": []
    },
    {
      "cell_type": "markdown",
      "source": [
        "### hw6_9. 試利用上題中所定義的函數power(x, n)來計算下列方程式的值：\n",
        "\n",
        "1/2 + 1/2^2 + 1/2^3 + 1/2^4 + ⋯ + 1/2^10\n"
      ],
      "metadata": {
        "id": "bSmvxNcf0v2H"
      }
    },
    {
      "cell_type": "code",
      "metadata": {
        "id": "VbM1fk660v2H"
      },
      "source": [
        "%%cuda\n",
        "// hw6_9, 班級: 資工一  學號: xxx 姓名: xxx\n",
        "#include <iostream>\n",
        "#include <cstdlib>\n",
        "using namespace std;\n",
        "\n",
        "int main(void)\n",
        "{\n",
        "\n",
        "\n",
        "\n",
        "\n",
        "\n",
        "   // system(\"pause\");\n",
        "   return 0;\n",
        "}\n",
        "\n",
        "   power(   ,   )\n",
        "{\n",
        "\n",
        "\n",
        "\n",
        "\n",
        "}\n",
        "\n",
        "/* output--------\n",
        "sum = 0.999023\n",
        "----------------*/"
      ],
      "execution_count": null,
      "outputs": []
    },
    {
      "cell_type": "code",
      "source": [
        "%%writefile hw6_9.cpp\n",
        "// hw6_9, 班級: 資工一  學號: xxx 姓名: xxx\n",
        "#include <iostream>\n",
        "#include <cstdlib>\n",
        "using namespace std;\n",
        "\n",
        "int main(void)\n",
        "{\n",
        "\n",
        "\n",
        "\n",
        "\n",
        "\n",
        "   // system(\"pause\");\n",
        "   return 0;\n",
        "}\n",
        "\n",
        "   power(   ,   )\n",
        "{\n",
        "\n",
        "\n",
        "\n",
        "\n",
        "}\n",
        "\n",
        "/* output--------\n",
        "sum = 0.999023\n",
        "----------------*/"
      ],
      "metadata": {
        "id": "nn2hm0TS0v2H"
      },
      "execution_count": null,
      "outputs": []
    },
    {
      "cell_type": "code",
      "source": [
        "!g++ hw6_9.cpp -o hw6_9"
      ],
      "metadata": {
        "id": "RN8fi5Gm0v2I"
      },
      "execution_count": null,
      "outputs": []
    },
    {
      "cell_type": "code",
      "source": [
        "!./hw6_9"
      ],
      "metadata": {
        "id": "AuiXD-sU0v2I"
      },
      "execution_count": null,
      "outputs": []
    },
    {
      "cell_type": "markdown",
      "source": [
        "### hw6_10. 試撰寫一程式，輸入本金*p*、月利率*r*及存款期數*n*（以月為單位），並依下列公式計算本利和t。其中*n*為正整數，*p*、*r*、*t*為浮點數型態：\n",
        "\n",
        "*t* = *p* × (1 + *r*) ^ *n*\n"
      ],
      "metadata": {
        "id": "sCoxS8vW1b7z"
      }
    },
    {
      "cell_type": "markdown",
      "source": [
        "![image.png](data:image/png;base64,iVBORw0KGgoAAAANSUhEUgAAAEgAAAAVCAYAAADl/ahuAAAAAXNSR0ICQMB9xQAAAAlwSFlzAAAOxAAADsQBlSsOGwAAABl0RVh0U29mdHdhcmUATWljcm9zb2Z0IE9mZmljZX/tNXEAAAHwSURBVFjD7Zc7bsJAEIbnABwgSCwdB4ARJVTIbEEdYVuugqjQShF1tNBZirgAHSVnCCfgBim4AXcgjGHRsrFN/IhpthgJFrw7880/s2NYLpdgLdksBAvIArKALCALKJ9JwdsMvRV99hA2zJnNy9jXQ7biQrb1tYUQL0EgekIMetyV/VRA0uV9c4OnwGF8Ow3D2sxhcwA4lQVIyqDeAbbXY6TzOPffCJDjiNdEQGE4rTnofJBjz4JDPgybuA6krKs1gpQEKI/PBAmbw7V6ZuHjCP3FyBSHkTW3hQAHAHYsoiBymDdgR/sgx08GcKTD1e/CwUnXF+Pbd787RkdMbnI/OwvobfQ98wKKQEQx4SEIcKJUqcpW+eV3+TutU/kNhOglKogc0YO5DxhOv8wI5K5EgH0T6LSACQ71GT24OBhFFES+NHG4pvJRPe3RnrGA4qSd1/TD4wCpDEKD78zA/gIoS9KSQGQGpDfGIgqK/s/YVpUpydZUZVUKSkt6ZkCUacZ9WVQ9kWKuyoic0GQd14OiBvlfPUgbFeIUbCYuFRA9QLXqCtkqNmecS+eqMNov641oZl1d80lXfRqgJAjmLVbZoHiZMTpfRfvYpcl39mX0w0ctoFJASQ256CRdpsVN0pUAiuCklIJ9F7MvqxaQNcN+ACu7uR0rDL9IAAAAAElFTkSuQmCC)"
      ],
      "metadata": {
        "id": "5mCvj5bp1hJJ"
      }
    },
    {
      "cell_type": "markdown",
      "source": [
        "（註：您可以利用power(a,b) method求a的b次方，請參考習題8）"
      ],
      "metadata": {
        "id": "HB2LIT9s13A3"
      }
    },
    {
      "cell_type": "code",
      "metadata": {
        "id": "4k40blp81b7z"
      },
      "source": [
        "%%cuda\n",
        "// hw6_10, 班級: 資工一  學號: xxx 姓名: xxx\n",
        "#include <iostream>\n",
        "#include <cstdlib>\n",
        "using namespace std;\n",
        "float power(float,int);\n",
        "int main(void)\n",
        "{\n",
        "\n",
        "\n",
        "\n",
        "\n",
        "\n",
        "\n",
        "\n",
        "\n",
        "\n",
        "\n",
        "\n",
        "\n",
        "   // system(\"pause\");\n",
        "   return 0;\n",
        "}\n",
        "\n",
        "    power(   ,   )\n",
        "{\n",
        "\n",
        "\n",
        "\n",
        "\n",
        "}\n",
        "\n",
        "/* output---------------\n",
        "請輸入本金: 10000\n",
        "請輸入月利率: 0.4\n",
        "請輸入存款期數(月): 12\n",
        "本利和 = 10490.7\n",
        "----------------------*/"
      ],
      "execution_count": null,
      "outputs": []
    },
    {
      "cell_type": "code",
      "source": [
        "%%writefile hw6_10.cpp\n",
        "// hw6_10, 班級: 資工一  學號: xxx 姓名: xxx\n",
        "#include <iostream>\n",
        "#include <cstdlib>\n",
        "using namespace std;\n",
        "float power(float,int);\n",
        "int main(void)\n",
        "{\n",
        "\n",
        "\n",
        "\n",
        "\n",
        "\n",
        "\n",
        "\n",
        "\n",
        "\n",
        "\n",
        "\n",
        "\n",
        "   // system(\"pause\");\n",
        "   return 0;\n",
        "}\n",
        "\n",
        "    power(   ,   )\n",
        "{\n",
        "\n",
        "\n",
        "\n",
        "\n",
        "}\n",
        "\n",
        "/* output---------------\n",
        "請輸入本金: 10000\n",
        "請輸入月利率: 0.4\n",
        "請輸入存款期數(月): 12\n",
        "本利和 = 10490.7\n",
        "----------------------*/"
      ],
      "metadata": {
        "id": "U8z6QHLw1b7z"
      },
      "execution_count": null,
      "outputs": []
    },
    {
      "cell_type": "code",
      "source": [
        "!g++ hw6_10.cpp -o hw6_10"
      ],
      "metadata": {
        "id": "H85sftfb1b70"
      },
      "execution_count": null,
      "outputs": []
    },
    {
      "cell_type": "code",
      "source": [
        "!./hw6_10"
      ],
      "metadata": {
        "id": "UfcOvRHb1b70"
      },
      "execution_count": null,
      "outputs": []
    },
    {
      "cell_type": "markdown",
      "source": [
        "### hw6_11. 試撰寫double centigrade(double f) method，傳入華氏溫度，計算並傳回對應的攝氏溫度。其轉換公式如下：\n",
        "\n",
        "攝氏溫度 = ( 5 * 華氏溫度 - 160) / 9\n",
        "\n"
      ],
      "metadata": {
        "id": "pfNZP1zr2lY_"
      }
    },
    {
      "cell_type": "code",
      "metadata": {
        "id": "SmTSvLiF2lZA"
      },
      "source": [
        "%%cuda\n",
        "// hw6_11, 班級: 資工一  學號: xxx 姓名: xxx\n",
        "#include <iostream>\n",
        "#include <cstdlib>\n",
        "using namespace std;\n",
        "\n",
        "int main(void)\n",
        "{\n",
        "\n",
        "\n",
        "\n",
        "\n",
        "   // system(\"pause\");\n",
        "   return 0;\n",
        "}\n",
        "\n",
        "double centigrade(double f)\n",
        "{\n",
        "\n",
        "\n",
        "\n",
        "}\n",
        "\n",
        "/* output---------------\n",
        "華氏-40度 = 攝氏-40度\n",
        "----------------------*/"
      ],
      "execution_count": null,
      "outputs": []
    },
    {
      "cell_type": "code",
      "source": [
        "%%writefile hw6_11.cpp\n",
        "// hw6_11, 班級: 資工一  學號: xxx 姓名: xxx\n",
        "#include <iostream>\n",
        "#include <cstdlib>\n",
        "using namespace std;\n",
        "\n",
        "int main(void)\n",
        "{\n",
        "\n",
        "\n",
        "\n",
        "\n",
        "   // system(\"pause\");\n",
        "   return 0;\n",
        "}\n",
        "\n",
        "double centigrade(double f)\n",
        "{\n",
        "\n",
        "\n",
        "\n",
        "}\n",
        "\n",
        "/* output---------------\n",
        "華氏-40度 = 攝氏-40度\n",
        "----------------------*/"
      ],
      "metadata": {
        "id": "5VgWucto2lZA"
      },
      "execution_count": null,
      "outputs": []
    },
    {
      "cell_type": "code",
      "source": [
        "!g++ hw6_11.cpp -o hw6_11"
      ],
      "metadata": {
        "id": "Vv8Efnhv2lZA"
      },
      "execution_count": null,
      "outputs": []
    },
    {
      "cell_type": "code",
      "source": [
        "!./hw6_11"
      ],
      "metadata": {
        "id": "ndkMM7eB2lZA"
      },
      "execution_count": null,
      "outputs": []
    },
    {
      "cell_type": "markdown",
      "source": [
        "### hw6_12. 設 *f* (*x*) = 3 *x*^3 + 2*x* - 1 ，試寫一函數double f(double x) 來計算並傳回 *f*(*x*) 的值，並利用 來*f*(*x*) 求 *f*(-3.2)、 *f*(-2.1)、 *f*(0)、*f*(2.1) 的值：\n",
        "\n"
      ],
      "metadata": {
        "id": "l2-Q9dwz3xzj"
      }
    },
    {
      "cell_type": "markdown",
      "source": [
        "![image.png](data:image/png;base64,iVBORw0KGgoAAAANSUhEUgAAAGoAAAAYCAYAAAASy2hdAAAAAXNSR0ICQMB9xQAAAAlwSFlzAAAOxAAADsQBlSsOGwAAABl0RVh0U29mdHdhcmUATWljcm9zb2Z0IE9mZmljZX/tNXEAAAJlSURBVGje7Zg9bsIwFMd9AA5QJMzWA4C70qkCq2KuBFGmVkzICwcwbCxcgI2RE3ThBNygAzfgDi0vIcExtrGNqVDr4UkIJ/nH7/e+YjSbzVC0+7fohAjqPowz2sII7RFC37g7nkRQd2pTxh5G83mN87ROmr0l/I6g7jyz6IA///mMms9HtSHBCyghCOE9ZbwF/4+7eGIqKZfWnbIjIf1c/2BkuLK9b0jQyvWekPrupRp/Ff51AgVlo43RFjXoBkoHAAPnAwSbFwZHXQsrK10k4eVvhHYkmfZdAq3XJMuU87q3A8lwIfa90D3vFAinRLAGBRukDbQpIFUe6hjVLo7V9ZprnpdQ+u7bo1iadsR7syCVfBIkoyApEN5agyqitkx1gXIBT3RU9uLHyaosk8JGsijEdB1iY3Imm7TLsnewS2Ah+GzhZ4F61Li095uCqqYj2YklI0/99lYuIwWMNO2+na1pXsDFyuxW9AiTtkvpsQUl994Q+leByiJScooYTSpHqjarWxMj/sw0pVXVI0zaoUGpRv0Q+t6gdE1bB8rUO0JtRFf+fPuWT6AkhHBV1pj0bXW8QKnKngkUiFCM16ppKGRGqYYZk3bIjIIAUV0TQt8blG6s1vUomKoYe+lArWZs0Bow/hiyR1WgH5wiPsukHQoUrIv+EK8Poe839Wk+vFTZkWdePhUWTsQ0/+aRm63v1FdMVvIEaqMdAlRVv7BDtUnJRyh98VxSnlKdeoBtn7rFd9R/N+WXO0voK8ZPn5fGzN88mYigFI29SexPmeW6fcuzvggqWgQVLYKKoKJFUNEiqL9tP7buqKePifiqAAAAAElFTkSuQmCC)"
      ],
      "metadata": {
        "id": "Iwo2FAUN35_K"
      }
    },
    {
      "cell_type": "code",
      "metadata": {
        "id": "S3tvcmze3xzk"
      },
      "source": [
        "%%cuda\n",
        "// hw6_12, 班級: 資工一  學號: xxx 姓名: xxx\n",
        "#include <iostream>\n",
        "#include <cstdlib>\n",
        "using namespace std;\n",
        "double f(double);\n",
        "double power(double,int);\n",
        "int main(void)\n",
        "{\n",
        "\n",
        "\n",
        "\n",
        "\n",
        "\n",
        "   // system(\"pause\");\n",
        "   return 0;\n",
        "}\n",
        "\n",
        "double f(double x)\n",
        "{\n",
        "\n",
        "\n",
        "\n",
        "}\n",
        "\n",
        "double power(double x,int n)\n",
        "{\n",
        "   double p=1.0f;\n",
        "   for(int i=0;i<n;i++)\n",
        "      p*=x;\n",
        "   return p;\n",
        "}\n",
        "\n",
        "/* output---------------\n",
        "f(x)=3x^3+2x-1\n",
        "f(-3.2)=-105.704\n",
        "f(-2.1)=-32.983\n",
        "f(0)=-1\n",
        "f(2.1)=30.983\n",
        "----------------------*/"
      ],
      "execution_count": null,
      "outputs": []
    },
    {
      "cell_type": "code",
      "source": [
        "%%writefile hw6_12.cpp\n",
        "// hw6_12, 班級: 資工一  學號: xxx 姓名: xxx\n",
        "#include <iostream>\n",
        "#include <cstdlib>\n",
        "using namespace std;\n",
        "double f(double);\n",
        "double power(double,int);\n",
        "int main(void)\n",
        "{\n",
        "\n",
        "\n",
        "\n",
        "\n",
        "\n",
        "   // system(\"pause\");\n",
        "   return 0;\n",
        "}\n",
        "\n",
        "double f(double x)\n",
        "{\n",
        "\n",
        "\n",
        "\n",
        "}\n",
        "\n",
        "double power(double x,int n)\n",
        "{\n",
        "   double p=1.0f;\n",
        "   for(int i=0;i<n;i++)\n",
        "      p*=x;\n",
        "   return p;\n",
        "}\n",
        "\n",
        "/* output---------------\n",
        "f(x)=3x^3+2x-1\n",
        "f(-3.2)=-105.704\n",
        "f(-2.1)=-32.983\n",
        "f(0)=-1\n",
        "f(2.1)=30.983\n",
        "----------------------*/"
      ],
      "metadata": {
        "id": "DyuP9LM23xzk"
      },
      "execution_count": null,
      "outputs": []
    },
    {
      "cell_type": "code",
      "source": [
        "!g++ hw6_12.cpp -o hw6_12"
      ],
      "metadata": {
        "id": "BtqCJL3K3xzk"
      },
      "execution_count": null,
      "outputs": []
    },
    {
      "cell_type": "code",
      "source": [
        "!./hw6_12"
      ],
      "metadata": {
        "id": "f7LWSxg93xzk"
      },
      "execution_count": null,
      "outputs": []
    },
    {
      "cell_type": "markdown",
      "source": [
        "# 習題：6.2 特殊的inline函數："
      ],
      "metadata": {
        "id": "VC1ihXkIBt8t"
      }
    },
    {
      "cell_type": "markdown",
      "source": [
        "### hw6_13. 試將習題7的primeQ() 撰寫成inline函數："
      ],
      "metadata": {
        "id": "JUcGXuDs5n1S"
      }
    },
    {
      "cell_type": "code",
      "metadata": {
        "id": "bLyeOTS15n1T"
      },
      "source": [
        "%%cuda\n",
        "// hw6_13, 班級: 資工一  學號: xxx 姓名: xxx\n",
        "#include <iostream>\n",
        "#include <cstdlib>\n",
        "#include <cmath>\n",
        "using namespace std;\n",
        "inline bool primeQ(int num)\n",
        "{\n",
        "\n",
        "\n",
        "\n",
        "\n",
        "}\n",
        "\n",
        "int main(void)\n",
        "{\n",
        "\n",
        "\n",
        "\n",
        "\n",
        "\n",
        "   // system(\"pause\");\n",
        "   return 0;\n",
        "}\n",
        "\n",
        "/* output----------------------------------------------------\n",
        "2 3 5 7 11 13 17 19 23 29 31 37 41 43 47 53 59 61 67 71 73 79 83 89 97\n",
        "-----------------------------------------------------------*/"
      ],
      "execution_count": null,
      "outputs": []
    },
    {
      "cell_type": "code",
      "source": [
        "%%writefile hw6_13.cpp\n",
        "// hw6_13, 班級: 資工一  學號: xxx 姓名: xxx\n",
        "#include <iostream>\n",
        "#include <cstdlib>\n",
        "#include <cmath>\n",
        "using namespace std;\n",
        "inline bool primeQ(int num)\n",
        "{\n",
        "\n",
        "\n",
        "\n",
        "\n",
        "}\n",
        "\n",
        "int main(void)\n",
        "{\n",
        "\n",
        "\n",
        "\n",
        "\n",
        "\n",
        "   // system(\"pause\");\n",
        "   return 0;\n",
        "}\n",
        "\n",
        "/* output----------------------------------------------------\n",
        "2 3 5 7 11 13 17 19 23 29 31 37 41 43 47 53 59 61 67 71 73 79 83 89 97\n",
        "-----------------------------------------------------------*/"
      ],
      "metadata": {
        "id": "o09jrA_15n1T"
      },
      "execution_count": null,
      "outputs": []
    },
    {
      "cell_type": "code",
      "source": [
        "!g++ hw6_13.cpp -o hw6_13"
      ],
      "metadata": {
        "id": "kGJY73u15n1T"
      },
      "execution_count": null,
      "outputs": []
    },
    {
      "cell_type": "code",
      "source": [
        "!./hw6_13"
      ],
      "metadata": {
        "id": "AWlpUdaQ5n1T"
      },
      "execution_count": null,
      "outputs": []
    },
    {
      "cell_type": "markdown",
      "source": [
        "### hw6_14. 試將習題11的centigrade() 撰寫成inline函數，並分別計算當華氏溫度為-40、-30、-20、-10、0、10及20時，對應的攝氏溫度："
      ],
      "metadata": {
        "id": "YNeFIMdJ6pAT"
      }
    },
    {
      "cell_type": "code",
      "metadata": {
        "id": "2gZ6j7AD6pAT"
      },
      "source": [
        "%%cuda\n",
        "// hw6_14, 班級: 資工一  學號: xxx 姓名: xxx\n",
        "#include <iostream>\n",
        "#include <cstdlib>\n",
        "using namespace std;\n",
        "inline double centigrade(double f)\n",
        "{\n",
        "\n",
        "\n",
        "\n",
        "\n",
        "}\n",
        "\n",
        "int main(void)\n",
        "{\n",
        "\n",
        "\n",
        "\n",
        "\n",
        "\n",
        "   // system(\"pause\");\n",
        "   return 0;\n",
        "}\n",
        "\n",
        "/* output----------------\n",
        "華氏-40度=攝氏-40度\n",
        "華氏-30度=攝氏-34.4444度\n",
        "華氏-20度=攝氏-28.8889度\n",
        "華氏-10度=攝氏-23.3333度\n",
        "華氏0度=攝氏-17.7778度\n",
        "華氏10度=攝氏-12.2222度\n",
        "華氏20度=攝氏-6.66667度\n",
        "-----------------------*/"
      ],
      "execution_count": null,
      "outputs": []
    },
    {
      "cell_type": "code",
      "source": [
        "%%writefile hw6_14.cpp\n",
        "// hw6_14, 班級: 資工一  學號: xxx 姓名: xxx\n",
        "#include <iostream>\n",
        "#include <cstdlib>\n",
        "using namespace std;\n",
        "inline double centigrade(double f)\n",
        "{\n",
        "\n",
        "\n",
        "\n",
        "\n",
        "}\n",
        "\n",
        "int main(void)\n",
        "{\n",
        "\n",
        "\n",
        "\n",
        "\n",
        "\n",
        "   // system(\"pause\");\n",
        "   return 0;\n",
        "}\n",
        "\n",
        "/* output----------------\n",
        "華氏-40度=攝氏-40度\n",
        "華氏-30度=攝氏-34.4444度\n",
        "華氏-20度=攝氏-28.8889度\n",
        "華氏-10度=攝氏-23.3333度\n",
        "華氏0度=攝氏-17.7778度\n",
        "華氏10度=攝氏-12.2222度\n",
        "華氏20度=攝氏-6.66667度\n",
        "-----------------------*/"
      ],
      "metadata": {
        "id": "4fmj0rDa6pAT"
      },
      "execution_count": null,
      "outputs": []
    },
    {
      "cell_type": "code",
      "source": [
        "!g++ hw6_14.cpp -o hw6_14"
      ],
      "metadata": {
        "id": "THjKaU8Z6pAU"
      },
      "execution_count": null,
      "outputs": []
    },
    {
      "cell_type": "code",
      "source": [
        "!./hw6_14"
      ],
      "metadata": {
        "id": "zYPiz_Jn6pAU"
      },
      "execution_count": null,
      "outputs": []
    },
    {
      "cell_type": "markdown",
      "source": [
        "### hw6_15. 試將習題12的*f*(*x*)撰寫成inline函數，並分別計算*x* = 0、*x* = 0.4、*x* = 0.8、*x* = 1.2、*x* = 1.6及*x* = 2的f(*x*)的值："
      ],
      "metadata": {
        "id": "i4PMFh_v7NSe"
      }
    },
    {
      "cell_type": "code",
      "metadata": {
        "id": "L7eutIlj7NSe"
      },
      "source": [
        "%%cuda\n",
        "// hw6_15, 班級: 資工一  學號: xxx 姓名: xxx\n",
        "#include <iostream>\n",
        "#include <cstdlib>\n",
        "using namespace std;\n",
        "inline double power(double x,int n)\n",
        "{\n",
        "\n",
        "\n",
        "\n",
        "\n",
        "}\n",
        "\n",
        "inline double f(double x)\n",
        "{\n",
        "\n",
        "\n",
        "\n",
        "}\n",
        "\n",
        "int main(void)\n",
        "{\n",
        "\n",
        "\n",
        "\n",
        "\n",
        "   // system(\"pause\");\n",
        "   return 0;\n",
        "}\n",
        "\n",
        "/* output---------\n",
        "f(x)=3x^3+2x-1\n",
        "f(0)=-1\n",
        "f(0.4)=-0.008\n",
        "f(0.8)=2.136\n",
        "f(1.2)=6.584\n",
        "f(1.6)=14.488\n",
        "f(2)=27\n",
        "----------------*/"
      ],
      "execution_count": null,
      "outputs": []
    },
    {
      "cell_type": "code",
      "source": [
        "%%writefile hw6_15.cpp\n",
        "// hw6_15, 班級: 資工一  學號: xxx 姓名: xxx\n",
        "#include <iostream>\n",
        "#include <cstdlib>\n",
        "using namespace std;\n",
        "inline double power(double x,int n)\n",
        "{\n",
        "\n",
        "\n",
        "\n",
        "\n",
        "}\n",
        "\n",
        "inline double f(double x)\n",
        "{\n",
        "\n",
        "\n",
        "\n",
        "}\n",
        "\n",
        "int main(void)\n",
        "{\n",
        "\n",
        "\n",
        "\n",
        "\n",
        "   // system(\"pause\");\n",
        "   return 0;\n",
        "}\n",
        "\n",
        "/* output---------\n",
        "f(x)=3x^3+2x-1\n",
        "f(0)=-1\n",
        "f(0.4)=-0.008\n",
        "f(0.8)=2.136\n",
        "f(1.2)=6.584\n",
        "f(1.6)=14.488\n",
        "f(2)=27\n",
        "----------------*/"
      ],
      "metadata": {
        "id": "yJQWnEKN7NSe"
      },
      "execution_count": null,
      "outputs": []
    },
    {
      "cell_type": "code",
      "source": [
        "!g++ hw6_15.cpp -o hw6_15"
      ],
      "metadata": {
        "id": "3cp5sRRG7NSf"
      },
      "execution_count": null,
      "outputs": []
    },
    {
      "cell_type": "code",
      "source": [
        "!./hw6_15"
      ],
      "metadata": {
        "id": "lJ36FaOZ7NSf"
      },
      "execution_count": null,
      "outputs": []
    },
    {
      "cell_type": "markdown",
      "source": [
        "# 習題：6.3 變數的等級："
      ],
      "metadata": {
        "id": "JtC0elC48AQ9"
      }
    },
    {
      "cell_type": "markdown",
      "source": [
        "### hw6_16. 試利用auto宣告一個浮點數變數f，請由鍵盤輸入其值，印出大於f的最小整數。請勿使用C++提供的函數："
      ],
      "metadata": {
        "id": "ZF7fKMgl8AQ-"
      }
    },
    {
      "cell_type": "code",
      "metadata": {
        "id": "7-QxAiUK8AQ-"
      },
      "source": [
        "%%cuda\n",
        "// hw6_16, 班級: 資工一  學號: xxx 姓名: xxx\n",
        "#include <iostream>\n",
        "#include <cstdlib>\n",
        "using namespace std;\n",
        "int main(void)\n",
        "{\n",
        "\n",
        "\n",
        "\n",
        "\n",
        "\n",
        "\n",
        "   // system(\"pause\");\n",
        "   return 0;\n",
        "}\n",
        "\n",
        "/* output---------------\n",
        "請輸入一個浮點數: 5.123\n",
        "大於5.123的最小整數是 6\n",
        "----------------------*/"
      ],
      "execution_count": null,
      "outputs": []
    },
    {
      "cell_type": "code",
      "source": [
        "%%writefile hw6_16.cpp\n",
        "// hw6_16, 班級: 資工一  學號: xxx 姓名: xxx\n",
        "#include <iostream>\n",
        "#include <cstdlib>\n",
        "using namespace std;\n",
        "int main(void)\n",
        "{\n",
        "\n",
        "\n",
        "\n",
        "\n",
        "\n",
        "\n",
        "   // system(\"pause\");\n",
        "   return 0;\n",
        "}\n",
        "\n",
        "/* output---------------\n",
        "請輸入一個浮點數: 5.123\n",
        "大於5.123的最小整數是 6\n",
        "----------------------*/"
      ],
      "metadata": {
        "id": "GP8csCgG8AQ-"
      },
      "execution_count": null,
      "outputs": []
    },
    {
      "cell_type": "code",
      "source": [
        "!g++ hw6_16.cpp -o hw6_16"
      ],
      "metadata": {
        "id": "6NAqvKz88AQ-"
      },
      "execution_count": null,
      "outputs": []
    },
    {
      "cell_type": "code",
      "source": [
        "!./hw6_16"
      ],
      "metadata": {
        "id": "_xK5jdRC8AQ-"
      },
      "execution_count": null,
      "outputs": []
    },
    {
      "cell_type": "markdown",
      "source": [
        "### hw6_17. 試撰寫一函數int total(int n)，並利用靜態區域變數sum用來計算1+2+...+n的總和："
      ],
      "metadata": {
        "id": "9BTZNhl99JgN"
      }
    },
    {
      "cell_type": "code",
      "metadata": {
        "id": "fZ-T6AaW9JgO"
      },
      "source": [
        "%%cuda\n",
        "// hw6_17, 班級: 資工一  學號: xxx 姓名: xxx\n",
        "#include <iostream>\n",
        "#include <cstdlib>\n",
        "using namespace std;\n",
        "int total(int);\n",
        "int main(void)\n",
        "{\n",
        "\n",
        "\n",
        "\n",
        "\n",
        "   // system(\"pause\");\n",
        "   return 0;\n",
        "}\n",
        "\n",
        "int total(int a)\n",
        "{\n",
        "\n",
        "\n",
        "\n",
        "}\n",
        "\n",
        "/* output-------\n",
        "1 + 2 + ... + 10 = 55\n",
        "--------------*/"
      ],
      "execution_count": null,
      "outputs": []
    },
    {
      "cell_type": "code",
      "source": [
        "%%writefile hw6_17.cpp\n",
        "// hw6_17, 班級: 資工一  學號: xxx 姓名: xxx\n",
        "#include <iostream>\n",
        "#include <cstdlib>\n",
        "using namespace std;\n",
        "int total(int);\n",
        "int main(void)\n",
        "{\n",
        "\n",
        "\n",
        "\n",
        "\n",
        "   // system(\"pause\");\n",
        "   return 0;\n",
        "}\n",
        "\n",
        "int total(int a)\n",
        "{\n",
        "\n",
        "\n",
        "\n",
        "}\n",
        "\n",
        "/* output-------\n",
        "1 + 2 + ... + 10 = 55\n",
        "--------------*/"
      ],
      "metadata": {
        "id": "WbPTSpv59JgO"
      },
      "execution_count": null,
      "outputs": []
    },
    {
      "cell_type": "code",
      "source": [
        "!g++ hw6_17.cpp -o hw6_17"
      ],
      "metadata": {
        "id": "Quy1uq2Z9JgO"
      },
      "execution_count": null,
      "outputs": []
    },
    {
      "cell_type": "code",
      "source": [
        "!./hw6_17"
      ],
      "metadata": {
        "id": "RTOBQBxH9JgO"
      },
      "execution_count": null,
      "outputs": []
    },
    {
      "cell_type": "markdown",
      "source": [
        "### hw6_18. 1英哩=1.6公里。試撰寫一函數double miles(void)，用來計算公里轉換到英哩，請利用外部靜態變數km（代表公里），計算當km值為10、15、20、25、30時，所對應的英哩數："
      ],
      "metadata": {
        "id": "uUg-IkbW9jV7"
      }
    },
    {
      "cell_type": "code",
      "metadata": {
        "id": "enGUbboM9jV7"
      },
      "source": [
        "%%cuda\n",
        "// hw6_18, 班級: 資工一  學號: xxx 姓名: xxx\n",
        "#include <iostream>\n",
        "#include <cstdlib>\n",
        "using namespace std;\n",
        "static int km;\n",
        "double miles(void);\n",
        "int main(void)\n",
        "{\n",
        "\n",
        "\n",
        "   // system(\"pause\");\n",
        "   return 0;\n",
        "}\n",
        "\n",
        "double miles(void)\n",
        "{\n",
        "\n",
        "}\n",
        "\n",
        "/* output----------\n",
        "10公里=6.25英哩\n",
        "15公里=9.375英哩\n",
        "20公里=12.5英哩\n",
        "25公里=15.625英哩\n",
        "30公里=18.75英哩\n",
        "-----------------*/"
      ],
      "execution_count": null,
      "outputs": []
    },
    {
      "cell_type": "code",
      "source": [
        "%%writefile hw6_18.cpp\n",
        "// hw6_18, 班級: 資工一  學號: xxx 姓名: xxx\n",
        "#include <iostream>\n",
        "#include <cstdlib>\n",
        "using namespace std;\n",
        "static int km;\n",
        "double miles(void);\n",
        "int main(void)\n",
        "{\n",
        "\n",
        "\n",
        "   // system(\"pause\");\n",
        "   return 0;\n",
        "}\n",
        "\n",
        "double miles(void)\n",
        "{\n",
        "\n",
        "}\n",
        "\n",
        "/* output----------\n",
        "10公里=6.25英哩\n",
        "15公里=9.375英哩\n",
        "20公里=12.5英哩\n",
        "25公里=15.625英哩\n",
        "30公里=18.75英哩\n",
        "-----------------*/"
      ],
      "metadata": {
        "id": "kmkqVltI9jV8"
      },
      "execution_count": null,
      "outputs": []
    },
    {
      "cell_type": "code",
      "source": [
        "!g++ hw6_18.cpp -o hw6_18"
      ],
      "metadata": {
        "id": "TAova7XC9jV8"
      },
      "execution_count": null,
      "outputs": []
    },
    {
      "cell_type": "code",
      "source": [
        "!./hw6_18"
      ],
      "metadata": {
        "id": "6RoFhCss9jV8"
      },
      "execution_count": null,
      "outputs": []
    },
    {
      "cell_type": "markdown",
      "source": [
        "### hw6_19. 試利用暫存器變數撰寫一轉換英哩至公里的函數km()，並計算當英哩數為60、70、80、90、100時，所對應的公里數："
      ],
      "metadata": {
        "id": "4YBxf6dt94Mc"
      }
    },
    {
      "cell_type": "code",
      "metadata": {
        "id": "_0cvvuUC94Mc"
      },
      "source": [
        "%%cuda\n",
        "// hw6_19, 班級: 資工一  學號: xxx 姓名: xxx\n",
        "#include <iostream>\n",
        "#include <cstdlib>\n",
        "using namespace std;\n",
        "\n",
        "int main(void)\n",
        "{\n",
        "\n",
        "\n",
        "\n",
        "\n",
        "   // system(\"pause\");\n",
        "   return 0;\n",
        "}\n",
        "\n",
        "double km(        )\n",
        "{\n",
        "\n",
        "}\n",
        "\n",
        "/* output--------\n",
        "60英哩=96公里\n",
        "70英哩=112公里\n",
        "80英哩=128公里\n",
        "90英哩=144公里\n",
        "100英哩=160公里\n",
        "---------------*/"
      ],
      "execution_count": null,
      "outputs": []
    },
    {
      "cell_type": "code",
      "source": [
        "%%writefile hw6_19.cpp\n",
        "// hw6_19, 班級: 資工一  學號: xxx 姓名: xxx\n",
        "#include <iostream>\n",
        "#include <cstdlib>\n",
        "using namespace std;\n",
        "\n",
        "int main(void)\n",
        "{\n",
        "\n",
        "\n",
        "\n",
        "\n",
        "   // system(\"pause\");\n",
        "   return 0;\n",
        "}\n",
        "\n",
        "double km(        )\n",
        "{\n",
        "\n",
        "}\n",
        "\n",
        "/* output--------\n",
        "60英哩=96公里\n",
        "70英哩=112公里\n",
        "80英哩=128公里\n",
        "90英哩=144公里\n",
        "100英哩=160公里\n",
        "---------------*/"
      ],
      "metadata": {
        "id": "83yZA2Cz94Md"
      },
      "execution_count": null,
      "outputs": []
    },
    {
      "cell_type": "code",
      "source": [
        "!g++ hw6_19.cpp -o hw6_19"
      ],
      "metadata": {
        "id": "nF-27RzQ94Md"
      },
      "execution_count": null,
      "outputs": []
    },
    {
      "cell_type": "code",
      "source": [
        "!./hw6_19"
      ],
      "metadata": {
        "id": "9ckm_WFa94Md"
      },
      "execution_count": null,
      "outputs": []
    },
    {
      "cell_type": "markdown",
      "source": [
        "# 習題：6.4 同時使用多個函數："
      ],
      "metadata": {
        "id": "CgppO8CB-erF"
      }
    },
    {
      "cell_type": "markdown",
      "source": [
        "### hw6_20. 試利用程式prog6_14中所定義的函數fact(n)來計算下列方程式的值：\n",
        "\n",
        "\n"
      ],
      "metadata": {
        "id": "nTZrxaQn-erG"
      }
    },
    {
      "cell_type": "markdown",
      "source": [
        "![image.png](data:image/png;base64,iVBORw0KGgoAAAANSUhEUgAAAMEAAAAyCAYAAADlRL8rAAAAAXNSR0ICQMB9xQAAAAlwSFlzAAAOxAAADsQBlSsOGwAAABl0RVh0U29mdHdhcmUATWljcm9zb2Z0IE9mZmljZX/tNXEAAARcSURBVHja7Zw9ThwxFMd9AA4QpHU6DsB6KUO5MYgDsIxWKUBUaCREjQa6LcIF0tGFInWK0KbZG6TgBtyBxIZZvN6x58t2Zjz/4i+YBc3bZ89vnt/zB7m9vSUQNGShESBAgEaAAIHhDxdTekUIeaHTiyv18yzlu5SQZ0LoM0+zXTQiFHUkuEnYkQpBls23x2T8a55l2+rvaEhoMBCIa8JO7vPrE0buWXJzhIaEBgOBGCLp14AAAgSAABr2cIjeITmGBp0Ys4+fv50vFltVjcmKkwKRL/m2E8KPWGyEVFN/7Dck5EVKubGMBvLzeiXS1f1CdKxHOyH8iMVGcAAa+tMLUhEJEAn+SyQABIAAEAACQAAIAAEgGBgEabJ3vEqEa0pfXwQIYKO3kWANhBF/LCt/ZulsZ0zJEhDARlTDITk3IFeJ/gOBjpezNNuxg8B3q0DwXlr1W5bzbSeEH7HYCKk2/pgf7ByEkvkAOWnGkiyWtwk0PFmHOoyQpyYTYxAUBQRCi8X5Fh+RxxyEvSQ9jq0BhI9TNr2us/yji3Zi8COUD7UgKAIhtlWjgAAQVP5yYgNNyARqHT5NDr8HIAAElf6pyYrRrr/9jYBVKA13xU7X/JAlSuX6tcBC/+T5ZH4ftZoYyof2wyFKH+omxk0m3ZpGgib3r/r2aeuHDztd9WMDArn0ni5tEPj2oYpfpQ+z2DgT8+4xDIcwHLL+Ud9OCQgAwaAgkDPH7OQuZgAgyAhB3UQ4m/F9Psv27UlV8YSby6qTae1IWxt6mdiXH++7+fy3lem4nNBVQFf9XHYonM0vJ4lw2YZ7W5hz1ei27XVtbaRTdpb7J+9VULVoa0N0IpumZz5h1h+YPkJQ1M9qAv7q23ipHwpXC4I6ifBNmn4Q/08Ie7KdRKd2cB8jweYDVK+R60o/4MC1jYTzUz4hP2KJBOopKHnU1n2rDMHa5vpaskMg7juZ0O9FexBcJt8mCFzakBBQ/qBHAlc2ZCfy5NRXoUI8MOIBMQ2H+lAM0ftZvxa+6T7Y/FprnMa1V8ukhujUA3rwNUn5IU/SwyKHXJVgbRC4smF6S7uwIXOxt0WLPmyogNkg6HpJvAgCtb1MEJj88v6FxUMzGo1+m8agfYLAVjBw7kdBdG1rQxYwlNwGEASCQOQMYvWp3LVW8ICqHeMLAlc2EsYy07DPpR+mE7/b2pDj4pKtsS796FJOYPPL65dV35yrhDKdf9rjyWWo0pnLe+cNa0v0XUVP38lpn08U1/t5ozpUkLPZZHhb2BNdPZE2JRzq+HlVa9fyB1fVCNv2urY2Nt+gm7XotjZMJ/75qtz0dZ7A1M9O5wnqTpSZEkUI6otah2JAAEUHgRz7zudn76W6L9eFS5rfhjWAAIoKgtWSiYSfFtX0EQmg6CHIdwJNKP25kdAiEkBDgCDPB/KfYo1JWYIMCKCoIMjLZvq2OJOqlPUgqHeJMQQBAggCBBAECCAIEEAQIICgAekvT4HyB4wRGrQAAAAASUVORK5CYII=)"
      ],
      "metadata": {
        "id": "bHPfATgw-qhE"
      }
    },
    {
      "cell_type": "code",
      "metadata": {
        "id": "PzMRiDjT-erG"
      },
      "source": [
        "%%cuda\n",
        "// hw6_20, 班級: 資工一  學號: xxx 姓名: xxx\n",
        "#include<iostream>\n",
        "#include<cstdlib>\n",
        "using namespace std;\n",
        "float fact(int);\n",
        "int main(void)\n",
        "{\n",
        "\n",
        "\n",
        "\n",
        "\n",
        "\n",
        "    // system(\"pause\");\n",
        "    return 0;\n",
        "}\n",
        "\n",
        "float fact (int a)\n",
        "{\n",
        "\n",
        "\n",
        "\n",
        "}\n",
        "\n",
        "/* output--------------------\n",
        "1/1! + 1/2! + .. + 1/10! = 1.71828\n",
        "---------------------------*/"
      ],
      "execution_count": null,
      "outputs": []
    },
    {
      "cell_type": "code",
      "source": [
        "%%writefile hw6_20.cpp\n",
        "// hw6_20, 班級: 資工一  學號: xxx 姓名: xxx\n",
        "#include<iostream>\n",
        "#include<cstdlib>\n",
        "using namespace std;\n",
        "float fact(int);\n",
        "int main(void)\n",
        "{\n",
        "\n",
        "\n",
        "\n",
        "\n",
        "\n",
        "    // system(\"pause\");\n",
        "    return 0;\n",
        "}\n",
        "\n",
        "float fact (int a)\n",
        "{\n",
        "\n",
        "\n",
        "\n",
        "}\n",
        "\n",
        "/* output--------------------\n",
        "1/1! + 1/2! + .. + 1/10! = 1.71828\n",
        "---------------------------*/"
      ],
      "metadata": {
        "id": "BjwQHpzZ-erG"
      },
      "execution_count": null,
      "outputs": []
    },
    {
      "cell_type": "code",
      "source": [
        "!g++ hw6_20.cpp -o hw6_20"
      ],
      "metadata": {
        "id": "mAyu6dq1-erG"
      },
      "execution_count": null,
      "outputs": []
    },
    {
      "cell_type": "code",
      "source": [
        "!./hw6_20"
      ],
      "metadata": {
        "id": "_yZbpHbJ-erG"
      },
      "execution_count": null,
      "outputs": []
    },
    {
      "cell_type": "markdown",
      "source": [
        "### hw6_21. 試利用習題8所定義的power(x, n)與prog6_14中所定義的fact(n)來計算下列方程式的值（設x為0.1）：\n",
        "\n",
        "\n"
      ],
      "metadata": {
        "id": "jjINOPS1_rwq"
      }
    },
    {
      "cell_type": "markdown",
      "source": [
        "![image.png](data:image/png;base64,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)"
      ],
      "metadata": {
        "id": "rPBx_8Qp_rwr"
      }
    },
    {
      "cell_type": "code",
      "metadata": {
        "id": "psopp0fE_rwr"
      },
      "source": [
        "%%cuda\n",
        "// hw6_21, 班級: 資工一  學號: xxx 姓名: xxx\n",
        "#include<iostream>\n",
        "#include<cstdlib>\n",
        "using namespace std;\n",
        "int fact(int);\n",
        "double power(double,int);\n",
        "int main(void)\n",
        "{\n",
        "\n",
        "\n",
        "\n",
        "\n",
        "\n",
        "   // system(\"pause\");\n",
        "   return 0;\n",
        "}\n",
        "\n",
        "int fact(int a)\t\t// 自訂函數fact()，計算a!\n",
        "{\n",
        "\n",
        "\n",
        "\n",
        "\n",
        "}\n",
        "\n",
        "double power(double x,int n)\n",
        "{\n",
        "\n",
        "\n",
        "\n",
        "\n",
        "}\n",
        "\n",
        "/* output---------------\n",
        "sum = 0.105171\n",
        "----------------------*/"
      ],
      "execution_count": null,
      "outputs": []
    },
    {
      "cell_type": "code",
      "source": [
        "%%writefile hw6_21.cpp\n",
        "// hw6_21, 班級: 資工一  學號: xxx 姓名: xxx\n",
        "#include<iostream>\n",
        "#include<cstdlib>\n",
        "using namespace std;\n",
        "int fact(int);\n",
        "double power(double,int);\n",
        "int main(void)\n",
        "{\n",
        "\n",
        "\n",
        "\n",
        "\n",
        "\n",
        "   // system(\"pause\");\n",
        "   return 0;\n",
        "}\n",
        "\n",
        "int fact(int a)\t\t// 自訂函數fact()，計算a!\n",
        "{\n",
        "\n",
        "\n",
        "\n",
        "\n",
        "}\n",
        "\n",
        "double power(double x,int n)\n",
        "{\n",
        "\n",
        "\n",
        "\n",
        "\n",
        "}\n",
        "\n",
        "/* output---------------\n",
        "sum = 0.105171\n",
        "----------------------*/"
      ],
      "metadata": {
        "id": "e_v6tf4m_rwr"
      },
      "execution_count": null,
      "outputs": []
    },
    {
      "cell_type": "code",
      "source": [
        "!g++ hw6_21.cpp -o hw6_21"
      ],
      "metadata": {
        "id": "xgnDvb69_rwr"
      },
      "execution_count": null,
      "outputs": []
    },
    {
      "cell_type": "code",
      "source": [
        "!./hw6_21"
      ],
      "metadata": {
        "id": "4mhSUglG_rwr"
      },
      "execution_count": null,
      "outputs": []
    },
    {
      "cell_type": "markdown",
      "source": [
        "### hw6_22. 試撰寫一函數double avg(int a, int b, int c)，傳回三個整數的平均值，再於avg()函數中呼叫void show(int a, int b, int c)，印出這三個數的值：\n",
        "\n",
        "\n"
      ],
      "metadata": {
        "id": "N0d6UriwAN64"
      }
    },
    {
      "cell_type": "code",
      "metadata": {
        "id": "JnZAaxy9AN65"
      },
      "source": [
        "%%cuda\n",
        "// hw6_22, 班級: 資工一  學號: xxx 姓名: xxx\n",
        "#include<iostream>\n",
        "#include<cstdlib>\n",
        "using namespace std;\n",
        "double avg(int,int,int);\n",
        "void show(int,int,int);\n",
        "int main(void)\n",
        "{\n",
        "\n",
        "\n",
        "\n",
        "\n",
        "\n",
        "\n",
        "\n",
        "\n",
        "\n",
        "   // system(\"pause\");\n",
        "   return 0;\n",
        "}\n",
        "\n",
        "double avg(int a, int b, int c)\n",
        "{\n",
        "\n",
        "\n",
        "}\n",
        "\n",
        "void show(int a, int b, int c)\n",
        "{\n",
        "\n",
        "}\n",
        "\n",
        "/* output--------------------\n",
        "輸入a值: 5\n",
        "輸入b值: 17\n",
        "輸入c值: 3\n",
        "a = 5, b = 17, c = 3\n",
        "avg(a, b, c) = 8.33333\n",
        "---------------------------*/"
      ],
      "execution_count": null,
      "outputs": []
    },
    {
      "cell_type": "code",
      "source": [
        "%%writefile hw6_22.cpp\n",
        "// hw6_22, 班級: 資工一  學號: xxx 姓名: xxx\n",
        "#include<iostream>\n",
        "#include<cstdlib>\n",
        "using namespace std;\n",
        "double avg(int,int,int);\n",
        "void show(int,int,int);\n",
        "int main(void)\n",
        "{\n",
        "\n",
        "\n",
        "\n",
        "\n",
        "\n",
        "\n",
        "\n",
        "\n",
        "\n",
        "   // system(\"pause\");\n",
        "   return 0;\n",
        "}\n",
        "\n",
        "double avg(int a, int b, int c)\n",
        "{\n",
        "\n",
        "\n",
        "}\n",
        "\n",
        "void show(int a, int b, int c)\n",
        "{\n",
        "\n",
        "}\n",
        "\n",
        "/* output--------------------\n",
        "輸入a值: 5\n",
        "輸入b值: 17\n",
        "輸入c值: 3\n",
        "a = 5, b = 17, c = 3\n",
        "avg(a, b, c) = 8.33333\n",
        "---------------------------*/"
      ],
      "metadata": {
        "id": "wdtiaGzgAN66"
      },
      "execution_count": null,
      "outputs": []
    },
    {
      "cell_type": "code",
      "source": [
        "!g++ hw6_22.cpp -o hw6_22"
      ],
      "metadata": {
        "id": "QIsP1SEWAN66"
      },
      "execution_count": null,
      "outputs": []
    },
    {
      "cell_type": "code",
      "source": [
        "!./hw6_22"
      ],
      "metadata": {
        "id": "n4tuKzVnAN66"
      },
      "execution_count": null,
      "outputs": []
    },
    {
      "cell_type": "markdown",
      "source": [
        "### hw6_23. 試以遞迴的方式計算 1 + 2 + 3 + 4 + ⋯ + *n*：\n",
        "\n",
        "\n"
      ],
      "metadata": {
        "id": "vuWVnqiXA0cg"
      }
    },
    {
      "cell_type": "code",
      "metadata": {
        "id": "5c8aMxQOA0cg"
      },
      "source": [
        "%%cuda\n",
        "// hw6_23, 班級: 資工一  學號: xxx 姓名: xxx\n",
        "#include<iostream>\n",
        "#include<cstdlib>\n",
        "using namespace std;\n",
        "int add(int);\n",
        "int main(void)\n",
        "{\n",
        "\n",
        "\n",
        "\n",
        "   // system(\"pause\");\n",
        "   return 0;\n",
        "}\n",
        "\n",
        "int add(int n)\n",
        "{\n",
        "\n",
        "\n",
        "\n",
        "\n",
        "}\n",
        "\n",
        "/* output-----------\n",
        "1 + 2 + ... + 10 = 55\n",
        "------------------*/"
      ],
      "execution_count": null,
      "outputs": []
    },
    {
      "cell_type": "code",
      "source": [
        "%%writefile hw6_23.cpp\n",
        "// hw6_23, 班級: 資工一  學號: xxx 姓名: xxx\n",
        "#include<iostream>\n",
        "#include<cstdlib>\n",
        "using namespace std;\n",
        "int add(int);\n",
        "int main(void)\n",
        "{\n",
        "\n",
        "\n",
        "\n",
        "   // system(\"pause\");\n",
        "   return 0;\n",
        "}\n",
        "\n",
        "int add(int n)\n",
        "{\n",
        "\n",
        "\n",
        "\n",
        "\n",
        "}\n",
        "\n",
        "/* output-----------\n",
        "1 + 2 + ... + 10 = 55\n",
        "------------------*/"
      ],
      "metadata": {
        "id": "lCpmXAamA0cg"
      },
      "execution_count": null,
      "outputs": []
    },
    {
      "cell_type": "code",
      "source": [
        "!g++ hw6_23.cpp -o hw6_23"
      ],
      "metadata": {
        "id": "PFRnPGLvA0cg"
      },
      "execution_count": null,
      "outputs": []
    },
    {
      "cell_type": "code",
      "source": [
        "!./hw6_23"
      ],
      "metadata": {
        "id": "qZCz3J-FA0cg"
      },
      "execution_count": null,
      "outputs": []
    },
    {
      "cell_type": "markdown",
      "source": [
        "### hw6_24. 試利用do while迴圈與prog6_14的fact()函數，計算 1! + 2! + 3! + ⋯ + *n*! 的總和：\n",
        "\n",
        "\n"
      ],
      "metadata": {
        "id": "pjeV-9JQBd_K"
      }
    },
    {
      "cell_type": "code",
      "metadata": {
        "id": "iB2WAa3TBd_K"
      },
      "source": [
        "%%cuda\n",
        "// hw6_24, 班級: 資工一  學號: xxx 姓名: xxx\n",
        "#include<iostream>\n",
        "#include<cstdlib>\n",
        "using namespace std;\n",
        "int fact(int);\n",
        "int main(void)\n",
        "{\n",
        "\n",
        "\n",
        "\n",
        "\n",
        "\n",
        "\n",
        "\n",
        "   // system(\"pause\");\n",
        "   return 0;\n",
        "}\n",
        "\n",
        "int fact(int a)\n",
        "{\n",
        "\n",
        "\n",
        "\n",
        "\n",
        "}\n",
        "\n",
        "/* output-------------\n",
        "1! + 2! + ... + 10! = 4037913\n",
        "--------------------*/"
      ],
      "execution_count": null,
      "outputs": []
    },
    {
      "cell_type": "code",
      "source": [
        "%%writefile hw6_24.cpp\n",
        "// hw6_24, 班級: 資工一  學號: xxx 姓名: xxx\n",
        "#include<iostream>\n",
        "#include<cstdlib>\n",
        "using namespace std;\n",
        "int fact(int);\n",
        "int main(void)\n",
        "{\n",
        "\n",
        "\n",
        "\n",
        "\n",
        "\n",
        "\n",
        "\n",
        "   // system(\"pause\");\n",
        "   return 0;\n",
        "}\n",
        "\n",
        "int fact(int a)\n",
        "{\n",
        "\n",
        "\n",
        "\n",
        "\n",
        "}\n",
        "\n",
        "/* output-------------\n",
        "1! + 2! + ... + 10! = 4037913\n",
        "--------------------*/"
      ],
      "metadata": {
        "id": "3A62sgozBd_L"
      },
      "execution_count": null,
      "outputs": []
    },
    {
      "cell_type": "code",
      "source": [
        "!g++ hw6_24.cpp -o hw6_24"
      ],
      "metadata": {
        "id": "lwyN4JjsBd_L"
      },
      "execution_count": null,
      "outputs": []
    },
    {
      "cell_type": "code",
      "source": [
        "!./hw6_24"
      ],
      "metadata": {
        "id": "MjIgSwS_Bd_L"
      },
      "execution_count": null,
      "outputs": []
    },
    {
      "cell_type": "markdown",
      "source": [
        "### hw6_25. 費氏數列（Fibonacci sequence）的定義為：\n",
        "\n",
        "\n"
      ],
      "metadata": {
        "id": "Y8Y0So-6B27B"
      }
    },
    {
      "cell_type": "markdown",
      "source": [
        "![image.png](data:image/png;base64,iVBORw0KGgoAAAANSUhEUgAAAIkAAABCCAYAAABjC/W+AAAAAXNSR0ICQMB9xQAAAAlwSFlzAAAOxAAADsQBlSsOGwAAABl0RVh0U29mdHdhcmUATWljcm9zb2Z0IE9mZmljZX/tNXEAAASrSURBVHja7Z27TuNAFIbnASi3AIlJtUi0MEkZKpQYhFaiQSSWF60WUSA0EuIBHLpILP1uOjrottuGJ+ANtuANeIddjrOObMeX8WV27Pgv/gIUlOOZL+fi+U3Y7e0tg6A0YRGgZkAiB+KcM/Ym7MkRNgWQLOlqwG/EQJ5fTKdr2BBAsiTXdTaEsF1j7y+tHc74b0u6O22GIGsdzAcnxvcm3ntiiyPG2B/G+FubIVFZB+OQUKkxmcl2GX9pfSbJWAdA0iBIvPLM2Ctj4tVx3Q1p906p4eeDqxtAAkjCoHSGMwKkZ8tTr1yI8QMgASShHoIfHHwbDOQJ/TwW7CGaSeh38z4jRjFAAZIVg8QD4H2j6ZbBdHqxZnH+VDZ+QLJiPUkwXm865NZT9B4TMkmbIYlAQTciuWW7l5eXH5FJdC34+2Tgf8KacCTgQRHoPyhjdMRwRpOOznUwC8nZ9vGH7c/f23yPogkCJFDNITHck0CABAIkECCBAAkgASSABJAAEkACSKDaQHK2fbzGP/3ERqwAJHQkPRb8vmpPqGlIYIQOelzjT4iVIPFOCDl7YZvWM50+Eixl7XJ1gARG6LAR3T/oi9vbzAxibbJnHxAd5cbk2U3bjdDScfrBfaVT5ri9Tly8ueHWN6vo+bTRk3smj+ibBIkuE/RSdlWFJJyS50FVecGUoWyrd216smmkW75iE3RQUb+KEiS+n1LlDVQtc14JE+JuJN2tOix6kyDRYYKOAhjXVmSmNx3lwMskQrjIJPmkwwTti/YjqWJUVmqKEEzpzeQGNa0n0WGC9vchLRmkbnqVTVHSCAYjdI5xVYMJ2ithgX2mn6PAGL3JZPKB8aYZoXWYoL2RdynjLFeP5D8OpKaJlOuOI/tS7vetkbu3CpBA6lo0ksOOmM3nb+uQ8+6vIE20mZZlfyVI/M4akLQMkmDDQyks2gz5dcodWXtVliBA0jBIUsejnnXtn9vsS9lflcYVqhCSVZ1uIEACARIIkECABJAAEkACSAAJIKkpJLoM2XlVlzjiRG4/MiSp2k0rMUJrhSSHEVqnITtXzDWJIwtgOqAlWLKuxf+37Wn+oUZAotuQnWcD6hCHUoaQct3Ldnz3xbLlYdJrgtdBRzONg0S3ITvOO2EiDtUMVsQI7crR1lB0Zh4sKTFHT/4bl0l0GbJVIdEdRy5QChih6WS/y7uPcZAssmPTe5I8hmydkOiKI0+8WUboJTi63R9J5SY6RBR6OOt/TDdZVoGqDdml3OSajOF5Ic0yQks52iE4shpX1ZJTe0iKpHhaQCkn61VmkqKlhp6SG0lZun9RNULnHYGXrrGJkBQxZKs+GZgHkkJxvKd7AoSmjLIZSJcROtSbJGSmWkMSZ8hW8duqbr7ydBOJI6/nN2/vk1QKVIzQ8ebm+HIafm2NvzkrDZK4Ghn22559WXTmpH/3L6rYlLQ4op7f0IQQiMN/vTNwTkyuc1mZhSTyRY1ZhuzgpzLNb1sWkqw48nh+o0/uA5JCkFh30bt+SYZskorf1tvEkgeHaXGoen697zvudh9Vx1BAkrKQeUc1qGWQLD5x+IZxQAIBEgiQQIAEggAJVEZ/ATEHseXCpxn2AAAAAElFTkSuQmCC)"
      ],
      "metadata": {
        "id": "47COap3KB9cf"
      }
    },
    {
      "cell_type": "markdown",
      "source": [
        "其中 *n* 為整數，也就是說，費氏數列任一項的值等於前兩項的和，且 *fib* ⁡(1) = *fib* ⁡(2) = 1。\n",
        "\n",
        "\n",
        "\n",
        "* (a) 試撰寫一int fib(int n) 函數，利用for迴圈計算第48個費氏數列的值。\n",
        "* (b) 試撰寫一int fib(int n) 函數，利用遞迴的概念計算第48個費氏數列的值。\n",
        "* (c) 試比較以迴圈和遞迴的方式來計算費氏數列時，在執行的時間上會有什麼樣的差異？哪一種方式執行效率較好？為什麼？"
      ],
      "metadata": {
        "id": "Ch7KeuC1CErB"
      }
    },
    {
      "cell_type": "code",
      "metadata": {
        "id": "ZzTbJAkqB27B"
      },
      "source": [
        "%%cuda\n",
        "// hw6_25a, 班級: 資工一  學號: xxx 姓名: xxx\n",
        "#include<iostream>\n",
        "#include<cstdlib>\n",
        "using namespace std;\n",
        "int fib(int);\n",
        "int main(void)\n",
        "{\n",
        "\n",
        "\n",
        "   // system(\"pause\");\n",
        "   return 0;\n",
        "}\n",
        "\n",
        "int fib(int n)\n",
        "{\n",
        "\n",
        "\n",
        "\n",
        "\n",
        "\n",
        "\n",
        "\n",
        "\n",
        "\n",
        "\n",
        "}\n",
        "\n",
        "/* output------------\n",
        "fib(48) = 512559680\n",
        "-------------------*/"
      ],
      "execution_count": null,
      "outputs": []
    },
    {
      "cell_type": "code",
      "source": [
        "%%writefile hw6_25a.cpp\n",
        "// hw6_25a, 班級: 資工一  學號: xxx 姓名: xxx\n",
        "#include<iostream>\n",
        "#include<cstdlib>\n",
        "using namespace std;\n",
        "int fib(int);\n",
        "int main(void)\n",
        "{\n",
        "\n",
        "\n",
        "   // system(\"pause\");\n",
        "   return 0;\n",
        "}\n",
        "\n",
        "int fib(int n)\n",
        "{\n",
        "\n",
        "\n",
        "\n",
        "\n",
        "\n",
        "\n",
        "\n",
        "\n",
        "\n",
        "\n",
        "}\n",
        "\n",
        "/* output------------\n",
        "fib(48) = 512559680\n",
        "-------------------*/"
      ],
      "metadata": {
        "id": "MK0qEun6B27C"
      },
      "execution_count": null,
      "outputs": []
    },
    {
      "cell_type": "code",
      "source": [
        "!g++ hw6_25a.cpp -o hw6_25a"
      ],
      "metadata": {
        "id": "_izgfiYiB27C"
      },
      "execution_count": null,
      "outputs": []
    },
    {
      "cell_type": "code",
      "source": [
        "!./hw6_25a"
      ],
      "metadata": {
        "id": "Faem9sKzB27C"
      },
      "execution_count": null,
      "outputs": []
    },
    {
      "cell_type": "code",
      "metadata": {
        "id": "0zjuWviOCyhh"
      },
      "source": [
        "%%cuda\n",
        "// hw6_25b, 班級: 資工一  學號: xxx 姓名: xxx\n",
        "#include<iostream>\n",
        "#include<cstdlib>\n",
        "using namespace std;\n",
        "int fib(int);\n",
        "int main(void)\n",
        "{\n",
        "\n",
        "\n",
        "   // system(\"pause\");\n",
        "   return 0;\n",
        "}\n",
        "\n",
        "int fib(int n)\n",
        "{\n",
        "\n",
        "\n",
        "\n",
        "}\n",
        "\n",
        "/* output------------\n",
        "fib(48) = 512559680\n",
        "-------------------*/"
      ],
      "execution_count": null,
      "outputs": []
    },
    {
      "cell_type": "code",
      "source": [
        "%%writefile hw6_25b.cpp\n",
        "// hw6_25b, 班級: 資工一  學號: xxx 姓名: xxx\n",
        "#include<iostream>\n",
        "#include<cstdlib>\n",
        "using namespace std;\n",
        "int fib(int);\n",
        "int main(void)\n",
        "{\n",
        "\n",
        "\n",
        "   // system(\"pause\");\n",
        "   return 0;\n",
        "}\n",
        "\n",
        "int fib(int n)\n",
        "{\n",
        "\n",
        "\n",
        "\n",
        "}\n",
        "\n",
        "/* output------------\n",
        "fib(48) = 512559680\n",
        "-------------------*/"
      ],
      "metadata": {
        "id": "UhzTkpbBCyhi"
      },
      "execution_count": null,
      "outputs": []
    },
    {
      "cell_type": "code",
      "source": [
        "!g++ hw6_25b.cpp -o hw6_25b"
      ],
      "metadata": {
        "id": "SiucJZjZCyhi"
      },
      "execution_count": null,
      "outputs": []
    },
    {
      "cell_type": "code",
      "source": [
        "!./hw6_25b"
      ],
      "metadata": {
        "id": "8eytaiGRCyhi"
      },
      "execution_count": null,
      "outputs": []
    },
    {
      "cell_type": "markdown",
      "source": [
        "(c) 由於採用遞迴的方式，會重複計算相當多次的遞迴，導致輸入的引數愈大，需要計算的時間也就愈長（當n值稍大時，可以發現採用遞迴的方式，執行時間明顯增長），因此對於費氏數列而言，採用迴圈，可以獲得較佳的計算效率。關於費氏數列遞迴演算法的效率分析，請參考資料結構或演算法相關書籍。"
      ],
      "metadata": {
        "id": "uQcaK8XGDFGe"
      }
    },
    {
      "cell_type": "markdown",
      "metadata": {
        "id": "JrbtBoIiWTUX"
      },
      "source": [
        "#**Reference**\n",
        "C++ Tutorial\n",
        "https://www.w3schools.com/cpp/cpp_strings.asp\n",
        "\n",
        "https://www.learn-cpp.org/en/Variables_and_Types\n",
        "\n",
        "How to Run CUDA C or C++ on Jupyter (Google Colab)\n",
        "\n",
        "https://www.wikihow.com/Run-CUDA-C-or-C%2B%2B-on-Jupyter-(Google-Colab)\n",
        "\n",
        "Code block\n",
        "http://www.codeblocks.org/downloads/26\n",
        "\n",
        "Freebootcamp\n",
        "https://www.freecodecamp.org/\n",
        "\n",
        "ntroduction to C++ Programming in Urdu\n",
        "https://www.youtube.com/watch?v=dnCO124Uk1o\n",
        "\n",
        "6 Sentiment Analysis Projects with Python\n",
        "\n",
        "https://amankharwal.medium.com/6-sentiment-analysis-projects-with-python-1fdd3d43d90f\n",
        "\n",
        "C++ 教學講義\n",
        "\n",
        "https://hackmd.io/@MECode/CPP"
      ]
    }
  ]
}