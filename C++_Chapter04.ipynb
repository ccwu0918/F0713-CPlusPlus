{
  "nbformat": 4,
  "nbformat_minor": 0,
  "metadata": {
    "colab": {
      "provenance": [],
      "include_colab_link": true
    },
    "kernelspec": {
      "name": "python3",
      "display_name": "Python 3"
    }
  },
  "cells": [
    {
      "cell_type": "markdown",
      "metadata": {
        "id": "view-in-github",
        "colab_type": "text"
      },
      "source": [
        "<a href=\"https://colab.research.google.com/github/ccwu0918/F0713-CPlusPlus/blob/main/C%2B%2B_Chapter04.ipynb\" target=\"_parent\"><img src=\"https://colab.research.google.com/assets/colab-badge.svg\" alt=\"Open In Colab\"/></a>"
      ]
    },
    {
      "cell_type": "markdown",
      "source": [
        "# 班級: 資工一  學號: 13913001 姓名: 吳佳駿"
      ],
      "metadata": {
        "id": "rog13y74sFA4"
      }
    },
    {
      "cell_type": "code",
      "source": [
        "!pip install nvcc4jupyter"
      ],
      "metadata": {
        "id": "jo8etxlmfJ8W"
      },
      "execution_count": null,
      "outputs": []
    },
    {
      "cell_type": "code",
      "source": [
        "%load_ext nvcc4jupyter"
      ],
      "metadata": {
        "id": "ezALi0PVfRUC"
      },
      "execution_count": null,
      "outputs": []
    },
    {
      "cell_type": "code",
      "metadata": {
        "id": "GaS0D8MY-cF_"
      },
      "source": [
        "!nvcc --version"
      ],
      "execution_count": null,
      "outputs": []
    },
    {
      "cell_type": "markdown",
      "metadata": {
        "id": "3_8odoHmArJr"
      },
      "source": [
        "#**Chapter 4: 運算子、運算式與敘述**\n",
        "\n"
      ]
    },
    {
      "cell_type": "markdown",
      "metadata": {
        "id": "oRU_4dlny9_A"
      },
      "source": [
        "#4.1.1 設定運算子：Prog4_1 (Page 4-3)\n",
        "下面的程式碼是使用設定運算子的範例："
      ]
    },
    {
      "cell_type": "code",
      "metadata": {
        "id": "NQXFPNADy9_E"
      },
      "source": [
        "%%cuda\n",
        "// prog4_1,設定運算子「=」\n",
        "#include <iostream>\n",
        "#include <cstdlib>\n",
        "using namespace std;\n",
        "int main(void)\n",
        "{\n",
        "  int num = 18; // 宣告整數變數 num,並設值為18\n",
        "  cout << \"計算前, num=\" << num << endl; // 印出 num 的值\n",
        "  num = num + 1; // 將num 加1後再設定給 num 存放\n",
        "  cout << \"計算後, num=\" << num << endl; // 印出計算後 num的値\n",
        "  // system (\"pause\");\n",
        "  return 0;\n",
        "}"
      ],
      "execution_count": null,
      "outputs": []
    },
    {
      "cell_type": "markdown",
      "metadata": {
        "id": "g6LT91r5_mdJ"
      },
      "source": [
        "#4.1.2 一元運算子：Prog4_2 (Page 4-4)\n",
        "下面的程式是使用一元運算子的範例 ："
      ]
    },
    {
      "cell_type": "code",
      "metadata": {
        "id": "am4ZQ3cN_Bc_"
      },
      "source": [
        "%%cuda\n",
        "// prog4_2,一元運算子「~」與「!」\n",
        "#include <iostream>\n",
        "#include <cstdlib>\n",
        "using namespace std;\n",
        "int main(void)\n",
        "{\n",
        "  short n = 12;  // 宣告 short 變數n，並設為12\n",
        "  bool b = false; // 宣告 bool 變數b，並設為false\n",
        "  cout << \"n = \" << n << \", ~n = \" << ~n << endl; // 印出n與~n的值\n",
        "  cout << \"b = \" << b << \", !b = \" << !b << endl; // 印出b與!b的值\n",
        "  // system(\"pause\");\n",
        "  return 0;\n",
        "}"
      ],
      "execution_count": null,
      "outputs": []
    },
    {
      "cell_type": "markdown",
      "metadata": {
        "id": "mxHLsgEM0qH6"
      },
      "source": [
        "#4.1.3 算數運算子 ：Prog4_3 (Page 4-6, 4-7)\n",
        "### 除法運算子「/」\n",
        "下面的程式裡設定兩個整數a、b，並將a/b的結果印出 ："
      ]
    },
    {
      "cell_type": "code",
      "metadata": {
        "id": "LZQAJ2YB0qIH"
      },
      "source": [
        "%%cuda\n",
        "// prog4_3,除法運算子「/」\n",
        "#include <iostream>\n",
        "#include <cstdlib>\n",
        "using namespace std;\n",
        "int main(void)\n",
        "{\n",
        "  int a = 16; // 宣告 int變數,並設值為16\n",
        "  int b = 7; // 宣告int變數b,並設值為7\n",
        "  cout << \"a = \"  << a << \", b = \" << b << endl; // 印出a與b的值\n",
        "  cout << \"a/b = \" << a/b << endl;            // 印出a/b的值\n",
        "  cout << \"a/b = \" << (float)a/b << endl;        // (float)a/b的值\n",
        "  // system(\"pause\");\n",
        "  return 0;\n",
        "}"
      ],
      "execution_count": null,
      "outputs": []
    },
    {
      "cell_type": "markdown",
      "metadata": {
        "id": "GlyXZ3q52ML2"
      },
      "source": [
        "#4.1.3 算數運算子 ：Prog4_4 (Page 4-6, 4-7)\n",
        "### 餘數運算子「%」\n",
        "將前面的運算元除以後面的運算元，再取其所得到的餘數 ："
      ]
    },
    {
      "cell_type": "code",
      "metadata": {
        "id": "bdGwZz5i2ML2"
      },
      "source": [
        "%%cuda\n",
        "// prog4_4,餘數運算子\n",
        "#include <iostream>\n",
        "#include <cstdlib>\n",
        "using namespace std;\n",
        "int main(void)\n",
        "{\n",
        "  int a = 123; // 宣告int變數a, 並設值為123\n",
        "  int b = 6;  // 宣告int變數b, 並設值為6\n",
        "  cout << a << \" % \" << b << \" = \" << a % b << endl; // 印出a%b的值\n",
        "  cout << b << \" % \" << a << \" = \" << b % a << endl; // 印出b%a的值\n",
        "  // system(\"pause\");\n",
        "  return 0;\n",
        "}"
      ],
      "execution_count": null,
      "outputs": []
    },
    {
      "cell_type": "markdown",
      "metadata": {
        "id": "1Zl9QLHQ3Z3L"
      },
      "source": [
        "#4.1.4 關係運算子與if敘述：Prog4_5 (Page 4-9, 4-10)\n",
        "### 關係運算子\n",
        "下面的程式是使用if敘述的完整範例："
      ]
    },
    {
      "cell_type": "code",
      "metadata": {
        "id": "llNBvrQW3Z3L"
      },
      "source": [
        "%%cuda\n",
        "// prog4_5,關係運算子\n",
        "#include <iostream>\n",
        "#include <cstdlib>\n",
        "using namespace std;\n",
        "int main(void)\n",
        "{\n",
        "  int i;\n",
        "  cout << \"Input an integer:\";\n",
        "  cin >> i;\n",
        "  if (i > 5)                 // 判斷 i > 5 是否成立\n",
        "    cout << i << \" >5 成立\" << endl;   // 印出字串\n",
        "  if (i % 2 == 0)             // 判斷 i % 2 是否等於 0\n",
        "    cout << i << \"為偶數\" << endl;     // 印出字串\n",
        "  if (true)                  // 判斷 true 是否成立\n",
        "    cout << \"此行永遠會被執行\" << endl; // 印出字串\n",
        "  //system(\"pause\");\n",
        "  return 0;\n",
        "}"
      ],
      "execution_count": null,
      "outputs": []
    },
    {
      "cell_type": "code",
      "source": [
        "%%writefile prog4_5.cpp\n",
        "// prog4_5,關係運算子\n",
        "#include <iostream>\n",
        "#include <cstdlib>\n",
        "using namespace std;\n",
        "int main(void)\n",
        "{\n",
        "  int i;\n",
        "  cout << \"Input an integer:\";\n",
        "  cin >> i;\n",
        "  if (i > 5)                 // 判斷 i > 5 是否成立\n",
        "    cout << i << \" >5 成立\" << endl;   // 印出字串\n",
        "  if (i % 2 == 0)             // 判斷 i % 2 是否等於 0\n",
        "    cout << i << \"為偶數\" << endl;     // 印出字串\n",
        "  if (true)                  // 判斷 true 是否成立\n",
        "    cout << \"此行永遠會被執行\" << endl; // 印出字串\n",
        "  //system(\"pause\");\n",
        "  return 0;\n",
        "}"
      ],
      "metadata": {
        "id": "ozmLMUkO5YS6"
      },
      "execution_count": null,
      "outputs": []
    },
    {
      "cell_type": "code",
      "source": [
        "!g++ prog4_5.cpp -o prog4_5"
      ],
      "metadata": {
        "id": "oyNsM6DRr1do"
      },
      "execution_count": null,
      "outputs": []
    },
    {
      "cell_type": "code",
      "source": [
        "!./prog4_5"
      ],
      "metadata": {
        "id": "MsDh6LrZrYLn"
      },
      "execution_count": null,
      "outputs": []
    },
    {
      "cell_type": "markdown",
      "metadata": {
        "id": "dj5_0mV1542x"
      },
      "source": [
        "#4.1.5 關係運算子與if敘述：Prog4_6 (Page 4-11)\n",
        "### 遞增與遞減運算子\n",
        "下面的程式可以觀察遞增運算子的使用："
      ]
    },
    {
      "cell_type": "code",
      "metadata": {
        "id": "doQr8Kk3542x"
      },
      "source": [
        "%%cuda\n",
        "// prog4_6,遞增運算子「++」在運算元之後\n",
        "#include <iostream>\n",
        "#include <cstdlib>\n",
        "using namespace std;\n",
        "int main(void)\n",
        "{\n",
        "  int a = 10;\n",
        "  cout << \"a = \" << a << endl;              // 印出a\n",
        "  cout << \"a ++ * 2 = \" << (a ++ * 2) << endl;   // 印出a++*2\n",
        "  cout << \"a = \" << a << endl;              // 印出 a 10\n",
        "  //system (\"pause\");\n",
        "  return 0;\n",
        "}"
      ],
      "execution_count": null,
      "outputs": []
    },
    {
      "cell_type": "markdown",
      "metadata": {
        "id": "n1rMz_fU7Atg"
      },
      "source": [
        "#4.1.5 關係運算子與if敘述：Prog4_7 (Page 4-12)\n",
        "### 遞增與遞減運算子\n",
        "請比較一下遞增運算子放在運算元前後的差別："
      ]
    },
    {
      "cell_type": "code",
      "metadata": {
        "id": "n20wkxQo7Atg"
      },
      "source": [
        "%%cuda\n",
        "// prog4_7,遞增運算子「+++」在運算元之前\n",
        "#include <iostream>\n",
        "#include <cstdlib>\n",
        "using namespace std;\n",
        "int main(void)\n",
        "{\n",
        "  int a = 10;\n",
        "  cout << \"a = \" << a << endl;        // 印出 a\n",
        "  cout << \"++a * 2 = \" << (++a * 2) << endl;   // 印出++a * 2\n",
        "  cout << \"a = \" << a << endl;        // 印出 a\n",
        "  //system (\"pause\");\n",
        "  return 0;\n",
        "}"
      ],
      "execution_count": null,
      "outputs": []
    },
    {
      "cell_type": "markdown",
      "metadata": {
        "id": "0B0cYauS8FdW"
      },
      "source": [
        "#4.1.6 算數與設定運算子的結合：Prog4_8 (Page 4-13)\n",
        "### 簡潔運算式\n",
        "下面的範例實際練習一下簡潔運算式的寫法："
      ]
    },
    {
      "cell_type": "code",
      "metadata": {
        "id": "SXjqMJ788FdW"
      },
      "source": [
        "%%cuda\n",
        "// prog4_8,簡潔運算式\n",
        "#include <iostream>\n",
        "#include <cstdlib>\n",
        "using namespace std;\n",
        "int main(void)\n",
        "{\n",
        "  int a = 100, b = 15;\n",
        "  cout << \"a = \" << a << \", b = \" << b << endl;\n",
        "  a -= b;                   // 計算 a=a-b的值\n",
        "  cout << \"after a-=b, a = \" << a << \", b = \" << b << endl;\n",
        "  //system(\"pause\");\n",
        "  return 0;\n",
        "}"
      ],
      "execution_count": null,
      "outputs": []
    },
    {
      "cell_type": "markdown",
      "metadata": {
        "id": "U1Bt3Qcr9LQv"
      },
      "source": [
        "#4.1.7 算數與設定運算子的結合：Prog4_9 (Page 4-16)\n",
        "### 邏輯運算子\n",
        "下面的範例說明邏輯運算子如何應用在if敘述中："
      ]
    },
    {
      "cell_type": "code",
      "metadata": {
        "id": "BNmJIDw-9LQw"
      },
      "source": [
        "%%cuda\n",
        "// prog4_9,邏輯運算子\n",
        "#include <iostream>\n",
        "#include <cstdlib>\n",
        "using namespace std;\n",
        "int main(void)\n",
        "{\n",
        "  int score;\n",
        "  cout << \"Input your score:\";\n",
        "  cin >> score;             // 由鍵盤輸入成績\n",
        "  if ((score<0) || (score>100))\n",
        "    cout << \"Input error!!\" << endl;  // 成績輸入錯誤\n",
        "  if ((score<60) && (score>49))\n",
        "    cout <<\"Make up exam!!\" << endl;  // 需要補考\n",
        "  //system(\"pause\");\n",
        "  return 0;\n",
        "}"
      ],
      "execution_count": null,
      "outputs": []
    },
    {
      "cell_type": "code",
      "source": [
        "%%writefile prog4_9.cpp\n",
        "// prog4_9,邏輯運算子\n",
        "#include <iostream>\n",
        "#include <cstdlib>\n",
        "using namespace std;\n",
        "int main(void)\n",
        "{\n",
        "  int score;\n",
        "  cout << \"Input your score:\";\n",
        "  cin >> score;             // 由鍵盤輸入成績\n",
        "  if ((score < 0) || (score > 100))\n",
        "    cout << \"Input error!!\" << endl;  // 成績輸入錯誤\n",
        "  if ((score < 60) && (score > 49))\n",
        "    cout << \"Make up exam!!\" << endl;  // 需要補考\n",
        "  //system(\"pause\");\n",
        "  return 0;\n",
        "}"
      ],
      "metadata": {
        "id": "ePYJw8UE96Zs"
      },
      "execution_count": null,
      "outputs": []
    },
    {
      "cell_type": "code",
      "source": [
        "!g++ prog4_9.cpp -o prog4_9"
      ],
      "metadata": {
        "id": "gVlWJSZy96Zs"
      },
      "execution_count": null,
      "outputs": []
    },
    {
      "cell_type": "code",
      "source": [
        "!./prog4_9"
      ],
      "metadata": {
        "id": "oeZ8Ibkt96Zt"
      },
      "execution_count": null,
      "outputs": []
    },
    {
      "cell_type": "markdown",
      "metadata": {
        "id": "IdGOwCh1-l9t"
      },
      "source": [
        "#4.3.1 隱性資料型態轉換：Prog4_10 (Page 4-20)\n",
        "### 型態自動轉換\n",
        "下面是自動形態轉換的範例："
      ]
    },
    {
      "cell_type": "code",
      "metadata": {
        "id": "NoDqgUCr-l9t"
      },
      "source": [
        "%%cuda\n",
        "// prog4_10, 型態自動轉換\n",
        "#include <iostream>\n",
        "#include <cstdlib>\n",
        "using namespace std;\n",
        "int main(void)\n",
        "{\n",
        "  int  a = 45;\n",
        "  float b = 2.3f;\n",
        "  cout << \" a = \" << a << \", b = \" << b << endl;  // 印出 a, b 的值\n",
        "  cout << \" a / b = \" << a/b << endl;          //印出 a/b 的值\n",
        "  // system(\"pause\");\n",
        "  return 0;\n",
        "}"
      ],
      "execution_count": null,
      "outputs": []
    },
    {
      "cell_type": "markdown",
      "metadata": {
        "id": "8NUFouug_hFg"
      },
      "source": [
        "#4.3.2 顯性資料型態轉換：Prog4_11 (Page 4-21, 4-22)\n",
        "### 型態自動轉換\n",
        "下面的程式說明在C++裡，整數與浮點數是如何轉換："
      ]
    },
    {
      "cell_type": "code",
      "metadata": {
        "id": "Qm8hDMjs_hFg"
      },
      "source": [
        "%%cuda\n",
        "// prog4_11,顯性資料型態换\n",
        "#include <iostream>\n",
        "#include <cstdlib>\n",
        "using namespace std;\n",
        "int main(void)\n",
        "{\n",
        "  int a = 36, b = 7;\n",
        "  cout << \"a = \" << a << \", b=\"<< \", \"; // 印出a、b的值\n",
        "  cout << \"a / b = \" << (a/b) << endl; // 印出a/b的值\n",
        "  cout << \"a = \" << a << \", b = \" << b << \", \"; // 印出a、b的值\n",
        "  cout << \"a / b = \" << (float)a/b << endl; // 印出(float)a/b的值\n",
        "  //system(\"pause\");\n",
        "  return 0;\n",
        "}"
      ],
      "execution_count": null,
      "outputs": []
    },
    {
      "cell_type": "markdown",
      "metadata": {
        "id": "osV6DRDOAd2R"
      },
      "source": [
        "#4.3.3 運算式的型態换：Prog4_12 (Page 4-23)\n",
        "### 運算式的型態换\n",
        "下面的程式說明在C++裡，整數與浮點數是如何轉換："
      ]
    },
    {
      "cell_type": "code",
      "metadata": {
        "id": "kzC8YLgxAd2S"
      },
      "source": [
        "%%cuda\n",
        "// prog4_12,運算式的型態换\n",
        "#include <iostream>\n",
        "#include <cstdlib>\n",
        "using namespace std;\n",
        "int main(void)\n",
        "{\n",
        "  char ch = 'X';\n",
        "  short s = -5;\n",
        "  int i = 6;\n",
        "  float f = 9.7f;\n",
        "  double d = 1.76;\n",
        "  cout << \"(s * ch) - (d / f) * (i + f)=\";     // 印出結果\n",
        "  cout << (s * ch) - (d / f) * (i + f) << endl;\n",
        "  // system(\"pause\");\n",
        "  return 0;\n",
        "}"
      ],
      "execution_count": null,
      "outputs": []
    },
    {
      "cell_type": "markdown",
      "source": [
        "\n",
        "\n",
        "---\n",
        "\n"
      ],
      "metadata": {
        "id": "RADze259BV9b"
      }
    },
    {
      "cell_type": "markdown",
      "source": [
        "# 習題：4.1 運算式與運算子："
      ],
      "metadata": {
        "id": "VC1ihXkIBt8t"
      }
    },
    {
      "cell_type": "markdown",
      "source": [
        "\n",
        "### hw4_1.\t請寫出下列程式的輸出結果。\n",
        "```\n",
        "\n",
        "(a)  int main(void)\n",
        "{\n",
        "   int a=12;\n",
        "   cout << \"a=\" << (--a) << endl;\n",
        "   cout << \"a=\" << (a++) << endl;\n",
        "   return 0;\n",
        "}\n",
        "\n",
        "(b)  int main(void)\n",
        "{\n",
        "   int a=75,b=150;\n",
        "   a/=6;\n",
        "   b%=9;\n",
        "   cout << \"a=\" << a << endl;\n",
        "   cout << \"b=\" << b << endl;\n",
        "   return 0;\n",
        "}\n",
        "\n",
        "(c)  int main(void)\n",
        "{\n",
        "   int a=32,b=5;\n",
        "   a*=2;\n",
        "   a%=b;     \n",
        "   cout << \"a=\" << a << endl;\n",
        "   cout << \"b=\" << b << endl;\n",
        "   return 0;\n",
        "}\n",
        "\n",
        "```\n",
        "\n"
      ],
      "metadata": {
        "id": "uGysrbgrBbDm"
      }
    },
    {
      "cell_type": "markdown",
      "source": [
        "\n",
        "Ans:\n",
        "```\n",
        "(a) 輸出結果：\n",
        "(b) 輸出結果：\n",
        "(c) 輸出結果：\n",
        "\n",
        "```"
      ],
      "metadata": {
        "id": "e6VckOPSByKs"
      }
    },
    {
      "cell_type": "markdown",
      "source": [
        "### hw4_2.\t下列哪些運算式的值為真？\n",
        "\n",
        "```\n",
        "(a)\t't' < 53\n",
        "(b)\t5+8 != 7-9\n",
        "(c)\t5 > 10\n",
        "(d)\t'y' == 'y'\n",
        "\n",
        "```\n",
        "\n"
      ],
      "metadata": {
        "id": "jjcRnKHuCCoD"
      }
    },
    {
      "cell_type": "markdown",
      "source": [
        "\n",
        "Ans:\n",
        "```\n",
        "值為true：\n",
        "值為false：\n",
        "```\n",
        "\n"
      ],
      "metadata": {
        "id": "poXXkRaPCMZn"
      }
    },
    {
      "cell_type": "markdown",
      "source": [
        "# 習題4.2 運算子的優先順序  "
      ],
      "metadata": {
        "id": "pAGuE4ByCbw3"
      }
    },
    {
      "cell_type": "markdown",
      "source": [
        "# 習題4.3 運算式與資料型態的轉換"
      ],
      "metadata": {
        "id": "LafdughJDLNU"
      }
    },
    {
      "cell_type": "markdown",
      "source": [
        "### hw4_12.\t試撰寫一轉換美元至台幣的程式，計算20美元是多少台幣，其轉換公式如下：\n",
        "           \n",
        "\n",
        "```\n",
        " 1美元=33.23台幣\n",
        "\n",
        "```\n",
        "\n"
      ],
      "metadata": {
        "id": "srbs9TvwC0ns"
      }
    },
    {
      "cell_type": "code",
      "metadata": {
        "id": "HPBW2U3vDe9K"
      },
      "source": [
        "%%cuda\n",
        "// hw4_12, 班級: 資工一  學號: xxx 姓名: xxx\n",
        "#include <iostream>\n",
        "#include <cstdlib>\n",
        "using namespace std;\n",
        "int main(void)\n",
        "{\n",
        "\n",
        "\n",
        "\n",
        "\n",
        "\n",
        "\n",
        "   // system(\"pause\");\n",
        "   return 0;\n",
        "}\n",
        "\n",
        "/* output----------------\n",
        "20美元=664.6台幣\n",
        "-----------------------*/"
      ],
      "execution_count": null,
      "outputs": []
    },
    {
      "cell_type": "code",
      "source": [
        "%%writefile hw4_12.cpp\n",
        "// hw4_12, 班級: 資工一  學號: xxx 姓名: xxx\n",
        "#include <iostream>\n",
        "#include <cstdlib>\n",
        "using namespace std;\n",
        "int main(void)\n",
        "{\n",
        "\n",
        "\n",
        "\n",
        "\n",
        "\n",
        "\n",
        "   // system(\"pause\");\n",
        "   return 0;\n",
        "}\n",
        "\n",
        "/* output----------------\n",
        "20美元=664.6台幣\n",
        "-----------------------*/;"
      ],
      "metadata": {
        "id": "Tvl86VBhDe9L"
      },
      "execution_count": null,
      "outputs": []
    },
    {
      "cell_type": "code",
      "source": [
        "!g++ hw4_12.cpp -o hw4_12"
      ],
      "metadata": {
        "id": "2e9fxYR4De9L"
      },
      "execution_count": null,
      "outputs": []
    },
    {
      "cell_type": "code",
      "source": [
        "!./hw4_12"
      ],
      "metadata": {
        "id": "l32f8UVbDe9L"
      },
      "execution_count": null,
      "outputs": []
    },
    {
      "cell_type": "markdown",
      "source": [
        "### hw4_13. 根據上題所提供的資訊，撰寫轉換台幣至美元的程式，並計算1000元台幣是多少美元：\n",
        "           \n",
        "\n",
        "```\n",
        " 1美元=33.23台幣\n",
        "\n",
        "```\n",
        "\n"
      ],
      "metadata": {
        "id": "uyO2TYCdFKDj"
      }
    },
    {
      "cell_type": "code",
      "metadata": {
        "id": "H_GrtggzFKDk"
      },
      "source": [
        "%%cuda\n",
        "// hw4_13, 班級: 資工一  學號: xxx 姓名: xxx\n",
        "#include <iostream>\n",
        "#include <cstdlib>\n",
        "using namespace std;\n",
        "int main(void)\n",
        "{\n",
        "\n",
        "\n",
        "\n",
        "\n",
        "\n",
        "\n",
        "   // system(\"pause\");\n",
        "   return 0;\n",
        "}\n",
        "\n",
        "/* output----------------\n",
        "1000台幣=30.0933美元\n",
        "-----------------------*/"
      ],
      "execution_count": null,
      "outputs": []
    },
    {
      "cell_type": "code",
      "source": [
        "%%writefile hw4_13.cpp\n",
        "// hw4_13, 班級: 資工一  學號: xxx 姓名: xxx\n",
        "#include <iostream>\n",
        "#include <cstdlib>\n",
        "using namespace std;\n",
        "int main(void)\n",
        "{\n",
        "\n",
        "\n",
        "\n",
        "\n",
        "\n",
        "\n",
        "   // system(\"pause\");\n",
        "   return 0;\n",
        "}\n",
        "\n",
        "/* output----------------\n",
        "1000台幣=30.0933美元\n",
        "-----------------------*/;"
      ],
      "metadata": {
        "id": "aGEOXzQrFKDk"
      },
      "execution_count": null,
      "outputs": []
    },
    {
      "cell_type": "code",
      "source": [
        "!g++ hw4_13.cpp -o hw4_13"
      ],
      "metadata": {
        "id": "HuXLWEGKFKDk"
      },
      "execution_count": null,
      "outputs": []
    },
    {
      "cell_type": "code",
      "source": [
        "!./hw4_13"
      ],
      "metadata": {
        "id": "PoVqXDwlFKDk"
      },
      "execution_count": null,
      "outputs": []
    },
    {
      "cell_type": "markdown",
      "source": [
        "### hw4_14.\t試撰寫一轉換英磅至公斤的程式，計算100英磅是多少公斤，其轉換公式如下：\n",
        "           \n",
        "\n",
        "```\n",
        " 1英磅=0.454公斤\n",
        "\n",
        "```\n",
        "\n"
      ],
      "metadata": {
        "id": "q0LOU88nFnws"
      }
    },
    {
      "cell_type": "code",
      "metadata": {
        "id": "lnD4-37RFnws"
      },
      "source": [
        "%%cuda\n",
        "// hw4_14, 班級: 資工一  學號: xxx 姓名: xxx\n",
        "#include <iostream>\n",
        "#include <cstdlib>\n",
        "using namespace std;\n",
        "int main(void)\n",
        "{\n",
        "\n",
        "\n",
        "\n",
        "\n",
        "\n",
        "\n",
        "   // system(\"pause\");\n",
        "   return 0;\n",
        "}\n",
        "\n",
        "/* output----------------\n",
        "100.0英磅=45.4公斤\n",
        "-----------------------*/"
      ],
      "execution_count": null,
      "outputs": []
    },
    {
      "cell_type": "code",
      "source": [
        "%%writefile hw4_14.cpp\n",
        "// hw4_14, 班級: 資工一  學號: xxx 姓名: xxx\n",
        "#include <iostream>\n",
        "#include <cstdlib>\n",
        "using namespace std;\n",
        "int main(void)\n",
        "{\n",
        "\n",
        "\n",
        "\n",
        "\n",
        "\n",
        "\n",
        "   // system(\"pause\");\n",
        "   return 0;\n",
        "}\n",
        "\n",
        "/* output----------------\n",
        "100.0英磅=45.4公斤\n",
        "-----------------------*/;"
      ],
      "metadata": {
        "id": "KOql3_0XFnws"
      },
      "execution_count": null,
      "outputs": []
    },
    {
      "cell_type": "code",
      "source": [
        "!g++ hw4_14.cpp -o hw4_14"
      ],
      "metadata": {
        "id": "11z1YGTnFnws"
      },
      "execution_count": null,
      "outputs": []
    },
    {
      "cell_type": "code",
      "source": [
        "!./hw4_14"
      ],
      "metadata": {
        "id": "uw4SH5nVFnws"
      },
      "execution_count": null,
      "outputs": []
    },
    {
      "cell_type": "markdown",
      "source": [
        "### hw4_15. 15.\t根據上題所提供的資訊，撰寫轉換公斤至英磅的程式，並計算10公斤是多少英磅：\n",
        "           \n",
        "\n",
        "```\n",
        " 1英磅=0.454公斤\n",
        "\n",
        "```\n",
        "\n"
      ],
      "metadata": {
        "id": "c1LDkD_PFnws"
      }
    },
    {
      "cell_type": "code",
      "metadata": {
        "id": "xypvYmQVFnws"
      },
      "source": [
        "%%cuda\n",
        "// hw4_15, 班級: 資工一  學號: xxx 姓名: xxx\n",
        "#include <iostream>\n",
        "#include <cstdlib>\n",
        "using namespace std;\n",
        "int main(void)\n",
        "{\n",
        "\n",
        "\n",
        "\n",
        "\n",
        "\n",
        "\n",
        "   // system(\"pause\");\n",
        "   return 0;\n",
        "}\n",
        "\n",
        "/* output----------------\n",
        "10公斤=22.0264英磅\n",
        "-----------------------*/"
      ],
      "execution_count": null,
      "outputs": []
    },
    {
      "cell_type": "code",
      "source": [
        "%%writefile hw4_15.cpp\n",
        "// hw4_15, 班級: 資工一  學號: xxx 姓名: xxx\n",
        "#include <iostream>\n",
        "#include <cstdlib>\n",
        "using namespace std;\n",
        "int main(void)\n",
        "{\n",
        "\n",
        "\n",
        "\n",
        "\n",
        "\n",
        "\n",
        "   // system(\"pause\");\n",
        "   return 0;\n",
        "}\n",
        "\n",
        "/* output----------------\n",
        "10公斤=22.0264英磅\n",
        "-----------------------*/;"
      ],
      "metadata": {
        "id": "veKPf9EmFnws"
      },
      "execution_count": null,
      "outputs": []
    },
    {
      "cell_type": "code",
      "source": [
        "!g++ hw4_15.cpp -o hw4_15"
      ],
      "metadata": {
        "id": "prfMOn63Fnws"
      },
      "execution_count": null,
      "outputs": []
    },
    {
      "cell_type": "code",
      "source": [
        "!./hw4_15"
      ],
      "metadata": {
        "id": "zP41bPqvFnws"
      },
      "execution_count": null,
      "outputs": []
    },
    {
      "cell_type": "markdown",
      "source": [
        "### hw4_16.\t試撰寫一程式，輸入長方形的長和寬，計算其面積。\n",
        "           \n",
        "\n",
        "```\n",
        "請輸入長方形之長: 8\n",
        "請輸入長方形之寬: 6\n",
        "長方形的面積為 48\n",
        "```\n"
      ],
      "metadata": {
        "id": "P5sDDTtnHRfp"
      }
    },
    {
      "cell_type": "code",
      "metadata": {
        "id": "k--mra59HRfp"
      },
      "source": [
        "%%cuda\n",
        "// hw4_16, 班級: 資工一  學號: xxx 姓名: xxx\n",
        "#include <iostream>\n",
        "#include <cstdlib>\n",
        "using namespace std;\n",
        "int main(void)\n",
        "{\n",
        "\n",
        "\n",
        "\n",
        "\n",
        "\n",
        "\n",
        "\n",
        "\n",
        "   // system(\"pause\");\n",
        "   return 0;\n",
        "}\n",
        "\n",
        "/* output------------\n",
        "請輸入長方形之長: 8\n",
        "請輸入長方形之寬: 6\n",
        "長方形的面積為 48\n",
        "-------------------*/"
      ],
      "execution_count": null,
      "outputs": []
    },
    {
      "cell_type": "code",
      "source": [
        "%%writefile hw4_16.cpp\n",
        "// hw4_16, 班級: 資工一  學號: xxx 姓名: xxx\n",
        "#include <iostream>\n",
        "#include <cstdlib>\n",
        "using namespace std;\n",
        "int main(void)\n",
        "{\n",
        "\n",
        "\n",
        "\n",
        "\n",
        "\n",
        "\n",
        "\n",
        "\n",
        "   // system(\"pause\");\n",
        "   return 0;\n",
        "}\n",
        "\n",
        "/* output------------\n",
        "請輸入長方形之長: 8\n",
        "請輸入長方形之寬: 6\n",
        "長方形的面積為 48\n",
        "-------------------*/"
      ],
      "metadata": {
        "id": "NTSXsFYPHRfp"
      },
      "execution_count": null,
      "outputs": []
    },
    {
      "cell_type": "code",
      "source": [
        "!g++ hw4_16.cpp -o hw4_16"
      ],
      "metadata": {
        "id": "GnPder8zHRfq"
      },
      "execution_count": null,
      "outputs": []
    },
    {
      "cell_type": "code",
      "source": [
        "!./hw4_16"
      ],
      "metadata": {
        "id": "RMl7F0RgHRfq"
      },
      "execution_count": null,
      "outputs": []
    },
    {
      "cell_type": "markdown",
      "source": [
        "### hw4_17.\t已知圓面積為![image.png](data:image/png;base64,iVBORw0KGgoAAAANSUhEUgAAACAAAAAZCAYAAABQDyyRAAAAAXNSR0ICQMB9xQAAAAlwSFlzAAAOxAAADsQBlSsOGwAAABl0RVh0U29mdHdhcmUATWljcm9zb2Z0IE9mZmljZX/tNXEAAAFISURBVEjH7ZaxbcMwEEVvAC9gIOfOA1iHlE5Js3BtRCJYJXBlMIUHoNUJCLyAO5WewZ4gG6TwBtkh8UlQwBhUQsFAGCAqDpAEivfu+P+BkOc5xAzoAf4FgLV6SAAnAHhHsVr/OoARYqGtHTJIAsmBn6MdQUa4lcZOogEoKR+WRTGIArBRNCe1mUdxAScHysogFxTFcjCj0Y5V6w3PRt/FSuDa/d/tgje5EOIpNXasiCwrlr9JxL0rni82M3KCAG8AdOL1Rt3e8/tluzvNgcq7pOxnApR7VzxeiPMao/VUGz1NAF/agIMAjKDHZoOMoPypGm7ziGY7mdq7qydhXb185op9w8PvbyhR1h27GoCraSpuU+8lcAhkEECV8EYem/OuKjvPb2vSsRBm0cVinQFqNeOrK57GQkjZtk2EIRrp7wM9QA/wZwE+AHBootNMqg1GAAAAAElFTkSuQmCC) ，試撰寫一程式，輸入圓的半徑，經計算後輸出圓面積。           \n",
        "\n",
        "```\n",
        "請輸入圓的半徑: 10\n",
        "圓面積為 314.159\n",
        "```\n"
      ],
      "metadata": {
        "id": "FNY-qqPrH6KV"
      }
    },
    {
      "cell_type": "code",
      "metadata": {
        "id": "_ajyRes-H6Kq"
      },
      "source": [
        "%%cuda\n",
        "// hw4_17, 班級: 資工一  學號: xxx 姓名: xxx\n",
        "#include <iostream>\n",
        "#include <cstdlib>\n",
        "using namespace std;\n",
        "int main(void)\n",
        "{\n",
        "\n",
        "\n",
        "\n",
        "\n",
        "\n",
        "\n",
        "   // system(\"pause\");\n",
        "   return 0;\n",
        "}\n",
        "\n",
        "/* output---------\n",
        "請輸入圓的半徑: 10\n",
        "圓面積為 314.159\n",
        "-----------------*/"
      ],
      "execution_count": null,
      "outputs": []
    },
    {
      "cell_type": "code",
      "source": [
        "%%writefile hw4_17.cpp\n",
        "// hw4_17, 班級: 資工一  學號: xxx 姓名: xxx\n",
        "#include <iostream>\n",
        "#include <cstdlib>\n",
        "using namespace std;\n",
        "int main(void)\n",
        "{\n",
        "\n",
        "\n",
        "\n",
        "\n",
        "\n",
        "\n",
        "   // system(\"pause\");\n",
        "   return 0;\n",
        "}\n",
        "\n",
        "/* output---------\n",
        "請輸入圓的半徑: 10\n",
        "圓面積為 314.159\n",
        "-----------------*/"
      ],
      "metadata": {
        "id": "u4bfF3qyH6Kr"
      },
      "execution_count": null,
      "outputs": []
    },
    {
      "cell_type": "code",
      "source": [
        "!g++ hw4_17.cpp -o hw4_17"
      ],
      "metadata": {
        "id": "ZnDg1va8H6Kr"
      },
      "execution_count": null,
      "outputs": []
    },
    {
      "cell_type": "code",
      "source": [
        "!./hw4_17"
      ],
      "metadata": {
        "id": "LygAV9vfH6Kr"
      },
      "execution_count": null,
      "outputs": []
    },
    {
      "cell_type": "markdown",
      "source": [
        "### hw4_22.\t如果想把36+59的運算結果轉換成長整數，程式碼應如何撰寫？。           \n",
        "\n",
        "```\n",
        "36+59=95\n",
        "```\n"
      ],
      "metadata": {
        "id": "cuRz4sG4Iscy"
      }
    },
    {
      "cell_type": "code",
      "metadata": {
        "id": "YkdSNPusIscz"
      },
      "source": [
        "%%cuda\n",
        "// hw4_22, 班級: 資工一  學號: xxx 姓名: xxx\n",
        "#include <iostream>\n",
        "#include <cstdlib>\n",
        "using namespace std;\n",
        "int main(void)\n",
        "{\n",
        "\n",
        "\n",
        "   // system(\"pause\");\n",
        "   return 0;\n",
        "}\n",
        "\n",
        "/* output---------\n",
        "36+59=95\n",
        "-----------------*/"
      ],
      "execution_count": null,
      "outputs": []
    },
    {
      "cell_type": "code",
      "source": [
        "%%writefile hw4_22.cpp\n",
        "// hw4_22, 班級: 資工一  學號: xxx 姓名: xxx\n",
        "#include <iostream>\n",
        "#include <cstdlib>\n",
        "using namespace std;\n",
        "int main(void)\n",
        "{\n",
        "\n",
        "\n",
        "\n",
        "\n",
        "\n",
        "\n",
        "   // system(\"pause\");\n",
        "   return 0;\n",
        "}\n",
        "\n",
        "/* output---------\n",
        "36+59=95\n",
        "-----------------*/"
      ],
      "metadata": {
        "id": "YmcB9T3PIscz"
      },
      "execution_count": null,
      "outputs": []
    },
    {
      "cell_type": "code",
      "source": [
        "!g++ hw4_22.cpp -o hw4_22"
      ],
      "metadata": {
        "id": "EDNLiGxcIsc0"
      },
      "execution_count": null,
      "outputs": []
    },
    {
      "cell_type": "code",
      "source": [
        "!./hw4_22"
      ],
      "metadata": {
        "id": "MJ75p3VVIsc0"
      },
      "execution_count": null,
      "outputs": []
    },
    {
      "cell_type": "markdown",
      "metadata": {
        "id": "JrbtBoIiWTUX"
      },
      "source": [
        "#**Reference**\n",
        "C++ Tutorial\n",
        "https://www.w3schools.com/cpp/cpp_strings.asp\n",
        "\n",
        "https://www.learn-cpp.org/en/Variables_and_Types\n",
        "\n",
        "How to Run CUDA C or C++ on Jupyter (Google Colab)\n",
        "\n",
        "https://www.wikihow.com/Run-CUDA-C-or-C%2B%2B-on-Jupyter-(Google-Colab)\n",
        "\n",
        "Code block\n",
        "http://www.codeblocks.org/downloads/26\n",
        "\n",
        "Freebootcamp\n",
        "https://www.freecodecamp.org/\n",
        "\n",
        "ntroduction to C++ Programming in Urdu\n",
        "https://www.youtube.com/watch?v=dnCO124Uk1o\n",
        "\n",
        "6 Sentiment Analysis Projects with Python\n",
        "\n",
        "https://amankharwal.medium.com/6-sentiment-analysis-projects-with-python-1fdd3d43d90f\n",
        "\n",
        "C++ 教學講義\n",
        "\n",
        "https://hackmd.io/@MECode/CPP"
      ]
    }
  ]
}